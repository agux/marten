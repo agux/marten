{
 "cells": [
  {
   "cell_type": "code",
   "execution_count": 2,
   "metadata": {},
   "outputs": [
    {
     "name": "stdout",
     "output_type": "stream",
     "text": [
      "String starts with prefix1\n",
      "String starts with prefix2\n",
      "String does not start with prefix1 or prefix2\n"
     ]
    }
   ],
   "source": [
    "def match_string(input_string):\n",
    "    match input_string:\n",
    "        case _ if input_string.startswith(\"prefix1\"):\n",
    "            print(\"String starts with prefix1\")\n",
    "        case _ if input_string.startswith(\"prefix2\"):\n",
    "            print(\"String starts with prefix2\")\n",
    "        case _:\n",
    "            print(\"String does not start with prefix1 or prefix2\")\n",
    "\n",
    "# Example usage\n",
    "match_string(\"prefix1_example\")\n",
    "match_string(\"prefix2_example\")\n",
    "match_string(\"other_example\")"
   ]
  },
  {
   "cell_type": "code",
   "execution_count": 2,
   "metadata": {},
   "outputs": [
    {
     "name": "stdout",
     "output_type": "stream",
     "text": [
      "4\n"
     ]
    }
   ],
   "source": [
    "import pandas as pd\n",
    "\n",
    "# Example DataFrame\n",
    "data = {\"A\": [1, 2, None, 4], \"B\": [None, 2, 3, 4], \"C\": [1, None, 3, None]}\n",
    "merged_df = pd.DataFrame(data)\n",
    "\n",
    "# List of column names\n",
    "covar_col = [\"A\", \"B\", \"C\"]\n",
    "# covar_col = \"A\"\n",
    "\n",
    "# Calculate total number of NaNs in specified columns\n",
    "total_nans = merged_df[covar_col].isna().sum().sum()\n",
    "\n",
    "print(total_nans)  # Output: 4"
   ]
  },
  {
   "cell_type": "code",
   "execution_count": 3,
   "metadata": {},
   "outputs": [
    {
     "data": {
      "text/plain": [
       "12"
      ]
     },
     "execution_count": 3,
     "metadata": {},
     "output_type": "execute_result"
    }
   ],
   "source": [
    "merged_df.shape[0] * merged_df.shape[1]"
   ]
  }
 ],
 "metadata": {
  "kernelspec": {
   "display_name": "venv_3.12.2",
   "language": "python",
   "name": "python3"
  },
  "language_info": {
   "codemirror_mode": {
    "name": "ipython",
    "version": 3
   },
   "file_extension": ".py",
   "mimetype": "text/x-python",
   "name": "python",
   "nbconvert_exporter": "python",
   "pygments_lexer": "ipython3",
   "version": "3.12.2"
  }
 },
 "nbformat": 4,
 "nbformat_minor": 2
}
