{
 "cells": [
  {
   "cell_type": "code",
   "execution_count": 50,
   "metadata": {},
   "outputs": [],
   "source": [
    "from dask.distributed import WorkerPlugin, get_worker, LocalCluster, Client, Variable\n",
    "import time\n",
    "from datetime import datetime, timedelta"
   ]
  },
  {
   "cell_type": "code",
   "execution_count": 2,
   "metadata": {},
   "outputs": [
    {
     "data": {
      "text/plain": [
       "{'tcp://127.0.0.1:60732': {'status': 'OK'}}"
      ]
     },
     "execution_count": 2,
     "metadata": {},
     "output_type": "execute_result"
    }
   ],
   "source": [
    "cluster = LocalCluster(\n",
    "        n_workers=1,\n",
    "        threads_per_worker=1,\n",
    "        processes=True,\n",
    "        # memory_limit=\"2GB\",\n",
    "    )\n",
    "client = Client(cluster)\n",
    "client.forward_logging()"
   ]
  },
  {
   "cell_type": "code",
   "execution_count": 39,
   "metadata": {},
   "outputs": [],
   "source": [
    "def dummy_task(n, var_st):\n",
    "    print(f\"task {n} begins...\")\n",
    "    st_dict = var_st.get()\n",
    "    st_dict[\"start_time\"] = datetime.now()\n",
    "    var_st.set(st_dict)\n",
    "    time.sleep(300)\n",
    "    print(f\"task {n} finished\")"
   ]
  },
  {
   "cell_type": "code",
   "execution_count": 40,
   "metadata": {},
   "outputs": [],
   "source": [
    "vars = []\n",
    "future_dict = {}\n",
    "\n",
    "symbol = 1\n",
    "var_st = Variable()\n",
    "var_st.set({\"symbol\":symbol})\n",
    "vars.append(var_st)\n",
    "future_dict[symbol] = client.submit(dummy_task, symbol, var_st)"
   ]
  },
  {
   "cell_type": "code",
   "execution_count": 41,
   "metadata": {},
   "outputs": [],
   "source": [
    "symbol = 2\n",
    "var_st = Variable()\n",
    "var_st.set({\"symbol\": symbol})\n",
    "vars.append(var_st)\n",
    "future_dict[symbol] = client.submit(dummy_task, symbol, var_st)"
   ]
  },
  {
   "cell_type": "code",
   "execution_count": 42,
   "metadata": {},
   "outputs": [],
   "source": [
    "symbol = 3\n",
    "var_st = Variable()\n",
    "var_st.set({\"symbol\": symbol})\n",
    "vars.append(var_st)\n",
    "future_dict[symbol] = client.submit(dummy_task, symbol, var_st)"
   ]
  },
  {
   "cell_type": "code",
   "execution_count": 79,
   "metadata": {},
   "outputs": [
    {
     "name": "stdout",
     "output_type": "stream",
     "text": [
      "task 3 finished\n"
     ]
    },
    {
     "name": "stderr",
     "output_type": "stream",
     "text": [
      "2024-04-23 19:58:19,579 - distributed.worker - WARNING - Scheduler was unaware of this worker; shutting down.\n",
      "2024-04-23 19:58:19,695 - distributed.core - INFO - Connection to tcp://127.0.0.1:60727 has been closed.\n"
     ]
    }
   ],
   "source": [
    "for v in vars:\n",
    "    try:\n",
    "        vd = v.get(\"200ms\")\n",
    "        print(vd)\n",
    "        if not \"start_time\" in vd:\n",
    "            continue\n",
    "        if vd[\"start_time\"] + timedelta(seconds=60) <= datetime.now():\n",
    "            ## the task is timeout. check future status. if it's still processing, cancel it.\n",
    "            symbol = vd[\"symbol\"]\n",
    "            future = future_dict[symbol]\n",
    "            if not future.done():\n",
    "                print(f\"cancelling task {symbol}\")\n",
    "                future.cancel()\n",
    "            v.delete()\n",
    "            vars.remove(v)\n",
    "    except TimeoutError as e:\n",
    "        print('normal timeout')\n",
    "        vars.remove(v)"
   ]
  },
  {
   "cell_type": "code",
   "execution_count": 1,
   "metadata": {},
   "outputs": [
    {
     "name": "stdout",
     "output_type": "stream",
     "text": [
      "List of dictionaries: [{'ar_layer_spec': [4, 15], 'ar_reg': 49.16784, 'batch_size': 300, 'growth': 'discontinuous', 'lagged_reg_layer_spec': [256, 3], 'n_lags': 19, 'normalize': 'soft1', 'optimizer': 'SGD', 'seasonality_mode': 'additive', 'seasonality_reg': 47.37235, 'topk_covar': 295, 'trend_reg': 63.65796, 'yearly_seasonality': 21}, {'ar_layer_spec': [32, 34], 'ar_reg': 52.31495, 'batch_size': 400, 'growth': 'discontinuous', 'lagged_reg_layer_spec': [512, 42], 'n_lags': 29, 'normalize': 'soft', 'optimizer': 'SGD', 'seasonality_mode': 'multiplicative', 'seasonality_reg': 25.50586, 'topk_covar': 537, 'trend_reg': 75.50941, 'yearly_seasonality': 29}]\n",
      "List of None elements: [1.2, 2.3]\n"
     ]
    }
   ],
   "source": [
    "# Sample list of tuples\n",
    "tuples_list = [\n",
    "    (\n",
    "        {\n",
    "            \"ar_layer_spec\": [4, 15],\n",
    "            \"ar_reg\": 49.16784,\n",
    "            \"batch_size\": 300,\n",
    "            \"growth\": \"discontinuous\",\n",
    "            \"lagged_reg_layer_spec\": [256, 3],\n",
    "            \"n_lags\": 19,\n",
    "            \"normalize\": \"soft1\",\n",
    "            \"optimizer\": \"SGD\",\n",
    "            \"seasonality_mode\": \"additive\",\n",
    "            \"seasonality_reg\": 47.37235,\n",
    "            \"topk_covar\": 295,\n",
    "            \"trend_reg\": 63.65796,\n",
    "            \"yearly_seasonality\": 21,\n",
    "        },\n",
    "        1.2,\n",
    "    ),\n",
    "    (\n",
    "        {\n",
    "            \"ar_layer_spec\": [32, 34],\n",
    "            \"ar_reg\": 52.31495,\n",
    "            \"batch_size\": 400,\n",
    "            \"growth\": \"discontinuous\",\n",
    "            \"lagged_reg_layer_spec\": [512, 42],\n",
    "            \"n_lags\": 29,\n",
    "            \"normalize\": \"soft\",\n",
    "            \"optimizer\": \"SGD\",\n",
    "            \"seasonality_mode\": \"multiplicative\",\n",
    "            \"seasonality_reg\": 25.50586,\n",
    "            \"topk_covar\": 537,\n",
    "            \"trend_reg\": 75.50941,\n",
    "            \"yearly_seasonality\": 29,\n",
    "        },\n",
    "        2.3,\n",
    "    ),\n",
    "]\n",
    "\n",
    "# Unpack the list of tuples and use zip to transpose\n",
    "dicts, nones = zip(*tuples_list)\n",
    "\n",
    "# Convert the resulting tuples to lists\n",
    "list_dicts = list(dicts)\n",
    "list_nones = list(nones)\n",
    "\n",
    "# Output the results\n",
    "print(\"List of dictionaries:\", list_dicts)\n",
    "print(\"List of None elements:\", list_nones)"
   ]
  }
 ],
 "metadata": {
  "kernelspec": {
   "display_name": "venv_3.12.2",
   "language": "python",
   "name": "python3"
  },
  "language_info": {
   "codemirror_mode": {
    "name": "ipython",
    "version": 3
   },
   "file_extension": ".py",
   "mimetype": "text/x-python",
   "name": "python",
   "nbconvert_exporter": "python",
   "pygments_lexer": "ipython3",
   "version": "3.12.2"
  }
 },
 "nbformat": 4,
 "nbformat_minor": 2
}
