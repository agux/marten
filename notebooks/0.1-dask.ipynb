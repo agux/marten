{
 "cells": [
  {
   "cell_type": "code",
   "execution_count": 50,
   "metadata": {},
   "outputs": [],
   "source": [
    "from dask.distributed import WorkerPlugin, get_worker, LocalCluster, Client, Variable\n",
    "import time\n",
    "from datetime import datetime, timedelta"
   ]
  },
  {
   "cell_type": "code",
   "execution_count": 2,
   "metadata": {},
   "outputs": [
    {
     "data": {
      "text/plain": [
       "{'tcp://127.0.0.1:60732': {'status': 'OK'}}"
      ]
     },
     "execution_count": 2,
     "metadata": {},
     "output_type": "execute_result"
    }
   ],
   "source": [
    "cluster = LocalCluster(\n",
    "        n_workers=1,\n",
    "        threads_per_worker=1,\n",
    "        processes=True,\n",
    "        # memory_limit=\"2GB\",\n",
    "    )\n",
    "client = Client(cluster)\n",
    "client.forward_logging()"
   ]
  },
  {
   "cell_type": "code",
   "execution_count": 39,
   "metadata": {},
   "outputs": [],
   "source": [
    "def dummy_task(n, var_st):\n",
    "    print(f\"task {n} begins...\")\n",
    "    st_dict = var_st.get()\n",
    "    st_dict[\"start_time\"] = datetime.now()\n",
    "    var_st.set(st_dict)\n",
    "    time.sleep(300)\n",
    "    print(f\"task {n} finished\")"
   ]
  },
  {
   "cell_type": "code",
   "execution_count": 40,
   "metadata": {},
   "outputs": [],
   "source": [
    "vars = []\n",
    "future_dict = {}\n",
    "\n",
    "symbol = 1\n",
    "var_st = Variable()\n",
    "var_st.set({\"symbol\":symbol})\n",
    "vars.append(var_st)\n",
    "future_dict[symbol] = client.submit(dummy_task, symbol, var_st)"
   ]
  },
  {
   "cell_type": "code",
   "execution_count": 41,
   "metadata": {},
   "outputs": [],
   "source": [
    "symbol = 2\n",
    "var_st = Variable()\n",
    "var_st.set({\"symbol\": symbol})\n",
    "vars.append(var_st)\n",
    "future_dict[symbol] = client.submit(dummy_task, symbol, var_st)"
   ]
  },
  {
   "cell_type": "code",
   "execution_count": 42,
   "metadata": {},
   "outputs": [],
   "source": [
    "symbol = 3\n",
    "var_st = Variable()\n",
    "var_st.set({\"symbol\": symbol})\n",
    "vars.append(var_st)\n",
    "future_dict[symbol] = client.submit(dummy_task, symbol, var_st)"
   ]
  },
  {
   "cell_type": "code",
   "execution_count": 79,
   "metadata": {},
   "outputs": [
    {
     "name": "stdout",
     "output_type": "stream",
     "text": [
      "task 3 finished\n"
     ]
    }
   ],
   "source": [
    "for v in vars:\n",
    "    try:\n",
    "        vd = v.get(\"200ms\")\n",
    "        print(vd)\n",
    "        if not \"start_time\" in vd:\n",
    "            continue\n",
    "        if vd[\"start_time\"] + timedelta(seconds=60) <= datetime.now():\n",
    "            ## the task is timeout. check future status. if it's still processing, cancel it.\n",
    "            symbol = vd[\"symbol\"]\n",
    "            future = future_dict[symbol]\n",
    "            if not future.done():\n",
    "                print(f\"cancelling task {symbol}\")\n",
    "                future.cancel()\n",
    "            v.delete()\n",
    "            vars.remove(v)\n",
    "    except TimeoutError as e:\n",
    "        print('normal timeout')\n",
    "        vars.remove(v)"
   ]
  }
 ],
 "metadata": {
  "kernelspec": {
   "display_name": "venv_3.12.2",
   "language": "python",
   "name": "python3"
  },
  "language_info": {
   "codemirror_mode": {
    "name": "ipython",
    "version": 3
   },
   "file_extension": ".py",
   "mimetype": "text/x-python",
   "name": "python",
   "nbconvert_exporter": "python",
   "pygments_lexer": "ipython3",
   "version": "3.12.2"
  }
 },
 "nbformat": 4,
 "nbformat_minor": 2
}
