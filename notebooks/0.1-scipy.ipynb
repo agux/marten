{
 "cells": [
  {
   "cell_type": "code",
   "execution_count": null,
   "metadata": {},
   "outputs": [],
   "source": [
    "import random\n",
    "import numpy as np\n",
    "import secrets\n",
    "\n",
    "# Example list\n",
    "my_list = [1, 2, 3, 4, 5, 6, 7, 8, 9, 10]\n",
    "\n",
    "# 1. Using random.choice()\n",
    "single_random_element = random.choice(my_list)\n",
    "print(f\"Single random element using random.choice(): {single_random_element}\")\n",
    "\n",
    "# 2. Using random.choices()\n",
    "multiple_random_elements_with_replacement = random.choices(my_list, k=3)\n",
    "print(\n",
    "    f\"Multiple random elements with replacement using random.choices(): {multiple_random_elements_with_replacement}\"\n",
    ")\n",
    "\n",
    "# 3. Using random.sample()\n",
    "multiple_random_elements_without_replacement = random.sample(my_list, 3)\n",
    "print(\n",
    "    f\"Multiple random elements without replacement using random.sample(): {multiple_random_elements_without_replacement}\"\n",
    ")\n",
    "\n",
    "# 4. Using numpy.random.choice()\n",
    "single_random_element_np = np.random.choice(my_list)\n",
    "print(f\"Single random element using numpy.random.choice(): {single_random_element_np}\")\n",
    "\n",
    "multiple_random_elements_np_with_replacement = np.random.choice(\n",
    "    my_list, size=3, replace=True\n",
    ")\n",
    "print(\n",
    "    f\"Multiple random elements with replacement using numpy.random.choice(): {multiple_random_elements_np_with_replacement}\"\n",
    ")\n",
    "\n",
    "multiple_random_elements_np_without_replacement = np.random.choice(\n",
    "    my_list, size=3, replace=False\n",
    ")\n",
    "print(\n",
    "    f\"Multiple random elements without replacement using numpy.random.choice(): {multiple_random_elements_np_without_replacement}\"\n",
    ")\n",
    "\n",
    "# 5. Using secrets.choice()\n",
    "single_random_element_secure = secrets.choice(my_list)\n",
    "print(f\"Single random element using secrets.choice(): {single_random_element_secure}\")"
   ]
  },
  {
   "cell_type": "code",
   "execution_count": 1,
   "metadata": {},
   "outputs": [
    {
     "name": "stdout",
     "output_type": "stream",
     "text": [
      "Random samples from the multivariate t-distribution:\n",
      "[[-0.66775759 -3.30307101]\n",
      " [-1.31635278 -1.53097938]\n",
      " [ 0.38117213  1.64253909]\n",
      " ...\n",
      " [ 0.36587567 -0.07496254]\n",
      " [ 2.99936937  0.21230092]\n",
      " [ 0.75114847  0.47291609]]\n",
      "PDF value at point [0 0]: 0.1837762984739307\n"
     ]
    }
   ],
   "source": [
    "import numpy as np\n",
    "from scipy.stats import multivariate_t\n",
    "\n",
    "# Define the parameters of the multivariate t-distribution\n",
    "mean = np.array([0, 0])  # Mean vector\n",
    "scale_matrix = np.array([[1, 0.5], [0.5, 1]])  # Scale matrix (covariance matrix)\n",
    "df = 5  # Degrees of freedom\n",
    "\n",
    "# Generate random samples from the multivariate t-distribution\n",
    "num_samples = 1000\n",
    "samples = multivariate_t.rvs(loc=mean, shape=scale_matrix, df=df, size=num_samples)\n",
    "\n",
    "print(f\"Random samples from the multivariate t-distribution:\\n{samples}\")\n",
    "\n",
    "# Calculate the PDF at a given point\n",
    "point = np.array([0, 0])\n",
    "pdf_value = multivariate_t.pdf(point, loc=mean, shape=scale_matrix, df=df)\n",
    "\n",
    "print(f\"PDF value at point {point}: {pdf_value}\")"
   ]
  },
  {
   "cell_type": "code",
   "execution_count": 179,
   "metadata": {},
   "outputs": [
    {
     "name": "stdout",
     "output_type": "stream",
     "text": [
      "Random samples from the Dirichlet distribution:\n",
      "[[0.21250854 0.04071029 0.10598189 0.55340819 0.08029092 0.00710017]]\n",
      "top 3 element indices: [3, 0, 2]\n",
      "top 3 elements: ['d', 'a', 'c']\n"
     ]
    }
   ],
   "source": [
    "import numpy as np\n",
    "from scipy.stats import dirichlet\n",
    "import heapq\n",
    "\n",
    "# Define the concentration parameter vector\n",
    "alpha = [1.0, 1.0, 1.0, 1.0, 1.0, 1.0]\n",
    "\n",
    "# Generate random samples from the Dirichlet distribution\n",
    "num_samples = 5\n",
    "d = dirichlet(alpha)\n",
    "samples = d.rvs(size=1)\n",
    "\n",
    "print(f\"Random samples from the Dirichlet distribution:\\n{samples}\")\n",
    "\n",
    "k = 3\n",
    "\n",
    "# Pair each element with its index and sort by the element in descending order\n",
    "sorted_pairs = sorted(enumerate(samples[0]), key=lambda x: x[1], reverse=True)\n",
    "\n",
    "# Extract the indices of the top-k elements\n",
    "top_k_indices = [index for index, _ in sorted_pairs[:k]]\n",
    "print(f\"top {k} element indices: {top_k_indices}\")\n",
    "\n",
    "target_list = [\"a\", \"b\", \"c\", \"d\", \"e\", \"f\"]\n",
    "# use the top_k_indices to extract the elements from target_list\n",
    "top_k_elements = [target_list[i] for i in top_k_indices]\n",
    "print(f\"top {k} elements: {top_k_elements}\")\n",
    "\n",
    "\n",
    "# # Calculate the PDF at a given point\n",
    "# point = np.array([0.2, 0.3, 0.5])\n",
    "# pdf_value = dirichlet.pdf(point, alpha)\n",
    "\n",
    "# print(f\"PDF value at point {point}: {pdf_value}\")"
   ]
  },
  {
   "cell_type": "code",
   "execution_count": 39,
   "metadata": {},
   "outputs": [
    {
     "name": "stdout",
     "output_type": "stream",
     "text": [
      "Random sample from the multinomial distribution: [[0 2 1]]\n",
      "Probability of the outcome [2, 3, 5]: 0.0\n"
     ]
    }
   ],
   "source": [
    "import numpy as np\n",
    "from scipy.stats import multinomial\n",
    "\n",
    "# Parameters\n",
    "n = 3  # Number of trials\n",
    "p = [0.3, 0.3, 0.3]  # Probabilities of each category\n",
    "\n",
    "# Generate a random sample\n",
    "sample = multinomial.rvs(n, p, size=1)\n",
    "print(f\"Random sample from the multinomial distribution: {sample}\")\n",
    "\n",
    "# Calculate the probability of a specific outcome\n",
    "outcome = [2, 3, 5]\n",
    "probability = multinomial.pmf(outcome, n, p)\n",
    "print(f\"Probability of the outcome {outcome}: {probability}\")"
   ]
  },
  {
   "cell_type": "code",
   "execution_count": 156,
   "metadata": {},
   "outputs": [
    {
     "name": "stdout",
     "output_type": "stream",
     "text": [
      "Random sample from the multivariate hypergeometric distribution: [[1 4 2 3 2 2 1 1 3 1]]\n",
      "8\n"
     ]
    }
   ],
   "source": [
    "import numpy as np\n",
    "import random\n",
    "from scipy.stats import multivariate_hypergeom\n",
    "\n",
    "# Parameters\n",
    "n_cov_symbols = 10\n",
    "M = [n_cov_symbols] * n_cov_symbols  # Population sizes for each category\n",
    "n = n_cov_symbols*2  # Number of draws\n",
    "\n",
    "mh = multivariate_hypergeom(M, n)\n",
    "\n",
    "# Generate a random sample\n",
    "sample = mh.rvs(size=1)\n",
    "print(f\"Random sample from the multivariate hypergeometric distribution: {sample}\")\n",
    "print(random.randint(0, n_cov_symbols))\n",
    "\n",
    "# Calculate the probability of a specific outcome\n",
    "# outcome = [3, 5, 7]\n",
    "# probability = multivariate_hypergeom.pmf(outcome, M, n)\n",
    "# print(f\"Probability of the outcome {outcome}: {probability}\")"
   ]
  },
  {
   "cell_type": "code",
   "execution_count": 131,
   "metadata": {},
   "outputs": [
    {
     "name": "stdout",
     "output_type": "stream",
     "text": [
      "Random samples from the multivariate Poisson distribution:\n",
      "[[3 3 4]\n",
      " [2 3 4]\n",
      " [3 2 5]\n",
      " [4 1 5]\n",
      " [5 2 7]]\n"
     ]
    }
   ],
   "source": [
    "import numpy as np\n",
    "\n",
    "# Parameters\n",
    "lambda_ = [3, 4, 5]  # Mean rates for each category\n",
    "\n",
    "# Generate random samples for each category\n",
    "samples = [np.random.poisson(lam, size=1000) for lam in lambda_]\n",
    "\n",
    "# Combine the samples into a multivariate sample\n",
    "multivariate_samples = np.vstack(samples).T\n",
    "print(\n",
    "    f\"Random samples from the multivariate Poisson distribution:\\n{multivariate_samples[:5]}\"\n",
    ")"
   ]
  }
 ],
 "metadata": {
  "kernelspec": {
   "display_name": "venv_3.12.2",
   "language": "python",
   "name": "python3"
  },
  "language_info": {
   "codemirror_mode": {
    "name": "ipython",
    "version": 3
   },
   "file_extension": ".py",
   "mimetype": "text/x-python",
   "name": "python",
   "nbconvert_exporter": "python",
   "pygments_lexer": "ipython3",
   "version": "3.12.2"
  }
 },
 "nbformat": 4,
 "nbformat_minor": 2
}
