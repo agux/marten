{
 "cells": [
  {
   "cell_type": "markdown",
   "metadata": {},
   "source": [
    "## Init"
   ]
  },
  {
   "cell_type": "code",
   "execution_count": 1,
   "metadata": {},
   "outputs": [],
   "source": [
    "import os\n",
    "os.environ[\"NIXTLA_ID_AS_COL\"] = \"True\"\n",
    "import logging\n",
    "import pandas as pd\n",
    "import numpy as np\n",
    "\n",
    "from dotenv import load_dotenv\n",
    "from sqlalchemy import create_engine\n",
    "\n",
    "from neuralforecast import NeuralForecast # type: ignore\n",
    "from neuralforecast.models import TSMixerx, BiTCN, Autoformer, DeepAR, DeepNPTS, DilatedRNN, FEDformer, GRU, NHITS  # type: ignore\n",
    "from neuralforecast.losses.pytorch import MAE, RMSE, HuberLoss, DistributionLoss, GMM, sCRPS  # type: ignore"
   ]
  },
  {
   "cell_type": "code",
   "execution_count": 2,
   "metadata": {},
   "outputs": [],
   "source": [
    "load_dotenv()  # take environment variables from .env.\n",
    "\n",
    "DB_USER = os.getenv(\"DB_USER\")\n",
    "DB_PASSWORD = os.getenv(\"DB_PASSWORD\")\n",
    "DB_HOST = os.getenv(\"DB_HOST\")\n",
    "DB_PORT = os.getenv(\"DB_PORT\")\n",
    "DB_NAME = os.getenv(\"DB_NAME\")\n",
    "db_url = f\"postgresql+psycopg2://{DB_USER}:{DB_PASSWORD}@{DB_HOST}:{DB_PORT}/{DB_NAME}\"\n",
    "\n",
    "alchemyEngine = create_engine(\n",
    "    db_url,\n",
    "    pool_recycle=3600,\n",
    ")"
   ]
  },
  {
   "cell_type": "code",
   "execution_count": 3,
   "metadata": {},
   "outputs": [],
   "source": [
    "# query = \"\"\"\n",
    "# with cte as (\n",
    "# SELECT \"date\", \"open\", \"close\", high, low, volume, amount, open_preclose_rate, high_preclose_rate, low_preclose_rate, vol_change_rate, amt_change_rate, change_rate\n",
    "# FROM index_daily_em_view\n",
    "# where symbol = '399673'\n",
    "# order by date desc\n",
    "# limit 1200\n",
    "# ) select * from cte order by date\n",
    "# \"\"\"\n",
    "query = \"\"\"\n",
    "with cte as (\n",
    "SELECT \"date\", \"open\", \"close\", high, low, volume, amount, open_preclose_rate, high_preclose_rate, low_preclose_rate, vol_change_rate, amt_change_rate, change_rate\n",
    "FROM index_daily_em_view \n",
    "where symbol = '399673'\n",
    "and change_rate is not null\n",
    ") select * from cte order by date\n",
    "\"\"\"\n",
    "\n",
    "raw_df = pd.read_sql(query, alchemyEngine, parse_dates=[\"date\"])"
   ]
  },
  {
   "cell_type": "code",
   "execution_count": 4,
   "metadata": {},
   "outputs": [],
   "source": [
    "df = raw_df.rename(columns={\"date\":\"ds\", \"change_rate\":\"y\"})\n",
    "df.insert(0, \"unique_id\", \"399673\")"
   ]
  },
  {
   "cell_type": "code",
   "execution_count": 5,
   "metadata": {},
   "outputs": [
    {
     "name": "stdout",
     "output_type": "stream",
     "text": [
      "<class 'pandas.core.frame.DataFrame'>\n",
      "RangeIndex: 3005 entries, 0 to 3004\n",
      "Data columns (total 14 columns):\n",
      " #   Column              Non-Null Count  Dtype         \n",
      "---  ------              --------------  -----         \n",
      " 0   unique_id           3005 non-null   object        \n",
      " 1   ds                  3005 non-null   datetime64[ns]\n",
      " 2   open                2626 non-null   float64       \n",
      " 3   close               2626 non-null   float64       \n",
      " 4   high                2626 non-null   float64       \n",
      " 5   low                 2626 non-null   float64       \n",
      " 6   volume              2626 non-null   float64       \n",
      " 7   amount              2626 non-null   float64       \n",
      " 8   open_preclose_rate  3005 non-null   float64       \n",
      " 9   high_preclose_rate  3005 non-null   float64       \n",
      " 10  low_preclose_rate   3005 non-null   float64       \n",
      " 11  vol_change_rate     3005 non-null   float64       \n",
      " 12  amt_change_rate     3005 non-null   float64       \n",
      " 13  y                   3005 non-null   float64       \n",
      "dtypes: datetime64[ns](1), float64(12), object(1)\n",
      "memory usage: 328.8+ KB\n"
     ]
    }
   ],
   "source": [
    "df.info()"
   ]
  },
  {
   "cell_type": "code",
   "execution_count": 6,
   "metadata": {},
   "outputs": [
    {
     "data": {
      "text/plain": [
       "3005"
      ]
     },
     "execution_count": 6,
     "metadata": {},
     "output_type": "execute_result"
    }
   ],
   "source": [
    "len(df)"
   ]
  },
  {
   "cell_type": "code",
   "execution_count": 7,
   "metadata": {},
   "outputs": [
    {
     "data": {
      "text/html": [
       "<div>\n",
       "<style scoped>\n",
       "    .dataframe tbody tr th:only-of-type {\n",
       "        vertical-align: middle;\n",
       "    }\n",
       "\n",
       "    .dataframe tbody tr th {\n",
       "        vertical-align: top;\n",
       "    }\n",
       "\n",
       "    .dataframe thead th {\n",
       "        text-align: right;\n",
       "    }\n",
       "</style>\n",
       "<table border=\"1\" class=\"dataframe\">\n",
       "  <thead>\n",
       "    <tr style=\"text-align: right;\">\n",
       "      <th></th>\n",
       "      <th>unique_id</th>\n",
       "      <th>ds</th>\n",
       "      <th>open</th>\n",
       "      <th>close</th>\n",
       "      <th>high</th>\n",
       "      <th>low</th>\n",
       "      <th>volume</th>\n",
       "      <th>amount</th>\n",
       "      <th>open_preclose_rate</th>\n",
       "      <th>high_preclose_rate</th>\n",
       "      <th>low_preclose_rate</th>\n",
       "      <th>vol_change_rate</th>\n",
       "      <th>amt_change_rate</th>\n",
       "      <th>y</th>\n",
       "    </tr>\n",
       "  </thead>\n",
       "  <tbody>\n",
       "    <tr>\n",
       "      <th>3000</th>\n",
       "      <td>399673</td>\n",
       "      <td>2025-03-28</td>\n",
       "      <td>2113.21</td>\n",
       "      <td>2103.56</td>\n",
       "      <td>2126.10</td>\n",
       "      <td>2103.56</td>\n",
       "      <td>10223911.0</td>\n",
       "      <td>4.422033e+10</td>\n",
       "      <td>-0.32781</td>\n",
       "      <td>0.28017</td>\n",
       "      <td>-0.78296</td>\n",
       "      <td>-9.53574</td>\n",
       "      <td>-11.60914</td>\n",
       "      <td>-0.78296</td>\n",
       "    </tr>\n",
       "    <tr>\n",
       "      <th>3001</th>\n",
       "      <td>399673</td>\n",
       "      <td>2025-03-31</td>\n",
       "      <td>2093.90</td>\n",
       "      <td>2077.69</td>\n",
       "      <td>2098.17</td>\n",
       "      <td>2062.05</td>\n",
       "      <td>11756634.0</td>\n",
       "      <td>5.085548e+10</td>\n",
       "      <td>-0.45922</td>\n",
       "      <td>-0.25623</td>\n",
       "      <td>-1.97332</td>\n",
       "      <td>14.99155</td>\n",
       "      <td>15.00475</td>\n",
       "      <td>-1.22982</td>\n",
       "    </tr>\n",
       "    <tr>\n",
       "      <th>3002</th>\n",
       "      <td>399673</td>\n",
       "      <td>2025-04-01</td>\n",
       "      <td>2082.94</td>\n",
       "      <td>2070.10</td>\n",
       "      <td>2098.91</td>\n",
       "      <td>2069.13</td>\n",
       "      <td>13324559.0</td>\n",
       "      <td>5.400614e+10</td>\n",
       "      <td>0.25268</td>\n",
       "      <td>1.02133</td>\n",
       "      <td>-0.41200</td>\n",
       "      <td>13.33651</td>\n",
       "      <td>6.19532</td>\n",
       "      <td>-0.36531</td>\n",
       "    </tr>\n",
       "    <tr>\n",
       "      <th>3003</th>\n",
       "      <td>399673</td>\n",
       "      <td>2025-04-02</td>\n",
       "      <td>2073.04</td>\n",
       "      <td>2074.17</td>\n",
       "      <td>2092.59</td>\n",
       "      <td>2066.08</td>\n",
       "      <td>9628952.0</td>\n",
       "      <td>4.207558e+10</td>\n",
       "      <td>0.14202</td>\n",
       "      <td>1.08642</td>\n",
       "      <td>-0.19419</td>\n",
       "      <td>-27.73530</td>\n",
       "      <td>-22.09112</td>\n",
       "      <td>0.19661</td>\n",
       "    </tr>\n",
       "    <tr>\n",
       "      <th>3004</th>\n",
       "      <td>399673</td>\n",
       "      <td>2025-04-03</td>\n",
       "      <td>2045.93</td>\n",
       "      <td>2029.08</td>\n",
       "      <td>2064.11</td>\n",
       "      <td>2021.85</td>\n",
       "      <td>12854259.0</td>\n",
       "      <td>5.880512e+10</td>\n",
       "      <td>-1.36151</td>\n",
       "      <td>-0.48501</td>\n",
       "      <td>-2.52245</td>\n",
       "      <td>33.49593</td>\n",
       "      <td>39.76068</td>\n",
       "      <td>-2.17388</td>\n",
       "    </tr>\n",
       "  </tbody>\n",
       "</table>\n",
       "</div>"
      ],
      "text/plain": [
       "     unique_id         ds     open    close     high      low      volume  \\\n",
       "3000    399673 2025-03-28  2113.21  2103.56  2126.10  2103.56  10223911.0   \n",
       "3001    399673 2025-03-31  2093.90  2077.69  2098.17  2062.05  11756634.0   \n",
       "3002    399673 2025-04-01  2082.94  2070.10  2098.91  2069.13  13324559.0   \n",
       "3003    399673 2025-04-02  2073.04  2074.17  2092.59  2066.08   9628952.0   \n",
       "3004    399673 2025-04-03  2045.93  2029.08  2064.11  2021.85  12854259.0   \n",
       "\n",
       "            amount  open_preclose_rate  high_preclose_rate  low_preclose_rate  \\\n",
       "3000  4.422033e+10            -0.32781             0.28017           -0.78296   \n",
       "3001  5.085548e+10            -0.45922            -0.25623           -1.97332   \n",
       "3002  5.400614e+10             0.25268             1.02133           -0.41200   \n",
       "3003  4.207558e+10             0.14202             1.08642           -0.19419   \n",
       "3004  5.880512e+10            -1.36151            -0.48501           -2.52245   \n",
       "\n",
       "      vol_change_rate  amt_change_rate        y  \n",
       "3000         -9.53574        -11.60914 -0.78296  \n",
       "3001         14.99155         15.00475 -1.22982  \n",
       "3002         13.33651          6.19532 -0.36531  \n",
       "3003        -27.73530        -22.09112  0.19661  \n",
       "3004         33.49593         39.76068 -2.17388  "
      ]
     },
     "execution_count": 7,
     "metadata": {},
     "output_type": "execute_result"
    }
   ],
   "source": [
    "df.tail()"
   ]
  },
  {
   "cell_type": "code",
   "execution_count": 6,
   "metadata": {},
   "outputs": [],
   "source": [
    "from utilsforecast.losses import mae, mse, rmse\n",
    "from utilsforecast.evaluation import evaluate\n",
    "\n",
    "def evaluate_cross_validation(df, metric):\n",
    "    models = df.drop(columns=[\"unique_id\", \"ds\", \"cutoff\", \"y\"]).columns.tolist()\n",
    "    evals = []\n",
    "    # Calculate loss for every unique_id and cutoff.\n",
    "    for cutoff in df[\"cutoff\"].unique():\n",
    "        eval_ = evaluate(df[df[\"cutoff\"] == cutoff], metrics=[metric], models=models)\n",
    "        evals.append(eval_)\n",
    "    evals = pd.concat(evals)\n",
    "    evals = evals.groupby(\"unique_id\").mean(\n",
    "        numeric_only=True\n",
    "    )  # Averages the error metrics for all cutoffs for every combination of model and unique_id\n",
    "    evals[\"best_model\"] = evals.idxmin(axis=1)\n",
    "    return evals"
   ]
  },
  {
   "cell_type": "code",
   "execution_count": 7,
   "metadata": {},
   "outputs": [],
   "source": [
    "def train_and_evaluate(model, df_train):\n",
    "    from IPython.display import display\n",
    "\n",
    "    seed_logger = logging.getLogger(\"lightning_fabric.utilities.seed\")\n",
    "    orig_seed_log_level = seed_logger.getEffectiveLevel()\n",
    "    seed_logger.setLevel(logging.FATAL)\n",
    "\n",
    "    nf = NeuralForecast(\n",
    "        models=[model],\n",
    "        freq=\"B\",\n",
    "        local_scaler_type=\"standard\",\n",
    "    )\n",
    "\n",
    "    seed_logger.setLevel(orig_seed_log_level)\n",
    "\n",
    "    validate = True\n",
    "    val_size = min(300, int(len(df_train) * 0.9)) if validate else 0\n",
    "    nf.fit(df_train, val_size=val_size, use_init_models=True)\n",
    "\n",
    "    train_losses = nf.models[0].train_trajectories\n",
    "    valid_losses = nf.models[0].valid_trajectories\n",
    "\n",
    "    print(f\"train_loss: {min(train_losses, key=lambda x: x[1])[1]:.5f}\")\n",
    "    print(f\"valid_loss: {min(valid_losses, key=lambda x: x[1])[1]:.5f}\")\n",
    "\n",
    "    forecast = nf.predict_insample()\n",
    "    forecast.reset_index(inplace=True)\n",
    "    evaluation_df = evaluate_cross_validation(forecast[:-val_size], mae)\n",
    "    print(\"training MAE:\")\n",
    "    display(evaluation_df)\n",
    "\n",
    "    evaluation_df = evaluate_cross_validation(forecast[-val_size:], mae)\n",
    "    print(\"validation MAE:\")\n",
    "    display(evaluation_df)\n",
    "\n",
    "    return nf"
   ]
  },
  {
   "cell_type": "code",
   "execution_count": 10,
   "metadata": {},
   "outputs": [],
   "source": [
    "df_train = df"
   ]
  },
  {
   "cell_type": "code",
   "execution_count": 11,
   "metadata": {},
   "outputs": [
    {
     "data": {
      "text/plain": [
       "3005"
      ]
     },
     "execution_count": 11,
     "metadata": {},
     "output_type": "execute_result"
    }
   ],
   "source": [
    "len(df_train)"
   ]
  },
  {
   "cell_type": "code",
   "execution_count": 12,
   "metadata": {},
   "outputs": [],
   "source": [
    "exog = [\n",
    "    \"open\",\n",
    "    \"close\",\n",
    "    \"high\",\n",
    "    \"low\",\n",
    "    \"volume\",\n",
    "    \"amount\",\n",
    "    \"open_preclose_rate\",\n",
    "    \"high_preclose_rate\",\n",
    "    \"low_preclose_rate\",\n",
    "    \"vol_change_rate\",\n",
    "    \"amt_change_rate\",\n",
    "]"
   ]
  },
  {
   "cell_type": "markdown",
   "metadata": {},
   "source": [
    "## TSMixerx (0.81)"
   ]
  },
  {
   "cell_type": "code",
   "execution_count": 9,
   "metadata": {},
   "outputs": [
    {
     "name": "stdout",
     "output_type": "stream",
     "text": [
      "<class 'pandas.core.frame.DataFrame'>\n",
      "RangeIndex: 1338 entries, 0 to 1337\n",
      "Data columns (total 6 columns):\n",
      " #   Column                                         Non-Null Count  Dtype         \n",
      "---  ------                                         --------------  -----         \n",
      " 0   unique_id                                      1338 non-null   object        \n",
      " 1   ds                                             1338 non-null   datetime64[ns]\n",
      " 2   y                                              1338 non-null   float64       \n",
      " 3   dynamic_dynamic10_stock_zh_a_hist_em::600898   1338 non-null   float64       \n",
      " 4   dynamic_dynamic100_stock_zh_a_hist_em::600898  1338 non-null   float64       \n",
      " 5   dynamic_dynamic30_stock_zh_a_hist_em::600898   1338 non-null   float64       \n",
      "dtypes: datetime64[ns](1), float64(4), object(1)\n",
      "memory usage: 62.8+ KB\n"
     ]
    }
   ],
   "source": [
    "df_train = pd.read_pickle(\"input_df_20250405184630794.pkl\")\n",
    "df_train.info()"
   ]
  },
  {
   "cell_type": "code",
   "execution_count": 10,
   "metadata": {},
   "outputs": [],
   "source": [
    "exog = [col for col in df_train.columns if col not in [\"unique_id\", \"ds\", \"y\"]]"
   ]
  },
  {
   "cell_type": "code",
   "execution_count": 11,
   "metadata": {},
   "outputs": [
    {
     "name": "stderr",
     "output_type": "stream",
     "text": [
      "Seed set to 7\n"
     ]
    }
   ],
   "source": [
    "horizon = 20\n",
    "import torch.optim as optim\n",
    "model = TSMixerx(\n",
    "    h=horizon,\n",
    "    input_size=60,\n",
    "    n_series=1,\n",
    "    dropout=0.1,\n",
    "    # stat_exog_list=[\"airline1\"],\n",
    "    # futr_exog_list=exog,\n",
    "    hist_exog_list=exog,\n",
    "    n_block=2,\n",
    "    ff_dim=16,\n",
    "    revin=True,\n",
    "    # scaler_type=\"standard\",\n",
    "    max_steps=500,\n",
    "    early_stop_patience_steps=-1,\n",
    "    val_check_steps=5,\n",
    "    learning_rate=1e-3,\n",
    "    # enable_lr_find=True,\n",
    "    loss=HuberLoss(),\n",
    "    valid_loss=HuberLoss(),\n",
    "    batch_size=32,\n",
    "    random_seed=7,\n",
    "    optimizer=optim.AdamW,\n",
    "    optimizer_kwargs={\"fused\": False},\n",
    ")"
   ]
  },
  {
   "cell_type": "code",
   "execution_count": 14,
   "metadata": {},
   "outputs": [
    {
     "data": {
      "text/plain": [
       "0.001"
      ]
     },
     "execution_count": 14,
     "metadata": {},
     "output_type": "execute_result"
    }
   ],
   "source": [
    "model.learning_rate"
   ]
  },
  {
   "cell_type": "code",
   "execution_count": null,
   "metadata": {},
   "outputs": [],
   "source": [
    "nf = train_and_evaluate(model, df_train)"
   ]
  },
  {
   "cell_type": "code",
   "execution_count": 15,
   "metadata": {},
   "outputs": [
    {
     "data": {
      "text/plain": [
       "2.089296130854039e-06"
      ]
     },
     "execution_count": 15,
     "metadata": {},
     "output_type": "execute_result"
    }
   ],
   "source": [
    "nf.models[0].learning_rate"
   ]
  },
  {
   "cell_type": "code",
   "execution_count": 18,
   "metadata": {},
   "outputs": [
    {
     "data": {
      "text/plain": [
       "\"alias\":                     None\n",
       "\"batch_size\":                32\n",
       "\"dataloader_kwargs\":         None\n",
       "\"drop_last_loader\":          False\n",
       "\"dropout\":                   0.0\n",
       "\"early_stop_patience_steps\": -1\n",
       "\"enable_lr_find\":            True\n",
       "\"ff_dim\":                    4\n",
       "\"futr_exog_list\":            None\n",
       "\"h\":                         20\n",
       "\"hist_exog_list\":            ['open', 'close', 'high', 'low', 'volume', 'amount', 'open_preclose_rate', 'high_preclose_rate', 'low_preclose_rate', 'vol_change_rate', 'amt_change_rate']\n",
       "\"input_size\":                48\n",
       "\"learning_rate\":             0.008317637711026709\n",
       "\"loss\":                      HuberLoss()\n",
       "\"lr_scheduler\":              None\n",
       "\"lr_scheduler_kwargs\":       None\n",
       "\"max_steps\":                 500\n",
       "\"n_block\":                   4\n",
       "\"n_series\":                  1\n",
       "\"num_lr_decays\":             -1\n",
       "\"optimizer\":                 None\n",
       "\"optimizer_kwargs\":          None\n",
       "\"random_seed\":               1\n",
       "\"revin\":                     True\n",
       "\"scaler_type\":               identity\n",
       "\"stat_exog_list\":            None\n",
       "\"step_size\":                 1\n",
       "\"val_check_steps\":           5\n",
       "\"valid_loss\":                HuberLoss()"
      ]
     },
     "execution_count": 18,
     "metadata": {},
     "output_type": "execute_result"
    }
   ],
   "source": [
    "nf.models[0].hparams"
   ]
  },
  {
   "cell_type": "code",
   "execution_count": 22,
   "metadata": {},
   "outputs": [
    {
     "data": {
      "text/html": [
       "<div>\n",
       "<style scoped>\n",
       "    .dataframe tbody tr th:only-of-type {\n",
       "        vertical-align: middle;\n",
       "    }\n",
       "\n",
       "    .dataframe tbody tr th {\n",
       "        vertical-align: top;\n",
       "    }\n",
       "\n",
       "    .dataframe thead th {\n",
       "        text-align: right;\n",
       "    }\n",
       "</style>\n",
       "<table border=\"1\" class=\"dataframe\">\n",
       "  <thead>\n",
       "    <tr style=\"text-align: right;\">\n",
       "      <th></th>\n",
       "      <th>unique_id</th>\n",
       "      <th>ds</th>\n",
       "      <th>y</th>\n",
       "      <th>dynamic_dynamic10_stock_zh_a_hist_em::600898</th>\n",
       "      <th>dynamic_dynamic100_stock_zh_a_hist_em::600898</th>\n",
       "      <th>dynamic_dynamic30_stock_zh_a_hist_em::600898</th>\n",
       "    </tr>\n",
       "  </thead>\n",
       "  <tbody>\n",
       "    <tr>\n",
       "      <th>0</th>\n",
       "      <td>0</td>\n",
       "      <td>2019-09-19</td>\n",
       "      <td>-0.215171</td>\n",
       "      <td>2.098132e+01</td>\n",
       "      <td>21.234889</td>\n",
       "      <td>2.062061e+01</td>\n",
       "    </tr>\n",
       "    <tr>\n",
       "      <th>1</th>\n",
       "      <td>0</td>\n",
       "      <td>2019-09-20</td>\n",
       "      <td>-0.232543</td>\n",
       "      <td>2.115848e+01</td>\n",
       "      <td>21.250034</td>\n",
       "      <td>2.069023e+01</td>\n",
       "    </tr>\n",
       "    <tr>\n",
       "      <th>2</th>\n",
       "      <td>0</td>\n",
       "      <td>2019-09-23</td>\n",
       "      <td>-0.251885</td>\n",
       "      <td>2.126991e+01</td>\n",
       "      <td>21.260025</td>\n",
       "      <td>2.074480e+01</td>\n",
       "    </tr>\n",
       "    <tr>\n",
       "      <th>3</th>\n",
       "      <td>0</td>\n",
       "      <td>2019-09-24</td>\n",
       "      <td>-0.364442</td>\n",
       "      <td>2.142411e+01</td>\n",
       "      <td>21.275550</td>\n",
       "      <td>2.081273e+01</td>\n",
       "    </tr>\n",
       "    <tr>\n",
       "      <th>4</th>\n",
       "      <td>0</td>\n",
       "      <td>2019-09-25</td>\n",
       "      <td>-0.285983</td>\n",
       "      <td>2.152872e+01</td>\n",
       "      <td>21.287836</td>\n",
       "      <td>2.087032e+01</td>\n",
       "    </tr>\n",
       "    <tr>\n",
       "      <th>...</th>\n",
       "      <td>...</td>\n",
       "      <td>...</td>\n",
       "      <td>...</td>\n",
       "      <td>...</td>\n",
       "      <td>...</td>\n",
       "      <td>...</td>\n",
       "    </tr>\n",
       "    <tr>\n",
       "      <th>1333</th>\n",
       "      <td>0</td>\n",
       "      <td>2025-03-25</td>\n",
       "      <td>0.360000</td>\n",
       "      <td>-4.846118e+21</td>\n",
       "      <td>-4.259550</td>\n",
       "      <td>-4.696512e+18</td>\n",
       "    </tr>\n",
       "    <tr>\n",
       "      <th>1334</th>\n",
       "      <td>0</td>\n",
       "      <td>2025-03-26</td>\n",
       "      <td>-1.490000</td>\n",
       "      <td>-4.854202e+21</td>\n",
       "      <td>-3.843713</td>\n",
       "      <td>-4.704347e+18</td>\n",
       "    </tr>\n",
       "    <tr>\n",
       "      <th>1335</th>\n",
       "      <td>0</td>\n",
       "      <td>2025-03-27</td>\n",
       "      <td>0.160000</td>\n",
       "      <td>-4.635963e+21</td>\n",
       "      <td>-3.849783</td>\n",
       "      <td>-4.492845e+18</td>\n",
       "    </tr>\n",
       "    <tr>\n",
       "      <th>1336</th>\n",
       "      <td>0</td>\n",
       "      <td>2025-03-28</td>\n",
       "      <td>-0.680000</td>\n",
       "      <td>-5.892604e+21</td>\n",
       "      <td>-3.946353</td>\n",
       "      <td>-5.710692e+18</td>\n",
       "    </tr>\n",
       "    <tr>\n",
       "      <th>1337</th>\n",
       "      <td>0</td>\n",
       "      <td>2025-03-31</td>\n",
       "      <td>1.630000</td>\n",
       "      <td>-4.820736e+21</td>\n",
       "      <td>-3.947402</td>\n",
       "      <td>-4.671914e+18</td>\n",
       "    </tr>\n",
       "  </tbody>\n",
       "</table>\n",
       "<p>1338 rows × 6 columns</p>\n",
       "</div>"
      ],
      "text/plain": [
       "     unique_id         ds         y  \\\n",
       "0            0 2019-09-19 -0.215171   \n",
       "1            0 2019-09-20 -0.232543   \n",
       "2            0 2019-09-23 -0.251885   \n",
       "3            0 2019-09-24 -0.364442   \n",
       "4            0 2019-09-25 -0.285983   \n",
       "...        ...        ...       ...   \n",
       "1333         0 2025-03-25  0.360000   \n",
       "1334         0 2025-03-26 -1.490000   \n",
       "1335         0 2025-03-27  0.160000   \n",
       "1336         0 2025-03-28 -0.680000   \n",
       "1337         0 2025-03-31  1.630000   \n",
       "\n",
       "      dynamic_dynamic10_stock_zh_a_hist_em::600898  \\\n",
       "0                                     2.098132e+01   \n",
       "1                                     2.115848e+01   \n",
       "2                                     2.126991e+01   \n",
       "3                                     2.142411e+01   \n",
       "4                                     2.152872e+01   \n",
       "...                                            ...   \n",
       "1333                                 -4.846118e+21   \n",
       "1334                                 -4.854202e+21   \n",
       "1335                                 -4.635963e+21   \n",
       "1336                                 -5.892604e+21   \n",
       "1337                                 -4.820736e+21   \n",
       "\n",
       "      dynamic_dynamic100_stock_zh_a_hist_em::600898  \\\n",
       "0                                         21.234889   \n",
       "1                                         21.250034   \n",
       "2                                         21.260025   \n",
       "3                                         21.275550   \n",
       "4                                         21.287836   \n",
       "...                                             ...   \n",
       "1333                                      -4.259550   \n",
       "1334                                      -3.843713   \n",
       "1335                                      -3.849783   \n",
       "1336                                      -3.946353   \n",
       "1337                                      -3.947402   \n",
       "\n",
       "      dynamic_dynamic30_stock_zh_a_hist_em::600898  \n",
       "0                                     2.062061e+01  \n",
       "1                                     2.069023e+01  \n",
       "2                                     2.074480e+01  \n",
       "3                                     2.081273e+01  \n",
       "4                                     2.087032e+01  \n",
       "...                                            ...  \n",
       "1333                                 -4.696512e+18  \n",
       "1334                                 -4.704347e+18  \n",
       "1335                                 -4.492845e+18  \n",
       "1336                                 -5.710692e+18  \n",
       "1337                                 -4.671914e+18  \n",
       "\n",
       "[1338 rows x 6 columns]"
      ]
     },
     "execution_count": 22,
     "metadata": {},
     "output_type": "execute_result"
    }
   ],
   "source": [
    "df_train"
   ]
  },
  {
   "cell_type": "code",
   "execution_count": 15,
   "metadata": {},
   "outputs": [],
   "source": [
    "df_train = df_train.dropna(subset=[\"open\", \"close\", \"high\", \"low\", \"volume\", \"amount\"])"
   ]
  },
  {
   "cell_type": "code",
   "execution_count": null,
   "metadata": {},
   "outputs": [
    {
     "name": "stderr",
     "output_type": "stream",
     "text": [
      "GPU available: True (mps), used: True\n",
      "TPU available: False, using: 0 TPU cores\n",
      "HPU available: False, using: 0 HPUs\n",
      "\n",
      "  | Name                | Type              | Params | Mode \n",
      "------------------------------------------------------------------\n",
      "0 | loss                | HuberLoss         | 0      | train\n",
      "1 | valid_loss          | HuberLoss         | 0      | train\n",
      "2 | padder_train        | ConstantPad1d     | 0      | train\n",
      "3 | scaler              | TemporalNorm      | 0      | train\n",
      "4 | norm                | RevINMultivariate | 2      | train\n",
      "5 | temporal_projection | Linear            | 1.2 K  | train\n",
      "6 | feature_mixer_hist  | FeatureMixing     | 1.1 K  | train\n",
      "7 | first_mixing        | MixingLayer       | 2.2 K  | train\n",
      "8 | mixing_block        | Sequential        | 4.5 K  | train\n",
      "9 | out                 | Linear            | 17     | train\n",
      "------------------------------------------------------------------\n",
      "9.0 K     Trainable params\n",
      "0         Non-trainable params\n",
      "9.0 K     Total params\n",
      "0.036     Total estimated model params size (MB)\n",
      "48        Modules in train mode\n",
      "0         Modules in eval mode\n"
     ]
    },
    {
     "data": {
      "application/vnd.jupyter.widget-view+json": {
       "model_id": "daa9d3e777b043878eb67cb045b569c9",
       "version_major": 2,
       "version_minor": 0
      },
      "text/plain": [
       "Sanity Checking: |          | 0/? [00:00<?, ?it/s]"
      ]
     },
     "metadata": {},
     "output_type": "display_data"
    },
    {
     "data": {
      "application/vnd.jupyter.widget-view+json": {
       "model_id": "6403b2cd0bbb4611b01e0a229bb29efd",
       "version_major": 2,
       "version_minor": 0
      },
      "text/plain": [
       "Training: |          | 0/? [00:00<?, ?it/s]"
      ]
     },
     "metadata": {},
     "output_type": "display_data"
    },
    {
     "data": {
      "application/vnd.jupyter.widget-view+json": {
       "model_id": "1b9e942d9a1c474b96d1402005ecb8d5",
       "version_major": 2,
       "version_minor": 0
      },
      "text/plain": [
       "Validation: |          | 0/? [00:00<?, ?it/s]"
      ]
     },
     "metadata": {},
     "output_type": "display_data"
    },
    {
     "data": {
      "application/vnd.jupyter.widget-view+json": {
       "model_id": "b3404e1e0b214ff7ad5a3ef22d377f88",
       "version_major": 2,
       "version_minor": 0
      },
      "text/plain": [
       "Validation: |          | 0/? [00:00<?, ?it/s]"
      ]
     },
     "metadata": {},
     "output_type": "display_data"
    },
    {
     "data": {
      "application/vnd.jupyter.widget-view+json": {
       "model_id": "cb425cc8206f4e8faa348b1793f94960",
       "version_major": 2,
       "version_minor": 0
      },
      "text/plain": [
       "Validation: |          | 0/? [00:00<?, ?it/s]"
      ]
     },
     "metadata": {},
     "output_type": "display_data"
    },
    {
     "data": {
      "application/vnd.jupyter.widget-view+json": {
       "model_id": "ac127fb9c9624302bc5d11ef3cad309f",
       "version_major": 2,
       "version_minor": 0
      },
      "text/plain": [
       "Validation: |          | 0/? [00:00<?, ?it/s]"
      ]
     },
     "metadata": {},
     "output_type": "display_data"
    },
    {
     "data": {
      "application/vnd.jupyter.widget-view+json": {
       "model_id": "70eb7803a5124fabafc1b3c150b0fa98",
       "version_major": 2,
       "version_minor": 0
      },
      "text/plain": [
       "Validation: |          | 0/? [00:00<?, ?it/s]"
      ]
     },
     "metadata": {},
     "output_type": "display_data"
    },
    {
     "data": {
      "application/vnd.jupyter.widget-view+json": {
       "model_id": "e35d668223584976b35465f93d1fc989",
       "version_major": 2,
       "version_minor": 0
      },
      "text/plain": [
       "Validation: |          | 0/? [00:00<?, ?it/s]"
      ]
     },
     "metadata": {},
     "output_type": "display_data"
    },
    {
     "data": {
      "application/vnd.jupyter.widget-view+json": {
       "model_id": "470e8617fec840e3bf7f693aafa52cdc",
       "version_major": 2,
       "version_minor": 0
      },
      "text/plain": [
       "Validation: |          | 0/? [00:00<?, ?it/s]"
      ]
     },
     "metadata": {},
     "output_type": "display_data"
    },
    {
     "data": {
      "application/vnd.jupyter.widget-view+json": {
       "model_id": "c0f31640dd0c445b97872980174dcb3e",
       "version_major": 2,
       "version_minor": 0
      },
      "text/plain": [
       "Validation: |          | 0/? [00:00<?, ?it/s]"
      ]
     },
     "metadata": {},
     "output_type": "display_data"
    },
    {
     "data": {
      "application/vnd.jupyter.widget-view+json": {
       "model_id": "81844b59461e4b5fb087cd4e176fd53a",
       "version_major": 2,
       "version_minor": 0
      },
      "text/plain": [
       "Validation: |          | 0/? [00:00<?, ?it/s]"
      ]
     },
     "metadata": {},
     "output_type": "display_data"
    },
    {
     "data": {
      "application/vnd.jupyter.widget-view+json": {
       "model_id": "9abc0cb2b8304564ab0ff450145d2f34",
       "version_major": 2,
       "version_minor": 0
      },
      "text/plain": [
       "Validation: |          | 0/? [00:00<?, ?it/s]"
      ]
     },
     "metadata": {},
     "output_type": "display_data"
    },
    {
     "data": {
      "application/vnd.jupyter.widget-view+json": {
       "model_id": "dbc43ce411e14102a35924d96bcfdea7",
       "version_major": 2,
       "version_minor": 0
      },
      "text/plain": [
       "Validation: |          | 0/? [00:00<?, ?it/s]"
      ]
     },
     "metadata": {},
     "output_type": "display_data"
    },
    {
     "data": {
      "application/vnd.jupyter.widget-view+json": {
       "model_id": "2b08b4d8a4ff42b2b95eb986dc6e9d39",
       "version_major": 2,
       "version_minor": 0
      },
      "text/plain": [
       "Validation: |          | 0/? [00:00<?, ?it/s]"
      ]
     },
     "metadata": {},
     "output_type": "display_data"
    },
    {
     "data": {
      "application/vnd.jupyter.widget-view+json": {
       "model_id": "3e53dca400794e5881e63faf63e7ef41",
       "version_major": 2,
       "version_minor": 0
      },
      "text/plain": [
       "Validation: |          | 0/? [00:00<?, ?it/s]"
      ]
     },
     "metadata": {},
     "output_type": "display_data"
    },
    {
     "data": {
      "application/vnd.jupyter.widget-view+json": {
       "model_id": "b6cb3b52439549e996ca2a5ef14f24e5",
       "version_major": 2,
       "version_minor": 0
      },
      "text/plain": [
       "Validation: |          | 0/? [00:00<?, ?it/s]"
      ]
     },
     "metadata": {},
     "output_type": "display_data"
    },
    {
     "data": {
      "application/vnd.jupyter.widget-view+json": {
       "model_id": "efed58b20dc84c6688de7f26a8c9edb5",
       "version_major": 2,
       "version_minor": 0
      },
      "text/plain": [
       "Validation: |          | 0/? [00:00<?, ?it/s]"
      ]
     },
     "metadata": {},
     "output_type": "display_data"
    },
    {
     "data": {
      "application/vnd.jupyter.widget-view+json": {
       "model_id": "b57669ae8ce34e8a84a77761f027d2be",
       "version_major": 2,
       "version_minor": 0
      },
      "text/plain": [
       "Validation: |          | 0/? [00:00<?, ?it/s]"
      ]
     },
     "metadata": {},
     "output_type": "display_data"
    },
    {
     "data": {
      "application/vnd.jupyter.widget-view+json": {
       "model_id": "a8dd38a0e40a446ab322219cf0d3a1c7",
       "version_major": 2,
       "version_minor": 0
      },
      "text/plain": [
       "Validation: |          | 0/? [00:00<?, ?it/s]"
      ]
     },
     "metadata": {},
     "output_type": "display_data"
    },
    {
     "data": {
      "application/vnd.jupyter.widget-view+json": {
       "model_id": "562c918fbbda4618b60ab5f97c256a16",
       "version_major": 2,
       "version_minor": 0
      },
      "text/plain": [
       "Validation: |          | 0/? [00:00<?, ?it/s]"
      ]
     },
     "metadata": {},
     "output_type": "display_data"
    },
    {
     "data": {
      "application/vnd.jupyter.widget-view+json": {
       "model_id": "f695ce94d8a44e3cbfe3fcfb6575b769",
       "version_major": 2,
       "version_minor": 0
      },
      "text/plain": [
       "Validation: |          | 0/? [00:00<?, ?it/s]"
      ]
     },
     "metadata": {},
     "output_type": "display_data"
    },
    {
     "data": {
      "application/vnd.jupyter.widget-view+json": {
       "model_id": "602b57e0a3a947bfb4ec93574b3e1024",
       "version_major": 2,
       "version_minor": 0
      },
      "text/plain": [
       "Validation: |          | 0/? [00:00<?, ?it/s]"
      ]
     },
     "metadata": {},
     "output_type": "display_data"
    },
    {
     "data": {
      "application/vnd.jupyter.widget-view+json": {
       "model_id": "d78061f9f2da44d98aa3493dd763def4",
       "version_major": 2,
       "version_minor": 0
      },
      "text/plain": [
       "Validation: |          | 0/? [00:00<?, ?it/s]"
      ]
     },
     "metadata": {},
     "output_type": "display_data"
    },
    {
     "data": {
      "application/vnd.jupyter.widget-view+json": {
       "model_id": "e1961267492946a1b0624d1a42777c52",
       "version_major": 2,
       "version_minor": 0
      },
      "text/plain": [
       "Validation: |          | 0/? [00:00<?, ?it/s]"
      ]
     },
     "metadata": {},
     "output_type": "display_data"
    },
    {
     "data": {
      "application/vnd.jupyter.widget-view+json": {
       "model_id": "5907f10d98ae49faa422a7a3aaf82281",
       "version_major": 2,
       "version_minor": 0
      },
      "text/plain": [
       "Validation: |          | 0/? [00:00<?, ?it/s]"
      ]
     },
     "metadata": {},
     "output_type": "display_data"
    },
    {
     "data": {
      "application/vnd.jupyter.widget-view+json": {
       "model_id": "1541ee526e464140ba16e54910cc1077",
       "version_major": 2,
       "version_minor": 0
      },
      "text/plain": [
       "Validation: |          | 0/? [00:00<?, ?it/s]"
      ]
     },
     "metadata": {},
     "output_type": "display_data"
    },
    {
     "data": {
      "application/vnd.jupyter.widget-view+json": {
       "model_id": "030fcb8c3d254db59dcb3258c6611c45",
       "version_major": 2,
       "version_minor": 0
      },
      "text/plain": [
       "Validation: |          | 0/? [00:00<?, ?it/s]"
      ]
     },
     "metadata": {},
     "output_type": "display_data"
    },
    {
     "data": {
      "application/vnd.jupyter.widget-view+json": {
       "model_id": "a46815c118bd4a6f9da1a29eacc1e196",
       "version_major": 2,
       "version_minor": 0
      },
      "text/plain": [
       "Validation: |          | 0/? [00:00<?, ?it/s]"
      ]
     },
     "metadata": {},
     "output_type": "display_data"
    },
    {
     "data": {
      "application/vnd.jupyter.widget-view+json": {
       "model_id": "326a7ee8f2594233a018915d98331103",
       "version_major": 2,
       "version_minor": 0
      },
      "text/plain": [
       "Validation: |          | 0/? [00:00<?, ?it/s]"
      ]
     },
     "metadata": {},
     "output_type": "display_data"
    },
    {
     "data": {
      "application/vnd.jupyter.widget-view+json": {
       "model_id": "cd51d24ed0bf440ab96f7c3d659fc850",
       "version_major": 2,
       "version_minor": 0
      },
      "text/plain": [
       "Validation: |          | 0/? [00:00<?, ?it/s]"
      ]
     },
     "metadata": {},
     "output_type": "display_data"
    },
    {
     "data": {
      "application/vnd.jupyter.widget-view+json": {
       "model_id": "d02d95e787b3432984da4017b2a3c6ee",
       "version_major": 2,
       "version_minor": 0
      },
      "text/plain": [
       "Validation: |          | 0/? [00:00<?, ?it/s]"
      ]
     },
     "metadata": {},
     "output_type": "display_data"
    },
    {
     "data": {
      "application/vnd.jupyter.widget-view+json": {
       "model_id": "18da9649d0104b8fa9fbc2756e6633f4",
       "version_major": 2,
       "version_minor": 0
      },
      "text/plain": [
       "Validation: |          | 0/? [00:00<?, ?it/s]"
      ]
     },
     "metadata": {},
     "output_type": "display_data"
    },
    {
     "data": {
      "application/vnd.jupyter.widget-view+json": {
       "model_id": "bf1b5544e54e4370a1182cbb328e32d8",
       "version_major": 2,
       "version_minor": 0
      },
      "text/plain": [
       "Validation: |          | 0/? [00:00<?, ?it/s]"
      ]
     },
     "metadata": {},
     "output_type": "display_data"
    },
    {
     "data": {
      "application/vnd.jupyter.widget-view+json": {
       "model_id": "33fcbc40a046427f976464fc2848b9a6",
       "version_major": 2,
       "version_minor": 0
      },
      "text/plain": [
       "Validation: |          | 0/? [00:00<?, ?it/s]"
      ]
     },
     "metadata": {},
     "output_type": "display_data"
    },
    {
     "data": {
      "application/vnd.jupyter.widget-view+json": {
       "model_id": "094221b9a1d7411d8e3af70001fc00f1",
       "version_major": 2,
       "version_minor": 0
      },
      "text/plain": [
       "Validation: |          | 0/? [00:00<?, ?it/s]"
      ]
     },
     "metadata": {},
     "output_type": "display_data"
    },
    {
     "data": {
      "application/vnd.jupyter.widget-view+json": {
       "model_id": "676d2599452b48e9a706dbebe8d265a7",
       "version_major": 2,
       "version_minor": 0
      },
      "text/plain": [
       "Validation: |          | 0/? [00:00<?, ?it/s]"
      ]
     },
     "metadata": {},
     "output_type": "display_data"
    },
    {
     "data": {
      "application/vnd.jupyter.widget-view+json": {
       "model_id": "e18a33d0b03d4e3fa09ddef1b2d100b9",
       "version_major": 2,
       "version_minor": 0
      },
      "text/plain": [
       "Validation: |          | 0/? [00:00<?, ?it/s]"
      ]
     },
     "metadata": {},
     "output_type": "display_data"
    },
    {
     "data": {
      "application/vnd.jupyter.widget-view+json": {
       "model_id": "ee2fa0feb3094f3aa8dc2e192c475809",
       "version_major": 2,
       "version_minor": 0
      },
      "text/plain": [
       "Validation: |          | 0/? [00:00<?, ?it/s]"
      ]
     },
     "metadata": {},
     "output_type": "display_data"
    },
    {
     "data": {
      "application/vnd.jupyter.widget-view+json": {
       "model_id": "e070a1e608444f0fa59bb54416835bb2",
       "version_major": 2,
       "version_minor": 0
      },
      "text/plain": [
       "Validation: |          | 0/? [00:00<?, ?it/s]"
      ]
     },
     "metadata": {},
     "output_type": "display_data"
    },
    {
     "data": {
      "application/vnd.jupyter.widget-view+json": {
       "model_id": "604ff4ed723942b99f7087785da72c70",
       "version_major": 2,
       "version_minor": 0
      },
      "text/plain": [
       "Validation: |          | 0/? [00:00<?, ?it/s]"
      ]
     },
     "metadata": {},
     "output_type": "display_data"
    },
    {
     "data": {
      "application/vnd.jupyter.widget-view+json": {
       "model_id": "83cb8befa4bc4a0385fce461cd5ede91",
       "version_major": 2,
       "version_minor": 0
      },
      "text/plain": [
       "Validation: |          | 0/? [00:00<?, ?it/s]"
      ]
     },
     "metadata": {},
     "output_type": "display_data"
    },
    {
     "data": {
      "application/vnd.jupyter.widget-view+json": {
       "model_id": "8c1ae2b11e864f4a81dcccafa946c4ab",
       "version_major": 2,
       "version_minor": 0
      },
      "text/plain": [
       "Validation: |          | 0/? [00:00<?, ?it/s]"
      ]
     },
     "metadata": {},
     "output_type": "display_data"
    },
    {
     "data": {
      "application/vnd.jupyter.widget-view+json": {
       "model_id": "c3c7c7596d8b4375b6bd9af11796e2ed",
       "version_major": 2,
       "version_minor": 0
      },
      "text/plain": [
       "Validation: |          | 0/? [00:00<?, ?it/s]"
      ]
     },
     "metadata": {},
     "output_type": "display_data"
    },
    {
     "data": {
      "application/vnd.jupyter.widget-view+json": {
       "model_id": "cab6e762b82f451699dcbfeed2a50ba5",
       "version_major": 2,
       "version_minor": 0
      },
      "text/plain": [
       "Validation: |          | 0/? [00:00<?, ?it/s]"
      ]
     },
     "metadata": {},
     "output_type": "display_data"
    },
    {
     "data": {
      "application/vnd.jupyter.widget-view+json": {
       "model_id": "ab7c56f842324a67b1bc460719093c4c",
       "version_major": 2,
       "version_minor": 0
      },
      "text/plain": [
       "Validation: |          | 0/? [00:00<?, ?it/s]"
      ]
     },
     "metadata": {},
     "output_type": "display_data"
    },
    {
     "data": {
      "application/vnd.jupyter.widget-view+json": {
       "model_id": "1a35342d00bd4b94850838fb394e7b1e",
       "version_major": 2,
       "version_minor": 0
      },
      "text/plain": [
       "Validation: |          | 0/? [00:00<?, ?it/s]"
      ]
     },
     "metadata": {},
     "output_type": "display_data"
    },
    {
     "data": {
      "application/vnd.jupyter.widget-view+json": {
       "model_id": "9e60df4cb34a44daa64214a89cd980df",
       "version_major": 2,
       "version_minor": 0
      },
      "text/plain": [
       "Validation: |          | 0/? [00:00<?, ?it/s]"
      ]
     },
     "metadata": {},
     "output_type": "display_data"
    },
    {
     "data": {
      "application/vnd.jupyter.widget-view+json": {
       "model_id": "9a07233c0e4441a79b3f3f7939cd56a7",
       "version_major": 2,
       "version_minor": 0
      },
      "text/plain": [
       "Validation: |          | 0/? [00:00<?, ?it/s]"
      ]
     },
     "metadata": {},
     "output_type": "display_data"
    },
    {
     "data": {
      "application/vnd.jupyter.widget-view+json": {
       "model_id": "a5f15b55cce0461cbb2044ca35a21eca",
       "version_major": 2,
       "version_minor": 0
      },
      "text/plain": [
       "Validation: |          | 0/? [00:00<?, ?it/s]"
      ]
     },
     "metadata": {},
     "output_type": "display_data"
    },
    {
     "data": {
      "application/vnd.jupyter.widget-view+json": {
       "model_id": "075bd285d1084dc7a291b33e8e175d8a",
       "version_major": 2,
       "version_minor": 0
      },
      "text/plain": [
       "Validation: |          | 0/? [00:00<?, ?it/s]"
      ]
     },
     "metadata": {},
     "output_type": "display_data"
    },
    {
     "data": {
      "application/vnd.jupyter.widget-view+json": {
       "model_id": "d6577f0ab1ac42efa103c2f883c00627",
       "version_major": 2,
       "version_minor": 0
      },
      "text/plain": [
       "Validation: |          | 0/? [00:00<?, ?it/s]"
      ]
     },
     "metadata": {},
     "output_type": "display_data"
    },
    {
     "data": {
      "application/vnd.jupyter.widget-view+json": {
       "model_id": "75bbe594f62644608853878fad49186c",
       "version_major": 2,
       "version_minor": 0
      },
      "text/plain": [
       "Validation: |          | 0/? [00:00<?, ?it/s]"
      ]
     },
     "metadata": {},
     "output_type": "display_data"
    },
    {
     "data": {
      "application/vnd.jupyter.widget-view+json": {
       "model_id": "f71590b47c8646d3a388e1d0611b912a",
       "version_major": 2,
       "version_minor": 0
      },
      "text/plain": [
       "Validation: |          | 0/? [00:00<?, ?it/s]"
      ]
     },
     "metadata": {},
     "output_type": "display_data"
    },
    {
     "data": {
      "application/vnd.jupyter.widget-view+json": {
       "model_id": "f271cd6167924f7cab7807581bce0842",
       "version_major": 2,
       "version_minor": 0
      },
      "text/plain": [
       "Validation: |          | 0/? [00:00<?, ?it/s]"
      ]
     },
     "metadata": {},
     "output_type": "display_data"
    },
    {
     "data": {
      "application/vnd.jupyter.widget-view+json": {
       "model_id": "f49ee216538f4ddf8e5baeae2e97b988",
       "version_major": 2,
       "version_minor": 0
      },
      "text/plain": [
       "Validation: |          | 0/? [00:00<?, ?it/s]"
      ]
     },
     "metadata": {},
     "output_type": "display_data"
    },
    {
     "data": {
      "application/vnd.jupyter.widget-view+json": {
       "model_id": "50625c82af764a4c9d7fee8c83bec951",
       "version_major": 2,
       "version_minor": 0
      },
      "text/plain": [
       "Validation: |          | 0/? [00:00<?, ?it/s]"
      ]
     },
     "metadata": {},
     "output_type": "display_data"
    },
    {
     "data": {
      "application/vnd.jupyter.widget-view+json": {
       "model_id": "d926d0a472ea4e8b909dda62a06e2bc5",
       "version_major": 2,
       "version_minor": 0
      },
      "text/plain": [
       "Validation: |          | 0/? [00:00<?, ?it/s]"
      ]
     },
     "metadata": {},
     "output_type": "display_data"
    },
    {
     "data": {
      "application/vnd.jupyter.widget-view+json": {
       "model_id": "5c2a2570a10f4b56bc32ac17abff3734",
       "version_major": 2,
       "version_minor": 0
      },
      "text/plain": [
       "Validation: |          | 0/? [00:00<?, ?it/s]"
      ]
     },
     "metadata": {},
     "output_type": "display_data"
    },
    {
     "data": {
      "application/vnd.jupyter.widget-view+json": {
       "model_id": "2498567693854898a534ccd8de0567c1",
       "version_major": 2,
       "version_minor": 0
      },
      "text/plain": [
       "Validation: |          | 0/? [00:00<?, ?it/s]"
      ]
     },
     "metadata": {},
     "output_type": "display_data"
    },
    {
     "data": {
      "application/vnd.jupyter.widget-view+json": {
       "model_id": "21c090e7aed34d759e8b36c050e020c8",
       "version_major": 2,
       "version_minor": 0
      },
      "text/plain": [
       "Validation: |          | 0/? [00:00<?, ?it/s]"
      ]
     },
     "metadata": {},
     "output_type": "display_data"
    },
    {
     "data": {
      "application/vnd.jupyter.widget-view+json": {
       "model_id": "b9570cea9c8f4e148cc9c5bf4049ef14",
       "version_major": 2,
       "version_minor": 0
      },
      "text/plain": [
       "Validation: |          | 0/? [00:00<?, ?it/s]"
      ]
     },
     "metadata": {},
     "output_type": "display_data"
    },
    {
     "data": {
      "application/vnd.jupyter.widget-view+json": {
       "model_id": "2c87a2a07e4947de9082ff1a1255f844",
       "version_major": 2,
       "version_minor": 0
      },
      "text/plain": [
       "Validation: |          | 0/? [00:00<?, ?it/s]"
      ]
     },
     "metadata": {},
     "output_type": "display_data"
    },
    {
     "data": {
      "application/vnd.jupyter.widget-view+json": {
       "model_id": "56e7354f967a4b3781e9471e29235978",
       "version_major": 2,
       "version_minor": 0
      },
      "text/plain": [
       "Validation: |          | 0/? [00:00<?, ?it/s]"
      ]
     },
     "metadata": {},
     "output_type": "display_data"
    },
    {
     "data": {
      "application/vnd.jupyter.widget-view+json": {
       "model_id": "be1770553fae406e877f119126f1d21f",
       "version_major": 2,
       "version_minor": 0
      },
      "text/plain": [
       "Validation: |          | 0/? [00:00<?, ?it/s]"
      ]
     },
     "metadata": {},
     "output_type": "display_data"
    },
    {
     "data": {
      "application/vnd.jupyter.widget-view+json": {
       "model_id": "015e65d94e984a99a98545deaa3fcec0",
       "version_major": 2,
       "version_minor": 0
      },
      "text/plain": [
       "Validation: |          | 0/? [00:00<?, ?it/s]"
      ]
     },
     "metadata": {},
     "output_type": "display_data"
    },
    {
     "data": {
      "application/vnd.jupyter.widget-view+json": {
       "model_id": "7bcbf30a417a49638043a5351c57398f",
       "version_major": 2,
       "version_minor": 0
      },
      "text/plain": [
       "Validation: |          | 0/? [00:00<?, ?it/s]"
      ]
     },
     "metadata": {},
     "output_type": "display_data"
    },
    {
     "data": {
      "application/vnd.jupyter.widget-view+json": {
       "model_id": "a76ff22398084d938f0abfb7149fb651",
       "version_major": 2,
       "version_minor": 0
      },
      "text/plain": [
       "Validation: |          | 0/? [00:00<?, ?it/s]"
      ]
     },
     "metadata": {},
     "output_type": "display_data"
    },
    {
     "data": {
      "application/vnd.jupyter.widget-view+json": {
       "model_id": "5c7682f7a4284ab7afe3758c33caf79d",
       "version_major": 2,
       "version_minor": 0
      },
      "text/plain": [
       "Validation: |          | 0/? [00:00<?, ?it/s]"
      ]
     },
     "metadata": {},
     "output_type": "display_data"
    },
    {
     "data": {
      "application/vnd.jupyter.widget-view+json": {
       "model_id": "7dfb52c1187147098a39bf74e923cd91",
       "version_major": 2,
       "version_minor": 0
      },
      "text/plain": [
       "Validation: |          | 0/? [00:00<?, ?it/s]"
      ]
     },
     "metadata": {},
     "output_type": "display_data"
    },
    {
     "data": {
      "application/vnd.jupyter.widget-view+json": {
       "model_id": "677f58bb284f43dbace49d80e82cabc5",
       "version_major": 2,
       "version_minor": 0
      },
      "text/plain": [
       "Validation: |          | 0/? [00:00<?, ?it/s]"
      ]
     },
     "metadata": {},
     "output_type": "display_data"
    },
    {
     "data": {
      "application/vnd.jupyter.widget-view+json": {
       "model_id": "baebc8d193c640b0976dc37d22f081f5",
       "version_major": 2,
       "version_minor": 0
      },
      "text/plain": [
       "Validation: |          | 0/? [00:00<?, ?it/s]"
      ]
     },
     "metadata": {},
     "output_type": "display_data"
    },
    {
     "data": {
      "application/vnd.jupyter.widget-view+json": {
       "model_id": "4593eaeed29b46d3b484756d8d3dc5d9",
       "version_major": 2,
       "version_minor": 0
      },
      "text/plain": [
       "Validation: |          | 0/? [00:00<?, ?it/s]"
      ]
     },
     "metadata": {},
     "output_type": "display_data"
    },
    {
     "data": {
      "application/vnd.jupyter.widget-view+json": {
       "model_id": "3e7b5090e1da4a74ab7bb6c9df5953f6",
       "version_major": 2,
       "version_minor": 0
      },
      "text/plain": [
       "Validation: |          | 0/? [00:00<?, ?it/s]"
      ]
     },
     "metadata": {},
     "output_type": "display_data"
    },
    {
     "data": {
      "application/vnd.jupyter.widget-view+json": {
       "model_id": "a2b8b68f6fb3406ba23f699f5a4d8171",
       "version_major": 2,
       "version_minor": 0
      },
      "text/plain": [
       "Validation: |          | 0/? [00:00<?, ?it/s]"
      ]
     },
     "metadata": {},
     "output_type": "display_data"
    },
    {
     "data": {
      "application/vnd.jupyter.widget-view+json": {
       "model_id": "e439fbbbb58c456088eaf99bc6204a78",
       "version_major": 2,
       "version_minor": 0
      },
      "text/plain": [
       "Validation: |          | 0/? [00:00<?, ?it/s]"
      ]
     },
     "metadata": {},
     "output_type": "display_data"
    },
    {
     "data": {
      "application/vnd.jupyter.widget-view+json": {
       "model_id": "d8990dbe3a0f48f6b5b857343f7d602d",
       "version_major": 2,
       "version_minor": 0
      },
      "text/plain": [
       "Validation: |          | 0/? [00:00<?, ?it/s]"
      ]
     },
     "metadata": {},
     "output_type": "display_data"
    },
    {
     "data": {
      "application/vnd.jupyter.widget-view+json": {
       "model_id": "efdb2e2036684215a90e4d8f30d2e919",
       "version_major": 2,
       "version_minor": 0
      },
      "text/plain": [
       "Validation: |          | 0/? [00:00<?, ?it/s]"
      ]
     },
     "metadata": {},
     "output_type": "display_data"
    },
    {
     "data": {
      "application/vnd.jupyter.widget-view+json": {
       "model_id": "776bef5cfb8d4eb7b0be7f86ae92c193",
       "version_major": 2,
       "version_minor": 0
      },
      "text/plain": [
       "Validation: |          | 0/? [00:00<?, ?it/s]"
      ]
     },
     "metadata": {},
     "output_type": "display_data"
    },
    {
     "data": {
      "application/vnd.jupyter.widget-view+json": {
       "model_id": "2fc97bc260144d5c81cbfdc58beb1c10",
       "version_major": 2,
       "version_minor": 0
      },
      "text/plain": [
       "Validation: |          | 0/? [00:00<?, ?it/s]"
      ]
     },
     "metadata": {},
     "output_type": "display_data"
    },
    {
     "data": {
      "application/vnd.jupyter.widget-view+json": {
       "model_id": "22911489a3ae4cce89b5e69c600ded9e",
       "version_major": 2,
       "version_minor": 0
      },
      "text/plain": [
       "Validation: |          | 0/? [00:00<?, ?it/s]"
      ]
     },
     "metadata": {},
     "output_type": "display_data"
    },
    {
     "data": {
      "application/vnd.jupyter.widget-view+json": {
       "model_id": "8a4dca2c29e64a0c9aa1cdbd540fed6a",
       "version_major": 2,
       "version_minor": 0
      },
      "text/plain": [
       "Validation: |          | 0/? [00:00<?, ?it/s]"
      ]
     },
     "metadata": {},
     "output_type": "display_data"
    },
    {
     "data": {
      "application/vnd.jupyter.widget-view+json": {
       "model_id": "8a95f62a8b3a4109b109f07b721f9620",
       "version_major": 2,
       "version_minor": 0
      },
      "text/plain": [
       "Validation: |          | 0/? [00:00<?, ?it/s]"
      ]
     },
     "metadata": {},
     "output_type": "display_data"
    },
    {
     "data": {
      "application/vnd.jupyter.widget-view+json": {
       "model_id": "5ad0b861abe84edc8f73310731426c7e",
       "version_major": 2,
       "version_minor": 0
      },
      "text/plain": [
       "Validation: |          | 0/? [00:00<?, ?it/s]"
      ]
     },
     "metadata": {},
     "output_type": "display_data"
    },
    {
     "data": {
      "application/vnd.jupyter.widget-view+json": {
       "model_id": "29b34654ac8c43009b32571064e3607b",
       "version_major": 2,
       "version_minor": 0
      },
      "text/plain": [
       "Validation: |          | 0/? [00:00<?, ?it/s]"
      ]
     },
     "metadata": {},
     "output_type": "display_data"
    },
    {
     "data": {
      "application/vnd.jupyter.widget-view+json": {
       "model_id": "64f08578d8824689a98afd7ac65e731e",
       "version_major": 2,
       "version_minor": 0
      },
      "text/plain": [
       "Validation: |          | 0/? [00:00<?, ?it/s]"
      ]
     },
     "metadata": {},
     "output_type": "display_data"
    },
    {
     "data": {
      "application/vnd.jupyter.widget-view+json": {
       "model_id": "fd5194156f0c433ebfb6db78c096791c",
       "version_major": 2,
       "version_minor": 0
      },
      "text/plain": [
       "Validation: |          | 0/? [00:00<?, ?it/s]"
      ]
     },
     "metadata": {},
     "output_type": "display_data"
    },
    {
     "data": {
      "application/vnd.jupyter.widget-view+json": {
       "model_id": "6b04d6a582f9479f8a489f05af3983c3",
       "version_major": 2,
       "version_minor": 0
      },
      "text/plain": [
       "Validation: |          | 0/? [00:00<?, ?it/s]"
      ]
     },
     "metadata": {},
     "output_type": "display_data"
    },
    {
     "data": {
      "application/vnd.jupyter.widget-view+json": {
       "model_id": "eead2660c7d34fc6ab49cf48fdc63fbb",
       "version_major": 2,
       "version_minor": 0
      },
      "text/plain": [
       "Validation: |          | 0/? [00:00<?, ?it/s]"
      ]
     },
     "metadata": {},
     "output_type": "display_data"
    },
    {
     "data": {
      "application/vnd.jupyter.widget-view+json": {
       "model_id": "74ea4488137c409a8ae7301d31dac2f4",
       "version_major": 2,
       "version_minor": 0
      },
      "text/plain": [
       "Validation: |          | 0/? [00:00<?, ?it/s]"
      ]
     },
     "metadata": {},
     "output_type": "display_data"
    },
    {
     "data": {
      "application/vnd.jupyter.widget-view+json": {
       "model_id": "d58b84a299f14739b443e747e214cd14",
       "version_major": 2,
       "version_minor": 0
      },
      "text/plain": [
       "Validation: |          | 0/? [00:00<?, ?it/s]"
      ]
     },
     "metadata": {},
     "output_type": "display_data"
    },
    {
     "data": {
      "application/vnd.jupyter.widget-view+json": {
       "model_id": "0da0c159123740e184b9eadd2e4bfcfc",
       "version_major": 2,
       "version_minor": 0
      },
      "text/plain": [
       "Validation: |          | 0/? [00:00<?, ?it/s]"
      ]
     },
     "metadata": {},
     "output_type": "display_data"
    },
    {
     "data": {
      "application/vnd.jupyter.widget-view+json": {
       "model_id": "56798b082f934e6ca28526a9f2ec0112",
       "version_major": 2,
       "version_minor": 0
      },
      "text/plain": [
       "Validation: |          | 0/? [00:00<?, ?it/s]"
      ]
     },
     "metadata": {},
     "output_type": "display_data"
    },
    {
     "data": {
      "application/vnd.jupyter.widget-view+json": {
       "model_id": "2dab95a93a1f4ece80470589422edc6f",
       "version_major": 2,
       "version_minor": 0
      },
      "text/plain": [
       "Validation: |          | 0/? [00:00<?, ?it/s]"
      ]
     },
     "metadata": {},
     "output_type": "display_data"
    },
    {
     "data": {
      "application/vnd.jupyter.widget-view+json": {
       "model_id": "a8e5ea4be6334df2943ce294d8abcdaa",
       "version_major": 2,
       "version_minor": 0
      },
      "text/plain": [
       "Validation: |          | 0/? [00:00<?, ?it/s]"
      ]
     },
     "metadata": {},
     "output_type": "display_data"
    },
    {
     "data": {
      "application/vnd.jupyter.widget-view+json": {
       "model_id": "0641c234263a4613b563d78934d2fa58",
       "version_major": 2,
       "version_minor": 0
      },
      "text/plain": [
       "Validation: |          | 0/? [00:00<?, ?it/s]"
      ]
     },
     "metadata": {},
     "output_type": "display_data"
    },
    {
     "data": {
      "application/vnd.jupyter.widget-view+json": {
       "model_id": "751712c1daaf44b2b7fc6f7187da7eb2",
       "version_major": 2,
       "version_minor": 0
      },
      "text/plain": [
       "Validation: |          | 0/? [00:00<?, ?it/s]"
      ]
     },
     "metadata": {},
     "output_type": "display_data"
    },
    {
     "data": {
      "application/vnd.jupyter.widget-view+json": {
       "model_id": "26c27758d2ca4102b9c9b04cfbbba41b",
       "version_major": 2,
       "version_minor": 0
      },
      "text/plain": [
       "Validation: |          | 0/? [00:00<?, ?it/s]"
      ]
     },
     "metadata": {},
     "output_type": "display_data"
    },
    {
     "data": {
      "application/vnd.jupyter.widget-view+json": {
       "model_id": "5d7dad1470624502a5c9a00167c8f71c",
       "version_major": 2,
       "version_minor": 0
      },
      "text/plain": [
       "Validation: |          | 0/? [00:00<?, ?it/s]"
      ]
     },
     "metadata": {},
     "output_type": "display_data"
    },
    {
     "data": {
      "application/vnd.jupyter.widget-view+json": {
       "model_id": "4da50e2f159b45c5b883ca8f461530df",
       "version_major": 2,
       "version_minor": 0
      },
      "text/plain": [
       "Validation: |          | 0/? [00:00<?, ?it/s]"
      ]
     },
     "metadata": {},
     "output_type": "display_data"
    },
    {
     "data": {
      "application/vnd.jupyter.widget-view+json": {
       "model_id": "b59496d02fcb4a3b8b718d4a24ca6af5",
       "version_major": 2,
       "version_minor": 0
      },
      "text/plain": [
       "Validation: |          | 0/? [00:00<?, ?it/s]"
      ]
     },
     "metadata": {},
     "output_type": "display_data"
    },
    {
     "data": {
      "application/vnd.jupyter.widget-view+json": {
       "model_id": "fd92d319f4fe4df69967ec4910528b70",
       "version_major": 2,
       "version_minor": 0
      },
      "text/plain": [
       "Validation: |          | 0/? [00:00<?, ?it/s]"
      ]
     },
     "metadata": {},
     "output_type": "display_data"
    },
    {
     "data": {
      "application/vnd.jupyter.widget-view+json": {
       "model_id": "5536b466a7e04e339b211347b83c50f3",
       "version_major": 2,
       "version_minor": 0
      },
      "text/plain": [
       "Validation: |          | 0/? [00:00<?, ?it/s]"
      ]
     },
     "metadata": {},
     "output_type": "display_data"
    },
    {
     "name": "stderr",
     "output_type": "stream",
     "text": [
      "`Trainer.fit` stopped: `max_steps=500` reached.\n",
      "GPU available: True (mps), used: True\n",
      "TPU available: False, using: 0 TPU cores\n",
      "HPU available: False, using: 0 HPUs\n"
     ]
    },
    {
     "data": {
      "application/vnd.jupyter.widget-view+json": {
       "model_id": "619f786c0b8a4626bd3913584a93174f",
       "version_major": 2,
       "version_minor": 0
      },
      "text/plain": [
       "Predicting: |          | 0/? [00:00<?, ?it/s]"
      ]
     },
     "metadata": {},
     "output_type": "display_data"
    }
   ],
   "source": [
    "from IPython.display import display\n",
    "\n",
    "seed_logger = logging.getLogger(\"lightning_fabric.utilities.seed\")\n",
    "orig_seed_log_level = seed_logger.getEffectiveLevel()\n",
    "seed_logger.setLevel(logging.FATAL)\n",
    "\n",
    "nf = NeuralForecast(\n",
    "    models=[model],\n",
    "    freq=\"B\",\n",
    "    # local_scaler_type=\"standard\",\n",
    "    local_scaler_type=None,\n",
    ")\n",
    "\n",
    "seed_logger.setLevel(orig_seed_log_level)\n",
    "\n",
    "validate = False\n",
    "val_size = min(300, int(len(df_train) * 0.9)) if validate else 0\n",
    "nf.fit(\n",
    "    df_train, \n",
    "    val_size=val_size, \n",
    "    # use_init_models=True\n",
    ")\n",
    "\n",
    "forecast = nf.predict_insample(step_size=horizon)\n",
    "forecast = forecast.dropna(subset=[nf.models[0]])\n",
    "forecast.reset_index(inplace=True)\n",
    "\n",
    "# forecast\n",
    "\n",
    "# evaluation_df = evaluate_cross_validation(forecast[:-val_size], mae)\n",
    "# print(\"training MAE:\")\n",
    "# display(evaluation_df)\n",
    "\n",
    "# evaluation_df = evaluate_cross_validation(forecast[-val_size:], mae)\n",
    "# print(\"validation MAE:\")\n",
    "# display(evaluation_df)"
   ]
  },
  {
   "cell_type": "code",
   "execution_count": 18,
   "metadata": {},
   "outputs": [
    {
     "data": {
      "text/plain": [
       "\"alias\":                        None\n",
       "\"batch_size\":                   32\n",
       "\"dataloader_kwargs\":            None\n",
       "\"drop_last_loader\":             False\n",
       "\"dropout\":                      0.1\n",
       "\"early_stop_patience_steps\":    -1\n",
       "\"exclude_insample_y\":           False\n",
       "\"ff_dim\":                       16\n",
       "\"futr_exog_list\":               None\n",
       "\"h\":                            20\n",
       "\"h_train\":                      1\n",
       "\"hist_exog_list\":               ['dynamic_dynamic10_stock_zh_a_hist_em::600898', 'dynamic_dynamic100_stock_zh_a_hist_em::600898', 'dynamic_dynamic30_stock_zh_a_hist_em::600898']\n",
       "\"inference_input_size\":         60\n",
       "\"inference_windows_batch_size\": 32\n",
       "\"input_size\":                   60\n",
       "\"learning_rate\":                0.001\n",
       "\"loss\":                         HuberLoss()\n",
       "\"lr_scheduler\":                 None\n",
       "\"lr_scheduler_kwargs\":          None\n",
       "\"max_steps\":                    500\n",
       "\"n_block\":                      2\n",
       "\"n_samples\":                    100\n",
       "\"n_series\":                     1\n",
       "\"num_lr_decays\":                -1\n",
       "\"optimizer\":                    <class 'torch.optim.adamw.AdamW'>\n",
       "\"optimizer_kwargs\":             {'fused': False}\n",
       "\"random_seed\":                  7\n",
       "\"revin\":                        True\n",
       "\"scaler_type\":                  identity\n",
       "\"start_padding_enabled\":        False\n",
       "\"stat_exog_list\":               None\n",
       "\"step_size\":                    1\n",
       "\"val_check_steps\":              5\n",
       "\"valid_batch_size\":             None\n",
       "\"valid_loss\":                   HuberLoss()\n",
       "\"windows_batch_size\":           32"
      ]
     },
     "execution_count": 18,
     "metadata": {},
     "output_type": "execute_result"
    }
   ],
   "source": [
    "nf.models[0].hparams"
   ]
  },
  {
   "cell_type": "code",
   "execution_count": 15,
   "metadata": {},
   "outputs": [
    {
     "name": "stderr",
     "output_type": "stream",
     "text": [
      "GPU available: True (mps), used: True\n",
      "TPU available: False, using: 0 TPU cores\n",
      "HPU available: False, using: 0 HPUs\n"
     ]
    },
    {
     "data": {
      "application/vnd.jupyter.widget-view+json": {
       "model_id": "ce2b96b9261f401fb8cfdc96bb0768c7",
       "version_major": 2,
       "version_minor": 0
      },
      "text/plain": [
       "Predicting: |          | 0/? [00:00<?, ?it/s]"
      ]
     },
     "metadata": {},
     "output_type": "display_data"
    }
   ],
   "source": [
    "forecast = nf.predict_insample(step_size=horizon)\n",
    "forecast = forecast.dropna(subset=[str(nf.models[0])])\n",
    "forecast.reset_index(inplace=True)"
   ]
  },
  {
   "cell_type": "code",
   "execution_count": 16,
   "metadata": {},
   "outputs": [
    {
     "data": {
      "text/html": [
       "<div>\n",
       "<style scoped>\n",
       "    .dataframe tbody tr th:only-of-type {\n",
       "        vertical-align: middle;\n",
       "    }\n",
       "\n",
       "    .dataframe tbody tr th {\n",
       "        vertical-align: top;\n",
       "    }\n",
       "\n",
       "    .dataframe thead th {\n",
       "        text-align: right;\n",
       "    }\n",
       "</style>\n",
       "<table border=\"1\" class=\"dataframe\">\n",
       "  <thead>\n",
       "    <tr style=\"text-align: right;\">\n",
       "      <th></th>\n",
       "      <th>index</th>\n",
       "      <th>unique_id</th>\n",
       "      <th>ds</th>\n",
       "      <th>cutoff</th>\n",
       "      <th>TSMixerx</th>\n",
       "      <th>y</th>\n",
       "    </tr>\n",
       "  </thead>\n",
       "  <tbody>\n",
       "    <tr>\n",
       "      <th>0</th>\n",
       "      <td>0</td>\n",
       "      <td>0</td>\n",
       "      <td>2019-10-22</td>\n",
       "      <td>2019-10-21</td>\n",
       "      <td>0.000620</td>\n",
       "      <td>-0.239844</td>\n",
       "    </tr>\n",
       "    <tr>\n",
       "      <th>1</th>\n",
       "      <td>1</td>\n",
       "      <td>0</td>\n",
       "      <td>2019-10-23</td>\n",
       "      <td>2019-10-21</td>\n",
       "      <td>0.000530</td>\n",
       "      <td>-0.134459</td>\n",
       "    </tr>\n",
       "    <tr>\n",
       "      <th>2</th>\n",
       "      <td>2</td>\n",
       "      <td>0</td>\n",
       "      <td>2019-10-24</td>\n",
       "      <td>2019-10-21</td>\n",
       "      <td>0.000179</td>\n",
       "      <td>-0.136209</td>\n",
       "    </tr>\n",
       "    <tr>\n",
       "      <th>3</th>\n",
       "      <td>3</td>\n",
       "      <td>0</td>\n",
       "      <td>2019-10-25</td>\n",
       "      <td>2019-10-21</td>\n",
       "      <td>0.000680</td>\n",
       "      <td>-0.119381</td>\n",
       "    </tr>\n",
       "    <tr>\n",
       "      <th>4</th>\n",
       "      <td>4</td>\n",
       "      <td>0</td>\n",
       "      <td>2019-10-28</td>\n",
       "      <td>2019-10-21</td>\n",
       "      <td>0.000580</td>\n",
       "      <td>-0.057091</td>\n",
       "    </tr>\n",
       "    <tr>\n",
       "      <th>...</th>\n",
       "      <td>...</td>\n",
       "      <td>...</td>\n",
       "      <td>...</td>\n",
       "      <td>...</td>\n",
       "      <td>...</td>\n",
       "      <td>...</td>\n",
       "    </tr>\n",
       "    <tr>\n",
       "      <th>1315</th>\n",
       "      <td>1315</td>\n",
       "      <td>0</td>\n",
       "      <td>2025-03-25</td>\n",
       "      <td>2025-03-03</td>\n",
       "      <td>0.117082</td>\n",
       "      <td>0.360000</td>\n",
       "    </tr>\n",
       "    <tr>\n",
       "      <th>1316</th>\n",
       "      <td>1316</td>\n",
       "      <td>0</td>\n",
       "      <td>2025-03-26</td>\n",
       "      <td>2025-03-03</td>\n",
       "      <td>0.186905</td>\n",
       "      <td>-1.490000</td>\n",
       "    </tr>\n",
       "    <tr>\n",
       "      <th>1317</th>\n",
       "      <td>1317</td>\n",
       "      <td>0</td>\n",
       "      <td>2025-03-27</td>\n",
       "      <td>2025-03-03</td>\n",
       "      <td>0.114805</td>\n",
       "      <td>0.160000</td>\n",
       "    </tr>\n",
       "    <tr>\n",
       "      <th>1318</th>\n",
       "      <td>1318</td>\n",
       "      <td>0</td>\n",
       "      <td>2025-03-28</td>\n",
       "      <td>2025-03-03</td>\n",
       "      <td>0.057662</td>\n",
       "      <td>-0.680000</td>\n",
       "    </tr>\n",
       "    <tr>\n",
       "      <th>1319</th>\n",
       "      <td>1319</td>\n",
       "      <td>0</td>\n",
       "      <td>2025-03-31</td>\n",
       "      <td>2025-03-03</td>\n",
       "      <td>0.136371</td>\n",
       "      <td>1.630000</td>\n",
       "    </tr>\n",
       "  </tbody>\n",
       "</table>\n",
       "<p>1320 rows × 6 columns</p>\n",
       "</div>"
      ],
      "text/plain": [
       "      index unique_id         ds     cutoff  TSMixerx         y\n",
       "0         0         0 2019-10-22 2019-10-21  0.000620 -0.239844\n",
       "1         1         0 2019-10-23 2019-10-21  0.000530 -0.134459\n",
       "2         2         0 2019-10-24 2019-10-21  0.000179 -0.136209\n",
       "3         3         0 2019-10-25 2019-10-21  0.000680 -0.119381\n",
       "4         4         0 2019-10-28 2019-10-21  0.000580 -0.057091\n",
       "...     ...       ...        ...        ...       ...       ...\n",
       "1315   1315         0 2025-03-25 2025-03-03  0.117082  0.360000\n",
       "1316   1316         0 2025-03-26 2025-03-03  0.186905 -1.490000\n",
       "1317   1317         0 2025-03-27 2025-03-03  0.114805  0.160000\n",
       "1318   1318         0 2025-03-28 2025-03-03  0.057662 -0.680000\n",
       "1319   1319         0 2025-03-31 2025-03-03  0.136371  1.630000\n",
       "\n",
       "[1320 rows x 6 columns]"
      ]
     },
     "execution_count": 16,
     "metadata": {},
     "output_type": "execute_result"
    }
   ],
   "source": [
    "forecast"
   ]
  },
  {
   "cell_type": "code",
   "execution_count": 81,
   "metadata": {},
   "outputs": [
    {
     "name": "stderr",
     "output_type": "stream",
     "text": [
      "GPU available: False, used: False\n",
      "TPU available: False, using: 0 TPU cores\n",
      "HPU available: False, using: 0 HPUs\n"
     ]
    },
    {
     "data": {
      "application/vnd.jupyter.widget-view+json": {
       "model_id": "22606df619874d75beea543c28a20c65",
       "version_major": 2,
       "version_minor": 0
      },
      "text/plain": [
       "Predicting: |          | 0/? [00:00<?, ?it/s]"
      ]
     },
     "metadata": {},
     "output_type": "display_data"
    }
   ],
   "source": [
    "forecast = nf.predict_insample(step_size=horizon)\n",
    "forecast.reset_index(inplace=True)"
   ]
  },
  {
   "cell_type": "code",
   "execution_count": 20,
   "metadata": {},
   "outputs": [
    {
     "name": "stdout",
     "output_type": "stream",
     "text": [
      "<class 'pandas.core.frame.DataFrame'>\n",
      "RangeIndex: 2620 entries, 0 to 2619\n",
      "Data columns (total 6 columns):\n",
      " #   Column     Non-Null Count  Dtype         \n",
      "---  ------     --------------  -----         \n",
      " 0   index      2620 non-null   int64         \n",
      " 1   unique_id  2620 non-null   object        \n",
      " 2   ds         2620 non-null   datetime64[ns]\n",
      " 3   cutoff     2620 non-null   datetime64[ns]\n",
      " 4   TSMixerx   2560 non-null   float32       \n",
      " 5   y          2620 non-null   float32       \n",
      "dtypes: datetime64[ns](2), float32(2), int64(1), object(1)\n",
      "memory usage: 102.5+ KB\n"
     ]
    }
   ],
   "source": [
    "forecast.info()"
   ]
  },
  {
   "cell_type": "code",
   "execution_count": 21,
   "metadata": {},
   "outputs": [
    {
     "data": {
      "text/html": [
       "<div>\n",
       "<style scoped>\n",
       "    .dataframe tbody tr th:only-of-type {\n",
       "        vertical-align: middle;\n",
       "    }\n",
       "\n",
       "    .dataframe tbody tr th {\n",
       "        vertical-align: top;\n",
       "    }\n",
       "\n",
       "    .dataframe thead th {\n",
       "        text-align: right;\n",
       "    }\n",
       "</style>\n",
       "<table border=\"1\" class=\"dataframe\">\n",
       "  <thead>\n",
       "    <tr style=\"text-align: right;\">\n",
       "      <th></th>\n",
       "      <th>index</th>\n",
       "      <th>unique_id</th>\n",
       "      <th>ds</th>\n",
       "      <th>cutoff</th>\n",
       "      <th>TSMixerx</th>\n",
       "      <th>y</th>\n",
       "    </tr>\n",
       "  </thead>\n",
       "  <tbody>\n",
       "    <tr>\n",
       "      <th>0</th>\n",
       "      <td>0</td>\n",
       "      <td>399673</td>\n",
       "      <td>2014-06-25</td>\n",
       "      <td>2014-06-24</td>\n",
       "      <td>0.308998</td>\n",
       "      <td>-0.64595</td>\n",
       "    </tr>\n",
       "    <tr>\n",
       "      <th>1</th>\n",
       "      <td>1</td>\n",
       "      <td>399673</td>\n",
       "      <td>2014-06-26</td>\n",
       "      <td>2014-06-24</td>\n",
       "      <td>0.155208</td>\n",
       "      <td>2.33750</td>\n",
       "    </tr>\n",
       "    <tr>\n",
       "      <th>2</th>\n",
       "      <td>2</td>\n",
       "      <td>399673</td>\n",
       "      <td>2014-06-27</td>\n",
       "      <td>2014-06-24</td>\n",
       "      <td>0.228050</td>\n",
       "      <td>0.15809</td>\n",
       "    </tr>\n",
       "    <tr>\n",
       "      <th>3</th>\n",
       "      <td>3</td>\n",
       "      <td>399673</td>\n",
       "      <td>2014-06-30</td>\n",
       "      <td>2014-06-24</td>\n",
       "      <td>0.208660</td>\n",
       "      <td>0.97504</td>\n",
       "    </tr>\n",
       "    <tr>\n",
       "      <th>4</th>\n",
       "      <td>4</td>\n",
       "      <td>399673</td>\n",
       "      <td>2014-07-01</td>\n",
       "      <td>2014-06-24</td>\n",
       "      <td>0.026450</td>\n",
       "      <td>0.46528</td>\n",
       "    </tr>\n",
       "    <tr>\n",
       "      <th>...</th>\n",
       "      <td>...</td>\n",
       "      <td>...</td>\n",
       "      <td>...</td>\n",
       "      <td>...</td>\n",
       "      <td>...</td>\n",
       "      <td>...</td>\n",
       "    </tr>\n",
       "    <tr>\n",
       "      <th>2615</th>\n",
       "      <td>2615</td>\n",
       "      <td>399673</td>\n",
       "      <td>2025-03-27</td>\n",
       "      <td>2025-03-05</td>\n",
       "      <td>NaN</td>\n",
       "      <td>0.16914</td>\n",
       "    </tr>\n",
       "    <tr>\n",
       "      <th>2616</th>\n",
       "      <td>2616</td>\n",
       "      <td>399673</td>\n",
       "      <td>2025-03-28</td>\n",
       "      <td>2025-03-05</td>\n",
       "      <td>NaN</td>\n",
       "      <td>-0.78296</td>\n",
       "    </tr>\n",
       "    <tr>\n",
       "      <th>2617</th>\n",
       "      <td>2617</td>\n",
       "      <td>399673</td>\n",
       "      <td>2025-03-31</td>\n",
       "      <td>2025-03-05</td>\n",
       "      <td>NaN</td>\n",
       "      <td>-1.22982</td>\n",
       "    </tr>\n",
       "    <tr>\n",
       "      <th>2618</th>\n",
       "      <td>2618</td>\n",
       "      <td>399673</td>\n",
       "      <td>2025-04-01</td>\n",
       "      <td>2025-03-05</td>\n",
       "      <td>NaN</td>\n",
       "      <td>-0.36531</td>\n",
       "    </tr>\n",
       "    <tr>\n",
       "      <th>2619</th>\n",
       "      <td>2619</td>\n",
       "      <td>399673</td>\n",
       "      <td>2025-04-02</td>\n",
       "      <td>2025-03-05</td>\n",
       "      <td>NaN</td>\n",
       "      <td>0.19661</td>\n",
       "    </tr>\n",
       "  </tbody>\n",
       "</table>\n",
       "<p>2620 rows × 6 columns</p>\n",
       "</div>"
      ],
      "text/plain": [
       "      index unique_id         ds     cutoff  TSMixerx        y\n",
       "0         0    399673 2014-06-25 2014-06-24  0.308998 -0.64595\n",
       "1         1    399673 2014-06-26 2014-06-24  0.155208  2.33750\n",
       "2         2    399673 2014-06-27 2014-06-24  0.228050  0.15809\n",
       "3         3    399673 2014-06-30 2014-06-24  0.208660  0.97504\n",
       "4         4    399673 2014-07-01 2014-06-24  0.026450  0.46528\n",
       "...     ...       ...        ...        ...       ...      ...\n",
       "2615   2615    399673 2025-03-27 2025-03-05       NaN  0.16914\n",
       "2616   2616    399673 2025-03-28 2025-03-05       NaN -0.78296\n",
       "2617   2617    399673 2025-03-31 2025-03-05       NaN -1.22982\n",
       "2618   2618    399673 2025-04-01 2025-03-05       NaN -0.36531\n",
       "2619   2619    399673 2025-04-02 2025-03-05       NaN  0.19661\n",
       "\n",
       "[2620 rows x 6 columns]"
      ]
     },
     "execution_count": 21,
     "metadata": {},
     "output_type": "execute_result"
    }
   ],
   "source": [
    "forecast"
   ]
  },
  {
   "cell_type": "code",
   "execution_count": 82,
   "metadata": {},
   "outputs": [
    {
     "data": {
      "text/plain": [
       "(2593, 2580)"
      ]
     },
     "execution_count": 82,
     "metadata": {},
     "output_type": "execute_result"
    }
   ],
   "source": [
    "len(df_train), len(forecast)"
   ]
  },
  {
   "cell_type": "code",
   "execution_count": 83,
   "metadata": {},
   "outputs": [
    {
     "data": {
      "text/html": [
       "<div>\n",
       "<style scoped>\n",
       "    .dataframe tbody tr th:only-of-type {\n",
       "        vertical-align: middle;\n",
       "    }\n",
       "\n",
       "    .dataframe tbody tr th {\n",
       "        vertical-align: top;\n",
       "    }\n",
       "\n",
       "    .dataframe thead th {\n",
       "        text-align: right;\n",
       "    }\n",
       "</style>\n",
       "<table border=\"1\" class=\"dataframe\">\n",
       "  <thead>\n",
       "    <tr style=\"text-align: right;\">\n",
       "      <th></th>\n",
       "      <th>index</th>\n",
       "      <th>unique_id</th>\n",
       "      <th>ds</th>\n",
       "      <th>cutoff</th>\n",
       "      <th>TSMixerx</th>\n",
       "      <th>y</th>\n",
       "    </tr>\n",
       "  </thead>\n",
       "  <tbody>\n",
       "    <tr>\n",
       "      <th>2480</th>\n",
       "      <td>2480</td>\n",
       "      <td>399673</td>\n",
       "      <td>2024-09-12</td>\n",
       "      <td>2024-09-11</td>\n",
       "      <td>0.929439</td>\n",
       "      <td>-0.154400</td>\n",
       "    </tr>\n",
       "    <tr>\n",
       "      <th>2481</th>\n",
       "      <td>2481</td>\n",
       "      <td>399673</td>\n",
       "      <td>2024-09-13</td>\n",
       "      <td>2024-09-11</td>\n",
       "      <td>0.928840</td>\n",
       "      <td>-0.937100</td>\n",
       "    </tr>\n",
       "    <tr>\n",
       "      <th>2482</th>\n",
       "      <td>2482</td>\n",
       "      <td>399673</td>\n",
       "      <td>2024-09-18</td>\n",
       "      <td>2024-09-11</td>\n",
       "      <td>0.898322</td>\n",
       "      <td>0.093400</td>\n",
       "    </tr>\n",
       "    <tr>\n",
       "      <th>2483</th>\n",
       "      <td>2483</td>\n",
       "      <td>399673</td>\n",
       "      <td>2024-09-19</td>\n",
       "      <td>2024-09-11</td>\n",
       "      <td>0.942747</td>\n",
       "      <td>0.722470</td>\n",
       "    </tr>\n",
       "    <tr>\n",
       "      <th>2484</th>\n",
       "      <td>2484</td>\n",
       "      <td>399673</td>\n",
       "      <td>2024-09-20</td>\n",
       "      <td>2024-09-11</td>\n",
       "      <td>0.946126</td>\n",
       "      <td>-0.585610</td>\n",
       "    </tr>\n",
       "    <tr>\n",
       "      <th>2485</th>\n",
       "      <td>2485</td>\n",
       "      <td>399673</td>\n",
       "      <td>2024-09-23</td>\n",
       "      <td>2024-09-11</td>\n",
       "      <td>0.832091</td>\n",
       "      <td>-0.222980</td>\n",
       "    </tr>\n",
       "    <tr>\n",
       "      <th>2486</th>\n",
       "      <td>2486</td>\n",
       "      <td>399673</td>\n",
       "      <td>2024-09-24</td>\n",
       "      <td>2024-09-11</td>\n",
       "      <td>0.992390</td>\n",
       "      <td>5.951140</td>\n",
       "    </tr>\n",
       "    <tr>\n",
       "      <th>2487</th>\n",
       "      <td>2487</td>\n",
       "      <td>399673</td>\n",
       "      <td>2024-09-25</td>\n",
       "      <td>2024-09-11</td>\n",
       "      <td>0.869868</td>\n",
       "      <td>1.813950</td>\n",
       "    </tr>\n",
       "    <tr>\n",
       "      <th>2488</th>\n",
       "      <td>2488</td>\n",
       "      <td>399673</td>\n",
       "      <td>2024-09-26</td>\n",
       "      <td>2024-09-11</td>\n",
       "      <td>0.950145</td>\n",
       "      <td>4.314620</td>\n",
       "    </tr>\n",
       "    <tr>\n",
       "      <th>2489</th>\n",
       "      <td>2489</td>\n",
       "      <td>399673</td>\n",
       "      <td>2024-09-27</td>\n",
       "      <td>2024-09-11</td>\n",
       "      <td>0.933606</td>\n",
       "      <td>10.675050</td>\n",
       "    </tr>\n",
       "    <tr>\n",
       "      <th>2490</th>\n",
       "      <td>2490</td>\n",
       "      <td>399673</td>\n",
       "      <td>2024-09-30</td>\n",
       "      <td>2024-09-11</td>\n",
       "      <td>0.969837</td>\n",
       "      <td>15.554130</td>\n",
       "    </tr>\n",
       "    <tr>\n",
       "      <th>2491</th>\n",
       "      <td>2491</td>\n",
       "      <td>399673</td>\n",
       "      <td>2024-10-08</td>\n",
       "      <td>2024-09-11</td>\n",
       "      <td>0.924064</td>\n",
       "      <td>18.558559</td>\n",
       "    </tr>\n",
       "    <tr>\n",
       "      <th>2492</th>\n",
       "      <td>2492</td>\n",
       "      <td>399673</td>\n",
       "      <td>2024-10-09</td>\n",
       "      <td>2024-09-11</td>\n",
       "      <td>0.911648</td>\n",
       "      <td>-10.315370</td>\n",
       "    </tr>\n",
       "    <tr>\n",
       "      <th>2493</th>\n",
       "      <td>2493</td>\n",
       "      <td>399673</td>\n",
       "      <td>2024-10-10</td>\n",
       "      <td>2024-09-11</td>\n",
       "      <td>0.895488</td>\n",
       "      <td>-3.462800</td>\n",
       "    </tr>\n",
       "    <tr>\n",
       "      <th>2494</th>\n",
       "      <td>2494</td>\n",
       "      <td>399673</td>\n",
       "      <td>2024-10-11</td>\n",
       "      <td>2024-09-11</td>\n",
       "      <td>0.986320</td>\n",
       "      <td>-5.034370</td>\n",
       "    </tr>\n",
       "    <tr>\n",
       "      <th>2495</th>\n",
       "      <td>2495</td>\n",
       "      <td>399673</td>\n",
       "      <td>2024-10-14</td>\n",
       "      <td>2024-09-11</td>\n",
       "      <td>0.887159</td>\n",
       "      <td>2.630180</td>\n",
       "    </tr>\n",
       "    <tr>\n",
       "      <th>2496</th>\n",
       "      <td>2496</td>\n",
       "      <td>399673</td>\n",
       "      <td>2024-10-15</td>\n",
       "      <td>2024-09-11</td>\n",
       "      <td>0.918855</td>\n",
       "      <td>-3.330540</td>\n",
       "    </tr>\n",
       "    <tr>\n",
       "      <th>2497</th>\n",
       "      <td>2497</td>\n",
       "      <td>399673</td>\n",
       "      <td>2024-10-16</td>\n",
       "      <td>2024-09-11</td>\n",
       "      <td>0.957042</td>\n",
       "      <td>-2.453590</td>\n",
       "    </tr>\n",
       "    <tr>\n",
       "      <th>2498</th>\n",
       "      <td>2498</td>\n",
       "      <td>399673</td>\n",
       "      <td>2024-10-17</td>\n",
       "      <td>2024-09-11</td>\n",
       "      <td>0.877788</td>\n",
       "      <td>-0.208830</td>\n",
       "    </tr>\n",
       "    <tr>\n",
       "      <th>2499</th>\n",
       "      <td>2499</td>\n",
       "      <td>399673</td>\n",
       "      <td>2024-10-18</td>\n",
       "      <td>2024-09-11</td>\n",
       "      <td>0.901695</td>\n",
       "      <td>8.629220</td>\n",
       "    </tr>\n",
       "    <tr>\n",
       "      <th>2500</th>\n",
       "      <td>2500</td>\n",
       "      <td>399673</td>\n",
       "      <td>2024-10-21</td>\n",
       "      <td>2024-10-18</td>\n",
       "      <td>0.040810</td>\n",
       "      <td>0.439230</td>\n",
       "    </tr>\n",
       "    <tr>\n",
       "      <th>2501</th>\n",
       "      <td>2501</td>\n",
       "      <td>399673</td>\n",
       "      <td>2024-10-22</td>\n",
       "      <td>2024-10-18</td>\n",
       "      <td>0.040555</td>\n",
       "      <td>0.333960</td>\n",
       "    </tr>\n",
       "    <tr>\n",
       "      <th>2502</th>\n",
       "      <td>2502</td>\n",
       "      <td>399673</td>\n",
       "      <td>2024-10-23</td>\n",
       "      <td>2024-10-18</td>\n",
       "      <td>0.027690</td>\n",
       "      <td>-0.837070</td>\n",
       "    </tr>\n",
       "    <tr>\n",
       "      <th>2503</th>\n",
       "      <td>2503</td>\n",
       "      <td>399673</td>\n",
       "      <td>2024-10-24</td>\n",
       "      <td>2024-10-18</td>\n",
       "      <td>0.046414</td>\n",
       "      <td>-1.354880</td>\n",
       "    </tr>\n",
       "    <tr>\n",
       "      <th>2504</th>\n",
       "      <td>2504</td>\n",
       "      <td>399673</td>\n",
       "      <td>2024-10-25</td>\n",
       "      <td>2024-10-18</td>\n",
       "      <td>0.047839</td>\n",
       "      <td>3.226580</td>\n",
       "    </tr>\n",
       "    <tr>\n",
       "      <th>2505</th>\n",
       "      <td>2505</td>\n",
       "      <td>399673</td>\n",
       "      <td>2024-10-28</td>\n",
       "      <td>2024-10-18</td>\n",
       "      <td>-0.000207</td>\n",
       "      <td>-0.743010</td>\n",
       "    </tr>\n",
       "    <tr>\n",
       "      <th>2506</th>\n",
       "      <td>2506</td>\n",
       "      <td>399673</td>\n",
       "      <td>2024-10-29</td>\n",
       "      <td>2024-10-18</td>\n",
       "      <td>0.067328</td>\n",
       "      <td>-2.312590</td>\n",
       "    </tr>\n",
       "    <tr>\n",
       "      <th>2507</th>\n",
       "      <td>2507</td>\n",
       "      <td>399673</td>\n",
       "      <td>2024-10-30</td>\n",
       "      <td>2024-10-18</td>\n",
       "      <td>0.015709</td>\n",
       "      <td>-1.269350</td>\n",
       "    </tr>\n",
       "    <tr>\n",
       "      <th>2508</th>\n",
       "      <td>2508</td>\n",
       "      <td>399673</td>\n",
       "      <td>2024-10-31</td>\n",
       "      <td>2024-10-18</td>\n",
       "      <td>0.049534</td>\n",
       "      <td>0.779400</td>\n",
       "    </tr>\n",
       "    <tr>\n",
       "      <th>2509</th>\n",
       "      <td>2509</td>\n",
       "      <td>399673</td>\n",
       "      <td>2024-11-01</td>\n",
       "      <td>2024-10-18</td>\n",
       "      <td>0.042563</td>\n",
       "      <td>-1.848250</td>\n",
       "    </tr>\n",
       "    <tr>\n",
       "      <th>2510</th>\n",
       "      <td>2510</td>\n",
       "      <td>399673</td>\n",
       "      <td>2024-11-04</td>\n",
       "      <td>2024-10-18</td>\n",
       "      <td>0.057825</td>\n",
       "      <td>3.084020</td>\n",
       "    </tr>\n",
       "    <tr>\n",
       "      <th>2511</th>\n",
       "      <td>2511</td>\n",
       "      <td>399673</td>\n",
       "      <td>2024-11-05</td>\n",
       "      <td>2024-10-18</td>\n",
       "      <td>0.038543</td>\n",
       "      <td>5.035230</td>\n",
       "    </tr>\n",
       "    <tr>\n",
       "      <th>2512</th>\n",
       "      <td>2512</td>\n",
       "      <td>399673</td>\n",
       "      <td>2024-11-06</td>\n",
       "      <td>2024-10-18</td>\n",
       "      <td>0.033312</td>\n",
       "      <td>-1.351180</td>\n",
       "    </tr>\n",
       "    <tr>\n",
       "      <th>2513</th>\n",
       "      <td>2513</td>\n",
       "      <td>399673</td>\n",
       "      <td>2024-11-07</td>\n",
       "      <td>2024-10-18</td>\n",
       "      <td>0.026502</td>\n",
       "      <td>4.069850</td>\n",
       "    </tr>\n",
       "    <tr>\n",
       "      <th>2514</th>\n",
       "      <td>2514</td>\n",
       "      <td>399673</td>\n",
       "      <td>2024-11-08</td>\n",
       "      <td>2024-10-18</td>\n",
       "      <td>0.064771</td>\n",
       "      <td>-1.752850</td>\n",
       "    </tr>\n",
       "    <tr>\n",
       "      <th>2515</th>\n",
       "      <td>2515</td>\n",
       "      <td>399673</td>\n",
       "      <td>2024-11-11</td>\n",
       "      <td>2024-10-18</td>\n",
       "      <td>0.022999</td>\n",
       "      <td>3.036280</td>\n",
       "    </tr>\n",
       "    <tr>\n",
       "      <th>2516</th>\n",
       "      <td>2516</td>\n",
       "      <td>399673</td>\n",
       "      <td>2024-11-12</td>\n",
       "      <td>2024-10-18</td>\n",
       "      <td>0.036348</td>\n",
       "      <td>0.193970</td>\n",
       "    </tr>\n",
       "    <tr>\n",
       "      <th>2517</th>\n",
       "      <td>2517</td>\n",
       "      <td>399673</td>\n",
       "      <td>2024-11-13</td>\n",
       "      <td>2024-10-18</td>\n",
       "      <td>0.052440</td>\n",
       "      <td>1.630560</td>\n",
       "    </tr>\n",
       "    <tr>\n",
       "      <th>2518</th>\n",
       "      <td>2518</td>\n",
       "      <td>399673</td>\n",
       "      <td>2024-11-14</td>\n",
       "      <td>2024-10-18</td>\n",
       "      <td>0.019043</td>\n",
       "      <td>-3.365630</td>\n",
       "    </tr>\n",
       "    <tr>\n",
       "      <th>2519</th>\n",
       "      <td>2519</td>\n",
       "      <td>399673</td>\n",
       "      <td>2024-11-15</td>\n",
       "      <td>2024-10-18</td>\n",
       "      <td>0.029119</td>\n",
       "      <td>-4.207200</td>\n",
       "    </tr>\n",
       "    <tr>\n",
       "      <th>2520</th>\n",
       "      <td>2520</td>\n",
       "      <td>399673</td>\n",
       "      <td>2024-11-18</td>\n",
       "      <td>2024-11-15</td>\n",
       "      <td>NaN</td>\n",
       "      <td>-2.355430</td>\n",
       "    </tr>\n",
       "    <tr>\n",
       "      <th>2521</th>\n",
       "      <td>2521</td>\n",
       "      <td>399673</td>\n",
       "      <td>2024-11-19</td>\n",
       "      <td>2024-11-15</td>\n",
       "      <td>NaN</td>\n",
       "      <td>3.201190</td>\n",
       "    </tr>\n",
       "    <tr>\n",
       "      <th>2522</th>\n",
       "      <td>2522</td>\n",
       "      <td>399673</td>\n",
       "      <td>2024-11-20</td>\n",
       "      <td>2024-11-15</td>\n",
       "      <td>NaN</td>\n",
       "      <td>0.347250</td>\n",
       "    </tr>\n",
       "    <tr>\n",
       "      <th>2523</th>\n",
       "      <td>2523</td>\n",
       "      <td>399673</td>\n",
       "      <td>2024-11-21</td>\n",
       "      <td>2024-11-15</td>\n",
       "      <td>NaN</td>\n",
       "      <td>-0.112280</td>\n",
       "    </tr>\n",
       "    <tr>\n",
       "      <th>2524</th>\n",
       "      <td>2524</td>\n",
       "      <td>399673</td>\n",
       "      <td>2024-11-22</td>\n",
       "      <td>2024-11-15</td>\n",
       "      <td>NaN</td>\n",
       "      <td>-3.999580</td>\n",
       "    </tr>\n",
       "    <tr>\n",
       "      <th>2525</th>\n",
       "      <td>2525</td>\n",
       "      <td>399673</td>\n",
       "      <td>2024-11-25</td>\n",
       "      <td>2024-11-15</td>\n",
       "      <td>NaN</td>\n",
       "      <td>-0.078670</td>\n",
       "    </tr>\n",
       "    <tr>\n",
       "      <th>2526</th>\n",
       "      <td>2526</td>\n",
       "      <td>399673</td>\n",
       "      <td>2024-11-26</td>\n",
       "      <td>2024-11-15</td>\n",
       "      <td>NaN</td>\n",
       "      <td>-1.286230</td>\n",
       "    </tr>\n",
       "    <tr>\n",
       "      <th>2527</th>\n",
       "      <td>2527</td>\n",
       "      <td>399673</td>\n",
       "      <td>2024-11-27</td>\n",
       "      <td>2024-11-15</td>\n",
       "      <td>NaN</td>\n",
       "      <td>2.805830</td>\n",
       "    </tr>\n",
       "    <tr>\n",
       "      <th>2528</th>\n",
       "      <td>2528</td>\n",
       "      <td>399673</td>\n",
       "      <td>2024-11-28</td>\n",
       "      <td>2024-11-15</td>\n",
       "      <td>NaN</td>\n",
       "      <td>-1.968350</td>\n",
       "    </tr>\n",
       "    <tr>\n",
       "      <th>2529</th>\n",
       "      <td>2529</td>\n",
       "      <td>399673</td>\n",
       "      <td>2024-11-29</td>\n",
       "      <td>2024-11-15</td>\n",
       "      <td>NaN</td>\n",
       "      <td>2.742640</td>\n",
       "    </tr>\n",
       "    <tr>\n",
       "      <th>2530</th>\n",
       "      <td>2530</td>\n",
       "      <td>399673</td>\n",
       "      <td>2024-12-02</td>\n",
       "      <td>2024-11-15</td>\n",
       "      <td>NaN</td>\n",
       "      <td>1.403460</td>\n",
       "    </tr>\n",
       "    <tr>\n",
       "      <th>2531</th>\n",
       "      <td>2531</td>\n",
       "      <td>399673</td>\n",
       "      <td>2024-12-03</td>\n",
       "      <td>2024-11-15</td>\n",
       "      <td>NaN</td>\n",
       "      <td>-0.582490</td>\n",
       "    </tr>\n",
       "    <tr>\n",
       "      <th>2532</th>\n",
       "      <td>2532</td>\n",
       "      <td>399673</td>\n",
       "      <td>2024-12-04</td>\n",
       "      <td>2024-11-15</td>\n",
       "      <td>NaN</td>\n",
       "      <td>-1.321960</td>\n",
       "    </tr>\n",
       "    <tr>\n",
       "      <th>2533</th>\n",
       "      <td>2533</td>\n",
       "      <td>399673</td>\n",
       "      <td>2024-12-05</td>\n",
       "      <td>2024-11-15</td>\n",
       "      <td>NaN</td>\n",
       "      <td>0.396590</td>\n",
       "    </tr>\n",
       "    <tr>\n",
       "      <th>2534</th>\n",
       "      <td>2534</td>\n",
       "      <td>399673</td>\n",
       "      <td>2024-12-06</td>\n",
       "      <td>2024-11-15</td>\n",
       "      <td>NaN</td>\n",
       "      <td>2.259380</td>\n",
       "    </tr>\n",
       "    <tr>\n",
       "      <th>2535</th>\n",
       "      <td>2535</td>\n",
       "      <td>399673</td>\n",
       "      <td>2024-12-09</td>\n",
       "      <td>2024-11-15</td>\n",
       "      <td>NaN</td>\n",
       "      <td>-0.699800</td>\n",
       "    </tr>\n",
       "    <tr>\n",
       "      <th>2536</th>\n",
       "      <td>2536</td>\n",
       "      <td>399673</td>\n",
       "      <td>2024-12-10</td>\n",
       "      <td>2024-11-15</td>\n",
       "      <td>NaN</td>\n",
       "      <td>0.562110</td>\n",
       "    </tr>\n",
       "    <tr>\n",
       "      <th>2537</th>\n",
       "      <td>2537</td>\n",
       "      <td>399673</td>\n",
       "      <td>2024-12-11</td>\n",
       "      <td>2024-11-15</td>\n",
       "      <td>NaN</td>\n",
       "      <td>-0.252920</td>\n",
       "    </tr>\n",
       "    <tr>\n",
       "      <th>2538</th>\n",
       "      <td>2538</td>\n",
       "      <td>399673</td>\n",
       "      <td>2024-12-12</td>\n",
       "      <td>2024-11-15</td>\n",
       "      <td>NaN</td>\n",
       "      <td>1.506830</td>\n",
       "    </tr>\n",
       "    <tr>\n",
       "      <th>2539</th>\n",
       "      <td>2539</td>\n",
       "      <td>399673</td>\n",
       "      <td>2024-12-13</td>\n",
       "      <td>2024-11-15</td>\n",
       "      <td>NaN</td>\n",
       "      <td>-2.812800</td>\n",
       "    </tr>\n",
       "    <tr>\n",
       "      <th>2540</th>\n",
       "      <td>2540</td>\n",
       "      <td>399673</td>\n",
       "      <td>2024-12-16</td>\n",
       "      <td>2024-12-13</td>\n",
       "      <td>NaN</td>\n",
       "      <td>-1.473430</td>\n",
       "    </tr>\n",
       "    <tr>\n",
       "      <th>2541</th>\n",
       "      <td>2541</td>\n",
       "      <td>399673</td>\n",
       "      <td>2024-12-17</td>\n",
       "      <td>2024-12-13</td>\n",
       "      <td>NaN</td>\n",
       "      <td>0.318390</td>\n",
       "    </tr>\n",
       "    <tr>\n",
       "      <th>2542</th>\n",
       "      <td>2542</td>\n",
       "      <td>399673</td>\n",
       "      <td>2024-12-18</td>\n",
       "      <td>2024-12-13</td>\n",
       "      <td>NaN</td>\n",
       "      <td>-0.088940</td>\n",
       "    </tr>\n",
       "    <tr>\n",
       "      <th>2543</th>\n",
       "      <td>2543</td>\n",
       "      <td>399673</td>\n",
       "      <td>2024-12-19</td>\n",
       "      <td>2024-12-13</td>\n",
       "      <td>NaN</td>\n",
       "      <td>0.504730</td>\n",
       "    </tr>\n",
       "    <tr>\n",
       "      <th>2544</th>\n",
       "      <td>2544</td>\n",
       "      <td>399673</td>\n",
       "      <td>2024-12-20</td>\n",
       "      <td>2024-12-13</td>\n",
       "      <td>NaN</td>\n",
       "      <td>-0.297180</td>\n",
       "    </tr>\n",
       "    <tr>\n",
       "      <th>2545</th>\n",
       "      <td>2545</td>\n",
       "      <td>399673</td>\n",
       "      <td>2024-12-23</td>\n",
       "      <td>2024-12-13</td>\n",
       "      <td>NaN</td>\n",
       "      <td>-0.692630</td>\n",
       "    </tr>\n",
       "    <tr>\n",
       "      <th>2546</th>\n",
       "      <td>2546</td>\n",
       "      <td>399673</td>\n",
       "      <td>2024-12-24</td>\n",
       "      <td>2024-12-13</td>\n",
       "      <td>NaN</td>\n",
       "      <td>1.130650</td>\n",
       "    </tr>\n",
       "    <tr>\n",
       "      <th>2547</th>\n",
       "      <td>2547</td>\n",
       "      <td>399673</td>\n",
       "      <td>2024-12-25</td>\n",
       "      <td>2024-12-13</td>\n",
       "      <td>NaN</td>\n",
       "      <td>-0.434180</td>\n",
       "    </tr>\n",
       "    <tr>\n",
       "      <th>2548</th>\n",
       "      <td>2548</td>\n",
       "      <td>399673</td>\n",
       "      <td>2024-12-26</td>\n",
       "      <td>2024-12-13</td>\n",
       "      <td>NaN</td>\n",
       "      <td>0.285460</td>\n",
       "    </tr>\n",
       "    <tr>\n",
       "      <th>2549</th>\n",
       "      <td>2549</td>\n",
       "      <td>399673</td>\n",
       "      <td>2024-12-27</td>\n",
       "      <td>2024-12-13</td>\n",
       "      <td>NaN</td>\n",
       "      <td>-0.286440</td>\n",
       "    </tr>\n",
       "    <tr>\n",
       "      <th>2550</th>\n",
       "      <td>2550</td>\n",
       "      <td>399673</td>\n",
       "      <td>2024-12-30</td>\n",
       "      <td>2024-12-13</td>\n",
       "      <td>NaN</td>\n",
       "      <td>0.180390</td>\n",
       "    </tr>\n",
       "    <tr>\n",
       "      <th>2551</th>\n",
       "      <td>2551</td>\n",
       "      <td>399673</td>\n",
       "      <td>2024-12-31</td>\n",
       "      <td>2024-12-13</td>\n",
       "      <td>NaN</td>\n",
       "      <td>-3.073650</td>\n",
       "    </tr>\n",
       "    <tr>\n",
       "      <th>2552</th>\n",
       "      <td>2552</td>\n",
       "      <td>399673</td>\n",
       "      <td>2025-01-02</td>\n",
       "      <td>2024-12-13</td>\n",
       "      <td>NaN</td>\n",
       "      <td>-3.850120</td>\n",
       "    </tr>\n",
       "    <tr>\n",
       "      <th>2553</th>\n",
       "      <td>2553</td>\n",
       "      <td>399673</td>\n",
       "      <td>2025-01-03</td>\n",
       "      <td>2024-12-13</td>\n",
       "      <td>NaN</td>\n",
       "      <td>-2.128700</td>\n",
       "    </tr>\n",
       "    <tr>\n",
       "      <th>2554</th>\n",
       "      <td>2554</td>\n",
       "      <td>399673</td>\n",
       "      <td>2025-01-06</td>\n",
       "      <td>2024-12-13</td>\n",
       "      <td>NaN</td>\n",
       "      <td>-0.102160</td>\n",
       "    </tr>\n",
       "    <tr>\n",
       "      <th>2555</th>\n",
       "      <td>2555</td>\n",
       "      <td>399673</td>\n",
       "      <td>2025-01-07</td>\n",
       "      <td>2024-12-13</td>\n",
       "      <td>NaN</td>\n",
       "      <td>0.588890</td>\n",
       "    </tr>\n",
       "    <tr>\n",
       "      <th>2556</th>\n",
       "      <td>2556</td>\n",
       "      <td>399673</td>\n",
       "      <td>2025-01-08</td>\n",
       "      <td>2024-12-13</td>\n",
       "      <td>NaN</td>\n",
       "      <td>-1.185620</td>\n",
       "    </tr>\n",
       "    <tr>\n",
       "      <th>2557</th>\n",
       "      <td>2557</td>\n",
       "      <td>399673</td>\n",
       "      <td>2025-01-09</td>\n",
       "      <td>2024-12-13</td>\n",
       "      <td>NaN</td>\n",
       "      <td>0.185890</td>\n",
       "    </tr>\n",
       "    <tr>\n",
       "      <th>2558</th>\n",
       "      <td>2558</td>\n",
       "      <td>399673</td>\n",
       "      <td>2025-01-10</td>\n",
       "      <td>2024-12-13</td>\n",
       "      <td>NaN</td>\n",
       "      <td>-1.824220</td>\n",
       "    </tr>\n",
       "    <tr>\n",
       "      <th>2559</th>\n",
       "      <td>2559</td>\n",
       "      <td>399673</td>\n",
       "      <td>2025-01-13</td>\n",
       "      <td>2024-12-13</td>\n",
       "      <td>NaN</td>\n",
       "      <td>0.265810</td>\n",
       "    </tr>\n",
       "    <tr>\n",
       "      <th>2560</th>\n",
       "      <td>2560</td>\n",
       "      <td>399673</td>\n",
       "      <td>2025-01-14</td>\n",
       "      <td>2025-01-13</td>\n",
       "      <td>NaN</td>\n",
       "      <td>5.046490</td>\n",
       "    </tr>\n",
       "    <tr>\n",
       "      <th>2561</th>\n",
       "      <td>2561</td>\n",
       "      <td>399673</td>\n",
       "      <td>2025-01-15</td>\n",
       "      <td>2025-01-13</td>\n",
       "      <td>NaN</td>\n",
       "      <td>-1.959910</td>\n",
       "    </tr>\n",
       "    <tr>\n",
       "      <th>2562</th>\n",
       "      <td>2562</td>\n",
       "      <td>399673</td>\n",
       "      <td>2025-01-16</td>\n",
       "      <td>2025-01-13</td>\n",
       "      <td>NaN</td>\n",
       "      <td>0.862770</td>\n",
       "    </tr>\n",
       "    <tr>\n",
       "      <th>2563</th>\n",
       "      <td>2563</td>\n",
       "      <td>399673</td>\n",
       "      <td>2025-01-17</td>\n",
       "      <td>2025-01-13</td>\n",
       "      <td>NaN</td>\n",
       "      <td>0.586590</td>\n",
       "    </tr>\n",
       "    <tr>\n",
       "      <th>2564</th>\n",
       "      <td>2564</td>\n",
       "      <td>399673</td>\n",
       "      <td>2025-01-20</td>\n",
       "      <td>2025-01-13</td>\n",
       "      <td>NaN</td>\n",
       "      <td>2.205340</td>\n",
       "    </tr>\n",
       "    <tr>\n",
       "      <th>2565</th>\n",
       "      <td>2565</td>\n",
       "      <td>399673</td>\n",
       "      <td>2025-01-21</td>\n",
       "      <td>2025-01-13</td>\n",
       "      <td>NaN</td>\n",
       "      <td>0.334610</td>\n",
       "    </tr>\n",
       "    <tr>\n",
       "      <th>2566</th>\n",
       "      <td>2566</td>\n",
       "      <td>399673</td>\n",
       "      <td>2025-01-22</td>\n",
       "      <td>2025-01-13</td>\n",
       "      <td>NaN</td>\n",
       "      <td>-0.497660</td>\n",
       "    </tr>\n",
       "    <tr>\n",
       "      <th>2567</th>\n",
       "      <td>2567</td>\n",
       "      <td>399673</td>\n",
       "      <td>2025-01-23</td>\n",
       "      <td>2025-01-13</td>\n",
       "      <td>NaN</td>\n",
       "      <td>-0.392360</td>\n",
       "    </tr>\n",
       "    <tr>\n",
       "      <th>2568</th>\n",
       "      <td>2568</td>\n",
       "      <td>399673</td>\n",
       "      <td>2025-01-24</td>\n",
       "      <td>2025-01-13</td>\n",
       "      <td>NaN</td>\n",
       "      <td>1.516320</td>\n",
       "    </tr>\n",
       "    <tr>\n",
       "      <th>2569</th>\n",
       "      <td>2569</td>\n",
       "      <td>399673</td>\n",
       "      <td>2025-01-27</td>\n",
       "      <td>2025-01-13</td>\n",
       "      <td>NaN</td>\n",
       "      <td>-3.113090</td>\n",
       "    </tr>\n",
       "    <tr>\n",
       "      <th>2570</th>\n",
       "      <td>2570</td>\n",
       "      <td>399673</td>\n",
       "      <td>2025-02-05</td>\n",
       "      <td>2025-01-13</td>\n",
       "      <td>NaN</td>\n",
       "      <td>-0.611360</td>\n",
       "    </tr>\n",
       "    <tr>\n",
       "      <th>2571</th>\n",
       "      <td>2571</td>\n",
       "      <td>399673</td>\n",
       "      <td>2025-02-06</td>\n",
       "      <td>2025-01-13</td>\n",
       "      <td>NaN</td>\n",
       "      <td>2.883330</td>\n",
       "    </tr>\n",
       "    <tr>\n",
       "      <th>2572</th>\n",
       "      <td>2572</td>\n",
       "      <td>399673</td>\n",
       "      <td>2025-02-07</td>\n",
       "      <td>2025-01-13</td>\n",
       "      <td>NaN</td>\n",
       "      <td>2.808660</td>\n",
       "    </tr>\n",
       "    <tr>\n",
       "      <th>2573</th>\n",
       "      <td>2573</td>\n",
       "      <td>399673</td>\n",
       "      <td>2025-02-10</td>\n",
       "      <td>2025-01-13</td>\n",
       "      <td>NaN</td>\n",
       "      <td>0.251990</td>\n",
       "    </tr>\n",
       "    <tr>\n",
       "      <th>2574</th>\n",
       "      <td>2574</td>\n",
       "      <td>399673</td>\n",
       "      <td>2025-02-11</td>\n",
       "      <td>2025-01-13</td>\n",
       "      <td>NaN</td>\n",
       "      <td>-1.559860</td>\n",
       "    </tr>\n",
       "    <tr>\n",
       "      <th>2575</th>\n",
       "      <td>2575</td>\n",
       "      <td>399673</td>\n",
       "      <td>2025-02-12</td>\n",
       "      <td>2025-01-13</td>\n",
       "      <td>NaN</td>\n",
       "      <td>1.636200</td>\n",
       "    </tr>\n",
       "    <tr>\n",
       "      <th>2576</th>\n",
       "      <td>2576</td>\n",
       "      <td>399673</td>\n",
       "      <td>2025-02-13</td>\n",
       "      <td>2025-01-13</td>\n",
       "      <td>NaN</td>\n",
       "      <td>-0.899660</td>\n",
       "    </tr>\n",
       "    <tr>\n",
       "      <th>2577</th>\n",
       "      <td>2577</td>\n",
       "      <td>399673</td>\n",
       "      <td>2025-02-14</td>\n",
       "      <td>2025-01-13</td>\n",
       "      <td>NaN</td>\n",
       "      <td>1.526120</td>\n",
       "    </tr>\n",
       "    <tr>\n",
       "      <th>2578</th>\n",
       "      <td>2578</td>\n",
       "      <td>399673</td>\n",
       "      <td>2025-02-17</td>\n",
       "      <td>2025-01-13</td>\n",
       "      <td>NaN</td>\n",
       "      <td>0.906910</td>\n",
       "    </tr>\n",
       "    <tr>\n",
       "      <th>2579</th>\n",
       "      <td>2579</td>\n",
       "      <td>399673</td>\n",
       "      <td>2025-02-18</td>\n",
       "      <td>2025-01-13</td>\n",
       "      <td>NaN</td>\n",
       "      <td>-1.851160</td>\n",
       "    </tr>\n",
       "  </tbody>\n",
       "</table>\n",
       "</div>"
      ],
      "text/plain": [
       "      index unique_id         ds     cutoff  TSMixerx          y\n",
       "2480   2480    399673 2024-09-12 2024-09-11  0.929439  -0.154400\n",
       "2481   2481    399673 2024-09-13 2024-09-11  0.928840  -0.937100\n",
       "2482   2482    399673 2024-09-18 2024-09-11  0.898322   0.093400\n",
       "2483   2483    399673 2024-09-19 2024-09-11  0.942747   0.722470\n",
       "2484   2484    399673 2024-09-20 2024-09-11  0.946126  -0.585610\n",
       "2485   2485    399673 2024-09-23 2024-09-11  0.832091  -0.222980\n",
       "2486   2486    399673 2024-09-24 2024-09-11  0.992390   5.951140\n",
       "2487   2487    399673 2024-09-25 2024-09-11  0.869868   1.813950\n",
       "2488   2488    399673 2024-09-26 2024-09-11  0.950145   4.314620\n",
       "2489   2489    399673 2024-09-27 2024-09-11  0.933606  10.675050\n",
       "2490   2490    399673 2024-09-30 2024-09-11  0.969837  15.554130\n",
       "2491   2491    399673 2024-10-08 2024-09-11  0.924064  18.558559\n",
       "2492   2492    399673 2024-10-09 2024-09-11  0.911648 -10.315370\n",
       "2493   2493    399673 2024-10-10 2024-09-11  0.895488  -3.462800\n",
       "2494   2494    399673 2024-10-11 2024-09-11  0.986320  -5.034370\n",
       "2495   2495    399673 2024-10-14 2024-09-11  0.887159   2.630180\n",
       "2496   2496    399673 2024-10-15 2024-09-11  0.918855  -3.330540\n",
       "2497   2497    399673 2024-10-16 2024-09-11  0.957042  -2.453590\n",
       "2498   2498    399673 2024-10-17 2024-09-11  0.877788  -0.208830\n",
       "2499   2499    399673 2024-10-18 2024-09-11  0.901695   8.629220\n",
       "2500   2500    399673 2024-10-21 2024-10-18  0.040810   0.439230\n",
       "2501   2501    399673 2024-10-22 2024-10-18  0.040555   0.333960\n",
       "2502   2502    399673 2024-10-23 2024-10-18  0.027690  -0.837070\n",
       "2503   2503    399673 2024-10-24 2024-10-18  0.046414  -1.354880\n",
       "2504   2504    399673 2024-10-25 2024-10-18  0.047839   3.226580\n",
       "2505   2505    399673 2024-10-28 2024-10-18 -0.000207  -0.743010\n",
       "2506   2506    399673 2024-10-29 2024-10-18  0.067328  -2.312590\n",
       "2507   2507    399673 2024-10-30 2024-10-18  0.015709  -1.269350\n",
       "2508   2508    399673 2024-10-31 2024-10-18  0.049534   0.779400\n",
       "2509   2509    399673 2024-11-01 2024-10-18  0.042563  -1.848250\n",
       "2510   2510    399673 2024-11-04 2024-10-18  0.057825   3.084020\n",
       "2511   2511    399673 2024-11-05 2024-10-18  0.038543   5.035230\n",
       "2512   2512    399673 2024-11-06 2024-10-18  0.033312  -1.351180\n",
       "2513   2513    399673 2024-11-07 2024-10-18  0.026502   4.069850\n",
       "2514   2514    399673 2024-11-08 2024-10-18  0.064771  -1.752850\n",
       "2515   2515    399673 2024-11-11 2024-10-18  0.022999   3.036280\n",
       "2516   2516    399673 2024-11-12 2024-10-18  0.036348   0.193970\n",
       "2517   2517    399673 2024-11-13 2024-10-18  0.052440   1.630560\n",
       "2518   2518    399673 2024-11-14 2024-10-18  0.019043  -3.365630\n",
       "2519   2519    399673 2024-11-15 2024-10-18  0.029119  -4.207200\n",
       "2520   2520    399673 2024-11-18 2024-11-15       NaN  -2.355430\n",
       "2521   2521    399673 2024-11-19 2024-11-15       NaN   3.201190\n",
       "2522   2522    399673 2024-11-20 2024-11-15       NaN   0.347250\n",
       "2523   2523    399673 2024-11-21 2024-11-15       NaN  -0.112280\n",
       "2524   2524    399673 2024-11-22 2024-11-15       NaN  -3.999580\n",
       "2525   2525    399673 2024-11-25 2024-11-15       NaN  -0.078670\n",
       "2526   2526    399673 2024-11-26 2024-11-15       NaN  -1.286230\n",
       "2527   2527    399673 2024-11-27 2024-11-15       NaN   2.805830\n",
       "2528   2528    399673 2024-11-28 2024-11-15       NaN  -1.968350\n",
       "2529   2529    399673 2024-11-29 2024-11-15       NaN   2.742640\n",
       "2530   2530    399673 2024-12-02 2024-11-15       NaN   1.403460\n",
       "2531   2531    399673 2024-12-03 2024-11-15       NaN  -0.582490\n",
       "2532   2532    399673 2024-12-04 2024-11-15       NaN  -1.321960\n",
       "2533   2533    399673 2024-12-05 2024-11-15       NaN   0.396590\n",
       "2534   2534    399673 2024-12-06 2024-11-15       NaN   2.259380\n",
       "2535   2535    399673 2024-12-09 2024-11-15       NaN  -0.699800\n",
       "2536   2536    399673 2024-12-10 2024-11-15       NaN   0.562110\n",
       "2537   2537    399673 2024-12-11 2024-11-15       NaN  -0.252920\n",
       "2538   2538    399673 2024-12-12 2024-11-15       NaN   1.506830\n",
       "2539   2539    399673 2024-12-13 2024-11-15       NaN  -2.812800\n",
       "2540   2540    399673 2024-12-16 2024-12-13       NaN  -1.473430\n",
       "2541   2541    399673 2024-12-17 2024-12-13       NaN   0.318390\n",
       "2542   2542    399673 2024-12-18 2024-12-13       NaN  -0.088940\n",
       "2543   2543    399673 2024-12-19 2024-12-13       NaN   0.504730\n",
       "2544   2544    399673 2024-12-20 2024-12-13       NaN  -0.297180\n",
       "2545   2545    399673 2024-12-23 2024-12-13       NaN  -0.692630\n",
       "2546   2546    399673 2024-12-24 2024-12-13       NaN   1.130650\n",
       "2547   2547    399673 2024-12-25 2024-12-13       NaN  -0.434180\n",
       "2548   2548    399673 2024-12-26 2024-12-13       NaN   0.285460\n",
       "2549   2549    399673 2024-12-27 2024-12-13       NaN  -0.286440\n",
       "2550   2550    399673 2024-12-30 2024-12-13       NaN   0.180390\n",
       "2551   2551    399673 2024-12-31 2024-12-13       NaN  -3.073650\n",
       "2552   2552    399673 2025-01-02 2024-12-13       NaN  -3.850120\n",
       "2553   2553    399673 2025-01-03 2024-12-13       NaN  -2.128700\n",
       "2554   2554    399673 2025-01-06 2024-12-13       NaN  -0.102160\n",
       "2555   2555    399673 2025-01-07 2024-12-13       NaN   0.588890\n",
       "2556   2556    399673 2025-01-08 2024-12-13       NaN  -1.185620\n",
       "2557   2557    399673 2025-01-09 2024-12-13       NaN   0.185890\n",
       "2558   2558    399673 2025-01-10 2024-12-13       NaN  -1.824220\n",
       "2559   2559    399673 2025-01-13 2024-12-13       NaN   0.265810\n",
       "2560   2560    399673 2025-01-14 2025-01-13       NaN   5.046490\n",
       "2561   2561    399673 2025-01-15 2025-01-13       NaN  -1.959910\n",
       "2562   2562    399673 2025-01-16 2025-01-13       NaN   0.862770\n",
       "2563   2563    399673 2025-01-17 2025-01-13       NaN   0.586590\n",
       "2564   2564    399673 2025-01-20 2025-01-13       NaN   2.205340\n",
       "2565   2565    399673 2025-01-21 2025-01-13       NaN   0.334610\n",
       "2566   2566    399673 2025-01-22 2025-01-13       NaN  -0.497660\n",
       "2567   2567    399673 2025-01-23 2025-01-13       NaN  -0.392360\n",
       "2568   2568    399673 2025-01-24 2025-01-13       NaN   1.516320\n",
       "2569   2569    399673 2025-01-27 2025-01-13       NaN  -3.113090\n",
       "2570   2570    399673 2025-02-05 2025-01-13       NaN  -0.611360\n",
       "2571   2571    399673 2025-02-06 2025-01-13       NaN   2.883330\n",
       "2572   2572    399673 2025-02-07 2025-01-13       NaN   2.808660\n",
       "2573   2573    399673 2025-02-10 2025-01-13       NaN   0.251990\n",
       "2574   2574    399673 2025-02-11 2025-01-13       NaN  -1.559860\n",
       "2575   2575    399673 2025-02-12 2025-01-13       NaN   1.636200\n",
       "2576   2576    399673 2025-02-13 2025-01-13       NaN  -0.899660\n",
       "2577   2577    399673 2025-02-14 2025-01-13       NaN   1.526120\n",
       "2578   2578    399673 2025-02-17 2025-01-13       NaN   0.906910\n",
       "2579   2579    399673 2025-02-18 2025-01-13       NaN  -1.851160"
      ]
     },
     "execution_count": 83,
     "metadata": {},
     "output_type": "execute_result"
    }
   ],
   "source": [
    "forecast[-100:]"
   ]
  },
  {
   "cell_type": "code",
   "execution_count": 52,
   "metadata": {},
   "outputs": [],
   "source": [
    "forecast.dropna(subset=[str(nf.models[0])], inplace=True)"
   ]
  },
  {
   "cell_type": "code",
   "execution_count": 53,
   "metadata": {},
   "outputs": [
    {
     "data": {
      "text/plain": [
       "2520"
      ]
     },
     "execution_count": 53,
     "metadata": {},
     "output_type": "execute_result"
    }
   ],
   "source": [
    "len(forecast)"
   ]
  },
  {
   "cell_type": "code",
   "execution_count": 66,
   "metadata": {},
   "outputs": [
    {
     "data": {
      "text/html": [
       "<div>\n",
       "<style scoped>\n",
       "    .dataframe tbody tr th:only-of-type {\n",
       "        vertical-align: middle;\n",
       "    }\n",
       "\n",
       "    .dataframe tbody tr th {\n",
       "        vertical-align: top;\n",
       "    }\n",
       "\n",
       "    .dataframe thead th {\n",
       "        text-align: right;\n",
       "    }\n",
       "</style>\n",
       "<table border=\"1\" class=\"dataframe\">\n",
       "  <thead>\n",
       "    <tr style=\"text-align: right;\">\n",
       "      <th></th>\n",
       "      <th>unique_id</th>\n",
       "      <th>ds</th>\n",
       "      <th>open</th>\n",
       "      <th>close</th>\n",
       "      <th>high</th>\n",
       "      <th>low</th>\n",
       "      <th>volume</th>\n",
       "      <th>amount</th>\n",
       "      <th>open_preclose_rate</th>\n",
       "      <th>high_preclose_rate</th>\n",
       "      <th>low_preclose_rate</th>\n",
       "      <th>vol_change_rate</th>\n",
       "      <th>amt_change_rate</th>\n",
       "      <th>y</th>\n",
       "    </tr>\n",
       "  </thead>\n",
       "  <tbody>\n",
       "    <tr>\n",
       "      <th>2533</th>\n",
       "      <td>399673</td>\n",
       "      <td>2024-11-18</td>\n",
       "      <td>2253.98</td>\n",
       "      <td>2201.68</td>\n",
       "      <td>2266.63</td>\n",
       "      <td>2181.77</td>\n",
       "      <td>28636753.0</td>\n",
       "      <td>1.113601e+11</td>\n",
       "      <td>-0.03592</td>\n",
       "      <td>0.52510</td>\n",
       "      <td>-3.23844</td>\n",
       "      <td>-8.77796</td>\n",
       "      <td>-14.35413</td>\n",
       "      <td>-2.35543</td>\n",
       "    </tr>\n",
       "    <tr>\n",
       "      <th>2534</th>\n",
       "      <td>399673</td>\n",
       "      <td>2024-11-19</td>\n",
       "      <td>2210.60</td>\n",
       "      <td>2272.16</td>\n",
       "      <td>2278.05</td>\n",
       "      <td>2184.70</td>\n",
       "      <td>25783376.0</td>\n",
       "      <td>1.028077e+11</td>\n",
       "      <td>0.40515</td>\n",
       "      <td>3.46871</td>\n",
       "      <td>-0.77123</td>\n",
       "      <td>-9.96404</td>\n",
       "      <td>-7.67992</td>\n",
       "      <td>3.20119</td>\n",
       "    </tr>\n",
       "    <tr>\n",
       "      <th>2535</th>\n",
       "      <td>399673</td>\n",
       "      <td>2024-11-20</td>\n",
       "      <td>2256.94</td>\n",
       "      <td>2280.05</td>\n",
       "      <td>2297.63</td>\n",
       "      <td>2253.13</td>\n",
       "      <td>25039587.0</td>\n",
       "      <td>9.443062e+10</td>\n",
       "      <td>-0.66985</td>\n",
       "      <td>1.12096</td>\n",
       "      <td>-0.83753</td>\n",
       "      <td>-2.88476</td>\n",
       "      <td>-8.14833</td>\n",
       "      <td>0.34725</td>\n",
       "    </tr>\n",
       "    <tr>\n",
       "      <th>2536</th>\n",
       "      <td>399673</td>\n",
       "      <td>2024-11-21</td>\n",
       "      <td>2265.98</td>\n",
       "      <td>2277.49</td>\n",
       "      <td>2293.66</td>\n",
       "      <td>2260.18</td>\n",
       "      <td>25916969.0</td>\n",
       "      <td>9.697687e+10</td>\n",
       "      <td>-0.61709</td>\n",
       "      <td>0.59692</td>\n",
       "      <td>-0.87147</td>\n",
       "      <td>3.50398</td>\n",
       "      <td>2.69642</td>\n",
       "      <td>-0.11228</td>\n",
       "    </tr>\n",
       "    <tr>\n",
       "      <th>2537</th>\n",
       "      <td>399673</td>\n",
       "      <td>2024-11-22</td>\n",
       "      <td>2269.12</td>\n",
       "      <td>2186.40</td>\n",
       "      <td>2282.79</td>\n",
       "      <td>2186.40</td>\n",
       "      <td>25989396.0</td>\n",
       "      <td>9.872830e+10</td>\n",
       "      <td>-0.36751</td>\n",
       "      <td>0.23271</td>\n",
       "      <td>-3.99958</td>\n",
       "      <td>0.27946</td>\n",
       "      <td>1.80603</td>\n",
       "      <td>-3.99958</td>\n",
       "    </tr>\n",
       "    <tr>\n",
       "      <th>2538</th>\n",
       "      <td>399673</td>\n",
       "      <td>2024-11-25</td>\n",
       "      <td>2196.61</td>\n",
       "      <td>2184.68</td>\n",
       "      <td>2205.98</td>\n",
       "      <td>2149.10</td>\n",
       "      <td>21489780.0</td>\n",
       "      <td>8.471057e+10</td>\n",
       "      <td>0.46698</td>\n",
       "      <td>0.89554</td>\n",
       "      <td>-1.70600</td>\n",
       "      <td>-17.31328</td>\n",
       "      <td>-14.19829</td>\n",
       "      <td>-0.07867</td>\n",
       "    </tr>\n",
       "    <tr>\n",
       "      <th>2539</th>\n",
       "      <td>399673</td>\n",
       "      <td>2024-11-26</td>\n",
       "      <td>2171.40</td>\n",
       "      <td>2156.58</td>\n",
       "      <td>2194.44</td>\n",
       "      <td>2154.35</td>\n",
       "      <td>17591976.0</td>\n",
       "      <td>6.846843e+10</td>\n",
       "      <td>-0.60787</td>\n",
       "      <td>0.44675</td>\n",
       "      <td>-1.38830</td>\n",
       "      <td>-18.13794</td>\n",
       "      <td>-19.17369</td>\n",
       "      <td>-1.28623</td>\n",
       "    </tr>\n",
       "    <tr>\n",
       "      <th>2540</th>\n",
       "      <td>399673</td>\n",
       "      <td>2024-11-27</td>\n",
       "      <td>2142.27</td>\n",
       "      <td>2217.09</td>\n",
       "      <td>2217.67</td>\n",
       "      <td>2125.92</td>\n",
       "      <td>23132344.0</td>\n",
       "      <td>8.775872e+10</td>\n",
       "      <td>-0.66355</td>\n",
       "      <td>2.83273</td>\n",
       "      <td>-1.42170</td>\n",
       "      <td>31.49372</td>\n",
       "      <td>28.17399</td>\n",
       "      <td>2.80583</td>\n",
       "    </tr>\n",
       "    <tr>\n",
       "      <th>2541</th>\n",
       "      <td>399673</td>\n",
       "      <td>2024-11-28</td>\n",
       "      <td>2211.89</td>\n",
       "      <td>2173.45</td>\n",
       "      <td>2211.99</td>\n",
       "      <td>2168.99</td>\n",
       "      <td>19180955.0</td>\n",
       "      <td>7.776454e+10</td>\n",
       "      <td>-0.23454</td>\n",
       "      <td>-0.23003</td>\n",
       "      <td>-2.16951</td>\n",
       "      <td>-17.08166</td>\n",
       "      <td>-11.38824</td>\n",
       "      <td>-1.96835</td>\n",
       "    </tr>\n",
       "    <tr>\n",
       "      <th>2542</th>\n",
       "      <td>399673</td>\n",
       "      <td>2024-11-29</td>\n",
       "      <td>2165.16</td>\n",
       "      <td>2233.06</td>\n",
       "      <td>2280.10</td>\n",
       "      <td>2165.16</td>\n",
       "      <td>29501572.0</td>\n",
       "      <td>1.161605e+11</td>\n",
       "      <td>-0.38142</td>\n",
       "      <td>4.90695</td>\n",
       "      <td>-0.38142</td>\n",
       "      <td>53.80659</td>\n",
       "      <td>49.37469</td>\n",
       "      <td>2.74264</td>\n",
       "    </tr>\n",
       "    <tr>\n",
       "      <th>2543</th>\n",
       "      <td>399673</td>\n",
       "      <td>2024-12-02</td>\n",
       "      <td>2219.13</td>\n",
       "      <td>2264.40</td>\n",
       "      <td>2269.88</td>\n",
       "      <td>2218.01</td>\n",
       "      <td>24460009.0</td>\n",
       "      <td>1.010440e+11</td>\n",
       "      <td>-0.62381</td>\n",
       "      <td>1.64886</td>\n",
       "      <td>-0.67396</td>\n",
       "      <td>-17.08913</td>\n",
       "      <td>-13.01353</td>\n",
       "      <td>1.40346</td>\n",
       "    </tr>\n",
       "    <tr>\n",
       "      <th>2544</th>\n",
       "      <td>399673</td>\n",
       "      <td>2024-12-03</td>\n",
       "      <td>2260.36</td>\n",
       "      <td>2251.21</td>\n",
       "      <td>2268.42</td>\n",
       "      <td>2228.85</td>\n",
       "      <td>20845283.0</td>\n",
       "      <td>8.169067e+10</td>\n",
       "      <td>-0.17841</td>\n",
       "      <td>0.17753</td>\n",
       "      <td>-1.56995</td>\n",
       "      <td>-14.77811</td>\n",
       "      <td>-19.15333</td>\n",
       "      <td>-0.58249</td>\n",
       "    </tr>\n",
       "    <tr>\n",
       "      <th>2545</th>\n",
       "      <td>399673</td>\n",
       "      <td>2024-12-04</td>\n",
       "      <td>2241.00</td>\n",
       "      <td>2221.45</td>\n",
       "      <td>2250.61</td>\n",
       "      <td>2212.44</td>\n",
       "      <td>18252951.0</td>\n",
       "      <td>7.760915e+10</td>\n",
       "      <td>-0.45353</td>\n",
       "      <td>-0.02665</td>\n",
       "      <td>-1.72218</td>\n",
       "      <td>-12.43606</td>\n",
       "      <td>-4.99631</td>\n",
       "      <td>-1.32196</td>\n",
       "    </tr>\n",
       "    <tr>\n",
       "      <th>2546</th>\n",
       "      <td>399673</td>\n",
       "      <td>2024-12-05</td>\n",
       "      <td>2216.34</td>\n",
       "      <td>2230.26</td>\n",
       "      <td>2247.89</td>\n",
       "      <td>2216.34</td>\n",
       "      <td>17836866.0</td>\n",
       "      <td>7.900381e+10</td>\n",
       "      <td>-0.23003</td>\n",
       "      <td>1.19021</td>\n",
       "      <td>-0.23003</td>\n",
       "      <td>-2.27955</td>\n",
       "      <td>1.79702</td>\n",
       "      <td>0.39659</td>\n",
       "    </tr>\n",
       "    <tr>\n",
       "      <th>2547</th>\n",
       "      <td>399673</td>\n",
       "      <td>2024-12-06</td>\n",
       "      <td>2228.76</td>\n",
       "      <td>2280.65</td>\n",
       "      <td>2306.26</td>\n",
       "      <td>2224.18</td>\n",
       "      <td>24865907.0</td>\n",
       "      <td>1.034980e+11</td>\n",
       "      <td>-0.06726</td>\n",
       "      <td>3.40767</td>\n",
       "      <td>-0.27261</td>\n",
       "      <td>39.40738</td>\n",
       "      <td>31.00378</td>\n",
       "      <td>2.25938</td>\n",
       "    </tr>\n",
       "    <tr>\n",
       "      <th>2548</th>\n",
       "      <td>399673</td>\n",
       "      <td>2024-12-09</td>\n",
       "      <td>2278.61</td>\n",
       "      <td>2264.69</td>\n",
       "      <td>2287.18</td>\n",
       "      <td>2244.04</td>\n",
       "      <td>19464004.0</td>\n",
       "      <td>8.304787e+10</td>\n",
       "      <td>-0.08945</td>\n",
       "      <td>0.28632</td>\n",
       "      <td>-1.60524</td>\n",
       "      <td>-21.72413</td>\n",
       "      <td>-19.75895</td>\n",
       "      <td>-0.69980</td>\n",
       "    </tr>\n",
       "    <tr>\n",
       "      <th>2549</th>\n",
       "      <td>399673</td>\n",
       "      <td>2024-12-10</td>\n",
       "      <td>2380.62</td>\n",
       "      <td>2277.42</td>\n",
       "      <td>2380.77</td>\n",
       "      <td>2271.17</td>\n",
       "      <td>33220672.0</td>\n",
       "      <td>1.377497e+11</td>\n",
       "      <td>5.11902</td>\n",
       "      <td>5.12565</td>\n",
       "      <td>0.28613</td>\n",
       "      <td>70.67748</td>\n",
       "      <td>65.86783</td>\n",
       "      <td>0.56211</td>\n",
       "    </tr>\n",
       "    <tr>\n",
       "      <th>2550</th>\n",
       "      <td>399673</td>\n",
       "      <td>2024-12-11</td>\n",
       "      <td>2275.52</td>\n",
       "      <td>2271.66</td>\n",
       "      <td>2295.64</td>\n",
       "      <td>2261.68</td>\n",
       "      <td>20431464.0</td>\n",
       "      <td>8.790946e+10</td>\n",
       "      <td>-0.08343</td>\n",
       "      <td>0.80003</td>\n",
       "      <td>-0.69113</td>\n",
       "      <td>-38.49774</td>\n",
       "      <td>-36.18173</td>\n",
       "      <td>-0.25292</td>\n",
       "    </tr>\n",
       "    <tr>\n",
       "      <th>2551</th>\n",
       "      <td>399673</td>\n",
       "      <td>2024-12-12</td>\n",
       "      <td>2265.44</td>\n",
       "      <td>2305.89</td>\n",
       "      <td>2317.95</td>\n",
       "      <td>2265.37</td>\n",
       "      <td>21187001.0</td>\n",
       "      <td>9.284773e+10</td>\n",
       "      <td>-0.27381</td>\n",
       "      <td>2.03772</td>\n",
       "      <td>-0.27689</td>\n",
       "      <td>3.69791</td>\n",
       "      <td>5.61745</td>\n",
       "      <td>1.50683</td>\n",
       "    </tr>\n",
       "    <tr>\n",
       "      <th>2552</th>\n",
       "      <td>399673</td>\n",
       "      <td>2024-12-13</td>\n",
       "      <td>2283.07</td>\n",
       "      <td>2241.03</td>\n",
       "      <td>2288.22</td>\n",
       "      <td>2239.90</td>\n",
       "      <td>29111206.0</td>\n",
       "      <td>1.164089e+11</td>\n",
       "      <td>-0.98964</td>\n",
       "      <td>-0.76630</td>\n",
       "      <td>-2.86180</td>\n",
       "      <td>37.40126</td>\n",
       "      <td>25.37616</td>\n",
       "      <td>-2.81280</td>\n",
       "    </tr>\n",
       "    <tr>\n",
       "      <th>2553</th>\n",
       "      <td>399673</td>\n",
       "      <td>2024-12-16</td>\n",
       "      <td>2237.96</td>\n",
       "      <td>2208.01</td>\n",
       "      <td>2239.57</td>\n",
       "      <td>2198.99</td>\n",
       "      <td>19918074.0</td>\n",
       "      <td>8.372205e+10</td>\n",
       "      <td>-0.13699</td>\n",
       "      <td>-0.06515</td>\n",
       "      <td>-1.87592</td>\n",
       "      <td>-31.57936</td>\n",
       "      <td>-28.07936</td>\n",
       "      <td>-1.47343</td>\n",
       "    </tr>\n",
       "    <tr>\n",
       "      <th>2554</th>\n",
       "      <td>399673</td>\n",
       "      <td>2024-12-17</td>\n",
       "      <td>2203.52</td>\n",
       "      <td>2215.04</td>\n",
       "      <td>2248.91</td>\n",
       "      <td>2203.52</td>\n",
       "      <td>16657198.0</td>\n",
       "      <td>7.670086e+10</td>\n",
       "      <td>-0.20335</td>\n",
       "      <td>1.85235</td>\n",
       "      <td>-0.20335</td>\n",
       "      <td>-16.37144</td>\n",
       "      <td>-8.38631</td>\n",
       "      <td>0.31839</td>\n",
       "    </tr>\n",
       "    <tr>\n",
       "      <th>2555</th>\n",
       "      <td>399673</td>\n",
       "      <td>2024-12-18</td>\n",
       "      <td>2220.97</td>\n",
       "      <td>2213.07</td>\n",
       "      <td>2227.24</td>\n",
       "      <td>2204.44</td>\n",
       "      <td>14627834.0</td>\n",
       "      <td>6.165019e+10</td>\n",
       "      <td>0.26772</td>\n",
       "      <td>0.55078</td>\n",
       "      <td>-0.47855</td>\n",
       "      <td>-12.18311</td>\n",
       "      <td>-19.62256</td>\n",
       "      <td>-0.08894</td>\n",
       "    </tr>\n",
       "    <tr>\n",
       "      <th>2556</th>\n",
       "      <td>399673</td>\n",
       "      <td>2024-12-19</td>\n",
       "      <td>2188.58</td>\n",
       "      <td>2224.24</td>\n",
       "      <td>2231.93</td>\n",
       "      <td>2185.52</td>\n",
       "      <td>17831877.0</td>\n",
       "      <td>6.981324e+10</td>\n",
       "      <td>-1.10661</td>\n",
       "      <td>0.85221</td>\n",
       "      <td>-1.24488</td>\n",
       "      <td>21.90374</td>\n",
       "      <td>13.24092</td>\n",
       "      <td>0.50473</td>\n",
       "    </tr>\n",
       "    <tr>\n",
       "      <th>2557</th>\n",
       "      <td>399673</td>\n",
       "      <td>2024-12-20</td>\n",
       "      <td>2220.73</td>\n",
       "      <td>2217.63</td>\n",
       "      <td>2243.33</td>\n",
       "      <td>2210.88</td>\n",
       "      <td>18285270.0</td>\n",
       "      <td>8.283551e+10</td>\n",
       "      <td>-0.15781</td>\n",
       "      <td>0.85827</td>\n",
       "      <td>-0.60065</td>\n",
       "      <td>2.54260</td>\n",
       "      <td>18.65301</td>\n",
       "      <td>-0.29718</td>\n",
       "    </tr>\n",
       "    <tr>\n",
       "      <th>2558</th>\n",
       "      <td>399673</td>\n",
       "      <td>2024-12-23</td>\n",
       "      <td>2212.28</td>\n",
       "      <td>2202.27</td>\n",
       "      <td>2235.95</td>\n",
       "      <td>2198.84</td>\n",
       "      <td>17233320.0</td>\n",
       "      <td>8.223181e+10</td>\n",
       "      <td>-0.24125</td>\n",
       "      <td>0.82611</td>\n",
       "      <td>-0.84730</td>\n",
       "      <td>-5.75299</td>\n",
       "      <td>-0.72880</td>\n",
       "      <td>-0.69263</td>\n",
       "    </tr>\n",
       "    <tr>\n",
       "      <th>2559</th>\n",
       "      <td>399673</td>\n",
       "      <td>2024-12-24</td>\n",
       "      <td>2203.78</td>\n",
       "      <td>2227.17</td>\n",
       "      <td>2228.93</td>\n",
       "      <td>2199.81</td>\n",
       "      <td>15626701.0</td>\n",
       "      <td>7.294039e+10</td>\n",
       "      <td>0.06857</td>\n",
       "      <td>1.21057</td>\n",
       "      <td>-0.11170</td>\n",
       "      <td>-9.32275</td>\n",
       "      <td>-11.29906</td>\n",
       "      <td>1.13065</td>\n",
       "    </tr>\n",
       "    <tr>\n",
       "      <th>2560</th>\n",
       "      <td>399673</td>\n",
       "      <td>2024-12-25</td>\n",
       "      <td>2229.78</td>\n",
       "      <td>2217.50</td>\n",
       "      <td>2235.07</td>\n",
       "      <td>2204.00</td>\n",
       "      <td>14433907.0</td>\n",
       "      <td>6.619804e+10</td>\n",
       "      <td>0.11719</td>\n",
       "      <td>0.35471</td>\n",
       "      <td>-1.04033</td>\n",
       "      <td>-7.63305</td>\n",
       "      <td>-9.24364</td>\n",
       "      <td>-0.43418</td>\n",
       "    </tr>\n",
       "    <tr>\n",
       "      <th>2561</th>\n",
       "      <td>399673</td>\n",
       "      <td>2024-12-26</td>\n",
       "      <td>2216.13</td>\n",
       "      <td>2223.83</td>\n",
       "      <td>2233.63</td>\n",
       "      <td>2205.57</td>\n",
       "      <td>14812578.0</td>\n",
       "      <td>7.368297e+10</td>\n",
       "      <td>-0.06178</td>\n",
       "      <td>0.72740</td>\n",
       "      <td>-0.53799</td>\n",
       "      <td>2.62348</td>\n",
       "      <td>11.30688</td>\n",
       "      <td>0.28546</td>\n",
       "    </tr>\n",
       "    <tr>\n",
       "      <th>2562</th>\n",
       "      <td>399673</td>\n",
       "      <td>2024-12-27</td>\n",
       "      <td>2223.01</td>\n",
       "      <td>2217.46</td>\n",
       "      <td>2248.44</td>\n",
       "      <td>2206.53</td>\n",
       "      <td>20101752.0</td>\n",
       "      <td>9.118933e+10</td>\n",
       "      <td>-0.03687</td>\n",
       "      <td>1.10665</td>\n",
       "      <td>-0.77794</td>\n",
       "      <td>35.70732</td>\n",
       "      <td>23.75903</td>\n",
       "      <td>-0.28644</td>\n",
       "    </tr>\n",
       "    <tr>\n",
       "      <th>2563</th>\n",
       "      <td>399673</td>\n",
       "      <td>2024-12-30</td>\n",
       "      <td>2210.94</td>\n",
       "      <td>2221.46</td>\n",
       "      <td>2232.33</td>\n",
       "      <td>2210.94</td>\n",
       "      <td>18106477.0</td>\n",
       "      <td>7.728194e+10</td>\n",
       "      <td>-0.29403</td>\n",
       "      <td>0.67059</td>\n",
       "      <td>-0.29403</td>\n",
       "      <td>-9.92588</td>\n",
       "      <td>-15.25111</td>\n",
       "      <td>0.18039</td>\n",
       "    </tr>\n",
       "    <tr>\n",
       "      <th>2564</th>\n",
       "      <td>399673</td>\n",
       "      <td>2024-12-31</td>\n",
       "      <td>2215.28</td>\n",
       "      <td>2153.18</td>\n",
       "      <td>2221.97</td>\n",
       "      <td>2153.18</td>\n",
       "      <td>20360300.0</td>\n",
       "      <td>8.370286e+10</td>\n",
       "      <td>-0.27820</td>\n",
       "      <td>0.02296</td>\n",
       "      <td>-3.07365</td>\n",
       "      <td>12.44761</td>\n",
       "      <td>8.30844</td>\n",
       "      <td>-3.07365</td>\n",
       "    </tr>\n",
       "    <tr>\n",
       "      <th>2565</th>\n",
       "      <td>399673</td>\n",
       "      <td>2025-01-02</td>\n",
       "      <td>2148.36</td>\n",
       "      <td>2070.28</td>\n",
       "      <td>2148.80</td>\n",
       "      <td>2049.69</td>\n",
       "      <td>22809987.0</td>\n",
       "      <td>8.515093e+10</td>\n",
       "      <td>-0.22385</td>\n",
       "      <td>-0.20342</td>\n",
       "      <td>-4.80638</td>\n",
       "      <td>12.03168</td>\n",
       "      <td>1.73001</td>\n",
       "      <td>-3.85012</td>\n",
       "    </tr>\n",
       "    <tr>\n",
       "      <th>2566</th>\n",
       "      <td>399673</td>\n",
       "      <td>2025-01-03</td>\n",
       "      <td>2071.88</td>\n",
       "      <td>2026.21</td>\n",
       "      <td>2076.94</td>\n",
       "      <td>2026.21</td>\n",
       "      <td>18152367.0</td>\n",
       "      <td>6.702097e+10</td>\n",
       "      <td>0.07728</td>\n",
       "      <td>0.32170</td>\n",
       "      <td>-2.12870</td>\n",
       "      <td>-20.41921</td>\n",
       "      <td>-21.29155</td>\n",
       "      <td>-2.12870</td>\n",
       "    </tr>\n",
       "    <tr>\n",
       "      <th>2567</th>\n",
       "      <td>399673</td>\n",
       "      <td>2025-01-06</td>\n",
       "      <td>2027.71</td>\n",
       "      <td>2024.14</td>\n",
       "      <td>2043.20</td>\n",
       "      <td>2011.20</td>\n",
       "      <td>13498925.0</td>\n",
       "      <td>5.247548e+10</td>\n",
       "      <td>0.07403</td>\n",
       "      <td>0.83851</td>\n",
       "      <td>-0.74079</td>\n",
       "      <td>-25.63546</td>\n",
       "      <td>-21.70290</td>\n",
       "      <td>-0.10216</td>\n",
       "    </tr>\n",
       "    <tr>\n",
       "      <th>2568</th>\n",
       "      <td>399673</td>\n",
       "      <td>2025-01-07</td>\n",
       "      <td>1999.57</td>\n",
       "      <td>2036.06</td>\n",
       "      <td>2036.59</td>\n",
       "      <td>1990.19</td>\n",
       "      <td>14339804.0</td>\n",
       "      <td>6.166492e+10</td>\n",
       "      <td>-1.21385</td>\n",
       "      <td>0.61508</td>\n",
       "      <td>-1.67726</td>\n",
       "      <td>6.22923</td>\n",
       "      <td>17.51189</td>\n",
       "      <td>0.58889</td>\n",
       "    </tr>\n",
       "    <tr>\n",
       "      <th>2569</th>\n",
       "      <td>399673</td>\n",
       "      <td>2025-01-08</td>\n",
       "      <td>2016.22</td>\n",
       "      <td>2011.92</td>\n",
       "      <td>2033.60</td>\n",
       "      <td>1969.47</td>\n",
       "      <td>17328186.0</td>\n",
       "      <td>6.651515e+10</td>\n",
       "      <td>-0.97443</td>\n",
       "      <td>-0.12082</td>\n",
       "      <td>-3.27053</td>\n",
       "      <td>20.83977</td>\n",
       "      <td>7.86547</td>\n",
       "      <td>-1.18562</td>\n",
       "    </tr>\n",
       "    <tr>\n",
       "      <th>2570</th>\n",
       "      <td>399673</td>\n",
       "      <td>2025-01-09</td>\n",
       "      <td>1996.71</td>\n",
       "      <td>2015.66</td>\n",
       "      <td>2031.10</td>\n",
       "      <td>1996.57</td>\n",
       "      <td>12749098.0</td>\n",
       "      <td>5.353491e+10</td>\n",
       "      <td>-0.75599</td>\n",
       "      <td>0.95332</td>\n",
       "      <td>-0.76295</td>\n",
       "      <td>-26.42566</td>\n",
       "      <td>-19.51472</td>\n",
       "      <td>0.18589</td>\n",
       "    </tr>\n",
       "    <tr>\n",
       "      <th>2571</th>\n",
       "      <td>399673</td>\n",
       "      <td>2025-01-10</td>\n",
       "      <td>2010.92</td>\n",
       "      <td>1978.89</td>\n",
       "      <td>2026.97</td>\n",
       "      <td>1978.89</td>\n",
       "      <td>14118551.0</td>\n",
       "      <td>6.058955e+10</td>\n",
       "      <td>-0.23516</td>\n",
       "      <td>0.56111</td>\n",
       "      <td>-1.82422</td>\n",
       "      <td>10.74157</td>\n",
       "      <td>13.17764</td>\n",
       "      <td>-1.82422</td>\n",
       "    </tr>\n",
       "    <tr>\n",
       "      <th>2572</th>\n",
       "      <td>399673</td>\n",
       "      <td>2025-01-13</td>\n",
       "      <td>1956.26</td>\n",
       "      <td>1984.15</td>\n",
       "      <td>2001.37</td>\n",
       "      <td>1956.26</td>\n",
       "      <td>11931363.0</td>\n",
       "      <td>4.914157e+10</td>\n",
       "      <td>-1.14357</td>\n",
       "      <td>1.13599</td>\n",
       "      <td>-1.14357</td>\n",
       "      <td>-15.49159</td>\n",
       "      <td>-18.89431</td>\n",
       "      <td>0.26581</td>\n",
       "    </tr>\n",
       "    <tr>\n",
       "      <th>2573</th>\n",
       "      <td>399673</td>\n",
       "      <td>2025-01-14</td>\n",
       "      <td>1991.75</td>\n",
       "      <td>2084.28</td>\n",
       "      <td>2085.12</td>\n",
       "      <td>1980.77</td>\n",
       "      <td>25213582.0</td>\n",
       "      <td>9.610624e+10</td>\n",
       "      <td>0.38304</td>\n",
       "      <td>5.08883</td>\n",
       "      <td>-0.17035</td>\n",
       "      <td>111.32189</td>\n",
       "      <td>95.57013</td>\n",
       "      <td>5.04649</td>\n",
       "    </tr>\n",
       "    <tr>\n",
       "      <th>2574</th>\n",
       "      <td>399673</td>\n",
       "      <td>2025-01-15</td>\n",
       "      <td>2071.35</td>\n",
       "      <td>2043.43</td>\n",
       "      <td>2071.35</td>\n",
       "      <td>2037.99</td>\n",
       "      <td>16902654.0</td>\n",
       "      <td>6.646676e+10</td>\n",
       "      <td>-0.62036</td>\n",
       "      <td>-0.62036</td>\n",
       "      <td>-2.22091</td>\n",
       "      <td>-32.96211</td>\n",
       "      <td>-30.84033</td>\n",
       "      <td>-1.95991</td>\n",
       "    </tr>\n",
       "    <tr>\n",
       "      <th>2575</th>\n",
       "      <td>399673</td>\n",
       "      <td>2025-01-16</td>\n",
       "      <td>2057.38</td>\n",
       "      <td>2061.06</td>\n",
       "      <td>2092.21</td>\n",
       "      <td>2037.03</td>\n",
       "      <td>17814467.0</td>\n",
       "      <td>8.105486e+10</td>\n",
       "      <td>0.68268</td>\n",
       "      <td>2.38716</td>\n",
       "      <td>-0.31320</td>\n",
       "      <td>5.39450</td>\n",
       "      <td>21.94797</td>\n",
       "      <td>0.86277</td>\n",
       "    </tr>\n",
       "    <tr>\n",
       "      <th>2576</th>\n",
       "      <td>399673</td>\n",
       "      <td>2025-01-17</td>\n",
       "      <td>2049.80</td>\n",
       "      <td>2073.15</td>\n",
       "      <td>2089.96</td>\n",
       "      <td>2049.65</td>\n",
       "      <td>15234448.0</td>\n",
       "      <td>6.965941e+10</td>\n",
       "      <td>-0.54632</td>\n",
       "      <td>1.40219</td>\n",
       "      <td>-0.55360</td>\n",
       "      <td>-14.48272</td>\n",
       "      <td>-14.05894</td>\n",
       "      <td>0.58659</td>\n",
       "    </tr>\n",
       "    <tr>\n",
       "      <th>2577</th>\n",
       "      <td>399673</td>\n",
       "      <td>2025-01-20</td>\n",
       "      <td>2099.40</td>\n",
       "      <td>2118.87</td>\n",
       "      <td>2132.42</td>\n",
       "      <td>2099.20</td>\n",
       "      <td>16534650.0</td>\n",
       "      <td>7.732498e+10</td>\n",
       "      <td>1.26619</td>\n",
       "      <td>2.85893</td>\n",
       "      <td>1.25654</td>\n",
       "      <td>8.53462</td>\n",
       "      <td>11.00436</td>\n",
       "      <td>2.20534</td>\n",
       "    </tr>\n",
       "    <tr>\n",
       "      <th>2578</th>\n",
       "      <td>399673</td>\n",
       "      <td>2025-01-21</td>\n",
       "      <td>2142.19</td>\n",
       "      <td>2125.96</td>\n",
       "      <td>2142.19</td>\n",
       "      <td>2103.94</td>\n",
       "      <td>14990206.0</td>\n",
       "      <td>6.672893e+10</td>\n",
       "      <td>1.10059</td>\n",
       "      <td>1.10059</td>\n",
       "      <td>-0.70462</td>\n",
       "      <td>-9.34065</td>\n",
       "      <td>-13.70327</td>\n",
       "      <td>0.33461</td>\n",
       "    </tr>\n",
       "    <tr>\n",
       "      <th>2579</th>\n",
       "      <td>399673</td>\n",
       "      <td>2025-01-22</td>\n",
       "      <td>2118.75</td>\n",
       "      <td>2115.38</td>\n",
       "      <td>2127.08</td>\n",
       "      <td>2093.68</td>\n",
       "      <td>15406272.0</td>\n",
       "      <td>7.706254e+10</td>\n",
       "      <td>-0.33914</td>\n",
       "      <td>0.05268</td>\n",
       "      <td>-1.51837</td>\n",
       "      <td>2.77559</td>\n",
       "      <td>15.48595</td>\n",
       "      <td>-0.49766</td>\n",
       "    </tr>\n",
       "    <tr>\n",
       "      <th>2580</th>\n",
       "      <td>399673</td>\n",
       "      <td>2025-01-23</td>\n",
       "      <td>2141.45</td>\n",
       "      <td>2107.08</td>\n",
       "      <td>2170.52</td>\n",
       "      <td>2107.08</td>\n",
       "      <td>23049474.0</td>\n",
       "      <td>9.468227e+10</td>\n",
       "      <td>1.23240</td>\n",
       "      <td>2.60662</td>\n",
       "      <td>-0.39236</td>\n",
       "      <td>49.61098</td>\n",
       "      <td>22.86420</td>\n",
       "      <td>-0.39236</td>\n",
       "    </tr>\n",
       "    <tr>\n",
       "      <th>2581</th>\n",
       "      <td>399673</td>\n",
       "      <td>2025-01-24</td>\n",
       "      <td>2098.07</td>\n",
       "      <td>2139.03</td>\n",
       "      <td>2150.87</td>\n",
       "      <td>2098.07</td>\n",
       "      <td>20467398.0</td>\n",
       "      <td>8.124549e+10</td>\n",
       "      <td>-0.42761</td>\n",
       "      <td>2.07823</td>\n",
       "      <td>-0.42761</td>\n",
       "      <td>-11.20232</td>\n",
       "      <td>-14.19144</td>\n",
       "      <td>1.51632</td>\n",
       "    </tr>\n",
       "    <tr>\n",
       "      <th>2582</th>\n",
       "      <td>399673</td>\n",
       "      <td>2025-01-27</td>\n",
       "      <td>2134.55</td>\n",
       "      <td>2072.44</td>\n",
       "      <td>2138.30</td>\n",
       "      <td>2072.44</td>\n",
       "      <td>17662474.0</td>\n",
       "      <td>7.375227e+10</td>\n",
       "      <td>-0.20944</td>\n",
       "      <td>-0.03413</td>\n",
       "      <td>-3.11309</td>\n",
       "      <td>-13.70435</td>\n",
       "      <td>-9.22293</td>\n",
       "      <td>-3.11309</td>\n",
       "    </tr>\n",
       "    <tr>\n",
       "      <th>2583</th>\n",
       "      <td>399673</td>\n",
       "      <td>2025-02-05</td>\n",
       "      <td>2087.96</td>\n",
       "      <td>2059.77</td>\n",
       "      <td>2087.96</td>\n",
       "      <td>2051.57</td>\n",
       "      <td>22879666.0</td>\n",
       "      <td>9.805849e+10</td>\n",
       "      <td>0.74888</td>\n",
       "      <td>0.74888</td>\n",
       "      <td>-1.00703</td>\n",
       "      <td>29.53829</td>\n",
       "      <td>32.95657</td>\n",
       "      <td>-0.61136</td>\n",
       "    </tr>\n",
       "    <tr>\n",
       "      <th>2584</th>\n",
       "      <td>399673</td>\n",
       "      <td>2025-02-06</td>\n",
       "      <td>2057.06</td>\n",
       "      <td>2119.16</td>\n",
       "      <td>2119.26</td>\n",
       "      <td>2053.06</td>\n",
       "      <td>27644735.0</td>\n",
       "      <td>1.145989e+11</td>\n",
       "      <td>-0.13157</td>\n",
       "      <td>2.88819</td>\n",
       "      <td>-0.32576</td>\n",
       "      <td>20.82665</td>\n",
       "      <td>16.86788</td>\n",
       "      <td>2.88333</td>\n",
       "    </tr>\n",
       "    <tr>\n",
       "      <th>2585</th>\n",
       "      <td>399673</td>\n",
       "      <td>2025-02-07</td>\n",
       "      <td>2127.57</td>\n",
       "      <td>2178.68</td>\n",
       "      <td>2206.20</td>\n",
       "      <td>2122.87</td>\n",
       "      <td>37181294.0</td>\n",
       "      <td>1.532058e+11</td>\n",
       "      <td>0.39686</td>\n",
       "      <td>4.10729</td>\n",
       "      <td>0.17507</td>\n",
       "      <td>34.49684</td>\n",
       "      <td>33.68873</td>\n",
       "      <td>2.80866</td>\n",
       "    </tr>\n",
       "    <tr>\n",
       "      <th>2586</th>\n",
       "      <td>399673</td>\n",
       "      <td>2025-02-10</td>\n",
       "      <td>2188.83</td>\n",
       "      <td>2184.17</td>\n",
       "      <td>2189.34</td>\n",
       "      <td>2159.86</td>\n",
       "      <td>27551759.0</td>\n",
       "      <td>1.146193e+11</td>\n",
       "      <td>0.46588</td>\n",
       "      <td>0.48929</td>\n",
       "      <td>-0.86383</td>\n",
       "      <td>-25.89887</td>\n",
       "      <td>-25.18605</td>\n",
       "      <td>0.25199</td>\n",
       "    </tr>\n",
       "    <tr>\n",
       "      <th>2587</th>\n",
       "      <td>399673</td>\n",
       "      <td>2025-02-11</td>\n",
       "      <td>2183.31</td>\n",
       "      <td>2150.10</td>\n",
       "      <td>2183.31</td>\n",
       "      <td>2148.19</td>\n",
       "      <td>22879836.0</td>\n",
       "      <td>9.406400e+10</td>\n",
       "      <td>-0.03937</td>\n",
       "      <td>-0.03937</td>\n",
       "      <td>-1.64731</td>\n",
       "      <td>-16.95690</td>\n",
       "      <td>-17.93354</td>\n",
       "      <td>-1.55986</td>\n",
       "    </tr>\n",
       "    <tr>\n",
       "      <th>2588</th>\n",
       "      <td>399673</td>\n",
       "      <td>2025-02-12</td>\n",
       "      <td>2139.35</td>\n",
       "      <td>2185.28</td>\n",
       "      <td>2188.56</td>\n",
       "      <td>2135.45</td>\n",
       "      <td>23868663.0</td>\n",
       "      <td>1.008077e+11</td>\n",
       "      <td>-0.49998</td>\n",
       "      <td>1.78875</td>\n",
       "      <td>-0.68136</td>\n",
       "      <td>4.32183</td>\n",
       "      <td>7.16926</td>\n",
       "      <td>1.63620</td>\n",
       "    </tr>\n",
       "    <tr>\n",
       "      <th>2589</th>\n",
       "      <td>399673</td>\n",
       "      <td>2025-02-13</td>\n",
       "      <td>2178.05</td>\n",
       "      <td>2165.62</td>\n",
       "      <td>2194.22</td>\n",
       "      <td>2164.88</td>\n",
       "      <td>23870360.0</td>\n",
       "      <td>1.009870e+11</td>\n",
       "      <td>-0.33085</td>\n",
       "      <td>0.40910</td>\n",
       "      <td>-0.93352</td>\n",
       "      <td>0.00711</td>\n",
       "      <td>0.17783</td>\n",
       "      <td>-0.89966</td>\n",
       "    </tr>\n",
       "    <tr>\n",
       "      <th>2590</th>\n",
       "      <td>399673</td>\n",
       "      <td>2025-02-14</td>\n",
       "      <td>2162.53</td>\n",
       "      <td>2198.67</td>\n",
       "      <td>2209.31</td>\n",
       "      <td>2162.32</td>\n",
       "      <td>24836851.0</td>\n",
       "      <td>1.009813e+11</td>\n",
       "      <td>-0.14268</td>\n",
       "      <td>2.01744</td>\n",
       "      <td>-0.15238</td>\n",
       "      <td>4.04892</td>\n",
       "      <td>-0.00564</td>\n",
       "      <td>1.52612</td>\n",
       "    </tr>\n",
       "    <tr>\n",
       "      <th>2591</th>\n",
       "      <td>399673</td>\n",
       "      <td>2025-02-17</td>\n",
       "      <td>2225.66</td>\n",
       "      <td>2218.61</td>\n",
       "      <td>2231.44</td>\n",
       "      <td>2200.49</td>\n",
       "      <td>27426155.0</td>\n",
       "      <td>1.113471e+11</td>\n",
       "      <td>1.22756</td>\n",
       "      <td>1.49045</td>\n",
       "      <td>0.08278</td>\n",
       "      <td>10.42525</td>\n",
       "      <td>10.26512</td>\n",
       "      <td>0.90691</td>\n",
       "    </tr>\n",
       "    <tr>\n",
       "      <th>2592</th>\n",
       "      <td>399673</td>\n",
       "      <td>2025-02-18</td>\n",
       "      <td>2219.44</td>\n",
       "      <td>2177.54</td>\n",
       "      <td>2228.14</td>\n",
       "      <td>2169.32</td>\n",
       "      <td>25386675.0</td>\n",
       "      <td>1.028330e+11</td>\n",
       "      <td>0.03741</td>\n",
       "      <td>0.42955</td>\n",
       "      <td>-2.22166</td>\n",
       "      <td>-7.43626</td>\n",
       "      <td>-7.64648</td>\n",
       "      <td>-1.85116</td>\n",
       "    </tr>\n",
       "  </tbody>\n",
       "</table>\n",
       "</div>"
      ],
      "text/plain": [
       "     unique_id         ds     open    close     high      low      volume  \\\n",
       "2533    399673 2024-11-18  2253.98  2201.68  2266.63  2181.77  28636753.0   \n",
       "2534    399673 2024-11-19  2210.60  2272.16  2278.05  2184.70  25783376.0   \n",
       "2535    399673 2024-11-20  2256.94  2280.05  2297.63  2253.13  25039587.0   \n",
       "2536    399673 2024-11-21  2265.98  2277.49  2293.66  2260.18  25916969.0   \n",
       "2537    399673 2024-11-22  2269.12  2186.40  2282.79  2186.40  25989396.0   \n",
       "2538    399673 2024-11-25  2196.61  2184.68  2205.98  2149.10  21489780.0   \n",
       "2539    399673 2024-11-26  2171.40  2156.58  2194.44  2154.35  17591976.0   \n",
       "2540    399673 2024-11-27  2142.27  2217.09  2217.67  2125.92  23132344.0   \n",
       "2541    399673 2024-11-28  2211.89  2173.45  2211.99  2168.99  19180955.0   \n",
       "2542    399673 2024-11-29  2165.16  2233.06  2280.10  2165.16  29501572.0   \n",
       "2543    399673 2024-12-02  2219.13  2264.40  2269.88  2218.01  24460009.0   \n",
       "2544    399673 2024-12-03  2260.36  2251.21  2268.42  2228.85  20845283.0   \n",
       "2545    399673 2024-12-04  2241.00  2221.45  2250.61  2212.44  18252951.0   \n",
       "2546    399673 2024-12-05  2216.34  2230.26  2247.89  2216.34  17836866.0   \n",
       "2547    399673 2024-12-06  2228.76  2280.65  2306.26  2224.18  24865907.0   \n",
       "2548    399673 2024-12-09  2278.61  2264.69  2287.18  2244.04  19464004.0   \n",
       "2549    399673 2024-12-10  2380.62  2277.42  2380.77  2271.17  33220672.0   \n",
       "2550    399673 2024-12-11  2275.52  2271.66  2295.64  2261.68  20431464.0   \n",
       "2551    399673 2024-12-12  2265.44  2305.89  2317.95  2265.37  21187001.0   \n",
       "2552    399673 2024-12-13  2283.07  2241.03  2288.22  2239.90  29111206.0   \n",
       "2553    399673 2024-12-16  2237.96  2208.01  2239.57  2198.99  19918074.0   \n",
       "2554    399673 2024-12-17  2203.52  2215.04  2248.91  2203.52  16657198.0   \n",
       "2555    399673 2024-12-18  2220.97  2213.07  2227.24  2204.44  14627834.0   \n",
       "2556    399673 2024-12-19  2188.58  2224.24  2231.93  2185.52  17831877.0   \n",
       "2557    399673 2024-12-20  2220.73  2217.63  2243.33  2210.88  18285270.0   \n",
       "2558    399673 2024-12-23  2212.28  2202.27  2235.95  2198.84  17233320.0   \n",
       "2559    399673 2024-12-24  2203.78  2227.17  2228.93  2199.81  15626701.0   \n",
       "2560    399673 2024-12-25  2229.78  2217.50  2235.07  2204.00  14433907.0   \n",
       "2561    399673 2024-12-26  2216.13  2223.83  2233.63  2205.57  14812578.0   \n",
       "2562    399673 2024-12-27  2223.01  2217.46  2248.44  2206.53  20101752.0   \n",
       "2563    399673 2024-12-30  2210.94  2221.46  2232.33  2210.94  18106477.0   \n",
       "2564    399673 2024-12-31  2215.28  2153.18  2221.97  2153.18  20360300.0   \n",
       "2565    399673 2025-01-02  2148.36  2070.28  2148.80  2049.69  22809987.0   \n",
       "2566    399673 2025-01-03  2071.88  2026.21  2076.94  2026.21  18152367.0   \n",
       "2567    399673 2025-01-06  2027.71  2024.14  2043.20  2011.20  13498925.0   \n",
       "2568    399673 2025-01-07  1999.57  2036.06  2036.59  1990.19  14339804.0   \n",
       "2569    399673 2025-01-08  2016.22  2011.92  2033.60  1969.47  17328186.0   \n",
       "2570    399673 2025-01-09  1996.71  2015.66  2031.10  1996.57  12749098.0   \n",
       "2571    399673 2025-01-10  2010.92  1978.89  2026.97  1978.89  14118551.0   \n",
       "2572    399673 2025-01-13  1956.26  1984.15  2001.37  1956.26  11931363.0   \n",
       "2573    399673 2025-01-14  1991.75  2084.28  2085.12  1980.77  25213582.0   \n",
       "2574    399673 2025-01-15  2071.35  2043.43  2071.35  2037.99  16902654.0   \n",
       "2575    399673 2025-01-16  2057.38  2061.06  2092.21  2037.03  17814467.0   \n",
       "2576    399673 2025-01-17  2049.80  2073.15  2089.96  2049.65  15234448.0   \n",
       "2577    399673 2025-01-20  2099.40  2118.87  2132.42  2099.20  16534650.0   \n",
       "2578    399673 2025-01-21  2142.19  2125.96  2142.19  2103.94  14990206.0   \n",
       "2579    399673 2025-01-22  2118.75  2115.38  2127.08  2093.68  15406272.0   \n",
       "2580    399673 2025-01-23  2141.45  2107.08  2170.52  2107.08  23049474.0   \n",
       "2581    399673 2025-01-24  2098.07  2139.03  2150.87  2098.07  20467398.0   \n",
       "2582    399673 2025-01-27  2134.55  2072.44  2138.30  2072.44  17662474.0   \n",
       "2583    399673 2025-02-05  2087.96  2059.77  2087.96  2051.57  22879666.0   \n",
       "2584    399673 2025-02-06  2057.06  2119.16  2119.26  2053.06  27644735.0   \n",
       "2585    399673 2025-02-07  2127.57  2178.68  2206.20  2122.87  37181294.0   \n",
       "2586    399673 2025-02-10  2188.83  2184.17  2189.34  2159.86  27551759.0   \n",
       "2587    399673 2025-02-11  2183.31  2150.10  2183.31  2148.19  22879836.0   \n",
       "2588    399673 2025-02-12  2139.35  2185.28  2188.56  2135.45  23868663.0   \n",
       "2589    399673 2025-02-13  2178.05  2165.62  2194.22  2164.88  23870360.0   \n",
       "2590    399673 2025-02-14  2162.53  2198.67  2209.31  2162.32  24836851.0   \n",
       "2591    399673 2025-02-17  2225.66  2218.61  2231.44  2200.49  27426155.0   \n",
       "2592    399673 2025-02-18  2219.44  2177.54  2228.14  2169.32  25386675.0   \n",
       "\n",
       "            amount  open_preclose_rate  high_preclose_rate  low_preclose_rate  \\\n",
       "2533  1.113601e+11            -0.03592             0.52510           -3.23844   \n",
       "2534  1.028077e+11             0.40515             3.46871           -0.77123   \n",
       "2535  9.443062e+10            -0.66985             1.12096           -0.83753   \n",
       "2536  9.697687e+10            -0.61709             0.59692           -0.87147   \n",
       "2537  9.872830e+10            -0.36751             0.23271           -3.99958   \n",
       "2538  8.471057e+10             0.46698             0.89554           -1.70600   \n",
       "2539  6.846843e+10            -0.60787             0.44675           -1.38830   \n",
       "2540  8.775872e+10            -0.66355             2.83273           -1.42170   \n",
       "2541  7.776454e+10            -0.23454            -0.23003           -2.16951   \n",
       "2542  1.161605e+11            -0.38142             4.90695           -0.38142   \n",
       "2543  1.010440e+11            -0.62381             1.64886           -0.67396   \n",
       "2544  8.169067e+10            -0.17841             0.17753           -1.56995   \n",
       "2545  7.760915e+10            -0.45353            -0.02665           -1.72218   \n",
       "2546  7.900381e+10            -0.23003             1.19021           -0.23003   \n",
       "2547  1.034980e+11            -0.06726             3.40767           -0.27261   \n",
       "2548  8.304787e+10            -0.08945             0.28632           -1.60524   \n",
       "2549  1.377497e+11             5.11902             5.12565            0.28613   \n",
       "2550  8.790946e+10            -0.08343             0.80003           -0.69113   \n",
       "2551  9.284773e+10            -0.27381             2.03772           -0.27689   \n",
       "2552  1.164089e+11            -0.98964            -0.76630           -2.86180   \n",
       "2553  8.372205e+10            -0.13699            -0.06515           -1.87592   \n",
       "2554  7.670086e+10            -0.20335             1.85235           -0.20335   \n",
       "2555  6.165019e+10             0.26772             0.55078           -0.47855   \n",
       "2556  6.981324e+10            -1.10661             0.85221           -1.24488   \n",
       "2557  8.283551e+10            -0.15781             0.85827           -0.60065   \n",
       "2558  8.223181e+10            -0.24125             0.82611           -0.84730   \n",
       "2559  7.294039e+10             0.06857             1.21057           -0.11170   \n",
       "2560  6.619804e+10             0.11719             0.35471           -1.04033   \n",
       "2561  7.368297e+10            -0.06178             0.72740           -0.53799   \n",
       "2562  9.118933e+10            -0.03687             1.10665           -0.77794   \n",
       "2563  7.728194e+10            -0.29403             0.67059           -0.29403   \n",
       "2564  8.370286e+10            -0.27820             0.02296           -3.07365   \n",
       "2565  8.515093e+10            -0.22385            -0.20342           -4.80638   \n",
       "2566  6.702097e+10             0.07728             0.32170           -2.12870   \n",
       "2567  5.247548e+10             0.07403             0.83851           -0.74079   \n",
       "2568  6.166492e+10            -1.21385             0.61508           -1.67726   \n",
       "2569  6.651515e+10            -0.97443            -0.12082           -3.27053   \n",
       "2570  5.353491e+10            -0.75599             0.95332           -0.76295   \n",
       "2571  6.058955e+10            -0.23516             0.56111           -1.82422   \n",
       "2572  4.914157e+10            -1.14357             1.13599           -1.14357   \n",
       "2573  9.610624e+10             0.38304             5.08883           -0.17035   \n",
       "2574  6.646676e+10            -0.62036            -0.62036           -2.22091   \n",
       "2575  8.105486e+10             0.68268             2.38716           -0.31320   \n",
       "2576  6.965941e+10            -0.54632             1.40219           -0.55360   \n",
       "2577  7.732498e+10             1.26619             2.85893            1.25654   \n",
       "2578  6.672893e+10             1.10059             1.10059           -0.70462   \n",
       "2579  7.706254e+10            -0.33914             0.05268           -1.51837   \n",
       "2580  9.468227e+10             1.23240             2.60662           -0.39236   \n",
       "2581  8.124549e+10            -0.42761             2.07823           -0.42761   \n",
       "2582  7.375227e+10            -0.20944            -0.03413           -3.11309   \n",
       "2583  9.805849e+10             0.74888             0.74888           -1.00703   \n",
       "2584  1.145989e+11            -0.13157             2.88819           -0.32576   \n",
       "2585  1.532058e+11             0.39686             4.10729            0.17507   \n",
       "2586  1.146193e+11             0.46588             0.48929           -0.86383   \n",
       "2587  9.406400e+10            -0.03937            -0.03937           -1.64731   \n",
       "2588  1.008077e+11            -0.49998             1.78875           -0.68136   \n",
       "2589  1.009870e+11            -0.33085             0.40910           -0.93352   \n",
       "2590  1.009813e+11            -0.14268             2.01744           -0.15238   \n",
       "2591  1.113471e+11             1.22756             1.49045            0.08278   \n",
       "2592  1.028330e+11             0.03741             0.42955           -2.22166   \n",
       "\n",
       "      vol_change_rate  amt_change_rate        y  \n",
       "2533         -8.77796        -14.35413 -2.35543  \n",
       "2534         -9.96404         -7.67992  3.20119  \n",
       "2535         -2.88476         -8.14833  0.34725  \n",
       "2536          3.50398          2.69642 -0.11228  \n",
       "2537          0.27946          1.80603 -3.99958  \n",
       "2538        -17.31328        -14.19829 -0.07867  \n",
       "2539        -18.13794        -19.17369 -1.28623  \n",
       "2540         31.49372         28.17399  2.80583  \n",
       "2541        -17.08166        -11.38824 -1.96835  \n",
       "2542         53.80659         49.37469  2.74264  \n",
       "2543        -17.08913        -13.01353  1.40346  \n",
       "2544        -14.77811        -19.15333 -0.58249  \n",
       "2545        -12.43606         -4.99631 -1.32196  \n",
       "2546         -2.27955          1.79702  0.39659  \n",
       "2547         39.40738         31.00378  2.25938  \n",
       "2548        -21.72413        -19.75895 -0.69980  \n",
       "2549         70.67748         65.86783  0.56211  \n",
       "2550        -38.49774        -36.18173 -0.25292  \n",
       "2551          3.69791          5.61745  1.50683  \n",
       "2552         37.40126         25.37616 -2.81280  \n",
       "2553        -31.57936        -28.07936 -1.47343  \n",
       "2554        -16.37144         -8.38631  0.31839  \n",
       "2555        -12.18311        -19.62256 -0.08894  \n",
       "2556         21.90374         13.24092  0.50473  \n",
       "2557          2.54260         18.65301 -0.29718  \n",
       "2558         -5.75299         -0.72880 -0.69263  \n",
       "2559         -9.32275        -11.29906  1.13065  \n",
       "2560         -7.63305         -9.24364 -0.43418  \n",
       "2561          2.62348         11.30688  0.28546  \n",
       "2562         35.70732         23.75903 -0.28644  \n",
       "2563         -9.92588        -15.25111  0.18039  \n",
       "2564         12.44761          8.30844 -3.07365  \n",
       "2565         12.03168          1.73001 -3.85012  \n",
       "2566        -20.41921        -21.29155 -2.12870  \n",
       "2567        -25.63546        -21.70290 -0.10216  \n",
       "2568          6.22923         17.51189  0.58889  \n",
       "2569         20.83977          7.86547 -1.18562  \n",
       "2570        -26.42566        -19.51472  0.18589  \n",
       "2571         10.74157         13.17764 -1.82422  \n",
       "2572        -15.49159        -18.89431  0.26581  \n",
       "2573        111.32189         95.57013  5.04649  \n",
       "2574        -32.96211        -30.84033 -1.95991  \n",
       "2575          5.39450         21.94797  0.86277  \n",
       "2576        -14.48272        -14.05894  0.58659  \n",
       "2577          8.53462         11.00436  2.20534  \n",
       "2578         -9.34065        -13.70327  0.33461  \n",
       "2579          2.77559         15.48595 -0.49766  \n",
       "2580         49.61098         22.86420 -0.39236  \n",
       "2581        -11.20232        -14.19144  1.51632  \n",
       "2582        -13.70435         -9.22293 -3.11309  \n",
       "2583         29.53829         32.95657 -0.61136  \n",
       "2584         20.82665         16.86788  2.88333  \n",
       "2585         34.49684         33.68873  2.80866  \n",
       "2586        -25.89887        -25.18605  0.25199  \n",
       "2587        -16.95690        -17.93354 -1.55986  \n",
       "2588          4.32183          7.16926  1.63620  \n",
       "2589          0.00711          0.17783 -0.89966  \n",
       "2590          4.04892         -0.00564  1.52612  \n",
       "2591         10.42525         10.26512  0.90691  \n",
       "2592         -7.43626         -7.64648 -1.85116  "
      ]
     },
     "execution_count": 66,
     "metadata": {},
     "output_type": "execute_result"
    }
   ],
   "source": [
    "df_train[df_train[\"ds\"] > \"2024-11-15\"]"
   ]
  },
  {
   "cell_type": "code",
   "execution_count": 65,
   "metadata": {},
   "outputs": [
    {
     "data": {
      "text/html": [
       "<div>\n",
       "<style scoped>\n",
       "    .dataframe tbody tr th:only-of-type {\n",
       "        vertical-align: middle;\n",
       "    }\n",
       "\n",
       "    .dataframe tbody tr th {\n",
       "        vertical-align: top;\n",
       "    }\n",
       "\n",
       "    .dataframe thead th {\n",
       "        text-align: right;\n",
       "    }\n",
       "</style>\n",
       "<table border=\"1\" class=\"dataframe\">\n",
       "  <thead>\n",
       "    <tr style=\"text-align: right;\">\n",
       "      <th></th>\n",
       "      <th>index</th>\n",
       "      <th>unique_id</th>\n",
       "      <th>ds</th>\n",
       "      <th>cutoff</th>\n",
       "      <th>TSMixerx</th>\n",
       "      <th>y</th>\n",
       "    </tr>\n",
       "  </thead>\n",
       "  <tbody>\n",
       "    <tr>\n",
       "      <th>2420</th>\n",
       "      <td>2420</td>\n",
       "      <td>399673</td>\n",
       "      <td>2024-06-20</td>\n",
       "      <td>2024-06-19</td>\n",
       "      <td>-0.413537</td>\n",
       "      <td>-1.615420</td>\n",
       "    </tr>\n",
       "    <tr>\n",
       "      <th>2421</th>\n",
       "      <td>2421</td>\n",
       "      <td>399673</td>\n",
       "      <td>2024-06-21</td>\n",
       "      <td>2024-06-19</td>\n",
       "      <td>0.021066</td>\n",
       "      <td>-0.576560</td>\n",
       "    </tr>\n",
       "    <tr>\n",
       "      <th>2422</th>\n",
       "      <td>2422</td>\n",
       "      <td>399673</td>\n",
       "      <td>2024-06-24</td>\n",
       "      <td>2024-06-19</td>\n",
       "      <td>-0.773372</td>\n",
       "      <td>-1.024170</td>\n",
       "    </tr>\n",
       "    <tr>\n",
       "      <th>2423</th>\n",
       "      <td>2423</td>\n",
       "      <td>399673</td>\n",
       "      <td>2024-06-25</td>\n",
       "      <td>2024-06-19</td>\n",
       "      <td>-0.838801</td>\n",
       "      <td>-2.019260</td>\n",
       "    </tr>\n",
       "    <tr>\n",
       "      <th>2424</th>\n",
       "      <td>2424</td>\n",
       "      <td>399673</td>\n",
       "      <td>2024-06-26</td>\n",
       "      <td>2024-06-19</td>\n",
       "      <td>-0.206245</td>\n",
       "      <td>1.652850</td>\n",
       "    </tr>\n",
       "    <tr>\n",
       "      <th>2425</th>\n",
       "      <td>2425</td>\n",
       "      <td>399673</td>\n",
       "      <td>2024-06-27</td>\n",
       "      <td>2024-06-19</td>\n",
       "      <td>-1.608055</td>\n",
       "      <td>-1.584520</td>\n",
       "    </tr>\n",
       "    <tr>\n",
       "      <th>2426</th>\n",
       "      <td>2426</td>\n",
       "      <td>399673</td>\n",
       "      <td>2024-06-28</td>\n",
       "      <td>2024-06-19</td>\n",
       "      <td>-0.478143</td>\n",
       "      <td>-1.283380</td>\n",
       "    </tr>\n",
       "    <tr>\n",
       "      <th>2427</th>\n",
       "      <td>2427</td>\n",
       "      <td>399673</td>\n",
       "      <td>2024-07-01</td>\n",
       "      <td>2024-06-19</td>\n",
       "      <td>-0.753708</td>\n",
       "      <td>-0.186170</td>\n",
       "    </tr>\n",
       "    <tr>\n",
       "      <th>2428</th>\n",
       "      <td>2428</td>\n",
       "      <td>399673</td>\n",
       "      <td>2024-07-02</td>\n",
       "      <td>2024-06-19</td>\n",
       "      <td>-0.830485</td>\n",
       "      <td>-0.842100</td>\n",
       "    </tr>\n",
       "    <tr>\n",
       "      <th>2429</th>\n",
       "      <td>2429</td>\n",
       "      <td>399673</td>\n",
       "      <td>2024-07-03</td>\n",
       "      <td>2024-06-19</td>\n",
       "      <td>-1.609837</td>\n",
       "      <td>-0.071240</td>\n",
       "    </tr>\n",
       "    <tr>\n",
       "      <th>2430</th>\n",
       "      <td>2430</td>\n",
       "      <td>399673</td>\n",
       "      <td>2024-07-04</td>\n",
       "      <td>2024-06-19</td>\n",
       "      <td>-1.831382</td>\n",
       "      <td>-0.672880</td>\n",
       "    </tr>\n",
       "    <tr>\n",
       "      <th>2431</th>\n",
       "      <td>2431</td>\n",
       "      <td>399673</td>\n",
       "      <td>2024-07-05</td>\n",
       "      <td>2024-06-19</td>\n",
       "      <td>-0.885022</td>\n",
       "      <td>0.295280</td>\n",
       "    </tr>\n",
       "    <tr>\n",
       "      <th>2432</th>\n",
       "      <td>2432</td>\n",
       "      <td>399673</td>\n",
       "      <td>2024-07-08</td>\n",
       "      <td>2024-06-19</td>\n",
       "      <td>-1.551795</td>\n",
       "      <td>-1.640900</td>\n",
       "    </tr>\n",
       "    <tr>\n",
       "      <th>2433</th>\n",
       "      <td>2433</td>\n",
       "      <td>399673</td>\n",
       "      <td>2024-07-09</td>\n",
       "      <td>2024-06-19</td>\n",
       "      <td>-0.810568</td>\n",
       "      <td>1.876330</td>\n",
       "    </tr>\n",
       "    <tr>\n",
       "      <th>2434</th>\n",
       "      <td>2434</td>\n",
       "      <td>399673</td>\n",
       "      <td>2024-07-10</td>\n",
       "      <td>2024-06-19</td>\n",
       "      <td>-0.434058</td>\n",
       "      <td>-0.109000</td>\n",
       "    </tr>\n",
       "    <tr>\n",
       "      <th>2435</th>\n",
       "      <td>2435</td>\n",
       "      <td>399673</td>\n",
       "      <td>2024-07-11</td>\n",
       "      <td>2024-06-19</td>\n",
       "      <td>-1.029244</td>\n",
       "      <td>2.089620</td>\n",
       "    </tr>\n",
       "    <tr>\n",
       "      <th>2436</th>\n",
       "      <td>2436</td>\n",
       "      <td>399673</td>\n",
       "      <td>2024-07-12</td>\n",
       "      <td>2024-06-19</td>\n",
       "      <td>-0.914738</td>\n",
       "      <td>-0.098290</td>\n",
       "    </tr>\n",
       "    <tr>\n",
       "      <th>2437</th>\n",
       "      <td>2437</td>\n",
       "      <td>399673</td>\n",
       "      <td>2024-07-15</td>\n",
       "      <td>2024-06-19</td>\n",
       "      <td>-0.553455</td>\n",
       "      <td>-0.804290</td>\n",
       "    </tr>\n",
       "    <tr>\n",
       "      <th>2438</th>\n",
       "      <td>2438</td>\n",
       "      <td>399673</td>\n",
       "      <td>2024-07-16</td>\n",
       "      <td>2024-06-19</td>\n",
       "      <td>-0.655921</td>\n",
       "      <td>1.733210</td>\n",
       "    </tr>\n",
       "    <tr>\n",
       "      <th>2439</th>\n",
       "      <td>2439</td>\n",
       "      <td>399673</td>\n",
       "      <td>2024-07-17</td>\n",
       "      <td>2024-06-19</td>\n",
       "      <td>-0.644559</td>\n",
       "      <td>-0.137710</td>\n",
       "    </tr>\n",
       "    <tr>\n",
       "      <th>2440</th>\n",
       "      <td>2440</td>\n",
       "      <td>399673</td>\n",
       "      <td>2024-07-18</td>\n",
       "      <td>2024-07-17</td>\n",
       "      <td>-1.677816</td>\n",
       "      <td>1.419250</td>\n",
       "    </tr>\n",
       "    <tr>\n",
       "      <th>2441</th>\n",
       "      <td>2441</td>\n",
       "      <td>399673</td>\n",
       "      <td>2024-07-19</td>\n",
       "      <td>2024-07-17</td>\n",
       "      <td>-1.886195</td>\n",
       "      <td>0.361580</td>\n",
       "    </tr>\n",
       "    <tr>\n",
       "      <th>2442</th>\n",
       "      <td>2442</td>\n",
       "      <td>399673</td>\n",
       "      <td>2024-07-22</td>\n",
       "      <td>2024-07-17</td>\n",
       "      <td>-2.437803</td>\n",
       "      <td>0.004800</td>\n",
       "    </tr>\n",
       "    <tr>\n",
       "      <th>2443</th>\n",
       "      <td>2443</td>\n",
       "      <td>399673</td>\n",
       "      <td>2024-07-23</td>\n",
       "      <td>2024-07-17</td>\n",
       "      <td>-0.788057</td>\n",
       "      <td>-2.929430</td>\n",
       "    </tr>\n",
       "    <tr>\n",
       "      <th>2444</th>\n",
       "      <td>2444</td>\n",
       "      <td>399673</td>\n",
       "      <td>2024-07-24</td>\n",
       "      <td>2024-07-17</td>\n",
       "      <td>-1.467099</td>\n",
       "      <td>-1.150450</td>\n",
       "    </tr>\n",
       "    <tr>\n",
       "      <th>2445</th>\n",
       "      <td>2445</td>\n",
       "      <td>399673</td>\n",
       "      <td>2024-07-25</td>\n",
       "      <td>2024-07-17</td>\n",
       "      <td>-0.923580</td>\n",
       "      <td>-0.456660</td>\n",
       "    </tr>\n",
       "    <tr>\n",
       "      <th>2446</th>\n",
       "      <td>2446</td>\n",
       "      <td>399673</td>\n",
       "      <td>2024-07-26</td>\n",
       "      <td>2024-07-17</td>\n",
       "      <td>-0.292931</td>\n",
       "      <td>0.950780</td>\n",
       "    </tr>\n",
       "    <tr>\n",
       "      <th>2447</th>\n",
       "      <td>2447</td>\n",
       "      <td>399673</td>\n",
       "      <td>2024-07-29</td>\n",
       "      <td>2024-07-17</td>\n",
       "      <td>-1.351784</td>\n",
       "      <td>-1.509410</td>\n",
       "    </tr>\n",
       "    <tr>\n",
       "      <th>2448</th>\n",
       "      <td>2448</td>\n",
       "      <td>399673</td>\n",
       "      <td>2024-07-30</td>\n",
       "      <td>2024-07-17</td>\n",
       "      <td>-1.427916</td>\n",
       "      <td>-0.379350</td>\n",
       "    </tr>\n",
       "    <tr>\n",
       "      <th>2449</th>\n",
       "      <td>2449</td>\n",
       "      <td>399673</td>\n",
       "      <td>2024-07-31</td>\n",
       "      <td>2024-07-17</td>\n",
       "      <td>-0.095359</td>\n",
       "      <td>3.384680</td>\n",
       "    </tr>\n",
       "    <tr>\n",
       "      <th>2450</th>\n",
       "      <td>2450</td>\n",
       "      <td>399673</td>\n",
       "      <td>2024-08-01</td>\n",
       "      <td>2024-07-17</td>\n",
       "      <td>0.442896</td>\n",
       "      <td>-1.482490</td>\n",
       "    </tr>\n",
       "    <tr>\n",
       "      <th>2451</th>\n",
       "      <td>2451</td>\n",
       "      <td>399673</td>\n",
       "      <td>2024-08-02</td>\n",
       "      <td>2024-07-17</td>\n",
       "      <td>-0.913974</td>\n",
       "      <td>-2.111950</td>\n",
       "    </tr>\n",
       "    <tr>\n",
       "      <th>2452</th>\n",
       "      <td>2452</td>\n",
       "      <td>399673</td>\n",
       "      <td>2024-08-05</td>\n",
       "      <td>2024-07-17</td>\n",
       "      <td>0.300210</td>\n",
       "      <td>-1.980850</td>\n",
       "    </tr>\n",
       "    <tr>\n",
       "      <th>2453</th>\n",
       "      <td>2453</td>\n",
       "      <td>399673</td>\n",
       "      <td>2024-08-06</td>\n",
       "      <td>2024-07-17</td>\n",
       "      <td>-0.820506</td>\n",
       "      <td>1.345950</td>\n",
       "    </tr>\n",
       "    <tr>\n",
       "      <th>2454</th>\n",
       "      <td>2454</td>\n",
       "      <td>399673</td>\n",
       "      <td>2024-08-07</td>\n",
       "      <td>2024-07-17</td>\n",
       "      <td>0.777670</td>\n",
       "      <td>-0.439490</td>\n",
       "    </tr>\n",
       "    <tr>\n",
       "      <th>2455</th>\n",
       "      <td>2455</td>\n",
       "      <td>399673</td>\n",
       "      <td>2024-08-08</td>\n",
       "      <td>2024-07-17</td>\n",
       "      <td>-1.134113</td>\n",
       "      <td>-0.720950</td>\n",
       "    </tr>\n",
       "    <tr>\n",
       "      <th>2456</th>\n",
       "      <td>2456</td>\n",
       "      <td>399673</td>\n",
       "      <td>2024-08-09</td>\n",
       "      <td>2024-07-17</td>\n",
       "      <td>-1.374991</td>\n",
       "      <td>-0.932000</td>\n",
       "    </tr>\n",
       "    <tr>\n",
       "      <th>2457</th>\n",
       "      <td>2457</td>\n",
       "      <td>399673</td>\n",
       "      <td>2024-08-12</td>\n",
       "      <td>2024-07-17</td>\n",
       "      <td>-1.944344</td>\n",
       "      <td>-0.250220</td>\n",
       "    </tr>\n",
       "    <tr>\n",
       "      <th>2458</th>\n",
       "      <td>2458</td>\n",
       "      <td>399673</td>\n",
       "      <td>2024-08-13</td>\n",
       "      <td>2024-07-17</td>\n",
       "      <td>-0.712953</td>\n",
       "      <td>1.105550</td>\n",
       "    </tr>\n",
       "    <tr>\n",
       "      <th>2459</th>\n",
       "      <td>2459</td>\n",
       "      <td>399673</td>\n",
       "      <td>2024-08-14</td>\n",
       "      <td>2024-07-17</td>\n",
       "      <td>0.240684</td>\n",
       "      <td>-1.351280</td>\n",
       "    </tr>\n",
       "    <tr>\n",
       "      <th>2460</th>\n",
       "      <td>2460</td>\n",
       "      <td>399673</td>\n",
       "      <td>2024-08-15</td>\n",
       "      <td>2024-08-14</td>\n",
       "      <td>-1.274300</td>\n",
       "      <td>0.545680</td>\n",
       "    </tr>\n",
       "    <tr>\n",
       "      <th>2461</th>\n",
       "      <td>2461</td>\n",
       "      <td>399673</td>\n",
       "      <td>2024-08-16</td>\n",
       "      <td>2024-08-14</td>\n",
       "      <td>0.854908</td>\n",
       "      <td>0.186790</td>\n",
       "    </tr>\n",
       "    <tr>\n",
       "      <th>2462</th>\n",
       "      <td>2462</td>\n",
       "      <td>399673</td>\n",
       "      <td>2024-08-19</td>\n",
       "      <td>2024-08-14</td>\n",
       "      <td>-0.564207</td>\n",
       "      <td>0.082140</td>\n",
       "    </tr>\n",
       "    <tr>\n",
       "      <th>2463</th>\n",
       "      <td>2463</td>\n",
       "      <td>399673</td>\n",
       "      <td>2024-08-20</td>\n",
       "      <td>2024-08-14</td>\n",
       "      <td>-1.656486</td>\n",
       "      <td>-1.186750</td>\n",
       "    </tr>\n",
       "    <tr>\n",
       "      <th>2464</th>\n",
       "      <td>2464</td>\n",
       "      <td>399673</td>\n",
       "      <td>2024-08-21</td>\n",
       "      <td>2024-08-14</td>\n",
       "      <td>0.460301</td>\n",
       "      <td>-0.497010</td>\n",
       "    </tr>\n",
       "    <tr>\n",
       "      <th>2465</th>\n",
       "      <td>2465</td>\n",
       "      <td>399673</td>\n",
       "      <td>2024-08-22</td>\n",
       "      <td>2024-08-14</td>\n",
       "      <td>-1.369989</td>\n",
       "      <td>-0.635300</td>\n",
       "    </tr>\n",
       "    <tr>\n",
       "      <th>2466</th>\n",
       "      <td>2466</td>\n",
       "      <td>399673</td>\n",
       "      <td>2024-08-23</td>\n",
       "      <td>2024-08-14</td>\n",
       "      <td>2.016185</td>\n",
       "      <td>0.056670</td>\n",
       "    </tr>\n",
       "    <tr>\n",
       "      <th>2467</th>\n",
       "      <td>2467</td>\n",
       "      <td>399673</td>\n",
       "      <td>2024-08-26</td>\n",
       "      <td>2024-08-14</td>\n",
       "      <td>5.509153</td>\n",
       "      <td>-0.117270</td>\n",
       "    </tr>\n",
       "    <tr>\n",
       "      <th>2468</th>\n",
       "      <td>2468</td>\n",
       "      <td>399673</td>\n",
       "      <td>2024-08-27</td>\n",
       "      <td>2024-08-14</td>\n",
       "      <td>-3.463408</td>\n",
       "      <td>-0.875900</td>\n",
       "    </tr>\n",
       "    <tr>\n",
       "      <th>2469</th>\n",
       "      <td>2469</td>\n",
       "      <td>399673</td>\n",
       "      <td>2024-08-28</td>\n",
       "      <td>2024-08-14</td>\n",
       "      <td>-2.770134</td>\n",
       "      <td>-0.064610</td>\n",
       "    </tr>\n",
       "    <tr>\n",
       "      <th>2470</th>\n",
       "      <td>2470</td>\n",
       "      <td>399673</td>\n",
       "      <td>2024-08-29</td>\n",
       "      <td>2024-08-14</td>\n",
       "      <td>-0.306949</td>\n",
       "      <td>0.509110</td>\n",
       "    </tr>\n",
       "    <tr>\n",
       "      <th>2471</th>\n",
       "      <td>2471</td>\n",
       "      <td>399673</td>\n",
       "      <td>2024-08-30</td>\n",
       "      <td>2024-08-14</td>\n",
       "      <td>-0.185327</td>\n",
       "      <td>2.854940</td>\n",
       "    </tr>\n",
       "    <tr>\n",
       "      <th>2472</th>\n",
       "      <td>2472</td>\n",
       "      <td>399673</td>\n",
       "      <td>2024-09-02</td>\n",
       "      <td>2024-08-14</td>\n",
       "      <td>-0.329144</td>\n",
       "      <td>-2.910540</td>\n",
       "    </tr>\n",
       "    <tr>\n",
       "      <th>2473</th>\n",
       "      <td>2473</td>\n",
       "      <td>399673</td>\n",
       "      <td>2024-09-03</td>\n",
       "      <td>2024-08-14</td>\n",
       "      <td>-2.210935</td>\n",
       "      <td>1.282180</td>\n",
       "    </tr>\n",
       "    <tr>\n",
       "      <th>2474</th>\n",
       "      <td>2474</td>\n",
       "      <td>399673</td>\n",
       "      <td>2024-09-04</td>\n",
       "      <td>2024-08-14</td>\n",
       "      <td>-2.800308</td>\n",
       "      <td>-0.100690</td>\n",
       "    </tr>\n",
       "    <tr>\n",
       "      <th>2475</th>\n",
       "      <td>2475</td>\n",
       "      <td>399673</td>\n",
       "      <td>2024-09-05</td>\n",
       "      <td>2024-08-14</td>\n",
       "      <td>1.126720</td>\n",
       "      <td>0.576250</td>\n",
       "    </tr>\n",
       "    <tr>\n",
       "      <th>2476</th>\n",
       "      <td>2476</td>\n",
       "      <td>399673</td>\n",
       "      <td>2024-09-06</td>\n",
       "      <td>2024-08-14</td>\n",
       "      <td>2.554043</td>\n",
       "      <td>-1.632480</td>\n",
       "    </tr>\n",
       "    <tr>\n",
       "      <th>2477</th>\n",
       "      <td>2477</td>\n",
       "      <td>399673</td>\n",
       "      <td>2024-09-09</td>\n",
       "      <td>2024-08-14</td>\n",
       "      <td>-1.375980</td>\n",
       "      <td>0.158180</td>\n",
       "    </tr>\n",
       "    <tr>\n",
       "      <th>2478</th>\n",
       "      <td>2478</td>\n",
       "      <td>399673</td>\n",
       "      <td>2024-09-10</td>\n",
       "      <td>2024-08-14</td>\n",
       "      <td>0.370572</td>\n",
       "      <td>-0.018070</td>\n",
       "    </tr>\n",
       "    <tr>\n",
       "      <th>2479</th>\n",
       "      <td>2479</td>\n",
       "      <td>399673</td>\n",
       "      <td>2024-09-11</td>\n",
       "      <td>2024-08-14</td>\n",
       "      <td>-2.797603</td>\n",
       "      <td>1.437710</td>\n",
       "    </tr>\n",
       "    <tr>\n",
       "      <th>2480</th>\n",
       "      <td>2480</td>\n",
       "      <td>399673</td>\n",
       "      <td>2024-09-12</td>\n",
       "      <td>2024-09-11</td>\n",
       "      <td>0.165293</td>\n",
       "      <td>-0.154400</td>\n",
       "    </tr>\n",
       "    <tr>\n",
       "      <th>2481</th>\n",
       "      <td>2481</td>\n",
       "      <td>399673</td>\n",
       "      <td>2024-09-13</td>\n",
       "      <td>2024-09-11</td>\n",
       "      <td>-0.308096</td>\n",
       "      <td>-0.937100</td>\n",
       "    </tr>\n",
       "    <tr>\n",
       "      <th>2482</th>\n",
       "      <td>2482</td>\n",
       "      <td>399673</td>\n",
       "      <td>2024-09-18</td>\n",
       "      <td>2024-09-11</td>\n",
       "      <td>-4.423459</td>\n",
       "      <td>0.093400</td>\n",
       "    </tr>\n",
       "    <tr>\n",
       "      <th>2483</th>\n",
       "      <td>2483</td>\n",
       "      <td>399673</td>\n",
       "      <td>2024-09-19</td>\n",
       "      <td>2024-09-11</td>\n",
       "      <td>-4.133748</td>\n",
       "      <td>0.722470</td>\n",
       "    </tr>\n",
       "    <tr>\n",
       "      <th>2484</th>\n",
       "      <td>2484</td>\n",
       "      <td>399673</td>\n",
       "      <td>2024-09-20</td>\n",
       "      <td>2024-09-11</td>\n",
       "      <td>-4.956760</td>\n",
       "      <td>-0.585610</td>\n",
       "    </tr>\n",
       "    <tr>\n",
       "      <th>2485</th>\n",
       "      <td>2485</td>\n",
       "      <td>399673</td>\n",
       "      <td>2024-09-23</td>\n",
       "      <td>2024-09-11</td>\n",
       "      <td>-1.858271</td>\n",
       "      <td>-0.222980</td>\n",
       "    </tr>\n",
       "    <tr>\n",
       "      <th>2486</th>\n",
       "      <td>2486</td>\n",
       "      <td>399673</td>\n",
       "      <td>2024-09-24</td>\n",
       "      <td>2024-09-11</td>\n",
       "      <td>0.630582</td>\n",
       "      <td>5.951140</td>\n",
       "    </tr>\n",
       "    <tr>\n",
       "      <th>2487</th>\n",
       "      <td>2487</td>\n",
       "      <td>399673</td>\n",
       "      <td>2024-09-25</td>\n",
       "      <td>2024-09-11</td>\n",
       "      <td>-3.345383</td>\n",
       "      <td>1.813950</td>\n",
       "    </tr>\n",
       "    <tr>\n",
       "      <th>2488</th>\n",
       "      <td>2488</td>\n",
       "      <td>399673</td>\n",
       "      <td>2024-09-26</td>\n",
       "      <td>2024-09-11</td>\n",
       "      <td>0.587247</td>\n",
       "      <td>4.314620</td>\n",
       "    </tr>\n",
       "    <tr>\n",
       "      <th>2489</th>\n",
       "      <td>2489</td>\n",
       "      <td>399673</td>\n",
       "      <td>2024-09-27</td>\n",
       "      <td>2024-09-11</td>\n",
       "      <td>-2.408117</td>\n",
       "      <td>10.675050</td>\n",
       "    </tr>\n",
       "    <tr>\n",
       "      <th>2490</th>\n",
       "      <td>2490</td>\n",
       "      <td>399673</td>\n",
       "      <td>2024-09-30</td>\n",
       "      <td>2024-09-11</td>\n",
       "      <td>2.112158</td>\n",
       "      <td>15.554130</td>\n",
       "    </tr>\n",
       "    <tr>\n",
       "      <th>2491</th>\n",
       "      <td>2491</td>\n",
       "      <td>399673</td>\n",
       "      <td>2024-10-08</td>\n",
       "      <td>2024-09-11</td>\n",
       "      <td>1.613505</td>\n",
       "      <td>18.558559</td>\n",
       "    </tr>\n",
       "    <tr>\n",
       "      <th>2492</th>\n",
       "      <td>2492</td>\n",
       "      <td>399673</td>\n",
       "      <td>2024-10-09</td>\n",
       "      <td>2024-09-11</td>\n",
       "      <td>-3.896667</td>\n",
       "      <td>-10.315370</td>\n",
       "    </tr>\n",
       "    <tr>\n",
       "      <th>2493</th>\n",
       "      <td>2493</td>\n",
       "      <td>399673</td>\n",
       "      <td>2024-10-10</td>\n",
       "      <td>2024-09-11</td>\n",
       "      <td>2.787804</td>\n",
       "      <td>-3.462800</td>\n",
       "    </tr>\n",
       "    <tr>\n",
       "      <th>2494</th>\n",
       "      <td>2494</td>\n",
       "      <td>399673</td>\n",
       "      <td>2024-10-11</td>\n",
       "      <td>2024-09-11</td>\n",
       "      <td>6.106774</td>\n",
       "      <td>-5.034370</td>\n",
       "    </tr>\n",
       "    <tr>\n",
       "      <th>2495</th>\n",
       "      <td>2495</td>\n",
       "      <td>399673</td>\n",
       "      <td>2024-10-14</td>\n",
       "      <td>2024-09-11</td>\n",
       "      <td>-1.267213</td>\n",
       "      <td>2.630180</td>\n",
       "    </tr>\n",
       "    <tr>\n",
       "      <th>2496</th>\n",
       "      <td>2496</td>\n",
       "      <td>399673</td>\n",
       "      <td>2024-10-15</td>\n",
       "      <td>2024-09-11</td>\n",
       "      <td>1.765848</td>\n",
       "      <td>-3.330540</td>\n",
       "    </tr>\n",
       "    <tr>\n",
       "      <th>2497</th>\n",
       "      <td>2497</td>\n",
       "      <td>399673</td>\n",
       "      <td>2024-10-16</td>\n",
       "      <td>2024-09-11</td>\n",
       "      <td>-0.796955</td>\n",
       "      <td>-2.453590</td>\n",
       "    </tr>\n",
       "    <tr>\n",
       "      <th>2498</th>\n",
       "      <td>2498</td>\n",
       "      <td>399673</td>\n",
       "      <td>2024-10-17</td>\n",
       "      <td>2024-09-11</td>\n",
       "      <td>-2.066825</td>\n",
       "      <td>-0.208830</td>\n",
       "    </tr>\n",
       "    <tr>\n",
       "      <th>2499</th>\n",
       "      <td>2499</td>\n",
       "      <td>399673</td>\n",
       "      <td>2024-10-18</td>\n",
       "      <td>2024-09-11</td>\n",
       "      <td>-2.808187</td>\n",
       "      <td>8.629220</td>\n",
       "    </tr>\n",
       "    <tr>\n",
       "      <th>2500</th>\n",
       "      <td>2500</td>\n",
       "      <td>399673</td>\n",
       "      <td>2024-10-21</td>\n",
       "      <td>2024-10-18</td>\n",
       "      <td>-0.720152</td>\n",
       "      <td>0.439230</td>\n",
       "    </tr>\n",
       "    <tr>\n",
       "      <th>2501</th>\n",
       "      <td>2501</td>\n",
       "      <td>399673</td>\n",
       "      <td>2024-10-22</td>\n",
       "      <td>2024-10-18</td>\n",
       "      <td>0.340601</td>\n",
       "      <td>0.333960</td>\n",
       "    </tr>\n",
       "    <tr>\n",
       "      <th>2502</th>\n",
       "      <td>2502</td>\n",
       "      <td>399673</td>\n",
       "      <td>2024-10-23</td>\n",
       "      <td>2024-10-18</td>\n",
       "      <td>-3.775172</td>\n",
       "      <td>-0.837070</td>\n",
       "    </tr>\n",
       "    <tr>\n",
       "      <th>2503</th>\n",
       "      <td>2503</td>\n",
       "      <td>399673</td>\n",
       "      <td>2024-10-24</td>\n",
       "      <td>2024-10-18</td>\n",
       "      <td>-1.998381</td>\n",
       "      <td>-1.354880</td>\n",
       "    </tr>\n",
       "    <tr>\n",
       "      <th>2504</th>\n",
       "      <td>2504</td>\n",
       "      <td>399673</td>\n",
       "      <td>2024-10-25</td>\n",
       "      <td>2024-10-18</td>\n",
       "      <td>-0.629701</td>\n",
       "      <td>3.226580</td>\n",
       "    </tr>\n",
       "    <tr>\n",
       "      <th>2505</th>\n",
       "      <td>2505</td>\n",
       "      <td>399673</td>\n",
       "      <td>2024-10-28</td>\n",
       "      <td>2024-10-18</td>\n",
       "      <td>-1.631305</td>\n",
       "      <td>-0.743010</td>\n",
       "    </tr>\n",
       "    <tr>\n",
       "      <th>2506</th>\n",
       "      <td>2506</td>\n",
       "      <td>399673</td>\n",
       "      <td>2024-10-29</td>\n",
       "      <td>2024-10-18</td>\n",
       "      <td>0.425821</td>\n",
       "      <td>-2.312590</td>\n",
       "    </tr>\n",
       "    <tr>\n",
       "      <th>2507</th>\n",
       "      <td>2507</td>\n",
       "      <td>399673</td>\n",
       "      <td>2024-10-30</td>\n",
       "      <td>2024-10-18</td>\n",
       "      <td>-1.218798</td>\n",
       "      <td>-1.269350</td>\n",
       "    </tr>\n",
       "    <tr>\n",
       "      <th>2508</th>\n",
       "      <td>2508</td>\n",
       "      <td>399673</td>\n",
       "      <td>2024-10-31</td>\n",
       "      <td>2024-10-18</td>\n",
       "      <td>-1.553301</td>\n",
       "      <td>0.779400</td>\n",
       "    </tr>\n",
       "    <tr>\n",
       "      <th>2509</th>\n",
       "      <td>2509</td>\n",
       "      <td>399673</td>\n",
       "      <td>2024-11-01</td>\n",
       "      <td>2024-10-18</td>\n",
       "      <td>-2.530804</td>\n",
       "      <td>-1.848250</td>\n",
       "    </tr>\n",
       "    <tr>\n",
       "      <th>2510</th>\n",
       "      <td>2510</td>\n",
       "      <td>399673</td>\n",
       "      <td>2024-11-04</td>\n",
       "      <td>2024-10-18</td>\n",
       "      <td>0.438281</td>\n",
       "      <td>3.084020</td>\n",
       "    </tr>\n",
       "    <tr>\n",
       "      <th>2511</th>\n",
       "      <td>2511</td>\n",
       "      <td>399673</td>\n",
       "      <td>2024-11-05</td>\n",
       "      <td>2024-10-18</td>\n",
       "      <td>0.795283</td>\n",
       "      <td>5.035230</td>\n",
       "    </tr>\n",
       "    <tr>\n",
       "      <th>2512</th>\n",
       "      <td>2512</td>\n",
       "      <td>399673</td>\n",
       "      <td>2024-11-06</td>\n",
       "      <td>2024-10-18</td>\n",
       "      <td>-2.234816</td>\n",
       "      <td>-1.351180</td>\n",
       "    </tr>\n",
       "    <tr>\n",
       "      <th>2513</th>\n",
       "      <td>2513</td>\n",
       "      <td>399673</td>\n",
       "      <td>2024-11-07</td>\n",
       "      <td>2024-10-18</td>\n",
       "      <td>-1.637192</td>\n",
       "      <td>4.069850</td>\n",
       "    </tr>\n",
       "    <tr>\n",
       "      <th>2514</th>\n",
       "      <td>2514</td>\n",
       "      <td>399673</td>\n",
       "      <td>2024-11-08</td>\n",
       "      <td>2024-10-18</td>\n",
       "      <td>0.911811</td>\n",
       "      <td>-1.752850</td>\n",
       "    </tr>\n",
       "    <tr>\n",
       "      <th>2515</th>\n",
       "      <td>2515</td>\n",
       "      <td>399673</td>\n",
       "      <td>2024-11-11</td>\n",
       "      <td>2024-10-18</td>\n",
       "      <td>-0.738951</td>\n",
       "      <td>3.036280</td>\n",
       "    </tr>\n",
       "    <tr>\n",
       "      <th>2516</th>\n",
       "      <td>2516</td>\n",
       "      <td>399673</td>\n",
       "      <td>2024-11-12</td>\n",
       "      <td>2024-10-18</td>\n",
       "      <td>-0.043157</td>\n",
       "      <td>0.193970</td>\n",
       "    </tr>\n",
       "    <tr>\n",
       "      <th>2517</th>\n",
       "      <td>2517</td>\n",
       "      <td>399673</td>\n",
       "      <td>2024-11-13</td>\n",
       "      <td>2024-10-18</td>\n",
       "      <td>-0.991642</td>\n",
       "      <td>1.630560</td>\n",
       "    </tr>\n",
       "    <tr>\n",
       "      <th>2518</th>\n",
       "      <td>2518</td>\n",
       "      <td>399673</td>\n",
       "      <td>2024-11-14</td>\n",
       "      <td>2024-10-18</td>\n",
       "      <td>-0.022924</td>\n",
       "      <td>-3.365630</td>\n",
       "    </tr>\n",
       "    <tr>\n",
       "      <th>2519</th>\n",
       "      <td>2519</td>\n",
       "      <td>399673</td>\n",
       "      <td>2024-11-15</td>\n",
       "      <td>2024-10-18</td>\n",
       "      <td>-1.876543</td>\n",
       "      <td>-4.207200</td>\n",
       "    </tr>\n",
       "  </tbody>\n",
       "</table>\n",
       "</div>"
      ],
      "text/plain": [
       "      index unique_id         ds     cutoff  TSMixerx          y\n",
       "2420   2420    399673 2024-06-20 2024-06-19 -0.413537  -1.615420\n",
       "2421   2421    399673 2024-06-21 2024-06-19  0.021066  -0.576560\n",
       "2422   2422    399673 2024-06-24 2024-06-19 -0.773372  -1.024170\n",
       "2423   2423    399673 2024-06-25 2024-06-19 -0.838801  -2.019260\n",
       "2424   2424    399673 2024-06-26 2024-06-19 -0.206245   1.652850\n",
       "2425   2425    399673 2024-06-27 2024-06-19 -1.608055  -1.584520\n",
       "2426   2426    399673 2024-06-28 2024-06-19 -0.478143  -1.283380\n",
       "2427   2427    399673 2024-07-01 2024-06-19 -0.753708  -0.186170\n",
       "2428   2428    399673 2024-07-02 2024-06-19 -0.830485  -0.842100\n",
       "2429   2429    399673 2024-07-03 2024-06-19 -1.609837  -0.071240\n",
       "2430   2430    399673 2024-07-04 2024-06-19 -1.831382  -0.672880\n",
       "2431   2431    399673 2024-07-05 2024-06-19 -0.885022   0.295280\n",
       "2432   2432    399673 2024-07-08 2024-06-19 -1.551795  -1.640900\n",
       "2433   2433    399673 2024-07-09 2024-06-19 -0.810568   1.876330\n",
       "2434   2434    399673 2024-07-10 2024-06-19 -0.434058  -0.109000\n",
       "2435   2435    399673 2024-07-11 2024-06-19 -1.029244   2.089620\n",
       "2436   2436    399673 2024-07-12 2024-06-19 -0.914738  -0.098290\n",
       "2437   2437    399673 2024-07-15 2024-06-19 -0.553455  -0.804290\n",
       "2438   2438    399673 2024-07-16 2024-06-19 -0.655921   1.733210\n",
       "2439   2439    399673 2024-07-17 2024-06-19 -0.644559  -0.137710\n",
       "2440   2440    399673 2024-07-18 2024-07-17 -1.677816   1.419250\n",
       "2441   2441    399673 2024-07-19 2024-07-17 -1.886195   0.361580\n",
       "2442   2442    399673 2024-07-22 2024-07-17 -2.437803   0.004800\n",
       "2443   2443    399673 2024-07-23 2024-07-17 -0.788057  -2.929430\n",
       "2444   2444    399673 2024-07-24 2024-07-17 -1.467099  -1.150450\n",
       "2445   2445    399673 2024-07-25 2024-07-17 -0.923580  -0.456660\n",
       "2446   2446    399673 2024-07-26 2024-07-17 -0.292931   0.950780\n",
       "2447   2447    399673 2024-07-29 2024-07-17 -1.351784  -1.509410\n",
       "2448   2448    399673 2024-07-30 2024-07-17 -1.427916  -0.379350\n",
       "2449   2449    399673 2024-07-31 2024-07-17 -0.095359   3.384680\n",
       "2450   2450    399673 2024-08-01 2024-07-17  0.442896  -1.482490\n",
       "2451   2451    399673 2024-08-02 2024-07-17 -0.913974  -2.111950\n",
       "2452   2452    399673 2024-08-05 2024-07-17  0.300210  -1.980850\n",
       "2453   2453    399673 2024-08-06 2024-07-17 -0.820506   1.345950\n",
       "2454   2454    399673 2024-08-07 2024-07-17  0.777670  -0.439490\n",
       "2455   2455    399673 2024-08-08 2024-07-17 -1.134113  -0.720950\n",
       "2456   2456    399673 2024-08-09 2024-07-17 -1.374991  -0.932000\n",
       "2457   2457    399673 2024-08-12 2024-07-17 -1.944344  -0.250220\n",
       "2458   2458    399673 2024-08-13 2024-07-17 -0.712953   1.105550\n",
       "2459   2459    399673 2024-08-14 2024-07-17  0.240684  -1.351280\n",
       "2460   2460    399673 2024-08-15 2024-08-14 -1.274300   0.545680\n",
       "2461   2461    399673 2024-08-16 2024-08-14  0.854908   0.186790\n",
       "2462   2462    399673 2024-08-19 2024-08-14 -0.564207   0.082140\n",
       "2463   2463    399673 2024-08-20 2024-08-14 -1.656486  -1.186750\n",
       "2464   2464    399673 2024-08-21 2024-08-14  0.460301  -0.497010\n",
       "2465   2465    399673 2024-08-22 2024-08-14 -1.369989  -0.635300\n",
       "2466   2466    399673 2024-08-23 2024-08-14  2.016185   0.056670\n",
       "2467   2467    399673 2024-08-26 2024-08-14  5.509153  -0.117270\n",
       "2468   2468    399673 2024-08-27 2024-08-14 -3.463408  -0.875900\n",
       "2469   2469    399673 2024-08-28 2024-08-14 -2.770134  -0.064610\n",
       "2470   2470    399673 2024-08-29 2024-08-14 -0.306949   0.509110\n",
       "2471   2471    399673 2024-08-30 2024-08-14 -0.185327   2.854940\n",
       "2472   2472    399673 2024-09-02 2024-08-14 -0.329144  -2.910540\n",
       "2473   2473    399673 2024-09-03 2024-08-14 -2.210935   1.282180\n",
       "2474   2474    399673 2024-09-04 2024-08-14 -2.800308  -0.100690\n",
       "2475   2475    399673 2024-09-05 2024-08-14  1.126720   0.576250\n",
       "2476   2476    399673 2024-09-06 2024-08-14  2.554043  -1.632480\n",
       "2477   2477    399673 2024-09-09 2024-08-14 -1.375980   0.158180\n",
       "2478   2478    399673 2024-09-10 2024-08-14  0.370572  -0.018070\n",
       "2479   2479    399673 2024-09-11 2024-08-14 -2.797603   1.437710\n",
       "2480   2480    399673 2024-09-12 2024-09-11  0.165293  -0.154400\n",
       "2481   2481    399673 2024-09-13 2024-09-11 -0.308096  -0.937100\n",
       "2482   2482    399673 2024-09-18 2024-09-11 -4.423459   0.093400\n",
       "2483   2483    399673 2024-09-19 2024-09-11 -4.133748   0.722470\n",
       "2484   2484    399673 2024-09-20 2024-09-11 -4.956760  -0.585610\n",
       "2485   2485    399673 2024-09-23 2024-09-11 -1.858271  -0.222980\n",
       "2486   2486    399673 2024-09-24 2024-09-11  0.630582   5.951140\n",
       "2487   2487    399673 2024-09-25 2024-09-11 -3.345383   1.813950\n",
       "2488   2488    399673 2024-09-26 2024-09-11  0.587247   4.314620\n",
       "2489   2489    399673 2024-09-27 2024-09-11 -2.408117  10.675050\n",
       "2490   2490    399673 2024-09-30 2024-09-11  2.112158  15.554130\n",
       "2491   2491    399673 2024-10-08 2024-09-11  1.613505  18.558559\n",
       "2492   2492    399673 2024-10-09 2024-09-11 -3.896667 -10.315370\n",
       "2493   2493    399673 2024-10-10 2024-09-11  2.787804  -3.462800\n",
       "2494   2494    399673 2024-10-11 2024-09-11  6.106774  -5.034370\n",
       "2495   2495    399673 2024-10-14 2024-09-11 -1.267213   2.630180\n",
       "2496   2496    399673 2024-10-15 2024-09-11  1.765848  -3.330540\n",
       "2497   2497    399673 2024-10-16 2024-09-11 -0.796955  -2.453590\n",
       "2498   2498    399673 2024-10-17 2024-09-11 -2.066825  -0.208830\n",
       "2499   2499    399673 2024-10-18 2024-09-11 -2.808187   8.629220\n",
       "2500   2500    399673 2024-10-21 2024-10-18 -0.720152   0.439230\n",
       "2501   2501    399673 2024-10-22 2024-10-18  0.340601   0.333960\n",
       "2502   2502    399673 2024-10-23 2024-10-18 -3.775172  -0.837070\n",
       "2503   2503    399673 2024-10-24 2024-10-18 -1.998381  -1.354880\n",
       "2504   2504    399673 2024-10-25 2024-10-18 -0.629701   3.226580\n",
       "2505   2505    399673 2024-10-28 2024-10-18 -1.631305  -0.743010\n",
       "2506   2506    399673 2024-10-29 2024-10-18  0.425821  -2.312590\n",
       "2507   2507    399673 2024-10-30 2024-10-18 -1.218798  -1.269350\n",
       "2508   2508    399673 2024-10-31 2024-10-18 -1.553301   0.779400\n",
       "2509   2509    399673 2024-11-01 2024-10-18 -2.530804  -1.848250\n",
       "2510   2510    399673 2024-11-04 2024-10-18  0.438281   3.084020\n",
       "2511   2511    399673 2024-11-05 2024-10-18  0.795283   5.035230\n",
       "2512   2512    399673 2024-11-06 2024-10-18 -2.234816  -1.351180\n",
       "2513   2513    399673 2024-11-07 2024-10-18 -1.637192   4.069850\n",
       "2514   2514    399673 2024-11-08 2024-10-18  0.911811  -1.752850\n",
       "2515   2515    399673 2024-11-11 2024-10-18 -0.738951   3.036280\n",
       "2516   2516    399673 2024-11-12 2024-10-18 -0.043157   0.193970\n",
       "2517   2517    399673 2024-11-13 2024-10-18 -0.991642   1.630560\n",
       "2518   2518    399673 2024-11-14 2024-10-18 -0.022924  -3.365630\n",
       "2519   2519    399673 2024-11-15 2024-10-18 -1.876543  -4.207200"
      ]
     },
     "execution_count": 65,
     "metadata": {},
     "output_type": "execute_result"
    }
   ],
   "source": [
    "forecast.sort_values(by=\"ds\")[-100:]"
   ]
  },
  {
   "cell_type": "code",
   "execution_count": 54,
   "metadata": {},
   "outputs": [],
   "source": [
    "df_actual = forecast[['unique_id', 'ds', 'y']]"
   ]
  },
  {
   "cell_type": "code",
   "execution_count": 55,
   "metadata": {},
   "outputs": [],
   "source": [
    "df_merged = pd.merge(\n",
    "    df_actual,\n",
    "    forecast[\n",
    "        [\n",
    "            \"unique_id\",\n",
    "            \"ds\",\n",
    "            str(model),\n",
    "        ]\n",
    "    ],\n",
    "    on=[\"unique_id\", \"ds\"],\n",
    ")"
   ]
  },
  {
   "cell_type": "code",
   "execution_count": 56,
   "metadata": {},
   "outputs": [],
   "source": [
    "def huber_loss(y_true, y_pred, delta=1.0):\n",
    "    \"\"\"\n",
    "    Calculate the Huber loss between y_true and y_pred.\n",
    "\n",
    "    Parameters:\n",
    "    y_true : array_like\n",
    "        True values.\n",
    "    y_pred : array_like\n",
    "        Predicted values.\n",
    "    delta : float, optional\n",
    "        The threshold parameter that controls the point where the loss function changes from quadratic to linear.\n",
    "        Default is 1.0.\n",
    "\n",
    "    Returns:\n",
    "    float\n",
    "        The computed Huber loss.\n",
    "    \"\"\"\n",
    "    # Compute the residuals\n",
    "    r = y_true - y_pred\n",
    "\n",
    "    # Compute the absolute residuals\n",
    "    abs_r = np.abs(r)\n",
    "\n",
    "    # Use np.minimum to get the quadratic term where abs_r <= delta\n",
    "    quadratic_term = np.minimum(abs_r, delta)\n",
    "\n",
    "    # Compute the linear term (the difference between abs_r and the quadratic term)\n",
    "    linear_term = abs_r - quadratic_term\n",
    "\n",
    "    # Compute the Huber loss without any explicit conditionals or branches\n",
    "    loss = 0.5 * quadratic_term**2 + delta * linear_term\n",
    "\n",
    "    # Sum over all the elements to get the total loss\n",
    "    return np.mean(loss)"
   ]
  },
  {
   "cell_type": "code",
   "execution_count": 57,
   "metadata": {},
   "outputs": [
    {
     "data": {
      "text/plain": [
       "1.3116254"
      ]
     },
     "execution_count": 57,
     "metadata": {},
     "output_type": "execute_result"
    }
   ],
   "source": [
    "# from neuralforecast.losses.pytorch import HuberLoss\n",
    "# from torch.nn.functional import huber_loss\n",
    "\n",
    "huber_loss(df_merged[\"y\"], df_merged[str(model)])"
   ]
  },
  {
   "cell_type": "code",
   "execution_count": 58,
   "metadata": {},
   "outputs": [],
   "source": [
    "forecast.to_csv(\n",
    "    f\"tsmixerx_forecast.csv\", encoding=\"utf_8_sig\", index=False\n",
    ")"
   ]
  },
  {
   "cell_type": "code",
   "execution_count": 59,
   "metadata": {},
   "outputs": [
    {
     "name": "stdout",
     "output_type": "stream",
     "text": [
      "Mean Absolute Error (MAE): 1.74017\n"
     ]
    }
   ],
   "source": [
    "from sklearn.metrics import mean_absolute_error, mean_squared_error\n",
    "\n",
    "mae = mean_absolute_error(df_merged[\"y\"], df_merged[str(model)])\n",
    "print(\"Mean Absolute Error (MAE):\", mae)"
   ]
  },
  {
   "cell_type": "code",
   "execution_count": 60,
   "metadata": {},
   "outputs": [
    {
     "name": "stdout",
     "output_type": "stream",
     "text": [
      "Root Mean Squared Error (RMSE): 2.3987968\n"
     ]
    }
   ],
   "source": [
    "from sklearn.metrics import mean_squared_error\n",
    "import numpy as np\n",
    "\n",
    "rmse = np.sqrt(mean_squared_error(df_merged[\"y\"], df_merged[str(model)]))\n",
    "print(\"Root Mean Squared Error (RMSE):\", rmse)"
   ]
  },
  {
   "cell_type": "code",
   "execution_count": 123,
   "metadata": {},
   "outputs": [],
   "source": [
    "exog_s = [\n",
    "    # \"open\",\n",
    "    # \"close\",\n",
    "    # \"high\",\n",
    "    # \"low\",\n",
    "    # \"volume\",\n",
    "    # \"amount\",\n",
    "    # \"open_preclose_rate\",\n",
    "    # \"high_preclose_rate\",\n",
    "    # \"low_preclose_rate\",\n",
    "    # \"vol_change_rate\",\n",
    "    # \"amt_change_rate\",\n",
    "]"
   ]
  },
  {
   "cell_type": "code",
   "execution_count": 124,
   "metadata": {},
   "outputs": [
    {
     "name": "stderr",
     "output_type": "stream",
     "text": [
      "Seed set to 1\n"
     ]
    }
   ],
   "source": [
    "model = TSMixerx(\n",
    "    h=20,\n",
    "    input_size=48,\n",
    "    n_series=1,\n",
    "    # stat_exog_list=[\"airline1\"],\n",
    "    # futr_exog_list=exog,\n",
    "    hist_exog_list=exog_s,\n",
    "    n_block=4,\n",
    "    ff_dim=4,\n",
    "    revin=True,\n",
    "    # scaler_type=\"standard\",\n",
    "    max_steps=500,\n",
    "    early_stop_patience_steps=-1,\n",
    "    val_check_steps=5,\n",
    "    learning_rate=1e-3,\n",
    "    loss=HuberLoss(),\n",
    "    valid_loss=HuberLoss(),\n",
    "    batch_size=32,\n",
    ")"
   ]
  },
  {
   "cell_type": "code",
   "execution_count": 125,
   "metadata": {},
   "outputs": [
    {
     "name": "stderr",
     "output_type": "stream",
     "text": [
      "GPU available: True (cuda), used: True\n",
      "TPU available: False, using: 0 TPU cores\n",
      "HPU available: False, using: 0 HPUs\n",
      "LOCAL_RANK: 0 - CUDA_VISIBLE_DEVICES: [0]\n",
      "\n",
      "  | Name                | Type                     | Params | Mode \n",
      "-------------------------------------------------------------------------\n",
      "0 | loss                | HuberLoss                | 0      | train\n",
      "1 | valid_loss          | HuberLoss                | 0      | train\n",
      "2 | padder              | ConstantPad1d            | 0      | train\n",
      "3 | scaler              | TemporalNorm             | 0      | train\n",
      "4 | norm                | ReversibleInstanceNorm1d | 2      | train\n",
      "5 | temporal_projection | Linear                   | 980    | train\n",
      "6 | feature_mixer_hist  | FeatureMixing            | 196    | train\n",
      "7 | first_mixing        | MixingLayer              | 780    | train\n",
      "8 | mixing_block        | Sequential               | 3.1 K  | train\n",
      "9 | out                 | Linear                   | 5      | train\n",
      "-------------------------------------------------------------------------\n",
      "5.1 K     Trainable params\n",
      "0         Non-trainable params\n",
      "5.1 K     Total params\n",
      "0.020     Total estimated model params size (MB)\n",
      "70        Modules in train mode\n",
      "0         Modules in eval mode\n"
     ]
    },
    {
     "data": {
      "application/vnd.jupyter.widget-view+json": {
       "model_id": "c016ca7287994f8b9dbc117df77415ec",
       "version_major": 2,
       "version_minor": 0
      },
      "text/plain": [
       "Sanity Checking: |          | 0/? [00:00<?, ?it/s]"
      ]
     },
     "metadata": {},
     "output_type": "display_data"
    },
    {
     "data": {
      "application/vnd.jupyter.widget-view+json": {
       "model_id": "2444b3e816eb47d3908ab9f1774c0a66",
       "version_major": 2,
       "version_minor": 0
      },
      "text/plain": [
       "Training: |          | 0/? [00:00<?, ?it/s]"
      ]
     },
     "metadata": {},
     "output_type": "display_data"
    },
    {
     "data": {
      "application/vnd.jupyter.widget-view+json": {
       "model_id": "01e93db88df043488d2e05405013febb",
       "version_major": 2,
       "version_minor": 0
      },
      "text/plain": [
       "Validation: |          | 0/? [00:00<?, ?it/s]"
      ]
     },
     "metadata": {},
     "output_type": "display_data"
    },
    {
     "data": {
      "application/vnd.jupyter.widget-view+json": {
       "model_id": "017272e1f98f41318910843e1773338f",
       "version_major": 2,
       "version_minor": 0
      },
      "text/plain": [
       "Validation: |          | 0/? [00:00<?, ?it/s]"
      ]
     },
     "metadata": {},
     "output_type": "display_data"
    },
    {
     "data": {
      "application/vnd.jupyter.widget-view+json": {
       "model_id": "78178ebb3517468cad37aa86b1cf8974",
       "version_major": 2,
       "version_minor": 0
      },
      "text/plain": [
       "Validation: |          | 0/? [00:00<?, ?it/s]"
      ]
     },
     "metadata": {},
     "output_type": "display_data"
    },
    {
     "data": {
      "application/vnd.jupyter.widget-view+json": {
       "model_id": "9f3be34e98bc4d1e820041ea53d065ab",
       "version_major": 2,
       "version_minor": 0
      },
      "text/plain": [
       "Validation: |          | 0/? [00:00<?, ?it/s]"
      ]
     },
     "metadata": {},
     "output_type": "display_data"
    },
    {
     "data": {
      "application/vnd.jupyter.widget-view+json": {
       "model_id": "1b92fd7c8a3549f19b932f60b2525b32",
       "version_major": 2,
       "version_minor": 0
      },
      "text/plain": [
       "Validation: |          | 0/? [00:00<?, ?it/s]"
      ]
     },
     "metadata": {},
     "output_type": "display_data"
    },
    {
     "data": {
      "application/vnd.jupyter.widget-view+json": {
       "model_id": "82d4682e7b644d6eb5ff080d7330e71f",
       "version_major": 2,
       "version_minor": 0
      },
      "text/plain": [
       "Validation: |          | 0/? [00:00<?, ?it/s]"
      ]
     },
     "metadata": {},
     "output_type": "display_data"
    },
    {
     "data": {
      "application/vnd.jupyter.widget-view+json": {
       "model_id": "fc5cf33ead1d42ae8152430a2c502e1a",
       "version_major": 2,
       "version_minor": 0
      },
      "text/plain": [
       "Validation: |          | 0/? [00:00<?, ?it/s]"
      ]
     },
     "metadata": {},
     "output_type": "display_data"
    },
    {
     "data": {
      "application/vnd.jupyter.widget-view+json": {
       "model_id": "37ac34ef32ca4f6baf8a7c9272ed3e59",
       "version_major": 2,
       "version_minor": 0
      },
      "text/plain": [
       "Validation: |          | 0/? [00:00<?, ?it/s]"
      ]
     },
     "metadata": {},
     "output_type": "display_data"
    },
    {
     "data": {
      "application/vnd.jupyter.widget-view+json": {
       "model_id": "b245d6b40cec47d4892e1f4757a3036c",
       "version_major": 2,
       "version_minor": 0
      },
      "text/plain": [
       "Validation: |          | 0/? [00:00<?, ?it/s]"
      ]
     },
     "metadata": {},
     "output_type": "display_data"
    },
    {
     "data": {
      "application/vnd.jupyter.widget-view+json": {
       "model_id": "57f54d599c3948f49b54d3bc9deb3f26",
       "version_major": 2,
       "version_minor": 0
      },
      "text/plain": [
       "Validation: |          | 0/? [00:00<?, ?it/s]"
      ]
     },
     "metadata": {},
     "output_type": "display_data"
    },
    {
     "data": {
      "application/vnd.jupyter.widget-view+json": {
       "model_id": "84da04fcfb79410a89dad7a2bc161faf",
       "version_major": 2,
       "version_minor": 0
      },
      "text/plain": [
       "Validation: |          | 0/? [00:00<?, ?it/s]"
      ]
     },
     "metadata": {},
     "output_type": "display_data"
    },
    {
     "data": {
      "application/vnd.jupyter.widget-view+json": {
       "model_id": "89fb3ca292e9447a8c261435c147b1c4",
       "version_major": 2,
       "version_minor": 0
      },
      "text/plain": [
       "Validation: |          | 0/? [00:00<?, ?it/s]"
      ]
     },
     "metadata": {},
     "output_type": "display_data"
    },
    {
     "data": {
      "application/vnd.jupyter.widget-view+json": {
       "model_id": "3807f2d5614049c493495e898d0a18e6",
       "version_major": 2,
       "version_minor": 0
      },
      "text/plain": [
       "Validation: |          | 0/? [00:00<?, ?it/s]"
      ]
     },
     "metadata": {},
     "output_type": "display_data"
    },
    {
     "data": {
      "application/vnd.jupyter.widget-view+json": {
       "model_id": "d4632f638e6d4512ba081a28dde79afb",
       "version_major": 2,
       "version_minor": 0
      },
      "text/plain": [
       "Validation: |          | 0/? [00:00<?, ?it/s]"
      ]
     },
     "metadata": {},
     "output_type": "display_data"
    },
    {
     "data": {
      "application/vnd.jupyter.widget-view+json": {
       "model_id": "7988626830804c2f8b89eec04dd952ab",
       "version_major": 2,
       "version_minor": 0
      },
      "text/plain": [
       "Validation: |          | 0/? [00:00<?, ?it/s]"
      ]
     },
     "metadata": {},
     "output_type": "display_data"
    },
    {
     "data": {
      "application/vnd.jupyter.widget-view+json": {
       "model_id": "3ec83363f6584fc9991d592bf7e36563",
       "version_major": 2,
       "version_minor": 0
      },
      "text/plain": [
       "Validation: |          | 0/? [00:00<?, ?it/s]"
      ]
     },
     "metadata": {},
     "output_type": "display_data"
    },
    {
     "data": {
      "application/vnd.jupyter.widget-view+json": {
       "model_id": "9b173638c6164ba3b45deb477e8b116b",
       "version_major": 2,
       "version_minor": 0
      },
      "text/plain": [
       "Validation: |          | 0/? [00:00<?, ?it/s]"
      ]
     },
     "metadata": {},
     "output_type": "display_data"
    },
    {
     "data": {
      "application/vnd.jupyter.widget-view+json": {
       "model_id": "b8906b9f202642189eb2fa817616f086",
       "version_major": 2,
       "version_minor": 0
      },
      "text/plain": [
       "Validation: |          | 0/? [00:00<?, ?it/s]"
      ]
     },
     "metadata": {},
     "output_type": "display_data"
    },
    {
     "data": {
      "application/vnd.jupyter.widget-view+json": {
       "model_id": "ff2b89776ebb419ab5b25829c7f90e72",
       "version_major": 2,
       "version_minor": 0
      },
      "text/plain": [
       "Validation: |          | 0/? [00:00<?, ?it/s]"
      ]
     },
     "metadata": {},
     "output_type": "display_data"
    },
    {
     "data": {
      "application/vnd.jupyter.widget-view+json": {
       "model_id": "2fc46dd8bb8c4039994c5908c89cfa84",
       "version_major": 2,
       "version_minor": 0
      },
      "text/plain": [
       "Validation: |          | 0/? [00:00<?, ?it/s]"
      ]
     },
     "metadata": {},
     "output_type": "display_data"
    },
    {
     "data": {
      "application/vnd.jupyter.widget-view+json": {
       "model_id": "72fda07d94da4ebdb6459189b22b7365",
       "version_major": 2,
       "version_minor": 0
      },
      "text/plain": [
       "Validation: |          | 0/? [00:00<?, ?it/s]"
      ]
     },
     "metadata": {},
     "output_type": "display_data"
    },
    {
     "data": {
      "application/vnd.jupyter.widget-view+json": {
       "model_id": "9c44e6db792543f39099d2d112a4734d",
       "version_major": 2,
       "version_minor": 0
      },
      "text/plain": [
       "Validation: |          | 0/? [00:00<?, ?it/s]"
      ]
     },
     "metadata": {},
     "output_type": "display_data"
    },
    {
     "data": {
      "application/vnd.jupyter.widget-view+json": {
       "model_id": "ef687a6fab40406e955ee2745ef77c5b",
       "version_major": 2,
       "version_minor": 0
      },
      "text/plain": [
       "Validation: |          | 0/? [00:00<?, ?it/s]"
      ]
     },
     "metadata": {},
     "output_type": "display_data"
    },
    {
     "data": {
      "application/vnd.jupyter.widget-view+json": {
       "model_id": "42131a8251874cf6a8e6b71aa479585e",
       "version_major": 2,
       "version_minor": 0
      },
      "text/plain": [
       "Validation: |          | 0/? [00:00<?, ?it/s]"
      ]
     },
     "metadata": {},
     "output_type": "display_data"
    },
    {
     "data": {
      "application/vnd.jupyter.widget-view+json": {
       "model_id": "47e56e9bc0ac4b848b3ff1a51b632a47",
       "version_major": 2,
       "version_minor": 0
      },
      "text/plain": [
       "Validation: |          | 0/? [00:00<?, ?it/s]"
      ]
     },
     "metadata": {},
     "output_type": "display_data"
    },
    {
     "data": {
      "application/vnd.jupyter.widget-view+json": {
       "model_id": "af205794f3c74b17b99de851000e54b4",
       "version_major": 2,
       "version_minor": 0
      },
      "text/plain": [
       "Validation: |          | 0/? [00:00<?, ?it/s]"
      ]
     },
     "metadata": {},
     "output_type": "display_data"
    },
    {
     "data": {
      "application/vnd.jupyter.widget-view+json": {
       "model_id": "c75caf9832b0417db132a88d27a40f1a",
       "version_major": 2,
       "version_minor": 0
      },
      "text/plain": [
       "Validation: |          | 0/? [00:00<?, ?it/s]"
      ]
     },
     "metadata": {},
     "output_type": "display_data"
    },
    {
     "data": {
      "application/vnd.jupyter.widget-view+json": {
       "model_id": "f2630eddfe01495b88683b962f438aa8",
       "version_major": 2,
       "version_minor": 0
      },
      "text/plain": [
       "Validation: |          | 0/? [00:00<?, ?it/s]"
      ]
     },
     "metadata": {},
     "output_type": "display_data"
    },
    {
     "data": {
      "application/vnd.jupyter.widget-view+json": {
       "model_id": "20248469542c4d71becf0e48b52fd780",
       "version_major": 2,
       "version_minor": 0
      },
      "text/plain": [
       "Validation: |          | 0/? [00:00<?, ?it/s]"
      ]
     },
     "metadata": {},
     "output_type": "display_data"
    },
    {
     "data": {
      "application/vnd.jupyter.widget-view+json": {
       "model_id": "b8d15ae0a8c34784ab5b24ad4cef999b",
       "version_major": 2,
       "version_minor": 0
      },
      "text/plain": [
       "Validation: |          | 0/? [00:00<?, ?it/s]"
      ]
     },
     "metadata": {},
     "output_type": "display_data"
    },
    {
     "data": {
      "application/vnd.jupyter.widget-view+json": {
       "model_id": "4266c924ac3747b2b56f85c66e160bd2",
       "version_major": 2,
       "version_minor": 0
      },
      "text/plain": [
       "Validation: |          | 0/? [00:00<?, ?it/s]"
      ]
     },
     "metadata": {},
     "output_type": "display_data"
    },
    {
     "data": {
      "application/vnd.jupyter.widget-view+json": {
       "model_id": "3caed5b2fd7642afb164ec54f5227c62",
       "version_major": 2,
       "version_minor": 0
      },
      "text/plain": [
       "Validation: |          | 0/? [00:00<?, ?it/s]"
      ]
     },
     "metadata": {},
     "output_type": "display_data"
    },
    {
     "data": {
      "application/vnd.jupyter.widget-view+json": {
       "model_id": "dc64d3a8075745c28c67efdab709b642",
       "version_major": 2,
       "version_minor": 0
      },
      "text/plain": [
       "Validation: |          | 0/? [00:00<?, ?it/s]"
      ]
     },
     "metadata": {},
     "output_type": "display_data"
    },
    {
     "data": {
      "application/vnd.jupyter.widget-view+json": {
       "model_id": "73adbe367f38470b84ccd45064e409ca",
       "version_major": 2,
       "version_minor": 0
      },
      "text/plain": [
       "Validation: |          | 0/? [00:00<?, ?it/s]"
      ]
     },
     "metadata": {},
     "output_type": "display_data"
    },
    {
     "data": {
      "application/vnd.jupyter.widget-view+json": {
       "model_id": "917acbafa8fa4b81ac8aed1b335ca623",
       "version_major": 2,
       "version_minor": 0
      },
      "text/plain": [
       "Validation: |          | 0/? [00:00<?, ?it/s]"
      ]
     },
     "metadata": {},
     "output_type": "display_data"
    },
    {
     "data": {
      "application/vnd.jupyter.widget-view+json": {
       "model_id": "189216e73c914e1ab7b0ef7a2e8824a9",
       "version_major": 2,
       "version_minor": 0
      },
      "text/plain": [
       "Validation: |          | 0/? [00:00<?, ?it/s]"
      ]
     },
     "metadata": {},
     "output_type": "display_data"
    },
    {
     "data": {
      "application/vnd.jupyter.widget-view+json": {
       "model_id": "104ce17bd6fd4b5696d453fd878ab9d5",
       "version_major": 2,
       "version_minor": 0
      },
      "text/plain": [
       "Validation: |          | 0/? [00:00<?, ?it/s]"
      ]
     },
     "metadata": {},
     "output_type": "display_data"
    },
    {
     "data": {
      "application/vnd.jupyter.widget-view+json": {
       "model_id": "3cfb0fd641fc4c8a9fb0a744452f7ba0",
       "version_major": 2,
       "version_minor": 0
      },
      "text/plain": [
       "Validation: |          | 0/? [00:00<?, ?it/s]"
      ]
     },
     "metadata": {},
     "output_type": "display_data"
    },
    {
     "data": {
      "application/vnd.jupyter.widget-view+json": {
       "model_id": "2ca82e29ac2e403c8053e0a2fe75818d",
       "version_major": 2,
       "version_minor": 0
      },
      "text/plain": [
       "Validation: |          | 0/? [00:00<?, ?it/s]"
      ]
     },
     "metadata": {},
     "output_type": "display_data"
    },
    {
     "data": {
      "application/vnd.jupyter.widget-view+json": {
       "model_id": "2fd3af9d06274f4cb48af7ba5dca3f1d",
       "version_major": 2,
       "version_minor": 0
      },
      "text/plain": [
       "Validation: |          | 0/? [00:00<?, ?it/s]"
      ]
     },
     "metadata": {},
     "output_type": "display_data"
    },
    {
     "data": {
      "application/vnd.jupyter.widget-view+json": {
       "model_id": "9f841d2498f248e3871f72fcca3c3842",
       "version_major": 2,
       "version_minor": 0
      },
      "text/plain": [
       "Validation: |          | 0/? [00:00<?, ?it/s]"
      ]
     },
     "metadata": {},
     "output_type": "display_data"
    },
    {
     "data": {
      "application/vnd.jupyter.widget-view+json": {
       "model_id": "b1dc6405886747f0b93f8745655af405",
       "version_major": 2,
       "version_minor": 0
      },
      "text/plain": [
       "Validation: |          | 0/? [00:00<?, ?it/s]"
      ]
     },
     "metadata": {},
     "output_type": "display_data"
    },
    {
     "data": {
      "application/vnd.jupyter.widget-view+json": {
       "model_id": "cfe8c5293f594cada90a838c7f492efd",
       "version_major": 2,
       "version_minor": 0
      },
      "text/plain": [
       "Validation: |          | 0/? [00:00<?, ?it/s]"
      ]
     },
     "metadata": {},
     "output_type": "display_data"
    },
    {
     "data": {
      "application/vnd.jupyter.widget-view+json": {
       "model_id": "f64ec2e14568461cb3365be689ffc4ad",
       "version_major": 2,
       "version_minor": 0
      },
      "text/plain": [
       "Validation: |          | 0/? [00:00<?, ?it/s]"
      ]
     },
     "metadata": {},
     "output_type": "display_data"
    },
    {
     "data": {
      "application/vnd.jupyter.widget-view+json": {
       "model_id": "5e0b55461b314ca7bf8225e366d8c153",
       "version_major": 2,
       "version_minor": 0
      },
      "text/plain": [
       "Validation: |          | 0/? [00:00<?, ?it/s]"
      ]
     },
     "metadata": {},
     "output_type": "display_data"
    },
    {
     "data": {
      "application/vnd.jupyter.widget-view+json": {
       "model_id": "6b3b7a403e0e4bf49f3e8295d13b7514",
       "version_major": 2,
       "version_minor": 0
      },
      "text/plain": [
       "Validation: |          | 0/? [00:00<?, ?it/s]"
      ]
     },
     "metadata": {},
     "output_type": "display_data"
    },
    {
     "data": {
      "application/vnd.jupyter.widget-view+json": {
       "model_id": "d2b285225290458c96f3f77ab6aaa6d9",
       "version_major": 2,
       "version_minor": 0
      },
      "text/plain": [
       "Validation: |          | 0/? [00:00<?, ?it/s]"
      ]
     },
     "metadata": {},
     "output_type": "display_data"
    },
    {
     "data": {
      "application/vnd.jupyter.widget-view+json": {
       "model_id": "5e37e26881584896bb4e6e97bcd4be1e",
       "version_major": 2,
       "version_minor": 0
      },
      "text/plain": [
       "Validation: |          | 0/? [00:00<?, ?it/s]"
      ]
     },
     "metadata": {},
     "output_type": "display_data"
    },
    {
     "data": {
      "application/vnd.jupyter.widget-view+json": {
       "model_id": "3180a70c34e341c3bf8d7a40c4d45046",
       "version_major": 2,
       "version_minor": 0
      },
      "text/plain": [
       "Validation: |          | 0/? [00:00<?, ?it/s]"
      ]
     },
     "metadata": {},
     "output_type": "display_data"
    },
    {
     "data": {
      "application/vnd.jupyter.widget-view+json": {
       "model_id": "4822f0ac326c46cbb032a197066f5213",
       "version_major": 2,
       "version_minor": 0
      },
      "text/plain": [
       "Validation: |          | 0/? [00:00<?, ?it/s]"
      ]
     },
     "metadata": {},
     "output_type": "display_data"
    },
    {
     "data": {
      "application/vnd.jupyter.widget-view+json": {
       "model_id": "ebd2c6dd6144465ba15906be88f005aa",
       "version_major": 2,
       "version_minor": 0
      },
      "text/plain": [
       "Validation: |          | 0/? [00:00<?, ?it/s]"
      ]
     },
     "metadata": {},
     "output_type": "display_data"
    },
    {
     "data": {
      "application/vnd.jupyter.widget-view+json": {
       "model_id": "b4670a073bb4456abc67298f6e2124ae",
       "version_major": 2,
       "version_minor": 0
      },
      "text/plain": [
       "Validation: |          | 0/? [00:00<?, ?it/s]"
      ]
     },
     "metadata": {},
     "output_type": "display_data"
    },
    {
     "data": {
      "application/vnd.jupyter.widget-view+json": {
       "model_id": "7986b06c78074de58e732a483081aa3d",
       "version_major": 2,
       "version_minor": 0
      },
      "text/plain": [
       "Validation: |          | 0/? [00:00<?, ?it/s]"
      ]
     },
     "metadata": {},
     "output_type": "display_data"
    },
    {
     "data": {
      "application/vnd.jupyter.widget-view+json": {
       "model_id": "c938fe9686d543b38ed7e81f852d4eeb",
       "version_major": 2,
       "version_minor": 0
      },
      "text/plain": [
       "Validation: |          | 0/? [00:00<?, ?it/s]"
      ]
     },
     "metadata": {},
     "output_type": "display_data"
    },
    {
     "data": {
      "application/vnd.jupyter.widget-view+json": {
       "model_id": "6f28fa6559114d29a38fc678b648bae8",
       "version_major": 2,
       "version_minor": 0
      },
      "text/plain": [
       "Validation: |          | 0/? [00:00<?, ?it/s]"
      ]
     },
     "metadata": {},
     "output_type": "display_data"
    },
    {
     "data": {
      "application/vnd.jupyter.widget-view+json": {
       "model_id": "d0903169c5ed4de993f811b7e700bd4c",
       "version_major": 2,
       "version_minor": 0
      },
      "text/plain": [
       "Validation: |          | 0/? [00:00<?, ?it/s]"
      ]
     },
     "metadata": {},
     "output_type": "display_data"
    },
    {
     "data": {
      "application/vnd.jupyter.widget-view+json": {
       "model_id": "b8150264968b464f846ab4d6f1d79514",
       "version_major": 2,
       "version_minor": 0
      },
      "text/plain": [
       "Validation: |          | 0/? [00:00<?, ?it/s]"
      ]
     },
     "metadata": {},
     "output_type": "display_data"
    },
    {
     "data": {
      "application/vnd.jupyter.widget-view+json": {
       "model_id": "85c28da8d90542b9870e19d82004ecfa",
       "version_major": 2,
       "version_minor": 0
      },
      "text/plain": [
       "Validation: |          | 0/? [00:00<?, ?it/s]"
      ]
     },
     "metadata": {},
     "output_type": "display_data"
    },
    {
     "data": {
      "application/vnd.jupyter.widget-view+json": {
       "model_id": "8a694f183cf44891b923ba88e98b9663",
       "version_major": 2,
       "version_minor": 0
      },
      "text/plain": [
       "Validation: |          | 0/? [00:00<?, ?it/s]"
      ]
     },
     "metadata": {},
     "output_type": "display_data"
    },
    {
     "data": {
      "application/vnd.jupyter.widget-view+json": {
       "model_id": "a8dc72331ca640ce971c72c3f1859b46",
       "version_major": 2,
       "version_minor": 0
      },
      "text/plain": [
       "Validation: |          | 0/? [00:00<?, ?it/s]"
      ]
     },
     "metadata": {},
     "output_type": "display_data"
    },
    {
     "data": {
      "application/vnd.jupyter.widget-view+json": {
       "model_id": "c04b7c08767c483696572ef1d7958775",
       "version_major": 2,
       "version_minor": 0
      },
      "text/plain": [
       "Validation: |          | 0/? [00:00<?, ?it/s]"
      ]
     },
     "metadata": {},
     "output_type": "display_data"
    },
    {
     "data": {
      "application/vnd.jupyter.widget-view+json": {
       "model_id": "ac49ed65f3c14fbca13f0ebb02ef5139",
       "version_major": 2,
       "version_minor": 0
      },
      "text/plain": [
       "Validation: |          | 0/? [00:00<?, ?it/s]"
      ]
     },
     "metadata": {},
     "output_type": "display_data"
    },
    {
     "data": {
      "application/vnd.jupyter.widget-view+json": {
       "model_id": "00af3406b4a1478b988b4638b22a7bc7",
       "version_major": 2,
       "version_minor": 0
      },
      "text/plain": [
       "Validation: |          | 0/? [00:00<?, ?it/s]"
      ]
     },
     "metadata": {},
     "output_type": "display_data"
    },
    {
     "data": {
      "application/vnd.jupyter.widget-view+json": {
       "model_id": "a88ee071cb5a4db2883c98fdaba38fa7",
       "version_major": 2,
       "version_minor": 0
      },
      "text/plain": [
       "Validation: |          | 0/? [00:00<?, ?it/s]"
      ]
     },
     "metadata": {},
     "output_type": "display_data"
    },
    {
     "data": {
      "application/vnd.jupyter.widget-view+json": {
       "model_id": "0c2ed9e9d9cb48edb32ea744970f513d",
       "version_major": 2,
       "version_minor": 0
      },
      "text/plain": [
       "Validation: |          | 0/? [00:00<?, ?it/s]"
      ]
     },
     "metadata": {},
     "output_type": "display_data"
    },
    {
     "data": {
      "application/vnd.jupyter.widget-view+json": {
       "model_id": "0d7bc885f58c4088b56d9e5770a0db72",
       "version_major": 2,
       "version_minor": 0
      },
      "text/plain": [
       "Validation: |          | 0/? [00:00<?, ?it/s]"
      ]
     },
     "metadata": {},
     "output_type": "display_data"
    },
    {
     "data": {
      "application/vnd.jupyter.widget-view+json": {
       "model_id": "b653462a89b547e895acce361df2b906",
       "version_major": 2,
       "version_minor": 0
      },
      "text/plain": [
       "Validation: |          | 0/? [00:00<?, ?it/s]"
      ]
     },
     "metadata": {},
     "output_type": "display_data"
    },
    {
     "data": {
      "application/vnd.jupyter.widget-view+json": {
       "model_id": "b56e70ee770e41eab268f8d388b16afc",
       "version_major": 2,
       "version_minor": 0
      },
      "text/plain": [
       "Validation: |          | 0/? [00:00<?, ?it/s]"
      ]
     },
     "metadata": {},
     "output_type": "display_data"
    },
    {
     "data": {
      "application/vnd.jupyter.widget-view+json": {
       "model_id": "00103bea987446f1af0a0d8c6f944deb",
       "version_major": 2,
       "version_minor": 0
      },
      "text/plain": [
       "Validation: |          | 0/? [00:00<?, ?it/s]"
      ]
     },
     "metadata": {},
     "output_type": "display_data"
    },
    {
     "data": {
      "application/vnd.jupyter.widget-view+json": {
       "model_id": "1b630897f872479a997a9472caad2097",
       "version_major": 2,
       "version_minor": 0
      },
      "text/plain": [
       "Validation: |          | 0/? [00:00<?, ?it/s]"
      ]
     },
     "metadata": {},
     "output_type": "display_data"
    },
    {
     "data": {
      "application/vnd.jupyter.widget-view+json": {
       "model_id": "466bb565e919412397148fadf2749e8a",
       "version_major": 2,
       "version_minor": 0
      },
      "text/plain": [
       "Validation: |          | 0/? [00:00<?, ?it/s]"
      ]
     },
     "metadata": {},
     "output_type": "display_data"
    },
    {
     "data": {
      "application/vnd.jupyter.widget-view+json": {
       "model_id": "e280f67d2d9246e69e8be7479dd34bef",
       "version_major": 2,
       "version_minor": 0
      },
      "text/plain": [
       "Validation: |          | 0/? [00:00<?, ?it/s]"
      ]
     },
     "metadata": {},
     "output_type": "display_data"
    },
    {
     "data": {
      "application/vnd.jupyter.widget-view+json": {
       "model_id": "f26eff79e87d4051b8e13ec97c7e34d0",
       "version_major": 2,
       "version_minor": 0
      },
      "text/plain": [
       "Validation: |          | 0/? [00:00<?, ?it/s]"
      ]
     },
     "metadata": {},
     "output_type": "display_data"
    },
    {
     "data": {
      "application/vnd.jupyter.widget-view+json": {
       "model_id": "fed511ceba4741c084c0ab7c09b3a562",
       "version_major": 2,
       "version_minor": 0
      },
      "text/plain": [
       "Validation: |          | 0/? [00:00<?, ?it/s]"
      ]
     },
     "metadata": {},
     "output_type": "display_data"
    },
    {
     "data": {
      "application/vnd.jupyter.widget-view+json": {
       "model_id": "41c59e9202004b229dea337b8c12d8af",
       "version_major": 2,
       "version_minor": 0
      },
      "text/plain": [
       "Validation: |          | 0/? [00:00<?, ?it/s]"
      ]
     },
     "metadata": {},
     "output_type": "display_data"
    },
    {
     "data": {
      "application/vnd.jupyter.widget-view+json": {
       "model_id": "bb5eac04949d4290b9f6013e4a2d608b",
       "version_major": 2,
       "version_minor": 0
      },
      "text/plain": [
       "Validation: |          | 0/? [00:00<?, ?it/s]"
      ]
     },
     "metadata": {},
     "output_type": "display_data"
    },
    {
     "data": {
      "application/vnd.jupyter.widget-view+json": {
       "model_id": "b5304ffb26d44ffea8987f8b536c3017",
       "version_major": 2,
       "version_minor": 0
      },
      "text/plain": [
       "Validation: |          | 0/? [00:00<?, ?it/s]"
      ]
     },
     "metadata": {},
     "output_type": "display_data"
    },
    {
     "data": {
      "application/vnd.jupyter.widget-view+json": {
       "model_id": "8082f155b084448191969e8b97869d74",
       "version_major": 2,
       "version_minor": 0
      },
      "text/plain": [
       "Validation: |          | 0/? [00:00<?, ?it/s]"
      ]
     },
     "metadata": {},
     "output_type": "display_data"
    },
    {
     "data": {
      "application/vnd.jupyter.widget-view+json": {
       "model_id": "7f838fc6d183406aab8cbdd6f74ae510",
       "version_major": 2,
       "version_minor": 0
      },
      "text/plain": [
       "Validation: |          | 0/? [00:00<?, ?it/s]"
      ]
     },
     "metadata": {},
     "output_type": "display_data"
    },
    {
     "data": {
      "application/vnd.jupyter.widget-view+json": {
       "model_id": "a4bf60da4def474ca698865b85b3cdde",
       "version_major": 2,
       "version_minor": 0
      },
      "text/plain": [
       "Validation: |          | 0/? [00:00<?, ?it/s]"
      ]
     },
     "metadata": {},
     "output_type": "display_data"
    },
    {
     "data": {
      "application/vnd.jupyter.widget-view+json": {
       "model_id": "6dba34e7bf1f4737a0ada637285db01f",
       "version_major": 2,
       "version_minor": 0
      },
      "text/plain": [
       "Validation: |          | 0/? [00:00<?, ?it/s]"
      ]
     },
     "metadata": {},
     "output_type": "display_data"
    },
    {
     "data": {
      "application/vnd.jupyter.widget-view+json": {
       "model_id": "9e0f32b138ff4efab550f8a648f3bfa3",
       "version_major": 2,
       "version_minor": 0
      },
      "text/plain": [
       "Validation: |          | 0/? [00:00<?, ?it/s]"
      ]
     },
     "metadata": {},
     "output_type": "display_data"
    },
    {
     "data": {
      "application/vnd.jupyter.widget-view+json": {
       "model_id": "abc7e3b4b389455aa22684f333e40a92",
       "version_major": 2,
       "version_minor": 0
      },
      "text/plain": [
       "Validation: |          | 0/? [00:00<?, ?it/s]"
      ]
     },
     "metadata": {},
     "output_type": "display_data"
    },
    {
     "data": {
      "application/vnd.jupyter.widget-view+json": {
       "model_id": "3839f8329d124885a1042320a61bfb34",
       "version_major": 2,
       "version_minor": 0
      },
      "text/plain": [
       "Validation: |          | 0/? [00:00<?, ?it/s]"
      ]
     },
     "metadata": {},
     "output_type": "display_data"
    },
    {
     "data": {
      "application/vnd.jupyter.widget-view+json": {
       "model_id": "60af6bcf7e3c4bc587aa9cc9c4ea5db7",
       "version_major": 2,
       "version_minor": 0
      },
      "text/plain": [
       "Validation: |          | 0/? [00:00<?, ?it/s]"
      ]
     },
     "metadata": {},
     "output_type": "display_data"
    },
    {
     "data": {
      "application/vnd.jupyter.widget-view+json": {
       "model_id": "8961c236c0a449cfb6a509af47966fd2",
       "version_major": 2,
       "version_minor": 0
      },
      "text/plain": [
       "Validation: |          | 0/? [00:00<?, ?it/s]"
      ]
     },
     "metadata": {},
     "output_type": "display_data"
    },
    {
     "data": {
      "application/vnd.jupyter.widget-view+json": {
       "model_id": "ee798fe6825847abaf06d30af432d8f0",
       "version_major": 2,
       "version_minor": 0
      },
      "text/plain": [
       "Validation: |          | 0/? [00:00<?, ?it/s]"
      ]
     },
     "metadata": {},
     "output_type": "display_data"
    },
    {
     "data": {
      "application/vnd.jupyter.widget-view+json": {
       "model_id": "24bbead4d4f3421a9ef5f96dc38678f9",
       "version_major": 2,
       "version_minor": 0
      },
      "text/plain": [
       "Validation: |          | 0/? [00:00<?, ?it/s]"
      ]
     },
     "metadata": {},
     "output_type": "display_data"
    },
    {
     "data": {
      "application/vnd.jupyter.widget-view+json": {
       "model_id": "ffff392b2c9e460ea55ab1e756c2f508",
       "version_major": 2,
       "version_minor": 0
      },
      "text/plain": [
       "Validation: |          | 0/? [00:00<?, ?it/s]"
      ]
     },
     "metadata": {},
     "output_type": "display_data"
    },
    {
     "data": {
      "application/vnd.jupyter.widget-view+json": {
       "model_id": "e4d68b404d12404db3107dd0d53d139d",
       "version_major": 2,
       "version_minor": 0
      },
      "text/plain": [
       "Validation: |          | 0/? [00:00<?, ?it/s]"
      ]
     },
     "metadata": {},
     "output_type": "display_data"
    },
    {
     "data": {
      "application/vnd.jupyter.widget-view+json": {
       "model_id": "99cddb2350c741b5a9b00f7768abcc18",
       "version_major": 2,
       "version_minor": 0
      },
      "text/plain": [
       "Validation: |          | 0/? [00:00<?, ?it/s]"
      ]
     },
     "metadata": {},
     "output_type": "display_data"
    },
    {
     "data": {
      "application/vnd.jupyter.widget-view+json": {
       "model_id": "20653c64d2e2495f9320675eacfacddb",
       "version_major": 2,
       "version_minor": 0
      },
      "text/plain": [
       "Validation: |          | 0/? [00:00<?, ?it/s]"
      ]
     },
     "metadata": {},
     "output_type": "display_data"
    },
    {
     "data": {
      "application/vnd.jupyter.widget-view+json": {
       "model_id": "1714474e877c4257bf4962168d7856a4",
       "version_major": 2,
       "version_minor": 0
      },
      "text/plain": [
       "Validation: |          | 0/? [00:00<?, ?it/s]"
      ]
     },
     "metadata": {},
     "output_type": "display_data"
    },
    {
     "data": {
      "application/vnd.jupyter.widget-view+json": {
       "model_id": "acc253c4b552466585d80728030f8c4a",
       "version_major": 2,
       "version_minor": 0
      },
      "text/plain": [
       "Validation: |          | 0/? [00:00<?, ?it/s]"
      ]
     },
     "metadata": {},
     "output_type": "display_data"
    },
    {
     "data": {
      "application/vnd.jupyter.widget-view+json": {
       "model_id": "ebf451eaf540407285438c0b714602de",
       "version_major": 2,
       "version_minor": 0
      },
      "text/plain": [
       "Validation: |          | 0/? [00:00<?, ?it/s]"
      ]
     },
     "metadata": {},
     "output_type": "display_data"
    },
    {
     "data": {
      "application/vnd.jupyter.widget-view+json": {
       "model_id": "cb83dd7dded84de5ab5eb2c3fef182c8",
       "version_major": 2,
       "version_minor": 0
      },
      "text/plain": [
       "Validation: |          | 0/? [00:00<?, ?it/s]"
      ]
     },
     "metadata": {},
     "output_type": "display_data"
    },
    {
     "data": {
      "application/vnd.jupyter.widget-view+json": {
       "model_id": "b1a708b0f39948e891e132d19b9e5198",
       "version_major": 2,
       "version_minor": 0
      },
      "text/plain": [
       "Validation: |          | 0/? [00:00<?, ?it/s]"
      ]
     },
     "metadata": {},
     "output_type": "display_data"
    },
    {
     "data": {
      "application/vnd.jupyter.widget-view+json": {
       "model_id": "818dc7340524471cb06cde6201429bea",
       "version_major": 2,
       "version_minor": 0
      },
      "text/plain": [
       "Validation: |          | 0/? [00:00<?, ?it/s]"
      ]
     },
     "metadata": {},
     "output_type": "display_data"
    },
    {
     "data": {
      "application/vnd.jupyter.widget-view+json": {
       "model_id": "1c7569c3879e449080723ca4c6f7933f",
       "version_major": 2,
       "version_minor": 0
      },
      "text/plain": [
       "Validation: |          | 0/? [00:00<?, ?it/s]"
      ]
     },
     "metadata": {},
     "output_type": "display_data"
    },
    {
     "data": {
      "application/vnd.jupyter.widget-view+json": {
       "model_id": "38c684a9d42742c8a3af53d6734737f5",
       "version_major": 2,
       "version_minor": 0
      },
      "text/plain": [
       "Validation: |          | 0/? [00:00<?, ?it/s]"
      ]
     },
     "metadata": {},
     "output_type": "display_data"
    },
    {
     "name": "stderr",
     "output_type": "stream",
     "text": [
      "`Trainer.fit` stopped: `max_steps=500` reached.\n",
      "GPU available: True (cuda), used: True\n",
      "TPU available: False, using: 0 TPU cores\n",
      "HPU available: False, using: 0 HPUs\n",
      "LOCAL_RANK: 0 - CUDA_VISIBLE_DEVICES: [0]\n"
     ]
    },
    {
     "name": "stdout",
     "output_type": "stream",
     "text": [
      "train_loss: 0.27970\n",
      "valid_loss: 0.24813\n"
     ]
    },
    {
     "data": {
      "application/vnd.jupyter.widget-view+json": {
       "model_id": "31b685e261e44278a9f18eaed138a488",
       "version_major": 2,
       "version_minor": 0
      },
      "text/plain": [
       "Predicting: |          | 0/? [00:00<?, ?it/s]"
      ]
     },
     "metadata": {},
     "output_type": "display_data"
    },
    {
     "name": "stderr",
     "output_type": "stream",
     "text": [
      "/home/kemove/git/neuralforecast/neuralforecast/core.py:210: FutureWarning: In a future version the predictions will have the id as a column. You can set the `NIXTLA_ID_AS_COL` environment variable to adopt the new behavior and to suppress this warning.\n",
      "  warnings.warn(\n"
     ]
    },
    {
     "name": "stdout",
     "output_type": "stream",
     "text": [
      "training MAE:\n"
     ]
    },
    {
     "data": {
      "text/html": [
       "<div>\n",
       "<style scoped>\n",
       "    .dataframe tbody tr th:only-of-type {\n",
       "        vertical-align: middle;\n",
       "    }\n",
       "\n",
       "    .dataframe tbody tr th {\n",
       "        vertical-align: top;\n",
       "    }\n",
       "\n",
       "    .dataframe thead th {\n",
       "        text-align: right;\n",
       "    }\n",
       "</style>\n",
       "<table border=\"1\" class=\"dataframe\">\n",
       "  <thead>\n",
       "    <tr style=\"text-align: right;\">\n",
       "      <th></th>\n",
       "      <th>TSMixerx</th>\n",
       "      <th>best_model</th>\n",
       "    </tr>\n",
       "    <tr>\n",
       "      <th>unique_id</th>\n",
       "      <th></th>\n",
       "      <th></th>\n",
       "    </tr>\n",
       "  </thead>\n",
       "  <tbody>\n",
       "    <tr>\n",
       "      <th>399673</th>\n",
       "      <td>1.470753</td>\n",
       "      <td>TSMixerx</td>\n",
       "    </tr>\n",
       "  </tbody>\n",
       "</table>\n",
       "</div>"
      ],
      "text/plain": [
       "           TSMixerx best_model\n",
       "unique_id                     \n",
       "399673     1.470753   TSMixerx"
      ]
     },
     "metadata": {},
     "output_type": "display_data"
    },
    {
     "name": "stdout",
     "output_type": "stream",
     "text": [
      "validation MAE:\n"
     ]
    },
    {
     "data": {
      "text/html": [
       "<div>\n",
       "<style scoped>\n",
       "    .dataframe tbody tr th:only-of-type {\n",
       "        vertical-align: middle;\n",
       "    }\n",
       "\n",
       "    .dataframe tbody tr th {\n",
       "        vertical-align: top;\n",
       "    }\n",
       "\n",
       "    .dataframe thead th {\n",
       "        text-align: right;\n",
       "    }\n",
       "</style>\n",
       "<table border=\"1\" class=\"dataframe\">\n",
       "  <thead>\n",
       "    <tr style=\"text-align: right;\">\n",
       "      <th></th>\n",
       "      <th>TSMixerx</th>\n",
       "      <th>best_model</th>\n",
       "    </tr>\n",
       "    <tr>\n",
       "      <th>unique_id</th>\n",
       "      <th></th>\n",
       "      <th></th>\n",
       "    </tr>\n",
       "  </thead>\n",
       "  <tbody>\n",
       "    <tr>\n",
       "      <th>399673</th>\n",
       "      <td>0.836183</td>\n",
       "      <td>TSMixerx</td>\n",
       "    </tr>\n",
       "  </tbody>\n",
       "</table>\n",
       "</div>"
      ],
      "text/plain": [
       "           TSMixerx best_model\n",
       "unique_id                     \n",
       "399673     0.836183   TSMixerx"
      ]
     },
     "metadata": {},
     "output_type": "display_data"
    }
   ],
   "source": [
    "train_and_evaluate(model, df_train)"
   ]
  },
  {
   "cell_type": "markdown",
   "metadata": {},
   "source": [
    "## BiTCN (0.83)"
   ]
  },
  {
   "cell_type": "code",
   "execution_count": 89,
   "metadata": {},
   "outputs": [
    {
     "name": "stderr",
     "output_type": "stream",
     "text": [
      "Seed set to 1\n"
     ]
    }
   ],
   "source": [
    "model = BiTCN(\n",
    "    h=20,\n",
    "    input_size=48,\n",
    "    # n_series=1,\n",
    "    # stat_exog_list=[\"airline1\"],\n",
    "    # futr_exog_list=exog,\n",
    "    hist_exog_list=exog,\n",
    "    max_steps=500,\n",
    "    val_check_steps=5,\n",
    "    # learning_rate=1e-3,\n",
    "    loss=MAE(),\n",
    "    valid_loss=MAE(),\n",
    "    batch_size=32,\n",
    ")"
   ]
  },
  {
   "cell_type": "code",
   "execution_count": 90,
   "metadata": {},
   "outputs": [
    {
     "name": "stderr",
     "output_type": "stream",
     "text": [
      "GPU available: True (cuda), used: True\n",
      "TPU available: False, using: 0 TPU cores\n",
      "HPU available: False, using: 0 HPUs\n",
      "LOCAL_RANK: 0 - CUDA_VISIBLE_DEVICES: [0]\n"
     ]
    },
    {
     "name": "stderr",
     "output_type": "stream",
     "text": [
      "\n",
      "   | Name          | Type          | Params | Mode \n",
      "---------------------------------------------------------\n",
      "0  | loss          | MAE           | 0      | train\n",
      "1  | valid_loss    | MAE           | 0      | train\n",
      "2  | padder_train  | ConstantPad1d | 0      | train\n",
      "3  | scaler        | TemporalNorm  | 0      | train\n",
      "4  | lin_hist      | Linear        | 208    | train\n",
      "5  | drop_hist     | Dropout       | 0      | train\n",
      "6  | net_bwd       | Sequential    | 6.4 K  | train\n",
      "7  | drop_temporal | Dropout       | 0      | train\n",
      "8  | temporal_lin1 | Linear        | 784    | train\n",
      "9  | temporal_lin2 | Linear        | 340    | train\n",
      "10 | output_lin    | Linear        | 17     | train\n",
      "---------------------------------------------------------\n",
      "7.8 K     Trainable params\n",
      "0         Non-trainable params\n",
      "7.8 K     Total params\n",
      "0.031     Total estimated model params size (MB)\n",
      "35        Modules in train mode\n",
      "0         Modules in eval mode\n"
     ]
    },
    {
     "data": {
      "application/vnd.jupyter.widget-view+json": {
       "model_id": "fad20e9fe8da4e90b9e914e16adfba9a",
       "version_major": 2,
       "version_minor": 0
      },
      "text/plain": [
       "Sanity Checking: |          | 0/? [00:00<?, ?it/s]"
      ]
     },
     "metadata": {},
     "output_type": "display_data"
    },
    {
     "data": {
      "application/vnd.jupyter.widget-view+json": {
       "model_id": "857ed551e66249c5b9b1e66ddd6917db",
       "version_major": 2,
       "version_minor": 0
      },
      "text/plain": [
       "Training: |          | 0/? [00:00<?, ?it/s]"
      ]
     },
     "metadata": {},
     "output_type": "display_data"
    },
    {
     "data": {
      "application/vnd.jupyter.widget-view+json": {
       "model_id": "0d899daf1af043d3b36465182a4232a5",
       "version_major": 2,
       "version_minor": 0
      },
      "text/plain": [
       "Validation: |          | 0/? [00:00<?, ?it/s]"
      ]
     },
     "metadata": {},
     "output_type": "display_data"
    },
    {
     "data": {
      "application/vnd.jupyter.widget-view+json": {
       "model_id": "bdb41f3ecc694440961c34b8082f7cee",
       "version_major": 2,
       "version_minor": 0
      },
      "text/plain": [
       "Validation: |          | 0/? [00:00<?, ?it/s]"
      ]
     },
     "metadata": {},
     "output_type": "display_data"
    },
    {
     "data": {
      "application/vnd.jupyter.widget-view+json": {
       "model_id": "99635c70832f4340ba200a7ac8a73a79",
       "version_major": 2,
       "version_minor": 0
      },
      "text/plain": [
       "Validation: |          | 0/? [00:00<?, ?it/s]"
      ]
     },
     "metadata": {},
     "output_type": "display_data"
    },
    {
     "data": {
      "application/vnd.jupyter.widget-view+json": {
       "model_id": "ffc030645b444b179bfcfc21af8ad48b",
       "version_major": 2,
       "version_minor": 0
      },
      "text/plain": [
       "Validation: |          | 0/? [00:00<?, ?it/s]"
      ]
     },
     "metadata": {},
     "output_type": "display_data"
    },
    {
     "data": {
      "application/vnd.jupyter.widget-view+json": {
       "model_id": "55369c4285be40bbb2f38cec16c55f5c",
       "version_major": 2,
       "version_minor": 0
      },
      "text/plain": [
       "Validation: |          | 0/? [00:00<?, ?it/s]"
      ]
     },
     "metadata": {},
     "output_type": "display_data"
    },
    {
     "data": {
      "application/vnd.jupyter.widget-view+json": {
       "model_id": "c74a75b5c84449868eee0617072d44ef",
       "version_major": 2,
       "version_minor": 0
      },
      "text/plain": [
       "Validation: |          | 0/? [00:00<?, ?it/s]"
      ]
     },
     "metadata": {},
     "output_type": "display_data"
    },
    {
     "data": {
      "application/vnd.jupyter.widget-view+json": {
       "model_id": "4569ab307967459d806637a1d4844f55",
       "version_major": 2,
       "version_minor": 0
      },
      "text/plain": [
       "Validation: |          | 0/? [00:00<?, ?it/s]"
      ]
     },
     "metadata": {},
     "output_type": "display_data"
    },
    {
     "data": {
      "application/vnd.jupyter.widget-view+json": {
       "model_id": "3232781233224657b6cafd0088360e85",
       "version_major": 2,
       "version_minor": 0
      },
      "text/plain": [
       "Validation: |          | 0/? [00:00<?, ?it/s]"
      ]
     },
     "metadata": {},
     "output_type": "display_data"
    },
    {
     "data": {
      "application/vnd.jupyter.widget-view+json": {
       "model_id": "bf0549bfa24f4fe09c2cdce251f2bc63",
       "version_major": 2,
       "version_minor": 0
      },
      "text/plain": [
       "Validation: |          | 0/? [00:00<?, ?it/s]"
      ]
     },
     "metadata": {},
     "output_type": "display_data"
    },
    {
     "data": {
      "application/vnd.jupyter.widget-view+json": {
       "model_id": "c63fca6c6e0040d891f5504cd38f3e0e",
       "version_major": 2,
       "version_minor": 0
      },
      "text/plain": [
       "Validation: |          | 0/? [00:00<?, ?it/s]"
      ]
     },
     "metadata": {},
     "output_type": "display_data"
    },
    {
     "data": {
      "application/vnd.jupyter.widget-view+json": {
       "model_id": "b404959ce1834adcb493fc1e68470117",
       "version_major": 2,
       "version_minor": 0
      },
      "text/plain": [
       "Validation: |          | 0/? [00:00<?, ?it/s]"
      ]
     },
     "metadata": {},
     "output_type": "display_data"
    },
    {
     "data": {
      "application/vnd.jupyter.widget-view+json": {
       "model_id": "99393fe295104365a5f961a88722c1a2",
       "version_major": 2,
       "version_minor": 0
      },
      "text/plain": [
       "Validation: |          | 0/? [00:00<?, ?it/s]"
      ]
     },
     "metadata": {},
     "output_type": "display_data"
    },
    {
     "data": {
      "application/vnd.jupyter.widget-view+json": {
       "model_id": "6f5c2cce906b45de87bf14662e4d23d6",
       "version_major": 2,
       "version_minor": 0
      },
      "text/plain": [
       "Validation: |          | 0/? [00:00<?, ?it/s]"
      ]
     },
     "metadata": {},
     "output_type": "display_data"
    },
    {
     "data": {
      "application/vnd.jupyter.widget-view+json": {
       "model_id": "70a7118ed4ed44d990a5b05fb9a5a0cd",
       "version_major": 2,
       "version_minor": 0
      },
      "text/plain": [
       "Validation: |          | 0/? [00:00<?, ?it/s]"
      ]
     },
     "metadata": {},
     "output_type": "display_data"
    },
    {
     "data": {
      "application/vnd.jupyter.widget-view+json": {
       "model_id": "5dc7969add484129bc5b0d1622c794a9",
       "version_major": 2,
       "version_minor": 0
      },
      "text/plain": [
       "Validation: |          | 0/? [00:00<?, ?it/s]"
      ]
     },
     "metadata": {},
     "output_type": "display_data"
    },
    {
     "data": {
      "application/vnd.jupyter.widget-view+json": {
       "model_id": "ad854911f8cf46109d2d3d94ec4b4d09",
       "version_major": 2,
       "version_minor": 0
      },
      "text/plain": [
       "Validation: |          | 0/? [00:00<?, ?it/s]"
      ]
     },
     "metadata": {},
     "output_type": "display_data"
    },
    {
     "data": {
      "application/vnd.jupyter.widget-view+json": {
       "model_id": "2444e545b4d9477b9dd59c81c08fc915",
       "version_major": 2,
       "version_minor": 0
      },
      "text/plain": [
       "Validation: |          | 0/? [00:00<?, ?it/s]"
      ]
     },
     "metadata": {},
     "output_type": "display_data"
    },
    {
     "data": {
      "application/vnd.jupyter.widget-view+json": {
       "model_id": "9de5c3288b1d45a5bde6bb017ba5752a",
       "version_major": 2,
       "version_minor": 0
      },
      "text/plain": [
       "Validation: |          | 0/? [00:00<?, ?it/s]"
      ]
     },
     "metadata": {},
     "output_type": "display_data"
    },
    {
     "data": {
      "application/vnd.jupyter.widget-view+json": {
       "model_id": "71d24b21a69c467db29634186adf93f8",
       "version_major": 2,
       "version_minor": 0
      },
      "text/plain": [
       "Validation: |          | 0/? [00:00<?, ?it/s]"
      ]
     },
     "metadata": {},
     "output_type": "display_data"
    },
    {
     "data": {
      "application/vnd.jupyter.widget-view+json": {
       "model_id": "cbfd2a4c22fe4b569f909adb5aa7a716",
       "version_major": 2,
       "version_minor": 0
      },
      "text/plain": [
       "Validation: |          | 0/? [00:00<?, ?it/s]"
      ]
     },
     "metadata": {},
     "output_type": "display_data"
    },
    {
     "data": {
      "application/vnd.jupyter.widget-view+json": {
       "model_id": "3d50f322bf1c45d7a314551cc8baa242",
       "version_major": 2,
       "version_minor": 0
      },
      "text/plain": [
       "Validation: |          | 0/? [00:00<?, ?it/s]"
      ]
     },
     "metadata": {},
     "output_type": "display_data"
    },
    {
     "data": {
      "application/vnd.jupyter.widget-view+json": {
       "model_id": "9e714cf8188a4280bcbdf2dfec327f1a",
       "version_major": 2,
       "version_minor": 0
      },
      "text/plain": [
       "Validation: |          | 0/? [00:00<?, ?it/s]"
      ]
     },
     "metadata": {},
     "output_type": "display_data"
    },
    {
     "data": {
      "application/vnd.jupyter.widget-view+json": {
       "model_id": "e57387864e2040f0882bbefea506a795",
       "version_major": 2,
       "version_minor": 0
      },
      "text/plain": [
       "Validation: |          | 0/? [00:00<?, ?it/s]"
      ]
     },
     "metadata": {},
     "output_type": "display_data"
    },
    {
     "data": {
      "application/vnd.jupyter.widget-view+json": {
       "model_id": "8d5c209be4b9441aa526b968cfb18655",
       "version_major": 2,
       "version_minor": 0
      },
      "text/plain": [
       "Validation: |          | 0/? [00:00<?, ?it/s]"
      ]
     },
     "metadata": {},
     "output_type": "display_data"
    },
    {
     "data": {
      "application/vnd.jupyter.widget-view+json": {
       "model_id": "1fd1c98357c84fad873420ec6ab78d39",
       "version_major": 2,
       "version_minor": 0
      },
      "text/plain": [
       "Validation: |          | 0/? [00:00<?, ?it/s]"
      ]
     },
     "metadata": {},
     "output_type": "display_data"
    },
    {
     "data": {
      "application/vnd.jupyter.widget-view+json": {
       "model_id": "256aa1c467a8438c889d78403356131d",
       "version_major": 2,
       "version_minor": 0
      },
      "text/plain": [
       "Validation: |          | 0/? [00:00<?, ?it/s]"
      ]
     },
     "metadata": {},
     "output_type": "display_data"
    },
    {
     "data": {
      "application/vnd.jupyter.widget-view+json": {
       "model_id": "662d809e731a45cb86d5c6f18b3e11f0",
       "version_major": 2,
       "version_minor": 0
      },
      "text/plain": [
       "Validation: |          | 0/? [00:00<?, ?it/s]"
      ]
     },
     "metadata": {},
     "output_type": "display_data"
    },
    {
     "data": {
      "application/vnd.jupyter.widget-view+json": {
       "model_id": "ee49c89bd061493894cc7d2ede6706d4",
       "version_major": 2,
       "version_minor": 0
      },
      "text/plain": [
       "Validation: |          | 0/? [00:00<?, ?it/s]"
      ]
     },
     "metadata": {},
     "output_type": "display_data"
    },
    {
     "data": {
      "application/vnd.jupyter.widget-view+json": {
       "model_id": "ecd0f04329064ae89c45f313e04d13c2",
       "version_major": 2,
       "version_minor": 0
      },
      "text/plain": [
       "Validation: |          | 0/? [00:00<?, ?it/s]"
      ]
     },
     "metadata": {},
     "output_type": "display_data"
    },
    {
     "data": {
      "application/vnd.jupyter.widget-view+json": {
       "model_id": "b1e877e7d8d0436982cbf447dc8e6cdc",
       "version_major": 2,
       "version_minor": 0
      },
      "text/plain": [
       "Validation: |          | 0/? [00:00<?, ?it/s]"
      ]
     },
     "metadata": {},
     "output_type": "display_data"
    },
    {
     "data": {
      "application/vnd.jupyter.widget-view+json": {
       "model_id": "cadb33f6d87f4a19837d8a811f8e2407",
       "version_major": 2,
       "version_minor": 0
      },
      "text/plain": [
       "Validation: |          | 0/? [00:00<?, ?it/s]"
      ]
     },
     "metadata": {},
     "output_type": "display_data"
    },
    {
     "data": {
      "application/vnd.jupyter.widget-view+json": {
       "model_id": "b4e94c633fa143e297eaa86f1f2a7b22",
       "version_major": 2,
       "version_minor": 0
      },
      "text/plain": [
       "Validation: |          | 0/? [00:00<?, ?it/s]"
      ]
     },
     "metadata": {},
     "output_type": "display_data"
    },
    {
     "data": {
      "application/vnd.jupyter.widget-view+json": {
       "model_id": "13f27c5a6c714dec9c66493eaf132b00",
       "version_major": 2,
       "version_minor": 0
      },
      "text/plain": [
       "Validation: |          | 0/? [00:00<?, ?it/s]"
      ]
     },
     "metadata": {},
     "output_type": "display_data"
    },
    {
     "data": {
      "application/vnd.jupyter.widget-view+json": {
       "model_id": "9d5c4e0461a54ab5a085d3e5e4374ea0",
       "version_major": 2,
       "version_minor": 0
      },
      "text/plain": [
       "Validation: |          | 0/? [00:00<?, ?it/s]"
      ]
     },
     "metadata": {},
     "output_type": "display_data"
    },
    {
     "data": {
      "application/vnd.jupyter.widget-view+json": {
       "model_id": "a3b957a32d504e1cab1245dd6e924dcc",
       "version_major": 2,
       "version_minor": 0
      },
      "text/plain": [
       "Validation: |          | 0/? [00:00<?, ?it/s]"
      ]
     },
     "metadata": {},
     "output_type": "display_data"
    },
    {
     "data": {
      "application/vnd.jupyter.widget-view+json": {
       "model_id": "e27dd3a9b1cc4f0ca3ddee68a2ff3eac",
       "version_major": 2,
       "version_minor": 0
      },
      "text/plain": [
       "Validation: |          | 0/? [00:00<?, ?it/s]"
      ]
     },
     "metadata": {},
     "output_type": "display_data"
    },
    {
     "data": {
      "application/vnd.jupyter.widget-view+json": {
       "model_id": "4ae8153499eb47fd9a3b42195b749191",
       "version_major": 2,
       "version_minor": 0
      },
      "text/plain": [
       "Validation: |          | 0/? [00:00<?, ?it/s]"
      ]
     },
     "metadata": {},
     "output_type": "display_data"
    },
    {
     "data": {
      "application/vnd.jupyter.widget-view+json": {
       "model_id": "898ca09901f1427e901faf66b22f6c3e",
       "version_major": 2,
       "version_minor": 0
      },
      "text/plain": [
       "Validation: |          | 0/? [00:00<?, ?it/s]"
      ]
     },
     "metadata": {},
     "output_type": "display_data"
    },
    {
     "data": {
      "application/vnd.jupyter.widget-view+json": {
       "model_id": "5d21be973d044c43a6b3a332a4080f4d",
       "version_major": 2,
       "version_minor": 0
      },
      "text/plain": [
       "Validation: |          | 0/? [00:00<?, ?it/s]"
      ]
     },
     "metadata": {},
     "output_type": "display_data"
    },
    {
     "data": {
      "application/vnd.jupyter.widget-view+json": {
       "model_id": "fb344d66f2c74188bb6e0cbd4fc83ba4",
       "version_major": 2,
       "version_minor": 0
      },
      "text/plain": [
       "Validation: |          | 0/? [00:00<?, ?it/s]"
      ]
     },
     "metadata": {},
     "output_type": "display_data"
    },
    {
     "data": {
      "application/vnd.jupyter.widget-view+json": {
       "model_id": "4088c39818394df9ad3e0e57f0448d9c",
       "version_major": 2,
       "version_minor": 0
      },
      "text/plain": [
       "Validation: |          | 0/? [00:00<?, ?it/s]"
      ]
     },
     "metadata": {},
     "output_type": "display_data"
    },
    {
     "data": {
      "application/vnd.jupyter.widget-view+json": {
       "model_id": "8835f363f217452b97fc141857de2edd",
       "version_major": 2,
       "version_minor": 0
      },
      "text/plain": [
       "Validation: |          | 0/? [00:00<?, ?it/s]"
      ]
     },
     "metadata": {},
     "output_type": "display_data"
    },
    {
     "data": {
      "application/vnd.jupyter.widget-view+json": {
       "model_id": "99328090810242cfacbeae81a57c8783",
       "version_major": 2,
       "version_minor": 0
      },
      "text/plain": [
       "Validation: |          | 0/? [00:00<?, ?it/s]"
      ]
     },
     "metadata": {},
     "output_type": "display_data"
    },
    {
     "data": {
      "application/vnd.jupyter.widget-view+json": {
       "model_id": "603f6eac88484cf6a918473b7ef33366",
       "version_major": 2,
       "version_minor": 0
      },
      "text/plain": [
       "Validation: |          | 0/? [00:00<?, ?it/s]"
      ]
     },
     "metadata": {},
     "output_type": "display_data"
    },
    {
     "data": {
      "application/vnd.jupyter.widget-view+json": {
       "model_id": "21364baa7f0b48d4b384b29a503ed64a",
       "version_major": 2,
       "version_minor": 0
      },
      "text/plain": [
       "Validation: |          | 0/? [00:00<?, ?it/s]"
      ]
     },
     "metadata": {},
     "output_type": "display_data"
    },
    {
     "name": "stderr",
     "output_type": "stream",
     "text": [
      "IOPub message rate exceeded.\n",
      "The Jupyter server will temporarily stop sending output\n",
      "to the client in order to avoid crashing it.\n",
      "To change this limit, set the config variable\n",
      "`--ServerApp.iopub_msg_rate_limit`.\n",
      "\n",
      "Current values:\n",
      "ServerApp.iopub_msg_rate_limit=1000.0 (msgs/sec)\n",
      "ServerApp.rate_limit_window=3.0 (secs)\n",
      "\n"
     ]
    },
    {
     "data": {
      "application/vnd.jupyter.widget-view+json": {
       "model_id": "db78ea09f7a749589eb3a6b8ed3dc289",
       "version_major": 2,
       "version_minor": 0
      },
      "text/plain": [
       "Validation: |          | 0/? [00:00<?, ?it/s]"
      ]
     },
     "metadata": {},
     "output_type": "display_data"
    },
    {
     "data": {
      "application/vnd.jupyter.widget-view+json": {
       "model_id": "da6820db4a3d47af94d0ad13f560a065",
       "version_major": 2,
       "version_minor": 0
      },
      "text/plain": [
       "Validation: |          | 0/? [00:00<?, ?it/s]"
      ]
     },
     "metadata": {},
     "output_type": "display_data"
    },
    {
     "data": {
      "application/vnd.jupyter.widget-view+json": {
       "model_id": "a44afb1e79a548609766edbc5cbb9bfc",
       "version_major": 2,
       "version_minor": 0
      },
      "text/plain": [
       "Validation: |          | 0/? [00:00<?, ?it/s]"
      ]
     },
     "metadata": {},
     "output_type": "display_data"
    },
    {
     "data": {
      "application/vnd.jupyter.widget-view+json": {
       "model_id": "8ccda83230f44217bfad63cbb7b9b37a",
       "version_major": 2,
       "version_minor": 0
      },
      "text/plain": [
       "Validation: |          | 0/? [00:00<?, ?it/s]"
      ]
     },
     "metadata": {},
     "output_type": "display_data"
    },
    {
     "data": {
      "application/vnd.jupyter.widget-view+json": {
       "model_id": "4add9a9324004352ae7e332f8bf62c85",
       "version_major": 2,
       "version_minor": 0
      },
      "text/plain": [
       "Validation: |          | 0/? [00:00<?, ?it/s]"
      ]
     },
     "metadata": {},
     "output_type": "display_data"
    },
    {
     "data": {
      "application/vnd.jupyter.widget-view+json": {
       "model_id": "888ee9a3b2ad47b0b701d1a3dee36f10",
       "version_major": 2,
       "version_minor": 0
      },
      "text/plain": [
       "Validation: |          | 0/? [00:00<?, ?it/s]"
      ]
     },
     "metadata": {},
     "output_type": "display_data"
    },
    {
     "data": {
      "application/vnd.jupyter.widget-view+json": {
       "model_id": "947f79f8fc5341ecb7f1811386f602df",
       "version_major": 2,
       "version_minor": 0
      },
      "text/plain": [
       "Validation: |          | 0/? [00:00<?, ?it/s]"
      ]
     },
     "metadata": {},
     "output_type": "display_data"
    },
    {
     "data": {
      "application/vnd.jupyter.widget-view+json": {
       "model_id": "3b5054293fd44181809d6f8c34a4e35b",
       "version_major": 2,
       "version_minor": 0
      },
      "text/plain": [
       "Validation: |          | 0/? [00:00<?, ?it/s]"
      ]
     },
     "metadata": {},
     "output_type": "display_data"
    },
    {
     "data": {
      "application/vnd.jupyter.widget-view+json": {
       "model_id": "1ac2803c4fbc48f19bee2fa7295be66b",
       "version_major": 2,
       "version_minor": 0
      },
      "text/plain": [
       "Validation: |          | 0/? [00:00<?, ?it/s]"
      ]
     },
     "metadata": {},
     "output_type": "display_data"
    },
    {
     "data": {
      "application/vnd.jupyter.widget-view+json": {
       "model_id": "930466bcb3e04b088cfe256d1570a14c",
       "version_major": 2,
       "version_minor": 0
      },
      "text/plain": [
       "Validation: |          | 0/? [00:00<?, ?it/s]"
      ]
     },
     "metadata": {},
     "output_type": "display_data"
    },
    {
     "data": {
      "application/vnd.jupyter.widget-view+json": {
       "model_id": "297c659e7c4344ff85cf38be2ad6be80",
       "version_major": 2,
       "version_minor": 0
      },
      "text/plain": [
       "Validation: |          | 0/? [00:00<?, ?it/s]"
      ]
     },
     "metadata": {},
     "output_type": "display_data"
    },
    {
     "data": {
      "application/vnd.jupyter.widget-view+json": {
       "model_id": "d266d9c00bab44388d243eb66a429f89",
       "version_major": 2,
       "version_minor": 0
      },
      "text/plain": [
       "Validation: |          | 0/? [00:00<?, ?it/s]"
      ]
     },
     "metadata": {},
     "output_type": "display_data"
    },
    {
     "data": {
      "application/vnd.jupyter.widget-view+json": {
       "model_id": "01310de52ef54317bed375c6a93f579e",
       "version_major": 2,
       "version_minor": 0
      },
      "text/plain": [
       "Validation: |          | 0/? [00:00<?, ?it/s]"
      ]
     },
     "metadata": {},
     "output_type": "display_data"
    },
    {
     "data": {
      "application/vnd.jupyter.widget-view+json": {
       "model_id": "a32afe3727744989b2dc2ef907bea216",
       "version_major": 2,
       "version_minor": 0
      },
      "text/plain": [
       "Validation: |          | 0/? [00:00<?, ?it/s]"
      ]
     },
     "metadata": {},
     "output_type": "display_data"
    },
    {
     "data": {
      "application/vnd.jupyter.widget-view+json": {
       "model_id": "7d1faf0b0324469ba48647da7c20fd66",
       "version_major": 2,
       "version_minor": 0
      },
      "text/plain": [
       "Validation: |          | 0/? [00:00<?, ?it/s]"
      ]
     },
     "metadata": {},
     "output_type": "display_data"
    },
    {
     "data": {
      "application/vnd.jupyter.widget-view+json": {
       "model_id": "631fee95afe54db3b569f6511c3d136a",
       "version_major": 2,
       "version_minor": 0
      },
      "text/plain": [
       "Validation: |          | 0/? [00:00<?, ?it/s]"
      ]
     },
     "metadata": {},
     "output_type": "display_data"
    },
    {
     "data": {
      "application/vnd.jupyter.widget-view+json": {
       "model_id": "19189919bef44456a0d5294016e55eb8",
       "version_major": 2,
       "version_minor": 0
      },
      "text/plain": [
       "Validation: |          | 0/? [00:00<?, ?it/s]"
      ]
     },
     "metadata": {},
     "output_type": "display_data"
    },
    {
     "data": {
      "application/vnd.jupyter.widget-view+json": {
       "model_id": "5543bc7182b44afd8df6441830848d46",
       "version_major": 2,
       "version_minor": 0
      },
      "text/plain": [
       "Validation: |          | 0/? [00:00<?, ?it/s]"
      ]
     },
     "metadata": {},
     "output_type": "display_data"
    },
    {
     "data": {
      "application/vnd.jupyter.widget-view+json": {
       "model_id": "8655613bd8664b5f952cccdddc99b068",
       "version_major": 2,
       "version_minor": 0
      },
      "text/plain": [
       "Validation: |          | 0/? [00:00<?, ?it/s]"
      ]
     },
     "metadata": {},
     "output_type": "display_data"
    },
    {
     "data": {
      "application/vnd.jupyter.widget-view+json": {
       "model_id": "0a29cb14ad9942f69c5c5f574290288c",
       "version_major": 2,
       "version_minor": 0
      },
      "text/plain": [
       "Validation: |          | 0/? [00:00<?, ?it/s]"
      ]
     },
     "metadata": {},
     "output_type": "display_data"
    },
    {
     "data": {
      "application/vnd.jupyter.widget-view+json": {
       "model_id": "02006bfa6af94d2bb8259dfbc4b4a5e8",
       "version_major": 2,
       "version_minor": 0
      },
      "text/plain": [
       "Validation: |          | 0/? [00:00<?, ?it/s]"
      ]
     },
     "metadata": {},
     "output_type": "display_data"
    },
    {
     "data": {
      "application/vnd.jupyter.widget-view+json": {
       "model_id": "1ac91359d3c04822b8e85edfffa2b893",
       "version_major": 2,
       "version_minor": 0
      },
      "text/plain": [
       "Validation: |          | 0/? [00:00<?, ?it/s]"
      ]
     },
     "metadata": {},
     "output_type": "display_data"
    },
    {
     "data": {
      "application/vnd.jupyter.widget-view+json": {
       "model_id": "29e1441bb67b4bae82e52347999caa58",
       "version_major": 2,
       "version_minor": 0
      },
      "text/plain": [
       "Validation: |          | 0/? [00:00<?, ?it/s]"
      ]
     },
     "metadata": {},
     "output_type": "display_data"
    },
    {
     "data": {
      "application/vnd.jupyter.widget-view+json": {
       "model_id": "b851e1dacf37470aae72b4da320940fa",
       "version_major": 2,
       "version_minor": 0
      },
      "text/plain": [
       "Validation: |          | 0/? [00:00<?, ?it/s]"
      ]
     },
     "metadata": {},
     "output_type": "display_data"
    },
    {
     "data": {
      "application/vnd.jupyter.widget-view+json": {
       "model_id": "ba5494076dd048a8811b57199444b69c",
       "version_major": 2,
       "version_minor": 0
      },
      "text/plain": [
       "Validation: |          | 0/? [00:00<?, ?it/s]"
      ]
     },
     "metadata": {},
     "output_type": "display_data"
    },
    {
     "data": {
      "application/vnd.jupyter.widget-view+json": {
       "model_id": "6b1bac54e9c74378b2a4f0a4dcd0064b",
       "version_major": 2,
       "version_minor": 0
      },
      "text/plain": [
       "Validation: |          | 0/? [00:00<?, ?it/s]"
      ]
     },
     "metadata": {},
     "output_type": "display_data"
    },
    {
     "data": {
      "application/vnd.jupyter.widget-view+json": {
       "model_id": "e36083c524b946e6815aefa0ae7e9d4e",
       "version_major": 2,
       "version_minor": 0
      },
      "text/plain": [
       "Validation: |          | 0/? [00:00<?, ?it/s]"
      ]
     },
     "metadata": {},
     "output_type": "display_data"
    },
    {
     "name": "stderr",
     "output_type": "stream",
     "text": [
      "`Trainer.fit` stopped: `max_steps=500` reached.\n",
      "GPU available: True (cuda), used: True\n",
      "TPU available: False, using: 0 TPU cores\n",
      "HPU available: False, using: 0 HPUs\n",
      "LOCAL_RANK: 0 - CUDA_VISIBLE_DEVICES: [0]\n"
     ]
    },
    {
     "name": "stdout",
     "output_type": "stream",
     "text": [
      "train_loss: 0.71708\n",
      "valid_loss: 0.57176\n"
     ]
    },
    {
     "data": {
      "application/vnd.jupyter.widget-view+json": {
       "model_id": "b4c2138932034512bde2713dbf95bd06",
       "version_major": 2,
       "version_minor": 0
      },
      "text/plain": [
       "Predicting: |          | 0/? [00:00<?, ?it/s]"
      ]
     },
     "metadata": {},
     "output_type": "display_data"
    },
    {
     "name": "stderr",
     "output_type": "stream",
     "text": [
      "/home/kemove/git/neuralforecast/neuralforecast/core.py:210: FutureWarning: In a future version the predictions will have the id as a column. You can set the `NIXTLA_ID_AS_COL` environment variable to adopt the new behavior and to suppress this warning.\n",
      "  warnings.warn(\n"
     ]
    },
    {
     "name": "stdout",
     "output_type": "stream",
     "text": [
      "training MAE:\n"
     ]
    },
    {
     "data": {
      "text/html": [
       "<div>\n",
       "<style scoped>\n",
       "    .dataframe tbody tr th:only-of-type {\n",
       "        vertical-align: middle;\n",
       "    }\n",
       "\n",
       "    .dataframe tbody tr th {\n",
       "        vertical-align: top;\n",
       "    }\n",
       "\n",
       "    .dataframe thead th {\n",
       "        text-align: right;\n",
       "    }\n",
       "</style>\n",
       "<table border=\"1\" class=\"dataframe\">\n",
       "  <thead>\n",
       "    <tr style=\"text-align: right;\">\n",
       "      <th></th>\n",
       "      <th>BiTCN</th>\n",
       "      <th>best_model</th>\n",
       "    </tr>\n",
       "    <tr>\n",
       "      <th>unique_id</th>\n",
       "      <th></th>\n",
       "      <th></th>\n",
       "    </tr>\n",
       "  </thead>\n",
       "  <tbody>\n",
       "    <tr>\n",
       "      <th>399673</th>\n",
       "      <td>1.422493</td>\n",
       "      <td>BiTCN</td>\n",
       "    </tr>\n",
       "  </tbody>\n",
       "</table>\n",
       "</div>"
      ],
      "text/plain": [
       "              BiTCN best_model\n",
       "unique_id                     \n",
       "399673     1.422493      BiTCN"
      ]
     },
     "metadata": {},
     "output_type": "display_data"
    },
    {
     "name": "stdout",
     "output_type": "stream",
     "text": [
      "validation MAE:\n"
     ]
    },
    {
     "data": {
      "text/html": [
       "<div>\n",
       "<style scoped>\n",
       "    .dataframe tbody tr th:only-of-type {\n",
       "        vertical-align: middle;\n",
       "    }\n",
       "\n",
       "    .dataframe tbody tr th {\n",
       "        vertical-align: top;\n",
       "    }\n",
       "\n",
       "    .dataframe thead th {\n",
       "        text-align: right;\n",
       "    }\n",
       "</style>\n",
       "<table border=\"1\" class=\"dataframe\">\n",
       "  <thead>\n",
       "    <tr style=\"text-align: right;\">\n",
       "      <th></th>\n",
       "      <th>BiTCN</th>\n",
       "      <th>best_model</th>\n",
       "    </tr>\n",
       "    <tr>\n",
       "      <th>unique_id</th>\n",
       "      <th></th>\n",
       "      <th></th>\n",
       "    </tr>\n",
       "  </thead>\n",
       "  <tbody>\n",
       "    <tr>\n",
       "      <th>399673</th>\n",
       "      <td>0.830535</td>\n",
       "      <td>BiTCN</td>\n",
       "    </tr>\n",
       "  </tbody>\n",
       "</table>\n",
       "</div>"
      ],
      "text/plain": [
       "              BiTCN best_model\n",
       "unique_id                     \n",
       "399673     0.830535      BiTCN"
      ]
     },
     "metadata": {},
     "output_type": "display_data"
    }
   ],
   "source": [
    "train_and_evaluate(model, df_train)"
   ]
  },
  {
   "cell_type": "markdown",
   "metadata": {},
   "source": [
    "## AutoFormer (0.3) (F)"
   ]
  },
  {
   "cell_type": "code",
   "execution_count": 50,
   "metadata": {},
   "outputs": [
    {
     "name": "stderr",
     "output_type": "stream",
     "text": [
      "Seed set to 1\n"
     ]
    }
   ],
   "source": [
    "model = Autoformer(\n",
    "    h=20,\n",
    "    input_size=48,\n",
    "    hidden_size=16,\n",
    "    conv_hidden_size=32,\n",
    "    n_head=2,\n",
    "    loss=MAE(),\n",
    "    futr_exog_list=exog,\n",
    "    # scaler_type=\"robust\",\n",
    "    learning_rate=1e-3,\n",
    "    max_steps=500,\n",
    "    val_check_steps=5,\n",
    "    early_stop_patience_steps=10,\n",
    ")"
   ]
  },
  {
   "cell_type": "code",
   "execution_count": 51,
   "metadata": {},
   "outputs": [
    {
     "name": "stderr",
     "output_type": "stream",
     "text": [
      "GPU available: True (cuda), used: True\n",
      "TPU available: False, using: 0 TPU cores\n",
      "HPU available: False, using: 0 HPUs\n",
      "LOCAL_RANK: 0 - CUDA_VISIBLE_DEVICES: [0]\n",
      "\n",
      "  | Name          | Type          | Params | Mode \n",
      "--------------------------------------------------------\n",
      "0 | loss          | MAE           | 0      | train\n",
      "1 | padder_train  | ConstantPad1d | 0      | train\n",
      "2 | scaler        | TemporalNorm  | 0      | train\n",
      "3 | decomp        | SeriesDecomp  | 0      | train\n",
      "4 | enc_embedding | DataEmbedding | 224    | train\n",
      "5 | dec_embedding | DataEmbedding | 224    | train\n",
      "6 | encoder       | Encoder       | 4.3 K  | train\n",
      "7 | decoder       | Decoder       | 3.3 K  | train\n",
      "--------------------------------------------------------\n",
      "8.0 K     Trainable params\n",
      "0         Non-trainable params\n",
      "8.0 K     Total params\n",
      "0.032     Total estimated model params size (MB)\n",
      "89        Modules in train mode\n",
      "0         Modules in eval mode\n"
     ]
    },
    {
     "data": {
      "application/vnd.jupyter.widget-view+json": {
       "model_id": "3f92539af5d4488289217e322b823d2e",
       "version_major": 2,
       "version_minor": 0
      },
      "text/plain": [
       "Sanity Checking: |          | 0/? [00:00<?, ?it/s]"
      ]
     },
     "metadata": {},
     "output_type": "display_data"
    },
    {
     "data": {
      "application/vnd.jupyter.widget-view+json": {
       "model_id": "3309b7ee8e4b49439e41ef7e6f022257",
       "version_major": 2,
       "version_minor": 0
      },
      "text/plain": [
       "Training: |          | 0/? [00:00<?, ?it/s]"
      ]
     },
     "metadata": {},
     "output_type": "display_data"
    },
    {
     "data": {
      "application/vnd.jupyter.widget-view+json": {
       "model_id": "8b5c4c9000f44b1289cb219437dc8dfe",
       "version_major": 2,
       "version_minor": 0
      },
      "text/plain": [
       "Validation: |          | 0/? [00:00<?, ?it/s]"
      ]
     },
     "metadata": {},
     "output_type": "display_data"
    },
    {
     "data": {
      "application/vnd.jupyter.widget-view+json": {
       "model_id": "aed9009283f040ecb9f5b8a618c30558",
       "version_major": 2,
       "version_minor": 0
      },
      "text/plain": [
       "Validation: |          | 0/? [00:00<?, ?it/s]"
      ]
     },
     "metadata": {},
     "output_type": "display_data"
    },
    {
     "data": {
      "application/vnd.jupyter.widget-view+json": {
       "model_id": "ac22e41088c5492f8fc794cfb219036c",
       "version_major": 2,
       "version_minor": 0
      },
      "text/plain": [
       "Validation: |          | 0/? [00:00<?, ?it/s]"
      ]
     },
     "metadata": {},
     "output_type": "display_data"
    },
    {
     "data": {
      "application/vnd.jupyter.widget-view+json": {
       "model_id": "78f429e60dac4249beb3b6f357ee9816",
       "version_major": 2,
       "version_minor": 0
      },
      "text/plain": [
       "Validation: |          | 0/? [00:00<?, ?it/s]"
      ]
     },
     "metadata": {},
     "output_type": "display_data"
    },
    {
     "data": {
      "application/vnd.jupyter.widget-view+json": {
       "model_id": "6cf4939623cb4a47b5dd5a440abf384a",
       "version_major": 2,
       "version_minor": 0
      },
      "text/plain": [
       "Validation: |          | 0/? [00:00<?, ?it/s]"
      ]
     },
     "metadata": {},
     "output_type": "display_data"
    },
    {
     "data": {
      "application/vnd.jupyter.widget-view+json": {
       "model_id": "0f3e2ad1bc2543eaa9a6c9a85c9ebddf",
       "version_major": 2,
       "version_minor": 0
      },
      "text/plain": [
       "Validation: |          | 0/? [00:00<?, ?it/s]"
      ]
     },
     "metadata": {},
     "output_type": "display_data"
    },
    {
     "data": {
      "application/vnd.jupyter.widget-view+json": {
       "model_id": "134ae125e8b74192b095fc43862b3883",
       "version_major": 2,
       "version_minor": 0
      },
      "text/plain": [
       "Validation: |          | 0/? [00:00<?, ?it/s]"
      ]
     },
     "metadata": {},
     "output_type": "display_data"
    },
    {
     "data": {
      "application/vnd.jupyter.widget-view+json": {
       "model_id": "2cfe09a1cb2f409da5c0845f58a9dc9b",
       "version_major": 2,
       "version_minor": 0
      },
      "text/plain": [
       "Validation: |          | 0/? [00:00<?, ?it/s]"
      ]
     },
     "metadata": {},
     "output_type": "display_data"
    },
    {
     "data": {
      "application/vnd.jupyter.widget-view+json": {
       "model_id": "005d53821f0a47bcb3ef2f715f51a2d3",
       "version_major": 2,
       "version_minor": 0
      },
      "text/plain": [
       "Validation: |          | 0/? [00:00<?, ?it/s]"
      ]
     },
     "metadata": {},
     "output_type": "display_data"
    },
    {
     "data": {
      "application/vnd.jupyter.widget-view+json": {
       "model_id": "e228edc6c76f48228656f218a6e21485",
       "version_major": 2,
       "version_minor": 0
      },
      "text/plain": [
       "Validation: |          | 0/? [00:00<?, ?it/s]"
      ]
     },
     "metadata": {},
     "output_type": "display_data"
    },
    {
     "data": {
      "application/vnd.jupyter.widget-view+json": {
       "model_id": "ab2a5e19cabe490084fb33c3d549b041",
       "version_major": 2,
       "version_minor": 0
      },
      "text/plain": [
       "Validation: |          | 0/? [00:00<?, ?it/s]"
      ]
     },
     "metadata": {},
     "output_type": "display_data"
    },
    {
     "data": {
      "application/vnd.jupyter.widget-view+json": {
       "model_id": "1e8c7e9eb1dc47f8b2d863a400bc5ee4",
       "version_major": 2,
       "version_minor": 0
      },
      "text/plain": [
       "Validation: |          | 0/? [00:00<?, ?it/s]"
      ]
     },
     "metadata": {},
     "output_type": "display_data"
    },
    {
     "data": {
      "application/vnd.jupyter.widget-view+json": {
       "model_id": "706b65b1b7834be0a95ffc46d0c50845",
       "version_major": 2,
       "version_minor": 0
      },
      "text/plain": [
       "Validation: |          | 0/? [00:00<?, ?it/s]"
      ]
     },
     "metadata": {},
     "output_type": "display_data"
    },
    {
     "data": {
      "application/vnd.jupyter.widget-view+json": {
       "model_id": "1f165b578e734a238a8e03c1dd382d02",
       "version_major": 2,
       "version_minor": 0
      },
      "text/plain": [
       "Validation: |          | 0/? [00:00<?, ?it/s]"
      ]
     },
     "metadata": {},
     "output_type": "display_data"
    },
    {
     "data": {
      "application/vnd.jupyter.widget-view+json": {
       "model_id": "b004906aad2041e598a8dbcd94cf9fd5",
       "version_major": 2,
       "version_minor": 0
      },
      "text/plain": [
       "Validation: |          | 0/? [00:00<?, ?it/s]"
      ]
     },
     "metadata": {},
     "output_type": "display_data"
    },
    {
     "data": {
      "application/vnd.jupyter.widget-view+json": {
       "model_id": "9ddf48226ee147279bd700ad0f9b3d1e",
       "version_major": 2,
       "version_minor": 0
      },
      "text/plain": [
       "Validation: |          | 0/? [00:00<?, ?it/s]"
      ]
     },
     "metadata": {},
     "output_type": "display_data"
    },
    {
     "data": {
      "application/vnd.jupyter.widget-view+json": {
       "model_id": "ca1197b536aa4cc4af4fe52821b8ec68",
       "version_major": 2,
       "version_minor": 0
      },
      "text/plain": [
       "Validation: |          | 0/? [00:00<?, ?it/s]"
      ]
     },
     "metadata": {},
     "output_type": "display_data"
    },
    {
     "data": {
      "application/vnd.jupyter.widget-view+json": {
       "model_id": "6eece1713d294b71a3449ad832930b6e",
       "version_major": 2,
       "version_minor": 0
      },
      "text/plain": [
       "Validation: |          | 0/? [00:00<?, ?it/s]"
      ]
     },
     "metadata": {},
     "output_type": "display_data"
    },
    {
     "data": {
      "application/vnd.jupyter.widget-view+json": {
       "model_id": "910713d0a9124e84956e4744cc34bc6b",
       "version_major": 2,
       "version_minor": 0
      },
      "text/plain": [
       "Validation: |          | 0/? [00:00<?, ?it/s]"
      ]
     },
     "metadata": {},
     "output_type": "display_data"
    },
    {
     "data": {
      "application/vnd.jupyter.widget-view+json": {
       "model_id": "a1de25bc047e44db9056576802344c8b",
       "version_major": 2,
       "version_minor": 0
      },
      "text/plain": [
       "Validation: |          | 0/? [00:00<?, ?it/s]"
      ]
     },
     "metadata": {},
     "output_type": "display_data"
    },
    {
     "data": {
      "application/vnd.jupyter.widget-view+json": {
       "model_id": "22ad6da25acd4ec79dde8fe235f7c854",
       "version_major": 2,
       "version_minor": 0
      },
      "text/plain": [
       "Validation: |          | 0/? [00:00<?, ?it/s]"
      ]
     },
     "metadata": {},
     "output_type": "display_data"
    },
    {
     "data": {
      "application/vnd.jupyter.widget-view+json": {
       "model_id": "6b59a76197a042d080f2e03c5c5fbacb",
       "version_major": 2,
       "version_minor": 0
      },
      "text/plain": [
       "Validation: |          | 0/? [00:00<?, ?it/s]"
      ]
     },
     "metadata": {},
     "output_type": "display_data"
    },
    {
     "data": {
      "application/vnd.jupyter.widget-view+json": {
       "model_id": "e1007a1ac7d248be953f9cf6889396ff",
       "version_major": 2,
       "version_minor": 0
      },
      "text/plain": [
       "Validation: |          | 0/? [00:00<?, ?it/s]"
      ]
     },
     "metadata": {},
     "output_type": "display_data"
    },
    {
     "data": {
      "application/vnd.jupyter.widget-view+json": {
       "model_id": "5462c2f9b24e459dadfadfdf0c39c61b",
       "version_major": 2,
       "version_minor": 0
      },
      "text/plain": [
       "Validation: |          | 0/? [00:00<?, ?it/s]"
      ]
     },
     "metadata": {},
     "output_type": "display_data"
    },
    {
     "data": {
      "application/vnd.jupyter.widget-view+json": {
       "model_id": "de052d006f294bd9b3e2bc040b26762a",
       "version_major": 2,
       "version_minor": 0
      },
      "text/plain": [
       "Validation: |          | 0/? [00:00<?, ?it/s]"
      ]
     },
     "metadata": {},
     "output_type": "display_data"
    },
    {
     "data": {
      "application/vnd.jupyter.widget-view+json": {
       "model_id": "8cc24c611daa4282bf360531cf0a7ec8",
       "version_major": 2,
       "version_minor": 0
      },
      "text/plain": [
       "Validation: |          | 0/? [00:00<?, ?it/s]"
      ]
     },
     "metadata": {},
     "output_type": "display_data"
    },
    {
     "data": {
      "application/vnd.jupyter.widget-view+json": {
       "model_id": "55abcb412bfb4a45a908dd8daea1df58",
       "version_major": 2,
       "version_minor": 0
      },
      "text/plain": [
       "Validation: |          | 0/? [00:00<?, ?it/s]"
      ]
     },
     "metadata": {},
     "output_type": "display_data"
    },
    {
     "data": {
      "application/vnd.jupyter.widget-view+json": {
       "model_id": "29e73b32ddae46df948975020bb81520",
       "version_major": 2,
       "version_minor": 0
      },
      "text/plain": [
       "Validation: |          | 0/? [00:00<?, ?it/s]"
      ]
     },
     "metadata": {},
     "output_type": "display_data"
    },
    {
     "data": {
      "application/vnd.jupyter.widget-view+json": {
       "model_id": "2e15ddcd6f16499aad3e52995d411fdf",
       "version_major": 2,
       "version_minor": 0
      },
      "text/plain": [
       "Validation: |          | 0/? [00:00<?, ?it/s]"
      ]
     },
     "metadata": {},
     "output_type": "display_data"
    },
    {
     "data": {
      "application/vnd.jupyter.widget-view+json": {
       "model_id": "81a7f71f56df402dbf31f3191ae63a0a",
       "version_major": 2,
       "version_minor": 0
      },
      "text/plain": [
       "Validation: |          | 0/? [00:00<?, ?it/s]"
      ]
     },
     "metadata": {},
     "output_type": "display_data"
    },
    {
     "data": {
      "application/vnd.jupyter.widget-view+json": {
       "model_id": "cb00997b8cd94ced99d8ed66acd26236",
       "version_major": 2,
       "version_minor": 0
      },
      "text/plain": [
       "Validation: |          | 0/? [00:00<?, ?it/s]"
      ]
     },
     "metadata": {},
     "output_type": "display_data"
    },
    {
     "data": {
      "application/vnd.jupyter.widget-view+json": {
       "model_id": "9b1fa84d221d4d34b3a97fe3a89fc38a",
       "version_major": 2,
       "version_minor": 0
      },
      "text/plain": [
       "Validation: |          | 0/? [00:00<?, ?it/s]"
      ]
     },
     "metadata": {},
     "output_type": "display_data"
    },
    {
     "data": {
      "application/vnd.jupyter.widget-view+json": {
       "model_id": "737ba2f8a95942f7b9eda90206b9e14f",
       "version_major": 2,
       "version_minor": 0
      },
      "text/plain": [
       "Validation: |          | 0/? [00:00<?, ?it/s]"
      ]
     },
     "metadata": {},
     "output_type": "display_data"
    },
    {
     "data": {
      "application/vnd.jupyter.widget-view+json": {
       "model_id": "a49664eadceb4088943eb75193459c54",
       "version_major": 2,
       "version_minor": 0
      },
      "text/plain": [
       "Validation: |          | 0/? [00:00<?, ?it/s]"
      ]
     },
     "metadata": {},
     "output_type": "display_data"
    },
    {
     "data": {
      "application/vnd.jupyter.widget-view+json": {
       "model_id": "10e60c284ed04558b13193b1e1966cd5",
       "version_major": 2,
       "version_minor": 0
      },
      "text/plain": [
       "Validation: |          | 0/? [00:00<?, ?it/s]"
      ]
     },
     "metadata": {},
     "output_type": "display_data"
    },
    {
     "data": {
      "application/vnd.jupyter.widget-view+json": {
       "model_id": "947904f9413f4f06ac76ddb832015d51",
       "version_major": 2,
       "version_minor": 0
      },
      "text/plain": [
       "Validation: |          | 0/? [00:00<?, ?it/s]"
      ]
     },
     "metadata": {},
     "output_type": "display_data"
    },
    {
     "data": {
      "application/vnd.jupyter.widget-view+json": {
       "model_id": "78e85c810da54db0842cc394a4787bf2",
       "version_major": 2,
       "version_minor": 0
      },
      "text/plain": [
       "Validation: |          | 0/? [00:00<?, ?it/s]"
      ]
     },
     "metadata": {},
     "output_type": "display_data"
    },
    {
     "data": {
      "application/vnd.jupyter.widget-view+json": {
       "model_id": "9393aa1b0f9f4426b5f627a65b66035c",
       "version_major": 2,
       "version_minor": 0
      },
      "text/plain": [
       "Validation: |          | 0/? [00:00<?, ?it/s]"
      ]
     },
     "metadata": {},
     "output_type": "display_data"
    },
    {
     "data": {
      "application/vnd.jupyter.widget-view+json": {
       "model_id": "00a1bf75da3c463d8c5d7b8c5049fcd6",
       "version_major": 2,
       "version_minor": 0
      },
      "text/plain": [
       "Validation: |          | 0/? [00:00<?, ?it/s]"
      ]
     },
     "metadata": {},
     "output_type": "display_data"
    },
    {
     "data": {
      "application/vnd.jupyter.widget-view+json": {
       "model_id": "cb36c5f15cca4d7f85066fbf5099a805",
       "version_major": 2,
       "version_minor": 0
      },
      "text/plain": [
       "Validation: |          | 0/? [00:00<?, ?it/s]"
      ]
     },
     "metadata": {},
     "output_type": "display_data"
    },
    {
     "data": {
      "application/vnd.jupyter.widget-view+json": {
       "model_id": "2151b38655ed4972a710a18753bb99b1",
       "version_major": 2,
       "version_minor": 0
      },
      "text/plain": [
       "Validation: |          | 0/? [00:00<?, ?it/s]"
      ]
     },
     "metadata": {},
     "output_type": "display_data"
    },
    {
     "data": {
      "application/vnd.jupyter.widget-view+json": {
       "model_id": "0cc7d5edbbda4733b4f3481b25248a95",
       "version_major": 2,
       "version_minor": 0
      },
      "text/plain": [
       "Validation: |          | 0/? [00:00<?, ?it/s]"
      ]
     },
     "metadata": {},
     "output_type": "display_data"
    },
    {
     "data": {
      "application/vnd.jupyter.widget-view+json": {
       "model_id": "27b5cd67e7694688acdde4a88da5beda",
       "version_major": 2,
       "version_minor": 0
      },
      "text/plain": [
       "Validation: |          | 0/? [00:00<?, ?it/s]"
      ]
     },
     "metadata": {},
     "output_type": "display_data"
    },
    {
     "data": {
      "application/vnd.jupyter.widget-view+json": {
       "model_id": "497603bb42d549d3a92391f1def5db15",
       "version_major": 2,
       "version_minor": 0
      },
      "text/plain": [
       "Validation: |          | 0/? [00:00<?, ?it/s]"
      ]
     },
     "metadata": {},
     "output_type": "display_data"
    },
    {
     "data": {
      "application/vnd.jupyter.widget-view+json": {
       "model_id": "b05f509c7a01484b93728424b8412004",
       "version_major": 2,
       "version_minor": 0
      },
      "text/plain": [
       "Validation: |          | 0/? [00:00<?, ?it/s]"
      ]
     },
     "metadata": {},
     "output_type": "display_data"
    },
    {
     "data": {
      "application/vnd.jupyter.widget-view+json": {
       "model_id": "e2bb8e4c00844f74bf758b3814f3e339",
       "version_major": 2,
       "version_minor": 0
      },
      "text/plain": [
       "Validation: |          | 0/? [00:00<?, ?it/s]"
      ]
     },
     "metadata": {},
     "output_type": "display_data"
    },
    {
     "data": {
      "application/vnd.jupyter.widget-view+json": {
       "model_id": "e214ce5f9b7840b19364ed394e76318f",
       "version_major": 2,
       "version_minor": 0
      },
      "text/plain": [
       "Validation: |          | 0/? [00:00<?, ?it/s]"
      ]
     },
     "metadata": {},
     "output_type": "display_data"
    },
    {
     "data": {
      "application/vnd.jupyter.widget-view+json": {
       "model_id": "4a1f430fcdc74827b9a100465e9b90ee",
       "version_major": 2,
       "version_minor": 0
      },
      "text/plain": [
       "Validation: |          | 0/? [00:00<?, ?it/s]"
      ]
     },
     "metadata": {},
     "output_type": "display_data"
    },
    {
     "data": {
      "application/vnd.jupyter.widget-view+json": {
       "model_id": "77549166af08497daca1e2bfd9b4e363",
       "version_major": 2,
       "version_minor": 0
      },
      "text/plain": [
       "Validation: |          | 0/? [00:00<?, ?it/s]"
      ]
     },
     "metadata": {},
     "output_type": "display_data"
    },
    {
     "data": {
      "application/vnd.jupyter.widget-view+json": {
       "model_id": "91230c35cb7840b1be3c56f87b4879bc",
       "version_major": 2,
       "version_minor": 0
      },
      "text/plain": [
       "Validation: |          | 0/? [00:00<?, ?it/s]"
      ]
     },
     "metadata": {},
     "output_type": "display_data"
    },
    {
     "data": {
      "application/vnd.jupyter.widget-view+json": {
       "model_id": "aa6838579df5485ab8516736aaef8d0c",
       "version_major": 2,
       "version_minor": 0
      },
      "text/plain": [
       "Validation: |          | 0/? [00:00<?, ?it/s]"
      ]
     },
     "metadata": {},
     "output_type": "display_data"
    },
    {
     "data": {
      "application/vnd.jupyter.widget-view+json": {
       "model_id": "0228ecd9ae244de4954cb7c6e9365e24",
       "version_major": 2,
       "version_minor": 0
      },
      "text/plain": [
       "Validation: |          | 0/? [00:00<?, ?it/s]"
      ]
     },
     "metadata": {},
     "output_type": "display_data"
    },
    {
     "data": {
      "application/vnd.jupyter.widget-view+json": {
       "model_id": "843ad111deaa49e1b650b4ad76aaa73e",
       "version_major": 2,
       "version_minor": 0
      },
      "text/plain": [
       "Validation: |          | 0/? [00:00<?, ?it/s]"
      ]
     },
     "metadata": {},
     "output_type": "display_data"
    },
    {
     "data": {
      "application/vnd.jupyter.widget-view+json": {
       "model_id": "76b680c10ffa4398bde3c1beb01c9766",
       "version_major": 2,
       "version_minor": 0
      },
      "text/plain": [
       "Validation: |          | 0/? [00:00<?, ?it/s]"
      ]
     },
     "metadata": {},
     "output_type": "display_data"
    },
    {
     "data": {
      "application/vnd.jupyter.widget-view+json": {
       "model_id": "aa658488e99b44c8a4776311c63b6afc",
       "version_major": 2,
       "version_minor": 0
      },
      "text/plain": [
       "Validation: |          | 0/? [00:00<?, ?it/s]"
      ]
     },
     "metadata": {},
     "output_type": "display_data"
    },
    {
     "data": {
      "application/vnd.jupyter.widget-view+json": {
       "model_id": "1f305ff2c2064e8e8cf2e96a6f346387",
       "version_major": 2,
       "version_minor": 0
      },
      "text/plain": [
       "Validation: |          | 0/? [00:00<?, ?it/s]"
      ]
     },
     "metadata": {},
     "output_type": "display_data"
    },
    {
     "data": {
      "application/vnd.jupyter.widget-view+json": {
       "model_id": "42124507c98e4fdc9df7c17c60b6768d",
       "version_major": 2,
       "version_minor": 0
      },
      "text/plain": [
       "Validation: |          | 0/? [00:00<?, ?it/s]"
      ]
     },
     "metadata": {},
     "output_type": "display_data"
    },
    {
     "data": {
      "application/vnd.jupyter.widget-view+json": {
       "model_id": "7e34172de101451c8d944e27723b003a",
       "version_major": 2,
       "version_minor": 0
      },
      "text/plain": [
       "Validation: |          | 0/? [00:00<?, ?it/s]"
      ]
     },
     "metadata": {},
     "output_type": "display_data"
    },
    {
     "data": {
      "application/vnd.jupyter.widget-view+json": {
       "model_id": "6d2dea844b5443f9995d83f830256bd4",
       "version_major": 2,
       "version_minor": 0
      },
      "text/plain": [
       "Validation: |          | 0/? [00:00<?, ?it/s]"
      ]
     },
     "metadata": {},
     "output_type": "display_data"
    },
    {
     "data": {
      "application/vnd.jupyter.widget-view+json": {
       "model_id": "e40fea0544cd4471a996cbbed32b4cd7",
       "version_major": 2,
       "version_minor": 0
      },
      "text/plain": [
       "Validation: |          | 0/? [00:00<?, ?it/s]"
      ]
     },
     "metadata": {},
     "output_type": "display_data"
    },
    {
     "data": {
      "application/vnd.jupyter.widget-view+json": {
       "model_id": "0d881c35168443bda152bafb2bb966ba",
       "version_major": 2,
       "version_minor": 0
      },
      "text/plain": [
       "Validation: |          | 0/? [00:00<?, ?it/s]"
      ]
     },
     "metadata": {},
     "output_type": "display_data"
    },
    {
     "data": {
      "application/vnd.jupyter.widget-view+json": {
       "model_id": "8a2722029a644f539327ddf2c9c72f15",
       "version_major": 2,
       "version_minor": 0
      },
      "text/plain": [
       "Validation: |          | 0/? [00:00<?, ?it/s]"
      ]
     },
     "metadata": {},
     "output_type": "display_data"
    },
    {
     "data": {
      "application/vnd.jupyter.widget-view+json": {
       "model_id": "af462337608946a0962250337a7d3b4b",
       "version_major": 2,
       "version_minor": 0
      },
      "text/plain": [
       "Validation: |          | 0/? [00:00<?, ?it/s]"
      ]
     },
     "metadata": {},
     "output_type": "display_data"
    },
    {
     "data": {
      "application/vnd.jupyter.widget-view+json": {
       "model_id": "3a16d2a6ff244b77901e89f886811776",
       "version_major": 2,
       "version_minor": 0
      },
      "text/plain": [
       "Validation: |          | 0/? [00:00<?, ?it/s]"
      ]
     },
     "metadata": {},
     "output_type": "display_data"
    },
    {
     "data": {
      "application/vnd.jupyter.widget-view+json": {
       "model_id": "050997fa59174f65a8173344c64e1e94",
       "version_major": 2,
       "version_minor": 0
      },
      "text/plain": [
       "Validation: |          | 0/? [00:00<?, ?it/s]"
      ]
     },
     "metadata": {},
     "output_type": "display_data"
    },
    {
     "data": {
      "application/vnd.jupyter.widget-view+json": {
       "model_id": "ec4064542ec74680aec9ff1e28c8d5f6",
       "version_major": 2,
       "version_minor": 0
      },
      "text/plain": [
       "Validation: |          | 0/? [00:00<?, ?it/s]"
      ]
     },
     "metadata": {},
     "output_type": "display_data"
    },
    {
     "data": {
      "application/vnd.jupyter.widget-view+json": {
       "model_id": "34a1a546ff5345f3ae65de7ba7038bd9",
       "version_major": 2,
       "version_minor": 0
      },
      "text/plain": [
       "Validation: |          | 0/? [00:00<?, ?it/s]"
      ]
     },
     "metadata": {},
     "output_type": "display_data"
    },
    {
     "data": {
      "application/vnd.jupyter.widget-view+json": {
       "model_id": "6af9b759db254eaeb78a5a23fcd6fb72",
       "version_major": 2,
       "version_minor": 0
      },
      "text/plain": [
       "Validation: |          | 0/? [00:00<?, ?it/s]"
      ]
     },
     "metadata": {},
     "output_type": "display_data"
    },
    {
     "data": {
      "application/vnd.jupyter.widget-view+json": {
       "model_id": "f8cb0d61b4474dbaaa3d6ffd156c3919",
       "version_major": 2,
       "version_minor": 0
      },
      "text/plain": [
       "Validation: |          | 0/? [00:00<?, ?it/s]"
      ]
     },
     "metadata": {},
     "output_type": "display_data"
    },
    {
     "data": {
      "application/vnd.jupyter.widget-view+json": {
       "model_id": "530772693fc3468ab01dbc21e4e1e0be",
       "version_major": 2,
       "version_minor": 0
      },
      "text/plain": [
       "Validation: |          | 0/? [00:00<?, ?it/s]"
      ]
     },
     "metadata": {},
     "output_type": "display_data"
    },
    {
     "data": {
      "application/vnd.jupyter.widget-view+json": {
       "model_id": "5a5900a23f294aceae1ed38856d23ac1",
       "version_major": 2,
       "version_minor": 0
      },
      "text/plain": [
       "Validation: |          | 0/? [00:00<?, ?it/s]"
      ]
     },
     "metadata": {},
     "output_type": "display_data"
    },
    {
     "data": {
      "application/vnd.jupyter.widget-view+json": {
       "model_id": "456d1371c34c456c8a3f4f462bfb5a1d",
       "version_major": 2,
       "version_minor": 0
      },
      "text/plain": [
       "Validation: |          | 0/? [00:00<?, ?it/s]"
      ]
     },
     "metadata": {},
     "output_type": "display_data"
    },
    {
     "data": {
      "application/vnd.jupyter.widget-view+json": {
       "model_id": "cbcef7b75446427a9006d76d0cb41f34",
       "version_major": 2,
       "version_minor": 0
      },
      "text/plain": [
       "Validation: |          | 0/? [00:00<?, ?it/s]"
      ]
     },
     "metadata": {},
     "output_type": "display_data"
    },
    {
     "data": {
      "application/vnd.jupyter.widget-view+json": {
       "model_id": "11e9d5d87e1c418ca0c953b5247a3558",
       "version_major": 2,
       "version_minor": 0
      },
      "text/plain": [
       "Validation: |          | 0/? [00:00<?, ?it/s]"
      ]
     },
     "metadata": {},
     "output_type": "display_data"
    },
    {
     "data": {
      "application/vnd.jupyter.widget-view+json": {
       "model_id": "308a84480cad40b9ad68fefccdaca3cb",
       "version_major": 2,
       "version_minor": 0
      },
      "text/plain": [
       "Validation: |          | 0/? [00:00<?, ?it/s]"
      ]
     },
     "metadata": {},
     "output_type": "display_data"
    },
    {
     "data": {
      "application/vnd.jupyter.widget-view+json": {
       "model_id": "0d5f7954f02b401a9555252b85029c20",
       "version_major": 2,
       "version_minor": 0
      },
      "text/plain": [
       "Validation: |          | 0/? [00:00<?, ?it/s]"
      ]
     },
     "metadata": {},
     "output_type": "display_data"
    },
    {
     "data": {
      "application/vnd.jupyter.widget-view+json": {
       "model_id": "291e391c6ce34cccb9e9f4fbb6b11585",
       "version_major": 2,
       "version_minor": 0
      },
      "text/plain": [
       "Validation: |          | 0/? [00:00<?, ?it/s]"
      ]
     },
     "metadata": {},
     "output_type": "display_data"
    },
    {
     "data": {
      "application/vnd.jupyter.widget-view+json": {
       "model_id": "ee531a1622774d47b4a547b99fbe7973",
       "version_major": 2,
       "version_minor": 0
      },
      "text/plain": [
       "Validation: |          | 0/? [00:00<?, ?it/s]"
      ]
     },
     "metadata": {},
     "output_type": "display_data"
    },
    {
     "data": {
      "application/vnd.jupyter.widget-view+json": {
       "model_id": "c2fe1b2f24cc452ea639f4fdb75670a3",
       "version_major": 2,
       "version_minor": 0
      },
      "text/plain": [
       "Validation: |          | 0/? [00:00<?, ?it/s]"
      ]
     },
     "metadata": {},
     "output_type": "display_data"
    },
    {
     "data": {
      "application/vnd.jupyter.widget-view+json": {
       "model_id": "6fa180fa8bb04fba8eeba27bad8ff269",
       "version_major": 2,
       "version_minor": 0
      },
      "text/plain": [
       "Validation: |          | 0/? [00:00<?, ?it/s]"
      ]
     },
     "metadata": {},
     "output_type": "display_data"
    },
    {
     "data": {
      "application/vnd.jupyter.widget-view+json": {
       "model_id": "c5e7c25afa31410781e5a3c4d1815215",
       "version_major": 2,
       "version_minor": 0
      },
      "text/plain": [
       "Validation: |          | 0/? [00:00<?, ?it/s]"
      ]
     },
     "metadata": {},
     "output_type": "display_data"
    },
    {
     "data": {
      "application/vnd.jupyter.widget-view+json": {
       "model_id": "f777e4c6f7e149958ad39926a1c01809",
       "version_major": 2,
       "version_minor": 0
      },
      "text/plain": [
       "Validation: |          | 0/? [00:00<?, ?it/s]"
      ]
     },
     "metadata": {},
     "output_type": "display_data"
    },
    {
     "data": {
      "application/vnd.jupyter.widget-view+json": {
       "model_id": "b20d6f379f454cd7a022c27b190d060e",
       "version_major": 2,
       "version_minor": 0
      },
      "text/plain": [
       "Validation: |          | 0/? [00:00<?, ?it/s]"
      ]
     },
     "metadata": {},
     "output_type": "display_data"
    },
    {
     "data": {
      "application/vnd.jupyter.widget-view+json": {
       "model_id": "f3c0bdc21d4c44b7adc9045bb9a3daa1",
       "version_major": 2,
       "version_minor": 0
      },
      "text/plain": [
       "Validation: |          | 0/? [00:00<?, ?it/s]"
      ]
     },
     "metadata": {},
     "output_type": "display_data"
    },
    {
     "data": {
      "application/vnd.jupyter.widget-view+json": {
       "model_id": "d513859c9491477f853548029c6ed88c",
       "version_major": 2,
       "version_minor": 0
      },
      "text/plain": [
       "Validation: |          | 0/? [00:00<?, ?it/s]"
      ]
     },
     "metadata": {},
     "output_type": "display_data"
    },
    {
     "data": {
      "application/vnd.jupyter.widget-view+json": {
       "model_id": "6e874b2a0fd64ab9b4786f93a82c55c0",
       "version_major": 2,
       "version_minor": 0
      },
      "text/plain": [
       "Validation: |          | 0/? [00:00<?, ?it/s]"
      ]
     },
     "metadata": {},
     "output_type": "display_data"
    },
    {
     "data": {
      "application/vnd.jupyter.widget-view+json": {
       "model_id": "7bb088d0562641c0a617901e0d6a4ecc",
       "version_major": 2,
       "version_minor": 0
      },
      "text/plain": [
       "Validation: |          | 0/? [00:00<?, ?it/s]"
      ]
     },
     "metadata": {},
     "output_type": "display_data"
    },
    {
     "data": {
      "application/vnd.jupyter.widget-view+json": {
       "model_id": "3769dd678e0c46e58aa29d4a99c0c057",
       "version_major": 2,
       "version_minor": 0
      },
      "text/plain": [
       "Validation: |          | 0/? [00:00<?, ?it/s]"
      ]
     },
     "metadata": {},
     "output_type": "display_data"
    },
    {
     "data": {
      "application/vnd.jupyter.widget-view+json": {
       "model_id": "fe6261573e7243dcaae368e3ca7d7d70",
       "version_major": 2,
       "version_minor": 0
      },
      "text/plain": [
       "Validation: |          | 0/? [00:00<?, ?it/s]"
      ]
     },
     "metadata": {},
     "output_type": "display_data"
    },
    {
     "data": {
      "application/vnd.jupyter.widget-view+json": {
       "model_id": "54c63c6d4b244b2185396d7f33a6cd38",
       "version_major": 2,
       "version_minor": 0
      },
      "text/plain": [
       "Validation: |          | 0/? [00:00<?, ?it/s]"
      ]
     },
     "metadata": {},
     "output_type": "display_data"
    },
    {
     "data": {
      "application/vnd.jupyter.widget-view+json": {
       "model_id": "e409138752004a8f853e559e03db00c9",
       "version_major": 2,
       "version_minor": 0
      },
      "text/plain": [
       "Validation: |          | 0/? [00:00<?, ?it/s]"
      ]
     },
     "metadata": {},
     "output_type": "display_data"
    },
    {
     "data": {
      "application/vnd.jupyter.widget-view+json": {
       "model_id": "8d731455c55f47f0b2de4c4bd46e6190",
       "version_major": 2,
       "version_minor": 0
      },
      "text/plain": [
       "Validation: |          | 0/? [00:00<?, ?it/s]"
      ]
     },
     "metadata": {},
     "output_type": "display_data"
    },
    {
     "data": {
      "application/vnd.jupyter.widget-view+json": {
       "model_id": "4bcea3f211224a7ea3495a456c18a695",
       "version_major": 2,
       "version_minor": 0
      },
      "text/plain": [
       "Validation: |          | 0/? [00:00<?, ?it/s]"
      ]
     },
     "metadata": {},
     "output_type": "display_data"
    },
    {
     "data": {
      "application/vnd.jupyter.widget-view+json": {
       "model_id": "daae1b318427400db7d0bd6a73010a6e",
       "version_major": 2,
       "version_minor": 0
      },
      "text/plain": [
       "Validation: |          | 0/? [00:00<?, ?it/s]"
      ]
     },
     "metadata": {},
     "output_type": "display_data"
    },
    {
     "data": {
      "application/vnd.jupyter.widget-view+json": {
       "model_id": "f40cc9b81d5b4d8e92a5d8f73b371e1d",
       "version_major": 2,
       "version_minor": 0
      },
      "text/plain": [
       "Validation: |          | 0/? [00:00<?, ?it/s]"
      ]
     },
     "metadata": {},
     "output_type": "display_data"
    },
    {
     "data": {
      "application/vnd.jupyter.widget-view+json": {
       "model_id": "ed2f311405e94733b3857c1c2ee3cff6",
       "version_major": 2,
       "version_minor": 0
      },
      "text/plain": [
       "Validation: |          | 0/? [00:00<?, ?it/s]"
      ]
     },
     "metadata": {},
     "output_type": "display_data"
    },
    {
     "data": {
      "application/vnd.jupyter.widget-view+json": {
       "model_id": "5f9a40c6757448c385bfd200e4179e0a",
       "version_major": 2,
       "version_minor": 0
      },
      "text/plain": [
       "Validation: |          | 0/? [00:00<?, ?it/s]"
      ]
     },
     "metadata": {},
     "output_type": "display_data"
    },
    {
     "data": {
      "application/vnd.jupyter.widget-view+json": {
       "model_id": "8af58422a91c4e39b71d7e817e36076a",
       "version_major": 2,
       "version_minor": 0
      },
      "text/plain": [
       "Validation: |          | 0/? [00:00<?, ?it/s]"
      ]
     },
     "metadata": {},
     "output_type": "display_data"
    },
    {
     "data": {
      "application/vnd.jupyter.widget-view+json": {
       "model_id": "8b0c99464f4c4689904884a1097a3300",
       "version_major": 2,
       "version_minor": 0
      },
      "text/plain": [
       "Validation: |          | 0/? [00:00<?, ?it/s]"
      ]
     },
     "metadata": {},
     "output_type": "display_data"
    },
    {
     "data": {
      "application/vnd.jupyter.widget-view+json": {
       "model_id": "1c738619c8eb4a18909df6d5e740852e",
       "version_major": 2,
       "version_minor": 0
      },
      "text/plain": [
       "Validation: |          | 0/? [00:00<?, ?it/s]"
      ]
     },
     "metadata": {},
     "output_type": "display_data"
    },
    {
     "name": "stderr",
     "output_type": "stream",
     "text": [
      "`Trainer.fit` stopped: `max_steps=500` reached.\n",
      "Trainer already configured with model summary callbacks: [<class 'pytorch_lightning.callbacks.model_summary.ModelSummary'>]. Skipping setting a default `ModelSummary` callback.\n",
      "GPU available: True (cuda), used: True\n",
      "TPU available: False, using: 0 TPU cores\n",
      "HPU available: False, using: 0 HPUs\n",
      "LOCAL_RANK: 0 - CUDA_VISIBLE_DEVICES: [0]\n"
     ]
    },
    {
     "name": "stdout",
     "output_type": "stream",
     "text": [
      "train_loss: 0.29304\n",
      "valid_loss: 0.23227\n"
     ]
    },
    {
     "data": {
      "application/vnd.jupyter.widget-view+json": {
       "model_id": "0965fb4340f24cf98f02ff8899210bfa",
       "version_major": 2,
       "version_minor": 0
      },
      "text/plain": [
       "Predicting: |          | 0/? [00:00<?, ?it/s]"
      ]
     },
     "metadata": {},
     "output_type": "display_data"
    },
    {
     "name": "stderr",
     "output_type": "stream",
     "text": [
      "/home/kemove/git/neuralforecast/neuralforecast/core.py:210: FutureWarning: In a future version the predictions will have the id as a column. You can set the `NIXTLA_ID_AS_COL` environment variable to adopt the new behavior and to suppress this warning.\n",
      "  warnings.warn(\n"
     ]
    },
    {
     "name": "stdout",
     "output_type": "stream",
     "text": [
      "training MAE:\n"
     ]
    },
    {
     "data": {
      "text/html": [
       "<div>\n",
       "<style scoped>\n",
       "    .dataframe tbody tr th:only-of-type {\n",
       "        vertical-align: middle;\n",
       "    }\n",
       "\n",
       "    .dataframe tbody tr th {\n",
       "        vertical-align: top;\n",
       "    }\n",
       "\n",
       "    .dataframe thead th {\n",
       "        text-align: right;\n",
       "    }\n",
       "</style>\n",
       "<table border=\"1\" class=\"dataframe\">\n",
       "  <thead>\n",
       "    <tr style=\"text-align: right;\">\n",
       "      <th></th>\n",
       "      <th>Autoformer</th>\n",
       "      <th>best_model</th>\n",
       "    </tr>\n",
       "    <tr>\n",
       "      <th>unique_id</th>\n",
       "      <th></th>\n",
       "      <th></th>\n",
       "    </tr>\n",
       "  </thead>\n",
       "  <tbody>\n",
       "    <tr>\n",
       "      <th>399673</th>\n",
       "      <td>0.542566</td>\n",
       "      <td>Autoformer</td>\n",
       "    </tr>\n",
       "  </tbody>\n",
       "</table>\n",
       "</div>"
      ],
      "text/plain": [
       "           Autoformer  best_model\n",
       "unique_id                        \n",
       "399673       0.542566  Autoformer"
      ]
     },
     "metadata": {},
     "output_type": "display_data"
    },
    {
     "name": "stdout",
     "output_type": "stream",
     "text": [
      "validation MAE:\n"
     ]
    },
    {
     "data": {
      "text/html": [
       "<div>\n",
       "<style scoped>\n",
       "    .dataframe tbody tr th:only-of-type {\n",
       "        vertical-align: middle;\n",
       "    }\n",
       "\n",
       "    .dataframe tbody tr th {\n",
       "        vertical-align: top;\n",
       "    }\n",
       "\n",
       "    .dataframe thead th {\n",
       "        text-align: right;\n",
       "    }\n",
       "</style>\n",
       "<table border=\"1\" class=\"dataframe\">\n",
       "  <thead>\n",
       "    <tr style=\"text-align: right;\">\n",
       "      <th></th>\n",
       "      <th>Autoformer</th>\n",
       "      <th>best_model</th>\n",
       "    </tr>\n",
       "    <tr>\n",
       "      <th>unique_id</th>\n",
       "      <th></th>\n",
       "      <th></th>\n",
       "    </tr>\n",
       "  </thead>\n",
       "  <tbody>\n",
       "    <tr>\n",
       "      <th>399673</th>\n",
       "      <td>0.304587</td>\n",
       "      <td>Autoformer</td>\n",
       "    </tr>\n",
       "  </tbody>\n",
       "</table>\n",
       "</div>"
      ],
      "text/plain": [
       "           Autoformer  best_model\n",
       "unique_id                        \n",
       "399673       0.304587  Autoformer"
      ]
     },
     "metadata": {},
     "output_type": "display_data"
    }
   ],
   "source": [
    "train_and_evaluate(model, df_train)"
   ]
  },
  {
   "cell_type": "code",
   "execution_count": 34,
   "metadata": {},
   "outputs": [
    {
     "data": {
      "text/plain": [
       "{'train_loss': tensor(0.3383),\n",
       " 'train_loss_step': tensor(0.3383),\n",
       " 'train_loss_epoch': tensor(0.3383),\n",
       " 'valid_loss': tensor(0.2603),\n",
       " 'ptl/val_loss': tensor(0.2603)}"
      ]
     },
     "execution_count": 34,
     "metadata": {},
     "output_type": "execute_result"
    }
   ],
   "source": [
    "nf.models[0].metrics"
   ]
  },
  {
   "cell_type": "code",
   "execution_count": 35,
   "metadata": {},
   "outputs": [],
   "source": [
    "metrics = nf.models[0].metrics"
   ]
  },
  {
   "cell_type": "code",
   "execution_count": 36,
   "metadata": {},
   "outputs": [
    {
     "data": {
      "text/plain": [
       "(0.33832964301109314, 0.2602823078632355)"
      ]
     },
     "execution_count": 36,
     "metadata": {},
     "output_type": "execute_result"
    }
   ],
   "source": [
    "float(metrics[\"train_loss\"]), float(metrics[\"valid_loss\"])"
   ]
  },
  {
   "cell_type": "code",
   "execution_count": 37,
   "metadata": {},
   "outputs": [
    {
     "data": {
      "text/plain": [
       "(0.32477930188179016, 0.2602611184120178)"
      ]
     },
     "execution_count": 37,
     "metadata": {},
     "output_type": "execute_result"
    }
   ],
   "source": [
    "train_losses = nf.models[0].train_trajectories\n",
    "valid_losses = nf.models[0].valid_trajectories\n",
    "min(train_losses, key=lambda x: x[1])[1], min(valid_losses, key=lambda x: x[1])[1]"
   ]
  },
  {
   "cell_type": "code",
   "execution_count": 38,
   "metadata": {},
   "outputs": [
    {
     "name": "stderr",
     "output_type": "stream",
     "text": [
      "Trainer already configured with model summary callbacks: [<class 'pytorch_lightning.callbacks.model_summary.ModelSummary'>]. Skipping setting a default `ModelSummary` callback.\n"
     ]
    },
    {
     "name": "stderr",
     "output_type": "stream",
     "text": [
      "GPU available: True (cuda), used: True\n",
      "TPU available: False, using: 0 TPU cores\n",
      "HPU available: False, using: 0 HPUs\n",
      "LOCAL_RANK: 0 - CUDA_VISIBLE_DEVICES: [0]\n"
     ]
    },
    {
     "data": {
      "application/vnd.jupyter.widget-view+json": {
       "model_id": "2dc555db56424387987afe8e8b381a5a",
       "version_major": 2,
       "version_minor": 0
      },
      "text/plain": [
       "Predicting: |                                                                                                 …"
      ]
     },
     "metadata": {},
     "output_type": "display_data"
    },
    {
     "name": "stderr",
     "output_type": "stream",
     "text": [
      "/home/kemove/git/neuralforecast/neuralforecast/core.py:210: FutureWarning: In a future version the predictions will have the id as a column. You can set the `NIXTLA_ID_AS_COL` environment variable to adopt the new behavior and to suppress this warning.\n",
      "  warnings.warn(\n"
     ]
    },
    {
     "data": {
      "text/html": [
       "<div>\n",
       "<style scoped>\n",
       "    .dataframe tbody tr th:only-of-type {\n",
       "        vertical-align: middle;\n",
       "    }\n",
       "\n",
       "    .dataframe tbody tr th {\n",
       "        vertical-align: top;\n",
       "    }\n",
       "\n",
       "    .dataframe thead th {\n",
       "        text-align: right;\n",
       "    }\n",
       "</style>\n",
       "<table border=\"1\" class=\"dataframe\">\n",
       "  <thead>\n",
       "    <tr style=\"text-align: right;\">\n",
       "      <th></th>\n",
       "      <th>ds</th>\n",
       "      <th>cutoff</th>\n",
       "      <th>Autoformer</th>\n",
       "      <th>y</th>\n",
       "    </tr>\n",
       "    <tr>\n",
       "      <th>unique_id</th>\n",
       "      <th></th>\n",
       "      <th></th>\n",
       "      <th></th>\n",
       "      <th></th>\n",
       "    </tr>\n",
       "  </thead>\n",
       "  <tbody>\n",
       "    <tr>\n",
       "      <th>399673</th>\n",
       "      <td>2014-06-19</td>\n",
       "      <td>2014-06-18</td>\n",
       "      <td>-4.917983</td>\n",
       "      <td>-3.59110</td>\n",
       "    </tr>\n",
       "    <tr>\n",
       "      <th>399673</th>\n",
       "      <td>2014-06-20</td>\n",
       "      <td>2014-06-18</td>\n",
       "      <td>1.493997</td>\n",
       "      <td>1.08187</td>\n",
       "    </tr>\n",
       "    <tr>\n",
       "      <th>399673</th>\n",
       "      <td>2014-06-23</td>\n",
       "      <td>2014-06-18</td>\n",
       "      <td>5.707462</td>\n",
       "      <td>2.25177</td>\n",
       "    </tr>\n",
       "    <tr>\n",
       "      <th>399673</th>\n",
       "      <td>2014-06-24</td>\n",
       "      <td>2014-06-18</td>\n",
       "      <td>1.686716</td>\n",
       "      <td>0.54677</td>\n",
       "    </tr>\n",
       "    <tr>\n",
       "      <th>399673</th>\n",
       "      <td>2014-06-25</td>\n",
       "      <td>2014-06-18</td>\n",
       "      <td>-3.785605</td>\n",
       "      <td>-0.64595</td>\n",
       "    </tr>\n",
       "    <tr>\n",
       "      <th>...</th>\n",
       "      <td>...</td>\n",
       "      <td>...</td>\n",
       "      <td>...</td>\n",
       "      <td>...</td>\n",
       "    </tr>\n",
       "    <tr>\n",
       "      <th>399673</th>\n",
       "      <td>2024-09-12</td>\n",
       "      <td>2024-08-21</td>\n",
       "      <td>0.314536</td>\n",
       "      <td>-0.15440</td>\n",
       "    </tr>\n",
       "    <tr>\n",
       "      <th>399673</th>\n",
       "      <td>2024-09-13</td>\n",
       "      <td>2024-08-21</td>\n",
       "      <td>-0.474801</td>\n",
       "      <td>-0.93710</td>\n",
       "    </tr>\n",
       "    <tr>\n",
       "      <th>399673</th>\n",
       "      <td>2024-09-18</td>\n",
       "      <td>2024-08-21</td>\n",
       "      <td>-0.373043</td>\n",
       "      <td>0.09340</td>\n",
       "    </tr>\n",
       "    <tr>\n",
       "      <th>399673</th>\n",
       "      <td>2024-09-19</td>\n",
       "      <td>2024-08-21</td>\n",
       "      <td>0.909055</td>\n",
       "      <td>0.72247</td>\n",
       "    </tr>\n",
       "    <tr>\n",
       "      <th>399673</th>\n",
       "      <td>2024-09-20</td>\n",
       "      <td>2024-08-21</td>\n",
       "      <td>-1.001427</td>\n",
       "      <td>-0.58561</td>\n",
       "    </tr>\n",
       "  </tbody>\n",
       "</table>\n",
       "<p>49580 rows × 4 columns</p>\n",
       "</div>"
      ],
      "text/plain": [
       "                  ds     cutoff  Autoformer        y\n",
       "unique_id                                           \n",
       "399673    2014-06-19 2014-06-18   -4.917983 -3.59110\n",
       "399673    2014-06-20 2014-06-18    1.493997  1.08187\n",
       "399673    2014-06-23 2014-06-18    5.707462  2.25177\n",
       "399673    2014-06-24 2014-06-18    1.686716  0.54677\n",
       "399673    2014-06-25 2014-06-18   -3.785605 -0.64595\n",
       "...              ...        ...         ...      ...\n",
       "399673    2024-09-12 2024-08-21    0.314536 -0.15440\n",
       "399673    2024-09-13 2024-08-21   -0.474801 -0.93710\n",
       "399673    2024-09-18 2024-08-21   -0.373043  0.09340\n",
       "399673    2024-09-19 2024-08-21    0.909055  0.72247\n",
       "399673    2024-09-20 2024-08-21   -1.001427 -0.58561\n",
       "\n",
       "[49580 rows x 4 columns]"
      ]
     },
     "execution_count": 38,
     "metadata": {},
     "output_type": "execute_result"
    }
   ],
   "source": [
    "forecast = nf.predict_insample()\n",
    "forecast"
   ]
  },
  {
   "cell_type": "code",
   "execution_count": 39,
   "metadata": {},
   "outputs": [],
   "source": [
    "forecast.reset_index(inplace=True)"
   ]
  },
  {
   "cell_type": "code",
   "execution_count": 41,
   "metadata": {},
   "outputs": [
    {
     "data": {
      "text/html": [
       "<div>\n",
       "<style scoped>\n",
       "    .dataframe tbody tr th:only-of-type {\n",
       "        vertical-align: middle;\n",
       "    }\n",
       "\n",
       "    .dataframe tbody tr th {\n",
       "        vertical-align: top;\n",
       "    }\n",
       "\n",
       "    .dataframe thead th {\n",
       "        text-align: right;\n",
       "    }\n",
       "</style>\n",
       "<table border=\"1\" class=\"dataframe\">\n",
       "  <thead>\n",
       "    <tr style=\"text-align: right;\">\n",
       "      <th></th>\n",
       "      <th>Autoformer</th>\n",
       "      <th>best_model</th>\n",
       "    </tr>\n",
       "    <tr>\n",
       "      <th>unique_id</th>\n",
       "      <th></th>\n",
       "      <th></th>\n",
       "    </tr>\n",
       "  </thead>\n",
       "  <tbody>\n",
       "    <tr>\n",
       "      <th>399673</th>\n",
       "      <td>0.612319</td>\n",
       "      <td>Autoformer</td>\n",
       "    </tr>\n",
       "  </tbody>\n",
       "</table>\n",
       "</div>"
      ],
      "text/plain": [
       "           Autoformer  best_model\n",
       "unique_id                        \n",
       "399673       0.612319  Autoformer"
      ]
     },
     "execution_count": 41,
     "metadata": {},
     "output_type": "execute_result"
    }
   ],
   "source": [
    "evaluation_df = evaluate_cross_validation(forecast[:-val_size], mae)\n",
    "# evaluation_df.head()\n",
    "evaluation_df"
   ]
  },
  {
   "cell_type": "code",
   "execution_count": 42,
   "metadata": {},
   "outputs": [
    {
     "data": {
      "text/html": [
       "<div>\n",
       "<style scoped>\n",
       "    .dataframe tbody tr th:only-of-type {\n",
       "        vertical-align: middle;\n",
       "    }\n",
       "\n",
       "    .dataframe tbody tr th {\n",
       "        vertical-align: top;\n",
       "    }\n",
       "\n",
       "    .dataframe thead th {\n",
       "        text-align: right;\n",
       "    }\n",
       "</style>\n",
       "<table border=\"1\" class=\"dataframe\">\n",
       "  <thead>\n",
       "    <tr style=\"text-align: right;\">\n",
       "      <th></th>\n",
       "      <th>Autoformer</th>\n",
       "      <th>best_model</th>\n",
       "    </tr>\n",
       "    <tr>\n",
       "      <th>unique_id</th>\n",
       "      <th></th>\n",
       "      <th></th>\n",
       "    </tr>\n",
       "  </thead>\n",
       "  <tbody>\n",
       "    <tr>\n",
       "      <th>399673</th>\n",
       "      <td>0.348877</td>\n",
       "      <td>Autoformer</td>\n",
       "    </tr>\n",
       "  </tbody>\n",
       "</table>\n",
       "</div>"
      ],
      "text/plain": [
       "           Autoformer  best_model\n",
       "unique_id                        \n",
       "399673       0.348877  Autoformer"
      ]
     },
     "execution_count": 42,
     "metadata": {},
     "output_type": "execute_result"
    }
   ],
   "source": [
    "# exclude the last 200 elements of `forecast`\n",
    "evaluation_df = evaluate_cross_validation(forecast[-val_size:], mae)\n",
    "evaluation_df"
   ]
  },
  {
   "cell_type": "markdown",
   "metadata": {},
   "source": [
    "## DeepAR (0.5) (F)"
   ]
  },
  {
   "cell_type": "code",
   "execution_count": 54,
   "metadata": {},
   "outputs": [
    {
     "name": "stderr",
     "output_type": "stream",
     "text": [
      "Seed set to 1\n"
     ]
    }
   ],
   "source": [
    "model = DeepAR(\n",
    "    h=20,\n",
    "    input_size=48,\n",
    "    lstm_n_layers=3,\n",
    "    trajectory_samples=100,\n",
    "    loss=DistributionLoss(distribution=\"Normal\", level=[80, 90], return_params=False),\n",
    "    # loss=MAE(),\n",
    "    learning_rate=0.005,\n",
    "    futr_exog_list=exog,\n",
    "    max_steps=500,\n",
    "    val_check_steps=5,\n",
    "    early_stop_patience_steps=-1,\n",
    "    enable_progress_bar=True,\n",
    ")"
   ]
  },
  {
   "cell_type": "code",
   "execution_count": 55,
   "metadata": {},
   "outputs": [
    {
     "name": "stderr",
     "output_type": "stream",
     "text": [
      "GPU available: True (cuda), used: True\n"
     ]
    },
    {
     "name": "stderr",
     "output_type": "stream",
     "text": [
      "TPU available: False, using: 0 TPU cores\n",
      "HPU available: False, using: 0 HPUs\n",
      "LOCAL_RANK: 0 - CUDA_VISIBLE_DEVICES: [0]\n",
      "\n",
      "  | Name         | Type             | Params | Mode \n",
      "----------------------------------------------------------\n",
      "0 | loss         | DistributionLoss | 5      | train\n",
      "1 | valid_loss   | MQLoss           | 5      | train\n",
      "2 | padder_train | ConstantPad1d    | 0      | train\n",
      "3 | scaler       | TemporalNorm     | 0      | train\n",
      "4 | hist_encoder | LSTM             | 336 K  | train\n",
      "5 | decoder      | Decoder          | 258    | train\n",
      "----------------------------------------------------------\n",
      "337 K     Trainable params\n",
      "10        Non-trainable params\n",
      "337 K     Total params\n",
      "1.349     Total estimated model params size (MB)\n",
      "8         Modules in train mode\n",
      "0         Modules in eval mode\n"
     ]
    },
    {
     "data": {
      "application/vnd.jupyter.widget-view+json": {
       "model_id": "7c99946e23a8415b8dbfc8f6f1d1afa8",
       "version_major": 2,
       "version_minor": 0
      },
      "text/plain": [
       "Sanity Checking: |          | 0/? [00:00<?, ?it/s]"
      ]
     },
     "metadata": {},
     "output_type": "display_data"
    },
    {
     "data": {
      "application/vnd.jupyter.widget-view+json": {
       "model_id": "0ad770d92b0e4284b14ab6f0934266e7",
       "version_major": 2,
       "version_minor": 0
      },
      "text/plain": [
       "Training: |          | 0/? [00:00<?, ?it/s]"
      ]
     },
     "metadata": {},
     "output_type": "display_data"
    },
    {
     "data": {
      "application/vnd.jupyter.widget-view+json": {
       "model_id": "a29a6f28ed8d40caab0969af196d8054",
       "version_major": 2,
       "version_minor": 0
      },
      "text/plain": [
       "Validation: |          | 0/? [00:00<?, ?it/s]"
      ]
     },
     "metadata": {},
     "output_type": "display_data"
    },
    {
     "data": {
      "application/vnd.jupyter.widget-view+json": {
       "model_id": "7ccc9e2099084f5f8aaf0e74459fa13f",
       "version_major": 2,
       "version_minor": 0
      },
      "text/plain": [
       "Validation: |          | 0/? [00:00<?, ?it/s]"
      ]
     },
     "metadata": {},
     "output_type": "display_data"
    },
    {
     "data": {
      "application/vnd.jupyter.widget-view+json": {
       "model_id": "8c6a9141973e453888766cfe6443dea5",
       "version_major": 2,
       "version_minor": 0
      },
      "text/plain": [
       "Validation: |          | 0/? [00:00<?, ?it/s]"
      ]
     },
     "metadata": {},
     "output_type": "display_data"
    },
    {
     "data": {
      "application/vnd.jupyter.widget-view+json": {
       "model_id": "100fe3120c5640dca17b1eb3aaa1b548",
       "version_major": 2,
       "version_minor": 0
      },
      "text/plain": [
       "Validation: |          | 0/? [00:00<?, ?it/s]"
      ]
     },
     "metadata": {},
     "output_type": "display_data"
    },
    {
     "data": {
      "application/vnd.jupyter.widget-view+json": {
       "model_id": "89ee4461c8f34e3788fd5d53b6522bb4",
       "version_major": 2,
       "version_minor": 0
      },
      "text/plain": [
       "Validation: |          | 0/? [00:00<?, ?it/s]"
      ]
     },
     "metadata": {},
     "output_type": "display_data"
    },
    {
     "data": {
      "application/vnd.jupyter.widget-view+json": {
       "model_id": "067e7bcd9534452393514111e001b768",
       "version_major": 2,
       "version_minor": 0
      },
      "text/plain": [
       "Validation: |          | 0/? [00:00<?, ?it/s]"
      ]
     },
     "metadata": {},
     "output_type": "display_data"
    },
    {
     "data": {
      "application/vnd.jupyter.widget-view+json": {
       "model_id": "f51abb1a71be4d4eaf7cba767710bf86",
       "version_major": 2,
       "version_minor": 0
      },
      "text/plain": [
       "Validation: |          | 0/? [00:00<?, ?it/s]"
      ]
     },
     "metadata": {},
     "output_type": "display_data"
    },
    {
     "data": {
      "application/vnd.jupyter.widget-view+json": {
       "model_id": "cee0c7f3f98744d4b14849e4a5090c61",
       "version_major": 2,
       "version_minor": 0
      },
      "text/plain": [
       "Validation: |          | 0/? [00:00<?, ?it/s]"
      ]
     },
     "metadata": {},
     "output_type": "display_data"
    },
    {
     "data": {
      "application/vnd.jupyter.widget-view+json": {
       "model_id": "4fd5da219182413bbed2a2f8942681f3",
       "version_major": 2,
       "version_minor": 0
      },
      "text/plain": [
       "Validation: |          | 0/? [00:00<?, ?it/s]"
      ]
     },
     "metadata": {},
     "output_type": "display_data"
    },
    {
     "data": {
      "application/vnd.jupyter.widget-view+json": {
       "model_id": "638b65f4e3264ec69747195ea7f86f08",
       "version_major": 2,
       "version_minor": 0
      },
      "text/plain": [
       "Validation: |          | 0/? [00:00<?, ?it/s]"
      ]
     },
     "metadata": {},
     "output_type": "display_data"
    },
    {
     "data": {
      "application/vnd.jupyter.widget-view+json": {
       "model_id": "423ce3eeba5042368f8410a920fc93ac",
       "version_major": 2,
       "version_minor": 0
      },
      "text/plain": [
       "Validation: |          | 0/? [00:00<?, ?it/s]"
      ]
     },
     "metadata": {},
     "output_type": "display_data"
    },
    {
     "data": {
      "application/vnd.jupyter.widget-view+json": {
       "model_id": "10e7a0752ceb43ffbd1e6c1d7a6e9024",
       "version_major": 2,
       "version_minor": 0
      },
      "text/plain": [
       "Validation: |          | 0/? [00:00<?, ?it/s]"
      ]
     },
     "metadata": {},
     "output_type": "display_data"
    },
    {
     "data": {
      "application/vnd.jupyter.widget-view+json": {
       "model_id": "5ca8ca2649d443e5a44312584ee23027",
       "version_major": 2,
       "version_minor": 0
      },
      "text/plain": [
       "Validation: |          | 0/? [00:00<?, ?it/s]"
      ]
     },
     "metadata": {},
     "output_type": "display_data"
    },
    {
     "data": {
      "application/vnd.jupyter.widget-view+json": {
       "model_id": "cd42b69bd6db43649fb367c066bf5789",
       "version_major": 2,
       "version_minor": 0
      },
      "text/plain": [
       "Validation: |          | 0/? [00:00<?, ?it/s]"
      ]
     },
     "metadata": {},
     "output_type": "display_data"
    },
    {
     "data": {
      "application/vnd.jupyter.widget-view+json": {
       "model_id": "6c37c6f2adad49809fab0cba32c58d25",
       "version_major": 2,
       "version_minor": 0
      },
      "text/plain": [
       "Validation: |          | 0/? [00:00<?, ?it/s]"
      ]
     },
     "metadata": {},
     "output_type": "display_data"
    },
    {
     "data": {
      "application/vnd.jupyter.widget-view+json": {
       "model_id": "9de0597099564c3789e6d6c1a55026cc",
       "version_major": 2,
       "version_minor": 0
      },
      "text/plain": [
       "Validation: |          | 0/? [00:00<?, ?it/s]"
      ]
     },
     "metadata": {},
     "output_type": "display_data"
    },
    {
     "data": {
      "application/vnd.jupyter.widget-view+json": {
       "model_id": "d38c487a2c604c82a5ddc7e7dda1dc4a",
       "version_major": 2,
       "version_minor": 0
      },
      "text/plain": [
       "Validation: |          | 0/? [00:00<?, ?it/s]"
      ]
     },
     "metadata": {},
     "output_type": "display_data"
    },
    {
     "data": {
      "application/vnd.jupyter.widget-view+json": {
       "model_id": "8671cdb4b60f422c98824dba45fc519f",
       "version_major": 2,
       "version_minor": 0
      },
      "text/plain": [
       "Validation: |          | 0/? [00:00<?, ?it/s]"
      ]
     },
     "metadata": {},
     "output_type": "display_data"
    },
    {
     "data": {
      "application/vnd.jupyter.widget-view+json": {
       "model_id": "5a69a14fe0d54f7ebce13539e4befe52",
       "version_major": 2,
       "version_minor": 0
      },
      "text/plain": [
       "Validation: |          | 0/? [00:00<?, ?it/s]"
      ]
     },
     "metadata": {},
     "output_type": "display_data"
    },
    {
     "data": {
      "application/vnd.jupyter.widget-view+json": {
       "model_id": "0cd74255e28d4a72a9568f2a76ce13d3",
       "version_major": 2,
       "version_minor": 0
      },
      "text/plain": [
       "Validation: |          | 0/? [00:00<?, ?it/s]"
      ]
     },
     "metadata": {},
     "output_type": "display_data"
    },
    {
     "data": {
      "application/vnd.jupyter.widget-view+json": {
       "model_id": "940b8771ed744252a07652991727937e",
       "version_major": 2,
       "version_minor": 0
      },
      "text/plain": [
       "Validation: |          | 0/? [00:00<?, ?it/s]"
      ]
     },
     "metadata": {},
     "output_type": "display_data"
    },
    {
     "data": {
      "application/vnd.jupyter.widget-view+json": {
       "model_id": "96ff2370680642d5b190ad67776b1418",
       "version_major": 2,
       "version_minor": 0
      },
      "text/plain": [
       "Validation: |          | 0/? [00:00<?, ?it/s]"
      ]
     },
     "metadata": {},
     "output_type": "display_data"
    },
    {
     "data": {
      "application/vnd.jupyter.widget-view+json": {
       "model_id": "5277a69fd139468ba29066e07c86c9bf",
       "version_major": 2,
       "version_minor": 0
      },
      "text/plain": [
       "Validation: |          | 0/? [00:00<?, ?it/s]"
      ]
     },
     "metadata": {},
     "output_type": "display_data"
    },
    {
     "data": {
      "application/vnd.jupyter.widget-view+json": {
       "model_id": "7b136143040544fd9eaa24b06b9fee2a",
       "version_major": 2,
       "version_minor": 0
      },
      "text/plain": [
       "Validation: |          | 0/? [00:00<?, ?it/s]"
      ]
     },
     "metadata": {},
     "output_type": "display_data"
    },
    {
     "data": {
      "application/vnd.jupyter.widget-view+json": {
       "model_id": "9d1a0fa696b440d286c8025c17ecb01c",
       "version_major": 2,
       "version_minor": 0
      },
      "text/plain": [
       "Validation: |          | 0/? [00:00<?, ?it/s]"
      ]
     },
     "metadata": {},
     "output_type": "display_data"
    },
    {
     "data": {
      "application/vnd.jupyter.widget-view+json": {
       "model_id": "4b9f1c80fab34effac06360818255682",
       "version_major": 2,
       "version_minor": 0
      },
      "text/plain": [
       "Validation: |          | 0/? [00:00<?, ?it/s]"
      ]
     },
     "metadata": {},
     "output_type": "display_data"
    },
    {
     "data": {
      "application/vnd.jupyter.widget-view+json": {
       "model_id": "556eb50acfb044d1b3c2890ce0d7c7b7",
       "version_major": 2,
       "version_minor": 0
      },
      "text/plain": [
       "Validation: |          | 0/? [00:00<?, ?it/s]"
      ]
     },
     "metadata": {},
     "output_type": "display_data"
    },
    {
     "data": {
      "application/vnd.jupyter.widget-view+json": {
       "model_id": "a9a86a1237754a32804ac1c4b67c5ed2",
       "version_major": 2,
       "version_minor": 0
      },
      "text/plain": [
       "Validation: |          | 0/? [00:00<?, ?it/s]"
      ]
     },
     "metadata": {},
     "output_type": "display_data"
    },
    {
     "data": {
      "application/vnd.jupyter.widget-view+json": {
       "model_id": "f0b6bd14a7c245f58b3bd3ac55d5d36b",
       "version_major": 2,
       "version_minor": 0
      },
      "text/plain": [
       "Validation: |          | 0/? [00:00<?, ?it/s]"
      ]
     },
     "metadata": {},
     "output_type": "display_data"
    },
    {
     "data": {
      "application/vnd.jupyter.widget-view+json": {
       "model_id": "2ba92cc6abd9478bb82ecc36b6f25630",
       "version_major": 2,
       "version_minor": 0
      },
      "text/plain": [
       "Validation: |          | 0/? [00:00<?, ?it/s]"
      ]
     },
     "metadata": {},
     "output_type": "display_data"
    },
    {
     "data": {
      "application/vnd.jupyter.widget-view+json": {
       "model_id": "e38161a47edb41f0a11318ae7dcd0937",
       "version_major": 2,
       "version_minor": 0
      },
      "text/plain": [
       "Validation: |          | 0/? [00:00<?, ?it/s]"
      ]
     },
     "metadata": {},
     "output_type": "display_data"
    },
    {
     "data": {
      "application/vnd.jupyter.widget-view+json": {
       "model_id": "9ccdbfaf21774670a64a8f6d8355b5ba",
       "version_major": 2,
       "version_minor": 0
      },
      "text/plain": [
       "Validation: |          | 0/? [00:00<?, ?it/s]"
      ]
     },
     "metadata": {},
     "output_type": "display_data"
    },
    {
     "data": {
      "application/vnd.jupyter.widget-view+json": {
       "model_id": "bc512b9af60c41258f8e47d4a020a947",
       "version_major": 2,
       "version_minor": 0
      },
      "text/plain": [
       "Validation: |          | 0/? [00:00<?, ?it/s]"
      ]
     },
     "metadata": {},
     "output_type": "display_data"
    },
    {
     "data": {
      "application/vnd.jupyter.widget-view+json": {
       "model_id": "5a2934c348d64611a02a32fae590257e",
       "version_major": 2,
       "version_minor": 0
      },
      "text/plain": [
       "Validation: |          | 0/? [00:00<?, ?it/s]"
      ]
     },
     "metadata": {},
     "output_type": "display_data"
    },
    {
     "data": {
      "application/vnd.jupyter.widget-view+json": {
       "model_id": "45f2f389c2df4c7f921b81531293782d",
       "version_major": 2,
       "version_minor": 0
      },
      "text/plain": [
       "Validation: |          | 0/? [00:00<?, ?it/s]"
      ]
     },
     "metadata": {},
     "output_type": "display_data"
    },
    {
     "data": {
      "application/vnd.jupyter.widget-view+json": {
       "model_id": "3000d9b6dfc047a6820a38090a0719fb",
       "version_major": 2,
       "version_minor": 0
      },
      "text/plain": [
       "Validation: |          | 0/? [00:00<?, ?it/s]"
      ]
     },
     "metadata": {},
     "output_type": "display_data"
    },
    {
     "data": {
      "application/vnd.jupyter.widget-view+json": {
       "model_id": "e4733df65ad94a9d91c200a9687384d3",
       "version_major": 2,
       "version_minor": 0
      },
      "text/plain": [
       "Validation: |          | 0/? [00:00<?, ?it/s]"
      ]
     },
     "metadata": {},
     "output_type": "display_data"
    },
    {
     "data": {
      "application/vnd.jupyter.widget-view+json": {
       "model_id": "c5bce8368fd146a19b088f72063a8149",
       "version_major": 2,
       "version_minor": 0
      },
      "text/plain": [
       "Validation: |          | 0/? [00:00<?, ?it/s]"
      ]
     },
     "metadata": {},
     "output_type": "display_data"
    },
    {
     "data": {
      "application/vnd.jupyter.widget-view+json": {
       "model_id": "aa49212f477f422bbd242973ce1b16a0",
       "version_major": 2,
       "version_minor": 0
      },
      "text/plain": [
       "Validation: |          | 0/? [00:00<?, ?it/s]"
      ]
     },
     "metadata": {},
     "output_type": "display_data"
    },
    {
     "data": {
      "application/vnd.jupyter.widget-view+json": {
       "model_id": "463b4bc2e1f742c88097f4dc9b3b3fc3",
       "version_major": 2,
       "version_minor": 0
      },
      "text/plain": [
       "Validation: |          | 0/? [00:00<?, ?it/s]"
      ]
     },
     "metadata": {},
     "output_type": "display_data"
    },
    {
     "data": {
      "application/vnd.jupyter.widget-view+json": {
       "model_id": "c80efb7c995a49d9b6a1b5d1227c8989",
       "version_major": 2,
       "version_minor": 0
      },
      "text/plain": [
       "Validation: |          | 0/? [00:00<?, ?it/s]"
      ]
     },
     "metadata": {},
     "output_type": "display_data"
    },
    {
     "data": {
      "application/vnd.jupyter.widget-view+json": {
       "model_id": "ad0b4fa4200b49588defca5118ce5f48",
       "version_major": 2,
       "version_minor": 0
      },
      "text/plain": [
       "Validation: |          | 0/? [00:00<?, ?it/s]"
      ]
     },
     "metadata": {},
     "output_type": "display_data"
    },
    {
     "data": {
      "application/vnd.jupyter.widget-view+json": {
       "model_id": "3452832b58254148a80e324e9c67041f",
       "version_major": 2,
       "version_minor": 0
      },
      "text/plain": [
       "Validation: |          | 0/? [00:00<?, ?it/s]"
      ]
     },
     "metadata": {},
     "output_type": "display_data"
    },
    {
     "data": {
      "application/vnd.jupyter.widget-view+json": {
       "model_id": "bf3d479fb62848f3af48d3b5b5df4410",
       "version_major": 2,
       "version_minor": 0
      },
      "text/plain": [
       "Validation: |          | 0/? [00:00<?, ?it/s]"
      ]
     },
     "metadata": {},
     "output_type": "display_data"
    },
    {
     "data": {
      "application/vnd.jupyter.widget-view+json": {
       "model_id": "465059b8b3424765b785ec14b07ef3d3",
       "version_major": 2,
       "version_minor": 0
      },
      "text/plain": [
       "Validation: |          | 0/? [00:00<?, ?it/s]"
      ]
     },
     "metadata": {},
     "output_type": "display_data"
    },
    {
     "data": {
      "application/vnd.jupyter.widget-view+json": {
       "model_id": "89891d9568fa42199d16b9dc0c7bcdbb",
       "version_major": 2,
       "version_minor": 0
      },
      "text/plain": [
       "Validation: |          | 0/? [00:00<?, ?it/s]"
      ]
     },
     "metadata": {},
     "output_type": "display_data"
    },
    {
     "data": {
      "application/vnd.jupyter.widget-view+json": {
       "model_id": "9d20d557a736457ebf0c12dded2a2059",
       "version_major": 2,
       "version_minor": 0
      },
      "text/plain": [
       "Validation: |          | 0/? [00:00<?, ?it/s]"
      ]
     },
     "metadata": {},
     "output_type": "display_data"
    },
    {
     "data": {
      "application/vnd.jupyter.widget-view+json": {
       "model_id": "c2586138345c49eb9d404ae6f4f9a7db",
       "version_major": 2,
       "version_minor": 0
      },
      "text/plain": [
       "Validation: |          | 0/? [00:00<?, ?it/s]"
      ]
     },
     "metadata": {},
     "output_type": "display_data"
    },
    {
     "data": {
      "application/vnd.jupyter.widget-view+json": {
       "model_id": "09343e23ef64424a8f340df1d2c69b1a",
       "version_major": 2,
       "version_minor": 0
      },
      "text/plain": [
       "Validation: |          | 0/? [00:00<?, ?it/s]"
      ]
     },
     "metadata": {},
     "output_type": "display_data"
    },
    {
     "data": {
      "application/vnd.jupyter.widget-view+json": {
       "model_id": "8044d98c76914b4d8e5a18f1982f92b5",
       "version_major": 2,
       "version_minor": 0
      },
      "text/plain": [
       "Validation: |          | 0/? [00:00<?, ?it/s]"
      ]
     },
     "metadata": {},
     "output_type": "display_data"
    },
    {
     "data": {
      "application/vnd.jupyter.widget-view+json": {
       "model_id": "b4c236893e3e48569cda2be7a39a1586",
       "version_major": 2,
       "version_minor": 0
      },
      "text/plain": [
       "Validation: |          | 0/? [00:00<?, ?it/s]"
      ]
     },
     "metadata": {},
     "output_type": "display_data"
    },
    {
     "data": {
      "application/vnd.jupyter.widget-view+json": {
       "model_id": "4de450b7f812412eaa5ced3525246dc7",
       "version_major": 2,
       "version_minor": 0
      },
      "text/plain": [
       "Validation: |          | 0/? [00:00<?, ?it/s]"
      ]
     },
     "metadata": {},
     "output_type": "display_data"
    },
    {
     "data": {
      "application/vnd.jupyter.widget-view+json": {
       "model_id": "f6da3f92441c4ba8a3c1f67709cad7d8",
       "version_major": 2,
       "version_minor": 0
      },
      "text/plain": [
       "Validation: |          | 0/? [00:00<?, ?it/s]"
      ]
     },
     "metadata": {},
     "output_type": "display_data"
    },
    {
     "data": {
      "application/vnd.jupyter.widget-view+json": {
       "model_id": "dbf308791e8a4c799c37328daf94be9e",
       "version_major": 2,
       "version_minor": 0
      },
      "text/plain": [
       "Validation: |          | 0/? [00:00<?, ?it/s]"
      ]
     },
     "metadata": {},
     "output_type": "display_data"
    },
    {
     "data": {
      "application/vnd.jupyter.widget-view+json": {
       "model_id": "b020e46255b940cebdbf5bc19d58b33a",
       "version_major": 2,
       "version_minor": 0
      },
      "text/plain": [
       "Validation: |          | 0/? [00:00<?, ?it/s]"
      ]
     },
     "metadata": {},
     "output_type": "display_data"
    },
    {
     "data": {
      "application/vnd.jupyter.widget-view+json": {
       "model_id": "f64fc94a217744a1aa76e5cdf80b4d27",
       "version_major": 2,
       "version_minor": 0
      },
      "text/plain": [
       "Validation: |          | 0/? [00:00<?, ?it/s]"
      ]
     },
     "metadata": {},
     "output_type": "display_data"
    },
    {
     "data": {
      "application/vnd.jupyter.widget-view+json": {
       "model_id": "3f129e4d44ed4816ac03568cc0993ed6",
       "version_major": 2,
       "version_minor": 0
      },
      "text/plain": [
       "Validation: |          | 0/? [00:00<?, ?it/s]"
      ]
     },
     "metadata": {},
     "output_type": "display_data"
    },
    {
     "data": {
      "application/vnd.jupyter.widget-view+json": {
       "model_id": "7329c0c406bb416a8fcd789c5ad39ab8",
       "version_major": 2,
       "version_minor": 0
      },
      "text/plain": [
       "Validation: |          | 0/? [00:00<?, ?it/s]"
      ]
     },
     "metadata": {},
     "output_type": "display_data"
    },
    {
     "data": {
      "application/vnd.jupyter.widget-view+json": {
       "model_id": "cb8c8946837042fb9fb62e9ce8025866",
       "version_major": 2,
       "version_minor": 0
      },
      "text/plain": [
       "Validation: |          | 0/? [00:00<?, ?it/s]"
      ]
     },
     "metadata": {},
     "output_type": "display_data"
    },
    {
     "data": {
      "application/vnd.jupyter.widget-view+json": {
       "model_id": "5185b036485248c7b3292aa8db064325",
       "version_major": 2,
       "version_minor": 0
      },
      "text/plain": [
       "Validation: |          | 0/? [00:00<?, ?it/s]"
      ]
     },
     "metadata": {},
     "output_type": "display_data"
    },
    {
     "data": {
      "application/vnd.jupyter.widget-view+json": {
       "model_id": "b6bc32ce780149f9872c87de2c7694eb",
       "version_major": 2,
       "version_minor": 0
      },
      "text/plain": [
       "Validation: |          | 0/? [00:00<?, ?it/s]"
      ]
     },
     "metadata": {},
     "output_type": "display_data"
    },
    {
     "data": {
      "application/vnd.jupyter.widget-view+json": {
       "model_id": "cc62ba9a365b4bb5b863700165aa03bd",
       "version_major": 2,
       "version_minor": 0
      },
      "text/plain": [
       "Validation: |          | 0/? [00:00<?, ?it/s]"
      ]
     },
     "metadata": {},
     "output_type": "display_data"
    },
    {
     "data": {
      "application/vnd.jupyter.widget-view+json": {
       "model_id": "80b82a564a4b4704bfce2d734065c132",
       "version_major": 2,
       "version_minor": 0
      },
      "text/plain": [
       "Validation: |          | 0/? [00:00<?, ?it/s]"
      ]
     },
     "metadata": {},
     "output_type": "display_data"
    },
    {
     "data": {
      "application/vnd.jupyter.widget-view+json": {
       "model_id": "42bcb6ca94664c96ac0b2696e5eacec4",
       "version_major": 2,
       "version_minor": 0
      },
      "text/plain": [
       "Validation: |          | 0/? [00:00<?, ?it/s]"
      ]
     },
     "metadata": {},
     "output_type": "display_data"
    },
    {
     "data": {
      "application/vnd.jupyter.widget-view+json": {
       "model_id": "7dcb8c97278e4c64b9c2a653f882c9b8",
       "version_major": 2,
       "version_minor": 0
      },
      "text/plain": [
       "Validation: |          | 0/? [00:00<?, ?it/s]"
      ]
     },
     "metadata": {},
     "output_type": "display_data"
    },
    {
     "data": {
      "application/vnd.jupyter.widget-view+json": {
       "model_id": "2dec94c7210e44ffb5f540b1af4201cd",
       "version_major": 2,
       "version_minor": 0
      },
      "text/plain": [
       "Validation: |          | 0/? [00:00<?, ?it/s]"
      ]
     },
     "metadata": {},
     "output_type": "display_data"
    },
    {
     "data": {
      "application/vnd.jupyter.widget-view+json": {
       "model_id": "3f77bbe401564df29bc28bb97707b5b4",
       "version_major": 2,
       "version_minor": 0
      },
      "text/plain": [
       "Validation: |          | 0/? [00:00<?, ?it/s]"
      ]
     },
     "metadata": {},
     "output_type": "display_data"
    },
    {
     "data": {
      "application/vnd.jupyter.widget-view+json": {
       "model_id": "94bf6ee685ea4ec9bc480212227618e8",
       "version_major": 2,
       "version_minor": 0
      },
      "text/plain": [
       "Validation: |          | 0/? [00:00<?, ?it/s]"
      ]
     },
     "metadata": {},
     "output_type": "display_data"
    },
    {
     "data": {
      "application/vnd.jupyter.widget-view+json": {
       "model_id": "856a8edbc8454e1d9da54d9b9584148b",
       "version_major": 2,
       "version_minor": 0
      },
      "text/plain": [
       "Validation: |          | 0/? [00:00<?, ?it/s]"
      ]
     },
     "metadata": {},
     "output_type": "display_data"
    },
    {
     "data": {
      "application/vnd.jupyter.widget-view+json": {
       "model_id": "f2c4ac82dfd34225baf6d2569bccc42a",
       "version_major": 2,
       "version_minor": 0
      },
      "text/plain": [
       "Validation: |          | 0/? [00:00<?, ?it/s]"
      ]
     },
     "metadata": {},
     "output_type": "display_data"
    },
    {
     "data": {
      "application/vnd.jupyter.widget-view+json": {
       "model_id": "84d2442bb1174269b51863b05e328ab3",
       "version_major": 2,
       "version_minor": 0
      },
      "text/plain": [
       "Validation: |          | 0/? [00:00<?, ?it/s]"
      ]
     },
     "metadata": {},
     "output_type": "display_data"
    },
    {
     "data": {
      "application/vnd.jupyter.widget-view+json": {
       "model_id": "faf6b5f7dc75473da3300c7bc7aa1c47",
       "version_major": 2,
       "version_minor": 0
      },
      "text/plain": [
       "Validation: |          | 0/? [00:00<?, ?it/s]"
      ]
     },
     "metadata": {},
     "output_type": "display_data"
    },
    {
     "data": {
      "application/vnd.jupyter.widget-view+json": {
       "model_id": "9b80fb974be34d95b1006cdd50ca8873",
       "version_major": 2,
       "version_minor": 0
      },
      "text/plain": [
       "Validation: |          | 0/? [00:00<?, ?it/s]"
      ]
     },
     "metadata": {},
     "output_type": "display_data"
    },
    {
     "data": {
      "application/vnd.jupyter.widget-view+json": {
       "model_id": "929c6c9a6a9b4fc288c92fc41184f876",
       "version_major": 2,
       "version_minor": 0
      },
      "text/plain": [
       "Validation: |          | 0/? [00:00<?, ?it/s]"
      ]
     },
     "metadata": {},
     "output_type": "display_data"
    },
    {
     "data": {
      "application/vnd.jupyter.widget-view+json": {
       "model_id": "8d63722493ad420ebea27312cd2c6d8c",
       "version_major": 2,
       "version_minor": 0
      },
      "text/plain": [
       "Validation: |          | 0/? [00:00<?, ?it/s]"
      ]
     },
     "metadata": {},
     "output_type": "display_data"
    },
    {
     "data": {
      "application/vnd.jupyter.widget-view+json": {
       "model_id": "3b7637d89a62453693aa077e69dec044",
       "version_major": 2,
       "version_minor": 0
      },
      "text/plain": [
       "Validation: |          | 0/? [00:00<?, ?it/s]"
      ]
     },
     "metadata": {},
     "output_type": "display_data"
    },
    {
     "data": {
      "application/vnd.jupyter.widget-view+json": {
       "model_id": "a519ccd88d914903a77cf01205e2b735",
       "version_major": 2,
       "version_minor": 0
      },
      "text/plain": [
       "Validation: |          | 0/? [00:00<?, ?it/s]"
      ]
     },
     "metadata": {},
     "output_type": "display_data"
    },
    {
     "data": {
      "application/vnd.jupyter.widget-view+json": {
       "model_id": "0d8da30b5cc84f7b99f97f36d35be3a9",
       "version_major": 2,
       "version_minor": 0
      },
      "text/plain": [
       "Validation: |          | 0/? [00:00<?, ?it/s]"
      ]
     },
     "metadata": {},
     "output_type": "display_data"
    },
    {
     "data": {
      "application/vnd.jupyter.widget-view+json": {
       "model_id": "98406cdaaf35496db70ae2c40778b1e3",
       "version_major": 2,
       "version_minor": 0
      },
      "text/plain": [
       "Validation: |          | 0/? [00:00<?, ?it/s]"
      ]
     },
     "metadata": {},
     "output_type": "display_data"
    },
    {
     "data": {
      "application/vnd.jupyter.widget-view+json": {
       "model_id": "13341cf05cc34a499283f2decb7371ca",
       "version_major": 2,
       "version_minor": 0
      },
      "text/plain": [
       "Validation: |          | 0/? [00:00<?, ?it/s]"
      ]
     },
     "metadata": {},
     "output_type": "display_data"
    },
    {
     "data": {
      "application/vnd.jupyter.widget-view+json": {
       "model_id": "b35a3baa9d064f0ea2106eec041ed371",
       "version_major": 2,
       "version_minor": 0
      },
      "text/plain": [
       "Validation: |          | 0/? [00:00<?, ?it/s]"
      ]
     },
     "metadata": {},
     "output_type": "display_data"
    },
    {
     "data": {
      "application/vnd.jupyter.widget-view+json": {
       "model_id": "f079a54c1d214b53804693de82b09d25",
       "version_major": 2,
       "version_minor": 0
      },
      "text/plain": [
       "Validation: |          | 0/? [00:00<?, ?it/s]"
      ]
     },
     "metadata": {},
     "output_type": "display_data"
    },
    {
     "data": {
      "application/vnd.jupyter.widget-view+json": {
       "model_id": "5bf0eb56d7b943c6b24c1dce84dcd0a2",
       "version_major": 2,
       "version_minor": 0
      },
      "text/plain": [
       "Validation: |          | 0/? [00:00<?, ?it/s]"
      ]
     },
     "metadata": {},
     "output_type": "display_data"
    },
    {
     "data": {
      "application/vnd.jupyter.widget-view+json": {
       "model_id": "9e342728273e4d5199a2148b4088bde0",
       "version_major": 2,
       "version_minor": 0
      },
      "text/plain": [
       "Validation: |          | 0/? [00:00<?, ?it/s]"
      ]
     },
     "metadata": {},
     "output_type": "display_data"
    },
    {
     "data": {
      "application/vnd.jupyter.widget-view+json": {
       "model_id": "0240ff468a0541faa23a55ec7ec63f88",
       "version_major": 2,
       "version_minor": 0
      },
      "text/plain": [
       "Validation: |          | 0/? [00:00<?, ?it/s]"
      ]
     },
     "metadata": {},
     "output_type": "display_data"
    },
    {
     "data": {
      "application/vnd.jupyter.widget-view+json": {
       "model_id": "8b6e0702960c494e97a15c8f57f134fc",
       "version_major": 2,
       "version_minor": 0
      },
      "text/plain": [
       "Validation: |          | 0/? [00:00<?, ?it/s]"
      ]
     },
     "metadata": {},
     "output_type": "display_data"
    },
    {
     "data": {
      "application/vnd.jupyter.widget-view+json": {
       "model_id": "f5439f8246c442fdb9c7527db0997041",
       "version_major": 2,
       "version_minor": 0
      },
      "text/plain": [
       "Validation: |          | 0/? [00:00<?, ?it/s]"
      ]
     },
     "metadata": {},
     "output_type": "display_data"
    },
    {
     "data": {
      "application/vnd.jupyter.widget-view+json": {
       "model_id": "0c029637eb134822be4c513e25c74c35",
       "version_major": 2,
       "version_minor": 0
      },
      "text/plain": [
       "Validation: |          | 0/? [00:00<?, ?it/s]"
      ]
     },
     "metadata": {},
     "output_type": "display_data"
    },
    {
     "data": {
      "application/vnd.jupyter.widget-view+json": {
       "model_id": "218f849ac7f849e3abca61c0e2c20e2e",
       "version_major": 2,
       "version_minor": 0
      },
      "text/plain": [
       "Validation: |          | 0/? [00:00<?, ?it/s]"
      ]
     },
     "metadata": {},
     "output_type": "display_data"
    },
    {
     "data": {
      "application/vnd.jupyter.widget-view+json": {
       "model_id": "3ac3387e05f049da82dbc177c6b74140",
       "version_major": 2,
       "version_minor": 0
      },
      "text/plain": [
       "Validation: |          | 0/? [00:00<?, ?it/s]"
      ]
     },
     "metadata": {},
     "output_type": "display_data"
    },
    {
     "data": {
      "application/vnd.jupyter.widget-view+json": {
       "model_id": "8e16a088ac044410a42b626aefc61d1c",
       "version_major": 2,
       "version_minor": 0
      },
      "text/plain": [
       "Validation: |          | 0/? [00:00<?, ?it/s]"
      ]
     },
     "metadata": {},
     "output_type": "display_data"
    },
    {
     "data": {
      "application/vnd.jupyter.widget-view+json": {
       "model_id": "5733436430fd45c595c54fe7c90cb9c4",
       "version_major": 2,
       "version_minor": 0
      },
      "text/plain": [
       "Validation: |          | 0/? [00:00<?, ?it/s]"
      ]
     },
     "metadata": {},
     "output_type": "display_data"
    },
    {
     "data": {
      "application/vnd.jupyter.widget-view+json": {
       "model_id": "6476459b7a28452b9d2c89baed69824f",
       "version_major": 2,
       "version_minor": 0
      },
      "text/plain": [
       "Validation: |          | 0/? [00:00<?, ?it/s]"
      ]
     },
     "metadata": {},
     "output_type": "display_data"
    },
    {
     "data": {
      "application/vnd.jupyter.widget-view+json": {
       "model_id": "bdea13d60c214dcd9d795c8ce92aa5b7",
       "version_major": 2,
       "version_minor": 0
      },
      "text/plain": [
       "Validation: |          | 0/? [00:00<?, ?it/s]"
      ]
     },
     "metadata": {},
     "output_type": "display_data"
    },
    {
     "data": {
      "application/vnd.jupyter.widget-view+json": {
       "model_id": "5345ee337b574853b5d4160a00d7f88e",
       "version_major": 2,
       "version_minor": 0
      },
      "text/plain": [
       "Validation: |          | 0/? [00:00<?, ?it/s]"
      ]
     },
     "metadata": {},
     "output_type": "display_data"
    },
    {
     "data": {
      "application/vnd.jupyter.widget-view+json": {
       "model_id": "eca69c5f055d4eb6a74d56aa56ae7981",
       "version_major": 2,
       "version_minor": 0
      },
      "text/plain": [
       "Validation: |          | 0/? [00:00<?, ?it/s]"
      ]
     },
     "metadata": {},
     "output_type": "display_data"
    },
    {
     "data": {
      "application/vnd.jupyter.widget-view+json": {
       "model_id": "1159deeb72c24e57bd572693ab4e366d",
       "version_major": 2,
       "version_minor": 0
      },
      "text/plain": [
       "Validation: |          | 0/? [00:00<?, ?it/s]"
      ]
     },
     "metadata": {},
     "output_type": "display_data"
    },
    {
     "data": {
      "application/vnd.jupyter.widget-view+json": {
       "model_id": "816ffd11ea7348b799d816b9deffcede",
       "version_major": 2,
       "version_minor": 0
      },
      "text/plain": [
       "Validation: |          | 0/? [00:00<?, ?it/s]"
      ]
     },
     "metadata": {},
     "output_type": "display_data"
    },
    {
     "data": {
      "application/vnd.jupyter.widget-view+json": {
       "model_id": "ce64b8e8568f43769c61b23f007a510e",
       "version_major": 2,
       "version_minor": 0
      },
      "text/plain": [
       "Validation: |          | 0/? [00:00<?, ?it/s]"
      ]
     },
     "metadata": {},
     "output_type": "display_data"
    },
    {
     "data": {
      "application/vnd.jupyter.widget-view+json": {
       "model_id": "b4543ed806084f6cbca92ca60f3e286e",
       "version_major": 2,
       "version_minor": 0
      },
      "text/plain": [
       "Validation: |          | 0/? [00:00<?, ?it/s]"
      ]
     },
     "metadata": {},
     "output_type": "display_data"
    },
    {
     "name": "stderr",
     "output_type": "stream",
     "text": [
      "`Trainer.fit` stopped: `max_steps=500` reached.\n",
      "GPU available: True (cuda), used: True\n",
      "TPU available: False, using: 0 TPU cores\n",
      "HPU available: False, using: 0 HPUs\n",
      "LOCAL_RANK: 0 - CUDA_VISIBLE_DEVICES: [0]\n"
     ]
    },
    {
     "name": "stdout",
     "output_type": "stream",
     "text": [
      "train_loss: -0.58346\n",
      "valid_loss: 0.04940\n"
     ]
    },
    {
     "data": {
      "application/vnd.jupyter.widget-view+json": {
       "model_id": "d42c61e1803d473c89e25fe2238b1146",
       "version_major": 2,
       "version_minor": 0
      },
      "text/plain": [
       "Predicting: |          | 0/? [00:00<?, ?it/s]"
      ]
     },
     "metadata": {},
     "output_type": "display_data"
    },
    {
     "name": "stderr",
     "output_type": "stream",
     "text": [
      "/home/kemove/git/neuralforecast/neuralforecast/core.py:210: FutureWarning: In a future version the predictions will have the id as a column. You can set the `NIXTLA_ID_AS_COL` environment variable to adopt the new behavior and to suppress this warning.\n",
      "  warnings.warn(\n"
     ]
    },
    {
     "name": "stdout",
     "output_type": "stream",
     "text": [
      "training MAE:\n"
     ]
    },
    {
     "data": {
      "text/html": [
       "<div>\n",
       "<style scoped>\n",
       "    .dataframe tbody tr th:only-of-type {\n",
       "        vertical-align: middle;\n",
       "    }\n",
       "\n",
       "    .dataframe tbody tr th {\n",
       "        vertical-align: top;\n",
       "    }\n",
       "\n",
       "    .dataframe thead th {\n",
       "        text-align: right;\n",
       "    }\n",
       "</style>\n",
       "<table border=\"1\" class=\"dataframe\">\n",
       "  <thead>\n",
       "    <tr style=\"text-align: right;\">\n",
       "      <th></th>\n",
       "      <th>DeepAR</th>\n",
       "      <th>DeepAR-median</th>\n",
       "      <th>DeepAR-lo-90</th>\n",
       "      <th>DeepAR-lo-80</th>\n",
       "      <th>DeepAR-hi-80</th>\n",
       "      <th>DeepAR-hi-90</th>\n",
       "      <th>best_model</th>\n",
       "    </tr>\n",
       "    <tr>\n",
       "      <th>unique_id</th>\n",
       "      <th></th>\n",
       "      <th></th>\n",
       "      <th></th>\n",
       "      <th></th>\n",
       "      <th></th>\n",
       "      <th></th>\n",
       "      <th></th>\n",
       "    </tr>\n",
       "  </thead>\n",
       "  <tbody>\n",
       "    <tr>\n",
       "      <th>399673</th>\n",
       "      <td>0.091031</td>\n",
       "      <td>0.097171</td>\n",
       "      <td>0.648337</td>\n",
       "      <td>0.517315</td>\n",
       "      <td>0.534627</td>\n",
       "      <td>0.668759</td>\n",
       "      <td>DeepAR</td>\n",
       "    </tr>\n",
       "  </tbody>\n",
       "</table>\n",
       "</div>"
      ],
      "text/plain": [
       "             DeepAR  DeepAR-median  DeepAR-lo-90  DeepAR-lo-80  DeepAR-hi-80  \\\n",
       "unique_id                                                                      \n",
       "399673     0.091031       0.097171      0.648337      0.517315      0.534627   \n",
       "\n",
       "           DeepAR-hi-90 best_model  \n",
       "unique_id                           \n",
       "399673         0.668759     DeepAR  "
      ]
     },
     "metadata": {},
     "output_type": "display_data"
    },
    {
     "name": "stdout",
     "output_type": "stream",
     "text": [
      "validation MAE:\n"
     ]
    },
    {
     "data": {
      "text/html": [
       "<div>\n",
       "<style scoped>\n",
       "    .dataframe tbody tr th:only-of-type {\n",
       "        vertical-align: middle;\n",
       "    }\n",
       "\n",
       "    .dataframe tbody tr th {\n",
       "        vertical-align: top;\n",
       "    }\n",
       "\n",
       "    .dataframe thead th {\n",
       "        text-align: right;\n",
       "    }\n",
       "</style>\n",
       "<table border=\"1\" class=\"dataframe\">\n",
       "  <thead>\n",
       "    <tr style=\"text-align: right;\">\n",
       "      <th></th>\n",
       "      <th>DeepAR</th>\n",
       "      <th>DeepAR-median</th>\n",
       "      <th>DeepAR-lo-90</th>\n",
       "      <th>DeepAR-lo-80</th>\n",
       "      <th>DeepAR-hi-80</th>\n",
       "      <th>DeepAR-hi-90</th>\n",
       "      <th>best_model</th>\n",
       "    </tr>\n",
       "    <tr>\n",
       "      <th>unique_id</th>\n",
       "      <th></th>\n",
       "      <th></th>\n",
       "      <th></th>\n",
       "      <th></th>\n",
       "      <th></th>\n",
       "      <th></th>\n",
       "      <th></th>\n",
       "    </tr>\n",
       "  </thead>\n",
       "  <tbody>\n",
       "    <tr>\n",
       "      <th>399673</th>\n",
       "      <td>0.532985</td>\n",
       "      <td>0.533423</td>\n",
       "      <td>0.564257</td>\n",
       "      <td>0.503241</td>\n",
       "      <td>0.873237</td>\n",
       "      <td>0.990632</td>\n",
       "      <td>DeepAR-lo-80</td>\n",
       "    </tr>\n",
       "  </tbody>\n",
       "</table>\n",
       "</div>"
      ],
      "text/plain": [
       "             DeepAR  DeepAR-median  DeepAR-lo-90  DeepAR-lo-80  DeepAR-hi-80  \\\n",
       "unique_id                                                                      \n",
       "399673     0.532985       0.533423      0.564257      0.503241      0.873237   \n",
       "\n",
       "           DeepAR-hi-90    best_model  \n",
       "unique_id                              \n",
       "399673         0.990632  DeepAR-lo-80  "
      ]
     },
     "metadata": {},
     "output_type": "display_data"
    }
   ],
   "source": [
    "train_and_evaluate(model, df_train)"
   ]
  },
  {
   "cell_type": "markdown",
   "metadata": {},
   "source": [
    "## DeepNPTS (0.91)"
   ]
  },
  {
   "cell_type": "code",
   "execution_count": 91,
   "metadata": {},
   "outputs": [
    {
     "name": "stderr",
     "output_type": "stream",
     "text": [
      "Seed set to 1\n"
     ]
    }
   ],
   "source": [
    "model = DeepNPTS(\n",
    "    h=20,\n",
    "    input_size=48,\n",
    "    loss=MAE(),\n",
    "    # futr_exog_list=exog,\n",
    "    hist_exog_list=exog,\n",
    "    max_steps=500,\n",
    "    val_check_steps=5,\n",
    "    # early_stop_patience_steps=3,\n",
    ")"
   ]
  },
  {
   "cell_type": "code",
   "execution_count": 92,
   "metadata": {},
   "outputs": [
    {
     "name": "stderr",
     "output_type": "stream",
     "text": [
      "GPU available: True (cuda), used: True\n",
      "TPU available: False, using: 0 TPU cores\n",
      "HPU available: False, using: 0 HPUs\n",
      "LOCAL_RANK: 0 - CUDA_VISIBLE_DEVICES: [0]\n"
     ]
    },
    {
     "name": "stderr",
     "output_type": "stream",
     "text": [
      "\n",
      "  | Name            | Type          | Params | Mode \n",
      "----------------------------------------------------------\n",
      "0 | loss            | MAE           | 0      | train\n",
      "1 | valid_loss      | MAE           | 0      | train\n",
      "2 | padder_train    | ConstantPad1d | 0      | train\n",
      "3 | scaler          | TemporalNorm  | 0      | train\n",
      "4 | deepnptsnetwork | Sequential    | 51.3 K | train\n",
      "----------------------------------------------------------\n",
      "51.3 K    Trainable params\n",
      "0         Non-trainable params\n",
      "51.3 K    Total params\n",
      "0.205     Total estimated model params size (MB)\n",
      "14        Modules in train mode\n",
      "0         Modules in eval mode\n"
     ]
    },
    {
     "data": {
      "application/vnd.jupyter.widget-view+json": {
       "model_id": "c0ae12d75e8e4a6a91f5d8d2c8cea147",
       "version_major": 2,
       "version_minor": 0
      },
      "text/plain": [
       "Sanity Checking: |          | 0/? [00:00<?, ?it/s]"
      ]
     },
     "metadata": {},
     "output_type": "display_data"
    },
    {
     "data": {
      "application/vnd.jupyter.widget-view+json": {
       "model_id": "e9f5347c2bd54543876d50337eb15f92",
       "version_major": 2,
       "version_minor": 0
      },
      "text/plain": [
       "Training: |          | 0/? [00:00<?, ?it/s]"
      ]
     },
     "metadata": {},
     "output_type": "display_data"
    },
    {
     "data": {
      "application/vnd.jupyter.widget-view+json": {
       "model_id": "c6f57956464b44c6bc51164076994afa",
       "version_major": 2,
       "version_minor": 0
      },
      "text/plain": [
       "Validation: |          | 0/? [00:00<?, ?it/s]"
      ]
     },
     "metadata": {},
     "output_type": "display_data"
    },
    {
     "data": {
      "application/vnd.jupyter.widget-view+json": {
       "model_id": "a59303ff221642a9a5819b2501b2d5c4",
       "version_major": 2,
       "version_minor": 0
      },
      "text/plain": [
       "Validation: |          | 0/? [00:00<?, ?it/s]"
      ]
     },
     "metadata": {},
     "output_type": "display_data"
    },
    {
     "data": {
      "application/vnd.jupyter.widget-view+json": {
       "model_id": "f0a63c06b24a43d0965ce9c7753557e4",
       "version_major": 2,
       "version_minor": 0
      },
      "text/plain": [
       "Validation: |          | 0/? [00:00<?, ?it/s]"
      ]
     },
     "metadata": {},
     "output_type": "display_data"
    },
    {
     "data": {
      "application/vnd.jupyter.widget-view+json": {
       "model_id": "e30299ecec2c4e6f82110edab9e8b4ef",
       "version_major": 2,
       "version_minor": 0
      },
      "text/plain": [
       "Validation: |          | 0/? [00:00<?, ?it/s]"
      ]
     },
     "metadata": {},
     "output_type": "display_data"
    },
    {
     "data": {
      "application/vnd.jupyter.widget-view+json": {
       "model_id": "7ed00023de5548fe997c36795f74fe79",
       "version_major": 2,
       "version_minor": 0
      },
      "text/plain": [
       "Validation: |          | 0/? [00:00<?, ?it/s]"
      ]
     },
     "metadata": {},
     "output_type": "display_data"
    },
    {
     "data": {
      "application/vnd.jupyter.widget-view+json": {
       "model_id": "f89a7dac284d41f091e161d0998cd4d6",
       "version_major": 2,
       "version_minor": 0
      },
      "text/plain": [
       "Validation: |          | 0/? [00:00<?, ?it/s]"
      ]
     },
     "metadata": {},
     "output_type": "display_data"
    },
    {
     "data": {
      "application/vnd.jupyter.widget-view+json": {
       "model_id": "862f6dba193b4116853d1fd4c44fb023",
       "version_major": 2,
       "version_minor": 0
      },
      "text/plain": [
       "Validation: |          | 0/? [00:00<?, ?it/s]"
      ]
     },
     "metadata": {},
     "output_type": "display_data"
    },
    {
     "data": {
      "application/vnd.jupyter.widget-view+json": {
       "model_id": "c7496ee598c642e7961740224d5bcb5e",
       "version_major": 2,
       "version_minor": 0
      },
      "text/plain": [
       "Validation: |          | 0/? [00:00<?, ?it/s]"
      ]
     },
     "metadata": {},
     "output_type": "display_data"
    },
    {
     "data": {
      "application/vnd.jupyter.widget-view+json": {
       "model_id": "3993e81920ff4251969cf039b8b42b96",
       "version_major": 2,
       "version_minor": 0
      },
      "text/plain": [
       "Validation: |          | 0/? [00:00<?, ?it/s]"
      ]
     },
     "metadata": {},
     "output_type": "display_data"
    },
    {
     "data": {
      "application/vnd.jupyter.widget-view+json": {
       "model_id": "2a334ee6bcf74ec89463f8a00fcb8318",
       "version_major": 2,
       "version_minor": 0
      },
      "text/plain": [
       "Validation: |          | 0/? [00:00<?, ?it/s]"
      ]
     },
     "metadata": {},
     "output_type": "display_data"
    },
    {
     "data": {
      "application/vnd.jupyter.widget-view+json": {
       "model_id": "5c72780785174b89ab78e7e11b65f796",
       "version_major": 2,
       "version_minor": 0
      },
      "text/plain": [
       "Validation: |          | 0/? [00:00<?, ?it/s]"
      ]
     },
     "metadata": {},
     "output_type": "display_data"
    },
    {
     "data": {
      "application/vnd.jupyter.widget-view+json": {
       "model_id": "709384dbbec749f4842c96d358aebc28",
       "version_major": 2,
       "version_minor": 0
      },
      "text/plain": [
       "Validation: |          | 0/? [00:00<?, ?it/s]"
      ]
     },
     "metadata": {},
     "output_type": "display_data"
    },
    {
     "data": {
      "application/vnd.jupyter.widget-view+json": {
       "model_id": "cb2eddd82dd449bc923e1227f68cc8de",
       "version_major": 2,
       "version_minor": 0
      },
      "text/plain": [
       "Validation: |          | 0/? [00:00<?, ?it/s]"
      ]
     },
     "metadata": {},
     "output_type": "display_data"
    },
    {
     "data": {
      "application/vnd.jupyter.widget-view+json": {
       "model_id": "a5efeda58b6340dab3467a689a47045e",
       "version_major": 2,
       "version_minor": 0
      },
      "text/plain": [
       "Validation: |          | 0/? [00:00<?, ?it/s]"
      ]
     },
     "metadata": {},
     "output_type": "display_data"
    },
    {
     "data": {
      "application/vnd.jupyter.widget-view+json": {
       "model_id": "51f7143d1d0b40508705b61f0debca49",
       "version_major": 2,
       "version_minor": 0
      },
      "text/plain": [
       "Validation: |          | 0/? [00:00<?, ?it/s]"
      ]
     },
     "metadata": {},
     "output_type": "display_data"
    },
    {
     "data": {
      "application/vnd.jupyter.widget-view+json": {
       "model_id": "6fe61e7b7e804f6197cf7b699c7d30ab",
       "version_major": 2,
       "version_minor": 0
      },
      "text/plain": [
       "Validation: |          | 0/? [00:00<?, ?it/s]"
      ]
     },
     "metadata": {},
     "output_type": "display_data"
    },
    {
     "data": {
      "application/vnd.jupyter.widget-view+json": {
       "model_id": "f250d8298ea2448aa2a886a4a54bf869",
       "version_major": 2,
       "version_minor": 0
      },
      "text/plain": [
       "Validation: |          | 0/? [00:00<?, ?it/s]"
      ]
     },
     "metadata": {},
     "output_type": "display_data"
    },
    {
     "data": {
      "application/vnd.jupyter.widget-view+json": {
       "model_id": "2c48ea3f0546464dbe45adcf51b3eace",
       "version_major": 2,
       "version_minor": 0
      },
      "text/plain": [
       "Validation: |          | 0/? [00:00<?, ?it/s]"
      ]
     },
     "metadata": {},
     "output_type": "display_data"
    },
    {
     "data": {
      "application/vnd.jupyter.widget-view+json": {
       "model_id": "ec280fa707984ab39851e316dfda9377",
       "version_major": 2,
       "version_minor": 0
      },
      "text/plain": [
       "Validation: |          | 0/? [00:00<?, ?it/s]"
      ]
     },
     "metadata": {},
     "output_type": "display_data"
    },
    {
     "data": {
      "application/vnd.jupyter.widget-view+json": {
       "model_id": "ab74eb879f72460f8fcb1b534e5f2350",
       "version_major": 2,
       "version_minor": 0
      },
      "text/plain": [
       "Validation: |          | 0/? [00:00<?, ?it/s]"
      ]
     },
     "metadata": {},
     "output_type": "display_data"
    },
    {
     "data": {
      "application/vnd.jupyter.widget-view+json": {
       "model_id": "49ef8197a17449c7b7ac026ef42d8c46",
       "version_major": 2,
       "version_minor": 0
      },
      "text/plain": [
       "Validation: |          | 0/? [00:00<?, ?it/s]"
      ]
     },
     "metadata": {},
     "output_type": "display_data"
    },
    {
     "data": {
      "application/vnd.jupyter.widget-view+json": {
       "model_id": "809ac0a4bd7f4fd19449ee137df3f4ee",
       "version_major": 2,
       "version_minor": 0
      },
      "text/plain": [
       "Validation: |          | 0/? [00:00<?, ?it/s]"
      ]
     },
     "metadata": {},
     "output_type": "display_data"
    },
    {
     "data": {
      "application/vnd.jupyter.widget-view+json": {
       "model_id": "52a50f3f40ea41ffa5be8a40e42f7c0c",
       "version_major": 2,
       "version_minor": 0
      },
      "text/plain": [
       "Validation: |          | 0/? [00:00<?, ?it/s]"
      ]
     },
     "metadata": {},
     "output_type": "display_data"
    },
    {
     "data": {
      "application/vnd.jupyter.widget-view+json": {
       "model_id": "e81cfcc5a3014e719a8cd300e32a7dd9",
       "version_major": 2,
       "version_minor": 0
      },
      "text/plain": [
       "Validation: |          | 0/? [00:00<?, ?it/s]"
      ]
     },
     "metadata": {},
     "output_type": "display_data"
    },
    {
     "data": {
      "application/vnd.jupyter.widget-view+json": {
       "model_id": "23a10268ff24408fb43fa93abd6457c0",
       "version_major": 2,
       "version_minor": 0
      },
      "text/plain": [
       "Validation: |          | 0/? [00:00<?, ?it/s]"
      ]
     },
     "metadata": {},
     "output_type": "display_data"
    },
    {
     "data": {
      "application/vnd.jupyter.widget-view+json": {
       "model_id": "8a031c48b38542efa99377be83e6c039",
       "version_major": 2,
       "version_minor": 0
      },
      "text/plain": [
       "Validation: |          | 0/? [00:00<?, ?it/s]"
      ]
     },
     "metadata": {},
     "output_type": "display_data"
    },
    {
     "data": {
      "application/vnd.jupyter.widget-view+json": {
       "model_id": "0426a649312b44efb4c52ef918290cdd",
       "version_major": 2,
       "version_minor": 0
      },
      "text/plain": [
       "Validation: |          | 0/? [00:00<?, ?it/s]"
      ]
     },
     "metadata": {},
     "output_type": "display_data"
    },
    {
     "data": {
      "application/vnd.jupyter.widget-view+json": {
       "model_id": "b92619f20fdf4bedbf6be2fc58f73b6a",
       "version_major": 2,
       "version_minor": 0
      },
      "text/plain": [
       "Validation: |          | 0/? [00:00<?, ?it/s]"
      ]
     },
     "metadata": {},
     "output_type": "display_data"
    },
    {
     "data": {
      "application/vnd.jupyter.widget-view+json": {
       "model_id": "c3baa9ca042a485084fc65551496013e",
       "version_major": 2,
       "version_minor": 0
      },
      "text/plain": [
       "Validation: |          | 0/? [00:00<?, ?it/s]"
      ]
     },
     "metadata": {},
     "output_type": "display_data"
    },
    {
     "data": {
      "application/vnd.jupyter.widget-view+json": {
       "model_id": "ceb98f5c41ab4b18b8abb88ce65e3fa6",
       "version_major": 2,
       "version_minor": 0
      },
      "text/plain": [
       "Validation: |          | 0/? [00:00<?, ?it/s]"
      ]
     },
     "metadata": {},
     "output_type": "display_data"
    },
    {
     "data": {
      "application/vnd.jupyter.widget-view+json": {
       "model_id": "df4e21694e8346519e4ea4f56016884b",
       "version_major": 2,
       "version_minor": 0
      },
      "text/plain": [
       "Validation: |          | 0/? [00:00<?, ?it/s]"
      ]
     },
     "metadata": {},
     "output_type": "display_data"
    },
    {
     "data": {
      "application/vnd.jupyter.widget-view+json": {
       "model_id": "33f3f32d4a384d36b9e93a7c0694894d",
       "version_major": 2,
       "version_minor": 0
      },
      "text/plain": [
       "Validation: |          | 0/? [00:00<?, ?it/s]"
      ]
     },
     "metadata": {},
     "output_type": "display_data"
    },
    {
     "data": {
      "application/vnd.jupyter.widget-view+json": {
       "model_id": "32db383517d24b5a8b32c620a334a5db",
       "version_major": 2,
       "version_minor": 0
      },
      "text/plain": [
       "Validation: |          | 0/? [00:00<?, ?it/s]"
      ]
     },
     "metadata": {},
     "output_type": "display_data"
    },
    {
     "data": {
      "application/vnd.jupyter.widget-view+json": {
       "model_id": "d0c6dd0ac43b476cbdc21d976e7284ee",
       "version_major": 2,
       "version_minor": 0
      },
      "text/plain": [
       "Validation: |          | 0/? [00:00<?, ?it/s]"
      ]
     },
     "metadata": {},
     "output_type": "display_data"
    },
    {
     "data": {
      "application/vnd.jupyter.widget-view+json": {
       "model_id": "b80bb464027a4b74b70eb6bd8f4001c3",
       "version_major": 2,
       "version_minor": 0
      },
      "text/plain": [
       "Validation: |          | 0/? [00:00<?, ?it/s]"
      ]
     },
     "metadata": {},
     "output_type": "display_data"
    },
    {
     "data": {
      "application/vnd.jupyter.widget-view+json": {
       "model_id": "b02d13cd2c474b71bc10f6735f554bd9",
       "version_major": 2,
       "version_minor": 0
      },
      "text/plain": [
       "Validation: |          | 0/? [00:00<?, ?it/s]"
      ]
     },
     "metadata": {},
     "output_type": "display_data"
    },
    {
     "data": {
      "application/vnd.jupyter.widget-view+json": {
       "model_id": "07b7100685c845a7bc4fa222c13e6994",
       "version_major": 2,
       "version_minor": 0
      },
      "text/plain": [
       "Validation: |          | 0/? [00:00<?, ?it/s]"
      ]
     },
     "metadata": {},
     "output_type": "display_data"
    },
    {
     "data": {
      "application/vnd.jupyter.widget-view+json": {
       "model_id": "ca4237e2da65430db53e333d75515c6e",
       "version_major": 2,
       "version_minor": 0
      },
      "text/plain": [
       "Validation: |          | 0/? [00:00<?, ?it/s]"
      ]
     },
     "metadata": {},
     "output_type": "display_data"
    },
    {
     "data": {
      "application/vnd.jupyter.widget-view+json": {
       "model_id": "798365c55dad44db8e246e64b0d0737c",
       "version_major": 2,
       "version_minor": 0
      },
      "text/plain": [
       "Validation: |          | 0/? [00:00<?, ?it/s]"
      ]
     },
     "metadata": {},
     "output_type": "display_data"
    },
    {
     "data": {
      "application/vnd.jupyter.widget-view+json": {
       "model_id": "3cdad6b894a0442da21f9e71b8e52756",
       "version_major": 2,
       "version_minor": 0
      },
      "text/plain": [
       "Validation: |          | 0/? [00:00<?, ?it/s]"
      ]
     },
     "metadata": {},
     "output_type": "display_data"
    },
    {
     "data": {
      "application/vnd.jupyter.widget-view+json": {
       "model_id": "5896b7d453cf421b96aa3371bb4c9ebe",
       "version_major": 2,
       "version_minor": 0
      },
      "text/plain": [
       "Validation: |          | 0/? [00:00<?, ?it/s]"
      ]
     },
     "metadata": {},
     "output_type": "display_data"
    },
    {
     "data": {
      "application/vnd.jupyter.widget-view+json": {
       "model_id": "147114559d254989a89015aab0e51c85",
       "version_major": 2,
       "version_minor": 0
      },
      "text/plain": [
       "Validation: |          | 0/? [00:00<?, ?it/s]"
      ]
     },
     "metadata": {},
     "output_type": "display_data"
    },
    {
     "data": {
      "application/vnd.jupyter.widget-view+json": {
       "model_id": "102be41c10a04f5d95905f63bf1a6d4e",
       "version_major": 2,
       "version_minor": 0
      },
      "text/plain": [
       "Validation: |          | 0/? [00:00<?, ?it/s]"
      ]
     },
     "metadata": {},
     "output_type": "display_data"
    },
    {
     "data": {
      "application/vnd.jupyter.widget-view+json": {
       "model_id": "9fae1389712a49a6b8e8c3a55defc381",
       "version_major": 2,
       "version_minor": 0
      },
      "text/plain": [
       "Validation: |          | 0/? [00:00<?, ?it/s]"
      ]
     },
     "metadata": {},
     "output_type": "display_data"
    },
    {
     "data": {
      "application/vnd.jupyter.widget-view+json": {
       "model_id": "8e267046c8454dc0969d996449cb8d6f",
       "version_major": 2,
       "version_minor": 0
      },
      "text/plain": [
       "Validation: |          | 0/? [00:00<?, ?it/s]"
      ]
     },
     "metadata": {},
     "output_type": "display_data"
    },
    {
     "name": "stderr",
     "output_type": "stream",
     "text": [
      "IOPub message rate exceeded.\n",
      "The Jupyter server will temporarily stop sending output\n",
      "to the client in order to avoid crashing it.\n",
      "To change this limit, set the config variable\n",
      "`--ServerApp.iopub_msg_rate_limit`.\n",
      "\n",
      "Current values:\n",
      "ServerApp.iopub_msg_rate_limit=1000.0 (msgs/sec)\n",
      "ServerApp.rate_limit_window=3.0 (secs)\n",
      "\n"
     ]
    },
    {
     "data": {
      "application/vnd.jupyter.widget-view+json": {
       "model_id": "4d5a638edff84249924e578894fa5348",
       "version_major": 2,
       "version_minor": 0
      },
      "text/plain": [
       "Validation: |          | 0/? [00:00<?, ?it/s]"
      ]
     },
     "metadata": {},
     "output_type": "display_data"
    },
    {
     "data": {
      "application/vnd.jupyter.widget-view+json": {
       "model_id": "df97069d4b004d51ba760cb48181ab3e",
       "version_major": 2,
       "version_minor": 0
      },
      "text/plain": [
       "Validation: |          | 0/? [00:00<?, ?it/s]"
      ]
     },
     "metadata": {},
     "output_type": "display_data"
    },
    {
     "data": {
      "application/vnd.jupyter.widget-view+json": {
       "model_id": "bc71e1b5a6ee4bf4adcc03f0a22ec344",
       "version_major": 2,
       "version_minor": 0
      },
      "text/plain": [
       "Validation: |          | 0/? [00:00<?, ?it/s]"
      ]
     },
     "metadata": {},
     "output_type": "display_data"
    },
    {
     "data": {
      "application/vnd.jupyter.widget-view+json": {
       "model_id": "7df13ebd8680458cb0a965eb8920996b",
       "version_major": 2,
       "version_minor": 0
      },
      "text/plain": [
       "Validation: |          | 0/? [00:00<?, ?it/s]"
      ]
     },
     "metadata": {},
     "output_type": "display_data"
    },
    {
     "data": {
      "application/vnd.jupyter.widget-view+json": {
       "model_id": "09a6c986761440998e81cf0b29438fec",
       "version_major": 2,
       "version_minor": 0
      },
      "text/plain": [
       "Validation: |          | 0/? [00:00<?, ?it/s]"
      ]
     },
     "metadata": {},
     "output_type": "display_data"
    },
    {
     "data": {
      "application/vnd.jupyter.widget-view+json": {
       "model_id": "2e2414cc2f054ba3bb5358b113b7af41",
       "version_major": 2,
       "version_minor": 0
      },
      "text/plain": [
       "Validation: |          | 0/? [00:00<?, ?it/s]"
      ]
     },
     "metadata": {},
     "output_type": "display_data"
    },
    {
     "data": {
      "application/vnd.jupyter.widget-view+json": {
       "model_id": "d16a368646ed45a9a59d618c148612ea",
       "version_major": 2,
       "version_minor": 0
      },
      "text/plain": [
       "Validation: |          | 0/? [00:00<?, ?it/s]"
      ]
     },
     "metadata": {},
     "output_type": "display_data"
    },
    {
     "data": {
      "application/vnd.jupyter.widget-view+json": {
       "model_id": "cfea637ce42f401188b50ee3048b9d10",
       "version_major": 2,
       "version_minor": 0
      },
      "text/plain": [
       "Validation: |          | 0/? [00:00<?, ?it/s]"
      ]
     },
     "metadata": {},
     "output_type": "display_data"
    },
    {
     "data": {
      "application/vnd.jupyter.widget-view+json": {
       "model_id": "c7b96dc5b9e44968b2f618e5e1a67adb",
       "version_major": 2,
       "version_minor": 0
      },
      "text/plain": [
       "Validation: |          | 0/? [00:00<?, ?it/s]"
      ]
     },
     "metadata": {},
     "output_type": "display_data"
    },
    {
     "data": {
      "application/vnd.jupyter.widget-view+json": {
       "model_id": "895abcf5ed174009bb8a43ed7e395d19",
       "version_major": 2,
       "version_minor": 0
      },
      "text/plain": [
       "Validation: |          | 0/? [00:00<?, ?it/s]"
      ]
     },
     "metadata": {},
     "output_type": "display_data"
    },
    {
     "data": {
      "application/vnd.jupyter.widget-view+json": {
       "model_id": "6fe81c00cfc3442d9df635b5420e050e",
       "version_major": 2,
       "version_minor": 0
      },
      "text/plain": [
       "Validation: |          | 0/? [00:00<?, ?it/s]"
      ]
     },
     "metadata": {},
     "output_type": "display_data"
    },
    {
     "data": {
      "application/vnd.jupyter.widget-view+json": {
       "model_id": "3925e285e0a040bdae1dc7311610a558",
       "version_major": 2,
       "version_minor": 0
      },
      "text/plain": [
       "Validation: |          | 0/? [00:00<?, ?it/s]"
      ]
     },
     "metadata": {},
     "output_type": "display_data"
    },
    {
     "data": {
      "application/vnd.jupyter.widget-view+json": {
       "model_id": "d1a35b91ab4c421f93a7511bef21eda9",
       "version_major": 2,
       "version_minor": 0
      },
      "text/plain": [
       "Validation: |          | 0/? [00:00<?, ?it/s]"
      ]
     },
     "metadata": {},
     "output_type": "display_data"
    },
    {
     "data": {
      "application/vnd.jupyter.widget-view+json": {
       "model_id": "680a8977011c448c81005b8a3e53440f",
       "version_major": 2,
       "version_minor": 0
      },
      "text/plain": [
       "Validation: |          | 0/? [00:00<?, ?it/s]"
      ]
     },
     "metadata": {},
     "output_type": "display_data"
    },
    {
     "data": {
      "application/vnd.jupyter.widget-view+json": {
       "model_id": "7a02b838834247f69297593b027932a5",
       "version_major": 2,
       "version_minor": 0
      },
      "text/plain": [
       "Validation: |          | 0/? [00:00<?, ?it/s]"
      ]
     },
     "metadata": {},
     "output_type": "display_data"
    },
    {
     "name": "stderr",
     "output_type": "stream",
     "text": [
      "`Trainer.fit` stopped: `max_steps=500` reached.\n",
      "GPU available: True (cuda), used: True\n",
      "TPU available: False, using: 0 TPU cores\n",
      "HPU available: False, using: 0 HPUs\n",
      "LOCAL_RANK: 0 - CUDA_VISIBLE_DEVICES: [0]\n"
     ]
    },
    {
     "name": "stdout",
     "output_type": "stream",
     "text": [
      "train_loss: 0.64512\n",
      "valid_loss: 0.57200\n"
     ]
    },
    {
     "data": {
      "application/vnd.jupyter.widget-view+json": {
       "model_id": "a7004c597f4043eea0833dce574349e1",
       "version_major": 2,
       "version_minor": 0
      },
      "text/plain": [
       "Predicting: |          | 0/? [00:00<?, ?it/s]"
      ]
     },
     "metadata": {},
     "output_type": "display_data"
    },
    {
     "name": "stderr",
     "output_type": "stream",
     "text": [
      "/home/kemove/git/neuralforecast/neuralforecast/core.py:210: FutureWarning: In a future version the predictions will have the id as a column. You can set the `NIXTLA_ID_AS_COL` environment variable to adopt the new behavior and to suppress this warning.\n",
      "  warnings.warn(\n"
     ]
    },
    {
     "name": "stdout",
     "output_type": "stream",
     "text": [
      "training MAE:\n"
     ]
    },
    {
     "data": {
      "text/html": [
       "<div>\n",
       "<style scoped>\n",
       "    .dataframe tbody tr th:only-of-type {\n",
       "        vertical-align: middle;\n",
       "    }\n",
       "\n",
       "    .dataframe tbody tr th {\n",
       "        vertical-align: top;\n",
       "    }\n",
       "\n",
       "    .dataframe thead th {\n",
       "        text-align: right;\n",
       "    }\n",
       "</style>\n",
       "<table border=\"1\" class=\"dataframe\">\n",
       "  <thead>\n",
       "    <tr style=\"text-align: right;\">\n",
       "      <th></th>\n",
       "      <th>DeepNPTS</th>\n",
       "      <th>best_model</th>\n",
       "    </tr>\n",
       "    <tr>\n",
       "      <th>unique_id</th>\n",
       "      <th></th>\n",
       "      <th></th>\n",
       "    </tr>\n",
       "  </thead>\n",
       "  <tbody>\n",
       "    <tr>\n",
       "      <th>399673</th>\n",
       "      <td>1.155806</td>\n",
       "      <td>DeepNPTS</td>\n",
       "    </tr>\n",
       "  </tbody>\n",
       "</table>\n",
       "</div>"
      ],
      "text/plain": [
       "           DeepNPTS best_model\n",
       "unique_id                     \n",
       "399673     1.155806   DeepNPTS"
      ]
     },
     "metadata": {},
     "output_type": "display_data"
    },
    {
     "name": "stdout",
     "output_type": "stream",
     "text": [
      "validation MAE:\n"
     ]
    },
    {
     "data": {
      "text/html": [
       "<div>\n",
       "<style scoped>\n",
       "    .dataframe tbody tr th:only-of-type {\n",
       "        vertical-align: middle;\n",
       "    }\n",
       "\n",
       "    .dataframe tbody tr th {\n",
       "        vertical-align: top;\n",
       "    }\n",
       "\n",
       "    .dataframe thead th {\n",
       "        text-align: right;\n",
       "    }\n",
       "</style>\n",
       "<table border=\"1\" class=\"dataframe\">\n",
       "  <thead>\n",
       "    <tr style=\"text-align: right;\">\n",
       "      <th></th>\n",
       "      <th>DeepNPTS</th>\n",
       "      <th>best_model</th>\n",
       "    </tr>\n",
       "    <tr>\n",
       "      <th>unique_id</th>\n",
       "      <th></th>\n",
       "      <th></th>\n",
       "    </tr>\n",
       "  </thead>\n",
       "  <tbody>\n",
       "    <tr>\n",
       "      <th>399673</th>\n",
       "      <td>0.91043</td>\n",
       "      <td>DeepNPTS</td>\n",
       "    </tr>\n",
       "  </tbody>\n",
       "</table>\n",
       "</div>"
      ],
      "text/plain": [
       "           DeepNPTS best_model\n",
       "unique_id                     \n",
       "399673      0.91043   DeepNPTS"
      ]
     },
     "metadata": {},
     "output_type": "display_data"
    }
   ],
   "source": [
    "train_and_evaluate(model, df_train)"
   ]
  },
  {
   "cell_type": "markdown",
   "metadata": {},
   "source": [
    "## DilatedRNN (0.83)"
   ]
  },
  {
   "cell_type": "code",
   "execution_count": 93,
   "metadata": {},
   "outputs": [
    {
     "name": "stderr",
     "output_type": "stream",
     "text": [
      "Seed set to 1\n"
     ]
    }
   ],
   "source": [
    "model = DilatedRNN(\n",
    "    h=20,\n",
    "    # input_size=24,\n",
    "    loss=DistributionLoss(distribution='Normal', level=[80, 90]),\n",
    "    # futr_exog_list=exog,\n",
    "    hist_exog_list=exog,\n",
    "    # scaler_type=\"robust\",\n",
    "    encoder_hidden_size=100,\n",
    "    max_steps=500,\n",
    "    val_check_steps=5,\n",
    "    early_stop_patience_steps=10,\n",
    ")"
   ]
  },
  {
   "cell_type": "code",
   "execution_count": 94,
   "metadata": {},
   "outputs": [
    {
     "name": "stderr",
     "output_type": "stream",
     "text": [
      "GPU available: True (cuda), used: True\n",
      "TPU available: False, using: 0 TPU cores\n",
      "HPU available: False, using: 0 HPUs\n"
     ]
    },
    {
     "name": "stderr",
     "output_type": "stream",
     "text": [
      "LOCAL_RANK: 0 - CUDA_VISIBLE_DEVICES: [0]\n",
      "\n",
      "  | Name            | Type             | Params | Mode \n",
      "-------------------------------------------------------------\n",
      "0 | loss            | DistributionLoss | 5      | train\n",
      "1 | padder          | ConstantPad1d    | 0      | train\n",
      "2 | scaler          | TemporalNorm     | 0      | train\n",
      "3 | rnn_stack       | Sequential       | 288 K  | train\n",
      "4 | context_adapter | Linear           | 20.2 K | train\n",
      "5 | mlp_decoder     | MLP              | 2.6 K  | train\n",
      "-------------------------------------------------------------\n",
      "310 K     Trainable params\n",
      "5         Non-trainable params\n",
      "310 K     Total params\n",
      "1.243     Total estimated model params size (MB)\n",
      "19        Modules in train mode\n",
      "0         Modules in eval mode\n"
     ]
    },
    {
     "data": {
      "application/vnd.jupyter.widget-view+json": {
       "model_id": "0ab99b6985ab40cfa8456ee23195d15a",
       "version_major": 2,
       "version_minor": 0
      },
      "text/plain": [
       "Sanity Checking: |          | 0/? [00:00<?, ?it/s]"
      ]
     },
     "metadata": {},
     "output_type": "display_data"
    },
    {
     "data": {
      "application/vnd.jupyter.widget-view+json": {
       "model_id": "6a90b1792958493d9d06cfe9b546c9cc",
       "version_major": 2,
       "version_minor": 0
      },
      "text/plain": [
       "Training: |          | 0/? [00:00<?, ?it/s]"
      ]
     },
     "metadata": {},
     "output_type": "display_data"
    },
    {
     "data": {
      "application/vnd.jupyter.widget-view+json": {
       "model_id": "177b4583dc0b4c85856646a4294b5c7e",
       "version_major": 2,
       "version_minor": 0
      },
      "text/plain": [
       "Validation: |          | 0/? [00:00<?, ?it/s]"
      ]
     },
     "metadata": {},
     "output_type": "display_data"
    },
    {
     "data": {
      "application/vnd.jupyter.widget-view+json": {
       "model_id": "fd2412f390ce4d9d91705df9eaeb86f0",
       "version_major": 2,
       "version_minor": 0
      },
      "text/plain": [
       "Validation: |          | 0/? [00:00<?, ?it/s]"
      ]
     },
     "metadata": {},
     "output_type": "display_data"
    },
    {
     "data": {
      "application/vnd.jupyter.widget-view+json": {
       "model_id": "c2ae0cadc1e748bda0630e8cb5147546",
       "version_major": 2,
       "version_minor": 0
      },
      "text/plain": [
       "Validation: |          | 0/? [00:00<?, ?it/s]"
      ]
     },
     "metadata": {},
     "output_type": "display_data"
    },
    {
     "data": {
      "application/vnd.jupyter.widget-view+json": {
       "model_id": "39eff679339540f0984b742ee0a9bcd0",
       "version_major": 2,
       "version_minor": 0
      },
      "text/plain": [
       "Validation: |          | 0/? [00:00<?, ?it/s]"
      ]
     },
     "metadata": {},
     "output_type": "display_data"
    },
    {
     "data": {
      "application/vnd.jupyter.widget-view+json": {
       "model_id": "cf14379e75944869a95e5346082c5e34",
       "version_major": 2,
       "version_minor": 0
      },
      "text/plain": [
       "Validation: |          | 0/? [00:00<?, ?it/s]"
      ]
     },
     "metadata": {},
     "output_type": "display_data"
    },
    {
     "data": {
      "application/vnd.jupyter.widget-view+json": {
       "model_id": "a6c164e00ef34081815120037d97aac8",
       "version_major": 2,
       "version_minor": 0
      },
      "text/plain": [
       "Validation: |          | 0/? [00:00<?, ?it/s]"
      ]
     },
     "metadata": {},
     "output_type": "display_data"
    },
    {
     "data": {
      "application/vnd.jupyter.widget-view+json": {
       "model_id": "c2e254847161430c9ad579cb2c9a58d7",
       "version_major": 2,
       "version_minor": 0
      },
      "text/plain": [
       "Validation: |          | 0/? [00:00<?, ?it/s]"
      ]
     },
     "metadata": {},
     "output_type": "display_data"
    },
    {
     "data": {
      "application/vnd.jupyter.widget-view+json": {
       "model_id": "4b6829c6683b43c98b6bb99e2358d4d4",
       "version_major": 2,
       "version_minor": 0
      },
      "text/plain": [
       "Validation: |          | 0/? [00:00<?, ?it/s]"
      ]
     },
     "metadata": {},
     "output_type": "display_data"
    },
    {
     "data": {
      "application/vnd.jupyter.widget-view+json": {
       "model_id": "2cfaf6ae528a4e8d8f38c0e3bb2d9680",
       "version_major": 2,
       "version_minor": 0
      },
      "text/plain": [
       "Validation: |          | 0/? [00:00<?, ?it/s]"
      ]
     },
     "metadata": {},
     "output_type": "display_data"
    },
    {
     "data": {
      "application/vnd.jupyter.widget-view+json": {
       "model_id": "fc9e7ad2c5794852a557bd534cb297b9",
       "version_major": 2,
       "version_minor": 0
      },
      "text/plain": [
       "Validation: |          | 0/? [00:00<?, ?it/s]"
      ]
     },
     "metadata": {},
     "output_type": "display_data"
    },
    {
     "data": {
      "application/vnd.jupyter.widget-view+json": {
       "model_id": "7ba889fa9ba641e2b2aa0bdcee8eea9a",
       "version_major": 2,
       "version_minor": 0
      },
      "text/plain": [
       "Validation: |          | 0/? [00:00<?, ?it/s]"
      ]
     },
     "metadata": {},
     "output_type": "display_data"
    },
    {
     "data": {
      "application/vnd.jupyter.widget-view+json": {
       "model_id": "ac32bc3503d14e83bd9005410fbabb46",
       "version_major": 2,
       "version_minor": 0
      },
      "text/plain": [
       "Validation: |          | 0/? [00:00<?, ?it/s]"
      ]
     },
     "metadata": {},
     "output_type": "display_data"
    },
    {
     "data": {
      "application/vnd.jupyter.widget-view+json": {
       "model_id": "32bdc92f7c8b4e21b27ccfaf4019d4e7",
       "version_major": 2,
       "version_minor": 0
      },
      "text/plain": [
       "Validation: |          | 0/? [00:00<?, ?it/s]"
      ]
     },
     "metadata": {},
     "output_type": "display_data"
    },
    {
     "data": {
      "application/vnd.jupyter.widget-view+json": {
       "model_id": "df6d4ef4a1524649b1005141c5fe2ed8",
       "version_major": 2,
       "version_minor": 0
      },
      "text/plain": [
       "Validation: |          | 0/? [00:00<?, ?it/s]"
      ]
     },
     "metadata": {},
     "output_type": "display_data"
    },
    {
     "data": {
      "application/vnd.jupyter.widget-view+json": {
       "model_id": "9aaf759665344075b7ac030c3d110373",
       "version_major": 2,
       "version_minor": 0
      },
      "text/plain": [
       "Validation: |          | 0/? [00:00<?, ?it/s]"
      ]
     },
     "metadata": {},
     "output_type": "display_data"
    },
    {
     "data": {
      "application/vnd.jupyter.widget-view+json": {
       "model_id": "1a399cca81384806921122fab40ba22c",
       "version_major": 2,
       "version_minor": 0
      },
      "text/plain": [
       "Validation: |          | 0/? [00:00<?, ?it/s]"
      ]
     },
     "metadata": {},
     "output_type": "display_data"
    },
    {
     "data": {
      "application/vnd.jupyter.widget-view+json": {
       "model_id": "236f67088dec4675b3f5914c9cfbb8c5",
       "version_major": 2,
       "version_minor": 0
      },
      "text/plain": [
       "Validation: |          | 0/? [00:00<?, ?it/s]"
      ]
     },
     "metadata": {},
     "output_type": "display_data"
    },
    {
     "data": {
      "application/vnd.jupyter.widget-view+json": {
       "model_id": "477ce49046c646368ebb45cd3f0a8ff4",
       "version_major": 2,
       "version_minor": 0
      },
      "text/plain": [
       "Validation: |          | 0/? [00:00<?, ?it/s]"
      ]
     },
     "metadata": {},
     "output_type": "display_data"
    },
    {
     "data": {
      "application/vnd.jupyter.widget-view+json": {
       "model_id": "f713673b9ea3435881a053fc837883c9",
       "version_major": 2,
       "version_minor": 0
      },
      "text/plain": [
       "Validation: |          | 0/? [00:00<?, ?it/s]"
      ]
     },
     "metadata": {},
     "output_type": "display_data"
    },
    {
     "data": {
      "application/vnd.jupyter.widget-view+json": {
       "model_id": "8aead3b0452c4807854796f2cfceef22",
       "version_major": 2,
       "version_minor": 0
      },
      "text/plain": [
       "Validation: |          | 0/? [00:00<?, ?it/s]"
      ]
     },
     "metadata": {},
     "output_type": "display_data"
    },
    {
     "data": {
      "application/vnd.jupyter.widget-view+json": {
       "model_id": "d91114ce6cb74e8392e76bc1baf208cf",
       "version_major": 2,
       "version_minor": 0
      },
      "text/plain": [
       "Validation: |          | 0/? [00:00<?, ?it/s]"
      ]
     },
     "metadata": {},
     "output_type": "display_data"
    },
    {
     "data": {
      "application/vnd.jupyter.widget-view+json": {
       "model_id": "0ab42be4961f41548e31e3d681562d71",
       "version_major": 2,
       "version_minor": 0
      },
      "text/plain": [
       "Validation: |          | 0/? [00:00<?, ?it/s]"
      ]
     },
     "metadata": {},
     "output_type": "display_data"
    },
    {
     "data": {
      "application/vnd.jupyter.widget-view+json": {
       "model_id": "bbf673e7e7554be4819d654959f5e10c",
       "version_major": 2,
       "version_minor": 0
      },
      "text/plain": [
       "Validation: |          | 0/? [00:00<?, ?it/s]"
      ]
     },
     "metadata": {},
     "output_type": "display_data"
    },
    {
     "data": {
      "application/vnd.jupyter.widget-view+json": {
       "model_id": "cd1a05af2784429e8535ba6ed00c48a1",
       "version_major": 2,
       "version_minor": 0
      },
      "text/plain": [
       "Validation: |          | 0/? [00:00<?, ?it/s]"
      ]
     },
     "metadata": {},
     "output_type": "display_data"
    },
    {
     "data": {
      "application/vnd.jupyter.widget-view+json": {
       "model_id": "939eb4d6fe024679b7e291f67bdfd96d",
       "version_major": 2,
       "version_minor": 0
      },
      "text/plain": [
       "Validation: |          | 0/? [00:00<?, ?it/s]"
      ]
     },
     "metadata": {},
     "output_type": "display_data"
    },
    {
     "data": {
      "application/vnd.jupyter.widget-view+json": {
       "model_id": "ac4c060b05e5489cb61d3a1d8c385568",
       "version_major": 2,
       "version_minor": 0
      },
      "text/plain": [
       "Validation: |          | 0/? [00:00<?, ?it/s]"
      ]
     },
     "metadata": {},
     "output_type": "display_data"
    },
    {
     "data": {
      "application/vnd.jupyter.widget-view+json": {
       "model_id": "e1b21d608b7d45778fb843dff34d43a1",
       "version_major": 2,
       "version_minor": 0
      },
      "text/plain": [
       "Validation: |          | 0/? [00:00<?, ?it/s]"
      ]
     },
     "metadata": {},
     "output_type": "display_data"
    },
    {
     "data": {
      "application/vnd.jupyter.widget-view+json": {
       "model_id": "ff1248eb292b45cea8a48364dcefcd6a",
       "version_major": 2,
       "version_minor": 0
      },
      "text/plain": [
       "Validation: |          | 0/? [00:00<?, ?it/s]"
      ]
     },
     "metadata": {},
     "output_type": "display_data"
    },
    {
     "data": {
      "application/vnd.jupyter.widget-view+json": {
       "model_id": "740078136e0143e0824ff71ec983471b",
       "version_major": 2,
       "version_minor": 0
      },
      "text/plain": [
       "Validation: |          | 0/? [00:00<?, ?it/s]"
      ]
     },
     "metadata": {},
     "output_type": "display_data"
    },
    {
     "name": "stderr",
     "output_type": "stream",
     "text": [
      "/home/kemove/git/neuralforecast/neuralforecast/core.py:1255: UserWarning: Predict insample might not provide accurate predictions for                        recurrent model DilatedRNN class yet due to scaling.\n",
      "  warnings.warn(\n",
      "Trainer already configured with model summary callbacks: [<class 'pytorch_lightning.callbacks.model_summary.ModelSummary'>]. Skipping setting a default `ModelSummary` callback.\n",
      "GPU available: True (cuda), used: True\n",
      "TPU available: False, using: 0 TPU cores\n",
      "HPU available: False, using: 0 HPUs\n",
      "LOCAL_RANK: 0 - CUDA_VISIBLE_DEVICES: [0]\n"
     ]
    },
    {
     "name": "stdout",
     "output_type": "stream",
     "text": [
      "train_loss: 1.32459\n",
      "valid_loss: 1.10082\n",
      "WARNING: Predict insample might not provide accurate predictions for                       recurrent model DilatedRNN class yet due to scaling.\n"
     ]
    },
    {
     "data": {
      "application/vnd.jupyter.widget-view+json": {
       "model_id": "ea2d49ba7923440a9165daad4399d81d",
       "version_major": 2,
       "version_minor": 0
      },
      "text/plain": [
       "Predicting: |          | 0/? [00:00<?, ?it/s]"
      ]
     },
     "metadata": {},
     "output_type": "display_data"
    },
    {
     "name": "stderr",
     "output_type": "stream",
     "text": [
      "/home/kemove/git/neuralforecast/neuralforecast/core.py:210: FutureWarning: In a future version the predictions will have the id as a column. You can set the `NIXTLA_ID_AS_COL` environment variable to adopt the new behavior and to suppress this warning.\n",
      "  warnings.warn(\n"
     ]
    },
    {
     "name": "stdout",
     "output_type": "stream",
     "text": [
      "training MAE:\n"
     ]
    },
    {
     "data": {
      "text/html": [
       "<div>\n",
       "<style scoped>\n",
       "    .dataframe tbody tr th:only-of-type {\n",
       "        vertical-align: middle;\n",
       "    }\n",
       "\n",
       "    .dataframe tbody tr th {\n",
       "        vertical-align: top;\n",
       "    }\n",
       "\n",
       "    .dataframe thead th {\n",
       "        text-align: right;\n",
       "    }\n",
       "</style>\n",
       "<table border=\"1\" class=\"dataframe\">\n",
       "  <thead>\n",
       "    <tr style=\"text-align: right;\">\n",
       "      <th></th>\n",
       "      <th>DilatedRNN</th>\n",
       "      <th>DilatedRNN-median</th>\n",
       "      <th>DilatedRNN-lo-90</th>\n",
       "      <th>DilatedRNN-lo-80</th>\n",
       "      <th>DilatedRNN-hi-80</th>\n",
       "      <th>DilatedRNN-hi-90</th>\n",
       "      <th>best_model</th>\n",
       "    </tr>\n",
       "    <tr>\n",
       "      <th>unique_id</th>\n",
       "      <th></th>\n",
       "      <th></th>\n",
       "      <th></th>\n",
       "      <th></th>\n",
       "      <th></th>\n",
       "      <th></th>\n",
       "      <th></th>\n",
       "    </tr>\n",
       "  </thead>\n",
       "  <tbody>\n",
       "    <tr>\n",
       "      <th>399673</th>\n",
       "      <td>1.46559</td>\n",
       "      <td>1.466004</td>\n",
       "      <td>4.883756</td>\n",
       "      <td>3.854068</td>\n",
       "      <td>3.831717</td>\n",
       "      <td>4.865091</td>\n",
       "      <td>DilatedRNN</td>\n",
       "    </tr>\n",
       "  </tbody>\n",
       "</table>\n",
       "</div>"
      ],
      "text/plain": [
       "           DilatedRNN  DilatedRNN-median  DilatedRNN-lo-90  DilatedRNN-lo-80  \\\n",
       "unique_id                                                                      \n",
       "399673        1.46559           1.466004          4.883756          3.854068   \n",
       "\n",
       "           DilatedRNN-hi-80  DilatedRNN-hi-90  best_model  \n",
       "unique_id                                                  \n",
       "399673             3.831717          4.865091  DilatedRNN  "
      ]
     },
     "metadata": {},
     "output_type": "display_data"
    },
    {
     "name": "stdout",
     "output_type": "stream",
     "text": [
      "validation MAE:\n"
     ]
    },
    {
     "data": {
      "text/html": [
       "<div>\n",
       "<style scoped>\n",
       "    .dataframe tbody tr th:only-of-type {\n",
       "        vertical-align: middle;\n",
       "    }\n",
       "\n",
       "    .dataframe tbody tr th {\n",
       "        vertical-align: top;\n",
       "    }\n",
       "\n",
       "    .dataframe thead th {\n",
       "        text-align: right;\n",
       "    }\n",
       "</style>\n",
       "<table border=\"1\" class=\"dataframe\">\n",
       "  <thead>\n",
       "    <tr style=\"text-align: right;\">\n",
       "      <th></th>\n",
       "      <th>DilatedRNN</th>\n",
       "      <th>DilatedRNN-median</th>\n",
       "      <th>DilatedRNN-lo-90</th>\n",
       "      <th>DilatedRNN-lo-80</th>\n",
       "      <th>DilatedRNN-hi-80</th>\n",
       "      <th>DilatedRNN-hi-90</th>\n",
       "      <th>best_model</th>\n",
       "    </tr>\n",
       "    <tr>\n",
       "      <th>unique_id</th>\n",
       "      <th></th>\n",
       "      <th></th>\n",
       "      <th></th>\n",
       "      <th></th>\n",
       "      <th></th>\n",
       "      <th></th>\n",
       "      <th></th>\n",
       "    </tr>\n",
       "  </thead>\n",
       "  <tbody>\n",
       "    <tr>\n",
       "      <th>399673</th>\n",
       "      <td>0.8357</td>\n",
       "      <td>0.837277</td>\n",
       "      <td>3.899333</td>\n",
       "      <td>3.092012</td>\n",
       "      <td>2.751779</td>\n",
       "      <td>3.55637</td>\n",
       "      <td>DilatedRNN</td>\n",
       "    </tr>\n",
       "  </tbody>\n",
       "</table>\n",
       "</div>"
      ],
      "text/plain": [
       "           DilatedRNN  DilatedRNN-median  DilatedRNN-lo-90  DilatedRNN-lo-80  \\\n",
       "unique_id                                                                      \n",
       "399673         0.8357           0.837277          3.899333          3.092012   \n",
       "\n",
       "           DilatedRNN-hi-80  DilatedRNN-hi-90  best_model  \n",
       "unique_id                                                  \n",
       "399673             2.751779           3.55637  DilatedRNN  "
      ]
     },
     "metadata": {},
     "output_type": "display_data"
    }
   ],
   "source": [
    "train_and_evaluate(model, df_train)"
   ]
  },
  {
   "cell_type": "markdown",
   "metadata": {},
   "source": [
    "## FEDformer (0.49) (F)"
   ]
  },
  {
   "cell_type": "code",
   "execution_count": 60,
   "metadata": {},
   "outputs": [
    {
     "name": "stderr",
     "output_type": "stream",
     "text": [
      "Seed set to 1\n"
     ]
    }
   ],
   "source": [
    "model = FEDformer(\n",
    "    h=20,\n",
    "    input_size=48,\n",
    "    modes=64,\n",
    "    hidden_size=64,\n",
    "    conv_hidden_size=128,\n",
    "    n_head=8,\n",
    "    loss=MAE(),\n",
    "    futr_exog_list=exog,\n",
    "    # scaler_type=\"robust\",\n",
    "    learning_rate=1e-3,\n",
    "    max_steps=500,\n",
    "    batch_size=16,\n",
    "    windows_batch_size=32,\n",
    "    val_check_steps=5,\n",
    "    early_stop_patience_steps=10,\n",
    ")"
   ]
  },
  {
   "cell_type": "code",
   "execution_count": 61,
   "metadata": {},
   "outputs": [
    {
     "name": "stderr",
     "output_type": "stream",
     "text": [
      "GPU available: True (cuda), used: True\n",
      "TPU available: False, using: 0 TPU cores\n",
      "HPU available: False, using: 0 HPUs\n",
      "LOCAL_RANK: 0 - CUDA_VISIBLE_DEVICES: [0]\n",
      "\n",
      "  | Name          | Type          | Params | Mode \n",
      "--------------------------------------------------------\n",
      "0 | loss          | MAE           | 0      | train\n",
      "1 | padder_train  | ConstantPad1d | 0      | train\n",
      "2 | scaler        | TemporalNorm  | 0      | train\n",
      "3 | decomp        | SeriesDecomp  | 0      | train\n",
      "4 | enc_embedding | DataEmbedding | 896    | train\n",
      "5 | dec_embedding | DataEmbedding | 896    | train\n",
      "6 | encoder       | Encoder       | 78.5 K | train\n",
      "7 | decoder       | Decoder       | 72.6 K | train\n",
      "--------------------------------------------------------\n",
      "152 K     Trainable params\n",
      "0         Non-trainable params\n",
      "152 K     Total params\n",
      "0.611     Total estimated model params size (MB)\n",
      "84        Modules in train mode\n",
      "0         Modules in eval mode\n"
     ]
    },
    {
     "data": {
      "application/vnd.jupyter.widget-view+json": {
       "model_id": "2671dce31fcc46f6b7dacca38a865f8c",
       "version_major": 2,
       "version_minor": 0
      },
      "text/plain": [
       "Sanity Checking: |          | 0/? [00:00<?, ?it/s]"
      ]
     },
     "metadata": {},
     "output_type": "display_data"
    },
    {
     "data": {
      "application/vnd.jupyter.widget-view+json": {
       "model_id": "ed332c4b2d264d1cbc6050fcd7732385",
       "version_major": 2,
       "version_minor": 0
      },
      "text/plain": [
       "Training: |          | 0/? [00:00<?, ?it/s]"
      ]
     },
     "metadata": {},
     "output_type": "display_data"
    },
    {
     "data": {
      "application/vnd.jupyter.widget-view+json": {
       "model_id": "4d85b0d2cd9c4c17a8c9bca4da2e4910",
       "version_major": 2,
       "version_minor": 0
      },
      "text/plain": [
       "Validation: |          | 0/? [00:00<?, ?it/s]"
      ]
     },
     "metadata": {},
     "output_type": "display_data"
    },
    {
     "data": {
      "application/vnd.jupyter.widget-view+json": {
       "model_id": "9cef3196f81d44d6b557896472f7a5c9",
       "version_major": 2,
       "version_minor": 0
      },
      "text/plain": [
       "Validation: |          | 0/? [00:00<?, ?it/s]"
      ]
     },
     "metadata": {},
     "output_type": "display_data"
    },
    {
     "data": {
      "application/vnd.jupyter.widget-view+json": {
       "model_id": "ef6daf1ea82f4dc6b83741718e76a7c4",
       "version_major": 2,
       "version_minor": 0
      },
      "text/plain": [
       "Validation: |          | 0/? [00:00<?, ?it/s]"
      ]
     },
     "metadata": {},
     "output_type": "display_data"
    },
    {
     "data": {
      "application/vnd.jupyter.widget-view+json": {
       "model_id": "c90f51047de24a38ae730a4ecf532344",
       "version_major": 2,
       "version_minor": 0
      },
      "text/plain": [
       "Validation: |          | 0/? [00:00<?, ?it/s]"
      ]
     },
     "metadata": {},
     "output_type": "display_data"
    },
    {
     "data": {
      "application/vnd.jupyter.widget-view+json": {
       "model_id": "d1199cd8999a4765a867ac0f5d45cf14",
       "version_major": 2,
       "version_minor": 0
      },
      "text/plain": [
       "Validation: |          | 0/? [00:00<?, ?it/s]"
      ]
     },
     "metadata": {},
     "output_type": "display_data"
    },
    {
     "data": {
      "application/vnd.jupyter.widget-view+json": {
       "model_id": "ea4ef1a726824a0a88023dff2d20e5cd",
       "version_major": 2,
       "version_minor": 0
      },
      "text/plain": [
       "Validation: |          | 0/? [00:00<?, ?it/s]"
      ]
     },
     "metadata": {},
     "output_type": "display_data"
    },
    {
     "data": {
      "application/vnd.jupyter.widget-view+json": {
       "model_id": "67586feb511a44a6a81a31dc6735176d",
       "version_major": 2,
       "version_minor": 0
      },
      "text/plain": [
       "Validation: |          | 0/? [00:00<?, ?it/s]"
      ]
     },
     "metadata": {},
     "output_type": "display_data"
    },
    {
     "data": {
      "application/vnd.jupyter.widget-view+json": {
       "model_id": "00bfe640f9634ff08b3fad8eb406605c",
       "version_major": 2,
       "version_minor": 0
      },
      "text/plain": [
       "Validation: |          | 0/? [00:00<?, ?it/s]"
      ]
     },
     "metadata": {},
     "output_type": "display_data"
    },
    {
     "data": {
      "application/vnd.jupyter.widget-view+json": {
       "model_id": "22d9ee4485c14c08aebec00c9c8d7abc",
       "version_major": 2,
       "version_minor": 0
      },
      "text/plain": [
       "Validation: |          | 0/? [00:00<?, ?it/s]"
      ]
     },
     "metadata": {},
     "output_type": "display_data"
    },
    {
     "data": {
      "application/vnd.jupyter.widget-view+json": {
       "model_id": "c7f4eb2c06a44adb9243d78f65a08005",
       "version_major": 2,
       "version_minor": 0
      },
      "text/plain": [
       "Validation: |          | 0/? [00:00<?, ?it/s]"
      ]
     },
     "metadata": {},
     "output_type": "display_data"
    },
    {
     "data": {
      "application/vnd.jupyter.widget-view+json": {
       "model_id": "cabbf349a21747af916b60b8d8a49c68",
       "version_major": 2,
       "version_minor": 0
      },
      "text/plain": [
       "Validation: |          | 0/? [00:00<?, ?it/s]"
      ]
     },
     "metadata": {},
     "output_type": "display_data"
    },
    {
     "data": {
      "application/vnd.jupyter.widget-view+json": {
       "model_id": "a2db3c0ff7e14600aa63f10e320780c5",
       "version_major": 2,
       "version_minor": 0
      },
      "text/plain": [
       "Validation: |          | 0/? [00:00<?, ?it/s]"
      ]
     },
     "metadata": {},
     "output_type": "display_data"
    },
    {
     "data": {
      "application/vnd.jupyter.widget-view+json": {
       "model_id": "c104edbed58b4fbaaad1de35ed8bb074",
       "version_major": 2,
       "version_minor": 0
      },
      "text/plain": [
       "Validation: |          | 0/? [00:00<?, ?it/s]"
      ]
     },
     "metadata": {},
     "output_type": "display_data"
    },
    {
     "data": {
      "application/vnd.jupyter.widget-view+json": {
       "model_id": "1f6aecd6255f4553acd5091452dab1fb",
       "version_major": 2,
       "version_minor": 0
      },
      "text/plain": [
       "Validation: |          | 0/? [00:00<?, ?it/s]"
      ]
     },
     "metadata": {},
     "output_type": "display_data"
    },
    {
     "data": {
      "application/vnd.jupyter.widget-view+json": {
       "model_id": "78e6486d4ab54c42922c1081c8c7ebc8",
       "version_major": 2,
       "version_minor": 0
      },
      "text/plain": [
       "Validation: |          | 0/? [00:00<?, ?it/s]"
      ]
     },
     "metadata": {},
     "output_type": "display_data"
    },
    {
     "data": {
      "application/vnd.jupyter.widget-view+json": {
       "model_id": "caf253e06a984b42b4eb9d2c03f68447",
       "version_major": 2,
       "version_minor": 0
      },
      "text/plain": [
       "Validation: |          | 0/? [00:00<?, ?it/s]"
      ]
     },
     "metadata": {},
     "output_type": "display_data"
    },
    {
     "data": {
      "application/vnd.jupyter.widget-view+json": {
       "model_id": "4e1c85932ceb4bc8852cd4c947a62366",
       "version_major": 2,
       "version_minor": 0
      },
      "text/plain": [
       "Validation: |          | 0/? [00:00<?, ?it/s]"
      ]
     },
     "metadata": {},
     "output_type": "display_data"
    },
    {
     "data": {
      "application/vnd.jupyter.widget-view+json": {
       "model_id": "5c4bbb571f0641318146df570d472481",
       "version_major": 2,
       "version_minor": 0
      },
      "text/plain": [
       "Validation: |          | 0/? [00:00<?, ?it/s]"
      ]
     },
     "metadata": {},
     "output_type": "display_data"
    },
    {
     "data": {
      "application/vnd.jupyter.widget-view+json": {
       "model_id": "8c4c166bec5942648e4f33af87577575",
       "version_major": 2,
       "version_minor": 0
      },
      "text/plain": [
       "Validation: |          | 0/? [00:00<?, ?it/s]"
      ]
     },
     "metadata": {},
     "output_type": "display_data"
    },
    {
     "data": {
      "application/vnd.jupyter.widget-view+json": {
       "model_id": "d3fe93151470414294d0d61be2e7eb81",
       "version_major": 2,
       "version_minor": 0
      },
      "text/plain": [
       "Validation: |          | 0/? [00:00<?, ?it/s]"
      ]
     },
     "metadata": {},
     "output_type": "display_data"
    },
    {
     "data": {
      "application/vnd.jupyter.widget-view+json": {
       "model_id": "a100a11a59e24706b2567de70498d1d9",
       "version_major": 2,
       "version_minor": 0
      },
      "text/plain": [
       "Validation: |          | 0/? [00:00<?, ?it/s]"
      ]
     },
     "metadata": {},
     "output_type": "display_data"
    },
    {
     "data": {
      "application/vnd.jupyter.widget-view+json": {
       "model_id": "4de50ef1370b48e4809689058817eea6",
       "version_major": 2,
       "version_minor": 0
      },
      "text/plain": [
       "Validation: |          | 0/? [00:00<?, ?it/s]"
      ]
     },
     "metadata": {},
     "output_type": "display_data"
    },
    {
     "data": {
      "application/vnd.jupyter.widget-view+json": {
       "model_id": "89385585a2ee4257a2874a5ee00623b4",
       "version_major": 2,
       "version_minor": 0
      },
      "text/plain": [
       "Validation: |          | 0/? [00:00<?, ?it/s]"
      ]
     },
     "metadata": {},
     "output_type": "display_data"
    },
    {
     "data": {
      "application/vnd.jupyter.widget-view+json": {
       "model_id": "9b5d575d2d5f4b7d8091f4175825522c",
       "version_major": 2,
       "version_minor": 0
      },
      "text/plain": [
       "Validation: |          | 0/? [00:00<?, ?it/s]"
      ]
     },
     "metadata": {},
     "output_type": "display_data"
    },
    {
     "data": {
      "application/vnd.jupyter.widget-view+json": {
       "model_id": "23dd02282427460783805d848ef7750d",
       "version_major": 2,
       "version_minor": 0
      },
      "text/plain": [
       "Validation: |          | 0/? [00:00<?, ?it/s]"
      ]
     },
     "metadata": {},
     "output_type": "display_data"
    },
    {
     "data": {
      "application/vnd.jupyter.widget-view+json": {
       "model_id": "7156d84f9a394fda905797a32355c335",
       "version_major": 2,
       "version_minor": 0
      },
      "text/plain": [
       "Validation: |          | 0/? [00:00<?, ?it/s]"
      ]
     },
     "metadata": {},
     "output_type": "display_data"
    },
    {
     "data": {
      "application/vnd.jupyter.widget-view+json": {
       "model_id": "ba1582732f5a486380405e21984c16c3",
       "version_major": 2,
       "version_minor": 0
      },
      "text/plain": [
       "Validation: |          | 0/? [00:00<?, ?it/s]"
      ]
     },
     "metadata": {},
     "output_type": "display_data"
    },
    {
     "data": {
      "application/vnd.jupyter.widget-view+json": {
       "model_id": "a1c1b48ebf774dfa87577ddddcf6a331",
       "version_major": 2,
       "version_minor": 0
      },
      "text/plain": [
       "Validation: |          | 0/? [00:00<?, ?it/s]"
      ]
     },
     "metadata": {},
     "output_type": "display_data"
    },
    {
     "data": {
      "application/vnd.jupyter.widget-view+json": {
       "model_id": "48f6a7067274498c92ba1f8bfcfecb56",
       "version_major": 2,
       "version_minor": 0
      },
      "text/plain": [
       "Validation: |          | 0/? [00:00<?, ?it/s]"
      ]
     },
     "metadata": {},
     "output_type": "display_data"
    },
    {
     "data": {
      "application/vnd.jupyter.widget-view+json": {
       "model_id": "603550e428c84145a522c33c78129456",
       "version_major": 2,
       "version_minor": 0
      },
      "text/plain": [
       "Validation: |          | 0/? [00:00<?, ?it/s]"
      ]
     },
     "metadata": {},
     "output_type": "display_data"
    },
    {
     "data": {
      "application/vnd.jupyter.widget-view+json": {
       "model_id": "ee72fd287bc346babd5ec531c7e34763",
       "version_major": 2,
       "version_minor": 0
      },
      "text/plain": [
       "Validation: |          | 0/? [00:00<?, ?it/s]"
      ]
     },
     "metadata": {},
     "output_type": "display_data"
    },
    {
     "data": {
      "application/vnd.jupyter.widget-view+json": {
       "model_id": "795f4099eac34f6a9f3f05ac2c36226f",
       "version_major": 2,
       "version_minor": 0
      },
      "text/plain": [
       "Validation: |          | 0/? [00:00<?, ?it/s]"
      ]
     },
     "metadata": {},
     "output_type": "display_data"
    },
    {
     "data": {
      "application/vnd.jupyter.widget-view+json": {
       "model_id": "675e726fb8dd403d9fb0ad5f2ba6b81b",
       "version_major": 2,
       "version_minor": 0
      },
      "text/plain": [
       "Validation: |          | 0/? [00:00<?, ?it/s]"
      ]
     },
     "metadata": {},
     "output_type": "display_data"
    },
    {
     "data": {
      "application/vnd.jupyter.widget-view+json": {
       "model_id": "05f3f46194584e68a58a61370b08bba5",
       "version_major": 2,
       "version_minor": 0
      },
      "text/plain": [
       "Validation: |          | 0/? [00:00<?, ?it/s]"
      ]
     },
     "metadata": {},
     "output_type": "display_data"
    },
    {
     "data": {
      "application/vnd.jupyter.widget-view+json": {
       "model_id": "3f2b49c96ba64c2eaecfae71b364bce0",
       "version_major": 2,
       "version_minor": 0
      },
      "text/plain": [
       "Validation: |          | 0/? [00:00<?, ?it/s]"
      ]
     },
     "metadata": {},
     "output_type": "display_data"
    },
    {
     "name": "stderr",
     "output_type": "stream",
     "text": [
      "Trainer already configured with model summary callbacks: [<class 'pytorch_lightning.callbacks.model_summary.ModelSummary'>]. Skipping setting a default `ModelSummary` callback.\n",
      "GPU available: True (cuda), used: True\n",
      "TPU available: False, using: 0 TPU cores\n",
      "HPU available: False, using: 0 HPUs\n",
      "LOCAL_RANK: 0 - CUDA_VISIBLE_DEVICES: [0]\n"
     ]
    },
    {
     "name": "stdout",
     "output_type": "stream",
     "text": [
      "train_loss: 0.31247\n",
      "valid_loss: 0.30009\n"
     ]
    },
    {
     "data": {
      "application/vnd.jupyter.widget-view+json": {
       "model_id": "ec968af9f7a0493e95f8dc3bbe638036",
       "version_major": 2,
       "version_minor": 0
      },
      "text/plain": [
       "Predicting: |          | 0/? [00:00<?, ?it/s]"
      ]
     },
     "metadata": {},
     "output_type": "display_data"
    },
    {
     "name": "stderr",
     "output_type": "stream",
     "text": [
      "/home/kemove/git/neuralforecast/neuralforecast/core.py:210: FutureWarning: In a future version the predictions will have the id as a column. You can set the `NIXTLA_ID_AS_COL` environment variable to adopt the new behavior and to suppress this warning.\n",
      "  warnings.warn(\n"
     ]
    },
    {
     "name": "stdout",
     "output_type": "stream",
     "text": [
      "training MAE:\n"
     ]
    },
    {
     "data": {
      "text/html": [
       "<div>\n",
       "<style scoped>\n",
       "    .dataframe tbody tr th:only-of-type {\n",
       "        vertical-align: middle;\n",
       "    }\n",
       "\n",
       "    .dataframe tbody tr th {\n",
       "        vertical-align: top;\n",
       "    }\n",
       "\n",
       "    .dataframe thead th {\n",
       "        text-align: right;\n",
       "    }\n",
       "</style>\n",
       "<table border=\"1\" class=\"dataframe\">\n",
       "  <thead>\n",
       "    <tr style=\"text-align: right;\">\n",
       "      <th></th>\n",
       "      <th>FEDformer</th>\n",
       "      <th>best_model</th>\n",
       "    </tr>\n",
       "    <tr>\n",
       "      <th>unique_id</th>\n",
       "      <th></th>\n",
       "      <th></th>\n",
       "    </tr>\n",
       "  </thead>\n",
       "  <tbody>\n",
       "    <tr>\n",
       "      <th>399673</th>\n",
       "      <td>0.706851</td>\n",
       "      <td>FEDformer</td>\n",
       "    </tr>\n",
       "  </tbody>\n",
       "</table>\n",
       "</div>"
      ],
      "text/plain": [
       "           FEDformer best_model\n",
       "unique_id                      \n",
       "399673      0.706851  FEDformer"
      ]
     },
     "metadata": {},
     "output_type": "display_data"
    },
    {
     "name": "stdout",
     "output_type": "stream",
     "text": [
      "validation MAE:\n"
     ]
    },
    {
     "data": {
      "text/html": [
       "<div>\n",
       "<style scoped>\n",
       "    .dataframe tbody tr th:only-of-type {\n",
       "        vertical-align: middle;\n",
       "    }\n",
       "\n",
       "    .dataframe tbody tr th {\n",
       "        vertical-align: top;\n",
       "    }\n",
       "\n",
       "    .dataframe thead th {\n",
       "        text-align: right;\n",
       "    }\n",
       "</style>\n",
       "<table border=\"1\" class=\"dataframe\">\n",
       "  <thead>\n",
       "    <tr style=\"text-align: right;\">\n",
       "      <th></th>\n",
       "      <th>FEDformer</th>\n",
       "      <th>best_model</th>\n",
       "    </tr>\n",
       "    <tr>\n",
       "      <th>unique_id</th>\n",
       "      <th></th>\n",
       "      <th></th>\n",
       "    </tr>\n",
       "  </thead>\n",
       "  <tbody>\n",
       "    <tr>\n",
       "      <th>399673</th>\n",
       "      <td>0.493277</td>\n",
       "      <td>FEDformer</td>\n",
       "    </tr>\n",
       "  </tbody>\n",
       "</table>\n",
       "</div>"
      ],
      "text/plain": [
       "           FEDformer best_model\n",
       "unique_id                      \n",
       "399673      0.493277  FEDformer"
      ]
     },
     "metadata": {},
     "output_type": "display_data"
    }
   ],
   "source": [
    "train_and_evaluate(model, df_train)"
   ]
  },
  {
   "cell_type": "markdown",
   "metadata": {},
   "source": [
    "## GRU (1.4)"
   ]
  },
  {
   "cell_type": "code",
   "execution_count": 95,
   "metadata": {},
   "outputs": [
    {
     "name": "stderr",
     "output_type": "stream",
     "text": [
      "Seed set to 1\n"
     ]
    }
   ],
   "source": [
    "model = GRU(\n",
    "    h=20,\n",
    "    input_size=-1,\n",
    "    loss=DistributionLoss(distribution=\"Normal\", level=[80, 90]),\n",
    "    # scaler_type=\"robust\",\n",
    "    encoder_n_layers=2,\n",
    "    encoder_hidden_size=128,\n",
    "    context_size=10,\n",
    "    decoder_hidden_size=128,\n",
    "    decoder_layers=2,\n",
    "    max_steps=500,\n",
    "    # futr_exog_list=exog,\n",
    "    hist_exog_list=exog,\n",
    ")"
   ]
  },
  {
   "cell_type": "code",
   "execution_count": 96,
   "metadata": {},
   "outputs": [
    {
     "name": "stderr",
     "output_type": "stream",
     "text": [
      "GPU available: True (cuda), used: True\n",
      "TPU available: False, using: 0 TPU cores\n",
      "HPU available: False, using: 0 HPUs\n",
      "LOCAL_RANK: 0 - CUDA_VISIBLE_DEVICES: [0]\n",
      "\n",
      "  | Name            | Type             | Params | Mode \n",
      "-------------------------------------------------------------\n",
      "0 | loss            | DistributionLoss | 5      | train\n",
      "1 | padder          | ConstantPad1d    | 0      | train\n",
      "2 | scaler          | TemporalNorm     | 0      | train\n",
      "3 | hist_encoder    | GRU              | 153 K  | train\n",
      "4 | context_adapter | Linear           | 25.8 K | train\n",
      "5 | mlp_decoder     | MLP              | 1.7 K  | train\n",
      "-------------------------------------------------------------\n",
      "181 K     Trainable params\n",
      "5         Non-trainable params\n",
      "181 K     Total params\n",
      "0.724     Total estimated model params size (MB)\n",
      "11        Modules in train mode\n",
      "0         Modules in eval mode\n"
     ]
    },
    {
     "data": {
      "application/vnd.jupyter.widget-view+json": {
       "model_id": "49dd4c2d53bb4c0099e563adb8a704aa",
       "version_major": 2,
       "version_minor": 0
      },
      "text/plain": [
       "Sanity Checking: |          | 0/? [00:00<?, ?it/s]"
      ]
     },
     "metadata": {},
     "output_type": "display_data"
    },
    {
     "data": {
      "application/vnd.jupyter.widget-view+json": {
       "model_id": "517e76bce3af4f76b7a27b855c817824",
       "version_major": 2,
       "version_minor": 0
      },
      "text/plain": [
       "Training: |          | 0/? [00:00<?, ?it/s]"
      ]
     },
     "metadata": {},
     "output_type": "display_data"
    },
    {
     "data": {
      "application/vnd.jupyter.widget-view+json": {
       "model_id": "b922920db08b4ebdbc84e908a80cfdfa",
       "version_major": 2,
       "version_minor": 0
      },
      "text/plain": [
       "Validation: |          | 0/? [00:00<?, ?it/s]"
      ]
     },
     "metadata": {},
     "output_type": "display_data"
    },
    {
     "data": {
      "application/vnd.jupyter.widget-view+json": {
       "model_id": "8261e70b294c42beaf77aeec7b66ff70",
       "version_major": 2,
       "version_minor": 0
      },
      "text/plain": [
       "Validation: |          | 0/? [00:00<?, ?it/s]"
      ]
     },
     "metadata": {},
     "output_type": "display_data"
    },
    {
     "data": {
      "application/vnd.jupyter.widget-view+json": {
       "model_id": "7dd2d12ec41841a5bec5d354770f0385",
       "version_major": 2,
       "version_minor": 0
      },
      "text/plain": [
       "Validation: |          | 0/? [00:00<?, ?it/s]"
      ]
     },
     "metadata": {},
     "output_type": "display_data"
    },
    {
     "data": {
      "application/vnd.jupyter.widget-view+json": {
       "model_id": "5fd7413742a14efdba3b49e497dae77b",
       "version_major": 2,
       "version_minor": 0
      },
      "text/plain": [
       "Validation: |          | 0/? [00:00<?, ?it/s]"
      ]
     },
     "metadata": {},
     "output_type": "display_data"
    },
    {
     "data": {
      "application/vnd.jupyter.widget-view+json": {
       "model_id": "1e9ca0956a5144858b949815ebdeaec8",
       "version_major": 2,
       "version_minor": 0
      },
      "text/plain": [
       "Validation: |          | 0/? [00:00<?, ?it/s]"
      ]
     },
     "metadata": {},
     "output_type": "display_data"
    },
    {
     "name": "stderr",
     "output_type": "stream",
     "text": [
      "`Trainer.fit` stopped: `max_steps=500` reached.\n",
      "/home/kemove/git/neuralforecast/neuralforecast/core.py:1255: UserWarning: Predict insample might not provide accurate predictions for                        recurrent model GRU class yet due to scaling.\n",
      "  warnings.warn(\n",
      "GPU available: True (cuda), used: True\n",
      "TPU available: False, using: 0 TPU cores\n",
      "HPU available: False, using: 0 HPUs\n",
      "LOCAL_RANK: 0 - CUDA_VISIBLE_DEVICES: [0]\n"
     ]
    },
    {
     "name": "stdout",
     "output_type": "stream",
     "text": [
      "train_loss: 1.18491\n",
      "valid_loss: 1.13249\n",
      "WARNING: Predict insample might not provide accurate predictions for                       recurrent model GRU class yet due to scaling.\n"
     ]
    },
    {
     "data": {
      "application/vnd.jupyter.widget-view+json": {
       "model_id": "55a83efa251e419a97f3512447775fd5",
       "version_major": 2,
       "version_minor": 0
      },
      "text/plain": [
       "Predicting: |          | 0/? [00:00<?, ?it/s]"
      ]
     },
     "metadata": {},
     "output_type": "display_data"
    },
    {
     "name": "stderr",
     "output_type": "stream",
     "text": [
      "/home/kemove/git/neuralforecast/neuralforecast/core.py:210: FutureWarning: In a future version the predictions will have the id as a column. You can set the `NIXTLA_ID_AS_COL` environment variable to adopt the new behavior and to suppress this warning.\n",
      "  warnings.warn(\n"
     ]
    },
    {
     "name": "stdout",
     "output_type": "stream",
     "text": [
      "training MAE:\n"
     ]
    },
    {
     "data": {
      "text/html": [
       "<div>\n",
       "<style scoped>\n",
       "    .dataframe tbody tr th:only-of-type {\n",
       "        vertical-align: middle;\n",
       "    }\n",
       "\n",
       "    .dataframe tbody tr th {\n",
       "        vertical-align: top;\n",
       "    }\n",
       "\n",
       "    .dataframe thead th {\n",
       "        text-align: right;\n",
       "    }\n",
       "</style>\n",
       "<table border=\"1\" class=\"dataframe\">\n",
       "  <thead>\n",
       "    <tr style=\"text-align: right;\">\n",
       "      <th></th>\n",
       "      <th>GRU</th>\n",
       "      <th>GRU-median</th>\n",
       "      <th>GRU-lo-90</th>\n",
       "      <th>GRU-lo-80</th>\n",
       "      <th>GRU-hi-80</th>\n",
       "      <th>GRU-hi-90</th>\n",
       "      <th>best_model</th>\n",
       "    </tr>\n",
       "    <tr>\n",
       "      <th>unique_id</th>\n",
       "      <th></th>\n",
       "      <th></th>\n",
       "      <th></th>\n",
       "      <th></th>\n",
       "      <th></th>\n",
       "      <th></th>\n",
       "      <th></th>\n",
       "    </tr>\n",
       "  </thead>\n",
       "  <tbody>\n",
       "    <tr>\n",
       "      <th>399673</th>\n",
       "      <td>1.890334</td>\n",
       "      <td>1.892182</td>\n",
       "      <td>8.47146</td>\n",
       "      <td>6.722533</td>\n",
       "      <td>5.765444</td>\n",
       "      <td>7.517992</td>\n",
       "      <td>GRU</td>\n",
       "    </tr>\n",
       "  </tbody>\n",
       "</table>\n",
       "</div>"
      ],
      "text/plain": [
       "                GRU  GRU-median  GRU-lo-90  GRU-lo-80  GRU-hi-80  GRU-hi-90  \\\n",
       "unique_id                                                                     \n",
       "399673     1.890334    1.892182    8.47146   6.722533   5.765444   7.517992   \n",
       "\n",
       "          best_model  \n",
       "unique_id             \n",
       "399673           GRU  "
      ]
     },
     "metadata": {},
     "output_type": "display_data"
    },
    {
     "name": "stdout",
     "output_type": "stream",
     "text": [
      "validation MAE:\n"
     ]
    },
    {
     "data": {
      "text/html": [
       "<div>\n",
       "<style scoped>\n",
       "    .dataframe tbody tr th:only-of-type {\n",
       "        vertical-align: middle;\n",
       "    }\n",
       "\n",
       "    .dataframe tbody tr th {\n",
       "        vertical-align: top;\n",
       "    }\n",
       "\n",
       "    .dataframe thead th {\n",
       "        text-align: right;\n",
       "    }\n",
       "</style>\n",
       "<table border=\"1\" class=\"dataframe\">\n",
       "  <thead>\n",
       "    <tr style=\"text-align: right;\">\n",
       "      <th></th>\n",
       "      <th>GRU</th>\n",
       "      <th>GRU-median</th>\n",
       "      <th>GRU-lo-90</th>\n",
       "      <th>GRU-lo-80</th>\n",
       "      <th>GRU-hi-80</th>\n",
       "      <th>GRU-hi-90</th>\n",
       "      <th>best_model</th>\n",
       "    </tr>\n",
       "    <tr>\n",
       "      <th>unique_id</th>\n",
       "      <th></th>\n",
       "      <th></th>\n",
       "      <th></th>\n",
       "      <th></th>\n",
       "      <th></th>\n",
       "      <th></th>\n",
       "      <th></th>\n",
       "    </tr>\n",
       "  </thead>\n",
       "  <tbody>\n",
       "    <tr>\n",
       "      <th>399673</th>\n",
       "      <td>1.407417</td>\n",
       "      <td>1.414118</td>\n",
       "      <td>6.722407</td>\n",
       "      <td>5.322334</td>\n",
       "      <td>4.760321</td>\n",
       "      <td>6.176801</td>\n",
       "      <td>GRU</td>\n",
       "    </tr>\n",
       "  </tbody>\n",
       "</table>\n",
       "</div>"
      ],
      "text/plain": [
       "                GRU  GRU-median  GRU-lo-90  GRU-lo-80  GRU-hi-80  GRU-hi-90  \\\n",
       "unique_id                                                                     \n",
       "399673     1.407417    1.414118   6.722407   5.322334   4.760321   6.176801   \n",
       "\n",
       "          best_model  \n",
       "unique_id             \n",
       "399673           GRU  "
      ]
     },
     "metadata": {},
     "output_type": "display_data"
    }
   ],
   "source": [
    "train_and_evaluate(model, df_train)"
   ]
  },
  {
   "cell_type": "markdown",
   "metadata": {},
   "source": [
    "## HINT"
   ]
  },
  {
   "cell_type": "code",
   "execution_count": 12,
   "metadata": {},
   "outputs": [
    {
     "name": "stderr",
     "output_type": "stream",
     "text": [
      "Seed set to 1\n"
     ]
    }
   ],
   "source": [
    "from neuralforecast.models import HINT, NHITS\n",
    "horizon = 20\n",
    "nhits = NHITS(\n",
    "    h=horizon,\n",
    "    input_size=24,\n",
    "    loss=GMM(n_components=10, level=[80, 90]),\n",
    "    max_steps=500,\n",
    "    early_stop_patience_steps=5,\n",
    "    val_check_steps=5,\n",
    "    # scaler_type=\"robust\",\n",
    "    learning_rate=1e-3,\n",
    "    valid_loss=sCRPS(level=[80, 90]),\n",
    "    futr_exog_list=exog,\n",
    "    hist_exog_list=exog,\n",
    ")\n",
    "model = HINT(h=horizon, S=S_df.values, model=nhits, reconciliation=\"BottomUp\")"
   ]
  },
  {
   "cell_type": "code",
   "execution_count": 20,
   "metadata": {},
   "outputs": [
    {
     "name": "stderr",
     "output_type": "stream",
     "text": [
      "GPU available: True (cuda), used: True\n",
      "TPU available: False, using: 0 TPU cores\n",
      "HPU available: False, using: 0 HPUs\n"
     ]
    },
    {
     "name": "stderr",
     "output_type": "stream",
     "text": [
      "LOCAL_RANK: 0 - CUDA_VISIBLE_DEVICES: [0]\n",
      "\n",
      "  | Name         | Type          | Params | Mode \n",
      "-------------------------------------------------------\n",
      "0 | loss         | GMM           | 5      | train\n",
      "1 | valid_loss   | sCRPS         | 5      | train\n",
      "2 | padder_train | ConstantPad1d | 0      | train\n",
      "3 | scaler       | TemporalNorm  | 0      | train\n",
      "4 | blocks       | ModuleList    | 3.6 M  | train\n",
      "-------------------------------------------------------\n",
      "3.6 M     Trainable params\n",
      "10        Non-trainable params\n",
      "3.6 M     Total params\n",
      "14.208    Total estimated model params size (MB)\n",
      "36        Modules in train mode\n",
      "0         Modules in eval mode\n"
     ]
    },
    {
     "data": {
      "application/vnd.jupyter.widget-view+json": {
       "model_id": "76e904f5a9d14ea996fd696e0e2d5ee8",
       "version_major": 2,
       "version_minor": 0
      },
      "text/plain": [
       "Sanity Checking: |          | 0/? [00:00<?, ?it/s]"
      ]
     },
     "metadata": {},
     "output_type": "display_data"
    },
    {
     "data": {
      "application/vnd.jupyter.widget-view+json": {
       "model_id": "20be1fbc8813484ca7719910d10273fb",
       "version_major": 2,
       "version_minor": 0
      },
      "text/plain": [
       "Training: |          | 0/? [00:00<?, ?it/s]"
      ]
     },
     "metadata": {},
     "output_type": "display_data"
    },
    {
     "data": {
      "application/vnd.jupyter.widget-view+json": {
       "model_id": "77a5f7ff394b495789ae6bc5a0607d4d",
       "version_major": 2,
       "version_minor": 0
      },
      "text/plain": [
       "Validation: |          | 0/? [00:00<?, ?it/s]"
      ]
     },
     "metadata": {},
     "output_type": "display_data"
    },
    {
     "data": {
      "application/vnd.jupyter.widget-view+json": {
       "model_id": "41a455c0a988415fb51a5f603d5f4f39",
       "version_major": 2,
       "version_minor": 0
      },
      "text/plain": [
       "Validation: |          | 0/? [00:00<?, ?it/s]"
      ]
     },
     "metadata": {},
     "output_type": "display_data"
    },
    {
     "data": {
      "application/vnd.jupyter.widget-view+json": {
       "model_id": "6da40cf08c5d477cbfcd42a7b21c2fb5",
       "version_major": 2,
       "version_minor": 0
      },
      "text/plain": [
       "Validation: |          | 0/? [00:00<?, ?it/s]"
      ]
     },
     "metadata": {},
     "output_type": "display_data"
    },
    {
     "data": {
      "application/vnd.jupyter.widget-view+json": {
       "model_id": "ba405718169e4f9f803c3680b899ae2d",
       "version_major": 2,
       "version_minor": 0
      },
      "text/plain": [
       "Validation: |          | 0/? [00:00<?, ?it/s]"
      ]
     },
     "metadata": {},
     "output_type": "display_data"
    },
    {
     "data": {
      "application/vnd.jupyter.widget-view+json": {
       "model_id": "a87644465daa4b58846267f5923434b6",
       "version_major": 2,
       "version_minor": 0
      },
      "text/plain": [
       "Validation: |          | 0/? [00:00<?, ?it/s]"
      ]
     },
     "metadata": {},
     "output_type": "display_data"
    },
    {
     "data": {
      "application/vnd.jupyter.widget-view+json": {
       "model_id": "081a9ffae84748b38019cfefdec8efeb",
       "version_major": 2,
       "version_minor": 0
      },
      "text/plain": [
       "Validation: |          | 0/? [00:00<?, ?it/s]"
      ]
     },
     "metadata": {},
     "output_type": "display_data"
    },
    {
     "data": {
      "application/vnd.jupyter.widget-view+json": {
       "model_id": "e653ee22ccef426ebc2b0a4aa842c779",
       "version_major": 2,
       "version_minor": 0
      },
      "text/plain": [
       "Validation: |          | 0/? [00:00<?, ?it/s]"
      ]
     },
     "metadata": {},
     "output_type": "display_data"
    },
    {
     "data": {
      "application/vnd.jupyter.widget-view+json": {
       "model_id": "c0bbfceaf75748118b96fa9e18e5bea0",
       "version_major": 2,
       "version_minor": 0
      },
      "text/plain": [
       "Validation: |          | 0/? [00:00<?, ?it/s]"
      ]
     },
     "metadata": {},
     "output_type": "display_data"
    },
    {
     "data": {
      "application/vnd.jupyter.widget-view+json": {
       "model_id": "3f3c7acf46ae444a92e3e7b84d529c9f",
       "version_major": 2,
       "version_minor": 0
      },
      "text/plain": [
       "Validation: |          | 0/? [00:00<?, ?it/s]"
      ]
     },
     "metadata": {},
     "output_type": "display_data"
    },
    {
     "data": {
      "application/vnd.jupyter.widget-view+json": {
       "model_id": "aba948b2d5834cb1bddba8286058beb9",
       "version_major": 2,
       "version_minor": 0
      },
      "text/plain": [
       "Validation: |          | 0/? [00:00<?, ?it/s]"
      ]
     },
     "metadata": {},
     "output_type": "display_data"
    },
    {
     "data": {
      "application/vnd.jupyter.widget-view+json": {
       "model_id": "d7f068e3cf484d5c9461b8fc1ada81f0",
       "version_major": 2,
       "version_minor": 0
      },
      "text/plain": [
       "Validation: |          | 0/? [00:00<?, ?it/s]"
      ]
     },
     "metadata": {},
     "output_type": "display_data"
    },
    {
     "data": {
      "application/vnd.jupyter.widget-view+json": {
       "model_id": "cdcbb0f553ef4905947609a28ffdb887",
       "version_major": 2,
       "version_minor": 0
      },
      "text/plain": [
       "Validation: |          | 0/? [00:00<?, ?it/s]"
      ]
     },
     "metadata": {},
     "output_type": "display_data"
    },
    {
     "data": {
      "application/vnd.jupyter.widget-view+json": {
       "model_id": "44c5ddf4ff11493b9298bd18e2e09aed",
       "version_major": 2,
       "version_minor": 0
      },
      "text/plain": [
       "Validation: |          | 0/? [00:00<?, ?it/s]"
      ]
     },
     "metadata": {},
     "output_type": "display_data"
    },
    {
     "data": {
      "application/vnd.jupyter.widget-view+json": {
       "model_id": "83aa5d3785d148b3863c3f52e9b7ef76",
       "version_major": 2,
       "version_minor": 0
      },
      "text/plain": [
       "Validation: |          | 0/? [00:00<?, ?it/s]"
      ]
     },
     "metadata": {},
     "output_type": "display_data"
    },
    {
     "data": {
      "application/vnd.jupyter.widget-view+json": {
       "model_id": "0be385f95f1a4cba98d2ffb137b9a176",
       "version_major": 2,
       "version_minor": 0
      },
      "text/plain": [
       "Validation: |          | 0/? [00:00<?, ?it/s]"
      ]
     },
     "metadata": {},
     "output_type": "display_data"
    },
    {
     "data": {
      "application/vnd.jupyter.widget-view+json": {
       "model_id": "87978f6520c246a4a27e16fa9ea4f7ce",
       "version_major": 2,
       "version_minor": 0
      },
      "text/plain": [
       "Validation: |          | 0/? [00:00<?, ?it/s]"
      ]
     },
     "metadata": {},
     "output_type": "display_data"
    },
    {
     "data": {
      "application/vnd.jupyter.widget-view+json": {
       "model_id": "850c50ececbb4603a269d818cb238786",
       "version_major": 2,
       "version_minor": 0
      },
      "text/plain": [
       "Validation: |          | 0/? [00:00<?, ?it/s]"
      ]
     },
     "metadata": {},
     "output_type": "display_data"
    },
    {
     "data": {
      "application/vnd.jupyter.widget-view+json": {
       "model_id": "c95f3c9135c14b2a9e6f7d005c21490c",
       "version_major": 2,
       "version_minor": 0
      },
      "text/plain": [
       "Validation: |          | 0/? [00:00<?, ?it/s]"
      ]
     },
     "metadata": {},
     "output_type": "display_data"
    },
    {
     "data": {
      "application/vnd.jupyter.widget-view+json": {
       "model_id": "e8d4c687d48b4c798606ad0e160daf7f",
       "version_major": 2,
       "version_minor": 0
      },
      "text/plain": [
       "Validation: |          | 0/? [00:00<?, ?it/s]"
      ]
     },
     "metadata": {},
     "output_type": "display_data"
    },
    {
     "data": {
      "application/vnd.jupyter.widget-view+json": {
       "model_id": "6d0e1f3a38b6438cad404e35240c321c",
       "version_major": 2,
       "version_minor": 0
      },
      "text/plain": [
       "Validation: |          | 0/? [00:00<?, ?it/s]"
      ]
     },
     "metadata": {},
     "output_type": "display_data"
    },
    {
     "data": {
      "application/vnd.jupyter.widget-view+json": {
       "model_id": "4b0c457ca72947eeaa8d5896ce05cdee",
       "version_major": 2,
       "version_minor": 0
      },
      "text/plain": [
       "Validation: |          | 0/? [00:00<?, ?it/s]"
      ]
     },
     "metadata": {},
     "output_type": "display_data"
    },
    {
     "data": {
      "application/vnd.jupyter.widget-view+json": {
       "model_id": "2c0e4cbad50f4a3285158224e6f85477",
       "version_major": 2,
       "version_minor": 0
      },
      "text/plain": [
       "Validation: |          | 0/? [00:00<?, ?it/s]"
      ]
     },
     "metadata": {},
     "output_type": "display_data"
    },
    {
     "data": {
      "application/vnd.jupyter.widget-view+json": {
       "model_id": "3ca323b8351d4dbeab4443fffb3ddc18",
       "version_major": 2,
       "version_minor": 0
      },
      "text/plain": [
       "Validation: |          | 0/? [00:00<?, ?it/s]"
      ]
     },
     "metadata": {},
     "output_type": "display_data"
    },
    {
     "data": {
      "application/vnd.jupyter.widget-view+json": {
       "model_id": "a239e0f45f154230b361f38867f99d86",
       "version_major": 2,
       "version_minor": 0
      },
      "text/plain": [
       "Validation: |          | 0/? [00:00<?, ?it/s]"
      ]
     },
     "metadata": {},
     "output_type": "display_data"
    },
    {
     "data": {
      "application/vnd.jupyter.widget-view+json": {
       "model_id": "2ff356001ffe40138f867867efffcad4",
       "version_major": 2,
       "version_minor": 0
      },
      "text/plain": [
       "Validation: |          | 0/? [00:00<?, ?it/s]"
      ]
     },
     "metadata": {},
     "output_type": "display_data"
    },
    {
     "data": {
      "application/vnd.jupyter.widget-view+json": {
       "model_id": "2f56608f6fd24d6da9e7ae09c9799bc8",
       "version_major": 2,
       "version_minor": 0
      },
      "text/plain": [
       "Validation: |          | 0/? [00:00<?, ?it/s]"
      ]
     },
     "metadata": {},
     "output_type": "display_data"
    },
    {
     "data": {
      "application/vnd.jupyter.widget-view+json": {
       "model_id": "6532b48242864eae93867c6af0548b27",
       "version_major": 2,
       "version_minor": 0
      },
      "text/plain": [
       "Validation: |          | 0/? [00:00<?, ?it/s]"
      ]
     },
     "metadata": {},
     "output_type": "display_data"
    },
    {
     "data": {
      "application/vnd.jupyter.widget-view+json": {
       "model_id": "ba453f21c8754f0099c111f56b96c346",
       "version_major": 2,
       "version_minor": 0
      },
      "text/plain": [
       "Validation: |          | 0/? [00:00<?, ?it/s]"
      ]
     },
     "metadata": {},
     "output_type": "display_data"
    },
    {
     "data": {
      "application/vnd.jupyter.widget-view+json": {
       "model_id": "ffc42f54cc564b0b8c20c4fd1a336524",
       "version_major": 2,
       "version_minor": 0
      },
      "text/plain": [
       "Validation: |          | 0/? [00:00<?, ?it/s]"
      ]
     },
     "metadata": {},
     "output_type": "display_data"
    },
    {
     "data": {
      "application/vnd.jupyter.widget-view+json": {
       "model_id": "dc443bd2c2eb4d9a8ac9c6da565a77d8",
       "version_major": 2,
       "version_minor": 0
      },
      "text/plain": [
       "Validation: |          | 0/? [00:00<?, ?it/s]"
      ]
     },
     "metadata": {},
     "output_type": "display_data"
    },
    {
     "data": {
      "application/vnd.jupyter.widget-view+json": {
       "model_id": "d8436c60f2774edba76c1f14e85a4a9f",
       "version_major": 2,
       "version_minor": 0
      },
      "text/plain": [
       "Validation: |          | 0/? [00:00<?, ?it/s]"
      ]
     },
     "metadata": {},
     "output_type": "display_data"
    },
    {
     "data": {
      "application/vnd.jupyter.widget-view+json": {
       "model_id": "9747c80115bd4dd6a002dea833d0b717",
       "version_major": 2,
       "version_minor": 0
      },
      "text/plain": [
       "Validation: |          | 0/? [00:00<?, ?it/s]"
      ]
     },
     "metadata": {},
     "output_type": "display_data"
    },
    {
     "data": {
      "application/vnd.jupyter.widget-view+json": {
       "model_id": "0af464ab523d4a55bf2f84b698d35ac7",
       "version_major": 2,
       "version_minor": 0
      },
      "text/plain": [
       "Validation: |          | 0/? [00:00<?, ?it/s]"
      ]
     },
     "metadata": {},
     "output_type": "display_data"
    },
    {
     "data": {
      "application/vnd.jupyter.widget-view+json": {
       "model_id": "fabfde4f799d43eeb36466c6de1caa1a",
       "version_major": 2,
       "version_minor": 0
      },
      "text/plain": [
       "Validation: |          | 0/? [00:00<?, ?it/s]"
      ]
     },
     "metadata": {},
     "output_type": "display_data"
    },
    {
     "data": {
      "application/vnd.jupyter.widget-view+json": {
       "model_id": "66fb69dccb1d403c91d3cac33cc02b55",
       "version_major": 2,
       "version_minor": 0
      },
      "text/plain": [
       "Validation: |          | 0/? [00:00<?, ?it/s]"
      ]
     },
     "metadata": {},
     "output_type": "display_data"
    },
    {
     "data": {
      "application/vnd.jupyter.widget-view+json": {
       "model_id": "a44ca7b964f24efd96f5a26601405830",
       "version_major": 2,
       "version_minor": 0
      },
      "text/plain": [
       "Validation: |          | 0/? [00:00<?, ?it/s]"
      ]
     },
     "metadata": {},
     "output_type": "display_data"
    },
    {
     "data": {
      "application/vnd.jupyter.widget-view+json": {
       "model_id": "78b76e014beb4382ae552807f1f924ce",
       "version_major": 2,
       "version_minor": 0
      },
      "text/plain": [
       "Validation: |          | 0/? [00:00<?, ?it/s]"
      ]
     },
     "metadata": {},
     "output_type": "display_data"
    },
    {
     "data": {
      "application/vnd.jupyter.widget-view+json": {
       "model_id": "537a973c1287413ca9f2ef2009f39f8a",
       "version_major": 2,
       "version_minor": 0
      },
      "text/plain": [
       "Validation: |          | 0/? [00:00<?, ?it/s]"
      ]
     },
     "metadata": {},
     "output_type": "display_data"
    },
    {
     "data": {
      "application/vnd.jupyter.widget-view+json": {
       "model_id": "64e1ec58d13348e2be13df61cfeaca3e",
       "version_major": 2,
       "version_minor": 0
      },
      "text/plain": [
       "Validation: |          | 0/? [00:00<?, ?it/s]"
      ]
     },
     "metadata": {},
     "output_type": "display_data"
    },
    {
     "data": {
      "application/vnd.jupyter.widget-view+json": {
       "model_id": "126399f63d05491ba411042b34c35fc6",
       "version_major": 2,
       "version_minor": 0
      },
      "text/plain": [
       "Validation: |          | 0/? [00:00<?, ?it/s]"
      ]
     },
     "metadata": {},
     "output_type": "display_data"
    },
    {
     "data": {
      "application/vnd.jupyter.widget-view+json": {
       "model_id": "aa31fade75054312bdb2c684e3817b8c",
       "version_major": 2,
       "version_minor": 0
      },
      "text/plain": [
       "Validation: |          | 0/? [00:00<?, ?it/s]"
      ]
     },
     "metadata": {},
     "output_type": "display_data"
    },
    {
     "data": {
      "application/vnd.jupyter.widget-view+json": {
       "model_id": "670163bf535d4fef9034acc09018560c",
       "version_major": 2,
       "version_minor": 0
      },
      "text/plain": [
       "Validation: |          | 0/? [00:00<?, ?it/s]"
      ]
     },
     "metadata": {},
     "output_type": "display_data"
    },
    {
     "data": {
      "application/vnd.jupyter.widget-view+json": {
       "model_id": "22d8ac19fc5a41bea5a0babb05fdf1be",
       "version_major": 2,
       "version_minor": 0
      },
      "text/plain": [
       "Validation: |          | 0/? [00:00<?, ?it/s]"
      ]
     },
     "metadata": {},
     "output_type": "display_data"
    },
    {
     "data": {
      "application/vnd.jupyter.widget-view+json": {
       "model_id": "225b4771e95847a6b903852cfb042178",
       "version_major": 2,
       "version_minor": 0
      },
      "text/plain": [
       "Validation: |          | 0/? [00:00<?, ?it/s]"
      ]
     },
     "metadata": {},
     "output_type": "display_data"
    },
    {
     "data": {
      "application/vnd.jupyter.widget-view+json": {
       "model_id": "bd1accaa3402414a9310f245e07a9db1",
       "version_major": 2,
       "version_minor": 0
      },
      "text/plain": [
       "Validation: |          | 0/? [00:00<?, ?it/s]"
      ]
     },
     "metadata": {},
     "output_type": "display_data"
    },
    {
     "data": {
      "application/vnd.jupyter.widget-view+json": {
       "model_id": "675c49f69c0b4bbf8a929ee5c2b40668",
       "version_major": 2,
       "version_minor": 0
      },
      "text/plain": [
       "Validation: |          | 0/? [00:00<?, ?it/s]"
      ]
     },
     "metadata": {},
     "output_type": "display_data"
    },
    {
     "data": {
      "application/vnd.jupyter.widget-view+json": {
       "model_id": "d493117df2a84430990024215fb4e08b",
       "version_major": 2,
       "version_minor": 0
      },
      "text/plain": [
       "Validation: |          | 0/? [00:00<?, ?it/s]"
      ]
     },
     "metadata": {},
     "output_type": "display_data"
    },
    {
     "data": {
      "application/vnd.jupyter.widget-view+json": {
       "model_id": "e8ee694a8bd744619fee6dda81522578",
       "version_major": 2,
       "version_minor": 0
      },
      "text/plain": [
       "Validation: |          | 0/? [00:00<?, ?it/s]"
      ]
     },
     "metadata": {},
     "output_type": "display_data"
    },
    {
     "data": {
      "application/vnd.jupyter.widget-view+json": {
       "model_id": "3ac75ac33d0a45c097b256a29835d15d",
       "version_major": 2,
       "version_minor": 0
      },
      "text/plain": [
       "Validation: |          | 0/? [00:00<?, ?it/s]"
      ]
     },
     "metadata": {},
     "output_type": "display_data"
    },
    {
     "name": "stderr",
     "output_type": "stream",
     "text": [
      "Trainer already configured with model summary callbacks: [<class 'pytorch_lightning.callbacks.model_summary.ModelSummary'>]. Skipping setting a default `ModelSummary` callback.\n",
      "GPU available: True (cuda), used: True\n",
      "TPU available: False, using: 0 TPU cores\n",
      "HPU available: False, using: 0 HPUs\n",
      "LOCAL_RANK: 0 - CUDA_VISIBLE_DEVICES: [0]\n"
     ]
    },
    {
     "name": "stdout",
     "output_type": "stream",
     "text": [
      "train_loss: -0.05638\n",
      "valid_loss: 0.29354\n"
     ]
    },
    {
     "data": {
      "application/vnd.jupyter.widget-view+json": {
       "model_id": "eef2ae296df64d6f9577984487f6791d",
       "version_major": 2,
       "version_minor": 0
      },
      "text/plain": [
       "Predicting: |          | 0/? [00:00<?, ?it/s]"
      ]
     },
     "metadata": {},
     "output_type": "display_data"
    },
    {
     "name": "stderr",
     "output_type": "stream",
     "text": [
      "/home/kemove/git/neuralforecast/neuralforecast/core.py:210: FutureWarning: In a future version the predictions will have the id as a column. You can set the `NIXTLA_ID_AS_COL` environment variable to adopt the new behavior and to suppress this warning.\n",
      "  warnings.warn(\n"
     ]
    },
    {
     "name": "stdout",
     "output_type": "stream",
     "text": [
      "training MAE:\n"
     ]
    },
    {
     "data": {
      "text/html": [
       "<div>\n",
       "<style scoped>\n",
       "    .dataframe tbody tr th:only-of-type {\n",
       "        vertical-align: middle;\n",
       "    }\n",
       "\n",
       "    .dataframe tbody tr th {\n",
       "        vertical-align: top;\n",
       "    }\n",
       "\n",
       "    .dataframe thead th {\n",
       "        text-align: right;\n",
       "    }\n",
       "</style>\n",
       "<table border=\"1\" class=\"dataframe\">\n",
       "  <thead>\n",
       "    <tr style=\"text-align: right;\">\n",
       "      <th></th>\n",
       "      <th>NHITS</th>\n",
       "      <th>NHITS-median</th>\n",
       "      <th>NHITS-lo-90</th>\n",
       "      <th>NHITS-lo-80</th>\n",
       "      <th>NHITS-hi-80</th>\n",
       "      <th>NHITS-hi-90</th>\n",
       "      <th>best_model</th>\n",
       "    </tr>\n",
       "    <tr>\n",
       "      <th>unique_id</th>\n",
       "      <th></th>\n",
       "      <th></th>\n",
       "      <th></th>\n",
       "      <th></th>\n",
       "      <th></th>\n",
       "      <th></th>\n",
       "      <th></th>\n",
       "    </tr>\n",
       "  </thead>\n",
       "  <tbody>\n",
       "    <tr>\n",
       "      <th>399673</th>\n",
       "      <td>0.452764</td>\n",
       "      <td>0.440586</td>\n",
       "      <td>1.078441</td>\n",
       "      <td>0.870354</td>\n",
       "      <td>0.845974</td>\n",
       "      <td>1.03145</td>\n",
       "      <td>NHITS-median</td>\n",
       "    </tr>\n",
       "  </tbody>\n",
       "</table>\n",
       "</div>"
      ],
      "text/plain": [
       "              NHITS  NHITS-median  NHITS-lo-90  NHITS-lo-80  NHITS-hi-80  \\\n",
       "unique_id                                                                  \n",
       "399673     0.452764      0.440586     1.078441     0.870354     0.845974   \n",
       "\n",
       "           NHITS-hi-90    best_model  \n",
       "unique_id                             \n",
       "399673         1.03145  NHITS-median  "
      ]
     },
     "metadata": {},
     "output_type": "display_data"
    },
    {
     "name": "stdout",
     "output_type": "stream",
     "text": [
      "validation MAE:\n"
     ]
    },
    {
     "data": {
      "text/html": [
       "<div>\n",
       "<style scoped>\n",
       "    .dataframe tbody tr th:only-of-type {\n",
       "        vertical-align: middle;\n",
       "    }\n",
       "\n",
       "    .dataframe tbody tr th {\n",
       "        vertical-align: top;\n",
       "    }\n",
       "\n",
       "    .dataframe thead th {\n",
       "        text-align: right;\n",
       "    }\n",
       "</style>\n",
       "<table border=\"1\" class=\"dataframe\">\n",
       "  <thead>\n",
       "    <tr style=\"text-align: right;\">\n",
       "      <th></th>\n",
       "      <th>NHITS</th>\n",
       "      <th>NHITS-median</th>\n",
       "      <th>NHITS-lo-90</th>\n",
       "      <th>NHITS-lo-80</th>\n",
       "      <th>NHITS-hi-80</th>\n",
       "      <th>NHITS-hi-90</th>\n",
       "      <th>best_model</th>\n",
       "    </tr>\n",
       "    <tr>\n",
       "      <th>unique_id</th>\n",
       "      <th></th>\n",
       "      <th></th>\n",
       "      <th></th>\n",
       "      <th></th>\n",
       "      <th></th>\n",
       "      <th></th>\n",
       "      <th></th>\n",
       "    </tr>\n",
       "  </thead>\n",
       "  <tbody>\n",
       "    <tr>\n",
       "      <th>399673</th>\n",
       "      <td>0.514949</td>\n",
       "      <td>0.516223</td>\n",
       "      <td>0.893903</td>\n",
       "      <td>0.772258</td>\n",
       "      <td>0.718581</td>\n",
       "      <td>0.848722</td>\n",
       "      <td>NHITS</td>\n",
       "    </tr>\n",
       "  </tbody>\n",
       "</table>\n",
       "</div>"
      ],
      "text/plain": [
       "              NHITS  NHITS-median  NHITS-lo-90  NHITS-lo-80  NHITS-hi-80  \\\n",
       "unique_id                                                                  \n",
       "399673     0.514949      0.516223     0.893903     0.772258     0.718581   \n",
       "\n",
       "           NHITS-hi-90 best_model  \n",
       "unique_id                          \n",
       "399673        0.848722      NHITS  "
      ]
     },
     "metadata": {},
     "output_type": "display_data"
    }
   ],
   "source": [
    "train_and_evaluate(model, df_train)"
   ]
  },
  {
   "cell_type": "markdown",
   "metadata": {},
   "source": [
    "## Informer (0.37) (F)"
   ]
  },
  {
   "cell_type": "code",
   "execution_count": 64,
   "metadata": {},
   "outputs": [
    {
     "name": "stderr",
     "output_type": "stream",
     "text": [
      "Seed set to 1\n"
     ]
    }
   ],
   "source": [
    "from neuralforecast.models import Informer\n",
    "\n",
    "model = Informer(\n",
    "    h=20,\n",
    "    input_size=48,\n",
    "    hidden_size = 16,\n",
    "    conv_hidden_size = 32,\n",
    "    n_head = 2,\n",
    "    loss=MAE(),\n",
    "#  scaler_type='robust',\n",
    "    learning_rate=1e-3,\n",
    "    max_steps=500,\n",
    "    val_check_steps=5,\n",
    "    early_stop_patience_steps=10,\n",
    "    futr_exog_list=exog,\n",
    ")"
   ]
  },
  {
   "cell_type": "code",
   "execution_count": 65,
   "metadata": {},
   "outputs": [
    {
     "name": "stderr",
     "output_type": "stream",
     "text": [
      "GPU available: True (cuda), used: True\n"
     ]
    },
    {
     "name": "stderr",
     "output_type": "stream",
     "text": [
      "TPU available: False, using: 0 TPU cores\n",
      "HPU available: False, using: 0 HPUs\n",
      "LOCAL_RANK: 0 - CUDA_VISIBLE_DEVICES: [0]\n",
      "\n",
      "  | Name          | Type          | Params | Mode \n",
      "--------------------------------------------------------\n",
      "0 | loss          | MAE           | 0      | train\n",
      "1 | padder_train  | ConstantPad1d | 0      | train\n",
      "2 | scaler        | TemporalNorm  | 0      | train\n",
      "3 | enc_embedding | DataEmbedding | 224    | train\n",
      "4 | dec_embedding | DataEmbedding | 224    | train\n",
      "5 | encoder       | TransEncoder  | 5.3 K  | train\n",
      "6 | decoder       | TransDecoder  | 3.4 K  | train\n",
      "--------------------------------------------------------\n",
      "9.1 K     Trainable params\n",
      "0         Non-trainable params\n",
      "9.1 K     Total params\n",
      "0.037     Total estimated model params size (MB)\n",
      "77        Modules in train mode\n",
      "0         Modules in eval mode\n"
     ]
    },
    {
     "data": {
      "application/vnd.jupyter.widget-view+json": {
       "model_id": "78dfe20ce85e44c89df9c958ea923b90",
       "version_major": 2,
       "version_minor": 0
      },
      "text/plain": [
       "Sanity Checking: |          | 0/? [00:00<?, ?it/s]"
      ]
     },
     "metadata": {},
     "output_type": "display_data"
    },
    {
     "data": {
      "application/vnd.jupyter.widget-view+json": {
       "model_id": "4bd13634c0b74862af0615d8aa2caedf",
       "version_major": 2,
       "version_minor": 0
      },
      "text/plain": [
       "Training: |          | 0/? [00:00<?, ?it/s]"
      ]
     },
     "metadata": {},
     "output_type": "display_data"
    },
    {
     "data": {
      "application/vnd.jupyter.widget-view+json": {
       "model_id": "75d50394015e44acb669f0dc11aa97b9",
       "version_major": 2,
       "version_minor": 0
      },
      "text/plain": [
       "Validation: |          | 0/? [00:00<?, ?it/s]"
      ]
     },
     "metadata": {},
     "output_type": "display_data"
    },
    {
     "data": {
      "application/vnd.jupyter.widget-view+json": {
       "model_id": "1ea4e0162aeb4de784168ee7432645e3",
       "version_major": 2,
       "version_minor": 0
      },
      "text/plain": [
       "Validation: |          | 0/? [00:00<?, ?it/s]"
      ]
     },
     "metadata": {},
     "output_type": "display_data"
    },
    {
     "data": {
      "application/vnd.jupyter.widget-view+json": {
       "model_id": "fee1a4a23cdb487395d9d5c471f34f80",
       "version_major": 2,
       "version_minor": 0
      },
      "text/plain": [
       "Validation: |          | 0/? [00:00<?, ?it/s]"
      ]
     },
     "metadata": {},
     "output_type": "display_data"
    },
    {
     "data": {
      "application/vnd.jupyter.widget-view+json": {
       "model_id": "058525932ab944b590b6180dd25ed3f9",
       "version_major": 2,
       "version_minor": 0
      },
      "text/plain": [
       "Validation: |          | 0/? [00:00<?, ?it/s]"
      ]
     },
     "metadata": {},
     "output_type": "display_data"
    },
    {
     "data": {
      "application/vnd.jupyter.widget-view+json": {
       "model_id": "2e1949c814644ac688a225b4c09adfe3",
       "version_major": 2,
       "version_minor": 0
      },
      "text/plain": [
       "Validation: |          | 0/? [00:00<?, ?it/s]"
      ]
     },
     "metadata": {},
     "output_type": "display_data"
    },
    {
     "data": {
      "application/vnd.jupyter.widget-view+json": {
       "model_id": "b26996b1705f457c86f427854cd596ef",
       "version_major": 2,
       "version_minor": 0
      },
      "text/plain": [
       "Validation: |          | 0/? [00:00<?, ?it/s]"
      ]
     },
     "metadata": {},
     "output_type": "display_data"
    },
    {
     "data": {
      "application/vnd.jupyter.widget-view+json": {
       "model_id": "6a629bca7c1c4be8a16b4006690432ea",
       "version_major": 2,
       "version_minor": 0
      },
      "text/plain": [
       "Validation: |          | 0/? [00:00<?, ?it/s]"
      ]
     },
     "metadata": {},
     "output_type": "display_data"
    },
    {
     "data": {
      "application/vnd.jupyter.widget-view+json": {
       "model_id": "bd0d29fd69d8488d90af4098cd3bf21b",
       "version_major": 2,
       "version_minor": 0
      },
      "text/plain": [
       "Validation: |          | 0/? [00:00<?, ?it/s]"
      ]
     },
     "metadata": {},
     "output_type": "display_data"
    },
    {
     "data": {
      "application/vnd.jupyter.widget-view+json": {
       "model_id": "5073ce9c8652448cbe6ba834804f0cc5",
       "version_major": 2,
       "version_minor": 0
      },
      "text/plain": [
       "Validation: |          | 0/? [00:00<?, ?it/s]"
      ]
     },
     "metadata": {},
     "output_type": "display_data"
    },
    {
     "data": {
      "application/vnd.jupyter.widget-view+json": {
       "model_id": "db96bc1ff6e04518a84d3890b39198fc",
       "version_major": 2,
       "version_minor": 0
      },
      "text/plain": [
       "Validation: |          | 0/? [00:00<?, ?it/s]"
      ]
     },
     "metadata": {},
     "output_type": "display_data"
    },
    {
     "data": {
      "application/vnd.jupyter.widget-view+json": {
       "model_id": "5cfdd92a9b0042709ebfc71c2db73792",
       "version_major": 2,
       "version_minor": 0
      },
      "text/plain": [
       "Validation: |          | 0/? [00:00<?, ?it/s]"
      ]
     },
     "metadata": {},
     "output_type": "display_data"
    },
    {
     "data": {
      "application/vnd.jupyter.widget-view+json": {
       "model_id": "d6d438a315914d3a9c5cf67a7af4f95e",
       "version_major": 2,
       "version_minor": 0
      },
      "text/plain": [
       "Validation: |          | 0/? [00:00<?, ?it/s]"
      ]
     },
     "metadata": {},
     "output_type": "display_data"
    },
    {
     "data": {
      "application/vnd.jupyter.widget-view+json": {
       "model_id": "71e3d33137b34d2fababa0564d87a18e",
       "version_major": 2,
       "version_minor": 0
      },
      "text/plain": [
       "Validation: |          | 0/? [00:00<?, ?it/s]"
      ]
     },
     "metadata": {},
     "output_type": "display_data"
    },
    {
     "data": {
      "application/vnd.jupyter.widget-view+json": {
       "model_id": "985d8c5f511441b79fae6b862b842855",
       "version_major": 2,
       "version_minor": 0
      },
      "text/plain": [
       "Validation: |          | 0/? [00:00<?, ?it/s]"
      ]
     },
     "metadata": {},
     "output_type": "display_data"
    },
    {
     "data": {
      "application/vnd.jupyter.widget-view+json": {
       "model_id": "6497625dde5a4e6c9e44c743f754aaa7",
       "version_major": 2,
       "version_minor": 0
      },
      "text/plain": [
       "Validation: |          | 0/? [00:00<?, ?it/s]"
      ]
     },
     "metadata": {},
     "output_type": "display_data"
    },
    {
     "data": {
      "application/vnd.jupyter.widget-view+json": {
       "model_id": "0d572ab53ce34e2f9a223f39f9ca434b",
       "version_major": 2,
       "version_minor": 0
      },
      "text/plain": [
       "Validation: |          | 0/? [00:00<?, ?it/s]"
      ]
     },
     "metadata": {},
     "output_type": "display_data"
    },
    {
     "data": {
      "application/vnd.jupyter.widget-view+json": {
       "model_id": "0b054a5df69c452a9c8177e0c9dc3c16",
       "version_major": 2,
       "version_minor": 0
      },
      "text/plain": [
       "Validation: |          | 0/? [00:00<?, ?it/s]"
      ]
     },
     "metadata": {},
     "output_type": "display_data"
    },
    {
     "data": {
      "application/vnd.jupyter.widget-view+json": {
       "model_id": "9139efcb3ab04a6bb99c4fd29ad6e96f",
       "version_major": 2,
       "version_minor": 0
      },
      "text/plain": [
       "Validation: |          | 0/? [00:00<?, ?it/s]"
      ]
     },
     "metadata": {},
     "output_type": "display_data"
    },
    {
     "data": {
      "application/vnd.jupyter.widget-view+json": {
       "model_id": "e9c3165bfae74c56bbe0f677ec9eaa8c",
       "version_major": 2,
       "version_minor": 0
      },
      "text/plain": [
       "Validation: |          | 0/? [00:00<?, ?it/s]"
      ]
     },
     "metadata": {},
     "output_type": "display_data"
    },
    {
     "data": {
      "application/vnd.jupyter.widget-view+json": {
       "model_id": "9a61d39ede384813bbb4739e1c02b2a3",
       "version_major": 2,
       "version_minor": 0
      },
      "text/plain": [
       "Validation: |          | 0/? [00:00<?, ?it/s]"
      ]
     },
     "metadata": {},
     "output_type": "display_data"
    },
    {
     "data": {
      "application/vnd.jupyter.widget-view+json": {
       "model_id": "9907b529cb244aa8a3a575d615ffe541",
       "version_major": 2,
       "version_minor": 0
      },
      "text/plain": [
       "Validation: |          | 0/? [00:00<?, ?it/s]"
      ]
     },
     "metadata": {},
     "output_type": "display_data"
    },
    {
     "data": {
      "application/vnd.jupyter.widget-view+json": {
       "model_id": "078111d285634fb7963779ff67131a63",
       "version_major": 2,
       "version_minor": 0
      },
      "text/plain": [
       "Validation: |          | 0/? [00:00<?, ?it/s]"
      ]
     },
     "metadata": {},
     "output_type": "display_data"
    },
    {
     "data": {
      "application/vnd.jupyter.widget-view+json": {
       "model_id": "f3cdad83a79a4ee59f53393529ce1fc8",
       "version_major": 2,
       "version_minor": 0
      },
      "text/plain": [
       "Validation: |          | 0/? [00:00<?, ?it/s]"
      ]
     },
     "metadata": {},
     "output_type": "display_data"
    },
    {
     "data": {
      "application/vnd.jupyter.widget-view+json": {
       "model_id": "7316ae9a018f45aab8ca53053254439d",
       "version_major": 2,
       "version_minor": 0
      },
      "text/plain": [
       "Validation: |          | 0/? [00:00<?, ?it/s]"
      ]
     },
     "metadata": {},
     "output_type": "display_data"
    },
    {
     "data": {
      "application/vnd.jupyter.widget-view+json": {
       "model_id": "b66ee6f74bbd49b6b3e8df7d3f5b9e5a",
       "version_major": 2,
       "version_minor": 0
      },
      "text/plain": [
       "Validation: |          | 0/? [00:00<?, ?it/s]"
      ]
     },
     "metadata": {},
     "output_type": "display_data"
    },
    {
     "data": {
      "application/vnd.jupyter.widget-view+json": {
       "model_id": "6866accf654f4d6998d8b326b98f6e9f",
       "version_major": 2,
       "version_minor": 0
      },
      "text/plain": [
       "Validation: |          | 0/? [00:00<?, ?it/s]"
      ]
     },
     "metadata": {},
     "output_type": "display_data"
    },
    {
     "data": {
      "application/vnd.jupyter.widget-view+json": {
       "model_id": "51131d1bac724bf58f34eaba0c070442",
       "version_major": 2,
       "version_minor": 0
      },
      "text/plain": [
       "Validation: |          | 0/? [00:00<?, ?it/s]"
      ]
     },
     "metadata": {},
     "output_type": "display_data"
    },
    {
     "data": {
      "application/vnd.jupyter.widget-view+json": {
       "model_id": "b3b75e29c1944ce4ac33e5a81822aa08",
       "version_major": 2,
       "version_minor": 0
      },
      "text/plain": [
       "Validation: |          | 0/? [00:00<?, ?it/s]"
      ]
     },
     "metadata": {},
     "output_type": "display_data"
    },
    {
     "data": {
      "application/vnd.jupyter.widget-view+json": {
       "model_id": "1ce405c8eb5e499b98be8ea0e973b590",
       "version_major": 2,
       "version_minor": 0
      },
      "text/plain": [
       "Validation: |          | 0/? [00:00<?, ?it/s]"
      ]
     },
     "metadata": {},
     "output_type": "display_data"
    },
    {
     "data": {
      "application/vnd.jupyter.widget-view+json": {
       "model_id": "11060864379840ad99abc86fcdfc7137",
       "version_major": 2,
       "version_minor": 0
      },
      "text/plain": [
       "Validation: |          | 0/? [00:00<?, ?it/s]"
      ]
     },
     "metadata": {},
     "output_type": "display_data"
    },
    {
     "data": {
      "application/vnd.jupyter.widget-view+json": {
       "model_id": "392199c4f903497c919a9de8a9dddb65",
       "version_major": 2,
       "version_minor": 0
      },
      "text/plain": [
       "Validation: |          | 0/? [00:00<?, ?it/s]"
      ]
     },
     "metadata": {},
     "output_type": "display_data"
    },
    {
     "data": {
      "application/vnd.jupyter.widget-view+json": {
       "model_id": "80c033500c7f47eb9736ec49c9d95234",
       "version_major": 2,
       "version_minor": 0
      },
      "text/plain": [
       "Validation: |          | 0/? [00:00<?, ?it/s]"
      ]
     },
     "metadata": {},
     "output_type": "display_data"
    },
    {
     "data": {
      "application/vnd.jupyter.widget-view+json": {
       "model_id": "48c488ec40924da7a3f8bc60fe1a9f8a",
       "version_major": 2,
       "version_minor": 0
      },
      "text/plain": [
       "Validation: |          | 0/? [00:00<?, ?it/s]"
      ]
     },
     "metadata": {},
     "output_type": "display_data"
    },
    {
     "data": {
      "application/vnd.jupyter.widget-view+json": {
       "model_id": "58ef1ba1aaf24303afbf3730edbe076e",
       "version_major": 2,
       "version_minor": 0
      },
      "text/plain": [
       "Validation: |          | 0/? [00:00<?, ?it/s]"
      ]
     },
     "metadata": {},
     "output_type": "display_data"
    },
    {
     "data": {
      "application/vnd.jupyter.widget-view+json": {
       "model_id": "836e7a1a42774d7497ed703251fe90fd",
       "version_major": 2,
       "version_minor": 0
      },
      "text/plain": [
       "Validation: |          | 0/? [00:00<?, ?it/s]"
      ]
     },
     "metadata": {},
     "output_type": "display_data"
    },
    {
     "data": {
      "application/vnd.jupyter.widget-view+json": {
       "model_id": "f3c9103db76a4de9a985ea9c2f57ccfe",
       "version_major": 2,
       "version_minor": 0
      },
      "text/plain": [
       "Validation: |          | 0/? [00:00<?, ?it/s]"
      ]
     },
     "metadata": {},
     "output_type": "display_data"
    },
    {
     "data": {
      "application/vnd.jupyter.widget-view+json": {
       "model_id": "be804311505e456b81a972939a333d3f",
       "version_major": 2,
       "version_minor": 0
      },
      "text/plain": [
       "Validation: |          | 0/? [00:00<?, ?it/s]"
      ]
     },
     "metadata": {},
     "output_type": "display_data"
    },
    {
     "data": {
      "application/vnd.jupyter.widget-view+json": {
       "model_id": "c03d0166d012431393f421c754f861c1",
       "version_major": 2,
       "version_minor": 0
      },
      "text/plain": [
       "Validation: |          | 0/? [00:00<?, ?it/s]"
      ]
     },
     "metadata": {},
     "output_type": "display_data"
    },
    {
     "data": {
      "application/vnd.jupyter.widget-view+json": {
       "model_id": "a9aa443257bf484786c0811d04cea7d2",
       "version_major": 2,
       "version_minor": 0
      },
      "text/plain": [
       "Validation: |          | 0/? [00:00<?, ?it/s]"
      ]
     },
     "metadata": {},
     "output_type": "display_data"
    },
    {
     "data": {
      "application/vnd.jupyter.widget-view+json": {
       "model_id": "8851eeec1d0a4dc0bfea10c089816af5",
       "version_major": 2,
       "version_minor": 0
      },
      "text/plain": [
       "Validation: |          | 0/? [00:00<?, ?it/s]"
      ]
     },
     "metadata": {},
     "output_type": "display_data"
    },
    {
     "data": {
      "application/vnd.jupyter.widget-view+json": {
       "model_id": "71a653bcc9ff4d968098ab3dc44a1ba3",
       "version_major": 2,
       "version_minor": 0
      },
      "text/plain": [
       "Validation: |          | 0/? [00:00<?, ?it/s]"
      ]
     },
     "metadata": {},
     "output_type": "display_data"
    },
    {
     "data": {
      "application/vnd.jupyter.widget-view+json": {
       "model_id": "cc2d3ec0d9c4474ca813c127d080d1eb",
       "version_major": 2,
       "version_minor": 0
      },
      "text/plain": [
       "Validation: |          | 0/? [00:00<?, ?it/s]"
      ]
     },
     "metadata": {},
     "output_type": "display_data"
    },
    {
     "data": {
      "application/vnd.jupyter.widget-view+json": {
       "model_id": "a5ad36e46e8d42fd84bdbfefcc881d6e",
       "version_major": 2,
       "version_minor": 0
      },
      "text/plain": [
       "Validation: |          | 0/? [00:00<?, ?it/s]"
      ]
     },
     "metadata": {},
     "output_type": "display_data"
    },
    {
     "data": {
      "application/vnd.jupyter.widget-view+json": {
       "model_id": "6991774d237c4b5793d7f05d28859189",
       "version_major": 2,
       "version_minor": 0
      },
      "text/plain": [
       "Validation: |          | 0/? [00:00<?, ?it/s]"
      ]
     },
     "metadata": {},
     "output_type": "display_data"
    },
    {
     "data": {
      "application/vnd.jupyter.widget-view+json": {
       "model_id": "fa4431cf6dc3421990c30476105b010d",
       "version_major": 2,
       "version_minor": 0
      },
      "text/plain": [
       "Validation: |          | 0/? [00:00<?, ?it/s]"
      ]
     },
     "metadata": {},
     "output_type": "display_data"
    },
    {
     "data": {
      "application/vnd.jupyter.widget-view+json": {
       "model_id": "8d6287a9c1dd448ab542acbd995c87e3",
       "version_major": 2,
       "version_minor": 0
      },
      "text/plain": [
       "Validation: |          | 0/? [00:00<?, ?it/s]"
      ]
     },
     "metadata": {},
     "output_type": "display_data"
    },
    {
     "data": {
      "application/vnd.jupyter.widget-view+json": {
       "model_id": "186d05623a8c458d95ce88dd89f3fd97",
       "version_major": 2,
       "version_minor": 0
      },
      "text/plain": [
       "Validation: |          | 0/? [00:00<?, ?it/s]"
      ]
     },
     "metadata": {},
     "output_type": "display_data"
    },
    {
     "data": {
      "application/vnd.jupyter.widget-view+json": {
       "model_id": "0f10a6b0fe564a2da902d0869c0b7e25",
       "version_major": 2,
       "version_minor": 0
      },
      "text/plain": [
       "Validation: |          | 0/? [00:00<?, ?it/s]"
      ]
     },
     "metadata": {},
     "output_type": "display_data"
    },
    {
     "data": {
      "application/vnd.jupyter.widget-view+json": {
       "model_id": "a3219ff6ee074614b2a558e5a43313ae",
       "version_major": 2,
       "version_minor": 0
      },
      "text/plain": [
       "Validation: |          | 0/? [00:00<?, ?it/s]"
      ]
     },
     "metadata": {},
     "output_type": "display_data"
    },
    {
     "data": {
      "application/vnd.jupyter.widget-view+json": {
       "model_id": "8315ca1c33314febb46e42506e543dad",
       "version_major": 2,
       "version_minor": 0
      },
      "text/plain": [
       "Validation: |          | 0/? [00:00<?, ?it/s]"
      ]
     },
     "metadata": {},
     "output_type": "display_data"
    },
    {
     "data": {
      "application/vnd.jupyter.widget-view+json": {
       "model_id": "e75a685c6358446f8baf46ad3ccf84e2",
       "version_major": 2,
       "version_minor": 0
      },
      "text/plain": [
       "Validation: |          | 0/? [00:00<?, ?it/s]"
      ]
     },
     "metadata": {},
     "output_type": "display_data"
    },
    {
     "data": {
      "application/vnd.jupyter.widget-view+json": {
       "model_id": "7ee851d9094d46e09553c58112028901",
       "version_major": 2,
       "version_minor": 0
      },
      "text/plain": [
       "Validation: |          | 0/? [00:00<?, ?it/s]"
      ]
     },
     "metadata": {},
     "output_type": "display_data"
    },
    {
     "data": {
      "application/vnd.jupyter.widget-view+json": {
       "model_id": "c93cc8423da54e729ac6ba6fe94babd8",
       "version_major": 2,
       "version_minor": 0
      },
      "text/plain": [
       "Validation: |          | 0/? [00:00<?, ?it/s]"
      ]
     },
     "metadata": {},
     "output_type": "display_data"
    },
    {
     "data": {
      "application/vnd.jupyter.widget-view+json": {
       "model_id": "6e93a73ce9874c20b8429c2db63e131b",
       "version_major": 2,
       "version_minor": 0
      },
      "text/plain": [
       "Validation: |          | 0/? [00:00<?, ?it/s]"
      ]
     },
     "metadata": {},
     "output_type": "display_data"
    },
    {
     "data": {
      "application/vnd.jupyter.widget-view+json": {
       "model_id": "39bffbf9a66e48548e4b9aa110989ef6",
       "version_major": 2,
       "version_minor": 0
      },
      "text/plain": [
       "Validation: |          | 0/? [00:00<?, ?it/s]"
      ]
     },
     "metadata": {},
     "output_type": "display_data"
    },
    {
     "data": {
      "application/vnd.jupyter.widget-view+json": {
       "model_id": "813fdccc1e134ca2a54ddc645576560d",
       "version_major": 2,
       "version_minor": 0
      },
      "text/plain": [
       "Validation: |          | 0/? [00:00<?, ?it/s]"
      ]
     },
     "metadata": {},
     "output_type": "display_data"
    },
    {
     "data": {
      "application/vnd.jupyter.widget-view+json": {
       "model_id": "0834d37539684398b732287dbd1abc67",
       "version_major": 2,
       "version_minor": 0
      },
      "text/plain": [
       "Validation: |          | 0/? [00:00<?, ?it/s]"
      ]
     },
     "metadata": {},
     "output_type": "display_data"
    },
    {
     "data": {
      "application/vnd.jupyter.widget-view+json": {
       "model_id": "2a7062ab47df4289852be34a29ce762a",
       "version_major": 2,
       "version_minor": 0
      },
      "text/plain": [
       "Validation: |          | 0/? [00:00<?, ?it/s]"
      ]
     },
     "metadata": {},
     "output_type": "display_data"
    },
    {
     "data": {
      "application/vnd.jupyter.widget-view+json": {
       "model_id": "1eef47935ba84aaf87d67bd5e8f056ec",
       "version_major": 2,
       "version_minor": 0
      },
      "text/plain": [
       "Validation: |          | 0/? [00:00<?, ?it/s]"
      ]
     },
     "metadata": {},
     "output_type": "display_data"
    },
    {
     "data": {
      "application/vnd.jupyter.widget-view+json": {
       "model_id": "007798fa3fb14d0690cf2b0e43ee0acb",
       "version_major": 2,
       "version_minor": 0
      },
      "text/plain": [
       "Validation: |          | 0/? [00:00<?, ?it/s]"
      ]
     },
     "metadata": {},
     "output_type": "display_data"
    },
    {
     "data": {
      "application/vnd.jupyter.widget-view+json": {
       "model_id": "fc3340445feb4d46b54d3d0f9e743ea1",
       "version_major": 2,
       "version_minor": 0
      },
      "text/plain": [
       "Validation: |          | 0/? [00:00<?, ?it/s]"
      ]
     },
     "metadata": {},
     "output_type": "display_data"
    },
    {
     "data": {
      "application/vnd.jupyter.widget-view+json": {
       "model_id": "f75e55283f6e49a8ba4b833c3c072ad6",
       "version_major": 2,
       "version_minor": 0
      },
      "text/plain": [
       "Validation: |          | 0/? [00:00<?, ?it/s]"
      ]
     },
     "metadata": {},
     "output_type": "display_data"
    },
    {
     "data": {
      "application/vnd.jupyter.widget-view+json": {
       "model_id": "3f18435fb7cf49f89baeb321c9f560eb",
       "version_major": 2,
       "version_minor": 0
      },
      "text/plain": [
       "Validation: |          | 0/? [00:00<?, ?it/s]"
      ]
     },
     "metadata": {},
     "output_type": "display_data"
    },
    {
     "data": {
      "application/vnd.jupyter.widget-view+json": {
       "model_id": "b9ca4e67193b4e52bab40c1bf34e499b",
       "version_major": 2,
       "version_minor": 0
      },
      "text/plain": [
       "Validation: |          | 0/? [00:00<?, ?it/s]"
      ]
     },
     "metadata": {},
     "output_type": "display_data"
    },
    {
     "data": {
      "application/vnd.jupyter.widget-view+json": {
       "model_id": "032afe9f59aa47c4b02e7be5c0f1ead1",
       "version_major": 2,
       "version_minor": 0
      },
      "text/plain": [
       "Validation: |          | 0/? [00:00<?, ?it/s]"
      ]
     },
     "metadata": {},
     "output_type": "display_data"
    },
    {
     "data": {
      "application/vnd.jupyter.widget-view+json": {
       "model_id": "be7a857181a6438d9b72d51724cc2e66",
       "version_major": 2,
       "version_minor": 0
      },
      "text/plain": [
       "Validation: |          | 0/? [00:00<?, ?it/s]"
      ]
     },
     "metadata": {},
     "output_type": "display_data"
    },
    {
     "data": {
      "application/vnd.jupyter.widget-view+json": {
       "model_id": "60a20c8c4541473098eeb40717447f1c",
       "version_major": 2,
       "version_minor": 0
      },
      "text/plain": [
       "Validation: |          | 0/? [00:00<?, ?it/s]"
      ]
     },
     "metadata": {},
     "output_type": "display_data"
    },
    {
     "data": {
      "application/vnd.jupyter.widget-view+json": {
       "model_id": "1ee7ef00120846878d7e3f1fa8c8caea",
       "version_major": 2,
       "version_minor": 0
      },
      "text/plain": [
       "Validation: |          | 0/? [00:00<?, ?it/s]"
      ]
     },
     "metadata": {},
     "output_type": "display_data"
    },
    {
     "data": {
      "application/vnd.jupyter.widget-view+json": {
       "model_id": "730eab982e854925ba5d7df329b17872",
       "version_major": 2,
       "version_minor": 0
      },
      "text/plain": [
       "Validation: |          | 0/? [00:00<?, ?it/s]"
      ]
     },
     "metadata": {},
     "output_type": "display_data"
    },
    {
     "data": {
      "application/vnd.jupyter.widget-view+json": {
       "model_id": "c5dd63d333734987a1c412f8b9efb1a1",
       "version_major": 2,
       "version_minor": 0
      },
      "text/plain": [
       "Validation: |          | 0/? [00:00<?, ?it/s]"
      ]
     },
     "metadata": {},
     "output_type": "display_data"
    },
    {
     "data": {
      "application/vnd.jupyter.widget-view+json": {
       "model_id": "c4435a2b00994aef8fbb5049d86d7207",
       "version_major": 2,
       "version_minor": 0
      },
      "text/plain": [
       "Validation: |          | 0/? [00:00<?, ?it/s]"
      ]
     },
     "metadata": {},
     "output_type": "display_data"
    },
    {
     "data": {
      "application/vnd.jupyter.widget-view+json": {
       "model_id": "dcff0072048447aa87a699961731f820",
       "version_major": 2,
       "version_minor": 0
      },
      "text/plain": [
       "Validation: |          | 0/? [00:00<?, ?it/s]"
      ]
     },
     "metadata": {},
     "output_type": "display_data"
    },
    {
     "name": "stderr",
     "output_type": "stream",
     "text": [
      "Trainer already configured with model summary callbacks: [<class 'pytorch_lightning.callbacks.model_summary.ModelSummary'>]. Skipping setting a default `ModelSummary` callback.\n",
      "GPU available: True (cuda), used: True\n",
      "TPU available: False, using: 0 TPU cores\n",
      "HPU available: False, using: 0 HPUs\n",
      "LOCAL_RANK: 0 - CUDA_VISIBLE_DEVICES: [0]\n"
     ]
    },
    {
     "name": "stdout",
     "output_type": "stream",
     "text": [
      "train_loss: 0.27667\n",
      "valid_loss: 0.20960\n"
     ]
    },
    {
     "data": {
      "application/vnd.jupyter.widget-view+json": {
       "model_id": "9ff3966b5f5f452b97e8ebfe0741c1e2",
       "version_major": 2,
       "version_minor": 0
      },
      "text/plain": [
       "Predicting: |          | 0/? [00:00<?, ?it/s]"
      ]
     },
     "metadata": {},
     "output_type": "display_data"
    },
    {
     "name": "stderr",
     "output_type": "stream",
     "text": [
      "/home/kemove/git/neuralforecast/neuralforecast/core.py:210: FutureWarning: In a future version the predictions will have the id as a column. You can set the `NIXTLA_ID_AS_COL` environment variable to adopt the new behavior and to suppress this warning.\n",
      "  warnings.warn(\n"
     ]
    },
    {
     "name": "stdout",
     "output_type": "stream",
     "text": [
      "training MAE:\n"
     ]
    },
    {
     "data": {
      "text/html": [
       "<div>\n",
       "<style scoped>\n",
       "    .dataframe tbody tr th:only-of-type {\n",
       "        vertical-align: middle;\n",
       "    }\n",
       "\n",
       "    .dataframe tbody tr th {\n",
       "        vertical-align: top;\n",
       "    }\n",
       "\n",
       "    .dataframe thead th {\n",
       "        text-align: right;\n",
       "    }\n",
       "</style>\n",
       "<table border=\"1\" class=\"dataframe\">\n",
       "  <thead>\n",
       "    <tr style=\"text-align: right;\">\n",
       "      <th></th>\n",
       "      <th>Informer</th>\n",
       "      <th>best_model</th>\n",
       "    </tr>\n",
       "    <tr>\n",
       "      <th>unique_id</th>\n",
       "      <th></th>\n",
       "      <th></th>\n",
       "    </tr>\n",
       "  </thead>\n",
       "  <tbody>\n",
       "    <tr>\n",
       "      <th>399673</th>\n",
       "      <td>0.495805</td>\n",
       "      <td>Informer</td>\n",
       "    </tr>\n",
       "  </tbody>\n",
       "</table>\n",
       "</div>"
      ],
      "text/plain": [
       "           Informer best_model\n",
       "unique_id                     \n",
       "399673     0.495805   Informer"
      ]
     },
     "metadata": {},
     "output_type": "display_data"
    },
    {
     "name": "stdout",
     "output_type": "stream",
     "text": [
      "validation MAE:\n"
     ]
    },
    {
     "data": {
      "text/html": [
       "<div>\n",
       "<style scoped>\n",
       "    .dataframe tbody tr th:only-of-type {\n",
       "        vertical-align: middle;\n",
       "    }\n",
       "\n",
       "    .dataframe tbody tr th {\n",
       "        vertical-align: top;\n",
       "    }\n",
       "\n",
       "    .dataframe thead th {\n",
       "        text-align: right;\n",
       "    }\n",
       "</style>\n",
       "<table border=\"1\" class=\"dataframe\">\n",
       "  <thead>\n",
       "    <tr style=\"text-align: right;\">\n",
       "      <th></th>\n",
       "      <th>Informer</th>\n",
       "      <th>best_model</th>\n",
       "    </tr>\n",
       "    <tr>\n",
       "      <th>unique_id</th>\n",
       "      <th></th>\n",
       "      <th></th>\n",
       "    </tr>\n",
       "  </thead>\n",
       "  <tbody>\n",
       "    <tr>\n",
       "      <th>399673</th>\n",
       "      <td>0.370676</td>\n",
       "      <td>Informer</td>\n",
       "    </tr>\n",
       "  </tbody>\n",
       "</table>\n",
       "</div>"
      ],
      "text/plain": [
       "           Informer best_model\n",
       "unique_id                     \n",
       "399673     0.370676   Informer"
      ]
     },
     "metadata": {},
     "output_type": "display_data"
    }
   ],
   "source": [
    "train_and_evaluate(model, df_train)"
   ]
  },
  {
   "cell_type": "markdown",
   "metadata": {},
   "source": [
    "## KAN (1.0)"
   ]
  },
  {
   "cell_type": "code",
   "execution_count": 97,
   "metadata": {},
   "outputs": [
    {
     "name": "stderr",
     "output_type": "stream",
     "text": [
      "Seed set to 1\n"
     ]
    }
   ],
   "source": [
    "from neuralforecast.models import KAN\n",
    "\n",
    "model = KAN(\n",
    "    h=20,\n",
    "    input_size=38,\n",
    "    loss=DistributionLoss(distribution=\"Normal\"),\n",
    "    max_steps=500,\n",
    "    # scaler_type=\"standard\",\n",
    "    # futr_exog_list=exog,\n",
    "    hist_exog_list=exog,\n",
    ")"
   ]
  },
  {
   "cell_type": "code",
   "execution_count": 98,
   "metadata": {},
   "outputs": [
    {
     "name": "stderr",
     "output_type": "stream",
     "text": [
      "GPU available: True (cuda), used: True\n",
      "TPU available: False, using: 0 TPU cores\n"
     ]
    },
    {
     "name": "stderr",
     "output_type": "stream",
     "text": [
      "HPU available: False, using: 0 HPUs\n",
      "LOCAL_RANK: 0 - CUDA_VISIBLE_DEVICES: [0]\n",
      "\n",
      "  | Name         | Type             | Params | Mode \n",
      "----------------------------------------------------------\n",
      "0 | loss         | DistributionLoss | 5      | train\n",
      "1 | padder_train | ConstantPad1d    | 0      | train\n",
      "2 | scaler       | TemporalNorm     | 0      | train\n",
      "3 | layers       | ModuleList       | 2.5 M  | train\n",
      "----------------------------------------------------------\n",
      "2.5 M     Trainable params\n",
      "5         Non-trainable params\n",
      "2.5 M     Total params\n",
      "10.158    Total estimated model params size (MB)\n",
      "8         Modules in train mode\n",
      "0         Modules in eval mode\n"
     ]
    },
    {
     "data": {
      "application/vnd.jupyter.widget-view+json": {
       "model_id": "4590bbf3fb344a66b1d45ae4ceb72b3d",
       "version_major": 2,
       "version_minor": 0
      },
      "text/plain": [
       "Sanity Checking: |          | 0/? [00:00<?, ?it/s]"
      ]
     },
     "metadata": {},
     "output_type": "display_data"
    },
    {
     "data": {
      "application/vnd.jupyter.widget-view+json": {
       "model_id": "90053fc0a4b4462d93f1e04cdb42f859",
       "version_major": 2,
       "version_minor": 0
      },
      "text/plain": [
       "Training: |          | 0/? [00:00<?, ?it/s]"
      ]
     },
     "metadata": {},
     "output_type": "display_data"
    },
    {
     "data": {
      "application/vnd.jupyter.widget-view+json": {
       "model_id": "c9cbbe74bd084dfe99f79fbf10643c28",
       "version_major": 2,
       "version_minor": 0
      },
      "text/plain": [
       "Validation: |          | 0/? [00:00<?, ?it/s]"
      ]
     },
     "metadata": {},
     "output_type": "display_data"
    },
    {
     "data": {
      "application/vnd.jupyter.widget-view+json": {
       "model_id": "7ae240b439a7423ab885926f36836229",
       "version_major": 2,
       "version_minor": 0
      },
      "text/plain": [
       "Validation: |          | 0/? [00:00<?, ?it/s]"
      ]
     },
     "metadata": {},
     "output_type": "display_data"
    },
    {
     "data": {
      "application/vnd.jupyter.widget-view+json": {
       "model_id": "e434abb7817d44c99f4d338eef299f0b",
       "version_major": 2,
       "version_minor": 0
      },
      "text/plain": [
       "Validation: |          | 0/? [00:00<?, ?it/s]"
      ]
     },
     "metadata": {},
     "output_type": "display_data"
    },
    {
     "name": "stderr",
     "output_type": "stream",
     "text": [
      "IOPub message rate exceeded.\n",
      "The Jupyter server will temporarily stop sending output\n",
      "to the client in order to avoid crashing it.\n",
      "To change this limit, set the config variable\n",
      "`--ServerApp.iopub_msg_rate_limit`.\n",
      "\n",
      "Current values:\n",
      "ServerApp.iopub_msg_rate_limit=1000.0 (msgs/sec)\n",
      "ServerApp.rate_limit_window=3.0 (secs)\n",
      "\n",
      "/home/kemove/git/neuralforecast/neuralforecast/core.py:210: FutureWarning: In a future version the predictions will have the id as a column. You can set the `NIXTLA_ID_AS_COL` environment variable to adopt the new behavior and to suppress this warning.\n",
      "  warnings.warn(\n"
     ]
    },
    {
     "name": "stdout",
     "output_type": "stream",
     "text": [
      "training MAE:\n"
     ]
    },
    {
     "data": {
      "text/html": [
       "<div>\n",
       "<style scoped>\n",
       "    .dataframe tbody tr th:only-of-type {\n",
       "        vertical-align: middle;\n",
       "    }\n",
       "\n",
       "    .dataframe tbody tr th {\n",
       "        vertical-align: top;\n",
       "    }\n",
       "\n",
       "    .dataframe thead th {\n",
       "        text-align: right;\n",
       "    }\n",
       "</style>\n",
       "<table border=\"1\" class=\"dataframe\">\n",
       "  <thead>\n",
       "    <tr style=\"text-align: right;\">\n",
       "      <th></th>\n",
       "      <th>KAN</th>\n",
       "      <th>KAN-median</th>\n",
       "      <th>KAN-lo-90</th>\n",
       "      <th>KAN-lo-80</th>\n",
       "      <th>KAN-hi-80</th>\n",
       "      <th>KAN-hi-90</th>\n",
       "      <th>best_model</th>\n",
       "    </tr>\n",
       "    <tr>\n",
       "      <th>unique_id</th>\n",
       "      <th></th>\n",
       "      <th></th>\n",
       "      <th></th>\n",
       "      <th></th>\n",
       "      <th></th>\n",
       "      <th></th>\n",
       "      <th></th>\n",
       "    </tr>\n",
       "  </thead>\n",
       "  <tbody>\n",
       "    <tr>\n",
       "      <th>399673</th>\n",
       "      <td>0.281545</td>\n",
       "      <td>0.282374</td>\n",
       "      <td>0.800796</td>\n",
       "      <td>0.665483</td>\n",
       "      <td>0.735027</td>\n",
       "      <td>0.881514</td>\n",
       "      <td>KAN</td>\n",
       "    </tr>\n",
       "  </tbody>\n",
       "</table>\n",
       "</div>"
      ],
      "text/plain": [
       "                KAN  KAN-median  KAN-lo-90  KAN-lo-80  KAN-hi-80  KAN-hi-90  \\\n",
       "unique_id                                                                     \n",
       "399673     0.281545    0.282374   0.800796   0.665483   0.735027   0.881514   \n",
       "\n",
       "          best_model  \n",
       "unique_id             \n",
       "399673           KAN  "
      ]
     },
     "metadata": {},
     "output_type": "display_data"
    },
    {
     "name": "stdout",
     "output_type": "stream",
     "text": [
      "validation MAE:\n"
     ]
    },
    {
     "data": {
      "text/html": [
       "<div>\n",
       "<style scoped>\n",
       "    .dataframe tbody tr th:only-of-type {\n",
       "        vertical-align: middle;\n",
       "    }\n",
       "\n",
       "    .dataframe tbody tr th {\n",
       "        vertical-align: top;\n",
       "    }\n",
       "\n",
       "    .dataframe thead th {\n",
       "        text-align: right;\n",
       "    }\n",
       "</style>\n",
       "<table border=\"1\" class=\"dataframe\">\n",
       "  <thead>\n",
       "    <tr style=\"text-align: right;\">\n",
       "      <th></th>\n",
       "      <th>KAN</th>\n",
       "      <th>KAN-median</th>\n",
       "      <th>KAN-lo-90</th>\n",
       "      <th>KAN-lo-80</th>\n",
       "      <th>KAN-hi-80</th>\n",
       "      <th>KAN-hi-90</th>\n",
       "      <th>best_model</th>\n",
       "    </tr>\n",
       "    <tr>\n",
       "      <th>unique_id</th>\n",
       "      <th></th>\n",
       "      <th></th>\n",
       "      <th></th>\n",
       "      <th></th>\n",
       "      <th></th>\n",
       "      <th></th>\n",
       "      <th></th>\n",
       "    </tr>\n",
       "  </thead>\n",
       "  <tbody>\n",
       "    <tr>\n",
       "      <th>399673</th>\n",
       "      <td>1.187397</td>\n",
       "      <td>1.18742</td>\n",
       "      <td>1.049831</td>\n",
       "      <td>1.056654</td>\n",
       "      <td>1.478545</td>\n",
       "      <td>1.585454</td>\n",
       "      <td>KAN-lo-90</td>\n",
       "    </tr>\n",
       "  </tbody>\n",
       "</table>\n",
       "</div>"
      ],
      "text/plain": [
       "                KAN  KAN-median  KAN-lo-90  KAN-lo-80  KAN-hi-80  KAN-hi-90  \\\n",
       "unique_id                                                                     \n",
       "399673     1.187397     1.18742   1.049831   1.056654   1.478545   1.585454   \n",
       "\n",
       "          best_model  \n",
       "unique_id             \n",
       "399673     KAN-lo-90  "
      ]
     },
     "metadata": {},
     "output_type": "display_data"
    }
   ],
   "source": [
    "train_and_evaluate(model, df_train)"
   ]
  },
  {
   "cell_type": "markdown",
   "metadata": {},
   "source": [
    "## LSTM (1.0)"
   ]
  },
  {
   "cell_type": "code",
   "execution_count": 99,
   "metadata": {},
   "outputs": [
    {
     "name": "stderr",
     "output_type": "stream",
     "text": [
      "Seed set to 1\n"
     ]
    }
   ],
   "source": [
    "from neuralforecast.models import LSTM\n",
    "\n",
    "model = LSTM(\n",
    "    h=20,\n",
    "    input_size=-1,\n",
    "    loss=DistributionLoss(distribution=\"Normal\", level=[80, 90]),\n",
    "    # scaler_type=\"robust\",\n",
    "    encoder_n_layers=2,\n",
    "    encoder_hidden_size=128,\n",
    "    context_size=10,\n",
    "    decoder_hidden_size=128,\n",
    "    decoder_layers=2,\n",
    "    max_steps=500,\n",
    "    # futr_exog_list=exog,\n",
    "    hist_exog_list=exog,\n",
    ")"
   ]
  },
  {
   "cell_type": "code",
   "execution_count": 100,
   "metadata": {},
   "outputs": [
    {
     "name": "stderr",
     "output_type": "stream",
     "text": [
      "GPU available: True (cuda), used: True\n",
      "TPU available: False, using: 0 TPU cores\n",
      "HPU available: False, using: 0 HPUs\n",
      "LOCAL_RANK: 0 - CUDA_VISIBLE_DEVICES: [0]\n",
      "\n",
      "  | Name            | Type             | Params | Mode \n",
      "-------------------------------------------------------------\n",
      "0 | loss            | DistributionLoss | 5      | train\n",
      "1 | padder          | ConstantPad1d    | 0      | train\n",
      "2 | scaler          | TemporalNorm     | 0      | train\n",
      "3 | hist_encoder    | LSTM             | 204 K  | train\n",
      "4 | context_adapter | Linear           | 25.8 K | train\n",
      "5 | mlp_decoder     | MLP              | 1.7 K  | train\n",
      "-------------------------------------------------------------\n",
      "232 K     Trainable params\n",
      "5         Non-trainable params\n",
      "232 K     Total params\n",
      "0.929     Total estimated model params size (MB)\n",
      "11        Modules in train mode\n",
      "0         Modules in eval mode\n"
     ]
    },
    {
     "data": {
      "application/vnd.jupyter.widget-view+json": {
       "model_id": "435ea2b9101a4383b765d22505511acd",
       "version_major": 2,
       "version_minor": 0
      },
      "text/plain": [
       "Sanity Checking: |          | 0/? [00:00<?, ?it/s]"
      ]
     },
     "metadata": {},
     "output_type": "display_data"
    },
    {
     "data": {
      "application/vnd.jupyter.widget-view+json": {
       "model_id": "d88e7ea5fd3d4fccb3baeb18b8d02b22",
       "version_major": 2,
       "version_minor": 0
      },
      "text/plain": [
       "Training: |          | 0/? [00:00<?, ?it/s]"
      ]
     },
     "metadata": {},
     "output_type": "display_data"
    },
    {
     "data": {
      "application/vnd.jupyter.widget-view+json": {
       "model_id": "2236a5f8e95a4e5da23274efd3894abb",
       "version_major": 2,
       "version_minor": 0
      },
      "text/plain": [
       "Validation: |          | 0/? [00:00<?, ?it/s]"
      ]
     },
     "metadata": {},
     "output_type": "display_data"
    },
    {
     "data": {
      "application/vnd.jupyter.widget-view+json": {
       "model_id": "92547ec6b9cd4e708bf33fc99a61795e",
       "version_major": 2,
       "version_minor": 0
      },
      "text/plain": [
       "Validation: |          | 0/? [00:00<?, ?it/s]"
      ]
     },
     "metadata": {},
     "output_type": "display_data"
    },
    {
     "data": {
      "application/vnd.jupyter.widget-view+json": {
       "model_id": "4b36d6f5628c4aa2b19d039f92cc71a5",
       "version_major": 2,
       "version_minor": 0
      },
      "text/plain": [
       "Validation: |          | 0/? [00:00<?, ?it/s]"
      ]
     },
     "metadata": {},
     "output_type": "display_data"
    },
    {
     "data": {
      "application/vnd.jupyter.widget-view+json": {
       "model_id": "d79979891c4b4b2bb9debb833c62f4ac",
       "version_major": 2,
       "version_minor": 0
      },
      "text/plain": [
       "Validation: |          | 0/? [00:00<?, ?it/s]"
      ]
     },
     "metadata": {},
     "output_type": "display_data"
    },
    {
     "data": {
      "application/vnd.jupyter.widget-view+json": {
       "model_id": "a1b0e1eb66ed4bb7b7ecf77ad32d0635",
       "version_major": 2,
       "version_minor": 0
      },
      "text/plain": [
       "Validation: |          | 0/? [00:00<?, ?it/s]"
      ]
     },
     "metadata": {},
     "output_type": "display_data"
    },
    {
     "name": "stderr",
     "output_type": "stream",
     "text": [
      "`Trainer.fit` stopped: `max_steps=500` reached.\n",
      "/home/kemove/git/neuralforecast/neuralforecast/core.py:1255: UserWarning: Predict insample might not provide accurate predictions for                        recurrent model LSTM class yet due to scaling.\n",
      "  warnings.warn(\n",
      "GPU available: True (cuda), used: True\n",
      "TPU available: False, using: 0 TPU cores\n",
      "HPU available: False, using: 0 HPUs\n",
      "LOCAL_RANK: 0 - CUDA_VISIBLE_DEVICES: [0]\n"
     ]
    },
    {
     "name": "stdout",
     "output_type": "stream",
     "text": [
      "train_loss: 1.07872\n",
      "valid_loss: 1.08814\n",
      "WARNING: Predict insample might not provide accurate predictions for                       recurrent model LSTM class yet due to scaling.\n"
     ]
    },
    {
     "data": {
      "application/vnd.jupyter.widget-view+json": {
       "model_id": "bed80474d6c544f4964ab267c53d7440",
       "version_major": 2,
       "version_minor": 0
      },
      "text/plain": [
       "Predicting: |          | 0/? [00:00<?, ?it/s]"
      ]
     },
     "metadata": {},
     "output_type": "display_data"
    },
    {
     "name": "stderr",
     "output_type": "stream",
     "text": [
      "/home/kemove/git/neuralforecast/neuralforecast/core.py:210: FutureWarning: In a future version the predictions will have the id as a column. You can set the `NIXTLA_ID_AS_COL` environment variable to adopt the new behavior and to suppress this warning.\n",
      "  warnings.warn(\n"
     ]
    },
    {
     "name": "stdout",
     "output_type": "stream",
     "text": [
      "training MAE:\n"
     ]
    },
    {
     "data": {
      "text/html": [
       "<div>\n",
       "<style scoped>\n",
       "    .dataframe tbody tr th:only-of-type {\n",
       "        vertical-align: middle;\n",
       "    }\n",
       "\n",
       "    .dataframe tbody tr th {\n",
       "        vertical-align: top;\n",
       "    }\n",
       "\n",
       "    .dataframe thead th {\n",
       "        text-align: right;\n",
       "    }\n",
       "</style>\n",
       "<table border=\"1\" class=\"dataframe\">\n",
       "  <thead>\n",
       "    <tr style=\"text-align: right;\">\n",
       "      <th></th>\n",
       "      <th>LSTM</th>\n",
       "      <th>LSTM-median</th>\n",
       "      <th>LSTM-lo-90</th>\n",
       "      <th>LSTM-lo-80</th>\n",
       "      <th>LSTM-hi-80</th>\n",
       "      <th>LSTM-hi-90</th>\n",
       "      <th>best_model</th>\n",
       "    </tr>\n",
       "    <tr>\n",
       "      <th>unique_id</th>\n",
       "      <th></th>\n",
       "      <th></th>\n",
       "      <th></th>\n",
       "      <th></th>\n",
       "      <th></th>\n",
       "      <th></th>\n",
       "      <th></th>\n",
       "    </tr>\n",
       "  </thead>\n",
       "  <tbody>\n",
       "    <tr>\n",
       "      <th>399673</th>\n",
       "      <td>1.825305</td>\n",
       "      <td>1.82625</td>\n",
       "      <td>4.565753</td>\n",
       "      <td>3.622161</td>\n",
       "      <td>3.970702</td>\n",
       "      <td>4.940525</td>\n",
       "      <td>LSTM</td>\n",
       "    </tr>\n",
       "  </tbody>\n",
       "</table>\n",
       "</div>"
      ],
      "text/plain": [
       "               LSTM  LSTM-median  LSTM-lo-90  LSTM-lo-80  LSTM-hi-80  \\\n",
       "unique_id                                                              \n",
       "399673     1.825305      1.82625    4.565753    3.622161    3.970702   \n",
       "\n",
       "           LSTM-hi-90 best_model  \n",
       "unique_id                         \n",
       "399673       4.940525       LSTM  "
      ]
     },
     "metadata": {},
     "output_type": "display_data"
    },
    {
     "name": "stdout",
     "output_type": "stream",
     "text": [
      "validation MAE:\n"
     ]
    },
    {
     "data": {
      "text/html": [
       "<div>\n",
       "<style scoped>\n",
       "    .dataframe tbody tr th:only-of-type {\n",
       "        vertical-align: middle;\n",
       "    }\n",
       "\n",
       "    .dataframe tbody tr th {\n",
       "        vertical-align: top;\n",
       "    }\n",
       "\n",
       "    .dataframe thead th {\n",
       "        text-align: right;\n",
       "    }\n",
       "</style>\n",
       "<table border=\"1\" class=\"dataframe\">\n",
       "  <thead>\n",
       "    <tr style=\"text-align: right;\">\n",
       "      <th></th>\n",
       "      <th>LSTM</th>\n",
       "      <th>LSTM-median</th>\n",
       "      <th>LSTM-lo-90</th>\n",
       "      <th>LSTM-lo-80</th>\n",
       "      <th>LSTM-hi-80</th>\n",
       "      <th>LSTM-hi-90</th>\n",
       "      <th>best_model</th>\n",
       "    </tr>\n",
       "    <tr>\n",
       "      <th>unique_id</th>\n",
       "      <th></th>\n",
       "      <th></th>\n",
       "      <th></th>\n",
       "      <th></th>\n",
       "      <th></th>\n",
       "      <th></th>\n",
       "      <th></th>\n",
       "    </tr>\n",
       "  </thead>\n",
       "  <tbody>\n",
       "    <tr>\n",
       "      <th>399673</th>\n",
       "      <td>1.072899</td>\n",
       "      <td>1.07649</td>\n",
       "      <td>2.871083</td>\n",
       "      <td>2.258516</td>\n",
       "      <td>2.716224</td>\n",
       "      <td>3.344093</td>\n",
       "      <td>LSTM</td>\n",
       "    </tr>\n",
       "  </tbody>\n",
       "</table>\n",
       "</div>"
      ],
      "text/plain": [
       "               LSTM  LSTM-median  LSTM-lo-90  LSTM-lo-80  LSTM-hi-80  \\\n",
       "unique_id                                                              \n",
       "399673     1.072899      1.07649    2.871083    2.258516    2.716224   \n",
       "\n",
       "           LSTM-hi-90 best_model  \n",
       "unique_id                         \n",
       "399673       3.344093       LSTM  "
      ]
     },
     "metadata": {},
     "output_type": "display_data"
    }
   ],
   "source": [
    "train_and_evaluate(model, df_train)"
   ]
  },
  {
   "cell_type": "markdown",
   "metadata": {},
   "source": [
    "## MLP (0.97)"
   ]
  },
  {
   "cell_type": "code",
   "execution_count": 101,
   "metadata": {},
   "outputs": [
    {
     "name": "stderr",
     "output_type": "stream",
     "text": [
      "Seed set to 1\n"
     ]
    }
   ],
   "source": [
    "from neuralforecast.models import MLP\n",
    "\n",
    "model = MLP(\n",
    "    h=20,\n",
    "    input_size=48,\n",
    "    loss=DistributionLoss(distribution='Normal', level=[80, 90]),\n",
    "    # scaler_type='robust',\n",
    "    learning_rate=1e-3,\n",
    "    max_steps=500,\n",
    "    val_check_steps=5,\n",
    "    early_stop_patience_steps=10,\n",
    "    # futr_exog_list=exog,\n",
    "    hist_exog_list=exog,\n",
    ")"
   ]
  },
  {
   "cell_type": "code",
   "execution_count": 102,
   "metadata": {},
   "outputs": [
    {
     "name": "stderr",
     "output_type": "stream",
     "text": [
      "GPU available: True (cuda), used: True\n",
      "TPU available: False, using: 0 TPU cores\n",
      "HPU available: False, using: 0 HPUs\n"
     ]
    },
    {
     "name": "stderr",
     "output_type": "stream",
     "text": [
      "LOCAL_RANK: 0 - CUDA_VISIBLE_DEVICES: [0]\n",
      "\n",
      "  | Name         | Type             | Params | Mode \n",
      "----------------------------------------------------------\n",
      "0 | loss         | DistributionLoss | 5      | train\n",
      "1 | padder_train | ConstantPad1d    | 0      | train\n",
      "2 | scaler       | TemporalNorm     | 0      | train\n",
      "3 | mlp          | ModuleList       | 1.6 M  | train\n",
      "4 | out          | Linear           | 41.0 K | train\n",
      "----------------------------------------------------------\n",
      "1.7 M     Trainable params\n",
      "5         Non-trainable params\n",
      "1.7 M     Total params\n",
      "6.726     Total estimated model params size (MB)\n",
      "7         Modules in train mode\n",
      "0         Modules in eval mode\n"
     ]
    },
    {
     "data": {
      "application/vnd.jupyter.widget-view+json": {
       "model_id": "57da5a1a55e5430fa4f08e2cfd191895",
       "version_major": 2,
       "version_minor": 0
      },
      "text/plain": [
       "Sanity Checking: |          | 0/? [00:00<?, ?it/s]"
      ]
     },
     "metadata": {},
     "output_type": "display_data"
    },
    {
     "data": {
      "application/vnd.jupyter.widget-view+json": {
       "model_id": "f49822e956614682b268da8144f83fb6",
       "version_major": 2,
       "version_minor": 0
      },
      "text/plain": [
       "Training: |          | 0/? [00:00<?, ?it/s]"
      ]
     },
     "metadata": {},
     "output_type": "display_data"
    },
    {
     "data": {
      "application/vnd.jupyter.widget-view+json": {
       "model_id": "53a189bab45c427ebfbf937f1702f40f",
       "version_major": 2,
       "version_minor": 0
      },
      "text/plain": [
       "Validation: |          | 0/? [00:00<?, ?it/s]"
      ]
     },
     "metadata": {},
     "output_type": "display_data"
    },
    {
     "data": {
      "application/vnd.jupyter.widget-view+json": {
       "model_id": "0b6c0d92fb0842de834264df06dbedec",
       "version_major": 2,
       "version_minor": 0
      },
      "text/plain": [
       "Validation: |          | 0/? [00:00<?, ?it/s]"
      ]
     },
     "metadata": {},
     "output_type": "display_data"
    },
    {
     "data": {
      "application/vnd.jupyter.widget-view+json": {
       "model_id": "0aa9492e7ca440968b6bc649cc3e93f8",
       "version_major": 2,
       "version_minor": 0
      },
      "text/plain": [
       "Validation: |          | 0/? [00:00<?, ?it/s]"
      ]
     },
     "metadata": {},
     "output_type": "display_data"
    },
    {
     "data": {
      "application/vnd.jupyter.widget-view+json": {
       "model_id": "371f875aa87d4fdfb82876f65a42e855",
       "version_major": 2,
       "version_minor": 0
      },
      "text/plain": [
       "Validation: |          | 0/? [00:00<?, ?it/s]"
      ]
     },
     "metadata": {},
     "output_type": "display_data"
    },
    {
     "data": {
      "application/vnd.jupyter.widget-view+json": {
       "model_id": "2f8d4e7aa0d14e5cafed2a4e7e7559e7",
       "version_major": 2,
       "version_minor": 0
      },
      "text/plain": [
       "Validation: |          | 0/? [00:00<?, ?it/s]"
      ]
     },
     "metadata": {},
     "output_type": "display_data"
    },
    {
     "data": {
      "application/vnd.jupyter.widget-view+json": {
       "model_id": "1175fb30e8724a7fb741bbfe544fd2f5",
       "version_major": 2,
       "version_minor": 0
      },
      "text/plain": [
       "Validation: |          | 0/? [00:00<?, ?it/s]"
      ]
     },
     "metadata": {},
     "output_type": "display_data"
    },
    {
     "data": {
      "application/vnd.jupyter.widget-view+json": {
       "model_id": "ea56579a1f654ba2a09717c225dc3187",
       "version_major": 2,
       "version_minor": 0
      },
      "text/plain": [
       "Validation: |          | 0/? [00:00<?, ?it/s]"
      ]
     },
     "metadata": {},
     "output_type": "display_data"
    },
    {
     "data": {
      "application/vnd.jupyter.widget-view+json": {
       "model_id": "5e635c8e10fe463bbc0b6062498cdc14",
       "version_major": 2,
       "version_minor": 0
      },
      "text/plain": [
       "Validation: |          | 0/? [00:00<?, ?it/s]"
      ]
     },
     "metadata": {},
     "output_type": "display_data"
    },
    {
     "data": {
      "application/vnd.jupyter.widget-view+json": {
       "model_id": "cf97f8ac0b9a47b886af30e101514b9a",
       "version_major": 2,
       "version_minor": 0
      },
      "text/plain": [
       "Validation: |          | 0/? [00:00<?, ?it/s]"
      ]
     },
     "metadata": {},
     "output_type": "display_data"
    },
    {
     "data": {
      "application/vnd.jupyter.widget-view+json": {
       "model_id": "01f333cf907f4893a1739c3194376483",
       "version_major": 2,
       "version_minor": 0
      },
      "text/plain": [
       "Validation: |          | 0/? [00:00<?, ?it/s]"
      ]
     },
     "metadata": {},
     "output_type": "display_data"
    },
    {
     "data": {
      "application/vnd.jupyter.widget-view+json": {
       "model_id": "85b8dd3cc3e74777ba304adf5a5f63e2",
       "version_major": 2,
       "version_minor": 0
      },
      "text/plain": [
       "Validation: |          | 0/? [00:00<?, ?it/s]"
      ]
     },
     "metadata": {},
     "output_type": "display_data"
    },
    {
     "data": {
      "application/vnd.jupyter.widget-view+json": {
       "model_id": "56713e4798a54194ba7ea69eb5e3646b",
       "version_major": 2,
       "version_minor": 0
      },
      "text/plain": [
       "Validation: |          | 0/? [00:00<?, ?it/s]"
      ]
     },
     "metadata": {},
     "output_type": "display_data"
    },
    {
     "data": {
      "application/vnd.jupyter.widget-view+json": {
       "model_id": "75ab28bd2d204910845cc7637b5c57b3",
       "version_major": 2,
       "version_minor": 0
      },
      "text/plain": [
       "Validation: |          | 0/? [00:00<?, ?it/s]"
      ]
     },
     "metadata": {},
     "output_type": "display_data"
    },
    {
     "name": "stderr",
     "output_type": "stream",
     "text": [
      "Trainer already configured with model summary callbacks: [<class 'pytorch_lightning.callbacks.model_summary.ModelSummary'>]. Skipping setting a default `ModelSummary` callback.\n",
      "GPU available: True (cuda), used: True\n",
      "TPU available: False, using: 0 TPU cores\n",
      "HPU available: False, using: 0 HPUs\n",
      "LOCAL_RANK: 0 - CUDA_VISIBLE_DEVICES: [0]\n"
     ]
    },
    {
     "name": "stdout",
     "output_type": "stream",
     "text": [
      "train_loss: 0.69119\n",
      "valid_loss: 1.13313\n"
     ]
    },
    {
     "data": {
      "application/vnd.jupyter.widget-view+json": {
       "model_id": "a5b93e20ab5b4dec9bc6a474fdf9fc4e",
       "version_major": 2,
       "version_minor": 0
      },
      "text/plain": [
       "Predicting: |          | 0/? [00:00<?, ?it/s]"
      ]
     },
     "metadata": {},
     "output_type": "display_data"
    },
    {
     "name": "stderr",
     "output_type": "stream",
     "text": [
      "/home/kemove/git/neuralforecast/neuralforecast/core.py:210: FutureWarning: In a future version the predictions will have the id as a column. You can set the `NIXTLA_ID_AS_COL` environment variable to adopt the new behavior and to suppress this warning.\n",
      "  warnings.warn(\n"
     ]
    },
    {
     "name": "stdout",
     "output_type": "stream",
     "text": [
      "training MAE:\n"
     ]
    },
    {
     "data": {
      "text/html": [
       "<div>\n",
       "<style scoped>\n",
       "    .dataframe tbody tr th:only-of-type {\n",
       "        vertical-align: middle;\n",
       "    }\n",
       "\n",
       "    .dataframe tbody tr th {\n",
       "        vertical-align: top;\n",
       "    }\n",
       "\n",
       "    .dataframe thead th {\n",
       "        text-align: right;\n",
       "    }\n",
       "</style>\n",
       "<table border=\"1\" class=\"dataframe\">\n",
       "  <thead>\n",
       "    <tr style=\"text-align: right;\">\n",
       "      <th></th>\n",
       "      <th>MLP</th>\n",
       "      <th>MLP-median</th>\n",
       "      <th>MLP-lo-90</th>\n",
       "      <th>MLP-lo-80</th>\n",
       "      <th>MLP-hi-80</th>\n",
       "      <th>MLP-hi-90</th>\n",
       "      <th>best_model</th>\n",
       "    </tr>\n",
       "    <tr>\n",
       "      <th>unique_id</th>\n",
       "      <th></th>\n",
       "      <th></th>\n",
       "      <th></th>\n",
       "      <th></th>\n",
       "      <th></th>\n",
       "      <th></th>\n",
       "      <th></th>\n",
       "    </tr>\n",
       "  </thead>\n",
       "  <tbody>\n",
       "    <tr>\n",
       "      <th>399673</th>\n",
       "      <td>1.008219</td>\n",
       "      <td>1.008281</td>\n",
       "      <td>1.810534</td>\n",
       "      <td>1.514053</td>\n",
       "      <td>1.556206</td>\n",
       "      <td>1.870416</td>\n",
       "      <td>MLP</td>\n",
       "    </tr>\n",
       "  </tbody>\n",
       "</table>\n",
       "</div>"
      ],
      "text/plain": [
       "                MLP  MLP-median  MLP-lo-90  MLP-lo-80  MLP-hi-80  MLP-hi-90  \\\n",
       "unique_id                                                                     \n",
       "399673     1.008219    1.008281   1.810534   1.514053   1.556206   1.870416   \n",
       "\n",
       "          best_model  \n",
       "unique_id             \n",
       "399673           MLP  "
      ]
     },
     "metadata": {},
     "output_type": "display_data"
    },
    {
     "name": "stdout",
     "output_type": "stream",
     "text": [
      "validation MAE:\n"
     ]
    },
    {
     "data": {
      "text/html": [
       "<div>\n",
       "<style scoped>\n",
       "    .dataframe tbody tr th:only-of-type {\n",
       "        vertical-align: middle;\n",
       "    }\n",
       "\n",
       "    .dataframe tbody tr th {\n",
       "        vertical-align: top;\n",
       "    }\n",
       "\n",
       "    .dataframe thead th {\n",
       "        text-align: right;\n",
       "    }\n",
       "</style>\n",
       "<table border=\"1\" class=\"dataframe\">\n",
       "  <thead>\n",
       "    <tr style=\"text-align: right;\">\n",
       "      <th></th>\n",
       "      <th>MLP</th>\n",
       "      <th>MLP-median</th>\n",
       "      <th>MLP-lo-90</th>\n",
       "      <th>MLP-lo-80</th>\n",
       "      <th>MLP-hi-80</th>\n",
       "      <th>MLP-hi-90</th>\n",
       "      <th>best_model</th>\n",
       "    </tr>\n",
       "    <tr>\n",
       "      <th>unique_id</th>\n",
       "      <th></th>\n",
       "      <th></th>\n",
       "      <th></th>\n",
       "      <th></th>\n",
       "      <th></th>\n",
       "      <th></th>\n",
       "      <th></th>\n",
       "    </tr>\n",
       "  </thead>\n",
       "  <tbody>\n",
       "    <tr>\n",
       "      <th>399673</th>\n",
       "      <td>0.972912</td>\n",
       "      <td>0.973646</td>\n",
       "      <td>1.25415</td>\n",
       "      <td>1.104586</td>\n",
       "      <td>1.533854</td>\n",
       "      <td>1.769622</td>\n",
       "      <td>MLP</td>\n",
       "    </tr>\n",
       "  </tbody>\n",
       "</table>\n",
       "</div>"
      ],
      "text/plain": [
       "                MLP  MLP-median  MLP-lo-90  MLP-lo-80  MLP-hi-80  MLP-hi-90  \\\n",
       "unique_id                                                                     \n",
       "399673     0.972912    0.973646    1.25415   1.104586   1.533854   1.769622   \n",
       "\n",
       "          best_model  \n",
       "unique_id             \n",
       "399673           MLP  "
      ]
     },
     "metadata": {},
     "output_type": "display_data"
    }
   ],
   "source": [
    "train_and_evaluate(model, df_train)"
   ]
  },
  {
   "cell_type": "markdown",
   "metadata": {},
   "source": [
    "## MLPMultivariate (0.84)"
   ]
  },
  {
   "cell_type": "code",
   "execution_count": 103,
   "metadata": {},
   "outputs": [
    {
     "name": "stderr",
     "output_type": "stream",
     "text": [
      "Seed set to 1\n"
     ]
    }
   ],
   "source": [
    "from neuralforecast.models import MLPMultivariate\n",
    "\n",
    "model = MLPMultivariate(\n",
    "    h=20,\n",
    "    input_size=48,\n",
    "    n_series=1,\n",
    "    loss = MAE(),\n",
    "    # scaler_type='robust',\n",
    "    learning_rate=1e-3,\n",
    "    max_steps=500,\n",
    "    val_check_steps=5,\n",
    "    early_stop_patience_steps=10,\n",
    "    # futr_exog_list=exog,\n",
    "    hist_exog_list=exog,\n",
    ")"
   ]
  },
  {
   "cell_type": "code",
   "execution_count": 104,
   "metadata": {},
   "outputs": [
    {
     "name": "stderr",
     "output_type": "stream",
     "text": [
      "GPU available: True (cuda), used: True\n",
      "TPU available: False, using: 0 TPU cores\n",
      "HPU available: False, using: 0 HPUs\n",
      "LOCAL_RANK: 0 - CUDA_VISIBLE_DEVICES: [0]\n"
     ]
    },
    {
     "name": "stderr",
     "output_type": "stream",
     "text": [
      "\n",
      "  | Name   | Type          | Params | Mode \n",
      "-------------------------------------------------\n",
      "0 | loss   | MAE           | 0      | train\n",
      "1 | padder | ConstantPad1d | 0      | train\n",
      "2 | scaler | TemporalNorm  | 0      | train\n",
      "3 | mlp    | ModuleList    | 1.6 M  | train\n",
      "4 | out    | Linear        | 20.5 K | train\n",
      "-------------------------------------------------\n",
      "1.7 M     Trainable params\n",
      "0         Non-trainable params\n",
      "1.7 M     Total params\n",
      "6.644     Total estimated model params size (MB)\n",
      "7         Modules in train mode\n",
      "0         Modules in eval mode\n"
     ]
    },
    {
     "data": {
      "application/vnd.jupyter.widget-view+json": {
       "model_id": "811dfc264f804f9482c2cae90333ceb3",
       "version_major": 2,
       "version_minor": 0
      },
      "text/plain": [
       "Sanity Checking: |          | 0/? [00:00<?, ?it/s]"
      ]
     },
     "metadata": {},
     "output_type": "display_data"
    },
    {
     "data": {
      "application/vnd.jupyter.widget-view+json": {
       "model_id": "a4a55f4e56654803ae33e0f4f3ef8dc6",
       "version_major": 2,
       "version_minor": 0
      },
      "text/plain": [
       "Training: |          | 0/? [00:00<?, ?it/s]"
      ]
     },
     "metadata": {},
     "output_type": "display_data"
    },
    {
     "data": {
      "application/vnd.jupyter.widget-view+json": {
       "model_id": "2652cd6ac82a481ca0ea062fbcf530eb",
       "version_major": 2,
       "version_minor": 0
      },
      "text/plain": [
       "Validation: |          | 0/? [00:00<?, ?it/s]"
      ]
     },
     "metadata": {},
     "output_type": "display_data"
    },
    {
     "data": {
      "application/vnd.jupyter.widget-view+json": {
       "model_id": "5a30ae65854948e59bc43050262dc9b4",
       "version_major": 2,
       "version_minor": 0
      },
      "text/plain": [
       "Validation: |          | 0/? [00:00<?, ?it/s]"
      ]
     },
     "metadata": {},
     "output_type": "display_data"
    },
    {
     "data": {
      "application/vnd.jupyter.widget-view+json": {
       "model_id": "0f5bd252733a416ab4d483b4458ddc07",
       "version_major": 2,
       "version_minor": 0
      },
      "text/plain": [
       "Validation: |          | 0/? [00:00<?, ?it/s]"
      ]
     },
     "metadata": {},
     "output_type": "display_data"
    },
    {
     "data": {
      "application/vnd.jupyter.widget-view+json": {
       "model_id": "be7376b9936f412dbb4c43cde14e62b8",
       "version_major": 2,
       "version_minor": 0
      },
      "text/plain": [
       "Validation: |          | 0/? [00:00<?, ?it/s]"
      ]
     },
     "metadata": {},
     "output_type": "display_data"
    },
    {
     "data": {
      "application/vnd.jupyter.widget-view+json": {
       "model_id": "16a5a1ee1670428f8f8e64b431a7dd5d",
       "version_major": 2,
       "version_minor": 0
      },
      "text/plain": [
       "Validation: |          | 0/? [00:00<?, ?it/s]"
      ]
     },
     "metadata": {},
     "output_type": "display_data"
    },
    {
     "data": {
      "application/vnd.jupyter.widget-view+json": {
       "model_id": "14e4432c6c0d4130acc1663fa90c9e24",
       "version_major": 2,
       "version_minor": 0
      },
      "text/plain": [
       "Validation: |          | 0/? [00:00<?, ?it/s]"
      ]
     },
     "metadata": {},
     "output_type": "display_data"
    },
    {
     "data": {
      "application/vnd.jupyter.widget-view+json": {
       "model_id": "b1c22a545ed944999bc72ded1d48bac1",
       "version_major": 2,
       "version_minor": 0
      },
      "text/plain": [
       "Validation: |          | 0/? [00:00<?, ?it/s]"
      ]
     },
     "metadata": {},
     "output_type": "display_data"
    },
    {
     "data": {
      "application/vnd.jupyter.widget-view+json": {
       "model_id": "772af6fcf58744bb98592edbe061a539",
       "version_major": 2,
       "version_minor": 0
      },
      "text/plain": [
       "Validation: |          | 0/? [00:00<?, ?it/s]"
      ]
     },
     "metadata": {},
     "output_type": "display_data"
    },
    {
     "data": {
      "application/vnd.jupyter.widget-view+json": {
       "model_id": "3368f3239cdd4028b5370aec979b79d1",
       "version_major": 2,
       "version_minor": 0
      },
      "text/plain": [
       "Validation: |          | 0/? [00:00<?, ?it/s]"
      ]
     },
     "metadata": {},
     "output_type": "display_data"
    },
    {
     "data": {
      "application/vnd.jupyter.widget-view+json": {
       "model_id": "7f64020bf9d84aed8709790c26430ad5",
       "version_major": 2,
       "version_minor": 0
      },
      "text/plain": [
       "Validation: |          | 0/? [00:00<?, ?it/s]"
      ]
     },
     "metadata": {},
     "output_type": "display_data"
    },
    {
     "data": {
      "application/vnd.jupyter.widget-view+json": {
       "model_id": "916a541bd5c849e5bb8339966da8a108",
       "version_major": 2,
       "version_minor": 0
      },
      "text/plain": [
       "Validation: |          | 0/? [00:00<?, ?it/s]"
      ]
     },
     "metadata": {},
     "output_type": "display_data"
    },
    {
     "data": {
      "application/vnd.jupyter.widget-view+json": {
       "model_id": "4ef1ecbb379444c1a02c04c1ed96468c",
       "version_major": 2,
       "version_minor": 0
      },
      "text/plain": [
       "Validation: |          | 0/? [00:00<?, ?it/s]"
      ]
     },
     "metadata": {},
     "output_type": "display_data"
    },
    {
     "data": {
      "application/vnd.jupyter.widget-view+json": {
       "model_id": "40bc3065dd544ac59b288d51b104e843",
       "version_major": 2,
       "version_minor": 0
      },
      "text/plain": [
       "Validation: |          | 0/? [00:00<?, ?it/s]"
      ]
     },
     "metadata": {},
     "output_type": "display_data"
    },
    {
     "data": {
      "application/vnd.jupyter.widget-view+json": {
       "model_id": "1489a926008d45999b3380b76a60b161",
       "version_major": 2,
       "version_minor": 0
      },
      "text/plain": [
       "Validation: |          | 0/? [00:00<?, ?it/s]"
      ]
     },
     "metadata": {},
     "output_type": "display_data"
    },
    {
     "data": {
      "application/vnd.jupyter.widget-view+json": {
       "model_id": "2847776e7fe04828bf32c80f9a41beb3",
       "version_major": 2,
       "version_minor": 0
      },
      "text/plain": [
       "Validation: |          | 0/? [00:00<?, ?it/s]"
      ]
     },
     "metadata": {},
     "output_type": "display_data"
    },
    {
     "data": {
      "application/vnd.jupyter.widget-view+json": {
       "model_id": "3ef43b7059104e58b8e5014bc751716d",
       "version_major": 2,
       "version_minor": 0
      },
      "text/plain": [
       "Validation: |          | 0/? [00:00<?, ?it/s]"
      ]
     },
     "metadata": {},
     "output_type": "display_data"
    },
    {
     "data": {
      "application/vnd.jupyter.widget-view+json": {
       "model_id": "be9e75b6fe234c5a82ef610f1c3201ff",
       "version_major": 2,
       "version_minor": 0
      },
      "text/plain": [
       "Validation: |          | 0/? [00:00<?, ?it/s]"
      ]
     },
     "metadata": {},
     "output_type": "display_data"
    },
    {
     "name": "stderr",
     "output_type": "stream",
     "text": [
      "Trainer already configured with model summary callbacks: [<class 'pytorch_lightning.callbacks.model_summary.ModelSummary'>]. Skipping setting a default `ModelSummary` callback.\n",
      "GPU available: True (cuda), used: True\n",
      "TPU available: False, using: 0 TPU cores\n",
      "HPU available: False, using: 0 HPUs\n",
      "LOCAL_RANK: 0 - CUDA_VISIBLE_DEVICES: [0]\n"
     ]
    },
    {
     "name": "stdout",
     "output_type": "stream",
     "text": [
      "train_loss: 0.58743\n",
      "valid_loss: 0.57385\n"
     ]
    },
    {
     "data": {
      "application/vnd.jupyter.widget-view+json": {
       "model_id": "b4e92ee3c1cc471f89014ea6cd0a2df7",
       "version_major": 2,
       "version_minor": 0
      },
      "text/plain": [
       "Predicting: |          | 0/? [00:00<?, ?it/s]"
      ]
     },
     "metadata": {},
     "output_type": "display_data"
    },
    {
     "name": "stderr",
     "output_type": "stream",
     "text": [
      "/home/kemove/git/neuralforecast/neuralforecast/core.py:210: FutureWarning: In a future version the predictions will have the id as a column. You can set the `NIXTLA_ID_AS_COL` environment variable to adopt the new behavior and to suppress this warning.\n",
      "  warnings.warn(\n"
     ]
    },
    {
     "name": "stdout",
     "output_type": "stream",
     "text": [
      "training MAE:\n"
     ]
    },
    {
     "data": {
      "text/html": [
       "<div>\n",
       "<style scoped>\n",
       "    .dataframe tbody tr th:only-of-type {\n",
       "        vertical-align: middle;\n",
       "    }\n",
       "\n",
       "    .dataframe tbody tr th {\n",
       "        vertical-align: top;\n",
       "    }\n",
       "\n",
       "    .dataframe thead th {\n",
       "        text-align: right;\n",
       "    }\n",
       "</style>\n",
       "<table border=\"1\" class=\"dataframe\">\n",
       "  <thead>\n",
       "    <tr style=\"text-align: right;\">\n",
       "      <th></th>\n",
       "      <th>MLPMultivariate</th>\n",
       "      <th>best_model</th>\n",
       "    </tr>\n",
       "    <tr>\n",
       "      <th>unique_id</th>\n",
       "      <th></th>\n",
       "      <th></th>\n",
       "    </tr>\n",
       "  </thead>\n",
       "  <tbody>\n",
       "    <tr>\n",
       "      <th>399673</th>\n",
       "      <td>1.443913</td>\n",
       "      <td>MLPMultivariate</td>\n",
       "    </tr>\n",
       "  </tbody>\n",
       "</table>\n",
       "</div>"
      ],
      "text/plain": [
       "           MLPMultivariate       best_model\n",
       "unique_id                                  \n",
       "399673            1.443913  MLPMultivariate"
      ]
     },
     "metadata": {},
     "output_type": "display_data"
    },
    {
     "name": "stdout",
     "output_type": "stream",
     "text": [
      "validation MAE:\n"
     ]
    },
    {
     "data": {
      "text/html": [
       "<div>\n",
       "<style scoped>\n",
       "    .dataframe tbody tr th:only-of-type {\n",
       "        vertical-align: middle;\n",
       "    }\n",
       "\n",
       "    .dataframe tbody tr th {\n",
       "        vertical-align: top;\n",
       "    }\n",
       "\n",
       "    .dataframe thead th {\n",
       "        text-align: right;\n",
       "    }\n",
       "</style>\n",
       "<table border=\"1\" class=\"dataframe\">\n",
       "  <thead>\n",
       "    <tr style=\"text-align: right;\">\n",
       "      <th></th>\n",
       "      <th>MLPMultivariate</th>\n",
       "      <th>best_model</th>\n",
       "    </tr>\n",
       "    <tr>\n",
       "      <th>unique_id</th>\n",
       "      <th></th>\n",
       "      <th></th>\n",
       "    </tr>\n",
       "  </thead>\n",
       "  <tbody>\n",
       "    <tr>\n",
       "      <th>399673</th>\n",
       "      <td>0.848242</td>\n",
       "      <td>MLPMultivariate</td>\n",
       "    </tr>\n",
       "  </tbody>\n",
       "</table>\n",
       "</div>"
      ],
      "text/plain": [
       "           MLPMultivariate       best_model\n",
       "unique_id                                  \n",
       "399673            0.848242  MLPMultivariate"
      ]
     },
     "metadata": {},
     "output_type": "display_data"
    }
   ],
   "source": [
    "train_and_evaluate(model, df_train)"
   ]
  },
  {
   "cell_type": "markdown",
   "metadata": {},
   "source": [
    "## NBEATSx (0.92)"
   ]
  },
  {
   "cell_type": "code",
   "execution_count": 105,
   "metadata": {},
   "outputs": [
    {
     "name": "stderr",
     "output_type": "stream",
     "text": [
      "Seed set to 1\n"
     ]
    }
   ],
   "source": [
    "from neuralforecast.models import NBEATSx\n",
    "from neuralforecast.losses.pytorch import MQLoss\n",
    "\n",
    "model = NBEATSx(\n",
    "    h=20,\n",
    "    input_size=48,\n",
    "    loss=MQLoss(level=[80, 90]),\n",
    "    # scaler_type='robust',\n",
    "    dropout_prob_theta=0.5,\n",
    "    max_steps=500,\n",
    "    val_check_steps=5,\n",
    "    early_stop_patience_steps=10,\n",
    "    # futr_exog_list=exog,\n",
    "    hist_exog_list=exog,\n",
    ")"
   ]
  },
  {
   "cell_type": "code",
   "execution_count": 106,
   "metadata": {},
   "outputs": [
    {
     "name": "stderr",
     "output_type": "stream",
     "text": [
      "GPU available: True (cuda), used: True\n",
      "TPU available: False, using: 0 TPU cores\n",
      "HPU available: False, using: 0 HPUs\n"
     ]
    },
    {
     "name": "stderr",
     "output_type": "stream",
     "text": [
      "LOCAL_RANK: 0 - CUDA_VISIBLE_DEVICES: [0]\n",
      "\n",
      "  | Name         | Type          | Params | Mode \n",
      "-------------------------------------------------------\n",
      "0 | loss         | MQLoss        | 5      | train\n",
      "1 | padder_train | ConstantPad1d | 0      | train\n",
      "2 | scaler       | TemporalNorm  | 0      | train\n",
      "3 | blocks       | ModuleList    | 3.5 M  | train\n",
      "4 | out          | Linear        | 2.1 K  | train\n",
      "-------------------------------------------------------\n",
      "3.5 M     Trainable params\n",
      "2.8 K     Non-trainable params\n",
      "3.5 M     Total params\n",
      "13.829    Total estimated model params size (MB)\n",
      "41        Modules in train mode\n",
      "0         Modules in eval mode\n"
     ]
    },
    {
     "data": {
      "application/vnd.jupyter.widget-view+json": {
       "model_id": "64614aa234ab4fd9a46f6dbe6ffb954d",
       "version_major": 2,
       "version_minor": 0
      },
      "text/plain": [
       "Sanity Checking: |          | 0/? [00:00<?, ?it/s]"
      ]
     },
     "metadata": {},
     "output_type": "display_data"
    },
    {
     "data": {
      "application/vnd.jupyter.widget-view+json": {
       "model_id": "b28664bdc05e402fa5248a7e3897ad71",
       "version_major": 2,
       "version_minor": 0
      },
      "text/plain": [
       "Training: |          | 0/? [00:00<?, ?it/s]"
      ]
     },
     "metadata": {},
     "output_type": "display_data"
    },
    {
     "data": {
      "application/vnd.jupyter.widget-view+json": {
       "model_id": "d6e30a73cfd244b7b7afe700eb09f33a",
       "version_major": 2,
       "version_minor": 0
      },
      "text/plain": [
       "Validation: |          | 0/? [00:00<?, ?it/s]"
      ]
     },
     "metadata": {},
     "output_type": "display_data"
    },
    {
     "data": {
      "application/vnd.jupyter.widget-view+json": {
       "model_id": "d7ae6ccb28814fbd9d4c9af9c37c05b7",
       "version_major": 2,
       "version_minor": 0
      },
      "text/plain": [
       "Validation: |          | 0/? [00:00<?, ?it/s]"
      ]
     },
     "metadata": {},
     "output_type": "display_data"
    },
    {
     "data": {
      "application/vnd.jupyter.widget-view+json": {
       "model_id": "19e0deb276de4f01bf9c45ec5fd68923",
       "version_major": 2,
       "version_minor": 0
      },
      "text/plain": [
       "Validation: |          | 0/? [00:00<?, ?it/s]"
      ]
     },
     "metadata": {},
     "output_type": "display_data"
    },
    {
     "data": {
      "application/vnd.jupyter.widget-view+json": {
       "model_id": "45b29b66abb44f62896660b33e87d424",
       "version_major": 2,
       "version_minor": 0
      },
      "text/plain": [
       "Validation: |          | 0/? [00:00<?, ?it/s]"
      ]
     },
     "metadata": {},
     "output_type": "display_data"
    },
    {
     "data": {
      "application/vnd.jupyter.widget-view+json": {
       "model_id": "ba06a165c1b2470fa20c141c10ebab98",
       "version_major": 2,
       "version_minor": 0
      },
      "text/plain": [
       "Validation: |          | 0/? [00:00<?, ?it/s]"
      ]
     },
     "metadata": {},
     "output_type": "display_data"
    },
    {
     "data": {
      "application/vnd.jupyter.widget-view+json": {
       "model_id": "ac02168d8f97493c8f11f9ac7ed4b6f1",
       "version_major": 2,
       "version_minor": 0
      },
      "text/plain": [
       "Validation: |          | 0/? [00:00<?, ?it/s]"
      ]
     },
     "metadata": {},
     "output_type": "display_data"
    },
    {
     "data": {
      "application/vnd.jupyter.widget-view+json": {
       "model_id": "54912596e82d4375ba22d1037ceb378a",
       "version_major": 2,
       "version_minor": 0
      },
      "text/plain": [
       "Validation: |          | 0/? [00:00<?, ?it/s]"
      ]
     },
     "metadata": {},
     "output_type": "display_data"
    },
    {
     "data": {
      "application/vnd.jupyter.widget-view+json": {
       "model_id": "7deef8017cbc4543a64a58b2911f05bf",
       "version_major": 2,
       "version_minor": 0
      },
      "text/plain": [
       "Validation: |          | 0/? [00:00<?, ?it/s]"
      ]
     },
     "metadata": {},
     "output_type": "display_data"
    },
    {
     "data": {
      "application/vnd.jupyter.widget-view+json": {
       "model_id": "48aa00eccd7f4b6c82518c8656b439f2",
       "version_major": 2,
       "version_minor": 0
      },
      "text/plain": [
       "Validation: |          | 0/? [00:00<?, ?it/s]"
      ]
     },
     "metadata": {},
     "output_type": "display_data"
    },
    {
     "data": {
      "application/vnd.jupyter.widget-view+json": {
       "model_id": "802f20ab28d34e23b6a12a586145ee1f",
       "version_major": 2,
       "version_minor": 0
      },
      "text/plain": [
       "Validation: |          | 0/? [00:00<?, ?it/s]"
      ]
     },
     "metadata": {},
     "output_type": "display_data"
    },
    {
     "data": {
      "application/vnd.jupyter.widget-view+json": {
       "model_id": "24ad0301986e41a3be7d7dfd33497138",
       "version_major": 2,
       "version_minor": 0
      },
      "text/plain": [
       "Validation: |          | 0/? [00:00<?, ?it/s]"
      ]
     },
     "metadata": {},
     "output_type": "display_data"
    },
    {
     "data": {
      "application/vnd.jupyter.widget-view+json": {
       "model_id": "321ecc7afdcb4b358c4fac6e3cb546d2",
       "version_major": 2,
       "version_minor": 0
      },
      "text/plain": [
       "Validation: |          | 0/? [00:00<?, ?it/s]"
      ]
     },
     "metadata": {},
     "output_type": "display_data"
    },
    {
     "data": {
      "application/vnd.jupyter.widget-view+json": {
       "model_id": "88d54520feda431e9aa524075d2ccb12",
       "version_major": 2,
       "version_minor": 0
      },
      "text/plain": [
       "Validation: |          | 0/? [00:00<?, ?it/s]"
      ]
     },
     "metadata": {},
     "output_type": "display_data"
    },
    {
     "data": {
      "application/vnd.jupyter.widget-view+json": {
       "model_id": "bc5604a43ac74f579cc2be5d6bf8ba5e",
       "version_major": 2,
       "version_minor": 0
      },
      "text/plain": [
       "Validation: |          | 0/? [00:00<?, ?it/s]"
      ]
     },
     "metadata": {},
     "output_type": "display_data"
    },
    {
     "data": {
      "application/vnd.jupyter.widget-view+json": {
       "model_id": "78d81bdc17f24db598c29176f42f951e",
       "version_major": 2,
       "version_minor": 0
      },
      "text/plain": [
       "Validation: |          | 0/? [00:00<?, ?it/s]"
      ]
     },
     "metadata": {},
     "output_type": "display_data"
    },
    {
     "data": {
      "application/vnd.jupyter.widget-view+json": {
       "model_id": "269f3bb23fb44e2280cbb85bf7e8993b",
       "version_major": 2,
       "version_minor": 0
      },
      "text/plain": [
       "Validation: |          | 0/? [00:00<?, ?it/s]"
      ]
     },
     "metadata": {},
     "output_type": "display_data"
    },
    {
     "data": {
      "application/vnd.jupyter.widget-view+json": {
       "model_id": "3c05bc74185e438d9a24affa3e6a8ba7",
       "version_major": 2,
       "version_minor": 0
      },
      "text/plain": [
       "Validation: |          | 0/? [00:00<?, ?it/s]"
      ]
     },
     "metadata": {},
     "output_type": "display_data"
    },
    {
     "data": {
      "application/vnd.jupyter.widget-view+json": {
       "model_id": "97f8c824ae864753808101380bc08a9e",
       "version_major": 2,
       "version_minor": 0
      },
      "text/plain": [
       "Validation: |          | 0/? [00:00<?, ?it/s]"
      ]
     },
     "metadata": {},
     "output_type": "display_data"
    },
    {
     "data": {
      "application/vnd.jupyter.widget-view+json": {
       "model_id": "356644c7eb18452cb38ab7279d6b49cf",
       "version_major": 2,
       "version_minor": 0
      },
      "text/plain": [
       "Validation: |          | 0/? [00:00<?, ?it/s]"
      ]
     },
     "metadata": {},
     "output_type": "display_data"
    },
    {
     "data": {
      "application/vnd.jupyter.widget-view+json": {
       "model_id": "0ca3df2295194fd791d9edc68589a6b1",
       "version_major": 2,
       "version_minor": 0
      },
      "text/plain": [
       "Validation: |          | 0/? [00:00<?, ?it/s]"
      ]
     },
     "metadata": {},
     "output_type": "display_data"
    },
    {
     "data": {
      "application/vnd.jupyter.widget-view+json": {
       "model_id": "05956fdab3db4b60897deaff17db7f53",
       "version_major": 2,
       "version_minor": 0
      },
      "text/plain": [
       "Validation: |          | 0/? [00:00<?, ?it/s]"
      ]
     },
     "metadata": {},
     "output_type": "display_data"
    },
    {
     "data": {
      "application/vnd.jupyter.widget-view+json": {
       "model_id": "c35af3b9499d4ba0b5d9662bcc7f3b4e",
       "version_major": 2,
       "version_minor": 0
      },
      "text/plain": [
       "Validation: |          | 0/? [00:00<?, ?it/s]"
      ]
     },
     "metadata": {},
     "output_type": "display_data"
    },
    {
     "data": {
      "application/vnd.jupyter.widget-view+json": {
       "model_id": "c4343a6b2ca646c5bc026a0d684d343d",
       "version_major": 2,
       "version_minor": 0
      },
      "text/plain": [
       "Validation: |          | 0/? [00:00<?, ?it/s]"
      ]
     },
     "metadata": {},
     "output_type": "display_data"
    },
    {
     "data": {
      "application/vnd.jupyter.widget-view+json": {
       "model_id": "be0b1960dd8441f98d82c5c340e6b5db",
       "version_major": 2,
       "version_minor": 0
      },
      "text/plain": [
       "Validation: |          | 0/? [00:00<?, ?it/s]"
      ]
     },
     "metadata": {},
     "output_type": "display_data"
    },
    {
     "data": {
      "application/vnd.jupyter.widget-view+json": {
       "model_id": "01d431596dcf49a98124f02f1b9daa40",
       "version_major": 2,
       "version_minor": 0
      },
      "text/plain": [
       "Validation: |          | 0/? [00:00<?, ?it/s]"
      ]
     },
     "metadata": {},
     "output_type": "display_data"
    },
    {
     "data": {
      "application/vnd.jupyter.widget-view+json": {
       "model_id": "afa9f5d59ed642498afa7948e1f53e6e",
       "version_major": 2,
       "version_minor": 0
      },
      "text/plain": [
       "Validation: |          | 0/? [00:00<?, ?it/s]"
      ]
     },
     "metadata": {},
     "output_type": "display_data"
    },
    {
     "data": {
      "application/vnd.jupyter.widget-view+json": {
       "model_id": "5cd6fed82daa419997ebaca984d3b41a",
       "version_major": 2,
       "version_minor": 0
      },
      "text/plain": [
       "Validation: |          | 0/? [00:00<?, ?it/s]"
      ]
     },
     "metadata": {},
     "output_type": "display_data"
    },
    {
     "data": {
      "application/vnd.jupyter.widget-view+json": {
       "model_id": "d999ceef41854ef38fc2a1995c9950a6",
       "version_major": 2,
       "version_minor": 0
      },
      "text/plain": [
       "Validation: |          | 0/? [00:00<?, ?it/s]"
      ]
     },
     "metadata": {},
     "output_type": "display_data"
    },
    {
     "name": "stderr",
     "output_type": "stream",
     "text": [
      "Trainer already configured with model summary callbacks: [<class 'pytorch_lightning.callbacks.model_summary.ModelSummary'>]. Skipping setting a default `ModelSummary` callback.\n",
      "GPU available: True (cuda), used: True\n",
      "TPU available: False, using: 0 TPU cores\n",
      "HPU available: False, using: 0 HPUs\n",
      "LOCAL_RANK: 0 - CUDA_VISIBLE_DEVICES: [0]\n"
     ]
    },
    {
     "name": "stdout",
     "output_type": "stream",
     "text": [
      "train_loss: 0.17525\n",
      "valid_loss: 0.16029\n"
     ]
    },
    {
     "data": {
      "application/vnd.jupyter.widget-view+json": {
       "model_id": "1c0623bb34374dd0b0929b94e45ac3f3",
       "version_major": 2,
       "version_minor": 0
      },
      "text/plain": [
       "Predicting: |          | 0/? [00:00<?, ?it/s]"
      ]
     },
     "metadata": {},
     "output_type": "display_data"
    },
    {
     "name": "stderr",
     "output_type": "stream",
     "text": [
      "/home/kemove/git/neuralforecast/neuralforecast/core.py:210: FutureWarning: In a future version the predictions will have the id as a column. You can set the `NIXTLA_ID_AS_COL` environment variable to adopt the new behavior and to suppress this warning.\n",
      "  warnings.warn(\n"
     ]
    },
    {
     "name": "stdout",
     "output_type": "stream",
     "text": [
      "training MAE:\n"
     ]
    },
    {
     "data": {
      "text/html": [
       "<div>\n",
       "<style scoped>\n",
       "    .dataframe tbody tr th:only-of-type {\n",
       "        vertical-align: middle;\n",
       "    }\n",
       "\n",
       "    .dataframe tbody tr th {\n",
       "        vertical-align: top;\n",
       "    }\n",
       "\n",
       "    .dataframe thead th {\n",
       "        text-align: right;\n",
       "    }\n",
       "</style>\n",
       "<table border=\"1\" class=\"dataframe\">\n",
       "  <thead>\n",
       "    <tr style=\"text-align: right;\">\n",
       "      <th></th>\n",
       "      <th>NBEATSx-median</th>\n",
       "      <th>NBEATSx-lo-90</th>\n",
       "      <th>NBEATSx-lo-80</th>\n",
       "      <th>NBEATSx-hi-80</th>\n",
       "      <th>NBEATSx-hi-90</th>\n",
       "      <th>best_model</th>\n",
       "    </tr>\n",
       "    <tr>\n",
       "      <th>unique_id</th>\n",
       "      <th></th>\n",
       "      <th></th>\n",
       "      <th></th>\n",
       "      <th></th>\n",
       "      <th></th>\n",
       "      <th></th>\n",
       "    </tr>\n",
       "  </thead>\n",
       "  <tbody>\n",
       "    <tr>\n",
       "      <th>399673</th>\n",
       "      <td>1.384796</td>\n",
       "      <td>2.394228</td>\n",
       "      <td>2.000187</td>\n",
       "      <td>2.166569</td>\n",
       "      <td>2.592654</td>\n",
       "      <td>NBEATSx-median</td>\n",
       "    </tr>\n",
       "  </tbody>\n",
       "</table>\n",
       "</div>"
      ],
      "text/plain": [
       "           NBEATSx-median  NBEATSx-lo-90  NBEATSx-lo-80  NBEATSx-hi-80  \\\n",
       "unique_id                                                                \n",
       "399673           1.384796       2.394228       2.000187       2.166569   \n",
       "\n",
       "           NBEATSx-hi-90      best_model  \n",
       "unique_id                                 \n",
       "399673          2.592654  NBEATSx-median  "
      ]
     },
     "metadata": {},
     "output_type": "display_data"
    },
    {
     "name": "stdout",
     "output_type": "stream",
     "text": [
      "validation MAE:\n"
     ]
    },
    {
     "data": {
      "text/html": [
       "<div>\n",
       "<style scoped>\n",
       "    .dataframe tbody tr th:only-of-type {\n",
       "        vertical-align: middle;\n",
       "    }\n",
       "\n",
       "    .dataframe tbody tr th {\n",
       "        vertical-align: top;\n",
       "    }\n",
       "\n",
       "    .dataframe thead th {\n",
       "        text-align: right;\n",
       "    }\n",
       "</style>\n",
       "<table border=\"1\" class=\"dataframe\">\n",
       "  <thead>\n",
       "    <tr style=\"text-align: right;\">\n",
       "      <th></th>\n",
       "      <th>NBEATSx-median</th>\n",
       "      <th>NBEATSx-lo-90</th>\n",
       "      <th>NBEATSx-lo-80</th>\n",
       "      <th>NBEATSx-hi-80</th>\n",
       "      <th>NBEATSx-hi-90</th>\n",
       "      <th>best_model</th>\n",
       "    </tr>\n",
       "    <tr>\n",
       "      <th>unique_id</th>\n",
       "      <th></th>\n",
       "      <th></th>\n",
       "      <th></th>\n",
       "      <th></th>\n",
       "      <th></th>\n",
       "      <th></th>\n",
       "    </tr>\n",
       "  </thead>\n",
       "  <tbody>\n",
       "    <tr>\n",
       "      <th>399673</th>\n",
       "      <td>0.924255</td>\n",
       "      <td>1.424138</td>\n",
       "      <td>1.183582</td>\n",
       "      <td>1.892654</td>\n",
       "      <td>2.293179</td>\n",
       "      <td>NBEATSx-median</td>\n",
       "    </tr>\n",
       "  </tbody>\n",
       "</table>\n",
       "</div>"
      ],
      "text/plain": [
       "           NBEATSx-median  NBEATSx-lo-90  NBEATSx-lo-80  NBEATSx-hi-80  \\\n",
       "unique_id                                                                \n",
       "399673           0.924255       1.424138       1.183582       1.892654   \n",
       "\n",
       "           NBEATSx-hi-90      best_model  \n",
       "unique_id                                 \n",
       "399673          2.293179  NBEATSx-median  "
      ]
     },
     "metadata": {},
     "output_type": "display_data"
    }
   ],
   "source": [
    "train_and_evaluate(model, df_train)"
   ]
  },
  {
   "cell_type": "markdown",
   "metadata": {},
   "source": [
    "## NHITS (1.0)"
   ]
  },
  {
   "cell_type": "code",
   "execution_count": 107,
   "metadata": {},
   "outputs": [
    {
     "name": "stderr",
     "output_type": "stream",
     "text": [
      "Seed set to 1\n"
     ]
    }
   ],
   "source": [
    "from neuralforecast.models import NHITS\n",
    "\n",
    "model = NHITS(\n",
    "    h=20,\n",
    "    input_size=48,\n",
    "    loss=DistributionLoss(distribution=\"StudentT\", level=[80, 90], return_params=True),\n",
    "    n_freq_downsample=[2, 1, 1],\n",
    "    # scaler_type='robust',\n",
    "    max_steps=500,\n",
    "    early_stop_patience_steps=10,\n",
    "    inference_windows_batch_size=1,\n",
    "    val_check_steps=5,\n",
    "    learning_rate=1e-3,\n",
    "    # futr_exog_list=exog,\n",
    "    hist_exog_list=exog,\n",
    ")"
   ]
  },
  {
   "cell_type": "code",
   "execution_count": 108,
   "metadata": {},
   "outputs": [
    {
     "name": "stderr",
     "output_type": "stream",
     "text": [
      "GPU available: True (cuda), used: True\n",
      "TPU available: False, using: 0 TPU cores\n",
      "HPU available: False, using: 0 HPUs\n",
      "LOCAL_RANK: 0 - CUDA_VISIBLE_DEVICES: [0]\n",
      "\n",
      "  | Name         | Type             | Params | Mode \n",
      "----------------------------------------------------------\n",
      "0 | loss         | DistributionLoss | 5      | train\n",
      "1 | padder_train | ConstantPad1d    | 0      | train\n",
      "2 | scaler       | TemporalNorm     | 0      | train\n",
      "3 | blocks       | ModuleList       | 3.1 M  | train\n",
      "----------------------------------------------------------\n",
      "3.1 M     Trainable params\n",
      "5         Non-trainable params\n",
      "3.1 M     Total params\n",
      "12.424    Total estimated model params size (MB)\n",
      "34        Modules in train mode\n",
      "0         Modules in eval mode\n"
     ]
    },
    {
     "data": {
      "application/vnd.jupyter.widget-view+json": {
       "model_id": "1f165889ce3e46c786e4cc66fcc173c1",
       "version_major": 2,
       "version_minor": 0
      },
      "text/plain": [
       "Sanity Checking: |          | 0/? [00:00<?, ?it/s]"
      ]
     },
     "metadata": {},
     "output_type": "display_data"
    },
    {
     "data": {
      "application/vnd.jupyter.widget-view+json": {
       "model_id": "44d41936f49e460d8db408bc59321b19",
       "version_major": 2,
       "version_minor": 0
      },
      "text/plain": [
       "Training: |          | 0/? [00:00<?, ?it/s]"
      ]
     },
     "metadata": {},
     "output_type": "display_data"
    },
    {
     "data": {
      "application/vnd.jupyter.widget-view+json": {
       "model_id": "afe12c57d1354dc59d9af9de76912002",
       "version_major": 2,
       "version_minor": 0
      },
      "text/plain": [
       "Validation: |          | 0/? [00:00<?, ?it/s]"
      ]
     },
     "metadata": {},
     "output_type": "display_data"
    },
    {
     "data": {
      "application/vnd.jupyter.widget-view+json": {
       "model_id": "7c614af22d644aabbac92299bfcb3165",
       "version_major": 2,
       "version_minor": 0
      },
      "text/plain": [
       "Validation: |          | 0/? [00:00<?, ?it/s]"
      ]
     },
     "metadata": {},
     "output_type": "display_data"
    },
    {
     "data": {
      "application/vnd.jupyter.widget-view+json": {
       "model_id": "86c1330d7a2245aba3457d26eb64eb8e",
       "version_major": 2,
       "version_minor": 0
      },
      "text/plain": [
       "Validation: |          | 0/? [00:00<?, ?it/s]"
      ]
     },
     "metadata": {},
     "output_type": "display_data"
    },
    {
     "data": {
      "application/vnd.jupyter.widget-view+json": {
       "model_id": "4c1464e366c54601a5aea1d64c6cc963",
       "version_major": 2,
       "version_minor": 0
      },
      "text/plain": [
       "Validation: |          | 0/? [00:00<?, ?it/s]"
      ]
     },
     "metadata": {},
     "output_type": "display_data"
    },
    {
     "data": {
      "application/vnd.jupyter.widget-view+json": {
       "model_id": "2985e15fc1b84f91976fa0f4af8ee9ed",
       "version_major": 2,
       "version_minor": 0
      },
      "text/plain": [
       "Validation: |          | 0/? [00:00<?, ?it/s]"
      ]
     },
     "metadata": {},
     "output_type": "display_data"
    },
    {
     "data": {
      "application/vnd.jupyter.widget-view+json": {
       "model_id": "c220b4a9fe4145f2b5d30536cffa6844",
       "version_major": 2,
       "version_minor": 0
      },
      "text/plain": [
       "Validation: |          | 0/? [00:00<?, ?it/s]"
      ]
     },
     "metadata": {},
     "output_type": "display_data"
    },
    {
     "data": {
      "application/vnd.jupyter.widget-view+json": {
       "model_id": "9ad7554c3f374d98b7db1f482d460744",
       "version_major": 2,
       "version_minor": 0
      },
      "text/plain": [
       "Validation: |          | 0/? [00:00<?, ?it/s]"
      ]
     },
     "metadata": {},
     "output_type": "display_data"
    },
    {
     "data": {
      "application/vnd.jupyter.widget-view+json": {
       "model_id": "3b31e54b58c749118773e42832559dcf",
       "version_major": 2,
       "version_minor": 0
      },
      "text/plain": [
       "Validation: |          | 0/? [00:00<?, ?it/s]"
      ]
     },
     "metadata": {},
     "output_type": "display_data"
    },
    {
     "data": {
      "application/vnd.jupyter.widget-view+json": {
       "model_id": "00bcdecfaee94487ac0de752de6d6aff",
       "version_major": 2,
       "version_minor": 0
      },
      "text/plain": [
       "Validation: |          | 0/? [00:00<?, ?it/s]"
      ]
     },
     "metadata": {},
     "output_type": "display_data"
    },
    {
     "data": {
      "application/vnd.jupyter.widget-view+json": {
       "model_id": "cc4cecb40aeb4b5dbcc07ed7b24b262a",
       "version_major": 2,
       "version_minor": 0
      },
      "text/plain": [
       "Validation: |          | 0/? [00:00<?, ?it/s]"
      ]
     },
     "metadata": {},
     "output_type": "display_data"
    },
    {
     "data": {
      "application/vnd.jupyter.widget-view+json": {
       "model_id": "9bb465b07eea40b584e3ce7aa2e6afc1",
       "version_major": 2,
       "version_minor": 0
      },
      "text/plain": [
       "Validation: |          | 0/? [00:00<?, ?it/s]"
      ]
     },
     "metadata": {},
     "output_type": "display_data"
    },
    {
     "data": {
      "application/vnd.jupyter.widget-view+json": {
       "model_id": "873d611167bc4df28261967e4039aa26",
       "version_major": 2,
       "version_minor": 0
      },
      "text/plain": [
       "Validation: |          | 0/? [00:00<?, ?it/s]"
      ]
     },
     "metadata": {},
     "output_type": "display_data"
    },
    {
     "data": {
      "application/vnd.jupyter.widget-view+json": {
       "model_id": "3e34e2d7e8564d9484b64063d83b2bf2",
       "version_major": 2,
       "version_minor": 0
      },
      "text/plain": [
       "Validation: |          | 0/? [00:00<?, ?it/s]"
      ]
     },
     "metadata": {},
     "output_type": "display_data"
    },
    {
     "data": {
      "application/vnd.jupyter.widget-view+json": {
       "model_id": "222f35576aaf45aa919c7ca358f34934",
       "version_major": 2,
       "version_minor": 0
      },
      "text/plain": [
       "Validation: |          | 0/? [00:00<?, ?it/s]"
      ]
     },
     "metadata": {},
     "output_type": "display_data"
    },
    {
     "data": {
      "application/vnd.jupyter.widget-view+json": {
       "model_id": "12d09f7fbf5a4ac38c6e9f1870561ee4",
       "version_major": 2,
       "version_minor": 0
      },
      "text/plain": [
       "Validation: |          | 0/? [00:00<?, ?it/s]"
      ]
     },
     "metadata": {},
     "output_type": "display_data"
    },
    {
     "data": {
      "application/vnd.jupyter.widget-view+json": {
       "model_id": "72001be74dae4edfa57415eb6bf8e2a0",
       "version_major": 2,
       "version_minor": 0
      },
      "text/plain": [
       "Validation: |          | 0/? [00:00<?, ?it/s]"
      ]
     },
     "metadata": {},
     "output_type": "display_data"
    },
    {
     "data": {
      "application/vnd.jupyter.widget-view+json": {
       "model_id": "10cf23613986435d808c9f707e2d8bad",
       "version_major": 2,
       "version_minor": 0
      },
      "text/plain": [
       "Validation: |          | 0/? [00:00<?, ?it/s]"
      ]
     },
     "metadata": {},
     "output_type": "display_data"
    },
    {
     "data": {
      "application/vnd.jupyter.widget-view+json": {
       "model_id": "c1d1a3d417834217aa96090134ef3262",
       "version_major": 2,
       "version_minor": 0
      },
      "text/plain": [
       "Validation: |          | 0/? [00:00<?, ?it/s]"
      ]
     },
     "metadata": {},
     "output_type": "display_data"
    },
    {
     "data": {
      "application/vnd.jupyter.widget-view+json": {
       "model_id": "b7e3d87692e644109334ffad70425703",
       "version_major": 2,
       "version_minor": 0
      },
      "text/plain": [
       "Validation: |          | 0/? [00:00<?, ?it/s]"
      ]
     },
     "metadata": {},
     "output_type": "display_data"
    },
    {
     "data": {
      "application/vnd.jupyter.widget-view+json": {
       "model_id": "ba7a328871bb446890e03b1037516117",
       "version_major": 2,
       "version_minor": 0
      },
      "text/plain": [
       "Validation: |          | 0/? [00:00<?, ?it/s]"
      ]
     },
     "metadata": {},
     "output_type": "display_data"
    },
    {
     "name": "stderr",
     "output_type": "stream",
     "text": [
      "Trainer already configured with model summary callbacks: [<class 'pytorch_lightning.callbacks.model_summary.ModelSummary'>]. Skipping setting a default `ModelSummary` callback.\n",
      "GPU available: True (cuda), used: True\n",
      "TPU available: False, using: 0 TPU cores\n",
      "HPU available: False, using: 0 HPUs\n",
      "LOCAL_RANK: 0 - CUDA_VISIBLE_DEVICES: [0]\n"
     ]
    },
    {
     "name": "stdout",
     "output_type": "stream",
     "text": [
      "train_loss: 0.90587\n",
      "valid_loss: 1.20391\n"
     ]
    },
    {
     "data": {
      "application/vnd.jupyter.widget-view+json": {
       "model_id": "df9110e087f44f25bbeb0b8208f46826",
       "version_major": 2,
       "version_minor": 0
      },
      "text/plain": [
       "Predicting: |          | 0/? [00:00<?, ?it/s]"
      ]
     },
     "metadata": {},
     "output_type": "display_data"
    },
    {
     "name": "stderr",
     "output_type": "stream",
     "text": [
      "/home/kemove/git/neuralforecast/neuralforecast/core.py:210: FutureWarning: In a future version the predictions will have the id as a column. You can set the `NIXTLA_ID_AS_COL` environment variable to adopt the new behavior and to suppress this warning.\n",
      "  warnings.warn(\n"
     ]
    },
    {
     "name": "stdout",
     "output_type": "stream",
     "text": [
      "training MAE:\n"
     ]
    },
    {
     "data": {
      "text/html": [
       "<div>\n",
       "<style scoped>\n",
       "    .dataframe tbody tr th:only-of-type {\n",
       "        vertical-align: middle;\n",
       "    }\n",
       "\n",
       "    .dataframe tbody tr th {\n",
       "        vertical-align: top;\n",
       "    }\n",
       "\n",
       "    .dataframe thead th {\n",
       "        text-align: right;\n",
       "    }\n",
       "</style>\n",
       "<table border=\"1\" class=\"dataframe\">\n",
       "  <thead>\n",
       "    <tr style=\"text-align: right;\">\n",
       "      <th></th>\n",
       "      <th>NHITS</th>\n",
       "      <th>NHITS-median</th>\n",
       "      <th>NHITS-lo-90</th>\n",
       "      <th>NHITS-lo-80</th>\n",
       "      <th>NHITS-hi-80</th>\n",
       "      <th>NHITS-hi-90</th>\n",
       "      <th>NHITS-df</th>\n",
       "      <th>NHITS-loc</th>\n",
       "      <th>NHITS-scale</th>\n",
       "      <th>best_model</th>\n",
       "    </tr>\n",
       "    <tr>\n",
       "      <th>unique_id</th>\n",
       "      <th></th>\n",
       "      <th></th>\n",
       "      <th></th>\n",
       "      <th></th>\n",
       "      <th></th>\n",
       "      <th></th>\n",
       "      <th></th>\n",
       "      <th></th>\n",
       "      <th></th>\n",
       "      <th></th>\n",
       "    </tr>\n",
       "  </thead>\n",
       "  <tbody>\n",
       "    <tr>\n",
       "      <th>399673</th>\n",
       "      <td>1.170674</td>\n",
       "      <td>1.170253</td>\n",
       "      <td>2.326868</td>\n",
       "      <td>1.822708</td>\n",
       "      <td>2.245171</td>\n",
       "      <td>2.776943</td>\n",
       "      <td>19.097923</td>\n",
       "      <td>1.169864</td>\n",
       "      <td>1.852438</td>\n",
       "      <td>NHITS-loc</td>\n",
       "    </tr>\n",
       "  </tbody>\n",
       "</table>\n",
       "</div>"
      ],
      "text/plain": [
       "              NHITS  NHITS-median  NHITS-lo-90  NHITS-lo-80  NHITS-hi-80  \\\n",
       "unique_id                                                                  \n",
       "399673     1.170674      1.170253     2.326868     1.822708     2.245171   \n",
       "\n",
       "           NHITS-hi-90   NHITS-df  NHITS-loc  NHITS-scale best_model  \n",
       "unique_id                                                             \n",
       "399673        2.776943  19.097923   1.169864     1.852438  NHITS-loc  "
      ]
     },
     "metadata": {},
     "output_type": "display_data"
    },
    {
     "name": "stdout",
     "output_type": "stream",
     "text": [
      "validation MAE:\n"
     ]
    },
    {
     "data": {
      "text/html": [
       "<div>\n",
       "<style scoped>\n",
       "    .dataframe tbody tr th:only-of-type {\n",
       "        vertical-align: middle;\n",
       "    }\n",
       "\n",
       "    .dataframe tbody tr th {\n",
       "        vertical-align: top;\n",
       "    }\n",
       "\n",
       "    .dataframe thead th {\n",
       "        text-align: right;\n",
       "    }\n",
       "</style>\n",
       "<table border=\"1\" class=\"dataframe\">\n",
       "  <thead>\n",
       "    <tr style=\"text-align: right;\">\n",
       "      <th></th>\n",
       "      <th>NHITS</th>\n",
       "      <th>NHITS-median</th>\n",
       "      <th>NHITS-lo-90</th>\n",
       "      <th>NHITS-lo-80</th>\n",
       "      <th>NHITS-hi-80</th>\n",
       "      <th>NHITS-hi-90</th>\n",
       "      <th>NHITS-df</th>\n",
       "      <th>NHITS-loc</th>\n",
       "      <th>NHITS-scale</th>\n",
       "      <th>best_model</th>\n",
       "    </tr>\n",
       "    <tr>\n",
       "      <th>unique_id</th>\n",
       "      <th></th>\n",
       "      <th></th>\n",
       "      <th></th>\n",
       "      <th></th>\n",
       "      <th></th>\n",
       "      <th></th>\n",
       "      <th></th>\n",
       "      <th></th>\n",
       "      <th></th>\n",
       "      <th></th>\n",
       "    </tr>\n",
       "  </thead>\n",
       "  <tbody>\n",
       "    <tr>\n",
       "      <th>399673</th>\n",
       "      <td>1.001976</td>\n",
       "      <td>1.003341</td>\n",
       "      <td>1.401567</td>\n",
       "      <td>1.214474</td>\n",
       "      <td>1.349364</td>\n",
       "      <td>1.528447</td>\n",
       "      <td>15.376333</td>\n",
       "      <td>1.002531</td>\n",
       "      <td>1.104758</td>\n",
       "      <td>NHITS</td>\n",
       "    </tr>\n",
       "  </tbody>\n",
       "</table>\n",
       "</div>"
      ],
      "text/plain": [
       "              NHITS  NHITS-median  NHITS-lo-90  NHITS-lo-80  NHITS-hi-80  \\\n",
       "unique_id                                                                  \n",
       "399673     1.001976      1.003341     1.401567     1.214474     1.349364   \n",
       "\n",
       "           NHITS-hi-90   NHITS-df  NHITS-loc  NHITS-scale best_model  \n",
       "unique_id                                                             \n",
       "399673        1.528447  15.376333   1.002531     1.104758      NHITS  "
      ]
     },
     "metadata": {},
     "output_type": "display_data"
    }
   ],
   "source": [
    "train_and_evaluate(model, df_train)"
   ]
  },
  {
   "cell_type": "markdown",
   "metadata": {},
   "source": [
    "## RNN (0.82)"
   ]
  },
  {
   "cell_type": "code",
   "execution_count": 109,
   "metadata": {},
   "outputs": [
    {
     "name": "stderr",
     "output_type": "stream",
     "text": [
      "Seed set to 1\n"
     ]
    }
   ],
   "source": [
    "from neuralforecast.models import RNN\n",
    "from neuralforecast.losses.pytorch import MQLoss\n",
    "\n",
    "model = RNN(\n",
    "    h=20,\n",
    "    input_size=-1,\n",
    "    inference_input_size=48,\n",
    "    loss=MQLoss(level=[80, 90]),\n",
    "    # scaler_type=\"robust\",\n",
    "    encoder_n_layers=2,\n",
    "    encoder_hidden_size=128,\n",
    "    context_size=10,\n",
    "    decoder_hidden_size=128,\n",
    "    decoder_layers=2,\n",
    "    max_steps=500,\n",
    "    # futr_exog_list=exog,\n",
    "    hist_exog_list=exog,\n",
    ")"
   ]
  },
  {
   "cell_type": "code",
   "execution_count": 110,
   "metadata": {},
   "outputs": [
    {
     "name": "stderr",
     "output_type": "stream",
     "text": [
      "GPU available: True (cuda), used: True\n"
     ]
    },
    {
     "name": "stderr",
     "output_type": "stream",
     "text": [
      "TPU available: False, using: 0 TPU cores\n",
      "HPU available: False, using: 0 HPUs\n",
      "LOCAL_RANK: 0 - CUDA_VISIBLE_DEVICES: [0]\n",
      "\n",
      "  | Name            | Type          | Params | Mode \n",
      "----------------------------------------------------------\n",
      "0 | loss            | MQLoss        | 5      | train\n",
      "1 | padder          | ConstantPad1d | 0      | train\n",
      "2 | scaler          | TemporalNorm  | 0      | train\n",
      "3 | hist_encoder    | RNN           | 51.2 K | train\n",
      "4 | context_adapter | Linear        | 25.8 K | train\n",
      "5 | mlp_decoder     | MLP           | 2.1 K  | train\n",
      "----------------------------------------------------------\n",
      "79.1 K    Trainable params\n",
      "5         Non-trainable params\n",
      "79.1 K    Total params\n",
      "0.316     Total estimated model params size (MB)\n",
      "11        Modules in train mode\n",
      "0         Modules in eval mode\n"
     ]
    },
    {
     "data": {
      "application/vnd.jupyter.widget-view+json": {
       "model_id": "ec43fb6da50249c183e0cc87b6919ee5",
       "version_major": 2,
       "version_minor": 0
      },
      "text/plain": [
       "Sanity Checking: |          | 0/? [00:00<?, ?it/s]"
      ]
     },
     "metadata": {},
     "output_type": "display_data"
    },
    {
     "data": {
      "application/vnd.jupyter.widget-view+json": {
       "model_id": "548da847d20d4598ad0a1d07a6003266",
       "version_major": 2,
       "version_minor": 0
      },
      "text/plain": [
       "Training: |          | 0/? [00:00<?, ?it/s]"
      ]
     },
     "metadata": {},
     "output_type": "display_data"
    },
    {
     "data": {
      "application/vnd.jupyter.widget-view+json": {
       "model_id": "49f9174ed4264c15b1440e3a601aac5f",
       "version_major": 2,
       "version_minor": 0
      },
      "text/plain": [
       "Validation: |          | 0/? [00:00<?, ?it/s]"
      ]
     },
     "metadata": {},
     "output_type": "display_data"
    },
    {
     "data": {
      "application/vnd.jupyter.widget-view+json": {
       "model_id": "51aa9fba6d0a4a3d857180304a2fcb11",
       "version_major": 2,
       "version_minor": 0
      },
      "text/plain": [
       "Validation: |          | 0/? [00:00<?, ?it/s]"
      ]
     },
     "metadata": {},
     "output_type": "display_data"
    },
    {
     "data": {
      "application/vnd.jupyter.widget-view+json": {
       "model_id": "302216eb75404111a64f6eb369fe3c54",
       "version_major": 2,
       "version_minor": 0
      },
      "text/plain": [
       "Validation: |          | 0/? [00:00<?, ?it/s]"
      ]
     },
     "metadata": {},
     "output_type": "display_data"
    },
    {
     "name": "stderr",
     "output_type": "stream",
     "text": [
      "IOPub message rate exceeded.\n",
      "The Jupyter server will temporarily stop sending output\n",
      "to the client in order to avoid crashing it.\n",
      "To change this limit, set the config variable\n",
      "`--ServerApp.iopub_msg_rate_limit`.\n",
      "\n",
      "Current values:\n",
      "ServerApp.iopub_msg_rate_limit=1000.0 (msgs/sec)\n",
      "ServerApp.rate_limit_window=3.0 (secs)\n",
      "\n"
     ]
    },
    {
     "data": {
      "application/vnd.jupyter.widget-view+json": {
       "model_id": "f4afbc0c62fd4092847827bad42e4735",
       "version_major": 2,
       "version_minor": 0
      },
      "text/plain": [
       "Validation: |          | 0/? [00:00<?, ?it/s]"
      ]
     },
     "metadata": {},
     "output_type": "display_data"
    },
    {
     "name": "stderr",
     "output_type": "stream",
     "text": [
      "`Trainer.fit` stopped: `max_steps=500` reached.\n",
      "/home/kemove/git/neuralforecast/neuralforecast/core.py:1255: UserWarning: Predict insample might not provide accurate predictions for                        recurrent model RNN class yet due to scaling.\n",
      "  warnings.warn(\n",
      "GPU available: True (cuda), used: True\n",
      "TPU available: False, using: 0 TPU cores\n",
      "HPU available: False, using: 0 HPUs\n",
      "LOCAL_RANK: 0 - CUDA_VISIBLE_DEVICES: [0]\n"
     ]
    },
    {
     "name": "stdout",
     "output_type": "stream",
     "text": [
      "train_loss: 0.34399\n",
      "valid_loss: 0.14054\n",
      "WARNING: Predict insample might not provide accurate predictions for                       recurrent model RNN class yet due to scaling.\n"
     ]
    },
    {
     "data": {
      "application/vnd.jupyter.widget-view+json": {
       "model_id": "5be457a79cc643069de6550addad4c94",
       "version_major": 2,
       "version_minor": 0
      },
      "text/plain": [
       "Predicting: |          | 0/? [00:00<?, ?it/s]"
      ]
     },
     "metadata": {},
     "output_type": "display_data"
    },
    {
     "name": "stderr",
     "output_type": "stream",
     "text": [
      "/home/kemove/git/neuralforecast/neuralforecast/core.py:210: FutureWarning: In a future version the predictions will have the id as a column. You can set the `NIXTLA_ID_AS_COL` environment variable to adopt the new behavior and to suppress this warning.\n",
      "  warnings.warn(\n"
     ]
    },
    {
     "name": "stdout",
     "output_type": "stream",
     "text": [
      "training MAE:\n"
     ]
    },
    {
     "data": {
      "text/html": [
       "<div>\n",
       "<style scoped>\n",
       "    .dataframe tbody tr th:only-of-type {\n",
       "        vertical-align: middle;\n",
       "    }\n",
       "\n",
       "    .dataframe tbody tr th {\n",
       "        vertical-align: top;\n",
       "    }\n",
       "\n",
       "    .dataframe thead th {\n",
       "        text-align: right;\n",
       "    }\n",
       "</style>\n",
       "<table border=\"1\" class=\"dataframe\">\n",
       "  <thead>\n",
       "    <tr style=\"text-align: right;\">\n",
       "      <th></th>\n",
       "      <th>RNN-median</th>\n",
       "      <th>RNN-lo-90</th>\n",
       "      <th>RNN-lo-80</th>\n",
       "      <th>RNN-hi-80</th>\n",
       "      <th>RNN-hi-90</th>\n",
       "      <th>best_model</th>\n",
       "    </tr>\n",
       "    <tr>\n",
       "      <th>unique_id</th>\n",
       "      <th></th>\n",
       "      <th></th>\n",
       "      <th></th>\n",
       "      <th></th>\n",
       "      <th></th>\n",
       "      <th></th>\n",
       "    </tr>\n",
       "  </thead>\n",
       "  <tbody>\n",
       "    <tr>\n",
       "      <th>399673</th>\n",
       "      <td>1.467247</td>\n",
       "      <td>5.48345</td>\n",
       "      <td>3.927219</td>\n",
       "      <td>4.160518</td>\n",
       "      <td>5.644303</td>\n",
       "      <td>RNN-median</td>\n",
       "    </tr>\n",
       "  </tbody>\n",
       "</table>\n",
       "</div>"
      ],
      "text/plain": [
       "           RNN-median  RNN-lo-90  RNN-lo-80  RNN-hi-80  RNN-hi-90  best_model\n",
       "unique_id                                                                    \n",
       "399673       1.467247    5.48345   3.927219   4.160518   5.644303  RNN-median"
      ]
     },
     "metadata": {},
     "output_type": "display_data"
    },
    {
     "name": "stdout",
     "output_type": "stream",
     "text": [
      "validation MAE:\n"
     ]
    },
    {
     "data": {
      "text/html": [
       "<div>\n",
       "<style scoped>\n",
       "    .dataframe tbody tr th:only-of-type {\n",
       "        vertical-align: middle;\n",
       "    }\n",
       "\n",
       "    .dataframe tbody tr th {\n",
       "        vertical-align: top;\n",
       "    }\n",
       "\n",
       "    .dataframe thead th {\n",
       "        text-align: right;\n",
       "    }\n",
       "</style>\n",
       "<table border=\"1\" class=\"dataframe\">\n",
       "  <thead>\n",
       "    <tr style=\"text-align: right;\">\n",
       "      <th></th>\n",
       "      <th>RNN-median</th>\n",
       "      <th>RNN-lo-90</th>\n",
       "      <th>RNN-lo-80</th>\n",
       "      <th>RNN-hi-80</th>\n",
       "      <th>RNN-hi-90</th>\n",
       "      <th>best_model</th>\n",
       "    </tr>\n",
       "    <tr>\n",
       "      <th>unique_id</th>\n",
       "      <th></th>\n",
       "      <th></th>\n",
       "      <th></th>\n",
       "      <th></th>\n",
       "      <th></th>\n",
       "      <th></th>\n",
       "    </tr>\n",
       "  </thead>\n",
       "  <tbody>\n",
       "    <tr>\n",
       "      <th>399673</th>\n",
       "      <td>0.824355</td>\n",
       "      <td>4.971537</td>\n",
       "      <td>3.470608</td>\n",
       "      <td>3.981521</td>\n",
       "      <td>5.482303</td>\n",
       "      <td>RNN-median</td>\n",
       "    </tr>\n",
       "  </tbody>\n",
       "</table>\n",
       "</div>"
      ],
      "text/plain": [
       "           RNN-median  RNN-lo-90  RNN-lo-80  RNN-hi-80  RNN-hi-90  best_model\n",
       "unique_id                                                                    \n",
       "399673       0.824355   4.971537   3.470608   3.981521   5.482303  RNN-median"
      ]
     },
     "metadata": {},
     "output_type": "display_data"
    }
   ],
   "source": [
    "train_and_evaluate(model, df_train)"
   ]
  },
  {
   "cell_type": "markdown",
   "metadata": {},
   "source": [
    "## TCN (0.83)"
   ]
  },
  {
   "cell_type": "code",
   "execution_count": 111,
   "metadata": {},
   "outputs": [
    {
     "name": "stderr",
     "output_type": "stream",
     "text": [
      "Seed set to 1\n"
     ]
    }
   ],
   "source": [
    "from neuralforecast.models import TCN\n",
    "from neuralforecast.losses.pytorch import GMM\n",
    "\n",
    "model = TCN(\n",
    "    h=20,\n",
    "    input_size=-1,\n",
    "    inference_input_size=24,\n",
    "    loss=GMM(n_components=7, return_params=True, level=[80, 90]),\n",
    "    learning_rate=5e-4,\n",
    "    kernel_size=2,\n",
    "    dilations=[1, 2, 4, 8, 16],\n",
    "    encoder_hidden_size=128,\n",
    "    context_size=10,\n",
    "    decoder_hidden_size=128,\n",
    "    decoder_layers=2,\n",
    "    max_steps=500,\n",
    "    # futr_exog_list=exog,\n",
    "    hist_exog_list=exog,\n",
    ")"
   ]
  },
  {
   "cell_type": "code",
   "execution_count": 112,
   "metadata": {},
   "outputs": [
    {
     "name": "stderr",
     "output_type": "stream",
     "text": [
      "GPU available: True (cuda), used: True\n",
      "TPU available: False, using: 0 TPU cores\n",
      "HPU available: False, using: 0 HPUs\n",
      "LOCAL_RANK: 0 - CUDA_VISIBLE_DEVICES: [0]\n",
      "\n",
      "  | Name            | Type                       | Params | Mode \n",
      "-----------------------------------------------------------------------\n",
      "0 | loss            | GMM                        | 5      | train\n",
      "1 | padder          | ConstantPad1d              | 0      | train\n",
      "2 | scaler          | TemporalNorm               | 0      | train\n",
      "3 | hist_encoder    | TemporalConvolutionEncoder | 134 K  | train\n",
      "4 | context_adapter | Linear                     | 25.8 K | train\n",
      "5 | mlp_decoder     | MLP                        | 3.2 K  | train\n",
      "-----------------------------------------------------------------------\n",
      "163 K     Trainable params\n",
      "5         Non-trainable params\n",
      "163 K     Total params\n",
      "0.655     Total estimated model params size (MB)\n",
      "37        Modules in train mode\n",
      "0         Modules in eval mode\n"
     ]
    },
    {
     "data": {
      "application/vnd.jupyter.widget-view+json": {
       "model_id": "aa33bbd63438425e90efa61eb27720ee",
       "version_major": 2,
       "version_minor": 0
      },
      "text/plain": [
       "Sanity Checking: |          | 0/? [00:00<?, ?it/s]"
      ]
     },
     "metadata": {},
     "output_type": "display_data"
    },
    {
     "data": {
      "application/vnd.jupyter.widget-view+json": {
       "model_id": "924d4071dc0c4d658ba8e965534f9dea",
       "version_major": 2,
       "version_minor": 0
      },
      "text/plain": [
       "Training: |          | 0/? [00:00<?, ?it/s]"
      ]
     },
     "metadata": {},
     "output_type": "display_data"
    },
    {
     "data": {
      "application/vnd.jupyter.widget-view+json": {
       "model_id": "b1c242a533db4dd98d52c47dc3141fbe",
       "version_major": 2,
       "version_minor": 0
      },
      "text/plain": [
       "Validation: |          | 0/? [00:00<?, ?it/s]"
      ]
     },
     "metadata": {},
     "output_type": "display_data"
    },
    {
     "data": {
      "application/vnd.jupyter.widget-view+json": {
       "model_id": "67d84c187889400bbe1d02e7025f0c0a",
       "version_major": 2,
       "version_minor": 0
      },
      "text/plain": [
       "Validation: |          | 0/? [00:00<?, ?it/s]"
      ]
     },
     "metadata": {},
     "output_type": "display_data"
    },
    {
     "data": {
      "application/vnd.jupyter.widget-view+json": {
       "model_id": "c5a0aa20160a47f9a72b3894ba1e5344",
       "version_major": 2,
       "version_minor": 0
      },
      "text/plain": [
       "Validation: |          | 0/? [00:00<?, ?it/s]"
      ]
     },
     "metadata": {},
     "output_type": "display_data"
    },
    {
     "name": "stderr",
     "output_type": "stream",
     "text": [
      "IOPub message rate exceeded.\n",
      "The Jupyter server will temporarily stop sending output\n",
      "to the client in order to avoid crashing it.\n",
      "To change this limit, set the config variable\n",
      "`--ServerApp.iopub_msg_rate_limit`.\n",
      "\n",
      "Current values:\n",
      "ServerApp.iopub_msg_rate_limit=1000.0 (msgs/sec)\n",
      "ServerApp.rate_limit_window=3.0 (secs)\n",
      "\n",
      "/home/kemove/git/neuralforecast/neuralforecast/core.py:210: FutureWarning: In a future version the predictions will have the id as a column. You can set the `NIXTLA_ID_AS_COL` environment variable to adopt the new behavior and to suppress this warning.\n",
      "  warnings.warn(\n"
     ]
    },
    {
     "name": "stdout",
     "output_type": "stream",
     "text": [
      "training MAE:\n"
     ]
    },
    {
     "data": {
      "text/html": [
       "<div>\n",
       "<style scoped>\n",
       "    .dataframe tbody tr th:only-of-type {\n",
       "        vertical-align: middle;\n",
       "    }\n",
       "\n",
       "    .dataframe tbody tr th {\n",
       "        vertical-align: top;\n",
       "    }\n",
       "\n",
       "    .dataframe thead th {\n",
       "        text-align: right;\n",
       "    }\n",
       "</style>\n",
       "<table border=\"1\" class=\"dataframe\">\n",
       "  <thead>\n",
       "    <tr style=\"text-align: right;\">\n",
       "      <th></th>\n",
       "      <th>TCN</th>\n",
       "      <th>TCN-median</th>\n",
       "      <th>TCN-lo-90</th>\n",
       "      <th>TCN-lo-80</th>\n",
       "      <th>TCN-hi-80</th>\n",
       "      <th>TCN-hi-90</th>\n",
       "      <th>TCN-mu-1</th>\n",
       "      <th>TCN-std-1</th>\n",
       "      <th>TCN-mu-2</th>\n",
       "      <th>TCN-std-2</th>\n",
       "      <th>...</th>\n",
       "      <th>TCN-std-3</th>\n",
       "      <th>TCN-mu-4</th>\n",
       "      <th>TCN-std-4</th>\n",
       "      <th>TCN-mu-5</th>\n",
       "      <th>TCN-std-5</th>\n",
       "      <th>TCN-mu-6</th>\n",
       "      <th>TCN-std-6</th>\n",
       "      <th>TCN-mu-7</th>\n",
       "      <th>TCN-std-7</th>\n",
       "      <th>best_model</th>\n",
       "    </tr>\n",
       "    <tr>\n",
       "      <th>unique_id</th>\n",
       "      <th></th>\n",
       "      <th></th>\n",
       "      <th></th>\n",
       "      <th></th>\n",
       "      <th></th>\n",
       "      <th></th>\n",
       "      <th></th>\n",
       "      <th></th>\n",
       "      <th></th>\n",
       "      <th></th>\n",
       "      <th></th>\n",
       "      <th></th>\n",
       "      <th></th>\n",
       "      <th></th>\n",
       "      <th></th>\n",
       "      <th></th>\n",
       "      <th></th>\n",
       "      <th></th>\n",
       "      <th></th>\n",
       "      <th></th>\n",
       "      <th></th>\n",
       "    </tr>\n",
       "  </thead>\n",
       "  <tbody>\n",
       "    <tr>\n",
       "      <th>399673</th>\n",
       "      <td>1.475946</td>\n",
       "      <td>1.46927</td>\n",
       "      <td>5.205308</td>\n",
       "      <td>3.855057</td>\n",
       "      <td>4.396768</td>\n",
       "      <td>5.501355</td>\n",
       "      <td>1.59484</td>\n",
       "      <td>2.928044</td>\n",
       "      <td>2.327567</td>\n",
       "      <td>2.892324</td>\n",
       "      <td>...</td>\n",
       "      <td>2.964067</td>\n",
       "      <td>2.968152</td>\n",
       "      <td>3.692958</td>\n",
       "      <td>1.962558</td>\n",
       "      <td>2.38397</td>\n",
       "      <td>1.635559</td>\n",
       "      <td>2.005466</td>\n",
       "      <td>2.287516</td>\n",
       "      <td>2.556875</td>\n",
       "      <td>TCN-median</td>\n",
       "    </tr>\n",
       "  </tbody>\n",
       "</table>\n",
       "<p>1 rows × 21 columns</p>\n",
       "</div>"
      ],
      "text/plain": [
       "                TCN  TCN-median  TCN-lo-90  TCN-lo-80  TCN-hi-80  TCN-hi-90  \\\n",
       "unique_id                                                                     \n",
       "399673     1.475946     1.46927   5.205308   3.855057   4.396768   5.501355   \n",
       "\n",
       "           TCN-mu-1  TCN-std-1  TCN-mu-2  TCN-std-2  ...  TCN-std-3  TCN-mu-4  \\\n",
       "unique_id                                            ...                        \n",
       "399673      1.59484   2.928044  2.327567   2.892324  ...   2.964067  2.968152   \n",
       "\n",
       "           TCN-std-4  TCN-mu-5  TCN-std-5  TCN-mu-6  TCN-std-6  TCN-mu-7  \\\n",
       "unique_id                                                                  \n",
       "399673      3.692958  1.962558    2.38397  1.635559   2.005466  2.287516   \n",
       "\n",
       "           TCN-std-7  best_model  \n",
       "unique_id                         \n",
       "399673      2.556875  TCN-median  \n",
       "\n",
       "[1 rows x 21 columns]"
      ]
     },
     "metadata": {},
     "output_type": "display_data"
    },
    {
     "name": "stdout",
     "output_type": "stream",
     "text": [
      "validation MAE:\n"
     ]
    },
    {
     "data": {
      "text/html": [
       "<div>\n",
       "<style scoped>\n",
       "    .dataframe tbody tr th:only-of-type {\n",
       "        vertical-align: middle;\n",
       "    }\n",
       "\n",
       "    .dataframe tbody tr th {\n",
       "        vertical-align: top;\n",
       "    }\n",
       "\n",
       "    .dataframe thead th {\n",
       "        text-align: right;\n",
       "    }\n",
       "</style>\n",
       "<table border=\"1\" class=\"dataframe\">\n",
       "  <thead>\n",
       "    <tr style=\"text-align: right;\">\n",
       "      <th></th>\n",
       "      <th>TCN</th>\n",
       "      <th>TCN-median</th>\n",
       "      <th>TCN-lo-90</th>\n",
       "      <th>TCN-lo-80</th>\n",
       "      <th>TCN-hi-80</th>\n",
       "      <th>TCN-hi-90</th>\n",
       "      <th>TCN-mu-1</th>\n",
       "      <th>TCN-std-1</th>\n",
       "      <th>TCN-mu-2</th>\n",
       "      <th>TCN-std-2</th>\n",
       "      <th>...</th>\n",
       "      <th>TCN-std-3</th>\n",
       "      <th>TCN-mu-4</th>\n",
       "      <th>TCN-std-4</th>\n",
       "      <th>TCN-mu-5</th>\n",
       "      <th>TCN-std-5</th>\n",
       "      <th>TCN-mu-6</th>\n",
       "      <th>TCN-std-6</th>\n",
       "      <th>TCN-mu-7</th>\n",
       "      <th>TCN-std-7</th>\n",
       "      <th>best_model</th>\n",
       "    </tr>\n",
       "    <tr>\n",
       "      <th>unique_id</th>\n",
       "      <th></th>\n",
       "      <th></th>\n",
       "      <th></th>\n",
       "      <th></th>\n",
       "      <th></th>\n",
       "      <th></th>\n",
       "      <th></th>\n",
       "      <th></th>\n",
       "      <th></th>\n",
       "      <th></th>\n",
       "      <th></th>\n",
       "      <th></th>\n",
       "      <th></th>\n",
       "      <th></th>\n",
       "      <th></th>\n",
       "      <th></th>\n",
       "      <th></th>\n",
       "      <th></th>\n",
       "      <th></th>\n",
       "      <th></th>\n",
       "      <th></th>\n",
       "    </tr>\n",
       "  </thead>\n",
       "  <tbody>\n",
       "    <tr>\n",
       "      <th>399673</th>\n",
       "      <td>0.852854</td>\n",
       "      <td>0.837638</td>\n",
       "      <td>3.982976</td>\n",
       "      <td>2.922151</td>\n",
       "      <td>3.636869</td>\n",
       "      <td>4.628537</td>\n",
       "      <td>1.074047</td>\n",
       "      <td>2.571046</td>\n",
       "      <td>1.611832</td>\n",
       "      <td>2.585695</td>\n",
       "      <td>...</td>\n",
       "      <td>2.711017</td>\n",
       "      <td>1.825037</td>\n",
       "      <td>3.467889</td>\n",
       "      <td>0.994688</td>\n",
       "      <td>1.997343</td>\n",
       "      <td>1.050687</td>\n",
       "      <td>1.712244</td>\n",
       "      <td>1.230357</td>\n",
       "      <td>2.40141</td>\n",
       "      <td>TCN-median</td>\n",
       "    </tr>\n",
       "  </tbody>\n",
       "</table>\n",
       "<p>1 rows × 21 columns</p>\n",
       "</div>"
      ],
      "text/plain": [
       "                TCN  TCN-median  TCN-lo-90  TCN-lo-80  TCN-hi-80  TCN-hi-90  \\\n",
       "unique_id                                                                     \n",
       "399673     0.852854    0.837638   3.982976   2.922151   3.636869   4.628537   \n",
       "\n",
       "           TCN-mu-1  TCN-std-1  TCN-mu-2  TCN-std-2  ...  TCN-std-3  TCN-mu-4  \\\n",
       "unique_id                                            ...                        \n",
       "399673     1.074047   2.571046  1.611832   2.585695  ...   2.711017  1.825037   \n",
       "\n",
       "           TCN-std-4  TCN-mu-5  TCN-std-5  TCN-mu-6  TCN-std-6  TCN-mu-7  \\\n",
       "unique_id                                                                  \n",
       "399673      3.467889  0.994688   1.997343  1.050687   1.712244  1.230357   \n",
       "\n",
       "           TCN-std-7  best_model  \n",
       "unique_id                         \n",
       "399673       2.40141  TCN-median  \n",
       "\n",
       "[1 rows x 21 columns]"
      ]
     },
     "metadata": {},
     "output_type": "display_data"
    }
   ],
   "source": [
    "train_and_evaluate(model, df_train)"
   ]
  },
  {
   "cell_type": "markdown",
   "metadata": {},
   "source": [
    "## TFT (0.83)"
   ]
  },
  {
   "cell_type": "code",
   "execution_count": 85,
   "metadata": {},
   "outputs": [
    {
     "name": "stderr",
     "output_type": "stream",
     "text": [
      "Seed set to 1\n"
     ]
    }
   ],
   "source": [
    "from neuralforecast.models import TFT\n",
    "from neuralforecast.losses.pytorch import DistributionLoss\n",
    "\n",
    "model = TFT(\n",
    "    h=20,\n",
    "    input_size=48,\n",
    "    hidden_size=20,\n",
    "    # loss=DistributionLoss(distribution=\"StudentT\", level=[80, 90]),\n",
    "    loss=HuberLoss(),\n",
    "    learning_rate=0.005,\n",
    "    max_steps=500,\n",
    "    val_check_steps=5,\n",
    "    early_stop_patience_steps=10,\n",
    "    # scaler_type='robust',\n",
    "    windows_batch_size=None,\n",
    "    enable_progress_bar=True,\n",
    "    # futr_exog_list=exog,\n",
    "    hist_exog_list=exog,\n",
    ")"
   ]
  },
  {
   "cell_type": "code",
   "execution_count": 86,
   "metadata": {},
   "outputs": [
    {
     "name": "stderr",
     "output_type": "stream",
     "text": [
      "GPU available: True (cuda), used: True\n",
      "TPU available: False, using: 0 TPU cores\n",
      "HPU available: False, using: 0 HPUs\n",
      "LOCAL_RANK: 0 - CUDA_VISIBLE_DEVICES: [0]\n",
      "\n",
      "  | Name                    | Type                     | Params | Mode \n",
      "-----------------------------------------------------------------------------\n",
      "0 | loss                    | HuberLoss                | 0      | train\n",
      "1 | padder_train            | ConstantPad1d            | 0      | train\n",
      "2 | scaler                  | TemporalNorm             | 0      | train\n",
      "3 | embedding               | TFTEmbedding             | 520    | train\n",
      "4 | temporal_encoder        | TemporalCovariateEncoder | 43.0 K | train\n",
      "5 | temporal_fusion_decoder | TemporalFusionDecoder    | 6.6 K  | train\n",
      "6 | output_adapter          | Linear                   | 21     | train\n",
      "-----------------------------------------------------------------------------\n",
      "50.1 K    Trainable params\n",
      "0         Non-trainable params\n",
      "50.1 K    Total params\n",
      "0.201     Total estimated model params size (MB)\n",
      "176       Modules in train mode\n",
      "0         Modules in eval mode\n"
     ]
    },
    {
     "data": {
      "application/vnd.jupyter.widget-view+json": {
       "model_id": "4d2a4b97969146efb7092c932e2657da",
       "version_major": 2,
       "version_minor": 0
      },
      "text/plain": [
       "Sanity Checking: |          | 0/? [00:00<?, ?it/s]"
      ]
     },
     "metadata": {},
     "output_type": "display_data"
    },
    {
     "data": {
      "application/vnd.jupyter.widget-view+json": {
       "model_id": "0b81045414d34f2fbc3cefaeec077555",
       "version_major": 2,
       "version_minor": 0
      },
      "text/plain": [
       "Training: |          | 0/? [00:00<?, ?it/s]"
      ]
     },
     "metadata": {},
     "output_type": "display_data"
    },
    {
     "data": {
      "application/vnd.jupyter.widget-view+json": {
       "model_id": "a346339103cd4479b602254761280abf",
       "version_major": 2,
       "version_minor": 0
      },
      "text/plain": [
       "Validation: |          | 0/? [00:00<?, ?it/s]"
      ]
     },
     "metadata": {},
     "output_type": "display_data"
    },
    {
     "data": {
      "application/vnd.jupyter.widget-view+json": {
       "model_id": "df3402f8b29b43e59aa454efe573e8e8",
       "version_major": 2,
       "version_minor": 0
      },
      "text/plain": [
       "Validation: |          | 0/? [00:00<?, ?it/s]"
      ]
     },
     "metadata": {},
     "output_type": "display_data"
    },
    {
     "data": {
      "application/vnd.jupyter.widget-view+json": {
       "model_id": "006d0b9140174ef1a7193caf03f46246",
       "version_major": 2,
       "version_minor": 0
      },
      "text/plain": [
       "Validation: |          | 0/? [00:00<?, ?it/s]"
      ]
     },
     "metadata": {},
     "output_type": "display_data"
    },
    {
     "data": {
      "application/vnd.jupyter.widget-view+json": {
       "model_id": "ebfc0554ce654c3f9ec81436093b969a",
       "version_major": 2,
       "version_minor": 0
      },
      "text/plain": [
       "Validation: |          | 0/? [00:00<?, ?it/s]"
      ]
     },
     "metadata": {},
     "output_type": "display_data"
    },
    {
     "data": {
      "application/vnd.jupyter.widget-view+json": {
       "model_id": "3d8bdb46b1bd40079f5aa3d989297337",
       "version_major": 2,
       "version_minor": 0
      },
      "text/plain": [
       "Validation: |          | 0/? [00:00<?, ?it/s]"
      ]
     },
     "metadata": {},
     "output_type": "display_data"
    },
    {
     "data": {
      "application/vnd.jupyter.widget-view+json": {
       "model_id": "cbaaac36bc50447eb14c67fba0d297ae",
       "version_major": 2,
       "version_minor": 0
      },
      "text/plain": [
       "Validation: |          | 0/? [00:00<?, ?it/s]"
      ]
     },
     "metadata": {},
     "output_type": "display_data"
    },
    {
     "data": {
      "application/vnd.jupyter.widget-view+json": {
       "model_id": "cf50b2a6c28c48f488d21a94bd420264",
       "version_major": 2,
       "version_minor": 0
      },
      "text/plain": [
       "Validation: |          | 0/? [00:00<?, ?it/s]"
      ]
     },
     "metadata": {},
     "output_type": "display_data"
    },
    {
     "data": {
      "application/vnd.jupyter.widget-view+json": {
       "model_id": "e34bfe196f904063ac1d55a807e4b8f5",
       "version_major": 2,
       "version_minor": 0
      },
      "text/plain": [
       "Validation: |          | 0/? [00:00<?, ?it/s]"
      ]
     },
     "metadata": {},
     "output_type": "display_data"
    },
    {
     "data": {
      "application/vnd.jupyter.widget-view+json": {
       "model_id": "9aee3a437080499b8b1ffd8cd1d600af",
       "version_major": 2,
       "version_minor": 0
      },
      "text/plain": [
       "Validation: |          | 0/? [00:00<?, ?it/s]"
      ]
     },
     "metadata": {},
     "output_type": "display_data"
    },
    {
     "data": {
      "application/vnd.jupyter.widget-view+json": {
       "model_id": "98e10b2569e549ce93f1ec2ca42652ae",
       "version_major": 2,
       "version_minor": 0
      },
      "text/plain": [
       "Validation: |          | 0/? [00:00<?, ?it/s]"
      ]
     },
     "metadata": {},
     "output_type": "display_data"
    },
    {
     "data": {
      "application/vnd.jupyter.widget-view+json": {
       "model_id": "1f2df9331fb04608aea32b45c7be1e05",
       "version_major": 2,
       "version_minor": 0
      },
      "text/plain": [
       "Validation: |          | 0/? [00:00<?, ?it/s]"
      ]
     },
     "metadata": {},
     "output_type": "display_data"
    },
    {
     "data": {
      "application/vnd.jupyter.widget-view+json": {
       "model_id": "331e6d42f0034d1486e7c6a8930e1a47",
       "version_major": 2,
       "version_minor": 0
      },
      "text/plain": [
       "Validation: |          | 0/? [00:00<?, ?it/s]"
      ]
     },
     "metadata": {},
     "output_type": "display_data"
    },
    {
     "data": {
      "application/vnd.jupyter.widget-view+json": {
       "model_id": "700c713ef91848d489d33af98fa5e6be",
       "version_major": 2,
       "version_minor": 0
      },
      "text/plain": [
       "Validation: |          | 0/? [00:00<?, ?it/s]"
      ]
     },
     "metadata": {},
     "output_type": "display_data"
    },
    {
     "data": {
      "application/vnd.jupyter.widget-view+json": {
       "model_id": "89f2dd33a95f49669083c081b0aaec65",
       "version_major": 2,
       "version_minor": 0
      },
      "text/plain": [
       "Validation: |          | 0/? [00:00<?, ?it/s]"
      ]
     },
     "metadata": {},
     "output_type": "display_data"
    },
    {
     "data": {
      "application/vnd.jupyter.widget-view+json": {
       "model_id": "5f92988925464754b18cddfe09b3e705",
       "version_major": 2,
       "version_minor": 0
      },
      "text/plain": [
       "Validation: |          | 0/? [00:00<?, ?it/s]"
      ]
     },
     "metadata": {},
     "output_type": "display_data"
    },
    {
     "data": {
      "application/vnd.jupyter.widget-view+json": {
       "model_id": "0350f2a7ee194d31b4ec0138babe281e",
       "version_major": 2,
       "version_minor": 0
      },
      "text/plain": [
       "Validation: |          | 0/? [00:00<?, ?it/s]"
      ]
     },
     "metadata": {},
     "output_type": "display_data"
    },
    {
     "data": {
      "application/vnd.jupyter.widget-view+json": {
       "model_id": "7f5f96b4d3754a0aa181fbbb6e49afe6",
       "version_major": 2,
       "version_minor": 0
      },
      "text/plain": [
       "Validation: |          | 0/? [00:00<?, ?it/s]"
      ]
     },
     "metadata": {},
     "output_type": "display_data"
    },
    {
     "data": {
      "application/vnd.jupyter.widget-view+json": {
       "model_id": "9cd114b23f024c5383a065e3d9759716",
       "version_major": 2,
       "version_minor": 0
      },
      "text/plain": [
       "Validation: |          | 0/? [00:00<?, ?it/s]"
      ]
     },
     "metadata": {},
     "output_type": "display_data"
    },
    {
     "data": {
      "application/vnd.jupyter.widget-view+json": {
       "model_id": "83f9cd524587446cb3789ebd207e4cc6",
       "version_major": 2,
       "version_minor": 0
      },
      "text/plain": [
       "Validation: |          | 0/? [00:00<?, ?it/s]"
      ]
     },
     "metadata": {},
     "output_type": "display_data"
    },
    {
     "data": {
      "application/vnd.jupyter.widget-view+json": {
       "model_id": "85ce5ef642e44b45ba2fa59f38a0a64d",
       "version_major": 2,
       "version_minor": 0
      },
      "text/plain": [
       "Validation: |          | 0/? [00:00<?, ?it/s]"
      ]
     },
     "metadata": {},
     "output_type": "display_data"
    },
    {
     "data": {
      "application/vnd.jupyter.widget-view+json": {
       "model_id": "348b17bd746c4d478304ebb09de9938c",
       "version_major": 2,
       "version_minor": 0
      },
      "text/plain": [
       "Validation: |          | 0/? [00:00<?, ?it/s]"
      ]
     },
     "metadata": {},
     "output_type": "display_data"
    },
    {
     "data": {
      "application/vnd.jupyter.widget-view+json": {
       "model_id": "55fd983ed2134586a2b3d703f22e981e",
       "version_major": 2,
       "version_minor": 0
      },
      "text/plain": [
       "Validation: |          | 0/? [00:00<?, ?it/s]"
      ]
     },
     "metadata": {},
     "output_type": "display_data"
    },
    {
     "data": {
      "application/vnd.jupyter.widget-view+json": {
       "model_id": "203e3494171645b78039d55fa700236c",
       "version_major": 2,
       "version_minor": 0
      },
      "text/plain": [
       "Validation: |          | 0/? [00:00<?, ?it/s]"
      ]
     },
     "metadata": {},
     "output_type": "display_data"
    },
    {
     "name": "stderr",
     "output_type": "stream",
     "text": [
      "Trainer already configured with model summary callbacks: [<class 'pytorch_lightning.callbacks.model_summary.ModelSummary'>]. Skipping setting a default `ModelSummary` callback.\n",
      "GPU available: True (cuda), used: True\n",
      "TPU available: False, using: 0 TPU cores\n",
      "HPU available: False, using: 0 HPUs\n",
      "LOCAL_RANK: 0 - CUDA_VISIBLE_DEVICES: [0]\n"
     ]
    },
    {
     "name": "stdout",
     "output_type": "stream",
     "text": [
      "train_loss: 0.90732\n",
      "valid_loss: 0.24533\n"
     ]
    },
    {
     "data": {
      "application/vnd.jupyter.widget-view+json": {
       "model_id": "e3b88afb47de452bb7e0290afae7f284",
       "version_major": 2,
       "version_minor": 0
      },
      "text/plain": [
       "Predicting: |          | 0/? [00:00<?, ?it/s]"
      ]
     },
     "metadata": {},
     "output_type": "display_data"
    },
    {
     "name": "stderr",
     "output_type": "stream",
     "text": [
      "/home/kemove/git/neuralforecast/neuralforecast/core.py:210: FutureWarning: In a future version the predictions will have the id as a column. You can set the `NIXTLA_ID_AS_COL` environment variable to adopt the new behavior and to suppress this warning.\n",
      "  warnings.warn(\n"
     ]
    },
    {
     "name": "stdout",
     "output_type": "stream",
     "text": [
      "training MAE:\n"
     ]
    },
    {
     "data": {
      "text/html": [
       "<div>\n",
       "<style scoped>\n",
       "    .dataframe tbody tr th:only-of-type {\n",
       "        vertical-align: middle;\n",
       "    }\n",
       "\n",
       "    .dataframe tbody tr th {\n",
       "        vertical-align: top;\n",
       "    }\n",
       "\n",
       "    .dataframe thead th {\n",
       "        text-align: right;\n",
       "    }\n",
       "</style>\n",
       "<table border=\"1\" class=\"dataframe\">\n",
       "  <thead>\n",
       "    <tr style=\"text-align: right;\">\n",
       "      <th></th>\n",
       "      <th>TFT</th>\n",
       "      <th>best_model</th>\n",
       "    </tr>\n",
       "    <tr>\n",
       "      <th>unique_id</th>\n",
       "      <th></th>\n",
       "      <th></th>\n",
       "    </tr>\n",
       "  </thead>\n",
       "  <tbody>\n",
       "    <tr>\n",
       "      <th>399673</th>\n",
       "      <td>1.451976</td>\n",
       "      <td>TFT</td>\n",
       "    </tr>\n",
       "  </tbody>\n",
       "</table>\n",
       "</div>"
      ],
      "text/plain": [
       "                TFT best_model\n",
       "unique_id                     \n",
       "399673     1.451976        TFT"
      ]
     },
     "metadata": {},
     "output_type": "display_data"
    },
    {
     "name": "stdout",
     "output_type": "stream",
     "text": [
      "validation MAE:\n"
     ]
    },
    {
     "data": {
      "text/html": [
       "<div>\n",
       "<style scoped>\n",
       "    .dataframe tbody tr th:only-of-type {\n",
       "        vertical-align: middle;\n",
       "    }\n",
       "\n",
       "    .dataframe tbody tr th {\n",
       "        vertical-align: top;\n",
       "    }\n",
       "\n",
       "    .dataframe thead th {\n",
       "        text-align: right;\n",
       "    }\n",
       "</style>\n",
       "<table border=\"1\" class=\"dataframe\">\n",
       "  <thead>\n",
       "    <tr style=\"text-align: right;\">\n",
       "      <th></th>\n",
       "      <th>TFT</th>\n",
       "      <th>best_model</th>\n",
       "    </tr>\n",
       "    <tr>\n",
       "      <th>unique_id</th>\n",
       "      <th></th>\n",
       "      <th></th>\n",
       "    </tr>\n",
       "  </thead>\n",
       "  <tbody>\n",
       "    <tr>\n",
       "      <th>399673</th>\n",
       "      <td>0.830426</td>\n",
       "      <td>TFT</td>\n",
       "    </tr>\n",
       "  </tbody>\n",
       "</table>\n",
       "</div>"
      ],
      "text/plain": [
       "                TFT best_model\n",
       "unique_id                     \n",
       "399673     0.830426        TFT"
      ]
     },
     "metadata": {},
     "output_type": "display_data"
    }
   ],
   "source": [
    "train_and_evaluate(model, df_train)"
   ]
  },
  {
   "cell_type": "code",
   "execution_count": 83,
   "metadata": {},
   "outputs": [
    {
     "name": "stderr",
     "output_type": "stream",
     "text": [
      "Seed set to 1\n"
     ]
    }
   ],
   "source": [
    "exog_s = [\n",
    "    \"open\",\n",
    "]\n",
    "model = TFT(\n",
    "    h=20,\n",
    "    input_size=48,\n",
    "    hidden_size=20,\n",
    "    # loss=DistributionLoss(distribution=\"StudentT\", level=[80, 90]),\n",
    "    loss=HuberLoss(),\n",
    "    learning_rate=0.005,\n",
    "    max_steps=500,\n",
    "    val_check_steps=5,\n",
    "    early_stop_patience_steps=10,\n",
    "    # scaler_type='robust',\n",
    "    windows_batch_size=None,\n",
    "    enable_progress_bar=True,\n",
    "    futr_exog_list=exog_s,\n",
    "    hist_exog_list=exog_s,\n",
    ")"
   ]
  },
  {
   "cell_type": "code",
   "execution_count": 84,
   "metadata": {},
   "outputs": [
    {
     "name": "stderr",
     "output_type": "stream",
     "text": [
      "GPU available: True (cuda), used: True\n",
      "TPU available: False, using: 0 TPU cores\n",
      "HPU available: False, using: 0 HPUs\n",
      "LOCAL_RANK: 0 - CUDA_VISIBLE_DEVICES: [0]\n",
      "\n",
      "  | Name                    | Type                     | Params | Mode \n",
      "-----------------------------------------------------------------------------\n",
      "0 | loss                    | HuberLoss                | 0      | train\n",
      "1 | padder_train            | ConstantPad1d            | 0      | train\n",
      "2 | scaler                  | TemporalNorm             | 0      | train\n",
      "3 | embedding               | TFTEmbedding             | 120    | train\n",
      "4 | temporal_encoder        | TemporalCovariateEncoder | 18.1 K | train\n",
      "5 | temporal_fusion_decoder | TemporalFusionDecoder    | 6.6 K  | train\n",
      "6 | output_adapter          | Linear                   | 21     | train\n",
      "-----------------------------------------------------------------------------\n",
      "24.9 K    Trainable params\n",
      "0         Non-trainable params\n",
      "24.9 K    Total params\n",
      "0.100     Total estimated model params size (MB)\n",
      "96        Modules in train mode\n",
      "0         Modules in eval mode\n"
     ]
    },
    {
     "data": {
      "application/vnd.jupyter.widget-view+json": {
       "model_id": "a6ee1f8404ff4a448fe12240017709fe",
       "version_major": 2,
       "version_minor": 0
      },
      "text/plain": [
       "Sanity Checking: |          | 0/? [00:00<?, ?it/s]"
      ]
     },
     "metadata": {},
     "output_type": "display_data"
    },
    {
     "data": {
      "application/vnd.jupyter.widget-view+json": {
       "model_id": "c70da2975f7441c0ab0428133f347211",
       "version_major": 2,
       "version_minor": 0
      },
      "text/plain": [
       "Training: |          | 0/? [00:00<?, ?it/s]"
      ]
     },
     "metadata": {},
     "output_type": "display_data"
    },
    {
     "data": {
      "application/vnd.jupyter.widget-view+json": {
       "model_id": "65233586dd63419abd528d9478c9f22d",
       "version_major": 2,
       "version_minor": 0
      },
      "text/plain": [
       "Validation: |          | 0/? [00:00<?, ?it/s]"
      ]
     },
     "metadata": {},
     "output_type": "display_data"
    },
    {
     "data": {
      "application/vnd.jupyter.widget-view+json": {
       "model_id": "63f717fd10f947729786afe037bc558d",
       "version_major": 2,
       "version_minor": 0
      },
      "text/plain": [
       "Validation: |          | 0/? [00:00<?, ?it/s]"
      ]
     },
     "metadata": {},
     "output_type": "display_data"
    },
    {
     "data": {
      "application/vnd.jupyter.widget-view+json": {
       "model_id": "546301278da5463190a9b2b6f51d21c2",
       "version_major": 2,
       "version_minor": 0
      },
      "text/plain": [
       "Validation: |          | 0/? [00:00<?, ?it/s]"
      ]
     },
     "metadata": {},
     "output_type": "display_data"
    },
    {
     "data": {
      "application/vnd.jupyter.widget-view+json": {
       "model_id": "4747685f100e45e0a987afb6d022b620",
       "version_major": 2,
       "version_minor": 0
      },
      "text/plain": [
       "Validation: |          | 0/? [00:00<?, ?it/s]"
      ]
     },
     "metadata": {},
     "output_type": "display_data"
    },
    {
     "data": {
      "application/vnd.jupyter.widget-view+json": {
       "model_id": "52c1948953664d68a2f26c539e6d9fbb",
       "version_major": 2,
       "version_minor": 0
      },
      "text/plain": [
       "Validation: |          | 0/? [00:00<?, ?it/s]"
      ]
     },
     "metadata": {},
     "output_type": "display_data"
    },
    {
     "data": {
      "application/vnd.jupyter.widget-view+json": {
       "model_id": "d2e53e0cd73f48b889c732b6fe1ae150",
       "version_major": 2,
       "version_minor": 0
      },
      "text/plain": [
       "Validation: |          | 0/? [00:00<?, ?it/s]"
      ]
     },
     "metadata": {},
     "output_type": "display_data"
    },
    {
     "data": {
      "application/vnd.jupyter.widget-view+json": {
       "model_id": "6ae6f99795474e1f9283edf09b24996f",
       "version_major": 2,
       "version_minor": 0
      },
      "text/plain": [
       "Validation: |          | 0/? [00:00<?, ?it/s]"
      ]
     },
     "metadata": {},
     "output_type": "display_data"
    },
    {
     "data": {
      "application/vnd.jupyter.widget-view+json": {
       "model_id": "624bffcc57a54aff85c964af327093b2",
       "version_major": 2,
       "version_minor": 0
      },
      "text/plain": [
       "Validation: |          | 0/? [00:00<?, ?it/s]"
      ]
     },
     "metadata": {},
     "output_type": "display_data"
    },
    {
     "data": {
      "application/vnd.jupyter.widget-view+json": {
       "model_id": "0a2bda7eca1541f4aa814ba30c278e7e",
       "version_major": 2,
       "version_minor": 0
      },
      "text/plain": [
       "Validation: |          | 0/? [00:00<?, ?it/s]"
      ]
     },
     "metadata": {},
     "output_type": "display_data"
    },
    {
     "data": {
      "application/vnd.jupyter.widget-view+json": {
       "model_id": "0103d8694cff48088cef2985f983cb17",
       "version_major": 2,
       "version_minor": 0
      },
      "text/plain": [
       "Validation: |          | 0/? [00:00<?, ?it/s]"
      ]
     },
     "metadata": {},
     "output_type": "display_data"
    },
    {
     "data": {
      "application/vnd.jupyter.widget-view+json": {
       "model_id": "1723ce791d5744eb92cd81baefcd2fdb",
       "version_major": 2,
       "version_minor": 0
      },
      "text/plain": [
       "Validation: |          | 0/? [00:00<?, ?it/s]"
      ]
     },
     "metadata": {},
     "output_type": "display_data"
    },
    {
     "data": {
      "application/vnd.jupyter.widget-view+json": {
       "model_id": "04c2d518e21948f9b117246302fd1ddf",
       "version_major": 2,
       "version_minor": 0
      },
      "text/plain": [
       "Validation: |          | 0/? [00:00<?, ?it/s]"
      ]
     },
     "metadata": {},
     "output_type": "display_data"
    },
    {
     "data": {
      "application/vnd.jupyter.widget-view+json": {
       "model_id": "0fc62624a78f44e69d2dd0d30b329fe3",
       "version_major": 2,
       "version_minor": 0
      },
      "text/plain": [
       "Validation: |          | 0/? [00:00<?, ?it/s]"
      ]
     },
     "metadata": {},
     "output_type": "display_data"
    },
    {
     "data": {
      "application/vnd.jupyter.widget-view+json": {
       "model_id": "f2dd553b734e44b0bc97a83a1c197190",
       "version_major": 2,
       "version_minor": 0
      },
      "text/plain": [
       "Validation: |          | 0/? [00:00<?, ?it/s]"
      ]
     },
     "metadata": {},
     "output_type": "display_data"
    },
    {
     "data": {
      "application/vnd.jupyter.widget-view+json": {
       "model_id": "7a0d72b20ab64d5db1f43d26d41a268d",
       "version_major": 2,
       "version_minor": 0
      },
      "text/plain": [
       "Validation: |          | 0/? [00:00<?, ?it/s]"
      ]
     },
     "metadata": {},
     "output_type": "display_data"
    },
    {
     "data": {
      "application/vnd.jupyter.widget-view+json": {
       "model_id": "e0af6bbab5a941bf9a4d83167cc48548",
       "version_major": 2,
       "version_minor": 0
      },
      "text/plain": [
       "Validation: |          | 0/? [00:00<?, ?it/s]"
      ]
     },
     "metadata": {},
     "output_type": "display_data"
    },
    {
     "data": {
      "application/vnd.jupyter.widget-view+json": {
       "model_id": "e128f53477d4445a93954baa6e10e263",
       "version_major": 2,
       "version_minor": 0
      },
      "text/plain": [
       "Validation: |          | 0/? [00:00<?, ?it/s]"
      ]
     },
     "metadata": {},
     "output_type": "display_data"
    },
    {
     "data": {
      "application/vnd.jupyter.widget-view+json": {
       "model_id": "0efb79a17acb4a9792e413dcf9df78f7",
       "version_major": 2,
       "version_minor": 0
      },
      "text/plain": [
       "Validation: |          | 0/? [00:00<?, ?it/s]"
      ]
     },
     "metadata": {},
     "output_type": "display_data"
    },
    {
     "data": {
      "application/vnd.jupyter.widget-view+json": {
       "model_id": "6e0a701dd3f5408995ef7a5fffeb5fc3",
       "version_major": 2,
       "version_minor": 0
      },
      "text/plain": [
       "Validation: |          | 0/? [00:00<?, ?it/s]"
      ]
     },
     "metadata": {},
     "output_type": "display_data"
    },
    {
     "data": {
      "application/vnd.jupyter.widget-view+json": {
       "model_id": "4921ffad18244487926ff150122ae857",
       "version_major": 2,
       "version_minor": 0
      },
      "text/plain": [
       "Validation: |          | 0/? [00:00<?, ?it/s]"
      ]
     },
     "metadata": {},
     "output_type": "display_data"
    },
    {
     "data": {
      "application/vnd.jupyter.widget-view+json": {
       "model_id": "89d9dbf82fb64c14adfa4f98e1d73cf1",
       "version_major": 2,
       "version_minor": 0
      },
      "text/plain": [
       "Validation: |          | 0/? [00:00<?, ?it/s]"
      ]
     },
     "metadata": {},
     "output_type": "display_data"
    },
    {
     "data": {
      "application/vnd.jupyter.widget-view+json": {
       "model_id": "91bb34e9dabd4f4aaf978d1a9111eada",
       "version_major": 2,
       "version_minor": 0
      },
      "text/plain": [
       "Validation: |          | 0/? [00:00<?, ?it/s]"
      ]
     },
     "metadata": {},
     "output_type": "display_data"
    },
    {
     "name": "stderr",
     "output_type": "stream",
     "text": [
      "Trainer already configured with model summary callbacks: [<class 'pytorch_lightning.callbacks.model_summary.ModelSummary'>]. Skipping setting a default `ModelSummary` callback.\n",
      "GPU available: True (cuda), used: True\n",
      "TPU available: False, using: 0 TPU cores\n",
      "HPU available: False, using: 0 HPUs\n",
      "LOCAL_RANK: 0 - CUDA_VISIBLE_DEVICES: [0]\n"
     ]
    },
    {
     "name": "stdout",
     "output_type": "stream",
     "text": [
      "train_loss: 0.90095\n",
      "valid_loss: 0.24560\n"
     ]
    },
    {
     "data": {
      "application/vnd.jupyter.widget-view+json": {
       "model_id": "b93df2bb77b744dbbfa72fe4a3b29589",
       "version_major": 2,
       "version_minor": 0
      },
      "text/plain": [
       "Predicting: |          | 0/? [00:00<?, ?it/s]"
      ]
     },
     "metadata": {},
     "output_type": "display_data"
    },
    {
     "name": "stderr",
     "output_type": "stream",
     "text": [
      "/home/kemove/git/neuralforecast/neuralforecast/core.py:210: FutureWarning: In a future version the predictions will have the id as a column. You can set the `NIXTLA_ID_AS_COL` environment variable to adopt the new behavior and to suppress this warning.\n",
      "  warnings.warn(\n"
     ]
    },
    {
     "name": "stdout",
     "output_type": "stream",
     "text": [
      "training MAE:\n"
     ]
    },
    {
     "data": {
      "text/html": [
       "<div>\n",
       "<style scoped>\n",
       "    .dataframe tbody tr th:only-of-type {\n",
       "        vertical-align: middle;\n",
       "    }\n",
       "\n",
       "    .dataframe tbody tr th {\n",
       "        vertical-align: top;\n",
       "    }\n",
       "\n",
       "    .dataframe thead th {\n",
       "        text-align: right;\n",
       "    }\n",
       "</style>\n",
       "<table border=\"1\" class=\"dataframe\">\n",
       "  <thead>\n",
       "    <tr style=\"text-align: right;\">\n",
       "      <th></th>\n",
       "      <th>TFT</th>\n",
       "      <th>best_model</th>\n",
       "    </tr>\n",
       "    <tr>\n",
       "      <th>unique_id</th>\n",
       "      <th></th>\n",
       "      <th></th>\n",
       "    </tr>\n",
       "  </thead>\n",
       "  <tbody>\n",
       "    <tr>\n",
       "      <th>399673</th>\n",
       "      <td>1.441481</td>\n",
       "      <td>TFT</td>\n",
       "    </tr>\n",
       "  </tbody>\n",
       "</table>\n",
       "</div>"
      ],
      "text/plain": [
       "                TFT best_model\n",
       "unique_id                     \n",
       "399673     1.441481        TFT"
      ]
     },
     "metadata": {},
     "output_type": "display_data"
    },
    {
     "name": "stdout",
     "output_type": "stream",
     "text": [
      "validation MAE:\n"
     ]
    },
    {
     "data": {
      "text/html": [
       "<div>\n",
       "<style scoped>\n",
       "    .dataframe tbody tr th:only-of-type {\n",
       "        vertical-align: middle;\n",
       "    }\n",
       "\n",
       "    .dataframe tbody tr th {\n",
       "        vertical-align: top;\n",
       "    }\n",
       "\n",
       "    .dataframe thead th {\n",
       "        text-align: right;\n",
       "    }\n",
       "</style>\n",
       "<table border=\"1\" class=\"dataframe\">\n",
       "  <thead>\n",
       "    <tr style=\"text-align: right;\">\n",
       "      <th></th>\n",
       "      <th>TFT</th>\n",
       "      <th>best_model</th>\n",
       "    </tr>\n",
       "    <tr>\n",
       "      <th>unique_id</th>\n",
       "      <th></th>\n",
       "      <th></th>\n",
       "    </tr>\n",
       "  </thead>\n",
       "  <tbody>\n",
       "    <tr>\n",
       "      <th>399673</th>\n",
       "      <td>0.844393</td>\n",
       "      <td>TFT</td>\n",
       "    </tr>\n",
       "  </tbody>\n",
       "</table>\n",
       "</div>"
      ],
      "text/plain": [
       "                TFT best_model\n",
       "unique_id                     \n",
       "399673     0.844393        TFT"
      ]
     },
     "metadata": {},
     "output_type": "display_data"
    }
   ],
   "source": [
    "train_and_evaluate(model, df_train)"
   ]
  },
  {
   "cell_type": "markdown",
   "metadata": {},
   "source": [
    "## TiDE (1.0)"
   ]
  },
  {
   "cell_type": "code",
   "execution_count": 113,
   "metadata": {},
   "outputs": [
    {
     "name": "stderr",
     "output_type": "stream",
     "text": [
      "Seed set to 1\n"
     ]
    }
   ],
   "source": [
    "from neuralforecast.models import TiDE\n",
    "from neuralforecast.losses.pytorch import GMM\n",
    "\n",
    "model = TiDE(\n",
    "    h=20,\n",
    "    input_size=48,\n",
    "    # input_size=24,\n",
    "    loss=GMM(n_components=7, return_params=True, level=[80, 90]),\n",
    "    max_steps=500,\n",
    "    # futr_exog_list=exog,\n",
    "    hist_exog_list=exog,\n",
    ")"
   ]
  },
  {
   "cell_type": "code",
   "execution_count": 114,
   "metadata": {},
   "outputs": [
    {
     "name": "stderr",
     "output_type": "stream",
     "text": [
      "GPU available: True (cuda), used: True\n",
      "TPU available: False, using: 0 TPU cores\n",
      "HPU available: False, using: 0 HPUs\n"
     ]
    },
    {
     "name": "stderr",
     "output_type": "stream",
     "text": [
      "LOCAL_RANK: 0 - CUDA_VISIBLE_DEVICES: [0]\n",
      "\n",
      "  | Name                 | Type          | Params | Mode \n",
      "---------------------------------------------------------------\n",
      "0 | loss                 | GMM           | 5      | train\n",
      "1 | padder_train         | ConstantPad1d | 0      | train\n",
      "2 | scaler               | TemporalNorm  | 0      | train\n",
      "3 | hist_exog_projection | MLPResidual   | 8.3 K  | train\n",
      "4 | dense_encoder        | Sequential    | 510 K  | train\n",
      "5 | dense_decoder        | Sequential    | 920 K  | train\n",
      "6 | temporal_decoder     | MLPResidual   | 6.5 K  | train\n",
      "7 | global_skip          | Linear        | 13.7 K | train\n",
      "---------------------------------------------------------------\n",
      "1.5 M     Trainable params\n",
      "5         Non-trainable params\n",
      "1.5 M     Total params\n",
      "5.838     Total estimated model params size (MB)\n",
      "30        Modules in train mode\n",
      "0         Modules in eval mode\n"
     ]
    },
    {
     "data": {
      "application/vnd.jupyter.widget-view+json": {
       "model_id": "0a6dc0cefb5e44adb2cfa9374feea8b5",
       "version_major": 2,
       "version_minor": 0
      },
      "text/plain": [
       "Sanity Checking: |          | 0/? [00:00<?, ?it/s]"
      ]
     },
     "metadata": {},
     "output_type": "display_data"
    },
    {
     "data": {
      "application/vnd.jupyter.widget-view+json": {
       "model_id": "f3d930554f1a46c799d056d660337b69",
       "version_major": 2,
       "version_minor": 0
      },
      "text/plain": [
       "Training: |          | 0/? [00:00<?, ?it/s]"
      ]
     },
     "metadata": {},
     "output_type": "display_data"
    },
    {
     "data": {
      "application/vnd.jupyter.widget-view+json": {
       "model_id": "ed3f97d634e74cc89c235feda85cac58",
       "version_major": 2,
       "version_minor": 0
      },
      "text/plain": [
       "Validation: |          | 0/? [00:00<?, ?it/s]"
      ]
     },
     "metadata": {},
     "output_type": "display_data"
    },
    {
     "data": {
      "application/vnd.jupyter.widget-view+json": {
       "model_id": "39e92c7223f844518d390488ac983df1",
       "version_major": 2,
       "version_minor": 0
      },
      "text/plain": [
       "Validation: |          | 0/? [00:00<?, ?it/s]"
      ]
     },
     "metadata": {},
     "output_type": "display_data"
    },
    {
     "data": {
      "application/vnd.jupyter.widget-view+json": {
       "model_id": "1d996d175b874da69f42b4129ebc01e3",
       "version_major": 2,
       "version_minor": 0
      },
      "text/plain": [
       "Validation: |          | 0/? [00:00<?, ?it/s]"
      ]
     },
     "metadata": {},
     "output_type": "display_data"
    },
    {
     "name": "stderr",
     "output_type": "stream",
     "text": [
      "IOPub message rate exceeded.\n",
      "The Jupyter server will temporarily stop sending output\n",
      "to the client in order to avoid crashing it.\n",
      "To change this limit, set the config variable\n",
      "`--ServerApp.iopub_msg_rate_limit`.\n",
      "\n",
      "Current values:\n",
      "ServerApp.iopub_msg_rate_limit=1000.0 (msgs/sec)\n",
      "ServerApp.rate_limit_window=3.0 (secs)\n",
      "\n"
     ]
    },
    {
     "data": {
      "application/vnd.jupyter.widget-view+json": {
       "model_id": "9bcda2f88e4c48228ede90d242b17202",
       "version_major": 2,
       "version_minor": 0
      },
      "text/plain": [
       "Validation: |          | 0/? [00:00<?, ?it/s]"
      ]
     },
     "metadata": {},
     "output_type": "display_data"
    },
    {
     "name": "stderr",
     "output_type": "stream",
     "text": [
      "`Trainer.fit` stopped: `max_steps=500` reached.\n",
      "GPU available: True (cuda), used: True\n",
      "TPU available: False, using: 0 TPU cores\n",
      "HPU available: False, using: 0 HPUs\n",
      "LOCAL_RANK: 0 - CUDA_VISIBLE_DEVICES: [0]\n"
     ]
    },
    {
     "name": "stdout",
     "output_type": "stream",
     "text": [
      "train_loss: 0.14503\n",
      "valid_loss: 1.29358\n"
     ]
    },
    {
     "data": {
      "application/vnd.jupyter.widget-view+json": {
       "model_id": "378028ec723a4ad793f9436570806453",
       "version_major": 2,
       "version_minor": 0
      },
      "text/plain": [
       "Predicting: |          | 0/? [00:00<?, ?it/s]"
      ]
     },
     "metadata": {},
     "output_type": "display_data"
    },
    {
     "name": "stderr",
     "output_type": "stream",
     "text": [
      "/home/kemove/git/neuralforecast/neuralforecast/core.py:210: FutureWarning: In a future version the predictions will have the id as a column. You can set the `NIXTLA_ID_AS_COL` environment variable to adopt the new behavior and to suppress this warning.\n",
      "  warnings.warn(\n"
     ]
    },
    {
     "name": "stdout",
     "output_type": "stream",
     "text": [
      "training MAE:\n"
     ]
    },
    {
     "data": {
      "text/html": [
       "<div>\n",
       "<style scoped>\n",
       "    .dataframe tbody tr th:only-of-type {\n",
       "        vertical-align: middle;\n",
       "    }\n",
       "\n",
       "    .dataframe tbody tr th {\n",
       "        vertical-align: top;\n",
       "    }\n",
       "\n",
       "    .dataframe thead th {\n",
       "        text-align: right;\n",
       "    }\n",
       "</style>\n",
       "<table border=\"1\" class=\"dataframe\">\n",
       "  <thead>\n",
       "    <tr style=\"text-align: right;\">\n",
       "      <th></th>\n",
       "      <th>TiDE</th>\n",
       "      <th>TiDE-median</th>\n",
       "      <th>TiDE-lo-90</th>\n",
       "      <th>TiDE-lo-80</th>\n",
       "      <th>TiDE-hi-80</th>\n",
       "      <th>TiDE-hi-90</th>\n",
       "      <th>TiDE-mu-1</th>\n",
       "      <th>TiDE-std-1</th>\n",
       "      <th>TiDE-mu-2</th>\n",
       "      <th>TiDE-std-2</th>\n",
       "      <th>...</th>\n",
       "      <th>TiDE-std-3</th>\n",
       "      <th>TiDE-mu-4</th>\n",
       "      <th>TiDE-std-4</th>\n",
       "      <th>TiDE-mu-5</th>\n",
       "      <th>TiDE-std-5</th>\n",
       "      <th>TiDE-mu-6</th>\n",
       "      <th>TiDE-std-6</th>\n",
       "      <th>TiDE-mu-7</th>\n",
       "      <th>TiDE-std-7</th>\n",
       "      <th>best_model</th>\n",
       "    </tr>\n",
       "    <tr>\n",
       "      <th>unique_id</th>\n",
       "      <th></th>\n",
       "      <th></th>\n",
       "      <th></th>\n",
       "      <th></th>\n",
       "      <th></th>\n",
       "      <th></th>\n",
       "      <th></th>\n",
       "      <th></th>\n",
       "      <th></th>\n",
       "      <th></th>\n",
       "      <th></th>\n",
       "      <th></th>\n",
       "      <th></th>\n",
       "      <th></th>\n",
       "      <th></th>\n",
       "      <th></th>\n",
       "      <th></th>\n",
       "      <th></th>\n",
       "      <th></th>\n",
       "      <th></th>\n",
       "      <th></th>\n",
       "    </tr>\n",
       "  </thead>\n",
       "  <tbody>\n",
       "    <tr>\n",
       "      <th>399673</th>\n",
       "      <td>0.873245</td>\n",
       "      <td>0.565257</td>\n",
       "      <td>1.692992</td>\n",
       "      <td>1.211797</td>\n",
       "      <td>2.517763</td>\n",
       "      <td>4.498103</td>\n",
       "      <td>1.052521</td>\n",
       "      <td>2.334303</td>\n",
       "      <td>0.551797</td>\n",
       "      <td>1.622592</td>\n",
       "      <td>...</td>\n",
       "      <td>1.748683</td>\n",
       "      <td>1.315237</td>\n",
       "      <td>2.563862</td>\n",
       "      <td>0.601443</td>\n",
       "      <td>1.744877</td>\n",
       "      <td>2.238207</td>\n",
       "      <td>3.348994</td>\n",
       "      <td>0.525569</td>\n",
       "      <td>1.577806</td>\n",
       "      <td>TiDE-mu-7</td>\n",
       "    </tr>\n",
       "  </tbody>\n",
       "</table>\n",
       "<p>1 rows × 21 columns</p>\n",
       "</div>"
      ],
      "text/plain": [
       "               TiDE  TiDE-median  TiDE-lo-90  TiDE-lo-80  TiDE-hi-80  \\\n",
       "unique_id                                                              \n",
       "399673     0.873245     0.565257    1.692992    1.211797    2.517763   \n",
       "\n",
       "           TiDE-hi-90  TiDE-mu-1  TiDE-std-1  TiDE-mu-2  TiDE-std-2  ...  \\\n",
       "unique_id                                                            ...   \n",
       "399673       4.498103   1.052521    2.334303   0.551797    1.622592  ...   \n",
       "\n",
       "           TiDE-std-3  TiDE-mu-4  TiDE-std-4  TiDE-mu-5  TiDE-std-5  \\\n",
       "unique_id                                                             \n",
       "399673       1.748683   1.315237    2.563862   0.601443    1.744877   \n",
       "\n",
       "           TiDE-mu-6  TiDE-std-6  TiDE-mu-7  TiDE-std-7  best_model  \n",
       "unique_id                                                            \n",
       "399673      2.238207    3.348994   0.525569    1.577806   TiDE-mu-7  \n",
       "\n",
       "[1 rows x 21 columns]"
      ]
     },
     "metadata": {},
     "output_type": "display_data"
    },
    {
     "name": "stdout",
     "output_type": "stream",
     "text": [
      "validation MAE:\n"
     ]
    },
    {
     "data": {
      "text/html": [
       "<div>\n",
       "<style scoped>\n",
       "    .dataframe tbody tr th:only-of-type {\n",
       "        vertical-align: middle;\n",
       "    }\n",
       "\n",
       "    .dataframe tbody tr th {\n",
       "        vertical-align: top;\n",
       "    }\n",
       "\n",
       "    .dataframe thead th {\n",
       "        text-align: right;\n",
       "    }\n",
       "</style>\n",
       "<table border=\"1\" class=\"dataframe\">\n",
       "  <thead>\n",
       "    <tr style=\"text-align: right;\">\n",
       "      <th></th>\n",
       "      <th>TiDE</th>\n",
       "      <th>TiDE-median</th>\n",
       "      <th>TiDE-lo-90</th>\n",
       "      <th>TiDE-lo-80</th>\n",
       "      <th>TiDE-hi-80</th>\n",
       "      <th>TiDE-hi-90</th>\n",
       "      <th>TiDE-mu-1</th>\n",
       "      <th>TiDE-std-1</th>\n",
       "      <th>TiDE-mu-2</th>\n",
       "      <th>TiDE-std-2</th>\n",
       "      <th>...</th>\n",
       "      <th>TiDE-std-3</th>\n",
       "      <th>TiDE-mu-4</th>\n",
       "      <th>TiDE-std-4</th>\n",
       "      <th>TiDE-mu-5</th>\n",
       "      <th>TiDE-std-5</th>\n",
       "      <th>TiDE-mu-6</th>\n",
       "      <th>TiDE-std-6</th>\n",
       "      <th>TiDE-mu-7</th>\n",
       "      <th>TiDE-std-7</th>\n",
       "      <th>best_model</th>\n",
       "    </tr>\n",
       "    <tr>\n",
       "      <th>unique_id</th>\n",
       "      <th></th>\n",
       "      <th></th>\n",
       "      <th></th>\n",
       "      <th></th>\n",
       "      <th></th>\n",
       "      <th></th>\n",
       "      <th></th>\n",
       "      <th></th>\n",
       "      <th></th>\n",
       "      <th></th>\n",
       "      <th></th>\n",
       "      <th></th>\n",
       "      <th></th>\n",
       "      <th></th>\n",
       "      <th></th>\n",
       "      <th></th>\n",
       "      <th></th>\n",
       "      <th></th>\n",
       "      <th></th>\n",
       "      <th></th>\n",
       "      <th></th>\n",
       "    </tr>\n",
       "  </thead>\n",
       "  <tbody>\n",
       "    <tr>\n",
       "      <th>399673</th>\n",
       "      <td>1.079643</td>\n",
       "      <td>1.019356</td>\n",
       "      <td>1.480406</td>\n",
       "      <td>1.217544</td>\n",
       "      <td>2.666144</td>\n",
       "      <td>4.637601</td>\n",
       "      <td>1.433855</td>\n",
       "      <td>1.790897</td>\n",
       "      <td>1.047736</td>\n",
       "      <td>1.024954</td>\n",
       "      <td>...</td>\n",
       "      <td>1.092991</td>\n",
       "      <td>1.506781</td>\n",
       "      <td>1.96168</td>\n",
       "      <td>1.092839</td>\n",
       "      <td>1.148278</td>\n",
       "      <td>2.315489</td>\n",
       "      <td>2.947075</td>\n",
       "      <td>1.057924</td>\n",
       "      <td>1.008364</td>\n",
       "      <td>TiDE-std-7</td>\n",
       "    </tr>\n",
       "  </tbody>\n",
       "</table>\n",
       "<p>1 rows × 21 columns</p>\n",
       "</div>"
      ],
      "text/plain": [
       "               TiDE  TiDE-median  TiDE-lo-90  TiDE-lo-80  TiDE-hi-80  \\\n",
       "unique_id                                                              \n",
       "399673     1.079643     1.019356    1.480406    1.217544    2.666144   \n",
       "\n",
       "           TiDE-hi-90  TiDE-mu-1  TiDE-std-1  TiDE-mu-2  TiDE-std-2  ...  \\\n",
       "unique_id                                                            ...   \n",
       "399673       4.637601   1.433855    1.790897   1.047736    1.024954  ...   \n",
       "\n",
       "           TiDE-std-3  TiDE-mu-4  TiDE-std-4  TiDE-mu-5  TiDE-std-5  \\\n",
       "unique_id                                                             \n",
       "399673       1.092991   1.506781     1.96168   1.092839    1.148278   \n",
       "\n",
       "           TiDE-mu-6  TiDE-std-6  TiDE-mu-7  TiDE-std-7  best_model  \n",
       "unique_id                                                            \n",
       "399673      2.315489    2.947075   1.057924    1.008364  TiDE-std-7  \n",
       "\n",
       "[1 rows x 21 columns]"
      ]
     },
     "metadata": {},
     "output_type": "display_data"
    }
   ],
   "source": [
    "train_and_evaluate(model, df_train)"
   ]
  },
  {
   "cell_type": "markdown",
   "metadata": {},
   "source": [
    "## TimesNet (0.81) (F)"
   ]
  },
  {
   "cell_type": "code",
   "execution_count": 28,
   "metadata": {},
   "outputs": [
    {
     "name": "stderr",
     "output_type": "stream",
     "text": [
      "Seed set to 1\n"
     ]
    }
   ],
   "source": [
    "from neuralforecast.models import TimesNet\n",
    "from neuralforecast.losses.pytorch import DistributionLoss\n",
    "\n",
    "model = TimesNet(\n",
    "    h=20,\n",
    "    input_size=48,\n",
    "    hidden_size = 16,\n",
    "    conv_hidden_size = 32,\n",
    "    loss=DistributionLoss(distribution='Normal', level=[80, 90]),\n",
    "    # scaler_type='standard',\n",
    "    learning_rate=1e-3,\n",
    "    max_steps=500,\n",
    "    val_check_steps=5,\n",
    "    early_stop_patience_steps=10,\n",
    "    futr_exog_list=exog,\n",
    "    # hist_exog_list=exog,\n",
    ")"
   ]
  },
  {
   "cell_type": "code",
   "execution_count": 29,
   "metadata": {},
   "outputs": [
    {
     "name": "stderr",
     "output_type": "stream",
     "text": [
      "GPU available: True (cuda), used: True\n",
      "TPU available: False, using: 0 TPU cores\n",
      "HPU available: False, using: 0 HPUs\n",
      "LOCAL_RANK: 0 - CUDA_VISIBLE_DEVICES: [0]\n"
     ]
    },
    {
     "name": "stderr",
     "output_type": "stream",
     "text": [
      "\n",
      "  | Name           | Type             | Params | Mode \n",
      "------------------------------------------------------------\n",
      "0 | loss           | DistributionLoss | 5      | train\n",
      "1 | padder_train   | ConstantPad1d    | 0      | train\n",
      "2 | scaler         | TemporalNorm     | 0      | train\n",
      "3 | model          | ModuleList       | 586 K  | train\n",
      "4 | enc_embedding  | DataEmbedding    | 224    | train\n",
      "5 | layer_norm     | LayerNorm        | 32     | train\n",
      "6 | predict_linear | Linear           | 3.3 K  | train\n",
      "7 | projection     | Linear           | 34     | train\n",
      "------------------------------------------------------------\n",
      "589 K     Trainable params\n",
      "5         Non-trainable params\n",
      "589 K     Total params\n",
      "2.360     Total estimated model params size (MB)\n",
      "52        Modules in train mode\n",
      "0         Modules in eval mode\n"
     ]
    },
    {
     "data": {
      "application/vnd.jupyter.widget-view+json": {
       "model_id": "3fa1ce49f761453c94c41c710f934b49",
       "version_major": 2,
       "version_minor": 0
      },
      "text/plain": [
       "Sanity Checking: |          | 0/? [00:00<?, ?it/s]"
      ]
     },
     "metadata": {},
     "output_type": "display_data"
    },
    {
     "data": {
      "application/vnd.jupyter.widget-view+json": {
       "model_id": "e105fd390bc340d784eb74502bfa844f",
       "version_major": 2,
       "version_minor": 0
      },
      "text/plain": [
       "Training: |          | 0/? [00:00<?, ?it/s]"
      ]
     },
     "metadata": {},
     "output_type": "display_data"
    },
    {
     "data": {
      "application/vnd.jupyter.widget-view+json": {
       "model_id": "cdf5658f2c69483b9ec8b90152ccf520",
       "version_major": 2,
       "version_minor": 0
      },
      "text/plain": [
       "Validation: |          | 0/? [00:00<?, ?it/s]"
      ]
     },
     "metadata": {},
     "output_type": "display_data"
    },
    {
     "data": {
      "application/vnd.jupyter.widget-view+json": {
       "model_id": "bd32fed9fd5246efbabac8b049ffbc2b",
       "version_major": 2,
       "version_minor": 0
      },
      "text/plain": [
       "Validation: |          | 0/? [00:00<?, ?it/s]"
      ]
     },
     "metadata": {},
     "output_type": "display_data"
    },
    {
     "data": {
      "application/vnd.jupyter.widget-view+json": {
       "model_id": "aed166cc608b4d74b48d5a8b0075f00c",
       "version_major": 2,
       "version_minor": 0
      },
      "text/plain": [
       "Validation: |          | 0/? [00:00<?, ?it/s]"
      ]
     },
     "metadata": {},
     "output_type": "display_data"
    },
    {
     "data": {
      "application/vnd.jupyter.widget-view+json": {
       "model_id": "46c956b742734aa99fe03fadb3c94517",
       "version_major": 2,
       "version_minor": 0
      },
      "text/plain": [
       "Validation: |          | 0/? [00:00<?, ?it/s]"
      ]
     },
     "metadata": {},
     "output_type": "display_data"
    },
    {
     "data": {
      "application/vnd.jupyter.widget-view+json": {
       "model_id": "a145c5f2b7ec4381819e61c9b181feb9",
       "version_major": 2,
       "version_minor": 0
      },
      "text/plain": [
       "Validation: |          | 0/? [00:00<?, ?it/s]"
      ]
     },
     "metadata": {},
     "output_type": "display_data"
    },
    {
     "data": {
      "application/vnd.jupyter.widget-view+json": {
       "model_id": "0c17b72ef75a449ca536a0e94ae335cc",
       "version_major": 2,
       "version_minor": 0
      },
      "text/plain": [
       "Validation: |          | 0/? [00:00<?, ?it/s]"
      ]
     },
     "metadata": {},
     "output_type": "display_data"
    },
    {
     "data": {
      "application/vnd.jupyter.widget-view+json": {
       "model_id": "8d73bbbf3fe84cfc81391e4f7c26e31e",
       "version_major": 2,
       "version_minor": 0
      },
      "text/plain": [
       "Validation: |          | 0/? [00:00<?, ?it/s]"
      ]
     },
     "metadata": {},
     "output_type": "display_data"
    },
    {
     "data": {
      "application/vnd.jupyter.widget-view+json": {
       "model_id": "3c5d63e2b9cd48caa043119a1633aebd",
       "version_major": 2,
       "version_minor": 0
      },
      "text/plain": [
       "Validation: |          | 0/? [00:00<?, ?it/s]"
      ]
     },
     "metadata": {},
     "output_type": "display_data"
    },
    {
     "data": {
      "application/vnd.jupyter.widget-view+json": {
       "model_id": "4af01a30973140f492b48485cfab5fdc",
       "version_major": 2,
       "version_minor": 0
      },
      "text/plain": [
       "Validation: |          | 0/? [00:00<?, ?it/s]"
      ]
     },
     "metadata": {},
     "output_type": "display_data"
    },
    {
     "data": {
      "application/vnd.jupyter.widget-view+json": {
       "model_id": "fcbcc96942354a5d92b3590f61fceea8",
       "version_major": 2,
       "version_minor": 0
      },
      "text/plain": [
       "Validation: |          | 0/? [00:00<?, ?it/s]"
      ]
     },
     "metadata": {},
     "output_type": "display_data"
    },
    {
     "data": {
      "application/vnd.jupyter.widget-view+json": {
       "model_id": "f1bbad6a54df495c92d7e3d3ef387f89",
       "version_major": 2,
       "version_minor": 0
      },
      "text/plain": [
       "Validation: |          | 0/? [00:00<?, ?it/s]"
      ]
     },
     "metadata": {},
     "output_type": "display_data"
    },
    {
     "data": {
      "application/vnd.jupyter.widget-view+json": {
       "model_id": "3d48b5a7bc25462687edd595796aad7f",
       "version_major": 2,
       "version_minor": 0
      },
      "text/plain": [
       "Validation: |          | 0/? [00:00<?, ?it/s]"
      ]
     },
     "metadata": {},
     "output_type": "display_data"
    },
    {
     "data": {
      "application/vnd.jupyter.widget-view+json": {
       "model_id": "42247548267641729f5a1f28d9b58669",
       "version_major": 2,
       "version_minor": 0
      },
      "text/plain": [
       "Validation: |          | 0/? [00:00<?, ?it/s]"
      ]
     },
     "metadata": {},
     "output_type": "display_data"
    },
    {
     "data": {
      "application/vnd.jupyter.widget-view+json": {
       "model_id": "2ed73270e5c546108c4e84fd1f3b2de8",
       "version_major": 2,
       "version_minor": 0
      },
      "text/plain": [
       "Validation: |          | 0/? [00:00<?, ?it/s]"
      ]
     },
     "metadata": {},
     "output_type": "display_data"
    },
    {
     "data": {
      "application/vnd.jupyter.widget-view+json": {
       "model_id": "ef59860fd41b44d3bffd6f61e34548e1",
       "version_major": 2,
       "version_minor": 0
      },
      "text/plain": [
       "Validation: |          | 0/? [00:00<?, ?it/s]"
      ]
     },
     "metadata": {},
     "output_type": "display_data"
    },
    {
     "data": {
      "application/vnd.jupyter.widget-view+json": {
       "model_id": "8006941f5fa9403faad1c1f2b0498de9",
       "version_major": 2,
       "version_minor": 0
      },
      "text/plain": [
       "Validation: |          | 0/? [00:00<?, ?it/s]"
      ]
     },
     "metadata": {},
     "output_type": "display_data"
    },
    {
     "data": {
      "application/vnd.jupyter.widget-view+json": {
       "model_id": "cea8795f9dc84198aa73dde52fd520b5",
       "version_major": 2,
       "version_minor": 0
      },
      "text/plain": [
       "Validation: |          | 0/? [00:00<?, ?it/s]"
      ]
     },
     "metadata": {},
     "output_type": "display_data"
    },
    {
     "data": {
      "application/vnd.jupyter.widget-view+json": {
       "model_id": "0fd495c0a4294eed840fd04334625e75",
       "version_major": 2,
       "version_minor": 0
      },
      "text/plain": [
       "Validation: |          | 0/? [00:00<?, ?it/s]"
      ]
     },
     "metadata": {},
     "output_type": "display_data"
    },
    {
     "data": {
      "application/vnd.jupyter.widget-view+json": {
       "model_id": "43bf50474f4a472ea3f36bc192e63a8a",
       "version_major": 2,
       "version_minor": 0
      },
      "text/plain": [
       "Validation: |          | 0/? [00:00<?, ?it/s]"
      ]
     },
     "metadata": {},
     "output_type": "display_data"
    },
    {
     "data": {
      "application/vnd.jupyter.widget-view+json": {
       "model_id": "4fc0c7e58dae4ff98001688626831838",
       "version_major": 2,
       "version_minor": 0
      },
      "text/plain": [
       "Validation: |          | 0/? [00:00<?, ?it/s]"
      ]
     },
     "metadata": {},
     "output_type": "display_data"
    },
    {
     "data": {
      "application/vnd.jupyter.widget-view+json": {
       "model_id": "6f2c187f7ed34d69b343744f562f1c49",
       "version_major": 2,
       "version_minor": 0
      },
      "text/plain": [
       "Validation: |          | 0/? [00:00<?, ?it/s]"
      ]
     },
     "metadata": {},
     "output_type": "display_data"
    },
    {
     "data": {
      "application/vnd.jupyter.widget-view+json": {
       "model_id": "645f6cb8a2304d29a0d41ab2e38df53a",
       "version_major": 2,
       "version_minor": 0
      },
      "text/plain": [
       "Validation: |          | 0/? [00:00<?, ?it/s]"
      ]
     },
     "metadata": {},
     "output_type": "display_data"
    },
    {
     "data": {
      "application/vnd.jupyter.widget-view+json": {
       "model_id": "d0039e22f2934cb6a7f2c965e168be72",
       "version_major": 2,
       "version_minor": 0
      },
      "text/plain": [
       "Validation: |          | 0/? [00:00<?, ?it/s]"
      ]
     },
     "metadata": {},
     "output_type": "display_data"
    },
    {
     "data": {
      "application/vnd.jupyter.widget-view+json": {
       "model_id": "58aef4e88538414f94b934e033dd7d67",
       "version_major": 2,
       "version_minor": 0
      },
      "text/plain": [
       "Validation: |          | 0/? [00:00<?, ?it/s]"
      ]
     },
     "metadata": {},
     "output_type": "display_data"
    },
    {
     "data": {
      "application/vnd.jupyter.widget-view+json": {
       "model_id": "7d4e69f852764b7d905a2debb6eec981",
       "version_major": 2,
       "version_minor": 0
      },
      "text/plain": [
       "Validation: |          | 0/? [00:00<?, ?it/s]"
      ]
     },
     "metadata": {},
     "output_type": "display_data"
    },
    {
     "data": {
      "application/vnd.jupyter.widget-view+json": {
       "model_id": "6fa73f0550244bfa9ffac47669f721ce",
       "version_major": 2,
       "version_minor": 0
      },
      "text/plain": [
       "Validation: |          | 0/? [00:00<?, ?it/s]"
      ]
     },
     "metadata": {},
     "output_type": "display_data"
    },
    {
     "data": {
      "application/vnd.jupyter.widget-view+json": {
       "model_id": "4caf0f9a64714355a43b9e43767a2db7",
       "version_major": 2,
       "version_minor": 0
      },
      "text/plain": [
       "Validation: |          | 0/? [00:00<?, ?it/s]"
      ]
     },
     "metadata": {},
     "output_type": "display_data"
    },
    {
     "data": {
      "application/vnd.jupyter.widget-view+json": {
       "model_id": "d02ecd7adfa74644b0cf86c873c7cac4",
       "version_major": 2,
       "version_minor": 0
      },
      "text/plain": [
       "Validation: |          | 0/? [00:00<?, ?it/s]"
      ]
     },
     "metadata": {},
     "output_type": "display_data"
    },
    {
     "data": {
      "application/vnd.jupyter.widget-view+json": {
       "model_id": "cd489df8c71e4290bcf7a23fe91e835d",
       "version_major": 2,
       "version_minor": 0
      },
      "text/plain": [
       "Validation: |          | 0/? [00:00<?, ?it/s]"
      ]
     },
     "metadata": {},
     "output_type": "display_data"
    },
    {
     "data": {
      "application/vnd.jupyter.widget-view+json": {
       "model_id": "d5d7fd621f864700ba986ce1013d9955",
       "version_major": 2,
       "version_minor": 0
      },
      "text/plain": [
       "Validation: |          | 0/? [00:00<?, ?it/s]"
      ]
     },
     "metadata": {},
     "output_type": "display_data"
    },
    {
     "data": {
      "application/vnd.jupyter.widget-view+json": {
       "model_id": "28ea543336ef4581851d29a64de010f8",
       "version_major": 2,
       "version_minor": 0
      },
      "text/plain": [
       "Validation: |          | 0/? [00:00<?, ?it/s]"
      ]
     },
     "metadata": {},
     "output_type": "display_data"
    },
    {
     "data": {
      "application/vnd.jupyter.widget-view+json": {
       "model_id": "9b34de4071304656b377deb1c5a0db44",
       "version_major": 2,
       "version_minor": 0
      },
      "text/plain": [
       "Validation: |          | 0/? [00:00<?, ?it/s]"
      ]
     },
     "metadata": {},
     "output_type": "display_data"
    },
    {
     "data": {
      "application/vnd.jupyter.widget-view+json": {
       "model_id": "c8e5d665bde5428c964e201f5d123bf2",
       "version_major": 2,
       "version_minor": 0
      },
      "text/plain": [
       "Validation: |          | 0/? [00:00<?, ?it/s]"
      ]
     },
     "metadata": {},
     "output_type": "display_data"
    },
    {
     "data": {
      "application/vnd.jupyter.widget-view+json": {
       "model_id": "0abeb371fc94426aa8a6fa743addaaa4",
       "version_major": 2,
       "version_minor": 0
      },
      "text/plain": [
       "Validation: |          | 0/? [00:00<?, ?it/s]"
      ]
     },
     "metadata": {},
     "output_type": "display_data"
    },
    {
     "data": {
      "application/vnd.jupyter.widget-view+json": {
       "model_id": "31adf0fcabe9416abba71f5929021537",
       "version_major": 2,
       "version_minor": 0
      },
      "text/plain": [
       "Validation: |          | 0/? [00:00<?, ?it/s]"
      ]
     },
     "metadata": {},
     "output_type": "display_data"
    },
    {
     "name": "stderr",
     "output_type": "stream",
     "text": [
      "Trainer already configured with model summary callbacks: [<class 'pytorch_lightning.callbacks.model_summary.ModelSummary'>]. Skipping setting a default `ModelSummary` callback.\n",
      "GPU available: True (cuda), used: True\n",
      "TPU available: False, using: 0 TPU cores\n",
      "HPU available: False, using: 0 HPUs\n",
      "LOCAL_RANK: 0 - CUDA_VISIBLE_DEVICES: [0]\n"
     ]
    },
    {
     "name": "stdout",
     "output_type": "stream",
     "text": [
      "train_loss: 1.22791\n",
      "valid_loss: 1.05430\n"
     ]
    },
    {
     "data": {
      "application/vnd.jupyter.widget-view+json": {
       "model_id": "15482ca3d43f4ee892e2c4d88b872965",
       "version_major": 2,
       "version_minor": 0
      },
      "text/plain": [
       "Predicting: |          | 0/? [00:00<?, ?it/s]"
      ]
     },
     "metadata": {},
     "output_type": "display_data"
    },
    {
     "name": "stderr",
     "output_type": "stream",
     "text": [
      "/home/kemove/git/neuralforecast/neuralforecast/core.py:210: FutureWarning: In a future version the predictions will have the id as a column. You can set the `NIXTLA_ID_AS_COL` environment variable to adopt the new behavior and to suppress this warning.\n",
      "  warnings.warn(\n"
     ]
    },
    {
     "name": "stdout",
     "output_type": "stream",
     "text": [
      "training MAE:\n"
     ]
    },
    {
     "data": {
      "text/html": [
       "<div>\n",
       "<style scoped>\n",
       "    .dataframe tbody tr th:only-of-type {\n",
       "        vertical-align: middle;\n",
       "    }\n",
       "\n",
       "    .dataframe tbody tr th {\n",
       "        vertical-align: top;\n",
       "    }\n",
       "\n",
       "    .dataframe thead th {\n",
       "        text-align: right;\n",
       "    }\n",
       "</style>\n",
       "<table border=\"1\" class=\"dataframe\">\n",
       "  <thead>\n",
       "    <tr style=\"text-align: right;\">\n",
       "      <th></th>\n",
       "      <th>TimesNet</th>\n",
       "      <th>TimesNet-median</th>\n",
       "      <th>TimesNet-lo-90</th>\n",
       "      <th>TimesNet-lo-80</th>\n",
       "      <th>TimesNet-hi-80</th>\n",
       "      <th>TimesNet-hi-90</th>\n",
       "      <th>best_model</th>\n",
       "    </tr>\n",
       "    <tr>\n",
       "      <th>unique_id</th>\n",
       "      <th></th>\n",
       "      <th></th>\n",
       "      <th></th>\n",
       "      <th></th>\n",
       "      <th></th>\n",
       "      <th></th>\n",
       "      <th></th>\n",
       "    </tr>\n",
       "  </thead>\n",
       "  <tbody>\n",
       "    <tr>\n",
       "      <th>399673</th>\n",
       "      <td>1.449127</td>\n",
       "      <td>1.449597</td>\n",
       "      <td>3.362899</td>\n",
       "      <td>2.741932</td>\n",
       "      <td>2.60229</td>\n",
       "      <td>3.213746</td>\n",
       "      <td>TimesNet</td>\n",
       "    </tr>\n",
       "  </tbody>\n",
       "</table>\n",
       "</div>"
      ],
      "text/plain": [
       "           TimesNet  TimesNet-median  TimesNet-lo-90  TimesNet-lo-80  \\\n",
       "unique_id                                                              \n",
       "399673     1.449127         1.449597        3.362899        2.741932   \n",
       "\n",
       "           TimesNet-hi-80  TimesNet-hi-90 best_model  \n",
       "unique_id                                             \n",
       "399673            2.60229        3.213746   TimesNet  "
      ]
     },
     "metadata": {},
     "output_type": "display_data"
    },
    {
     "name": "stdout",
     "output_type": "stream",
     "text": [
      "validation MAE:\n"
     ]
    },
    {
     "data": {
      "text/html": [
       "<div>\n",
       "<style scoped>\n",
       "    .dataframe tbody tr th:only-of-type {\n",
       "        vertical-align: middle;\n",
       "    }\n",
       "\n",
       "    .dataframe tbody tr th {\n",
       "        vertical-align: top;\n",
       "    }\n",
       "\n",
       "    .dataframe thead th {\n",
       "        text-align: right;\n",
       "    }\n",
       "</style>\n",
       "<table border=\"1\" class=\"dataframe\">\n",
       "  <thead>\n",
       "    <tr style=\"text-align: right;\">\n",
       "      <th></th>\n",
       "      <th>TimesNet</th>\n",
       "      <th>TimesNet-median</th>\n",
       "      <th>TimesNet-lo-90</th>\n",
       "      <th>TimesNet-lo-80</th>\n",
       "      <th>TimesNet-hi-80</th>\n",
       "      <th>TimesNet-hi-90</th>\n",
       "      <th>best_model</th>\n",
       "    </tr>\n",
       "    <tr>\n",
       "      <th>unique_id</th>\n",
       "      <th></th>\n",
       "      <th></th>\n",
       "      <th></th>\n",
       "      <th></th>\n",
       "      <th></th>\n",
       "      <th></th>\n",
       "      <th></th>\n",
       "    </tr>\n",
       "  </thead>\n",
       "  <tbody>\n",
       "    <tr>\n",
       "      <th>399673</th>\n",
       "      <td>0.811064</td>\n",
       "      <td>0.813713</td>\n",
       "      <td>2.272118</td>\n",
       "      <td>1.842059</td>\n",
       "      <td>1.797608</td>\n",
       "      <td>2.21098</td>\n",
       "      <td>TimesNet</td>\n",
       "    </tr>\n",
       "  </tbody>\n",
       "</table>\n",
       "</div>"
      ],
      "text/plain": [
       "           TimesNet  TimesNet-median  TimesNet-lo-90  TimesNet-lo-80  \\\n",
       "unique_id                                                              \n",
       "399673     0.811064         0.813713        2.272118        1.842059   \n",
       "\n",
       "           TimesNet-hi-80  TimesNet-hi-90 best_model  \n",
       "unique_id                                             \n",
       "399673           1.797608         2.21098   TimesNet  "
      ]
     },
     "metadata": {},
     "output_type": "display_data"
    }
   ],
   "source": [
    "train_and_evaluate(model, df_train)"
   ]
  },
  {
   "cell_type": "markdown",
   "metadata": {},
   "source": [
    "## VanillaTransformer (0.3) (F)"
   ]
  },
  {
   "cell_type": "code",
   "execution_count": 30,
   "metadata": {},
   "outputs": [
    {
     "name": "stderr",
     "output_type": "stream",
     "text": [
      "Seed set to 1\n"
     ]
    }
   ],
   "source": [
    "from neuralforecast.models import VanillaTransformer\n",
    "from neuralforecast.losses.pytorch import DistributionLoss\n",
    "\n",
    "model = VanillaTransformer(\n",
    "    h=20,\n",
    "    input_size=48,\n",
    "    hidden_size=16,\n",
    "    conv_hidden_size=32,\n",
    "    n_head=2,\n",
    "    loss=MAE(),\n",
    "    # scaler_type='robust',\n",
    "    learning_rate=1e-3,\n",
    "    max_steps=500,\n",
    "    val_check_steps=5,\n",
    "    early_stop_patience_steps=10,\n",
    "    futr_exog_list=exog,\n",
    "    # hist_exog_list=exog,\n",
    ")"
   ]
  },
  {
   "cell_type": "code",
   "execution_count": 31,
   "metadata": {},
   "outputs": [
    {
     "name": "stderr",
     "output_type": "stream",
     "text": [
      "GPU available: True (cuda), used: True\n",
      "TPU available: False, using: 0 TPU cores\n",
      "HPU available: False, using: 0 HPUs\n",
      "LOCAL_RANK: 0 - CUDA_VISIBLE_DEVICES: [0]\n"
     ]
    },
    {
     "name": "stderr",
     "output_type": "stream",
     "text": [
      "\n",
      "  | Name          | Type          | Params | Mode \n",
      "--------------------------------------------------------\n",
      "0 | loss          | MAE           | 0      | train\n",
      "1 | padder_train  | ConstantPad1d | 0      | train\n",
      "2 | scaler        | TemporalNorm  | 0      | train\n",
      "3 | enc_embedding | DataEmbedding | 224    | train\n",
      "4 | dec_embedding | DataEmbedding | 224    | train\n",
      "5 | encoder       | TransEncoder  | 4.5 K  | train\n",
      "6 | decoder       | TransDecoder  | 3.4 K  | train\n",
      "--------------------------------------------------------\n",
      "8.3 K     Trainable params\n",
      "0         Non-trainable params\n",
      "8.3 K     Total params\n",
      "0.033     Total estimated model params size (MB)\n",
      "71        Modules in train mode\n",
      "0         Modules in eval mode\n"
     ]
    },
    {
     "data": {
      "application/vnd.jupyter.widget-view+json": {
       "model_id": "41602d2f41634b5e952e9fdd24e4b9be",
       "version_major": 2,
       "version_minor": 0
      },
      "text/plain": [
       "Sanity Checking: |          | 0/? [00:00<?, ?it/s]"
      ]
     },
     "metadata": {},
     "output_type": "display_data"
    },
    {
     "data": {
      "application/vnd.jupyter.widget-view+json": {
       "model_id": "0f909c66a20846ab861c37637c09b215",
       "version_major": 2,
       "version_minor": 0
      },
      "text/plain": [
       "Training: |          | 0/? [00:00<?, ?it/s]"
      ]
     },
     "metadata": {},
     "output_type": "display_data"
    },
    {
     "data": {
      "application/vnd.jupyter.widget-view+json": {
       "model_id": "d5b0e221667c4dbd91542006814c2010",
       "version_major": 2,
       "version_minor": 0
      },
      "text/plain": [
       "Validation: |          | 0/? [00:00<?, ?it/s]"
      ]
     },
     "metadata": {},
     "output_type": "display_data"
    },
    {
     "data": {
      "application/vnd.jupyter.widget-view+json": {
       "model_id": "5be67fa851144dffaaf15185c5b58373",
       "version_major": 2,
       "version_minor": 0
      },
      "text/plain": [
       "Validation: |          | 0/? [00:00<?, ?it/s]"
      ]
     },
     "metadata": {},
     "output_type": "display_data"
    },
    {
     "data": {
      "application/vnd.jupyter.widget-view+json": {
       "model_id": "3437c9aa5bcd461c860693375ce4d8bd",
       "version_major": 2,
       "version_minor": 0
      },
      "text/plain": [
       "Validation: |          | 0/? [00:00<?, ?it/s]"
      ]
     },
     "metadata": {},
     "output_type": "display_data"
    },
    {
     "data": {
      "application/vnd.jupyter.widget-view+json": {
       "model_id": "e8b4fb6cd48349f9991e2ee8517905cd",
       "version_major": 2,
       "version_minor": 0
      },
      "text/plain": [
       "Validation: |          | 0/? [00:00<?, ?it/s]"
      ]
     },
     "metadata": {},
     "output_type": "display_data"
    },
    {
     "data": {
      "application/vnd.jupyter.widget-view+json": {
       "model_id": "62958875dd97466d8aef5a6bc92f514d",
       "version_major": 2,
       "version_minor": 0
      },
      "text/plain": [
       "Validation: |          | 0/? [00:00<?, ?it/s]"
      ]
     },
     "metadata": {},
     "output_type": "display_data"
    },
    {
     "data": {
      "application/vnd.jupyter.widget-view+json": {
       "model_id": "fb8eb5471bbc48b0bd131c974fdd528e",
       "version_major": 2,
       "version_minor": 0
      },
      "text/plain": [
       "Validation: |          | 0/? [00:00<?, ?it/s]"
      ]
     },
     "metadata": {},
     "output_type": "display_data"
    },
    {
     "data": {
      "application/vnd.jupyter.widget-view+json": {
       "model_id": "68e3af37591642bbb637927a075a5731",
       "version_major": 2,
       "version_minor": 0
      },
      "text/plain": [
       "Validation: |          | 0/? [00:00<?, ?it/s]"
      ]
     },
     "metadata": {},
     "output_type": "display_data"
    },
    {
     "data": {
      "application/vnd.jupyter.widget-view+json": {
       "model_id": "2570bff4ebc1483f8e4cbb924bb6752c",
       "version_major": 2,
       "version_minor": 0
      },
      "text/plain": [
       "Validation: |          | 0/? [00:00<?, ?it/s]"
      ]
     },
     "metadata": {},
     "output_type": "display_data"
    },
    {
     "data": {
      "application/vnd.jupyter.widget-view+json": {
       "model_id": "f8fd141291cb4e1182e20f37ffb6fdb4",
       "version_major": 2,
       "version_minor": 0
      },
      "text/plain": [
       "Validation: |          | 0/? [00:00<?, ?it/s]"
      ]
     },
     "metadata": {},
     "output_type": "display_data"
    },
    {
     "data": {
      "application/vnd.jupyter.widget-view+json": {
       "model_id": "15dc9eb755fb4e0490985c71710d36af",
       "version_major": 2,
       "version_minor": 0
      },
      "text/plain": [
       "Validation: |          | 0/? [00:00<?, ?it/s]"
      ]
     },
     "metadata": {},
     "output_type": "display_data"
    },
    {
     "data": {
      "application/vnd.jupyter.widget-view+json": {
       "model_id": "fdf4f03ae87847f79b3fcd48bed1f7ea",
       "version_major": 2,
       "version_minor": 0
      },
      "text/plain": [
       "Validation: |          | 0/? [00:00<?, ?it/s]"
      ]
     },
     "metadata": {},
     "output_type": "display_data"
    },
    {
     "data": {
      "application/vnd.jupyter.widget-view+json": {
       "model_id": "cb5bb348b6864a40934b2668a5105c2f",
       "version_major": 2,
       "version_minor": 0
      },
      "text/plain": [
       "Validation: |          | 0/? [00:00<?, ?it/s]"
      ]
     },
     "metadata": {},
     "output_type": "display_data"
    },
    {
     "data": {
      "application/vnd.jupyter.widget-view+json": {
       "model_id": "3f6568ff116d431195224e3f8e22ae72",
       "version_major": 2,
       "version_minor": 0
      },
      "text/plain": [
       "Validation: |          | 0/? [00:00<?, ?it/s]"
      ]
     },
     "metadata": {},
     "output_type": "display_data"
    },
    {
     "data": {
      "application/vnd.jupyter.widget-view+json": {
       "model_id": "9c94b38e50a141eda36424be45be6ed8",
       "version_major": 2,
       "version_minor": 0
      },
      "text/plain": [
       "Validation: |          | 0/? [00:00<?, ?it/s]"
      ]
     },
     "metadata": {},
     "output_type": "display_data"
    },
    {
     "data": {
      "application/vnd.jupyter.widget-view+json": {
       "model_id": "dab533b3cb0c4849a7553cdf05a9b77f",
       "version_major": 2,
       "version_minor": 0
      },
      "text/plain": [
       "Validation: |          | 0/? [00:00<?, ?it/s]"
      ]
     },
     "metadata": {},
     "output_type": "display_data"
    },
    {
     "data": {
      "application/vnd.jupyter.widget-view+json": {
       "model_id": "0a809414ceec4b1bb751f22abf03441a",
       "version_major": 2,
       "version_minor": 0
      },
      "text/plain": [
       "Validation: |          | 0/? [00:00<?, ?it/s]"
      ]
     },
     "metadata": {},
     "output_type": "display_data"
    },
    {
     "data": {
      "application/vnd.jupyter.widget-view+json": {
       "model_id": "3e07789d36ca4202a9850a37aaba7a28",
       "version_major": 2,
       "version_minor": 0
      },
      "text/plain": [
       "Validation: |          | 0/? [00:00<?, ?it/s]"
      ]
     },
     "metadata": {},
     "output_type": "display_data"
    },
    {
     "data": {
      "application/vnd.jupyter.widget-view+json": {
       "model_id": "3301687aa069429996cc1d3932888f32",
       "version_major": 2,
       "version_minor": 0
      },
      "text/plain": [
       "Validation: |          | 0/? [00:00<?, ?it/s]"
      ]
     },
     "metadata": {},
     "output_type": "display_data"
    },
    {
     "data": {
      "application/vnd.jupyter.widget-view+json": {
       "model_id": "e595a9df474741c3833639b1602a41e7",
       "version_major": 2,
       "version_minor": 0
      },
      "text/plain": [
       "Validation: |          | 0/? [00:00<?, ?it/s]"
      ]
     },
     "metadata": {},
     "output_type": "display_data"
    },
    {
     "data": {
      "application/vnd.jupyter.widget-view+json": {
       "model_id": "d558ff6fe36b47299288f6624c6d2ee3",
       "version_major": 2,
       "version_minor": 0
      },
      "text/plain": [
       "Validation: |          | 0/? [00:00<?, ?it/s]"
      ]
     },
     "metadata": {},
     "output_type": "display_data"
    },
    {
     "data": {
      "application/vnd.jupyter.widget-view+json": {
       "model_id": "e0e5f92e9b3349d290d8a9f78bd947fc",
       "version_major": 2,
       "version_minor": 0
      },
      "text/plain": [
       "Validation: |          | 0/? [00:00<?, ?it/s]"
      ]
     },
     "metadata": {},
     "output_type": "display_data"
    },
    {
     "data": {
      "application/vnd.jupyter.widget-view+json": {
       "model_id": "a4a87ab8c2ab452db07b31d053c91015",
       "version_major": 2,
       "version_minor": 0
      },
      "text/plain": [
       "Validation: |          | 0/? [00:00<?, ?it/s]"
      ]
     },
     "metadata": {},
     "output_type": "display_data"
    },
    {
     "data": {
      "application/vnd.jupyter.widget-view+json": {
       "model_id": "19c212e40499402399e0fffc81f633e2",
       "version_major": 2,
       "version_minor": 0
      },
      "text/plain": [
       "Validation: |          | 0/? [00:00<?, ?it/s]"
      ]
     },
     "metadata": {},
     "output_type": "display_data"
    },
    {
     "data": {
      "application/vnd.jupyter.widget-view+json": {
       "model_id": "ab028921f9674aa09ae44ff7d60ac651",
       "version_major": 2,
       "version_minor": 0
      },
      "text/plain": [
       "Validation: |          | 0/? [00:00<?, ?it/s]"
      ]
     },
     "metadata": {},
     "output_type": "display_data"
    },
    {
     "data": {
      "application/vnd.jupyter.widget-view+json": {
       "model_id": "42949fe17c3946c6b1e85c199a7e1c5c",
       "version_major": 2,
       "version_minor": 0
      },
      "text/plain": [
       "Validation: |          | 0/? [00:00<?, ?it/s]"
      ]
     },
     "metadata": {},
     "output_type": "display_data"
    },
    {
     "data": {
      "application/vnd.jupyter.widget-view+json": {
       "model_id": "d33d7f6368524ed99de5f7e26d0e3aec",
       "version_major": 2,
       "version_minor": 0
      },
      "text/plain": [
       "Validation: |          | 0/? [00:00<?, ?it/s]"
      ]
     },
     "metadata": {},
     "output_type": "display_data"
    },
    {
     "data": {
      "application/vnd.jupyter.widget-view+json": {
       "model_id": "593bacb8fa564a24855e82dfd2a472c2",
       "version_major": 2,
       "version_minor": 0
      },
      "text/plain": [
       "Validation: |          | 0/? [00:00<?, ?it/s]"
      ]
     },
     "metadata": {},
     "output_type": "display_data"
    },
    {
     "data": {
      "application/vnd.jupyter.widget-view+json": {
       "model_id": "f4e8d2f464764e41875b5f950dd2687a",
       "version_major": 2,
       "version_minor": 0
      },
      "text/plain": [
       "Validation: |          | 0/? [00:00<?, ?it/s]"
      ]
     },
     "metadata": {},
     "output_type": "display_data"
    },
    {
     "data": {
      "application/vnd.jupyter.widget-view+json": {
       "model_id": "6d3072518adb465c8f95cb5c1ba47fd7",
       "version_major": 2,
       "version_minor": 0
      },
      "text/plain": [
       "Validation: |          | 0/? [00:00<?, ?it/s]"
      ]
     },
     "metadata": {},
     "output_type": "display_data"
    },
    {
     "data": {
      "application/vnd.jupyter.widget-view+json": {
       "model_id": "34ecae98a23e42c2a3b7d33c9b5ce2f5",
       "version_major": 2,
       "version_minor": 0
      },
      "text/plain": [
       "Validation: |          | 0/? [00:00<?, ?it/s]"
      ]
     },
     "metadata": {},
     "output_type": "display_data"
    },
    {
     "data": {
      "application/vnd.jupyter.widget-view+json": {
       "model_id": "8f4772f7503c466f91233ecb3db6bd78",
       "version_major": 2,
       "version_minor": 0
      },
      "text/plain": [
       "Validation: |          | 0/? [00:00<?, ?it/s]"
      ]
     },
     "metadata": {},
     "output_type": "display_data"
    },
    {
     "data": {
      "application/vnd.jupyter.widget-view+json": {
       "model_id": "d38055c442cc48ec86e37ac0ab422fac",
       "version_major": 2,
       "version_minor": 0
      },
      "text/plain": [
       "Validation: |          | 0/? [00:00<?, ?it/s]"
      ]
     },
     "metadata": {},
     "output_type": "display_data"
    },
    {
     "data": {
      "application/vnd.jupyter.widget-view+json": {
       "model_id": "2e52364f41b74d1a91280ec7cdcd717f",
       "version_major": 2,
       "version_minor": 0
      },
      "text/plain": [
       "Validation: |          | 0/? [00:00<?, ?it/s]"
      ]
     },
     "metadata": {},
     "output_type": "display_data"
    },
    {
     "data": {
      "application/vnd.jupyter.widget-view+json": {
       "model_id": "cf505df553d3407c9dd950d01dee6423",
       "version_major": 2,
       "version_minor": 0
      },
      "text/plain": [
       "Validation: |          | 0/? [00:00<?, ?it/s]"
      ]
     },
     "metadata": {},
     "output_type": "display_data"
    },
    {
     "data": {
      "application/vnd.jupyter.widget-view+json": {
       "model_id": "542a6dbbe4fc441bb1045a2b0581bd57",
       "version_major": 2,
       "version_minor": 0
      },
      "text/plain": [
       "Validation: |          | 0/? [00:00<?, ?it/s]"
      ]
     },
     "metadata": {},
     "output_type": "display_data"
    },
    {
     "data": {
      "application/vnd.jupyter.widget-view+json": {
       "model_id": "7e162810760b4f7c9a2d1f5ecb210680",
       "version_major": 2,
       "version_minor": 0
      },
      "text/plain": [
       "Validation: |          | 0/? [00:00<?, ?it/s]"
      ]
     },
     "metadata": {},
     "output_type": "display_data"
    },
    {
     "data": {
      "application/vnd.jupyter.widget-view+json": {
       "model_id": "074cf8b5c74040d68e32454435fc92cd",
       "version_major": 2,
       "version_minor": 0
      },
      "text/plain": [
       "Validation: |          | 0/? [00:00<?, ?it/s]"
      ]
     },
     "metadata": {},
     "output_type": "display_data"
    },
    {
     "data": {
      "application/vnd.jupyter.widget-view+json": {
       "model_id": "8842f411d71f40639f7754ebd8b9dff2",
       "version_major": 2,
       "version_minor": 0
      },
      "text/plain": [
       "Validation: |          | 0/? [00:00<?, ?it/s]"
      ]
     },
     "metadata": {},
     "output_type": "display_data"
    },
    {
     "data": {
      "application/vnd.jupyter.widget-view+json": {
       "model_id": "cb72edc2443740c6ac8e0c7afa9c54ca",
       "version_major": 2,
       "version_minor": 0
      },
      "text/plain": [
       "Validation: |          | 0/? [00:00<?, ?it/s]"
      ]
     },
     "metadata": {},
     "output_type": "display_data"
    },
    {
     "data": {
      "application/vnd.jupyter.widget-view+json": {
       "model_id": "60864d546b1f468ab2a3cf4d294ee141",
       "version_major": 2,
       "version_minor": 0
      },
      "text/plain": [
       "Validation: |          | 0/? [00:00<?, ?it/s]"
      ]
     },
     "metadata": {},
     "output_type": "display_data"
    },
    {
     "data": {
      "application/vnd.jupyter.widget-view+json": {
       "model_id": "3679719e5b414e72a52e89c4698c36d7",
       "version_major": 2,
       "version_minor": 0
      },
      "text/plain": [
       "Validation: |          | 0/? [00:00<?, ?it/s]"
      ]
     },
     "metadata": {},
     "output_type": "display_data"
    },
    {
     "data": {
      "application/vnd.jupyter.widget-view+json": {
       "model_id": "13a1a1acd11f43b0905816b4e99f937c",
       "version_major": 2,
       "version_minor": 0
      },
      "text/plain": [
       "Validation: |          | 0/? [00:00<?, ?it/s]"
      ]
     },
     "metadata": {},
     "output_type": "display_data"
    },
    {
     "data": {
      "application/vnd.jupyter.widget-view+json": {
       "model_id": "21787ff9ff1543799d9ba87291ccd6b0",
       "version_major": 2,
       "version_minor": 0
      },
      "text/plain": [
       "Validation: |          | 0/? [00:00<?, ?it/s]"
      ]
     },
     "metadata": {},
     "output_type": "display_data"
    },
    {
     "data": {
      "application/vnd.jupyter.widget-view+json": {
       "model_id": "c36651a20b3f4fed97d5660d6da0b9c6",
       "version_major": 2,
       "version_minor": 0
      },
      "text/plain": [
       "Validation: |          | 0/? [00:00<?, ?it/s]"
      ]
     },
     "metadata": {},
     "output_type": "display_data"
    },
    {
     "data": {
      "application/vnd.jupyter.widget-view+json": {
       "model_id": "c7f733affbe74fd5972b20e008eb3884",
       "version_major": 2,
       "version_minor": 0
      },
      "text/plain": [
       "Validation: |          | 0/? [00:00<?, ?it/s]"
      ]
     },
     "metadata": {},
     "output_type": "display_data"
    },
    {
     "data": {
      "application/vnd.jupyter.widget-view+json": {
       "model_id": "18d0c838d90c4f468abcfefc92f84136",
       "version_major": 2,
       "version_minor": 0
      },
      "text/plain": [
       "Validation: |          | 0/? [00:00<?, ?it/s]"
      ]
     },
     "metadata": {},
     "output_type": "display_data"
    },
    {
     "data": {
      "application/vnd.jupyter.widget-view+json": {
       "model_id": "ccab5551a67b418dbee297466cde0dfc",
       "version_major": 2,
       "version_minor": 0
      },
      "text/plain": [
       "Validation: |          | 0/? [00:00<?, ?it/s]"
      ]
     },
     "metadata": {},
     "output_type": "display_data"
    },
    {
     "data": {
      "application/vnd.jupyter.widget-view+json": {
       "model_id": "5b24af62799b4c5ca18d9f528431c287",
       "version_major": 2,
       "version_minor": 0
      },
      "text/plain": [
       "Validation: |          | 0/? [00:00<?, ?it/s]"
      ]
     },
     "metadata": {},
     "output_type": "display_data"
    },
    {
     "data": {
      "application/vnd.jupyter.widget-view+json": {
       "model_id": "eab52ec19d6b4bd288205d185f340aad",
       "version_major": 2,
       "version_minor": 0
      },
      "text/plain": [
       "Validation: |          | 0/? [00:00<?, ?it/s]"
      ]
     },
     "metadata": {},
     "output_type": "display_data"
    },
    {
     "data": {
      "application/vnd.jupyter.widget-view+json": {
       "model_id": "e6d4ec4c36e94d47a564c423fd202b7f",
       "version_major": 2,
       "version_minor": 0
      },
      "text/plain": [
       "Validation: |          | 0/? [00:00<?, ?it/s]"
      ]
     },
     "metadata": {},
     "output_type": "display_data"
    },
    {
     "name": "stderr",
     "output_type": "stream",
     "text": [
      "Trainer already configured with model summary callbacks: [<class 'pytorch_lightning.callbacks.model_summary.ModelSummary'>]. Skipping setting a default `ModelSummary` callback.\n",
      "GPU available: True (cuda), used: True\n",
      "TPU available: False, using: 0 TPU cores\n",
      "HPU available: False, using: 0 HPUs\n",
      "LOCAL_RANK: 0 - CUDA_VISIBLE_DEVICES: [0]\n"
     ]
    },
    {
     "name": "stdout",
     "output_type": "stream",
     "text": [
      "train_loss: 0.27959\n",
      "valid_loss: 0.21198\n"
     ]
    },
    {
     "data": {
      "application/vnd.jupyter.widget-view+json": {
       "model_id": "95ff1e02f0a940e68787f0533d6a30ad",
       "version_major": 2,
       "version_minor": 0
      },
      "text/plain": [
       "Predicting: |          | 0/? [00:00<?, ?it/s]"
      ]
     },
     "metadata": {},
     "output_type": "display_data"
    },
    {
     "name": "stderr",
     "output_type": "stream",
     "text": [
      "/home/kemove/git/neuralforecast/neuralforecast/core.py:210: FutureWarning: In a future version the predictions will have the id as a column. You can set the `NIXTLA_ID_AS_COL` environment variable to adopt the new behavior and to suppress this warning.\n",
      "  warnings.warn(\n"
     ]
    },
    {
     "name": "stdout",
     "output_type": "stream",
     "text": [
      "training MAE:\n"
     ]
    },
    {
     "data": {
      "text/html": [
       "<div>\n",
       "<style scoped>\n",
       "    .dataframe tbody tr th:only-of-type {\n",
       "        vertical-align: middle;\n",
       "    }\n",
       "\n",
       "    .dataframe tbody tr th {\n",
       "        vertical-align: top;\n",
       "    }\n",
       "\n",
       "    .dataframe thead th {\n",
       "        text-align: right;\n",
       "    }\n",
       "</style>\n",
       "<table border=\"1\" class=\"dataframe\">\n",
       "  <thead>\n",
       "    <tr style=\"text-align: right;\">\n",
       "      <th></th>\n",
       "      <th>VanillaTransformer</th>\n",
       "      <th>best_model</th>\n",
       "    </tr>\n",
       "    <tr>\n",
       "      <th>unique_id</th>\n",
       "      <th></th>\n",
       "      <th></th>\n",
       "    </tr>\n",
       "  </thead>\n",
       "  <tbody>\n",
       "    <tr>\n",
       "      <th>399673</th>\n",
       "      <td>0.49577</td>\n",
       "      <td>VanillaTransformer</td>\n",
       "    </tr>\n",
       "  </tbody>\n",
       "</table>\n",
       "</div>"
      ],
      "text/plain": [
       "           VanillaTransformer          best_model\n",
       "unique_id                                        \n",
       "399673                0.49577  VanillaTransformer"
      ]
     },
     "metadata": {},
     "output_type": "display_data"
    },
    {
     "name": "stdout",
     "output_type": "stream",
     "text": [
      "validation MAE:\n"
     ]
    },
    {
     "data": {
      "text/html": [
       "<div>\n",
       "<style scoped>\n",
       "    .dataframe tbody tr th:only-of-type {\n",
       "        vertical-align: middle;\n",
       "    }\n",
       "\n",
       "    .dataframe tbody tr th {\n",
       "        vertical-align: top;\n",
       "    }\n",
       "\n",
       "    .dataframe thead th {\n",
       "        text-align: right;\n",
       "    }\n",
       "</style>\n",
       "<table border=\"1\" class=\"dataframe\">\n",
       "  <thead>\n",
       "    <tr style=\"text-align: right;\">\n",
       "      <th></th>\n",
       "      <th>VanillaTransformer</th>\n",
       "      <th>best_model</th>\n",
       "    </tr>\n",
       "    <tr>\n",
       "      <th>unique_id</th>\n",
       "      <th></th>\n",
       "      <th></th>\n",
       "    </tr>\n",
       "  </thead>\n",
       "  <tbody>\n",
       "    <tr>\n",
       "      <th>399673</th>\n",
       "      <td>0.308776</td>\n",
       "      <td>VanillaTransformer</td>\n",
       "    </tr>\n",
       "  </tbody>\n",
       "</table>\n",
       "</div>"
      ],
      "text/plain": [
       "           VanillaTransformer          best_model\n",
       "unique_id                                        \n",
       "399673               0.308776  VanillaTransformer"
      ]
     },
     "metadata": {},
     "output_type": "display_data"
    }
   ],
   "source": [
    "train_and_evaluate(model, df_train)"
   ]
  },
  {
   "cell_type": "markdown",
   "metadata": {},
   "source": [
    "## optional df_train"
   ]
  },
  {
   "cell_type": "code",
   "execution_count": 8,
   "metadata": {},
   "outputs": [
    {
     "data": {
      "text/html": [
       "<div>\n",
       "<style scoped>\n",
       "    .dataframe tbody tr th:only-of-type {\n",
       "        vertical-align: middle;\n",
       "    }\n",
       "\n",
       "    .dataframe tbody tr th {\n",
       "        vertical-align: top;\n",
       "    }\n",
       "\n",
       "    .dataframe thead th {\n",
       "        text-align: right;\n",
       "    }\n",
       "</style>\n",
       "<table border=\"1\" class=\"dataframe\">\n",
       "  <thead>\n",
       "    <tr style=\"text-align: right;\">\n",
       "      <th></th>\n",
       "      <th>unique_id</th>\n",
       "      <th>ds</th>\n",
       "      <th>y</th>\n",
       "      <th>open_preclose_rate</th>\n",
       "    </tr>\n",
       "  </thead>\n",
       "  <tbody>\n",
       "    <tr>\n",
       "      <th>2481</th>\n",
       "      <td>399673</td>\n",
       "      <td>2024-08-27</td>\n",
       "      <td>-0.87590</td>\n",
       "      <td>-0.56837</td>\n",
       "    </tr>\n",
       "    <tr>\n",
       "      <th>2482</th>\n",
       "      <td>399673</td>\n",
       "      <td>2024-08-28</td>\n",
       "      <td>-0.06461</td>\n",
       "      <td>-0.27391</td>\n",
       "    </tr>\n",
       "    <tr>\n",
       "      <th>2483</th>\n",
       "      <td>399673</td>\n",
       "      <td>2024-08-29</td>\n",
       "      <td>0.50911</td>\n",
       "      <td>-1.45864</td>\n",
       "    </tr>\n",
       "    <tr>\n",
       "      <th>2484</th>\n",
       "      <td>399673</td>\n",
       "      <td>2024-08-30</td>\n",
       "      <td>2.85494</td>\n",
       "      <td>0.22245</td>\n",
       "    </tr>\n",
       "    <tr>\n",
       "      <th>2485</th>\n",
       "      <td>399673</td>\n",
       "      <td>2024-09-02</td>\n",
       "      <td>-2.91054</td>\n",
       "      <td>-0.26187</td>\n",
       "    </tr>\n",
       "  </tbody>\n",
       "</table>\n",
       "</div>"
      ],
      "text/plain": [
       "     unique_id         ds        y  open_preclose_rate\n",
       "2481    399673 2024-08-27 -0.87590            -0.56837\n",
       "2482    399673 2024-08-28 -0.06461            -0.27391\n",
       "2483    399673 2024-08-29  0.50911            -1.45864\n",
       "2484    399673 2024-08-30  2.85494             0.22245\n",
       "2485    399673 2024-09-02 -2.91054            -0.26187"
      ]
     },
     "execution_count": 8,
     "metadata": {},
     "output_type": "execute_result"
    }
   ],
   "source": [
    "# handle univariate first, to avoid the following error\n",
    "# 'DataFrame' object has no attribute 'temporal_cols'\n",
    "df_train = df[[\"unique_id\", \"ds\", \"y\", \"open_preclose_rate\"]]\n",
    "df_train.tail()"
   ]
  },
  {
   "cell_type": "markdown",
   "metadata": {},
   "source": [
    "# HierarchicalData"
   ]
  },
  {
   "cell_type": "code",
   "execution_count": 42,
   "metadata": {},
   "outputs": [
    {
     "name": "stdout",
     "output_type": "stream",
     "text": [
      "Collecting datasetsforecast\n",
      "  Downloading datasetsforecast-0.0.8-py3-none-any.whl.metadata (1.1 kB)\n",
      "Requirement already satisfied: aiohttp in /home/kemove/.pyenv/versions/3.12.2/lib/python3.12/site-packages (from datasetsforecast) (3.9.5)\n",
      "Collecting fugue>=0.8.1 (from datasetsforecast)\n",
      "  Downloading fugue-0.9.1-py3-none-any.whl.metadata (18 kB)\n",
      "Collecting numba (from datasetsforecast)\n",
      "  Downloading numba-0.60.0-cp312-cp312-manylinux2014_x86_64.manylinux_2_17_x86_64.whl.metadata (2.7 kB)\n",
      "Requirement already satisfied: numpy in /home/kemove/.pyenv/versions/3.12.2/lib/python3.12/site-packages (from datasetsforecast) (1.26.4)\n",
      "Requirement already satisfied: pandas in /home/kemove/.pyenv/versions/3.12.2/lib/python3.12/site-packages (from datasetsforecast) (2.2.1)\n",
      "Requirement already satisfied: requests in /home/kemove/.pyenv/versions/3.12.2/lib/python3.12/site-packages (from datasetsforecast) (2.32.3)\n",
      "Requirement already satisfied: tqdm in /home/kemove/.pyenv/versions/3.12.2/lib/python3.12/site-packages (from datasetsforecast) (4.66.4)\n",
      "Requirement already satisfied: xlrd>=1.0.0 in /home/kemove/.pyenv/versions/3.12.2/lib/python3.12/site-packages (from datasetsforecast) (2.0.1)\n",
      "Collecting triad>=0.9.7 (from fugue>=0.8.1->datasetsforecast)\n",
      "  Downloading triad-0.9.8-py3-none-any.whl.metadata (6.3 kB)\n",
      "Collecting adagio>=0.2.4 (from fugue>=0.8.1->datasetsforecast)\n",
      "  Downloading adagio-0.2.6-py3-none-any.whl.metadata (1.8 kB)\n",
      "Requirement already satisfied: aiosignal>=1.1.2 in /home/kemove/.pyenv/versions/3.12.2/lib/python3.12/site-packages (from aiohttp->datasetsforecast) (1.3.1)\n",
      "Requirement already satisfied: attrs>=17.3.0 in /home/kemove/.pyenv/versions/3.12.2/lib/python3.12/site-packages (from aiohttp->datasetsforecast) (23.2.0)\n",
      "Requirement already satisfied: frozenlist>=1.1.1 in /home/kemove/.pyenv/versions/3.12.2/lib/python3.12/site-packages (from aiohttp->datasetsforecast) (1.4.1)\n",
      "Requirement already satisfied: multidict<7.0,>=4.5 in /home/kemove/.pyenv/versions/3.12.2/lib/python3.12/site-packages (from aiohttp->datasetsforecast) (6.0.5)\n",
      "Requirement already satisfied: yarl<2.0,>=1.0 in /home/kemove/.pyenv/versions/3.12.2/lib/python3.12/site-packages (from aiohttp->datasetsforecast) (1.9.4)\n",
      "Collecting llvmlite<0.44,>=0.43.0dev0 (from numba->datasetsforecast)\n",
      "  Downloading llvmlite-0.43.0-cp312-cp312-manylinux_2_17_x86_64.manylinux2014_x86_64.whl.metadata (4.8 kB)\n",
      "Requirement already satisfied: python-dateutil>=2.8.2 in /home/kemove/.pyenv/versions/3.12.2/lib/python3.12/site-packages (from pandas->datasetsforecast) (2.9.0.post0)\n",
      "Requirement already satisfied: pytz>=2020.1 in /home/kemove/.pyenv/versions/3.12.2/lib/python3.12/site-packages (from pandas->datasetsforecast) (2024.1)\n",
      "Requirement already satisfied: tzdata>=2022.7 in /home/kemove/.pyenv/versions/3.12.2/lib/python3.12/site-packages (from pandas->datasetsforecast) (2024.1)\n",
      "Requirement already satisfied: charset-normalizer<4,>=2 in /home/kemove/.pyenv/versions/3.12.2/lib/python3.12/site-packages (from requests->datasetsforecast) (3.3.2)\n",
      "Requirement already satisfied: idna<4,>=2.5 in /home/kemove/.pyenv/versions/3.12.2/lib/python3.12/site-packages (from requests->datasetsforecast) (3.7)\n",
      "Requirement already satisfied: urllib3<3,>=1.21.1 in /home/kemove/.pyenv/versions/3.12.2/lib/python3.12/site-packages (from requests->datasetsforecast) (2.2.1)\n",
      "Requirement already satisfied: certifi>=2017.4.17 in /home/kemove/.pyenv/versions/3.12.2/lib/python3.12/site-packages (from requests->datasetsforecast) (2024.2.2)\n",
      "Requirement already satisfied: six>=1.5 in /home/kemove/.pyenv/versions/3.12.2/lib/python3.12/site-packages (from python-dateutil>=2.8.2->pandas->datasetsforecast) (1.16.0)\n",
      "Requirement already satisfied: pyarrow>=6.0.1 in /home/kemove/.pyenv/versions/3.12.2/lib/python3.12/site-packages (from triad>=0.9.7->fugue>=0.8.1->datasetsforecast) (16.1.0)\n",
      "Requirement already satisfied: fsspec>=2022.5.0 in /home/kemove/.pyenv/versions/3.12.2/lib/python3.12/site-packages (from triad>=0.9.7->fugue>=0.8.1->datasetsforecast) (2024.5.0)\n",
      "Collecting fs (from triad>=0.9.7->fugue>=0.8.1->datasetsforecast)\n",
      "  Downloading fs-2.4.16-py2.py3-none-any.whl.metadata (6.3 kB)\n",
      "Collecting appdirs~=1.4.3 (from fs->triad>=0.9.7->fugue>=0.8.1->datasetsforecast)\n",
      "  Downloading appdirs-1.4.4-py2.py3-none-any.whl.metadata (9.0 kB)\n",
      "Requirement already satisfied: setuptools in /home/kemove/.pyenv/versions/3.12.2/lib/python3.12/site-packages (from fs->triad>=0.9.7->fugue>=0.8.1->datasetsforecast) (73.0.1)\n",
      "Downloading datasetsforecast-0.0.8-py3-none-any.whl (27 kB)\n",
      "Downloading fugue-0.9.1-py3-none-any.whl (278 kB)\n",
      "Downloading numba-0.60.0-cp312-cp312-manylinux2014_x86_64.manylinux_2_17_x86_64.whl (3.8 MB)\n",
      "\u001b[2K   \u001b[90m━━━━━━━━━━━━━━━━━━━━━━━━━━━━━━━━━━━━━━━━\u001b[0m \u001b[32m3.8/3.8 MB\u001b[0m \u001b[31m18.9 kB/s\u001b[0m eta \u001b[36m0:00:00\u001b[0m0:10\u001b[0m:00:20\u001b[0m\n",
      "\u001b[?25hDownloading adagio-0.2.6-py3-none-any.whl (19 kB)\n",
      "Downloading llvmlite-0.43.0-cp312-cp312-manylinux_2_17_x86_64.manylinux2014_x86_64.whl (43.9 MB)\n",
      "\u001b[2K   \u001b[91m━━━━━━━━━━━━━━━━━━━━━━━━━━━━━━━━━━━━━━\u001b[0m\u001b[91m╸\u001b[0m\u001b[90m━\u001b[0m \u001b[32m42.7/43.9 MB\u001b[0m \u001b[31m9.3 kB/s\u001b[0m eta \u001b[36m0:02:03\u001b[0mmInstalling collected packages: appdirs, llvmlite, fs, numba, triad, adagio, fugue, datasetsforecast\n",
      "Successfully installed adagio-0.2.6 appdirs-1.4.4 datasetsforecast-0.0.8 fs-2.4.16 fugue-0.9.1 llvmlite-0.43.0 numba-0.60.0 triad-0.9.8\n"
     ]
    }
   ],
   "source": [
    "!pip install datasetsforecast"
   ]
  },
  {
   "cell_type": "code",
   "execution_count": 43,
   "metadata": {},
   "outputs": [
    {
     "name": "stderr",
     "output_type": "stream",
     "text": [
      "100%|██████████| 1.30M/1.30M [00:01<00:00, 969kiB/s] \n",
      "INFO:datasetsforecast.utils:Successfully downloaded datasets.zip, 1297274, bytes.\n",
      "INFO:datasetsforecast.utils:Decompressing zip file...\n",
      "INFO:datasetsforecast.utils:Successfully decompressed data/hierarchical/datasets.zip\n"
     ]
    }
   ],
   "source": [
    "from datasetsforecast.hierarchical import HierarchicalData\n",
    "\n",
    "Y_df, S_df, tags = HierarchicalData.load(\"./data\", \"TourismLarge\")"
   ]
  },
  {
   "cell_type": "code",
   "execution_count": 47,
   "metadata": {},
   "outputs": [
    {
     "data": {
      "text/plain": [
       "(126540, 3)"
      ]
     },
     "execution_count": 47,
     "metadata": {},
     "output_type": "execute_result"
    }
   ],
   "source": [
    "Y_df.shape"
   ]
  },
  {
   "cell_type": "code",
   "execution_count": 53,
   "metadata": {},
   "outputs": [
    {
     "data": {
      "text/plain": [
       "(555, 304)"
      ]
     },
     "execution_count": 53,
     "metadata": {},
     "output_type": "execute_result"
    }
   ],
   "source": [
    "S_df.shape"
   ]
  },
  {
   "cell_type": "code",
   "execution_count": 55,
   "metadata": {},
   "outputs": [
    {
     "data": {
      "text/plain": [
       "['TotalAll', 'AAll', 'BAll', 'CAll', 'DAll', ..., 'GBCOth', 'GBDHol', 'GBDVis', 'GBDBus', 'GBDOth']\n",
       "Length: 555\n",
       "Categories (555, object): ['TotalAll', 'AAll', 'BAll', 'CAll', ..., 'GBDHol', 'GBDVis', 'GBDBus', 'GBDOth']"
      ]
     },
     "execution_count": 55,
     "metadata": {},
     "output_type": "execute_result"
    }
   ],
   "source": [
    "Y_df[\"unique_id\"].unique()"
   ]
  },
  {
   "cell_type": "code",
   "execution_count": 54,
   "metadata": {},
   "outputs": [
    {
     "data": {
      "text/plain": [
       "Index(['TotalAll', 'AAll', 'BAll', 'CAll', 'DAll', 'EAll', 'FAll', 'GAll',\n",
       "       'AAAll', 'ABAll',\n",
       "       ...\n",
       "       'GBBBus', 'GBBOth', 'GBCHol', 'GBCVis', 'GBCBus', 'GBCOth', 'GBDHol',\n",
       "       'GBDVis', 'GBDBus', 'GBDOth'],\n",
       "      dtype='object', length=555)"
      ]
     },
     "execution_count": 54,
     "metadata": {},
     "output_type": "execute_result"
    }
   ],
   "source": [
    "S_df.index"
   ]
  },
  {
   "cell_type": "code",
   "execution_count": 56,
   "metadata": {},
   "outputs": [
    {
     "data": {
      "text/html": [
       "<div>\n",
       "<style scoped>\n",
       "    .dataframe tbody tr th:only-of-type {\n",
       "        vertical-align: middle;\n",
       "    }\n",
       "\n",
       "    .dataframe tbody tr th {\n",
       "        vertical-align: top;\n",
       "    }\n",
       "\n",
       "    .dataframe thead th {\n",
       "        text-align: right;\n",
       "    }\n",
       "</style>\n",
       "<table border=\"1\" class=\"dataframe\">\n",
       "  <thead>\n",
       "    <tr style=\"text-align: right;\">\n",
       "      <th></th>\n",
       "      <th>AAAHol</th>\n",
       "      <th>AAAVis</th>\n",
       "      <th>AAABus</th>\n",
       "      <th>AAAOth</th>\n",
       "      <th>AABHol</th>\n",
       "      <th>AABVis</th>\n",
       "      <th>AABBus</th>\n",
       "      <th>AABOth</th>\n",
       "      <th>ABAHol</th>\n",
       "      <th>ABAVis</th>\n",
       "      <th>...</th>\n",
       "      <th>GBBBus</th>\n",
       "      <th>GBBOth</th>\n",
       "      <th>GBCHol</th>\n",
       "      <th>GBCVis</th>\n",
       "      <th>GBCBus</th>\n",
       "      <th>GBCOth</th>\n",
       "      <th>GBDHol</th>\n",
       "      <th>GBDVis</th>\n",
       "      <th>GBDBus</th>\n",
       "      <th>GBDOth</th>\n",
       "    </tr>\n",
       "  </thead>\n",
       "  <tbody>\n",
       "    <tr>\n",
       "      <th>TotalAll</th>\n",
       "      <td>1.0</td>\n",
       "      <td>1.0</td>\n",
       "      <td>1.0</td>\n",
       "      <td>1.0</td>\n",
       "      <td>1.0</td>\n",
       "      <td>1.0</td>\n",
       "      <td>1.0</td>\n",
       "      <td>1.0</td>\n",
       "      <td>1.0</td>\n",
       "      <td>1.0</td>\n",
       "      <td>...</td>\n",
       "      <td>1.0</td>\n",
       "      <td>1.0</td>\n",
       "      <td>1.0</td>\n",
       "      <td>1.0</td>\n",
       "      <td>1.0</td>\n",
       "      <td>1.0</td>\n",
       "      <td>1.0</td>\n",
       "      <td>1.0</td>\n",
       "      <td>1.0</td>\n",
       "      <td>1.0</td>\n",
       "    </tr>\n",
       "    <tr>\n",
       "      <th>AAll</th>\n",
       "      <td>1.0</td>\n",
       "      <td>1.0</td>\n",
       "      <td>1.0</td>\n",
       "      <td>1.0</td>\n",
       "      <td>1.0</td>\n",
       "      <td>1.0</td>\n",
       "      <td>1.0</td>\n",
       "      <td>1.0</td>\n",
       "      <td>1.0</td>\n",
       "      <td>1.0</td>\n",
       "      <td>...</td>\n",
       "      <td>0.0</td>\n",
       "      <td>0.0</td>\n",
       "      <td>0.0</td>\n",
       "      <td>0.0</td>\n",
       "      <td>0.0</td>\n",
       "      <td>0.0</td>\n",
       "      <td>0.0</td>\n",
       "      <td>0.0</td>\n",
       "      <td>0.0</td>\n",
       "      <td>0.0</td>\n",
       "    </tr>\n",
       "    <tr>\n",
       "      <th>BAll</th>\n",
       "      <td>0.0</td>\n",
       "      <td>0.0</td>\n",
       "      <td>0.0</td>\n",
       "      <td>0.0</td>\n",
       "      <td>0.0</td>\n",
       "      <td>0.0</td>\n",
       "      <td>0.0</td>\n",
       "      <td>0.0</td>\n",
       "      <td>0.0</td>\n",
       "      <td>0.0</td>\n",
       "      <td>...</td>\n",
       "      <td>0.0</td>\n",
       "      <td>0.0</td>\n",
       "      <td>0.0</td>\n",
       "      <td>0.0</td>\n",
       "      <td>0.0</td>\n",
       "      <td>0.0</td>\n",
       "      <td>0.0</td>\n",
       "      <td>0.0</td>\n",
       "      <td>0.0</td>\n",
       "      <td>0.0</td>\n",
       "    </tr>\n",
       "    <tr>\n",
       "      <th>CAll</th>\n",
       "      <td>0.0</td>\n",
       "      <td>0.0</td>\n",
       "      <td>0.0</td>\n",
       "      <td>0.0</td>\n",
       "      <td>0.0</td>\n",
       "      <td>0.0</td>\n",
       "      <td>0.0</td>\n",
       "      <td>0.0</td>\n",
       "      <td>0.0</td>\n",
       "      <td>0.0</td>\n",
       "      <td>...</td>\n",
       "      <td>0.0</td>\n",
       "      <td>0.0</td>\n",
       "      <td>0.0</td>\n",
       "      <td>0.0</td>\n",
       "      <td>0.0</td>\n",
       "      <td>0.0</td>\n",
       "      <td>0.0</td>\n",
       "      <td>0.0</td>\n",
       "      <td>0.0</td>\n",
       "      <td>0.0</td>\n",
       "    </tr>\n",
       "    <tr>\n",
       "      <th>DAll</th>\n",
       "      <td>0.0</td>\n",
       "      <td>0.0</td>\n",
       "      <td>0.0</td>\n",
       "      <td>0.0</td>\n",
       "      <td>0.0</td>\n",
       "      <td>0.0</td>\n",
       "      <td>0.0</td>\n",
       "      <td>0.0</td>\n",
       "      <td>0.0</td>\n",
       "      <td>0.0</td>\n",
       "      <td>...</td>\n",
       "      <td>0.0</td>\n",
       "      <td>0.0</td>\n",
       "      <td>0.0</td>\n",
       "      <td>0.0</td>\n",
       "      <td>0.0</td>\n",
       "      <td>0.0</td>\n",
       "      <td>0.0</td>\n",
       "      <td>0.0</td>\n",
       "      <td>0.0</td>\n",
       "      <td>0.0</td>\n",
       "    </tr>\n",
       "    <tr>\n",
       "      <th>...</th>\n",
       "      <td>...</td>\n",
       "      <td>...</td>\n",
       "      <td>...</td>\n",
       "      <td>...</td>\n",
       "      <td>...</td>\n",
       "      <td>...</td>\n",
       "      <td>...</td>\n",
       "      <td>...</td>\n",
       "      <td>...</td>\n",
       "      <td>...</td>\n",
       "      <td>...</td>\n",
       "      <td>...</td>\n",
       "      <td>...</td>\n",
       "      <td>...</td>\n",
       "      <td>...</td>\n",
       "      <td>...</td>\n",
       "      <td>...</td>\n",
       "      <td>...</td>\n",
       "      <td>...</td>\n",
       "      <td>...</td>\n",
       "      <td>...</td>\n",
       "    </tr>\n",
       "    <tr>\n",
       "      <th>GBCOth</th>\n",
       "      <td>0.0</td>\n",
       "      <td>0.0</td>\n",
       "      <td>0.0</td>\n",
       "      <td>0.0</td>\n",
       "      <td>0.0</td>\n",
       "      <td>0.0</td>\n",
       "      <td>0.0</td>\n",
       "      <td>0.0</td>\n",
       "      <td>0.0</td>\n",
       "      <td>0.0</td>\n",
       "      <td>...</td>\n",
       "      <td>0.0</td>\n",
       "      <td>0.0</td>\n",
       "      <td>0.0</td>\n",
       "      <td>0.0</td>\n",
       "      <td>0.0</td>\n",
       "      <td>1.0</td>\n",
       "      <td>0.0</td>\n",
       "      <td>0.0</td>\n",
       "      <td>0.0</td>\n",
       "      <td>0.0</td>\n",
       "    </tr>\n",
       "    <tr>\n",
       "      <th>GBDHol</th>\n",
       "      <td>0.0</td>\n",
       "      <td>0.0</td>\n",
       "      <td>0.0</td>\n",
       "      <td>0.0</td>\n",
       "      <td>0.0</td>\n",
       "      <td>0.0</td>\n",
       "      <td>0.0</td>\n",
       "      <td>0.0</td>\n",
       "      <td>0.0</td>\n",
       "      <td>0.0</td>\n",
       "      <td>...</td>\n",
       "      <td>0.0</td>\n",
       "      <td>0.0</td>\n",
       "      <td>0.0</td>\n",
       "      <td>0.0</td>\n",
       "      <td>0.0</td>\n",
       "      <td>0.0</td>\n",
       "      <td>1.0</td>\n",
       "      <td>0.0</td>\n",
       "      <td>0.0</td>\n",
       "      <td>0.0</td>\n",
       "    </tr>\n",
       "    <tr>\n",
       "      <th>GBDVis</th>\n",
       "      <td>0.0</td>\n",
       "      <td>0.0</td>\n",
       "      <td>0.0</td>\n",
       "      <td>0.0</td>\n",
       "      <td>0.0</td>\n",
       "      <td>0.0</td>\n",
       "      <td>0.0</td>\n",
       "      <td>0.0</td>\n",
       "      <td>0.0</td>\n",
       "      <td>0.0</td>\n",
       "      <td>...</td>\n",
       "      <td>0.0</td>\n",
       "      <td>0.0</td>\n",
       "      <td>0.0</td>\n",
       "      <td>0.0</td>\n",
       "      <td>0.0</td>\n",
       "      <td>0.0</td>\n",
       "      <td>0.0</td>\n",
       "      <td>1.0</td>\n",
       "      <td>0.0</td>\n",
       "      <td>0.0</td>\n",
       "    </tr>\n",
       "    <tr>\n",
       "      <th>GBDBus</th>\n",
       "      <td>0.0</td>\n",
       "      <td>0.0</td>\n",
       "      <td>0.0</td>\n",
       "      <td>0.0</td>\n",
       "      <td>0.0</td>\n",
       "      <td>0.0</td>\n",
       "      <td>0.0</td>\n",
       "      <td>0.0</td>\n",
       "      <td>0.0</td>\n",
       "      <td>0.0</td>\n",
       "      <td>...</td>\n",
       "      <td>0.0</td>\n",
       "      <td>0.0</td>\n",
       "      <td>0.0</td>\n",
       "      <td>0.0</td>\n",
       "      <td>0.0</td>\n",
       "      <td>0.0</td>\n",
       "      <td>0.0</td>\n",
       "      <td>0.0</td>\n",
       "      <td>1.0</td>\n",
       "      <td>0.0</td>\n",
       "    </tr>\n",
       "    <tr>\n",
       "      <th>GBDOth</th>\n",
       "      <td>0.0</td>\n",
       "      <td>0.0</td>\n",
       "      <td>0.0</td>\n",
       "      <td>0.0</td>\n",
       "      <td>0.0</td>\n",
       "      <td>0.0</td>\n",
       "      <td>0.0</td>\n",
       "      <td>0.0</td>\n",
       "      <td>0.0</td>\n",
       "      <td>0.0</td>\n",
       "      <td>...</td>\n",
       "      <td>0.0</td>\n",
       "      <td>0.0</td>\n",
       "      <td>0.0</td>\n",
       "      <td>0.0</td>\n",
       "      <td>0.0</td>\n",
       "      <td>0.0</td>\n",
       "      <td>0.0</td>\n",
       "      <td>0.0</td>\n",
       "      <td>0.0</td>\n",
       "      <td>1.0</td>\n",
       "    </tr>\n",
       "  </tbody>\n",
       "</table>\n",
       "<p>555 rows × 304 columns</p>\n",
       "</div>"
      ],
      "text/plain": [
       "          AAAHol  AAAVis  AAABus  AAAOth  AABHol  AABVis  AABBus  AABOth  \\\n",
       "TotalAll     1.0     1.0     1.0     1.0     1.0     1.0     1.0     1.0   \n",
       "AAll         1.0     1.0     1.0     1.0     1.0     1.0     1.0     1.0   \n",
       "BAll         0.0     0.0     0.0     0.0     0.0     0.0     0.0     0.0   \n",
       "CAll         0.0     0.0     0.0     0.0     0.0     0.0     0.0     0.0   \n",
       "DAll         0.0     0.0     0.0     0.0     0.0     0.0     0.0     0.0   \n",
       "...          ...     ...     ...     ...     ...     ...     ...     ...   \n",
       "GBCOth       0.0     0.0     0.0     0.0     0.0     0.0     0.0     0.0   \n",
       "GBDHol       0.0     0.0     0.0     0.0     0.0     0.0     0.0     0.0   \n",
       "GBDVis       0.0     0.0     0.0     0.0     0.0     0.0     0.0     0.0   \n",
       "GBDBus       0.0     0.0     0.0     0.0     0.0     0.0     0.0     0.0   \n",
       "GBDOth       0.0     0.0     0.0     0.0     0.0     0.0     0.0     0.0   \n",
       "\n",
       "          ABAHol  ABAVis  ...  GBBBus  GBBOth  GBCHol  GBCVis  GBCBus  GBCOth  \\\n",
       "TotalAll     1.0     1.0  ...     1.0     1.0     1.0     1.0     1.0     1.0   \n",
       "AAll         1.0     1.0  ...     0.0     0.0     0.0     0.0     0.0     0.0   \n",
       "BAll         0.0     0.0  ...     0.0     0.0     0.0     0.0     0.0     0.0   \n",
       "CAll         0.0     0.0  ...     0.0     0.0     0.0     0.0     0.0     0.0   \n",
       "DAll         0.0     0.0  ...     0.0     0.0     0.0     0.0     0.0     0.0   \n",
       "...          ...     ...  ...     ...     ...     ...     ...     ...     ...   \n",
       "GBCOth       0.0     0.0  ...     0.0     0.0     0.0     0.0     0.0     1.0   \n",
       "GBDHol       0.0     0.0  ...     0.0     0.0     0.0     0.0     0.0     0.0   \n",
       "GBDVis       0.0     0.0  ...     0.0     0.0     0.0     0.0     0.0     0.0   \n",
       "GBDBus       0.0     0.0  ...     0.0     0.0     0.0     0.0     0.0     0.0   \n",
       "GBDOth       0.0     0.0  ...     0.0     0.0     0.0     0.0     0.0     0.0   \n",
       "\n",
       "          GBDHol  GBDVis  GBDBus  GBDOth  \n",
       "TotalAll     1.0     1.0     1.0     1.0  \n",
       "AAll         0.0     0.0     0.0     0.0  \n",
       "BAll         0.0     0.0     0.0     0.0  \n",
       "CAll         0.0     0.0     0.0     0.0  \n",
       "DAll         0.0     0.0     0.0     0.0  \n",
       "...          ...     ...     ...     ...  \n",
       "GBCOth       0.0     0.0     0.0     0.0  \n",
       "GBDHol       1.0     0.0     0.0     0.0  \n",
       "GBDVis       0.0     1.0     0.0     0.0  \n",
       "GBDBus       0.0     0.0     1.0     0.0  \n",
       "GBDOth       0.0     0.0     0.0     1.0  \n",
       "\n",
       "[555 rows x 304 columns]"
      ]
     },
     "execution_count": 56,
     "metadata": {},
     "output_type": "execute_result"
    }
   ],
   "source": [
    "S_df"
   ]
  },
  {
   "cell_type": "code",
   "execution_count": 58,
   "metadata": {},
   "outputs": [
    {
     "data": {
      "text/plain": [
       "Index(['AAAHol', 'AAAVis', 'AAABus', 'AAAOth', 'AABHol', 'AABVis', 'AABBus',\n",
       "       'AABOth', 'ABAHol', 'ABAVis',\n",
       "       ...\n",
       "       'GBBBus', 'GBBOth', 'GBCHol', 'GBCVis', 'GBCBus', 'GBCOth', 'GBDHol',\n",
       "       'GBDVis', 'GBDBus', 'GBDOth'],\n",
       "      dtype='object', length=304)"
      ]
     },
     "execution_count": 58,
     "metadata": {},
     "output_type": "execute_result"
    }
   ],
   "source": [
    "S_df.columns"
   ]
  },
  {
   "cell_type": "code",
   "execution_count": 57,
   "metadata": {},
   "outputs": [
    {
     "data": {
      "text/html": [
       "<div>\n",
       "<style scoped>\n",
       "    .dataframe tbody tr th:only-of-type {\n",
       "        vertical-align: middle;\n",
       "    }\n",
       "\n",
       "    .dataframe tbody tr th {\n",
       "        vertical-align: top;\n",
       "    }\n",
       "\n",
       "    .dataframe thead th {\n",
       "        text-align: right;\n",
       "    }\n",
       "</style>\n",
       "<table border=\"1\" class=\"dataframe\">\n",
       "  <thead>\n",
       "    <tr style=\"text-align: right;\">\n",
       "      <th></th>\n",
       "      <th>unique_id</th>\n",
       "      <th>ds</th>\n",
       "      <th>y</th>\n",
       "    </tr>\n",
       "  </thead>\n",
       "  <tbody>\n",
       "    <tr>\n",
       "      <th>0</th>\n",
       "      <td>TotalAll</td>\n",
       "      <td>1998-01-01</td>\n",
       "      <td>45151.071280</td>\n",
       "    </tr>\n",
       "    <tr>\n",
       "      <th>1</th>\n",
       "      <td>TotalAll</td>\n",
       "      <td>1998-02-01</td>\n",
       "      <td>17294.699551</td>\n",
       "    </tr>\n",
       "    <tr>\n",
       "      <th>2</th>\n",
       "      <td>TotalAll</td>\n",
       "      <td>1998-03-01</td>\n",
       "      <td>20725.114184</td>\n",
       "    </tr>\n",
       "    <tr>\n",
       "      <th>3</th>\n",
       "      <td>TotalAll</td>\n",
       "      <td>1998-04-01</td>\n",
       "      <td>25388.612353</td>\n",
       "    </tr>\n",
       "    <tr>\n",
       "      <th>4</th>\n",
       "      <td>TotalAll</td>\n",
       "      <td>1998-05-01</td>\n",
       "      <td>20330.035211</td>\n",
       "    </tr>\n",
       "    <tr>\n",
       "      <th>...</th>\n",
       "      <td>...</td>\n",
       "      <td>...</td>\n",
       "      <td>...</td>\n",
       "    </tr>\n",
       "    <tr>\n",
       "      <th>126535</th>\n",
       "      <td>GBDOth</td>\n",
       "      <td>2016-08-01</td>\n",
       "      <td>0.000000</td>\n",
       "    </tr>\n",
       "    <tr>\n",
       "      <th>126536</th>\n",
       "      <td>GBDOth</td>\n",
       "      <td>2016-09-01</td>\n",
       "      <td>0.000000</td>\n",
       "    </tr>\n",
       "    <tr>\n",
       "      <th>126537</th>\n",
       "      <td>GBDOth</td>\n",
       "      <td>2016-10-01</td>\n",
       "      <td>0.000000</td>\n",
       "    </tr>\n",
       "    <tr>\n",
       "      <th>126538</th>\n",
       "      <td>GBDOth</td>\n",
       "      <td>2016-11-01</td>\n",
       "      <td>0.000000</td>\n",
       "    </tr>\n",
       "    <tr>\n",
       "      <th>126539</th>\n",
       "      <td>GBDOth</td>\n",
       "      <td>2016-12-01</td>\n",
       "      <td>0.000000</td>\n",
       "    </tr>\n",
       "  </tbody>\n",
       "</table>\n",
       "<p>126540 rows × 3 columns</p>\n",
       "</div>"
      ],
      "text/plain": [
       "       unique_id         ds             y\n",
       "0       TotalAll 1998-01-01  45151.071280\n",
       "1       TotalAll 1998-02-01  17294.699551\n",
       "2       TotalAll 1998-03-01  20725.114184\n",
       "3       TotalAll 1998-04-01  25388.612353\n",
       "4       TotalAll 1998-05-01  20330.035211\n",
       "...          ...        ...           ...\n",
       "126535    GBDOth 2016-08-01      0.000000\n",
       "126536    GBDOth 2016-09-01      0.000000\n",
       "126537    GBDOth 2016-10-01      0.000000\n",
       "126538    GBDOth 2016-11-01      0.000000\n",
       "126539    GBDOth 2016-12-01      0.000000\n",
       "\n",
       "[126540 rows x 3 columns]"
      ]
     },
     "execution_count": 57,
     "metadata": {},
     "output_type": "execute_result"
    }
   ],
   "source": [
    "Y_df"
   ]
  },
  {
   "cell_type": "code",
   "execution_count": 48,
   "metadata": {},
   "outputs": [],
   "source": [
    "def sort_df_hier(Y_df, S_df):\n",
    "    # NeuralForecast core, sorts unique_id lexicographically\n",
    "    # by default, this class matches S_df and Y_hat_df order.\n",
    "    Y_df.unique_id = Y_df.unique_id.astype(\"category\")\n",
    "    Y_df.unique_id = Y_df.unique_id.cat.set_categories(S_df.index)\n",
    "    Y_df = Y_df.sort_values(by=[\"unique_id\", \"ds\"])\n",
    "    return Y_df\n",
    "\n",
    "\n",
    "Y_df[\"ds\"] = pd.to_datetime(Y_df[\"ds\"])\n",
    "Y_df = sort_df_hier(Y_df, S_df)\n",
    "level = [80, 90]"
   ]
  },
  {
   "cell_type": "code",
   "execution_count": 49,
   "metadata": {},
   "outputs": [
    {
     "data": {
      "text/html": [
       "<div>\n",
       "<style scoped>\n",
       "    .dataframe tbody tr th:only-of-type {\n",
       "        vertical-align: middle;\n",
       "    }\n",
       "\n",
       "    .dataframe tbody tr th {\n",
       "        vertical-align: top;\n",
       "    }\n",
       "\n",
       "    .dataframe thead th {\n",
       "        text-align: right;\n",
       "    }\n",
       "</style>\n",
       "<table border=\"1\" class=\"dataframe\">\n",
       "  <thead>\n",
       "    <tr style=\"text-align: right;\">\n",
       "      <th></th>\n",
       "      <th>unique_id</th>\n",
       "      <th>ds</th>\n",
       "      <th>y</th>\n",
       "    </tr>\n",
       "  </thead>\n",
       "  <tbody>\n",
       "    <tr>\n",
       "      <th>0</th>\n",
       "      <td>TotalAll</td>\n",
       "      <td>1998-01-01</td>\n",
       "      <td>45151.071280</td>\n",
       "    </tr>\n",
       "    <tr>\n",
       "      <th>1</th>\n",
       "      <td>TotalAll</td>\n",
       "      <td>1998-02-01</td>\n",
       "      <td>17294.699551</td>\n",
       "    </tr>\n",
       "    <tr>\n",
       "      <th>2</th>\n",
       "      <td>TotalAll</td>\n",
       "      <td>1998-03-01</td>\n",
       "      <td>20725.114184</td>\n",
       "    </tr>\n",
       "    <tr>\n",
       "      <th>3</th>\n",
       "      <td>TotalAll</td>\n",
       "      <td>1998-04-01</td>\n",
       "      <td>25388.612353</td>\n",
       "    </tr>\n",
       "    <tr>\n",
       "      <th>4</th>\n",
       "      <td>TotalAll</td>\n",
       "      <td>1998-05-01</td>\n",
       "      <td>20330.035211</td>\n",
       "    </tr>\n",
       "    <tr>\n",
       "      <th>...</th>\n",
       "      <td>...</td>\n",
       "      <td>...</td>\n",
       "      <td>...</td>\n",
       "    </tr>\n",
       "    <tr>\n",
       "      <th>126535</th>\n",
       "      <td>GBDOth</td>\n",
       "      <td>2016-08-01</td>\n",
       "      <td>0.000000</td>\n",
       "    </tr>\n",
       "    <tr>\n",
       "      <th>126536</th>\n",
       "      <td>GBDOth</td>\n",
       "      <td>2016-09-01</td>\n",
       "      <td>0.000000</td>\n",
       "    </tr>\n",
       "    <tr>\n",
       "      <th>126537</th>\n",
       "      <td>GBDOth</td>\n",
       "      <td>2016-10-01</td>\n",
       "      <td>0.000000</td>\n",
       "    </tr>\n",
       "    <tr>\n",
       "      <th>126538</th>\n",
       "      <td>GBDOth</td>\n",
       "      <td>2016-11-01</td>\n",
       "      <td>0.000000</td>\n",
       "    </tr>\n",
       "    <tr>\n",
       "      <th>126539</th>\n",
       "      <td>GBDOth</td>\n",
       "      <td>2016-12-01</td>\n",
       "      <td>0.000000</td>\n",
       "    </tr>\n",
       "  </tbody>\n",
       "</table>\n",
       "<p>126540 rows × 3 columns</p>\n",
       "</div>"
      ],
      "text/plain": [
       "       unique_id         ds             y\n",
       "0       TotalAll 1998-01-01  45151.071280\n",
       "1       TotalAll 1998-02-01  17294.699551\n",
       "2       TotalAll 1998-03-01  20725.114184\n",
       "3       TotalAll 1998-04-01  25388.612353\n",
       "4       TotalAll 1998-05-01  20330.035211\n",
       "...          ...        ...           ...\n",
       "126535    GBDOth 2016-08-01      0.000000\n",
       "126536    GBDOth 2016-09-01      0.000000\n",
       "126537    GBDOth 2016-10-01      0.000000\n",
       "126538    GBDOth 2016-11-01      0.000000\n",
       "126539    GBDOth 2016-12-01      0.000000\n",
       "\n",
       "[126540 rows x 3 columns]"
      ]
     },
     "execution_count": 49,
     "metadata": {},
     "output_type": "execute_result"
    }
   ],
   "source": [
    "Y_df"
   ]
  },
  {
   "cell_type": "code",
   "execution_count": 51,
   "metadata": {},
   "outputs": [
    {
     "data": {
      "text/html": [
       "<div>\n",
       "<style scoped>\n",
       "    .dataframe tbody tr th:only-of-type {\n",
       "        vertical-align: middle;\n",
       "    }\n",
       "\n",
       "    .dataframe tbody tr th {\n",
       "        vertical-align: top;\n",
       "    }\n",
       "\n",
       "    .dataframe thead th {\n",
       "        text-align: right;\n",
       "    }\n",
       "</style>\n",
       "<table border=\"1\" class=\"dataframe\">\n",
       "  <thead>\n",
       "    <tr style=\"text-align: right;\">\n",
       "      <th></th>\n",
       "      <th>unique_id</th>\n",
       "      <th>ds</th>\n",
       "      <th>y</th>\n",
       "    </tr>\n",
       "  </thead>\n",
       "  <tbody>\n",
       "    <tr>\n",
       "      <th>0</th>\n",
       "      <td>TotalAll</td>\n",
       "      <td>1998-01-01</td>\n",
       "      <td>45151.071280</td>\n",
       "    </tr>\n",
       "    <tr>\n",
       "      <th>1</th>\n",
       "      <td>TotalAll</td>\n",
       "      <td>1998-02-01</td>\n",
       "      <td>17294.699551</td>\n",
       "    </tr>\n",
       "    <tr>\n",
       "      <th>2</th>\n",
       "      <td>TotalAll</td>\n",
       "      <td>1998-03-01</td>\n",
       "      <td>20725.114184</td>\n",
       "    </tr>\n",
       "    <tr>\n",
       "      <th>3</th>\n",
       "      <td>TotalAll</td>\n",
       "      <td>1998-04-01</td>\n",
       "      <td>25388.612353</td>\n",
       "    </tr>\n",
       "    <tr>\n",
       "      <th>4</th>\n",
       "      <td>TotalAll</td>\n",
       "      <td>1998-05-01</td>\n",
       "      <td>20330.035211</td>\n",
       "    </tr>\n",
       "    <tr>\n",
       "      <th>...</th>\n",
       "      <td>...</td>\n",
       "      <td>...</td>\n",
       "      <td>...</td>\n",
       "    </tr>\n",
       "    <tr>\n",
       "      <th>223</th>\n",
       "      <td>TotalAll</td>\n",
       "      <td>2016-08-01</td>\n",
       "      <td>24100.446632</td>\n",
       "    </tr>\n",
       "    <tr>\n",
       "      <th>224</th>\n",
       "      <td>TotalAll</td>\n",
       "      <td>2016-09-01</td>\n",
       "      <td>24800.033759</td>\n",
       "    </tr>\n",
       "    <tr>\n",
       "      <th>225</th>\n",
       "      <td>TotalAll</td>\n",
       "      <td>2016-10-01</td>\n",
       "      <td>30039.106985</td>\n",
       "    </tr>\n",
       "    <tr>\n",
       "      <th>226</th>\n",
       "      <td>TotalAll</td>\n",
       "      <td>2016-11-01</td>\n",
       "      <td>27320.918908</td>\n",
       "    </tr>\n",
       "    <tr>\n",
       "      <th>227</th>\n",
       "      <td>TotalAll</td>\n",
       "      <td>2016-12-01</td>\n",
       "      <td>24604.310774</td>\n",
       "    </tr>\n",
       "  </tbody>\n",
       "</table>\n",
       "<p>228 rows × 3 columns</p>\n",
       "</div>"
      ],
      "text/plain": [
       "    unique_id         ds             y\n",
       "0    TotalAll 1998-01-01  45151.071280\n",
       "1    TotalAll 1998-02-01  17294.699551\n",
       "2    TotalAll 1998-03-01  20725.114184\n",
       "3    TotalAll 1998-04-01  25388.612353\n",
       "4    TotalAll 1998-05-01  20330.035211\n",
       "..        ...        ...           ...\n",
       "223  TotalAll 2016-08-01  24100.446632\n",
       "224  TotalAll 2016-09-01  24800.033759\n",
       "225  TotalAll 2016-10-01  30039.106985\n",
       "226  TotalAll 2016-11-01  27320.918908\n",
       "227  TotalAll 2016-12-01  24604.310774\n",
       "\n",
       "[228 rows x 3 columns]"
      ]
     },
     "execution_count": 51,
     "metadata": {},
     "output_type": "execute_result"
    }
   ],
   "source": [
    "Y_df[Y_df[\"unique_id\"] == \"TotalAll\"]"
   ]
  },
  {
   "cell_type": "markdown",
   "metadata": {},
   "source": [
    "# BFloat16"
   ]
  },
  {
   "cell_type": "code",
   "execution_count": 1,
   "metadata": {},
   "outputs": [],
   "source": [
    "import pandas as pd\n",
    "import numpy as np\n",
    "\n",
    "# Define start and end dates\n",
    "start_date = \"2000-01-01\"\n",
    "end_date = \"2025-02-01\"\n",
    "\n",
    "# Generate date range\n",
    "date_range = pd.date_range(start=start_date, end=end_date, freq=\"B\")\n",
    "# Set seed for reproducibility\n",
    "np.random.seed(0)\n",
    "\n",
    "# Create DataFrame\n",
    "df = pd.DataFrame(\n",
    "    {\n",
    "        \"unique_id\": \"dummy\",\n",
    "        \"ds\": date_range,\n",
    "        \"y\": np.random.randn(len(date_range)),\n",
    "        \"val1\": np.random.randn(len(date_range)),\n",
    "        \"val2\": np.random.rand(len(date_range)),\n",
    "    }\n",
    ")"
   ]
  },
  {
   "cell_type": "code",
   "execution_count": 2,
   "metadata": {},
   "outputs": [
    {
     "data": {
      "text/html": [
       "<div>\n",
       "<style scoped>\n",
       "    .dataframe tbody tr th:only-of-type {\n",
       "        vertical-align: middle;\n",
       "    }\n",
       "\n",
       "    .dataframe tbody tr th {\n",
       "        vertical-align: top;\n",
       "    }\n",
       "\n",
       "    .dataframe thead th {\n",
       "        text-align: right;\n",
       "    }\n",
       "</style>\n",
       "<table border=\"1\" class=\"dataframe\">\n",
       "  <thead>\n",
       "    <tr style=\"text-align: right;\">\n",
       "      <th></th>\n",
       "      <th>unique_id</th>\n",
       "      <th>ds</th>\n",
       "      <th>y</th>\n",
       "      <th>val1</th>\n",
       "      <th>val2</th>\n",
       "    </tr>\n",
       "  </thead>\n",
       "  <tbody>\n",
       "    <tr>\n",
       "      <th>0</th>\n",
       "      <td>dummy</td>\n",
       "      <td>2000-01-03</td>\n",
       "      <td>1.764052</td>\n",
       "      <td>0.773981</td>\n",
       "      <td>0.939143</td>\n",
       "    </tr>\n",
       "    <tr>\n",
       "      <th>1</th>\n",
       "      <td>dummy</td>\n",
       "      <td>2000-01-04</td>\n",
       "      <td>0.400157</td>\n",
       "      <td>1.807010</td>\n",
       "      <td>0.775121</td>\n",
       "    </tr>\n",
       "    <tr>\n",
       "      <th>2</th>\n",
       "      <td>dummy</td>\n",
       "      <td>2000-01-05</td>\n",
       "      <td>0.978738</td>\n",
       "      <td>-1.384666</td>\n",
       "      <td>0.539348</td>\n",
       "    </tr>\n",
       "    <tr>\n",
       "      <th>3</th>\n",
       "      <td>dummy</td>\n",
       "      <td>2000-01-06</td>\n",
       "      <td>2.240893</td>\n",
       "      <td>0.188001</td>\n",
       "      <td>0.812670</td>\n",
       "    </tr>\n",
       "    <tr>\n",
       "      <th>4</th>\n",
       "      <td>dummy</td>\n",
       "      <td>2000-01-07</td>\n",
       "      <td>1.867558</td>\n",
       "      <td>-0.190951</td>\n",
       "      <td>0.914733</td>\n",
       "    </tr>\n",
       "  </tbody>\n",
       "</table>\n",
       "</div>"
      ],
      "text/plain": [
       "  unique_id         ds         y      val1      val2\n",
       "0     dummy 2000-01-03  1.764052  0.773981  0.939143\n",
       "1     dummy 2000-01-04  0.400157  1.807010  0.775121\n",
       "2     dummy 2000-01-05  0.978738 -1.384666  0.539348\n",
       "3     dummy 2000-01-06  2.240893  0.188001  0.812670\n",
       "4     dummy 2000-01-07  1.867558 -0.190951  0.914733"
      ]
     },
     "execution_count": 2,
     "metadata": {},
     "output_type": "execute_result"
    }
   ],
   "source": [
    "df.head()"
   ]
  },
  {
   "cell_type": "code",
   "execution_count": 4,
   "metadata": {},
   "outputs": [],
   "source": [
    "import logging\n",
    "\n",
    "import torch\n",
    "from neuralforecast.core import NeuralForecast\n",
    "from neuralforecast.models import TSMixerx\n",
    "from neuralforecast.losses.pytorch import MAE"
   ]
  },
  {
   "cell_type": "code",
   "execution_count": 5,
   "metadata": {},
   "outputs": [],
   "source": [
    "logging.getLogger(\"pytorch_lightning\").setLevel(logging.ERROR)\n",
    "torch.set_float32_matmul_precision(\"medium\")"
   ]
  },
  {
   "cell_type": "code",
   "execution_count": 9,
   "metadata": {},
   "outputs": [
    {
     "name": "stderr",
     "output_type": "stream",
     "text": [
      "Seed set to 12345678\n",
      "Using bfloat16 Automatic Mixed Precision (AMP)\n",
      "GPU available: True (mps), used: True\n",
      "TPU available: False, using: 0 TPU cores\n",
      "HPU available: False, using: 0 HPUs\n"
     ]
    },
    {
     "data": {
      "application/vnd.jupyter.widget-view+json": {
       "model_id": "6f384b50fd2542e5961686413517bcfc",
       "version_major": 2,
       "version_minor": 0
      },
      "text/plain": [
       "Sanity Checking: |          | 0/? [00:00<?, ?it/s]"
      ]
     },
     "metadata": {},
     "output_type": "display_data"
    },
    {
     "name": "stderr",
     "output_type": "stream",
     "text": [
      "/Users/jz/.pyenv/versions/3.12.7/lib/python3.12/site-packages/torch/amp/autocast_mode.py:266: UserWarning: User provided device_type of 'cuda', but CUDA is not available. Disabling\n",
      "  warnings.warn(\n"
     ]
    },
    {
     "data": {
      "application/vnd.jupyter.widget-view+json": {
       "model_id": "a4ea74d5fab9489b9f05a16e52e5f148",
       "version_major": 2,
       "version_minor": 0
      },
      "text/plain": [
       "Training: |          | 0/? [00:00<?, ?it/s]"
      ]
     },
     "metadata": {},
     "output_type": "display_data"
    },
    {
     "data": {
      "application/vnd.jupyter.widget-view+json": {
       "model_id": "6e229eaae33d47988c5f4be9abe72693",
       "version_major": 2,
       "version_minor": 0
      },
      "text/plain": [
       "Validation: |          | 0/? [00:00<?, ?it/s]"
      ]
     },
     "metadata": {},
     "output_type": "display_data"
    },
    {
     "data": {
      "application/vnd.jupyter.widget-view+json": {
       "model_id": "2ba155c3450a466485fd38b20951dbfd",
       "version_major": 2,
       "version_minor": 0
      },
      "text/plain": [
       "Validation: |          | 0/? [00:00<?, ?it/s]"
      ]
     },
     "metadata": {},
     "output_type": "display_data"
    },
    {
     "data": {
      "application/vnd.jupyter.widget-view+json": {
       "model_id": "846b235b7ba043ccb6ca080ba759d610",
       "version_major": 2,
       "version_minor": 0
      },
      "text/plain": [
       "Validation: |          | 0/? [00:00<?, ?it/s]"
      ]
     },
     "metadata": {},
     "output_type": "display_data"
    },
    {
     "data": {
      "application/vnd.jupyter.widget-view+json": {
       "model_id": "516ffff8adfd444cac61a10935083f20",
       "version_major": 2,
       "version_minor": 0
      },
      "text/plain": [
       "Validation: |          | 0/? [00:00<?, ?it/s]"
      ]
     },
     "metadata": {},
     "output_type": "display_data"
    },
    {
     "data": {
      "application/vnd.jupyter.widget-view+json": {
       "model_id": "cb41037293bc45e6bdb630c54e7bd332",
       "version_major": 2,
       "version_minor": 0
      },
      "text/plain": [
       "Validation: |          | 0/? [00:00<?, ?it/s]"
      ]
     },
     "metadata": {},
     "output_type": "display_data"
    },
    {
     "data": {
      "application/vnd.jupyter.widget-view+json": {
       "model_id": "eeb082ba480945ec80f86e9c17f7097c",
       "version_major": 2,
       "version_minor": 0
      },
      "text/plain": [
       "Validation: |          | 0/? [00:00<?, ?it/s]"
      ]
     },
     "metadata": {},
     "output_type": "display_data"
    },
    {
     "data": {
      "application/vnd.jupyter.widget-view+json": {
       "model_id": "2e75b2ebeeb446af99b972179f1f0a52",
       "version_major": 2,
       "version_minor": 0
      },
      "text/plain": [
       "Validation: |          | 0/? [00:00<?, ?it/s]"
      ]
     },
     "metadata": {},
     "output_type": "display_data"
    },
    {
     "data": {
      "application/vnd.jupyter.widget-view+json": {
       "model_id": "1ea99dcf8eed47cebef3d6605464f080",
       "version_major": 2,
       "version_minor": 0
      },
      "text/plain": [
       "Validation: |          | 0/? [00:00<?, ?it/s]"
      ]
     },
     "metadata": {},
     "output_type": "display_data"
    }
   ],
   "source": [
    "horizon = 10\n",
    "input_size = 10\n",
    "models = [\n",
    "    TSMixerx(\n",
    "        h=horizon,\n",
    "        input_size=input_size,\n",
    "        n_series=1,\n",
    "        max_steps=1000,\n",
    "        val_check_steps=100,\n",
    "        early_stop_patience_steps=5,\n",
    "        valid_loss=MAE(),\n",
    "        random_seed=12345678,\n",
    "        futr_exog_list=[\"val1\", \"val2\"],\n",
    "        precision=\"bf16-mixed\",\n",
    "    ),\n",
    "]\n",
    "\n",
    "nf = NeuralForecast(\n",
    "    models=models,\n",
    "    freq=\"B\"\n",
    ")\n",
    "nf.fit(df=df, val_size=horizon)"
   ]
  },
  {
   "cell_type": "code",
   "execution_count": 10,
   "metadata": {},
   "outputs": [
    {
     "name": "stderr",
     "output_type": "stream",
     "text": [
      "Using bfloat16 Automatic Mixed Precision (AMP)\n",
      "Trainer already configured with model summary callbacks: [<class 'pytorch_lightning.callbacks.model_summary.ModelSummary'>]. Skipping setting a default `ModelSummary` callback.\n",
      "GPU available: True (mps), used: True\n",
      "TPU available: False, using: 0 TPU cores\n",
      "HPU available: False, using: 0 HPUs\n"
     ]
    },
    {
     "data": {
      "application/vnd.jupyter.widget-view+json": {
       "model_id": "1ee7a486756a46169896dfcfedda0022",
       "version_major": 2,
       "version_minor": 0
      },
      "text/plain": [
       "Predicting: |          | 0/? [00:00<?, ?it/s]"
      ]
     },
     "metadata": {},
     "output_type": "display_data"
    },
    {
     "name": "stderr",
     "output_type": "stream",
     "text": [
      "/Users/jz/.pyenv/versions/3.12.7/lib/python3.12/site-packages/torch/amp/autocast_mode.py:266: UserWarning: User provided device_type of 'cuda', but CUDA is not available. Disabling\n",
      "  warnings.warn(\n"
     ]
    }
   ],
   "source": [
    "Y_hat_insample = nf.predict_insample(step_size=horizon)"
   ]
  },
  {
   "cell_type": "code",
   "execution_count": 11,
   "metadata": {},
   "outputs": [
    {
     "data": {
      "text/html": [
       "<div>\n",
       "<style scoped>\n",
       "    .dataframe tbody tr th:only-of-type {\n",
       "        vertical-align: middle;\n",
       "    }\n",
       "\n",
       "    .dataframe tbody tr th {\n",
       "        vertical-align: top;\n",
       "    }\n",
       "\n",
       "    .dataframe thead th {\n",
       "        text-align: right;\n",
       "    }\n",
       "</style>\n",
       "<table border=\"1\" class=\"dataframe\">\n",
       "  <thead>\n",
       "    <tr style=\"text-align: right;\">\n",
       "      <th></th>\n",
       "      <th>unique_id</th>\n",
       "      <th>ds</th>\n",
       "      <th>cutoff</th>\n",
       "      <th>TSMixerx</th>\n",
       "      <th>y</th>\n",
       "    </tr>\n",
       "  </thead>\n",
       "  <tbody>\n",
       "    <tr>\n",
       "      <th>0</th>\n",
       "      <td>dummy</td>\n",
       "      <td>2000-01-10</td>\n",
       "      <td>2000-01-07</td>\n",
       "      <td>0.000105</td>\n",
       "      <td>-0.977278</td>\n",
       "    </tr>\n",
       "    <tr>\n",
       "      <th>1</th>\n",
       "      <td>dummy</td>\n",
       "      <td>2000-01-11</td>\n",
       "      <td>2000-01-07</td>\n",
       "      <td>-0.000017</td>\n",
       "      <td>0.950088</td>\n",
       "    </tr>\n",
       "    <tr>\n",
       "      <th>2</th>\n",
       "      <td>dummy</td>\n",
       "      <td>2000-01-12</td>\n",
       "      <td>2000-01-07</td>\n",
       "      <td>-0.000288</td>\n",
       "      <td>-0.151357</td>\n",
       "    </tr>\n",
       "    <tr>\n",
       "      <th>3</th>\n",
       "      <td>dummy</td>\n",
       "      <td>2000-01-13</td>\n",
       "      <td>2000-01-07</td>\n",
       "      <td>-0.000201</td>\n",
       "      <td>-0.103219</td>\n",
       "    </tr>\n",
       "    <tr>\n",
       "      <th>4</th>\n",
       "      <td>dummy</td>\n",
       "      <td>2000-01-14</td>\n",
       "      <td>2000-01-07</td>\n",
       "      <td>0.000064</td>\n",
       "      <td>0.410599</td>\n",
       "    </tr>\n",
       "    <tr>\n",
       "      <th>...</th>\n",
       "      <td>...</td>\n",
       "      <td>...</td>\n",
       "      <td>...</td>\n",
       "      <td>...</td>\n",
       "      <td>...</td>\n",
       "    </tr>\n",
       "    <tr>\n",
       "      <th>6535</th>\n",
       "      <td>dummy</td>\n",
       "      <td>2025-01-27</td>\n",
       "      <td>2025-01-17</td>\n",
       "      <td>-0.281325</td>\n",
       "      <td>0.398010</td>\n",
       "    </tr>\n",
       "    <tr>\n",
       "      <th>6536</th>\n",
       "      <td>dummy</td>\n",
       "      <td>2025-01-28</td>\n",
       "      <td>2025-01-17</td>\n",
       "      <td>-0.358369</td>\n",
       "      <td>-0.222363</td>\n",
       "    </tr>\n",
       "    <tr>\n",
       "      <th>6537</th>\n",
       "      <td>dummy</td>\n",
       "      <td>2025-01-29</td>\n",
       "      <td>2025-01-17</td>\n",
       "      <td>-0.220166</td>\n",
       "      <td>0.742029</td>\n",
       "    </tr>\n",
       "    <tr>\n",
       "      <th>6538</th>\n",
       "      <td>dummy</td>\n",
       "      <td>2025-01-30</td>\n",
       "      <td>2025-01-17</td>\n",
       "      <td>-0.342372</td>\n",
       "      <td>-2.405761</td>\n",
       "    </tr>\n",
       "    <tr>\n",
       "      <th>6539</th>\n",
       "      <td>dummy</td>\n",
       "      <td>2025-01-31</td>\n",
       "      <td>2025-01-17</td>\n",
       "      <td>-0.221931</td>\n",
       "      <td>0.742540</td>\n",
       "    </tr>\n",
       "  </tbody>\n",
       "</table>\n",
       "<p>6540 rows × 5 columns</p>\n",
       "</div>"
      ],
      "text/plain": [
       "     unique_id         ds     cutoff  TSMixerx         y\n",
       "0        dummy 2000-01-10 2000-01-07  0.000105 -0.977278\n",
       "1        dummy 2000-01-11 2000-01-07 -0.000017  0.950088\n",
       "2        dummy 2000-01-12 2000-01-07 -0.000288 -0.151357\n",
       "3        dummy 2000-01-13 2000-01-07 -0.000201 -0.103219\n",
       "4        dummy 2000-01-14 2000-01-07  0.000064  0.410599\n",
       "...        ...        ...        ...       ...       ...\n",
       "6535     dummy 2025-01-27 2025-01-17 -0.281325  0.398010\n",
       "6536     dummy 2025-01-28 2025-01-17 -0.358369 -0.222363\n",
       "6537     dummy 2025-01-29 2025-01-17 -0.220166  0.742029\n",
       "6538     dummy 2025-01-30 2025-01-17 -0.342372 -2.405761\n",
       "6539     dummy 2025-01-31 2025-01-17 -0.221931  0.742540\n",
       "\n",
       "[6540 rows x 5 columns]"
      ]
     },
     "execution_count": 11,
     "metadata": {},
     "output_type": "execute_result"
    }
   ],
   "source": [
    "Y_hat_insample"
   ]
  },
  {
   "cell_type": "code",
   "execution_count": 1,
   "metadata": {},
   "outputs": [
    {
     "name": "stderr",
     "output_type": "stream",
     "text": [
      "Seed set to 0\n",
      "Using bfloat16 Automatic Mixed Precision (AMP)\n",
      "GPU available: False, used: False\n",
      "TPU available: False, using: 0 TPU cores\n",
      "HPU available: False, using: 0 HPUs\n"
     ]
    },
    {
     "data": {
      "application/vnd.jupyter.widget-view+json": {
       "model_id": "5fb0332b4c8349b58cc8780a36d9e7ff",
       "version_major": 2,
       "version_minor": 0
      },
      "text/plain": [
       "Sanity Checking: |          | 0/? [00:00<?, ?it/s]"
      ]
     },
     "metadata": {},
     "output_type": "display_data"
    },
    {
     "data": {
      "application/vnd.jupyter.widget-view+json": {
       "model_id": "438d2324ea90419a81c11aaea83b5681",
       "version_major": 2,
       "version_minor": 0
      },
      "text/plain": [
       "Training: |          | 0/? [00:00<?, ?it/s]"
      ]
     },
     "metadata": {},
     "output_type": "display_data"
    },
    {
     "data": {
      "application/vnd.jupyter.widget-view+json": {
       "model_id": "8db5ac4e23be432199c16a09022e8611",
       "version_major": 2,
       "version_minor": 0
      },
      "text/plain": [
       "Validation: |          | 0/? [00:00<?, ?it/s]"
      ]
     },
     "metadata": {},
     "output_type": "display_data"
    },
    {
     "name": "stderr",
     "output_type": "stream",
     "text": [
      "`Trainer.fit` stopped: `max_steps=100` reached.\n",
      "Using bfloat16 Automatic Mixed Precision (AMP)\n",
      "GPU available: False, used: False\n",
      "TPU available: False, using: 0 TPU cores\n",
      "HPU available: False, using: 0 HPUs\n"
     ]
    },
    {
     "data": {
      "application/vnd.jupyter.widget-view+json": {
       "model_id": "b8275bb79e4c47e0861c4f2fb81e58b5",
       "version_major": 2,
       "version_minor": 0
      },
      "text/plain": [
       "Predicting: |          | 0/? [00:00<?, ?it/s]"
      ]
     },
     "metadata": {},
     "output_type": "display_data"
    },
    {
     "data": {
      "text/html": [
       "<div>\n",
       "<style scoped>\n",
       "    .dataframe tbody tr th:only-of-type {\n",
       "        vertical-align: middle;\n",
       "    }\n",
       "\n",
       "    .dataframe tbody tr th {\n",
       "        vertical-align: top;\n",
       "    }\n",
       "\n",
       "    .dataframe thead th {\n",
       "        text-align: right;\n",
       "    }\n",
       "</style>\n",
       "<table border=\"1\" class=\"dataframe\">\n",
       "  <thead>\n",
       "    <tr style=\"text-align: right;\">\n",
       "      <th></th>\n",
       "      <th>unique_id</th>\n",
       "      <th>ds</th>\n",
       "      <th>cutoff</th>\n",
       "      <th>TSMixerx</th>\n",
       "      <th>y</th>\n",
       "    </tr>\n",
       "  </thead>\n",
       "  <tbody>\n",
       "    <tr>\n",
       "      <th>0</th>\n",
       "      <td>dummy</td>\n",
       "      <td>2000-01-10</td>\n",
       "      <td>2000-01-07</td>\n",
       "      <td>0.040845</td>\n",
       "      <td>-0.977278</td>\n",
       "    </tr>\n",
       "    <tr>\n",
       "      <th>1</th>\n",
       "      <td>dummy</td>\n",
       "      <td>2000-01-11</td>\n",
       "      <td>2000-01-07</td>\n",
       "      <td>-0.062982</td>\n",
       "      <td>0.950088</td>\n",
       "    </tr>\n",
       "    <tr>\n",
       "      <th>2</th>\n",
       "      <td>dummy</td>\n",
       "      <td>2000-01-12</td>\n",
       "      <td>2000-01-07</td>\n",
       "      <td>0.059603</td>\n",
       "      <td>-0.151357</td>\n",
       "    </tr>\n",
       "    <tr>\n",
       "      <th>3</th>\n",
       "      <td>dummy</td>\n",
       "      <td>2000-01-13</td>\n",
       "      <td>2000-01-07</td>\n",
       "      <td>0.080006</td>\n",
       "      <td>-0.103219</td>\n",
       "    </tr>\n",
       "    <tr>\n",
       "      <th>4</th>\n",
       "      <td>dummy</td>\n",
       "      <td>2000-01-14</td>\n",
       "      <td>2000-01-07</td>\n",
       "      <td>-0.010657</td>\n",
       "      <td>0.410598</td>\n",
       "    </tr>\n",
       "    <tr>\n",
       "      <th>...</th>\n",
       "      <td>...</td>\n",
       "      <td>...</td>\n",
       "      <td>...</td>\n",
       "      <td>...</td>\n",
       "      <td>...</td>\n",
       "    </tr>\n",
       "    <tr>\n",
       "      <th>6535</th>\n",
       "      <td>dummy</td>\n",
       "      <td>2025-01-27</td>\n",
       "      <td>2025-01-17</td>\n",
       "      <td>-0.020180</td>\n",
       "      <td>0.398010</td>\n",
       "    </tr>\n",
       "    <tr>\n",
       "      <th>6536</th>\n",
       "      <td>dummy</td>\n",
       "      <td>2025-01-28</td>\n",
       "      <td>2025-01-17</td>\n",
       "      <td>0.052034</td>\n",
       "      <td>-0.222363</td>\n",
       "    </tr>\n",
       "    <tr>\n",
       "      <th>6537</th>\n",
       "      <td>dummy</td>\n",
       "      <td>2025-01-29</td>\n",
       "      <td>2025-01-17</td>\n",
       "      <td>0.074083</td>\n",
       "      <td>0.742029</td>\n",
       "    </tr>\n",
       "    <tr>\n",
       "      <th>6538</th>\n",
       "      <td>dummy</td>\n",
       "      <td>2025-01-30</td>\n",
       "      <td>2025-01-17</td>\n",
       "      <td>-0.084208</td>\n",
       "      <td>-2.405761</td>\n",
       "    </tr>\n",
       "    <tr>\n",
       "      <th>6539</th>\n",
       "      <td>dummy</td>\n",
       "      <td>2025-01-31</td>\n",
       "      <td>2025-01-17</td>\n",
       "      <td>-0.022472</td>\n",
       "      <td>0.742540</td>\n",
       "    </tr>\n",
       "  </tbody>\n",
       "</table>\n",
       "<p>6540 rows × 5 columns</p>\n",
       "</div>"
      ],
      "text/plain": [
       "     unique_id         ds     cutoff  TSMixerx         y\n",
       "0        dummy 2000-01-10 2000-01-07  0.040845 -0.977278\n",
       "1        dummy 2000-01-11 2000-01-07 -0.062982  0.950088\n",
       "2        dummy 2000-01-12 2000-01-07  0.059603 -0.151357\n",
       "3        dummy 2000-01-13 2000-01-07  0.080006 -0.103219\n",
       "4        dummy 2000-01-14 2000-01-07 -0.010657  0.410598\n",
       "...        ...        ...        ...       ...       ...\n",
       "6535     dummy 2025-01-27 2025-01-17 -0.020180  0.398010\n",
       "6536     dummy 2025-01-28 2025-01-17  0.052034 -0.222363\n",
       "6537     dummy 2025-01-29 2025-01-17  0.074083  0.742029\n",
       "6538     dummy 2025-01-30 2025-01-17 -0.084208 -2.405761\n",
       "6539     dummy 2025-01-31 2025-01-17 -0.022472  0.742540\n",
       "\n",
       "[6540 rows x 5 columns]"
      ]
     },
     "execution_count": 1,
     "metadata": {},
     "output_type": "execute_result"
    }
   ],
   "source": [
    "import pandas as pd\n",
    "import numpy as np\n",
    "import logging\n",
    "import torch\n",
    "from neuralforecast.core import NeuralForecast\n",
    "from neuralforecast.models import TSMixerx\n",
    "\n",
    "# Prep dummy data\n",
    "start_date = \"2000-01-01\"\n",
    "end_date = \"2025-02-01\"\n",
    "date_range = pd.date_range(start=start_date, end=end_date, freq=\"B\")\n",
    "np.random.seed(0)\n",
    "df = pd.DataFrame(\n",
    "    {\n",
    "        \"unique_id\": \"dummy\",\n",
    "        \"ds\": date_range,\n",
    "        \"y\": np.random.randn(len(date_range)),\n",
    "        \"val1\": np.random.randn(len(date_range)),\n",
    "        \"val2\": np.random.rand(len(date_range)),\n",
    "    }\n",
    ")\n",
    "\n",
    "logging.getLogger(\"pytorch_lightning\").setLevel(logging.ERROR)\n",
    "torch.set_float32_matmul_precision(\"medium\")\n",
    "\n",
    "horizon = 10\n",
    "input_size = 20\n",
    "models = [\n",
    "    TSMixerx(\n",
    "        h=horizon,\n",
    "        input_size=input_size,\n",
    "        n_series=1,\n",
    "        revin=False,\n",
    "        max_steps=100,\n",
    "        random_seed=0,\n",
    "        hist_exog_list=[\"val1\", \"val2\"],\n",
    "        precision=\"bf16-mixed\",\n",
    "    ),\n",
    "]\n",
    "\n",
    "nf = NeuralForecast(\n",
    "    models=models,\n",
    "    freq=\"B\",\n",
    "    local_scaler_type=\"robust\",\n",
    ")\n",
    "nf.fit(df=df, val_size=300)\n",
    "\n",
    "Y_hat_insample = nf.predict_insample(step_size=horizon)\n",
    "Y_hat_insample"
   ]
  },
  {
   "cell_type": "code",
   "execution_count": 3,
   "metadata": {},
   "outputs": [
    {
     "data": {
      "text/html": [
       "<div>\n",
       "<style scoped>\n",
       "    .dataframe tbody tr th:only-of-type {\n",
       "        vertical-align: middle;\n",
       "    }\n",
       "\n",
       "    .dataframe tbody tr th {\n",
       "        vertical-align: top;\n",
       "    }\n",
       "\n",
       "    .dataframe thead th {\n",
       "        text-align: right;\n",
       "    }\n",
       "</style>\n",
       "<table border=\"1\" class=\"dataframe\">\n",
       "  <thead>\n",
       "    <tr style=\"text-align: right;\">\n",
       "      <th></th>\n",
       "      <th>unique_id</th>\n",
       "      <th>ds</th>\n",
       "      <th>y</th>\n",
       "      <th>val1</th>\n",
       "      <th>val2</th>\n",
       "    </tr>\n",
       "  </thead>\n",
       "  <tbody>\n",
       "    <tr>\n",
       "      <th>0</th>\n",
       "      <td>dummy</td>\n",
       "      <td>2000-01-03</td>\n",
       "      <td>1.764052</td>\n",
       "      <td>0.773981</td>\n",
       "      <td>0.939143</td>\n",
       "    </tr>\n",
       "    <tr>\n",
       "      <th>1</th>\n",
       "      <td>dummy</td>\n",
       "      <td>2000-01-04</td>\n",
       "      <td>0.400157</td>\n",
       "      <td>1.807010</td>\n",
       "      <td>0.775121</td>\n",
       "    </tr>\n",
       "    <tr>\n",
       "      <th>2</th>\n",
       "      <td>dummy</td>\n",
       "      <td>2000-01-05</td>\n",
       "      <td>0.978738</td>\n",
       "      <td>-1.384666</td>\n",
       "      <td>0.539348</td>\n",
       "    </tr>\n",
       "    <tr>\n",
       "      <th>3</th>\n",
       "      <td>dummy</td>\n",
       "      <td>2000-01-06</td>\n",
       "      <td>2.240893</td>\n",
       "      <td>0.188001</td>\n",
       "      <td>0.812670</td>\n",
       "    </tr>\n",
       "    <tr>\n",
       "      <th>4</th>\n",
       "      <td>dummy</td>\n",
       "      <td>2000-01-07</td>\n",
       "      <td>1.867558</td>\n",
       "      <td>-0.190951</td>\n",
       "      <td>0.914733</td>\n",
       "    </tr>\n",
       "    <tr>\n",
       "      <th>...</th>\n",
       "      <td>...</td>\n",
       "      <td>...</td>\n",
       "      <td>...</td>\n",
       "      <td>...</td>\n",
       "      <td>...</td>\n",
       "    </tr>\n",
       "    <tr>\n",
       "      <th>6540</th>\n",
       "      <td>dummy</td>\n",
       "      <td>2025-01-27</td>\n",
       "      <td>0.398010</td>\n",
       "      <td>-0.429484</td>\n",
       "      <td>0.243577</td>\n",
       "    </tr>\n",
       "    <tr>\n",
       "      <th>6541</th>\n",
       "      <td>dummy</td>\n",
       "      <td>2025-01-28</td>\n",
       "      <td>-0.222363</td>\n",
       "      <td>0.798141</td>\n",
       "      <td>0.592328</td>\n",
       "    </tr>\n",
       "    <tr>\n",
       "      <th>6542</th>\n",
       "      <td>dummy</td>\n",
       "      <td>2025-01-29</td>\n",
       "      <td>0.742029</td>\n",
       "      <td>0.171691</td>\n",
       "      <td>0.253932</td>\n",
       "    </tr>\n",
       "    <tr>\n",
       "      <th>6543</th>\n",
       "      <td>dummy</td>\n",
       "      <td>2025-01-30</td>\n",
       "      <td>-2.405761</td>\n",
       "      <td>0.785725</td>\n",
       "      <td>0.057787</td>\n",
       "    </tr>\n",
       "    <tr>\n",
       "      <th>6544</th>\n",
       "      <td>dummy</td>\n",
       "      <td>2025-01-31</td>\n",
       "      <td>0.742540</td>\n",
       "      <td>-0.275660</td>\n",
       "      <td>0.239608</td>\n",
       "    </tr>\n",
       "  </tbody>\n",
       "</table>\n",
       "<p>6545 rows × 5 columns</p>\n",
       "</div>"
      ],
      "text/plain": [
       "     unique_id         ds         y      val1      val2\n",
       "0        dummy 2000-01-03  1.764052  0.773981  0.939143\n",
       "1        dummy 2000-01-04  0.400157  1.807010  0.775121\n",
       "2        dummy 2000-01-05  0.978738 -1.384666  0.539348\n",
       "3        dummy 2000-01-06  2.240893  0.188001  0.812670\n",
       "4        dummy 2000-01-07  1.867558 -0.190951  0.914733\n",
       "...        ...        ...       ...       ...       ...\n",
       "6540     dummy 2025-01-27  0.398010 -0.429484  0.243577\n",
       "6541     dummy 2025-01-28 -0.222363  0.798141  0.592328\n",
       "6542     dummy 2025-01-29  0.742029  0.171691  0.253932\n",
       "6543     dummy 2025-01-30 -2.405761  0.785725  0.057787\n",
       "6544     dummy 2025-01-31  0.742540 -0.275660  0.239608\n",
       "\n",
       "[6545 rows x 5 columns]"
      ]
     },
     "execution_count": 3,
     "metadata": {},
     "output_type": "execute_result"
    }
   ],
   "source": [
    "df"
   ]
  },
  {
   "cell_type": "code",
   "execution_count": 2,
   "metadata": {},
   "outputs": [
    {
     "data": {
      "text/plain": [
       "6545"
      ]
     },
     "execution_count": 2,
     "metadata": {},
     "output_type": "execute_result"
    }
   ],
   "source": [
    "len(df)"
   ]
  },
  {
   "cell_type": "markdown",
   "metadata": {},
   "source": [
    "# Main branch predict_insample fix"
   ]
  },
  {
   "cell_type": "code",
   "execution_count": 4,
   "metadata": {},
   "outputs": [
    {
     "name": "stderr",
     "output_type": "stream",
     "text": [
      "Seed set to 1\n",
      "GPU available: False, used: False\n",
      "TPU available: False, using: 0 TPU cores\n",
      "HPU available: False, using: 0 HPUs\n"
     ]
    },
    {
     "data": {
      "application/vnd.jupyter.widget-view+json": {
       "model_id": "26bb247915d74b0bbc5f2fd5073e672f",
       "version_major": 2,
       "version_minor": 0
      },
      "text/plain": [
       "Sanity Checking: |          | 0/? [00:00<?, ?it/s]"
      ]
     },
     "metadata": {},
     "output_type": "display_data"
    },
    {
     "data": {
      "application/vnd.jupyter.widget-view+json": {
       "model_id": "133811eaf914415fb0566b22dea5585d",
       "version_major": 2,
       "version_minor": 0
      },
      "text/plain": [
       "Training: |          | 0/? [00:00<?, ?it/s]"
      ]
     },
     "metadata": {},
     "output_type": "display_data"
    },
    {
     "data": {
      "application/vnd.jupyter.widget-view+json": {
       "model_id": "8a6927869e2e43faaf277595e42fabfb",
       "version_major": 2,
       "version_minor": 0
      },
      "text/plain": [
       "Validation: |          | 0/? [00:00<?, ?it/s]"
      ]
     },
     "metadata": {},
     "output_type": "display_data"
    },
    {
     "name": "stderr",
     "output_type": "stream",
     "text": [
      "`Trainer.fit` stopped: `max_steps=100` reached.\n",
      "GPU available: False, used: False\n",
      "TPU available: False, using: 0 TPU cores\n",
      "HPU available: False, using: 0 HPUs\n"
     ]
    },
    {
     "data": {
      "application/vnd.jupyter.widget-view+json": {
       "model_id": "22e16a96cb87405d9f59efe4cd16cea2",
       "version_major": 2,
       "version_minor": 0
      },
      "text/plain": [
       "Predicting: |          | 0/? [00:00<?, ?it/s]"
      ]
     },
     "metadata": {},
     "output_type": "display_data"
    },
    {
     "data": {
      "text/html": [
       "<div>\n",
       "<style scoped>\n",
       "    .dataframe tbody tr th:only-of-type {\n",
       "        vertical-align: middle;\n",
       "    }\n",
       "\n",
       "    .dataframe tbody tr th {\n",
       "        vertical-align: top;\n",
       "    }\n",
       "\n",
       "    .dataframe thead th {\n",
       "        text-align: right;\n",
       "    }\n",
       "</style>\n",
       "<table border=\"1\" class=\"dataframe\">\n",
       "  <thead>\n",
       "    <tr style=\"text-align: right;\">\n",
       "      <th></th>\n",
       "      <th>unique_id</th>\n",
       "      <th>ds</th>\n",
       "      <th>cutoff</th>\n",
       "      <th>NHITS</th>\n",
       "      <th>y</th>\n",
       "    </tr>\n",
       "  </thead>\n",
       "  <tbody>\n",
       "    <tr>\n",
       "      <th>0</th>\n",
       "      <td>dummy</td>\n",
       "      <td>2024-06-13</td>\n",
       "      <td>2024-06-12</td>\n",
       "      <td>0.070360</td>\n",
       "      <td>-0.103219</td>\n",
       "    </tr>\n",
       "    <tr>\n",
       "      <th>1</th>\n",
       "      <td>dummy</td>\n",
       "      <td>2024-06-14</td>\n",
       "      <td>2024-06-12</td>\n",
       "      <td>0.083637</td>\n",
       "      <td>0.410599</td>\n",
       "    </tr>\n",
       "    <tr>\n",
       "      <th>2</th>\n",
       "      <td>dummy</td>\n",
       "      <td>2024-06-17</td>\n",
       "      <td>2024-06-12</td>\n",
       "      <td>0.086530</td>\n",
       "      <td>0.144044</td>\n",
       "    </tr>\n",
       "    <tr>\n",
       "      <th>3</th>\n",
       "      <td>dummy</td>\n",
       "      <td>2024-06-18</td>\n",
       "      <td>2024-06-12</td>\n",
       "      <td>0.149764</td>\n",
       "      <td>1.454273</td>\n",
       "    </tr>\n",
       "    <tr>\n",
       "      <th>4</th>\n",
       "      <td>dummy</td>\n",
       "      <td>2024-06-19</td>\n",
       "      <td>2024-06-12</td>\n",
       "      <td>0.198147</td>\n",
       "      <td>0.761038</td>\n",
       "    </tr>\n",
       "    <tr>\n",
       "      <th>...</th>\n",
       "      <td>...</td>\n",
       "      <td>...</td>\n",
       "      <td>...</td>\n",
       "      <td>...</td>\n",
       "      <td>...</td>\n",
       "    </tr>\n",
       "    <tr>\n",
       "      <th>175</th>\n",
       "      <td>dummy</td>\n",
       "      <td>2025-02-13</td>\n",
       "      <td>2025-02-05</td>\n",
       "      <td>0.564121</td>\n",
       "      <td>-2.223403</td>\n",
       "    </tr>\n",
       "    <tr>\n",
       "      <th>176</th>\n",
       "      <td>dummy</td>\n",
       "      <td>2025-02-14</td>\n",
       "      <td>2025-02-05</td>\n",
       "      <td>0.961359</td>\n",
       "      <td>0.625231</td>\n",
       "    </tr>\n",
       "    <tr>\n",
       "      <th>177</th>\n",
       "      <td>dummy</td>\n",
       "      <td>2025-02-17</td>\n",
       "      <td>2025-02-05</td>\n",
       "      <td>0.813536</td>\n",
       "      <td>-1.602058</td>\n",
       "    </tr>\n",
       "    <tr>\n",
       "      <th>178</th>\n",
       "      <td>dummy</td>\n",
       "      <td>2025-02-18</td>\n",
       "      <td>2025-02-05</td>\n",
       "      <td>0.126058</td>\n",
       "      <td>-1.104383</td>\n",
       "    </tr>\n",
       "    <tr>\n",
       "      <th>179</th>\n",
       "      <td>dummy</td>\n",
       "      <td>2025-02-19</td>\n",
       "      <td>2025-02-05</td>\n",
       "      <td>0.488300</td>\n",
       "      <td>0.052165</td>\n",
       "    </tr>\n",
       "  </tbody>\n",
       "</table>\n",
       "<p>180 rows × 5 columns</p>\n",
       "</div>"
      ],
      "text/plain": [
       "    unique_id         ds     cutoff     NHITS         y\n",
       "0       dummy 2024-06-13 2024-06-12  0.070360 -0.103219\n",
       "1       dummy 2024-06-14 2024-06-12  0.083637  0.410599\n",
       "2       dummy 2024-06-17 2024-06-12  0.086530  0.144044\n",
       "3       dummy 2024-06-18 2024-06-12  0.149764  1.454273\n",
       "4       dummy 2024-06-19 2024-06-12  0.198147  0.761038\n",
       "..        ...        ...        ...       ...       ...\n",
       "175     dummy 2025-02-13 2025-02-05  0.564121 -2.223403\n",
       "176     dummy 2025-02-14 2025-02-05  0.961359  0.625231\n",
       "177     dummy 2025-02-17 2025-02-05  0.813536 -1.602058\n",
       "178     dummy 2025-02-18 2025-02-05  0.126058 -1.104383\n",
       "179     dummy 2025-02-19 2025-02-05  0.488300  0.052165\n",
       "\n",
       "[180 rows x 5 columns]"
      ]
     },
     "execution_count": 4,
     "metadata": {},
     "output_type": "execute_result"
    }
   ],
   "source": [
    "import pandas as pd\n",
    "import numpy as np\n",
    "import logging\n",
    "import torch\n",
    "import pandas as pd\n",
    "\n",
    "from neuralforecast import NeuralForecast\n",
    "from neuralforecast.models import NHITS\n",
    "\n",
    "# Prep dummy data\n",
    "start_date = \"2024-06-01\"\n",
    "end_date = \"2025-02-19\"\n",
    "date_range = pd.date_range(start=start_date, end=end_date, freq=\"B\")\n",
    "np.random.seed(0)\n",
    "df = pd.DataFrame(\n",
    "    {\n",
    "        \"unique_id\": \"dummy\",\n",
    "        \"ds\": date_range,\n",
    "        \"y\": np.random.randn(len(date_range)),\n",
    "    }\n",
    ")\n",
    "\n",
    "logging.getLogger(\"pytorch_lightning\").setLevel(logging.ERROR)\n",
    "torch.set_float32_matmul_precision(\"medium\")\n",
    "\n",
    "horizon = 10\n",
    "input_size = 30\n",
    "val_size = 50\n",
    "\n",
    "# Try different hyperparmeters to improve accuracy.\n",
    "models = [\n",
    "    NHITS(\n",
    "        h=horizon,  # Forecast horizon\n",
    "        input_size=input_size,  # Length of input sequence\n",
    "        max_steps=100,  # Number of steps to train\n",
    "        n_freq_downsample=[2, 1, 1],  # Downsampling factors for each stack output\n",
    "        mlp_units=3 * [[1024, 1024]],\n",
    "    )  # Number of units in each block.\n",
    "]\n",
    "nf = NeuralForecast(models=models, freq=\"B\")\n",
    "nf.fit(df=df, val_size=val_size)\n",
    "\n",
    "Y_hat_insample = nf.predict_insample(step_size=horizon)\n",
    "# Y_hat_insample = nf.predict_insample()\n",
    "\n",
    "Y_hat_insample"
   ]
  },
  {
   "cell_type": "code",
   "execution_count": 5,
   "metadata": {},
   "outputs": [
    {
     "name": "stderr",
     "output_type": "stream",
     "text": [
      "Seed set to 0\n",
      "GPU available: False, used: False\n",
      "TPU available: False, using: 0 TPU cores\n",
      "HPU available: False, using: 0 HPUs\n"
     ]
    },
    {
     "data": {
      "application/vnd.jupyter.widget-view+json": {
       "model_id": "a801aef5ebc64422b77f66016399b923",
       "version_major": 2,
       "version_minor": 0
      },
      "text/plain": [
       "Sanity Checking: |          | 0/? [00:00<?, ?it/s]"
      ]
     },
     "metadata": {},
     "output_type": "display_data"
    },
    {
     "data": {
      "application/vnd.jupyter.widget-view+json": {
       "model_id": "ddfe68fe3a404227ae9bb8215a3f315e",
       "version_major": 2,
       "version_minor": 0
      },
      "text/plain": [
       "Training: |          | 0/? [00:00<?, ?it/s]"
      ]
     },
     "metadata": {},
     "output_type": "display_data"
    },
    {
     "data": {
      "application/vnd.jupyter.widget-view+json": {
       "model_id": "e05c562c439d4f4382556ad62fbe0e3f",
       "version_major": 2,
       "version_minor": 0
      },
      "text/plain": [
       "Validation: |          | 0/? [00:00<?, ?it/s]"
      ]
     },
     "metadata": {},
     "output_type": "display_data"
    },
    {
     "name": "stderr",
     "output_type": "stream",
     "text": [
      "`Trainer.fit` stopped: `max_steps=100` reached.\n",
      "GPU available: False, used: False\n",
      "TPU available: False, using: 0 TPU cores\n",
      "HPU available: False, using: 0 HPUs\n"
     ]
    },
    {
     "data": {
      "application/vnd.jupyter.widget-view+json": {
       "model_id": "280a00c176124ad19257f87489ccb008",
       "version_major": 2,
       "version_minor": 0
      },
      "text/plain": [
       "Predicting: |          | 0/? [00:00<?, ?it/s]"
      ]
     },
     "metadata": {},
     "output_type": "display_data"
    },
    {
     "data": {
      "text/html": [
       "<div>\n",
       "<style scoped>\n",
       "    .dataframe tbody tr th:only-of-type {\n",
       "        vertical-align: middle;\n",
       "    }\n",
       "\n",
       "    .dataframe tbody tr th {\n",
       "        vertical-align: top;\n",
       "    }\n",
       "\n",
       "    .dataframe thead th {\n",
       "        text-align: right;\n",
       "    }\n",
       "</style>\n",
       "<table border=\"1\" class=\"dataframe\">\n",
       "  <thead>\n",
       "    <tr style=\"text-align: right;\">\n",
       "      <th></th>\n",
       "      <th>unique_id</th>\n",
       "      <th>ds</th>\n",
       "      <th>cutoff</th>\n",
       "      <th>TSMixerx</th>\n",
       "      <th>y</th>\n",
       "    </tr>\n",
       "  </thead>\n",
       "  <tbody>\n",
       "    <tr>\n",
       "      <th>0</th>\n",
       "      <td>dummy</td>\n",
       "      <td>2024-06-13</td>\n",
       "      <td>2024-06-12</td>\n",
       "      <td>0.052663</td>\n",
       "      <td>-0.103219</td>\n",
       "    </tr>\n",
       "    <tr>\n",
       "      <th>1</th>\n",
       "      <td>dummy</td>\n",
       "      <td>2024-06-14</td>\n",
       "      <td>2024-06-12</td>\n",
       "      <td>0.050090</td>\n",
       "      <td>0.410599</td>\n",
       "    </tr>\n",
       "    <tr>\n",
       "      <th>2</th>\n",
       "      <td>dummy</td>\n",
       "      <td>2024-06-17</td>\n",
       "      <td>2024-06-12</td>\n",
       "      <td>0.050845</td>\n",
       "      <td>0.144044</td>\n",
       "    </tr>\n",
       "    <tr>\n",
       "      <th>3</th>\n",
       "      <td>dummy</td>\n",
       "      <td>2024-06-18</td>\n",
       "      <td>2024-06-12</td>\n",
       "      <td>0.050837</td>\n",
       "      <td>1.454273</td>\n",
       "    </tr>\n",
       "    <tr>\n",
       "      <th>4</th>\n",
       "      <td>dummy</td>\n",
       "      <td>2024-06-19</td>\n",
       "      <td>2024-06-12</td>\n",
       "      <td>0.051511</td>\n",
       "      <td>0.761038</td>\n",
       "    </tr>\n",
       "    <tr>\n",
       "      <th>...</th>\n",
       "      <td>...</td>\n",
       "      <td>...</td>\n",
       "      <td>...</td>\n",
       "      <td>...</td>\n",
       "      <td>...</td>\n",
       "    </tr>\n",
       "    <tr>\n",
       "      <th>175</th>\n",
       "      <td>dummy</td>\n",
       "      <td>2025-02-13</td>\n",
       "      <td>2025-02-05</td>\n",
       "      <td>-0.300414</td>\n",
       "      <td>-2.223403</td>\n",
       "    </tr>\n",
       "    <tr>\n",
       "      <th>176</th>\n",
       "      <td>dummy</td>\n",
       "      <td>2025-02-14</td>\n",
       "      <td>2025-02-05</td>\n",
       "      <td>-0.531020</td>\n",
       "      <td>0.625231</td>\n",
       "    </tr>\n",
       "    <tr>\n",
       "      <th>177</th>\n",
       "      <td>dummy</td>\n",
       "      <td>2025-02-17</td>\n",
       "      <td>2025-02-05</td>\n",
       "      <td>-0.659425</td>\n",
       "      <td>-1.602058</td>\n",
       "    </tr>\n",
       "    <tr>\n",
       "      <th>178</th>\n",
       "      <td>dummy</td>\n",
       "      <td>2025-02-18</td>\n",
       "      <td>2025-02-05</td>\n",
       "      <td>-0.423441</td>\n",
       "      <td>-1.104383</td>\n",
       "    </tr>\n",
       "    <tr>\n",
       "      <th>179</th>\n",
       "      <td>dummy</td>\n",
       "      <td>2025-02-19</td>\n",
       "      <td>2025-02-05</td>\n",
       "      <td>-0.728004</td>\n",
       "      <td>0.052165</td>\n",
       "    </tr>\n",
       "  </tbody>\n",
       "</table>\n",
       "<p>180 rows × 5 columns</p>\n",
       "</div>"
      ],
      "text/plain": [
       "    unique_id         ds     cutoff  TSMixerx         y\n",
       "0       dummy 2024-06-13 2024-06-12  0.052663 -0.103219\n",
       "1       dummy 2024-06-14 2024-06-12  0.050090  0.410599\n",
       "2       dummy 2024-06-17 2024-06-12  0.050845  0.144044\n",
       "3       dummy 2024-06-18 2024-06-12  0.050837  1.454273\n",
       "4       dummy 2024-06-19 2024-06-12  0.051511  0.761038\n",
       "..        ...        ...        ...       ...       ...\n",
       "175     dummy 2025-02-13 2025-02-05 -0.300414 -2.223403\n",
       "176     dummy 2025-02-14 2025-02-05 -0.531020  0.625231\n",
       "177     dummy 2025-02-17 2025-02-05 -0.659425 -1.602058\n",
       "178     dummy 2025-02-18 2025-02-05 -0.423441 -1.104383\n",
       "179     dummy 2025-02-19 2025-02-05 -0.728004  0.052165\n",
       "\n",
       "[180 rows x 5 columns]"
      ]
     },
     "execution_count": 5,
     "metadata": {},
     "output_type": "execute_result"
    }
   ],
   "source": [
    "import pandas as pd\n",
    "import numpy as np\n",
    "import logging\n",
    "import torch\n",
    "from neuralforecast.core import NeuralForecast\n",
    "from neuralforecast.models import TSMixerx\n",
    "\n",
    "# Prep dummy data\n",
    "start_date = \"2024-06-01\"\n",
    "end_date = \"2025-02-19\"\n",
    "date_range = pd.date_range(start=start_date, end=end_date, freq=\"B\")\n",
    "np.random.seed(0)\n",
    "df = pd.DataFrame(\n",
    "    {\n",
    "        \"unique_id\": \"dummy\",\n",
    "        \"ds\": date_range,\n",
    "        \"y\": np.random.randn(len(date_range)),\n",
    "        \"val1\": np.random.randn(len(date_range)),\n",
    "        \"val2\": np.random.rand(len(date_range)),\n",
    "    }\n",
    ")\n",
    "\n",
    "logging.getLogger(\"pytorch_lightning\").setLevel(logging.ERROR)\n",
    "torch.set_float32_matmul_precision(\"medium\")\n",
    "\n",
    "horizon = 10\n",
    "input_size = 30\n",
    "val_size = 50\n",
    "models = [\n",
    "    TSMixerx(\n",
    "        h=horizon,\n",
    "        input_size=input_size,\n",
    "        n_series=1,\n",
    "        max_steps=100,\n",
    "        random_seed=0,\n",
    "        hist_exog_list=[\"val1\", \"val2\"],\n",
    "    ),\n",
    "]\n",
    "\n",
    "nf = NeuralForecast(\n",
    "    models=models,\n",
    "    freq=\"B\",\n",
    "    local_scaler_type=\"robust\",\n",
    ")\n",
    "nf.fit(df=df, val_size=val_size)\n",
    "\n",
    "Y_hat_insample = nf.predict_insample(step_size=horizon)\n",
    "# Y_hat_insample = nf.predict_insample()\n",
    "\n",
    "Y_hat_insample"
   ]
  },
  {
   "cell_type": "code",
   "execution_count": 91,
   "metadata": {},
   "outputs": [
    {
     "name": "stderr",
     "output_type": "stream",
     "text": [
      "Using bfloat16 Automatic Mixed Precision (AMP)\n",
      "GPU available: False, used: False\n",
      "TPU available: False, using: 0 TPU cores\n",
      "HPU available: False, using: 0 HPUs\n"
     ]
    },
    {
     "data": {
      "application/vnd.jupyter.widget-view+json": {
       "model_id": "b958a637c7354fc5ba285ccf079276be",
       "version_major": 2,
       "version_minor": 0
      },
      "text/plain": [
       "Predicting: |          | 0/? [00:00<?, ?it/s]"
      ]
     },
     "metadata": {},
     "output_type": "display_data"
    }
   ],
   "source": [
    "predict = nf.predict(df)"
   ]
  },
  {
   "cell_type": "code",
   "execution_count": 92,
   "metadata": {},
   "outputs": [
    {
     "data": {
      "text/html": [
       "<div>\n",
       "<style scoped>\n",
       "    .dataframe tbody tr th:only-of-type {\n",
       "        vertical-align: middle;\n",
       "    }\n",
       "\n",
       "    .dataframe tbody tr th {\n",
       "        vertical-align: top;\n",
       "    }\n",
       "\n",
       "    .dataframe thead th {\n",
       "        text-align: right;\n",
       "    }\n",
       "</style>\n",
       "<table border=\"1\" class=\"dataframe\">\n",
       "  <thead>\n",
       "    <tr style=\"text-align: right;\">\n",
       "      <th></th>\n",
       "      <th>unique_id</th>\n",
       "      <th>ds</th>\n",
       "      <th>TSMixerx</th>\n",
       "    </tr>\n",
       "  </thead>\n",
       "  <tbody>\n",
       "    <tr>\n",
       "      <th>0</th>\n",
       "      <td>dummy</td>\n",
       "      <td>2025-02-20</td>\n",
       "      <td>-0.417738</td>\n",
       "    </tr>\n",
       "    <tr>\n",
       "      <th>1</th>\n",
       "      <td>dummy</td>\n",
       "      <td>2025-02-21</td>\n",
       "      <td>-0.259691</td>\n",
       "    </tr>\n",
       "    <tr>\n",
       "      <th>2</th>\n",
       "      <td>dummy</td>\n",
       "      <td>2025-02-24</td>\n",
       "      <td>-1.090499</td>\n",
       "    </tr>\n",
       "    <tr>\n",
       "      <th>3</th>\n",
       "      <td>dummy</td>\n",
       "      <td>2025-02-25</td>\n",
       "      <td>-0.265254</td>\n",
       "    </tr>\n",
       "    <tr>\n",
       "      <th>4</th>\n",
       "      <td>dummy</td>\n",
       "      <td>2025-02-26</td>\n",
       "      <td>-0.411193</td>\n",
       "    </tr>\n",
       "    <tr>\n",
       "      <th>5</th>\n",
       "      <td>dummy</td>\n",
       "      <td>2025-02-27</td>\n",
       "      <td>0.590095</td>\n",
       "    </tr>\n",
       "    <tr>\n",
       "      <th>6</th>\n",
       "      <td>dummy</td>\n",
       "      <td>2025-02-28</td>\n",
       "      <td>-0.237768</td>\n",
       "    </tr>\n",
       "    <tr>\n",
       "      <th>7</th>\n",
       "      <td>dummy</td>\n",
       "      <td>2025-03-03</td>\n",
       "      <td>-0.552552</td>\n",
       "    </tr>\n",
       "    <tr>\n",
       "      <th>8</th>\n",
       "      <td>dummy</td>\n",
       "      <td>2025-03-04</td>\n",
       "      <td>-0.145492</td>\n",
       "    </tr>\n",
       "    <tr>\n",
       "      <th>9</th>\n",
       "      <td>dummy</td>\n",
       "      <td>2025-03-05</td>\n",
       "      <td>-0.692601</td>\n",
       "    </tr>\n",
       "  </tbody>\n",
       "</table>\n",
       "</div>"
      ],
      "text/plain": [
       "  unique_id         ds  TSMixerx\n",
       "0     dummy 2025-02-20 -0.417738\n",
       "1     dummy 2025-02-21 -0.259691\n",
       "2     dummy 2025-02-24 -1.090499\n",
       "3     dummy 2025-02-25 -0.265254\n",
       "4     dummy 2025-02-26 -0.411193\n",
       "5     dummy 2025-02-27  0.590095\n",
       "6     dummy 2025-02-28 -0.237768\n",
       "7     dummy 2025-03-03 -0.552552\n",
       "8     dummy 2025-03-04 -0.145492\n",
       "9     dummy 2025-03-05 -0.692601"
      ]
     },
     "execution_count": 92,
     "metadata": {},
     "output_type": "execute_result"
    }
   ],
   "source": [
    "predict"
   ]
  },
  {
   "cell_type": "code",
   "execution_count": 27,
   "metadata": {},
   "outputs": [
    {
     "data": {
      "text/html": [
       "<div>\n",
       "<style scoped>\n",
       "    .dataframe tbody tr th:only-of-type {\n",
       "        vertical-align: middle;\n",
       "    }\n",
       "\n",
       "    .dataframe tbody tr th {\n",
       "        vertical-align: top;\n",
       "    }\n",
       "\n",
       "    .dataframe thead th {\n",
       "        text-align: right;\n",
       "    }\n",
       "</style>\n",
       "<table border=\"1\" class=\"dataframe\">\n",
       "  <thead>\n",
       "    <tr style=\"text-align: right;\">\n",
       "      <th></th>\n",
       "      <th>unique_id</th>\n",
       "      <th>ds</th>\n",
       "      <th>cutoff</th>\n",
       "      <th>TSMixerx</th>\n",
       "      <th>y</th>\n",
       "    </tr>\n",
       "  </thead>\n",
       "  <tbody>\n",
       "    <tr>\n",
       "      <th>0</th>\n",
       "      <td>dummy</td>\n",
       "      <td>2024-06-13</td>\n",
       "      <td>2024-06-12</td>\n",
       "      <td>-0.027986</td>\n",
       "      <td>-0.103219</td>\n",
       "    </tr>\n",
       "    <tr>\n",
       "      <th>1</th>\n",
       "      <td>dummy</td>\n",
       "      <td>2024-06-14</td>\n",
       "      <td>2024-06-12</td>\n",
       "      <td>0.511104</td>\n",
       "      <td>0.410599</td>\n",
       "    </tr>\n",
       "    <tr>\n",
       "      <th>2</th>\n",
       "      <td>dummy</td>\n",
       "      <td>2024-06-17</td>\n",
       "      <td>2024-06-12</td>\n",
       "      <td>0.145619</td>\n",
       "      <td>0.144044</td>\n",
       "    </tr>\n",
       "    <tr>\n",
       "      <th>3</th>\n",
       "      <td>dummy</td>\n",
       "      <td>2024-06-18</td>\n",
       "      <td>2024-06-12</td>\n",
       "      <td>-0.190626</td>\n",
       "      <td>1.454273</td>\n",
       "    </tr>\n",
       "    <tr>\n",
       "      <th>4</th>\n",
       "      <td>dummy</td>\n",
       "      <td>2024-06-19</td>\n",
       "      <td>2024-06-12</td>\n",
       "      <td>-0.222789</td>\n",
       "      <td>0.761038</td>\n",
       "    </tr>\n",
       "    <tr>\n",
       "      <th>5</th>\n",
       "      <td>dummy</td>\n",
       "      <td>2024-06-20</td>\n",
       "      <td>2024-06-12</td>\n",
       "      <td>-0.131418</td>\n",
       "      <td>0.121675</td>\n",
       "    </tr>\n",
       "    <tr>\n",
       "      <th>6</th>\n",
       "      <td>dummy</td>\n",
       "      <td>2024-06-21</td>\n",
       "      <td>2024-06-12</td>\n",
       "      <td>-0.333896</td>\n",
       "      <td>0.443863</td>\n",
       "    </tr>\n",
       "    <tr>\n",
       "      <th>7</th>\n",
       "      <td>dummy</td>\n",
       "      <td>2024-06-24</td>\n",
       "      <td>2024-06-12</td>\n",
       "      <td>-0.591197</td>\n",
       "      <td>0.333674</td>\n",
       "    </tr>\n",
       "    <tr>\n",
       "      <th>8</th>\n",
       "      <td>dummy</td>\n",
       "      <td>2024-06-25</td>\n",
       "      <td>2024-06-12</td>\n",
       "      <td>0.120766</td>\n",
       "      <td>1.494079</td>\n",
       "    </tr>\n",
       "    <tr>\n",
       "      <th>9</th>\n",
       "      <td>dummy</td>\n",
       "      <td>2024-06-26</td>\n",
       "      <td>2024-06-12</td>\n",
       "      <td>0.633906</td>\n",
       "      <td>-0.205158</td>\n",
       "    </tr>\n",
       "    <tr>\n",
       "      <th>10</th>\n",
       "      <td>dummy</td>\n",
       "      <td>2024-06-27</td>\n",
       "      <td>2024-06-26</td>\n",
       "      <td>-0.250566</td>\n",
       "      <td>0.313068</td>\n",
       "    </tr>\n",
       "    <tr>\n",
       "      <th>11</th>\n",
       "      <td>dummy</td>\n",
       "      <td>2024-06-28</td>\n",
       "      <td>2024-06-26</td>\n",
       "      <td>-0.512253</td>\n",
       "      <td>-0.854096</td>\n",
       "    </tr>\n",
       "    <tr>\n",
       "      <th>12</th>\n",
       "      <td>dummy</td>\n",
       "      <td>2024-07-01</td>\n",
       "      <td>2024-06-26</td>\n",
       "      <td>-0.825107</td>\n",
       "      <td>-2.552989</td>\n",
       "    </tr>\n",
       "    <tr>\n",
       "      <th>13</th>\n",
       "      <td>dummy</td>\n",
       "      <td>2024-07-02</td>\n",
       "      <td>2024-06-26</td>\n",
       "      <td>-0.971301</td>\n",
       "      <td>0.653619</td>\n",
       "    </tr>\n",
       "    <tr>\n",
       "      <th>14</th>\n",
       "      <td>dummy</td>\n",
       "      <td>2024-07-03</td>\n",
       "      <td>2024-06-26</td>\n",
       "      <td>0.413154</td>\n",
       "      <td>0.864436</td>\n",
       "    </tr>\n",
       "    <tr>\n",
       "      <th>15</th>\n",
       "      <td>dummy</td>\n",
       "      <td>2024-07-04</td>\n",
       "      <td>2024-06-26</td>\n",
       "      <td>0.348829</td>\n",
       "      <td>-0.742165</td>\n",
       "    </tr>\n",
       "    <tr>\n",
       "      <th>16</th>\n",
       "      <td>dummy</td>\n",
       "      <td>2024-07-05</td>\n",
       "      <td>2024-06-26</td>\n",
       "      <td>-0.035296</td>\n",
       "      <td>2.269755</td>\n",
       "    </tr>\n",
       "    <tr>\n",
       "      <th>17</th>\n",
       "      <td>dummy</td>\n",
       "      <td>2024-07-08</td>\n",
       "      <td>2024-06-26</td>\n",
       "      <td>-0.386526</td>\n",
       "      <td>-1.454366</td>\n",
       "    </tr>\n",
       "    <tr>\n",
       "      <th>18</th>\n",
       "      <td>dummy</td>\n",
       "      <td>2024-07-09</td>\n",
       "      <td>2024-06-26</td>\n",
       "      <td>-0.090484</td>\n",
       "      <td>0.045759</td>\n",
       "    </tr>\n",
       "    <tr>\n",
       "      <th>19</th>\n",
       "      <td>dummy</td>\n",
       "      <td>2024-07-10</td>\n",
       "      <td>2024-06-26</td>\n",
       "      <td>-0.306120</td>\n",
       "      <td>-0.187184</td>\n",
       "    </tr>\n",
       "    <tr>\n",
       "      <th>20</th>\n",
       "      <td>dummy</td>\n",
       "      <td>2024-07-11</td>\n",
       "      <td>2024-07-10</td>\n",
       "      <td>-0.643827</td>\n",
       "      <td>1.532779</td>\n",
       "    </tr>\n",
       "    <tr>\n",
       "      <th>21</th>\n",
       "      <td>dummy</td>\n",
       "      <td>2024-07-12</td>\n",
       "      <td>2024-07-10</td>\n",
       "      <td>-0.392374</td>\n",
       "      <td>1.469359</td>\n",
       "    </tr>\n",
       "    <tr>\n",
       "      <th>22</th>\n",
       "      <td>dummy</td>\n",
       "      <td>2024-07-15</td>\n",
       "      <td>2024-07-10</td>\n",
       "      <td>-0.354363</td>\n",
       "      <td>0.154947</td>\n",
       "    </tr>\n",
       "    <tr>\n",
       "      <th>23</th>\n",
       "      <td>dummy</td>\n",
       "      <td>2024-07-16</td>\n",
       "      <td>2024-07-10</td>\n",
       "      <td>0.366372</td>\n",
       "      <td>0.378163</td>\n",
       "    </tr>\n",
       "    <tr>\n",
       "      <th>24</th>\n",
       "      <td>dummy</td>\n",
       "      <td>2024-07-17</td>\n",
       "      <td>2024-07-10</td>\n",
       "      <td>-0.468395</td>\n",
       "      <td>-0.887786</td>\n",
       "    </tr>\n",
       "    <tr>\n",
       "      <th>25</th>\n",
       "      <td>dummy</td>\n",
       "      <td>2024-07-18</td>\n",
       "      <td>2024-07-10</td>\n",
       "      <td>-0.380678</td>\n",
       "      <td>-1.980796</td>\n",
       "    </tr>\n",
       "    <tr>\n",
       "      <th>26</th>\n",
       "      <td>dummy</td>\n",
       "      <td>2024-07-19</td>\n",
       "      <td>2024-07-10</td>\n",
       "      <td>-0.053204</td>\n",
       "      <td>-0.347912</td>\n",
       "    </tr>\n",
       "    <tr>\n",
       "      <th>27</th>\n",
       "      <td>dummy</td>\n",
       "      <td>2024-07-22</td>\n",
       "      <td>2024-07-10</td>\n",
       "      <td>0.077639</td>\n",
       "      <td>0.156349</td>\n",
       "    </tr>\n",
       "    <tr>\n",
       "      <th>28</th>\n",
       "      <td>dummy</td>\n",
       "      <td>2024-07-23</td>\n",
       "      <td>2024-07-10</td>\n",
       "      <td>0.157315</td>\n",
       "      <td>1.230291</td>\n",
       "    </tr>\n",
       "    <tr>\n",
       "      <th>29</th>\n",
       "      <td>dummy</td>\n",
       "      <td>2024-07-24</td>\n",
       "      <td>2024-07-10</td>\n",
       "      <td>-0.209632</td>\n",
       "      <td>1.202380</td>\n",
       "    </tr>\n",
       "    <tr>\n",
       "      <th>30</th>\n",
       "      <td>dummy</td>\n",
       "      <td>2024-07-25</td>\n",
       "      <td>2024-07-24</td>\n",
       "      <td>0.038806</td>\n",
       "      <td>-0.387327</td>\n",
       "    </tr>\n",
       "    <tr>\n",
       "      <th>31</th>\n",
       "      <td>dummy</td>\n",
       "      <td>2024-07-26</td>\n",
       "      <td>2024-07-24</td>\n",
       "      <td>-0.136535</td>\n",
       "      <td>-0.302303</td>\n",
       "    </tr>\n",
       "    <tr>\n",
       "      <th>32</th>\n",
       "      <td>dummy</td>\n",
       "      <td>2024-07-29</td>\n",
       "      <td>2024-07-24</td>\n",
       "      <td>-0.224251</td>\n",
       "      <td>-1.048553</td>\n",
       "    </tr>\n",
       "    <tr>\n",
       "      <th>33</th>\n",
       "      <td>dummy</td>\n",
       "      <td>2024-07-30</td>\n",
       "      <td>2024-07-24</td>\n",
       "      <td>-0.439156</td>\n",
       "      <td>-1.420018</td>\n",
       "    </tr>\n",
       "    <tr>\n",
       "      <th>34</th>\n",
       "      <td>dummy</td>\n",
       "      <td>2024-07-31</td>\n",
       "      <td>2024-07-24</td>\n",
       "      <td>-0.357287</td>\n",
       "      <td>-1.706270</td>\n",
       "    </tr>\n",
       "    <tr>\n",
       "      <th>35</th>\n",
       "      <td>dummy</td>\n",
       "      <td>2024-08-01</td>\n",
       "      <td>2024-07-24</td>\n",
       "      <td>-0.328049</td>\n",
       "      <td>1.950775</td>\n",
       "    </tr>\n",
       "    <tr>\n",
       "      <th>36</th>\n",
       "      <td>dummy</td>\n",
       "      <td>2024-08-02</td>\n",
       "      <td>2024-07-24</td>\n",
       "      <td>-0.174545</td>\n",
       "      <td>-0.509652</td>\n",
       "    </tr>\n",
       "    <tr>\n",
       "      <th>37</th>\n",
       "      <td>dummy</td>\n",
       "      <td>2024-08-05</td>\n",
       "      <td>2024-07-24</td>\n",
       "      <td>-0.075133</td>\n",
       "      <td>-0.438074</td>\n",
       "    </tr>\n",
       "    <tr>\n",
       "      <th>38</th>\n",
       "      <td>dummy</td>\n",
       "      <td>2024-08-06</td>\n",
       "      <td>2024-07-24</td>\n",
       "      <td>-0.813412</td>\n",
       "      <td>-1.252795</td>\n",
       "    </tr>\n",
       "    <tr>\n",
       "      <th>39</th>\n",
       "      <td>dummy</td>\n",
       "      <td>2024-08-07</td>\n",
       "      <td>2024-07-24</td>\n",
       "      <td>0.421926</td>\n",
       "      <td>0.777490</td>\n",
       "    </tr>\n",
       "    <tr>\n",
       "      <th>40</th>\n",
       "      <td>dummy</td>\n",
       "      <td>2024-08-08</td>\n",
       "      <td>2024-08-07</td>\n",
       "      <td>-0.737391</td>\n",
       "      <td>-1.613898</td>\n",
       "    </tr>\n",
       "    <tr>\n",
       "      <th>41</th>\n",
       "      <td>dummy</td>\n",
       "      <td>2024-08-09</td>\n",
       "      <td>2024-08-07</td>\n",
       "      <td>-0.023600</td>\n",
       "      <td>-0.212740</td>\n",
       "    </tr>\n",
       "    <tr>\n",
       "      <th>42</th>\n",
       "      <td>dummy</td>\n",
       "      <td>2024-08-12</td>\n",
       "      <td>2024-08-07</td>\n",
       "      <td>-0.714000</td>\n",
       "      <td>-0.895467</td>\n",
       "    </tr>\n",
       "    <tr>\n",
       "      <th>43</th>\n",
       "      <td>dummy</td>\n",
       "      <td>2024-08-13</td>\n",
       "      <td>2024-08-07</td>\n",
       "      <td>-0.089753</td>\n",
       "      <td>0.386903</td>\n",
       "    </tr>\n",
       "    <tr>\n",
       "      <th>44</th>\n",
       "      <td>dummy</td>\n",
       "      <td>2024-08-14</td>\n",
       "      <td>2024-08-07</td>\n",
       "      <td>0.372220</td>\n",
       "      <td>-0.510805</td>\n",
       "    </tr>\n",
       "    <tr>\n",
       "      <th>45</th>\n",
       "      <td>dummy</td>\n",
       "      <td>2024-08-15</td>\n",
       "      <td>2024-08-07</td>\n",
       "      <td>-0.186241</td>\n",
       "      <td>-1.180632</td>\n",
       "    </tr>\n",
       "    <tr>\n",
       "      <th>46</th>\n",
       "      <td>dummy</td>\n",
       "      <td>2024-08-16</td>\n",
       "      <td>2024-08-07</td>\n",
       "      <td>0.354676</td>\n",
       "      <td>-0.028182</td>\n",
       "    </tr>\n",
       "    <tr>\n",
       "      <th>47</th>\n",
       "      <td>dummy</td>\n",
       "      <td>2024-08-19</td>\n",
       "      <td>2024-08-07</td>\n",
       "      <td>0.511104</td>\n",
       "      <td>0.428332</td>\n",
       "    </tr>\n",
       "    <tr>\n",
       "      <th>48</th>\n",
       "      <td>dummy</td>\n",
       "      <td>2024-08-20</td>\n",
       "      <td>2024-08-07</td>\n",
       "      <td>-0.043702</td>\n",
       "      <td>0.066517</td>\n",
       "    </tr>\n",
       "    <tr>\n",
       "      <th>49</th>\n",
       "      <td>dummy</td>\n",
       "      <td>2024-08-21</td>\n",
       "      <td>2024-08-07</td>\n",
       "      <td>-0.500557</td>\n",
       "      <td>0.302472</td>\n",
       "    </tr>\n",
       "    <tr>\n",
       "      <th>50</th>\n",
       "      <td>dummy</td>\n",
       "      <td>2024-08-22</td>\n",
       "      <td>2024-08-21</td>\n",
       "      <td>-0.209632</td>\n",
       "      <td>-0.634322</td>\n",
       "    </tr>\n",
       "    <tr>\n",
       "      <th>51</th>\n",
       "      <td>dummy</td>\n",
       "      <td>2024-08-23</td>\n",
       "      <td>2024-08-21</td>\n",
       "      <td>0.084583</td>\n",
       "      <td>-0.362741</td>\n",
       "    </tr>\n",
       "    <tr>\n",
       "      <th>52</th>\n",
       "      <td>dummy</td>\n",
       "      <td>2024-08-26</td>\n",
       "      <td>2024-08-21</td>\n",
       "      <td>-1.023931</td>\n",
       "      <td>-0.672460</td>\n",
       "    </tr>\n",
       "    <tr>\n",
       "      <th>53</th>\n",
       "      <td>dummy</td>\n",
       "      <td>2024-08-27</td>\n",
       "      <td>2024-08-21</td>\n",
       "      <td>-0.924519</td>\n",
       "      <td>-0.359553</td>\n",
       "    </tr>\n",
       "    <tr>\n",
       "      <th>54</th>\n",
       "      <td>dummy</td>\n",
       "      <td>2024-08-28</td>\n",
       "      <td>2024-08-21</td>\n",
       "      <td>0.082390</td>\n",
       "      <td>-0.813146</td>\n",
       "    </tr>\n",
       "    <tr>\n",
       "      <th>55</th>\n",
       "      <td>dummy</td>\n",
       "      <td>2024-08-29</td>\n",
       "      <td>2024-08-21</td>\n",
       "      <td>-0.597045</td>\n",
       "      <td>-1.726282</td>\n",
       "    </tr>\n",
       "    <tr>\n",
       "      <th>56</th>\n",
       "      <td>dummy</td>\n",
       "      <td>2024-08-30</td>\n",
       "      <td>2024-08-21</td>\n",
       "      <td>-0.106565</td>\n",
       "      <td>0.177426</td>\n",
       "    </tr>\n",
       "    <tr>\n",
       "      <th>57</th>\n",
       "      <td>dummy</td>\n",
       "      <td>2024-09-02</td>\n",
       "      <td>2024-08-21</td>\n",
       "      <td>0.149274</td>\n",
       "      <td>-0.401781</td>\n",
       "    </tr>\n",
       "    <tr>\n",
       "      <th>58</th>\n",
       "      <td>dummy</td>\n",
       "      <td>2024-09-03</td>\n",
       "      <td>2024-08-21</td>\n",
       "      <td>0.440931</td>\n",
       "      <td>-1.630198</td>\n",
       "    </tr>\n",
       "    <tr>\n",
       "      <th>59</th>\n",
       "      <td>dummy</td>\n",
       "      <td>2024-09-04</td>\n",
       "      <td>2024-08-21</td>\n",
       "      <td>-0.090484</td>\n",
       "      <td>0.462782</td>\n",
       "    </tr>\n",
       "    <tr>\n",
       "      <th>60</th>\n",
       "      <td>dummy</td>\n",
       "      <td>2024-09-05</td>\n",
       "      <td>2024-09-04</td>\n",
       "      <td>-0.285652</td>\n",
       "      <td>-0.907298</td>\n",
       "    </tr>\n",
       "    <tr>\n",
       "      <th>61</th>\n",
       "      <td>dummy</td>\n",
       "      <td>2024-09-06</td>\n",
       "      <td>2024-09-04</td>\n",
       "      <td>0.443855</td>\n",
       "      <td>0.051945</td>\n",
       "    </tr>\n",
       "    <tr>\n",
       "      <th>62</th>\n",
       "      <td>dummy</td>\n",
       "      <td>2024-09-09</td>\n",
       "      <td>2024-09-04</td>\n",
       "      <td>-0.180393</td>\n",
       "      <td>0.729091</td>\n",
       "    </tr>\n",
       "    <tr>\n",
       "      <th>63</th>\n",
       "      <td>dummy</td>\n",
       "      <td>2024-09-10</td>\n",
       "      <td>2024-09-04</td>\n",
       "      <td>-0.022869</td>\n",
       "      <td>0.128983</td>\n",
       "    </tr>\n",
       "    <tr>\n",
       "      <th>64</th>\n",
       "      <td>dummy</td>\n",
       "      <td>2024-09-11</td>\n",
       "      <td>2024-09-04</td>\n",
       "      <td>0.228219</td>\n",
       "      <td>1.139401</td>\n",
       "    </tr>\n",
       "    <tr>\n",
       "      <th>65</th>\n",
       "      <td>dummy</td>\n",
       "      <td>2024-09-12</td>\n",
       "      <td>2024-09-04</td>\n",
       "      <td>-0.328049</td>\n",
       "      <td>-1.234826</td>\n",
       "    </tr>\n",
       "    <tr>\n",
       "      <th>66</th>\n",
       "      <td>dummy</td>\n",
       "      <td>2024-09-13</td>\n",
       "      <td>2024-09-04</td>\n",
       "      <td>-0.325125</td>\n",
       "      <td>0.402342</td>\n",
       "    </tr>\n",
       "    <tr>\n",
       "      <th>67</th>\n",
       "      <td>dummy</td>\n",
       "      <td>2024-09-16</td>\n",
       "      <td>2024-09-04</td>\n",
       "      <td>-0.901128</td>\n",
       "      <td>-0.684810</td>\n",
       "    </tr>\n",
       "    <tr>\n",
       "      <th>68</th>\n",
       "      <td>dummy</td>\n",
       "      <td>2024-09-17</td>\n",
       "      <td>2024-09-04</td>\n",
       "      <td>-0.056859</td>\n",
       "      <td>-0.870797</td>\n",
       "    </tr>\n",
       "    <tr>\n",
       "      <th>69</th>\n",
       "      <td>dummy</td>\n",
       "      <td>2024-09-18</td>\n",
       "      <td>2024-09-04</td>\n",
       "      <td>0.249417</td>\n",
       "      <td>-0.578850</td>\n",
       "    </tr>\n",
       "    <tr>\n",
       "      <th>70</th>\n",
       "      <td>dummy</td>\n",
       "      <td>2024-09-19</td>\n",
       "      <td>2024-09-18</td>\n",
       "      <td>0.011852</td>\n",
       "      <td>-0.311553</td>\n",
       "    </tr>\n",
       "    <tr>\n",
       "      <th>71</th>\n",
       "      <td>dummy</td>\n",
       "      <td>2024-09-20</td>\n",
       "      <td>2024-09-18</td>\n",
       "      <td>-0.010443</td>\n",
       "      <td>0.056165</td>\n",
       "    </tr>\n",
       "    <tr>\n",
       "      <th>72</th>\n",
       "      <td>dummy</td>\n",
       "      <td>2024-09-23</td>\n",
       "      <td>2024-09-18</td>\n",
       "      <td>0.128807</td>\n",
       "      <td>-1.165150</td>\n",
       "    </tr>\n",
       "    <tr>\n",
       "      <th>73</th>\n",
       "      <td>dummy</td>\n",
       "      <td>2024-09-24</td>\n",
       "      <td>2024-09-18</td>\n",
       "      <td>-0.643827</td>\n",
       "      <td>0.900826</td>\n",
       "    </tr>\n",
       "    <tr>\n",
       "      <th>74</th>\n",
       "      <td>dummy</td>\n",
       "      <td>2024-09-25</td>\n",
       "      <td>2024-09-18</td>\n",
       "      <td>-0.480090</td>\n",
       "      <td>0.465662</td>\n",
       "    </tr>\n",
       "    <tr>\n",
       "      <th>75</th>\n",
       "      <td>dummy</td>\n",
       "      <td>2024-09-26</td>\n",
       "      <td>2024-09-18</td>\n",
       "      <td>-0.137997</td>\n",
       "      <td>-1.536244</td>\n",
       "    </tr>\n",
       "    <tr>\n",
       "      <th>76</th>\n",
       "      <td>dummy</td>\n",
       "      <td>2024-09-27</td>\n",
       "      <td>2024-09-18</td>\n",
       "      <td>-0.019945</td>\n",
       "      <td>1.488252</td>\n",
       "    </tr>\n",
       "    <tr>\n",
       "      <th>77</th>\n",
       "      <td>dummy</td>\n",
       "      <td>2024-09-30</td>\n",
       "      <td>2024-09-18</td>\n",
       "      <td>0.894131</td>\n",
       "      <td>1.895889</td>\n",
       "    </tr>\n",
       "    <tr>\n",
       "      <th>78</th>\n",
       "      <td>dummy</td>\n",
       "      <td>2024-10-01</td>\n",
       "      <td>2024-09-18</td>\n",
       "      <td>-0.077326</td>\n",
       "      <td>1.178780</td>\n",
       "    </tr>\n",
       "    <tr>\n",
       "      <th>79</th>\n",
       "      <td>dummy</td>\n",
       "      <td>2024-10-02</td>\n",
       "      <td>2024-09-18</td>\n",
       "      <td>-0.681838</td>\n",
       "      <td>-0.179925</td>\n",
       "    </tr>\n",
       "    <tr>\n",
       "      <th>80</th>\n",
       "      <td>dummy</td>\n",
       "      <td>2024-10-03</td>\n",
       "      <td>2024-10-02</td>\n",
       "      <td>0.426311</td>\n",
       "      <td>-1.070753</td>\n",
       "    </tr>\n",
       "    <tr>\n",
       "      <th>81</th>\n",
       "      <td>dummy</td>\n",
       "      <td>2024-10-04</td>\n",
       "      <td>2024-10-02</td>\n",
       "      <td>-0.263723</td>\n",
       "      <td>1.054452</td>\n",
       "    </tr>\n",
       "    <tr>\n",
       "      <th>82</th>\n",
       "      <td>dummy</td>\n",
       "      <td>2024-10-07</td>\n",
       "      <td>2024-10-02</td>\n",
       "      <td>0.642678</td>\n",
       "      <td>-0.403177</td>\n",
       "    </tr>\n",
       "    <tr>\n",
       "      <th>83</th>\n",
       "      <td>dummy</td>\n",
       "      <td>2024-10-08</td>\n",
       "      <td>2024-10-02</td>\n",
       "      <td>0.478941</td>\n",
       "      <td>1.222445</td>\n",
       "    </tr>\n",
       "    <tr>\n",
       "      <th>84</th>\n",
       "      <td>dummy</td>\n",
       "      <td>2024-10-09</td>\n",
       "      <td>2024-10-02</td>\n",
       "      <td>-0.159926</td>\n",
       "      <td>0.208275</td>\n",
       "    </tr>\n",
       "    <tr>\n",
       "      <th>85</th>\n",
       "      <td>dummy</td>\n",
       "      <td>2024-10-10</td>\n",
       "      <td>2024-10-02</td>\n",
       "      <td>0.476017</td>\n",
       "      <td>0.976639</td>\n",
       "    </tr>\n",
       "    <tr>\n",
       "      <th>86</th>\n",
       "      <td>dummy</td>\n",
       "      <td>2024-10-11</td>\n",
       "      <td>2024-10-02</td>\n",
       "      <td>0.122228</td>\n",
       "      <td>0.356366</td>\n",
       "    </tr>\n",
       "    <tr>\n",
       "      <th>87</th>\n",
       "      <td>dummy</td>\n",
       "      <td>2024-10-14</td>\n",
       "      <td>2024-10-02</td>\n",
       "      <td>-0.149692</td>\n",
       "      <td>0.706573</td>\n",
       "    </tr>\n",
       "    <tr>\n",
       "      <th>88</th>\n",
       "      <td>dummy</td>\n",
       "      <td>2024-10-15</td>\n",
       "      <td>2024-10-02</td>\n",
       "      <td>0.467246</td>\n",
       "      <td>0.010500</td>\n",
       "    </tr>\n",
       "    <tr>\n",
       "      <th>89</th>\n",
       "      <td>dummy</td>\n",
       "      <td>2024-10-16</td>\n",
       "      <td>2024-10-02</td>\n",
       "      <td>-0.319277</td>\n",
       "      <td>1.785871</td>\n",
       "    </tr>\n",
       "    <tr>\n",
       "      <th>90</th>\n",
       "      <td>dummy</td>\n",
       "      <td>2024-10-17</td>\n",
       "      <td>2024-10-16</td>\n",
       "      <td>0.105416</td>\n",
       "      <td>0.126912</td>\n",
       "    </tr>\n",
       "    <tr>\n",
       "      <th>91</th>\n",
       "      <td>dummy</td>\n",
       "      <td>2024-10-18</td>\n",
       "      <td>2024-10-16</td>\n",
       "      <td>0.929218</td>\n",
       "      <td>0.401989</td>\n",
       "    </tr>\n",
       "    <tr>\n",
       "      <th>92</th>\n",
       "      <td>dummy</td>\n",
       "      <td>2024-10-21</td>\n",
       "      <td>2024-10-16</td>\n",
       "      <td>0.300585</td>\n",
       "      <td>1.883151</td>\n",
       "    </tr>\n",
       "    <tr>\n",
       "      <th>93</th>\n",
       "      <td>dummy</td>\n",
       "      <td>2024-10-22</td>\n",
       "      <td>2024-10-16</td>\n",
       "      <td>-0.146768</td>\n",
       "      <td>-1.347759</td>\n",
       "    </tr>\n",
       "    <tr>\n",
       "      <th>94</th>\n",
       "      <td>dummy</td>\n",
       "      <td>2024-10-23</td>\n",
       "      <td>2024-10-16</td>\n",
       "      <td>0.009476</td>\n",
       "      <td>-1.270485</td>\n",
       "    </tr>\n",
       "    <tr>\n",
       "      <th>95</th>\n",
       "      <td>dummy</td>\n",
       "      <td>2024-10-24</td>\n",
       "      <td>2024-10-16</td>\n",
       "      <td>-0.348516</td>\n",
       "      <td>0.969397</td>\n",
       "    </tr>\n",
       "    <tr>\n",
       "      <th>96</th>\n",
       "      <td>dummy</td>\n",
       "      <td>2024-10-25</td>\n",
       "      <td>2024-10-16</td>\n",
       "      <td>-0.506405</td>\n",
       "      <td>-1.173123</td>\n",
       "    </tr>\n",
       "    <tr>\n",
       "      <th>97</th>\n",
       "      <td>dummy</td>\n",
       "      <td>2024-10-28</td>\n",
       "      <td>2024-10-16</td>\n",
       "      <td>-0.383602</td>\n",
       "      <td>1.943621</td>\n",
       "    </tr>\n",
       "    <tr>\n",
       "      <th>98</th>\n",
       "      <td>dummy</td>\n",
       "      <td>2024-10-29</td>\n",
       "      <td>2024-10-16</td>\n",
       "      <td>-0.877737</td>\n",
       "      <td>-0.413619</td>\n",
       "    </tr>\n",
       "    <tr>\n",
       "      <th>99</th>\n",
       "      <td>dummy</td>\n",
       "      <td>2024-10-30</td>\n",
       "      <td>2024-10-16</td>\n",
       "      <td>0.718699</td>\n",
       "      <td>-0.747455</td>\n",
       "    </tr>\n",
       "    <tr>\n",
       "      <th>100</th>\n",
       "      <td>dummy</td>\n",
       "      <td>2024-10-31</td>\n",
       "      <td>2024-10-30</td>\n",
       "      <td>0.265498</td>\n",
       "      <td>1.922942</td>\n",
       "    </tr>\n",
       "    <tr>\n",
       "      <th>101</th>\n",
       "      <td>dummy</td>\n",
       "      <td>2024-11-01</td>\n",
       "      <td>2024-10-30</td>\n",
       "      <td>-0.078057</td>\n",
       "      <td>1.480515</td>\n",
       "    </tr>\n",
       "    <tr>\n",
       "      <th>102</th>\n",
       "      <td>dummy</td>\n",
       "      <td>2024-11-04</td>\n",
       "      <td>2024-10-30</td>\n",
       "      <td>0.118573</td>\n",
       "      <td>1.867559</td>\n",
       "    </tr>\n",
       "    <tr>\n",
       "      <th>103</th>\n",
       "      <td>dummy</td>\n",
       "      <td>2024-11-05</td>\n",
       "      <td>2024-10-30</td>\n",
       "      <td>0.584201</td>\n",
       "      <td>0.906045</td>\n",
       "    </tr>\n",
       "    <tr>\n",
       "      <th>104</th>\n",
       "      <td>dummy</td>\n",
       "      <td>2024-11-06</td>\n",
       "      <td>2024-10-30</td>\n",
       "      <td>-0.214017</td>\n",
       "      <td>-0.861226</td>\n",
       "    </tr>\n",
       "    <tr>\n",
       "      <th>105</th>\n",
       "      <td>dummy</td>\n",
       "      <td>2024-11-07</td>\n",
       "      <td>2024-10-30</td>\n",
       "      <td>-0.012636</td>\n",
       "      <td>1.910065</td>\n",
       "    </tr>\n",
       "    <tr>\n",
       "      <th>106</th>\n",
       "      <td>dummy</td>\n",
       "      <td>2024-11-08</td>\n",
       "      <td>2024-10-30</td>\n",
       "      <td>0.016055</td>\n",
       "      <td>-0.268003</td>\n",
       "    </tr>\n",
       "    <tr>\n",
       "      <th>107</th>\n",
       "      <td>dummy</td>\n",
       "      <td>2024-11-11</td>\n",
       "      <td>2024-10-30</td>\n",
       "      <td>0.252341</td>\n",
       "      <td>0.802456</td>\n",
       "    </tr>\n",
       "    <tr>\n",
       "      <th>108</th>\n",
       "      <td>dummy</td>\n",
       "      <td>2024-11-12</td>\n",
       "      <td>2024-10-30</td>\n",
       "      <td>0.499408</td>\n",
       "      <td>0.947252</td>\n",
       "    </tr>\n",
       "    <tr>\n",
       "      <th>109</th>\n",
       "      <td>dummy</td>\n",
       "      <td>2024-11-13</td>\n",
       "      <td>2024-10-30</td>\n",
       "      <td>-0.488862</td>\n",
       "      <td>-0.155010</td>\n",
       "    </tr>\n",
       "    <tr>\n",
       "      <th>110</th>\n",
       "      <td>dummy</td>\n",
       "      <td>2024-11-14</td>\n",
       "      <td>2024-11-13</td>\n",
       "      <td>0.331285</td>\n",
       "      <td>0.614079</td>\n",
       "    </tr>\n",
       "    <tr>\n",
       "      <th>111</th>\n",
       "      <td>dummy</td>\n",
       "      <td>2024-11-15</td>\n",
       "      <td>2024-11-13</td>\n",
       "      <td>-0.547339</td>\n",
       "      <td>0.922207</td>\n",
       "    </tr>\n",
       "    <tr>\n",
       "      <th>112</th>\n",
       "      <td>dummy</td>\n",
       "      <td>2024-11-18</td>\n",
       "      <td>2024-11-13</td>\n",
       "      <td>0.094269</td>\n",
       "      <td>0.376426</td>\n",
       "    </tr>\n",
       "    <tr>\n",
       "      <th>113</th>\n",
       "      <td>dummy</td>\n",
       "      <td>2024-11-19</td>\n",
       "      <td>2024-11-13</td>\n",
       "      <td>0.136482</td>\n",
       "      <td>-1.099401</td>\n",
       "    </tr>\n",
       "    <tr>\n",
       "      <th>114</th>\n",
       "      <td>dummy</td>\n",
       "      <td>2024-11-20</td>\n",
       "      <td>2024-11-13</td>\n",
       "      <td>0.592972</td>\n",
       "      <td>0.298238</td>\n",
       "    </tr>\n",
       "    <tr>\n",
       "      <th>115</th>\n",
       "      <td>dummy</td>\n",
       "      <td>2024-11-21</td>\n",
       "      <td>2024-11-13</td>\n",
       "      <td>-0.018118</td>\n",
       "      <td>1.326386</td>\n",
       "    </tr>\n",
       "    <tr>\n",
       "      <th>116</th>\n",
       "      <td>dummy</td>\n",
       "      <td>2024-11-22</td>\n",
       "      <td>2024-11-13</td>\n",
       "      <td>-0.719848</td>\n",
       "      <td>-0.694568</td>\n",
       "    </tr>\n",
       "    <tr>\n",
       "      <th>117</th>\n",
       "      <td>dummy</td>\n",
       "      <td>2024-11-25</td>\n",
       "      <td>2024-11-13</td>\n",
       "      <td>-0.480090</td>\n",
       "      <td>-0.149635</td>\n",
       "    </tr>\n",
       "    <tr>\n",
       "      <th>118</th>\n",
       "      <td>dummy</td>\n",
       "      <td>2024-11-26</td>\n",
       "      <td>2024-11-13</td>\n",
       "      <td>-0.148230</td>\n",
       "      <td>-0.435154</td>\n",
       "    </tr>\n",
       "    <tr>\n",
       "      <th>119</th>\n",
       "      <td>dummy</td>\n",
       "      <td>2024-11-27</td>\n",
       "      <td>2024-11-13</td>\n",
       "      <td>-0.136535</td>\n",
       "      <td>1.849264</td>\n",
       "    </tr>\n",
       "    <tr>\n",
       "      <th>120</th>\n",
       "      <td>dummy</td>\n",
       "      <td>2024-11-28</td>\n",
       "      <td>2024-11-27</td>\n",
       "      <td>-0.883585</td>\n",
       "      <td>0.672295</td>\n",
       "    </tr>\n",
       "    <tr>\n",
       "      <th>121</th>\n",
       "      <td>dummy</td>\n",
       "      <td>2024-11-29</td>\n",
       "      <td>2024-11-27</td>\n",
       "      <td>-0.048088</td>\n",
       "      <td>0.407462</td>\n",
       "    </tr>\n",
       "    <tr>\n",
       "      <th>122</th>\n",
       "      <td>dummy</td>\n",
       "      <td>2024-12-02</td>\n",
       "      <td>2024-11-27</td>\n",
       "      <td>-0.830955</td>\n",
       "      <td>-0.769916</td>\n",
       "    </tr>\n",
       "    <tr>\n",
       "      <th>123</th>\n",
       "      <td>dummy</td>\n",
       "      <td>2024-12-03</td>\n",
       "      <td>2024-11-27</td>\n",
       "      <td>0.294737</td>\n",
       "      <td>0.539249</td>\n",
       "    </tr>\n",
       "    <tr>\n",
       "      <th>124</th>\n",
       "      <td>dummy</td>\n",
       "      <td>2024-12-04</td>\n",
       "      <td>2024-11-27</td>\n",
       "      <td>-0.174545</td>\n",
       "      <td>-0.674333</td>\n",
       "    </tr>\n",
       "    <tr>\n",
       "      <th>125</th>\n",
       "      <td>dummy</td>\n",
       "      <td>2024-12-05</td>\n",
       "      <td>2024-11-27</td>\n",
       "      <td>-0.749087</td>\n",
       "      <td>0.031831</td>\n",
       "    </tr>\n",
       "    <tr>\n",
       "      <th>126</th>\n",
       "      <td>dummy</td>\n",
       "      <td>2024-12-06</td>\n",
       "      <td>2024-11-27</td>\n",
       "      <td>-0.146768</td>\n",
       "      <td>-0.635846</td>\n",
       "    </tr>\n",
       "    <tr>\n",
       "      <th>127</th>\n",
       "      <td>dummy</td>\n",
       "      <td>2024-12-09</td>\n",
       "      <td>2024-11-27</td>\n",
       "      <td>-0.235947</td>\n",
       "      <td>0.676433</td>\n",
       "    </tr>\n",
       "    <tr>\n",
       "      <th>128</th>\n",
       "      <td>dummy</td>\n",
       "      <td>2024-12-10</td>\n",
       "      <td>2024-11-27</td>\n",
       "      <td>0.043284</td>\n",
       "      <td>0.576591</td>\n",
       "    </tr>\n",
       "    <tr>\n",
       "      <th>129</th>\n",
       "      <td>dummy</td>\n",
       "      <td>2024-12-11</td>\n",
       "      <td>2024-11-27</td>\n",
       "      <td>-0.371907</td>\n",
       "      <td>-0.208299</td>\n",
       "    </tr>\n",
       "    <tr>\n",
       "      <th>130</th>\n",
       "      <td>dummy</td>\n",
       "      <td>2024-12-12</td>\n",
       "      <td>2024-12-11</td>\n",
       "      <td>0.174127</td>\n",
       "      <td>0.396007</td>\n",
       "    </tr>\n",
       "    <tr>\n",
       "      <th>131</th>\n",
       "      <td>dummy</td>\n",
       "      <td>2024-12-13</td>\n",
       "      <td>2024-12-11</td>\n",
       "      <td>-0.292962</td>\n",
       "      <td>-1.093062</td>\n",
       "    </tr>\n",
       "    <tr>\n",
       "      <th>132</th>\n",
       "      <td>dummy</td>\n",
       "      <td>2024-12-16</td>\n",
       "      <td>2024-12-11</td>\n",
       "      <td>-0.228637</td>\n",
       "      <td>-1.491258</td>\n",
       "    </tr>\n",
       "    <tr>\n",
       "      <th>133</th>\n",
       "      <td>dummy</td>\n",
       "      <td>2024-12-17</td>\n",
       "      <td>2024-12-11</td>\n",
       "      <td>-0.348516</td>\n",
       "      <td>0.439392</td>\n",
       "    </tr>\n",
       "    <tr>\n",
       "      <th>134</th>\n",
       "      <td>dummy</td>\n",
       "      <td>2024-12-18</td>\n",
       "      <td>2024-12-11</td>\n",
       "      <td>0.242107</td>\n",
       "      <td>0.166673</td>\n",
       "    </tr>\n",
       "    <tr>\n",
       "      <th>135</th>\n",
       "      <td>dummy</td>\n",
       "      <td>2024-12-19</td>\n",
       "      <td>2024-12-11</td>\n",
       "      <td>0.002349</td>\n",
       "      <td>0.635031</td>\n",
       "    </tr>\n",
       "    <tr>\n",
       "      <th>136</th>\n",
       "      <td>dummy</td>\n",
       "      <td>2024-12-20</td>\n",
       "      <td>2024-12-11</td>\n",
       "      <td>-0.447927</td>\n",
       "      <td>2.383145</td>\n",
       "    </tr>\n",
       "    <tr>\n",
       "      <th>137</th>\n",
       "      <td>dummy</td>\n",
       "      <td>2024-12-23</td>\n",
       "      <td>2024-12-11</td>\n",
       "      <td>-0.295886</td>\n",
       "      <td>0.944479</td>\n",
       "    </tr>\n",
       "    <tr>\n",
       "      <th>138</th>\n",
       "      <td>dummy</td>\n",
       "      <td>2024-12-24</td>\n",
       "      <td>2024-12-11</td>\n",
       "      <td>-0.064169</td>\n",
       "      <td>-0.912822</td>\n",
       "    </tr>\n",
       "    <tr>\n",
       "      <th>139</th>\n",
       "      <td>dummy</td>\n",
       "      <td>2024-12-25</td>\n",
       "      <td>2024-12-11</td>\n",
       "      <td>-0.640903</td>\n",
       "      <td>1.117016</td>\n",
       "    </tr>\n",
       "    <tr>\n",
       "      <th>140</th>\n",
       "      <td>dummy</td>\n",
       "      <td>2024-12-26</td>\n",
       "      <td>2024-12-25</td>\n",
       "      <td>0.303509</td>\n",
       "      <td>-1.315907</td>\n",
       "    </tr>\n",
       "    <tr>\n",
       "      <th>141</th>\n",
       "      <td>dummy</td>\n",
       "      <td>2024-12-27</td>\n",
       "      <td>2024-12-25</td>\n",
       "      <td>-0.151154</td>\n",
       "      <td>-0.461585</td>\n",
       "    </tr>\n",
       "    <tr>\n",
       "      <th>142</th>\n",
       "      <td>dummy</td>\n",
       "      <td>2024-12-30</td>\n",
       "      <td>2024-12-25</td>\n",
       "      <td>0.272808</td>\n",
       "      <td>-0.068242</td>\n",
       "    </tr>\n",
       "    <tr>\n",
       "      <th>143</th>\n",
       "      <td>dummy</td>\n",
       "      <td>2024-12-31</td>\n",
       "      <td>2024-12-25</td>\n",
       "      <td>0.572505</td>\n",
       "      <td>1.713343</td>\n",
       "    </tr>\n",
       "    <tr>\n",
       "      <th>144</th>\n",
       "      <td>dummy</td>\n",
       "      <td>2025-01-01</td>\n",
       "      <td>2024-12-25</td>\n",
       "      <td>-0.131418</td>\n",
       "      <td>-0.744755</td>\n",
       "    </tr>\n",
       "    <tr>\n",
       "      <th>145</th>\n",
       "      <td>dummy</td>\n",
       "      <td>2025-01-02</td>\n",
       "      <td>2024-12-25</td>\n",
       "      <td>0.122959</td>\n",
       "      <td>-0.826439</td>\n",
       "    </tr>\n",
       "    <tr>\n",
       "      <th>146</th>\n",
       "      <td>dummy</td>\n",
       "      <td>2025-01-03</td>\n",
       "      <td>2024-12-25</td>\n",
       "      <td>-0.436232</td>\n",
       "      <td>-0.098453</td>\n",
       "    </tr>\n",
       "    <tr>\n",
       "      <th>147</th>\n",
       "      <td>dummy</td>\n",
       "      <td>2025-01-06</td>\n",
       "      <td>2024-12-25</td>\n",
       "      <td>-0.328049</td>\n",
       "      <td>-0.663478</td>\n",
       "    </tr>\n",
       "    <tr>\n",
       "      <th>148</th>\n",
       "      <td>dummy</td>\n",
       "      <td>2025-01-07</td>\n",
       "      <td>2024-12-25</td>\n",
       "      <td>-0.234485</td>\n",
       "      <td>1.126636</td>\n",
       "    </tr>\n",
       "    <tr>\n",
       "      <th>149</th>\n",
       "      <td>dummy</td>\n",
       "      <td>2025-01-08</td>\n",
       "      <td>2024-12-25</td>\n",
       "      <td>-0.342668</td>\n",
       "      <td>-1.079931</td>\n",
       "    </tr>\n",
       "    <tr>\n",
       "      <th>150</th>\n",
       "      <td>dummy</td>\n",
       "      <td>2025-01-09</td>\n",
       "      <td>2025-01-08</td>\n",
       "      <td>0.249417</td>\n",
       "      <td>-1.147469</td>\n",
       "    </tr>\n",
       "    <tr>\n",
       "      <th>151</th>\n",
       "      <td>dummy</td>\n",
       "      <td>2025-01-10</td>\n",
       "      <td>2025-01-08</td>\n",
       "      <td>-0.120453</td>\n",
       "      <td>-0.437820</td>\n",
       "    </tr>\n",
       "    <tr>\n",
       "      <th>152</th>\n",
       "      <td>dummy</td>\n",
       "      <td>2025-01-13</td>\n",
       "      <td>2025-01-08</td>\n",
       "      <td>0.334209</td>\n",
       "      <td>-0.498032</td>\n",
       "    </tr>\n",
       "    <tr>\n",
       "      <th>153</th>\n",
       "      <td>dummy</td>\n",
       "      <td>2025-01-14</td>\n",
       "      <td>2025-01-08</td>\n",
       "      <td>-0.506405</td>\n",
       "      <td>1.929532</td>\n",
       "    </tr>\n",
       "    <tr>\n",
       "      <th>154</th>\n",
       "      <td>dummy</td>\n",
       "      <td>2025-01-15</td>\n",
       "      <td>2025-01-08</td>\n",
       "      <td>0.137579</td>\n",
       "      <td>0.949421</td>\n",
       "    </tr>\n",
       "    <tr>\n",
       "      <th>155</th>\n",
       "      <td>dummy</td>\n",
       "      <td>2025-01-16</td>\n",
       "      <td>2025-01-08</td>\n",
       "      <td>0.242107</td>\n",
       "      <td>0.087551</td>\n",
       "    </tr>\n",
       "    <tr>\n",
       "      <th>156</th>\n",
       "      <td>dummy</td>\n",
       "      <td>2025-01-17</td>\n",
       "      <td>2025-01-08</td>\n",
       "      <td>-0.412841</td>\n",
       "      <td>-1.225435</td>\n",
       "    </tr>\n",
       "    <tr>\n",
       "      <th>157</th>\n",
       "      <td>dummy</td>\n",
       "      <td>2025-01-20</td>\n",
       "      <td>2025-01-08</td>\n",
       "      <td>0.128807</td>\n",
       "      <td>0.844363</td>\n",
       "    </tr>\n",
       "    <tr>\n",
       "      <th>158</th>\n",
       "      <td>dummy</td>\n",
       "      <td>2025-01-21</td>\n",
       "      <td>2025-01-08</td>\n",
       "      <td>-0.103641</td>\n",
       "      <td>-1.000215</td>\n",
       "    </tr>\n",
       "    <tr>\n",
       "      <th>159</th>\n",
       "      <td>dummy</td>\n",
       "      <td>2025-01-22</td>\n",
       "      <td>2025-01-08</td>\n",
       "      <td>-0.048088</td>\n",
       "      <td>-1.544771</td>\n",
       "    </tr>\n",
       "    <tr>\n",
       "      <th>160</th>\n",
       "      <td>dummy</td>\n",
       "      <td>2025-01-23</td>\n",
       "      <td>2025-01-22</td>\n",
       "      <td>NaN</td>\n",
       "      <td>1.188030</td>\n",
       "    </tr>\n",
       "    <tr>\n",
       "      <th>161</th>\n",
       "      <td>dummy</td>\n",
       "      <td>2025-01-24</td>\n",
       "      <td>2025-01-22</td>\n",
       "      <td>NaN</td>\n",
       "      <td>0.316943</td>\n",
       "    </tr>\n",
       "    <tr>\n",
       "      <th>162</th>\n",
       "      <td>dummy</td>\n",
       "      <td>2025-01-27</td>\n",
       "      <td>2025-01-22</td>\n",
       "      <td>NaN</td>\n",
       "      <td>0.920859</td>\n",
       "    </tr>\n",
       "    <tr>\n",
       "      <th>163</th>\n",
       "      <td>dummy</td>\n",
       "      <td>2025-01-28</td>\n",
       "      <td>2025-01-22</td>\n",
       "      <td>NaN</td>\n",
       "      <td>0.318728</td>\n",
       "    </tr>\n",
       "    <tr>\n",
       "      <th>164</th>\n",
       "      <td>dummy</td>\n",
       "      <td>2025-01-29</td>\n",
       "      <td>2025-01-22</td>\n",
       "      <td>NaN</td>\n",
       "      <td>0.856831</td>\n",
       "    </tr>\n",
       "    <tr>\n",
       "      <th>165</th>\n",
       "      <td>dummy</td>\n",
       "      <td>2025-01-30</td>\n",
       "      <td>2025-01-22</td>\n",
       "      <td>NaN</td>\n",
       "      <td>-0.651026</td>\n",
       "    </tr>\n",
       "    <tr>\n",
       "      <th>166</th>\n",
       "      <td>dummy</td>\n",
       "      <td>2025-01-31</td>\n",
       "      <td>2025-01-22</td>\n",
       "      <td>NaN</td>\n",
       "      <td>-1.034243</td>\n",
       "    </tr>\n",
       "    <tr>\n",
       "      <th>167</th>\n",
       "      <td>dummy</td>\n",
       "      <td>2025-02-03</td>\n",
       "      <td>2025-01-22</td>\n",
       "      <td>NaN</td>\n",
       "      <td>0.681594</td>\n",
       "    </tr>\n",
       "    <tr>\n",
       "      <th>168</th>\n",
       "      <td>dummy</td>\n",
       "      <td>2025-02-04</td>\n",
       "      <td>2025-01-22</td>\n",
       "      <td>NaN</td>\n",
       "      <td>-0.803410</td>\n",
       "    </tr>\n",
       "    <tr>\n",
       "      <th>169</th>\n",
       "      <td>dummy</td>\n",
       "      <td>2025-02-05</td>\n",
       "      <td>2025-01-22</td>\n",
       "      <td>NaN</td>\n",
       "      <td>-0.689550</td>\n",
       "    </tr>\n",
       "    <tr>\n",
       "      <th>170</th>\n",
       "      <td>dummy</td>\n",
       "      <td>2025-02-06</td>\n",
       "      <td>2025-02-05</td>\n",
       "      <td>NaN</td>\n",
       "      <td>-0.455532</td>\n",
       "    </tr>\n",
       "    <tr>\n",
       "      <th>171</th>\n",
       "      <td>dummy</td>\n",
       "      <td>2025-02-07</td>\n",
       "      <td>2025-02-05</td>\n",
       "      <td>NaN</td>\n",
       "      <td>0.017479</td>\n",
       "    </tr>\n",
       "    <tr>\n",
       "      <th>172</th>\n",
       "      <td>dummy</td>\n",
       "      <td>2025-02-10</td>\n",
       "      <td>2025-02-05</td>\n",
       "      <td>NaN</td>\n",
       "      <td>-0.353994</td>\n",
       "    </tr>\n",
       "    <tr>\n",
       "      <th>173</th>\n",
       "      <td>dummy</td>\n",
       "      <td>2025-02-11</td>\n",
       "      <td>2025-02-05</td>\n",
       "      <td>NaN</td>\n",
       "      <td>-1.374951</td>\n",
       "    </tr>\n",
       "    <tr>\n",
       "      <th>174</th>\n",
       "      <td>dummy</td>\n",
       "      <td>2025-02-12</td>\n",
       "      <td>2025-02-05</td>\n",
       "      <td>NaN</td>\n",
       "      <td>-0.643618</td>\n",
       "    </tr>\n",
       "    <tr>\n",
       "      <th>175</th>\n",
       "      <td>dummy</td>\n",
       "      <td>2025-02-13</td>\n",
       "      <td>2025-02-05</td>\n",
       "      <td>NaN</td>\n",
       "      <td>-2.223403</td>\n",
       "    </tr>\n",
       "    <tr>\n",
       "      <th>176</th>\n",
       "      <td>dummy</td>\n",
       "      <td>2025-02-14</td>\n",
       "      <td>2025-02-05</td>\n",
       "      <td>NaN</td>\n",
       "      <td>0.625231</td>\n",
       "    </tr>\n",
       "    <tr>\n",
       "      <th>177</th>\n",
       "      <td>dummy</td>\n",
       "      <td>2025-02-17</td>\n",
       "      <td>2025-02-05</td>\n",
       "      <td>NaN</td>\n",
       "      <td>-1.602058</td>\n",
       "    </tr>\n",
       "    <tr>\n",
       "      <th>178</th>\n",
       "      <td>dummy</td>\n",
       "      <td>2025-02-18</td>\n",
       "      <td>2025-02-05</td>\n",
       "      <td>NaN</td>\n",
       "      <td>-1.104383</td>\n",
       "    </tr>\n",
       "    <tr>\n",
       "      <th>179</th>\n",
       "      <td>dummy</td>\n",
       "      <td>2025-02-19</td>\n",
       "      <td>2025-02-05</td>\n",
       "      <td>NaN</td>\n",
       "      <td>0.052165</td>\n",
       "    </tr>\n",
       "  </tbody>\n",
       "</table>\n",
       "</div>"
      ],
      "text/plain": [
       "    unique_id         ds     cutoff  TSMixerx         y\n",
       "0       dummy 2024-06-13 2024-06-12 -0.027986 -0.103219\n",
       "1       dummy 2024-06-14 2024-06-12  0.511104  0.410599\n",
       "2       dummy 2024-06-17 2024-06-12  0.145619  0.144044\n",
       "3       dummy 2024-06-18 2024-06-12 -0.190626  1.454273\n",
       "4       dummy 2024-06-19 2024-06-12 -0.222789  0.761038\n",
       "5       dummy 2024-06-20 2024-06-12 -0.131418  0.121675\n",
       "6       dummy 2024-06-21 2024-06-12 -0.333896  0.443863\n",
       "7       dummy 2024-06-24 2024-06-12 -0.591197  0.333674\n",
       "8       dummy 2024-06-25 2024-06-12  0.120766  1.494079\n",
       "9       dummy 2024-06-26 2024-06-12  0.633906 -0.205158\n",
       "10      dummy 2024-06-27 2024-06-26 -0.250566  0.313068\n",
       "11      dummy 2024-06-28 2024-06-26 -0.512253 -0.854096\n",
       "12      dummy 2024-07-01 2024-06-26 -0.825107 -2.552989\n",
       "13      dummy 2024-07-02 2024-06-26 -0.971301  0.653619\n",
       "14      dummy 2024-07-03 2024-06-26  0.413154  0.864436\n",
       "15      dummy 2024-07-04 2024-06-26  0.348829 -0.742165\n",
       "16      dummy 2024-07-05 2024-06-26 -0.035296  2.269755\n",
       "17      dummy 2024-07-08 2024-06-26 -0.386526 -1.454366\n",
       "18      dummy 2024-07-09 2024-06-26 -0.090484  0.045759\n",
       "19      dummy 2024-07-10 2024-06-26 -0.306120 -0.187184\n",
       "20      dummy 2024-07-11 2024-07-10 -0.643827  1.532779\n",
       "21      dummy 2024-07-12 2024-07-10 -0.392374  1.469359\n",
       "22      dummy 2024-07-15 2024-07-10 -0.354363  0.154947\n",
       "23      dummy 2024-07-16 2024-07-10  0.366372  0.378163\n",
       "24      dummy 2024-07-17 2024-07-10 -0.468395 -0.887786\n",
       "25      dummy 2024-07-18 2024-07-10 -0.380678 -1.980796\n",
       "26      dummy 2024-07-19 2024-07-10 -0.053204 -0.347912\n",
       "27      dummy 2024-07-22 2024-07-10  0.077639  0.156349\n",
       "28      dummy 2024-07-23 2024-07-10  0.157315  1.230291\n",
       "29      dummy 2024-07-24 2024-07-10 -0.209632  1.202380\n",
       "30      dummy 2024-07-25 2024-07-24  0.038806 -0.387327\n",
       "31      dummy 2024-07-26 2024-07-24 -0.136535 -0.302303\n",
       "32      dummy 2024-07-29 2024-07-24 -0.224251 -1.048553\n",
       "33      dummy 2024-07-30 2024-07-24 -0.439156 -1.420018\n",
       "34      dummy 2024-07-31 2024-07-24 -0.357287 -1.706270\n",
       "35      dummy 2024-08-01 2024-07-24 -0.328049  1.950775\n",
       "36      dummy 2024-08-02 2024-07-24 -0.174545 -0.509652\n",
       "37      dummy 2024-08-05 2024-07-24 -0.075133 -0.438074\n",
       "38      dummy 2024-08-06 2024-07-24 -0.813412 -1.252795\n",
       "39      dummy 2024-08-07 2024-07-24  0.421926  0.777490\n",
       "40      dummy 2024-08-08 2024-08-07 -0.737391 -1.613898\n",
       "41      dummy 2024-08-09 2024-08-07 -0.023600 -0.212740\n",
       "42      dummy 2024-08-12 2024-08-07 -0.714000 -0.895467\n",
       "43      dummy 2024-08-13 2024-08-07 -0.089753  0.386903\n",
       "44      dummy 2024-08-14 2024-08-07  0.372220 -0.510805\n",
       "45      dummy 2024-08-15 2024-08-07 -0.186241 -1.180632\n",
       "46      dummy 2024-08-16 2024-08-07  0.354676 -0.028182\n",
       "47      dummy 2024-08-19 2024-08-07  0.511104  0.428332\n",
       "48      dummy 2024-08-20 2024-08-07 -0.043702  0.066517\n",
       "49      dummy 2024-08-21 2024-08-07 -0.500557  0.302472\n",
       "50      dummy 2024-08-22 2024-08-21 -0.209632 -0.634322\n",
       "51      dummy 2024-08-23 2024-08-21  0.084583 -0.362741\n",
       "52      dummy 2024-08-26 2024-08-21 -1.023931 -0.672460\n",
       "53      dummy 2024-08-27 2024-08-21 -0.924519 -0.359553\n",
       "54      dummy 2024-08-28 2024-08-21  0.082390 -0.813146\n",
       "55      dummy 2024-08-29 2024-08-21 -0.597045 -1.726282\n",
       "56      dummy 2024-08-30 2024-08-21 -0.106565  0.177426\n",
       "57      dummy 2024-09-02 2024-08-21  0.149274 -0.401781\n",
       "58      dummy 2024-09-03 2024-08-21  0.440931 -1.630198\n",
       "59      dummy 2024-09-04 2024-08-21 -0.090484  0.462782\n",
       "60      dummy 2024-09-05 2024-09-04 -0.285652 -0.907298\n",
       "61      dummy 2024-09-06 2024-09-04  0.443855  0.051945\n",
       "62      dummy 2024-09-09 2024-09-04 -0.180393  0.729091\n",
       "63      dummy 2024-09-10 2024-09-04 -0.022869  0.128983\n",
       "64      dummy 2024-09-11 2024-09-04  0.228219  1.139401\n",
       "65      dummy 2024-09-12 2024-09-04 -0.328049 -1.234826\n",
       "66      dummy 2024-09-13 2024-09-04 -0.325125  0.402342\n",
       "67      dummy 2024-09-16 2024-09-04 -0.901128 -0.684810\n",
       "68      dummy 2024-09-17 2024-09-04 -0.056859 -0.870797\n",
       "69      dummy 2024-09-18 2024-09-04  0.249417 -0.578850\n",
       "70      dummy 2024-09-19 2024-09-18  0.011852 -0.311553\n",
       "71      dummy 2024-09-20 2024-09-18 -0.010443  0.056165\n",
       "72      dummy 2024-09-23 2024-09-18  0.128807 -1.165150\n",
       "73      dummy 2024-09-24 2024-09-18 -0.643827  0.900826\n",
       "74      dummy 2024-09-25 2024-09-18 -0.480090  0.465662\n",
       "75      dummy 2024-09-26 2024-09-18 -0.137997 -1.536244\n",
       "76      dummy 2024-09-27 2024-09-18 -0.019945  1.488252\n",
       "77      dummy 2024-09-30 2024-09-18  0.894131  1.895889\n",
       "78      dummy 2024-10-01 2024-09-18 -0.077326  1.178780\n",
       "79      dummy 2024-10-02 2024-09-18 -0.681838 -0.179925\n",
       "80      dummy 2024-10-03 2024-10-02  0.426311 -1.070753\n",
       "81      dummy 2024-10-04 2024-10-02 -0.263723  1.054452\n",
       "82      dummy 2024-10-07 2024-10-02  0.642678 -0.403177\n",
       "83      dummy 2024-10-08 2024-10-02  0.478941  1.222445\n",
       "84      dummy 2024-10-09 2024-10-02 -0.159926  0.208275\n",
       "85      dummy 2024-10-10 2024-10-02  0.476017  0.976639\n",
       "86      dummy 2024-10-11 2024-10-02  0.122228  0.356366\n",
       "87      dummy 2024-10-14 2024-10-02 -0.149692  0.706573\n",
       "88      dummy 2024-10-15 2024-10-02  0.467246  0.010500\n",
       "89      dummy 2024-10-16 2024-10-02 -0.319277  1.785871\n",
       "90      dummy 2024-10-17 2024-10-16  0.105416  0.126912\n",
       "91      dummy 2024-10-18 2024-10-16  0.929218  0.401989\n",
       "92      dummy 2024-10-21 2024-10-16  0.300585  1.883151\n",
       "93      dummy 2024-10-22 2024-10-16 -0.146768 -1.347759\n",
       "94      dummy 2024-10-23 2024-10-16  0.009476 -1.270485\n",
       "95      dummy 2024-10-24 2024-10-16 -0.348516  0.969397\n",
       "96      dummy 2024-10-25 2024-10-16 -0.506405 -1.173123\n",
       "97      dummy 2024-10-28 2024-10-16 -0.383602  1.943621\n",
       "98      dummy 2024-10-29 2024-10-16 -0.877737 -0.413619\n",
       "99      dummy 2024-10-30 2024-10-16  0.718699 -0.747455\n",
       "100     dummy 2024-10-31 2024-10-30  0.265498  1.922942\n",
       "101     dummy 2024-11-01 2024-10-30 -0.078057  1.480515\n",
       "102     dummy 2024-11-04 2024-10-30  0.118573  1.867559\n",
       "103     dummy 2024-11-05 2024-10-30  0.584201  0.906045\n",
       "104     dummy 2024-11-06 2024-10-30 -0.214017 -0.861226\n",
       "105     dummy 2024-11-07 2024-10-30 -0.012636  1.910065\n",
       "106     dummy 2024-11-08 2024-10-30  0.016055 -0.268003\n",
       "107     dummy 2024-11-11 2024-10-30  0.252341  0.802456\n",
       "108     dummy 2024-11-12 2024-10-30  0.499408  0.947252\n",
       "109     dummy 2024-11-13 2024-10-30 -0.488862 -0.155010\n",
       "110     dummy 2024-11-14 2024-11-13  0.331285  0.614079\n",
       "111     dummy 2024-11-15 2024-11-13 -0.547339  0.922207\n",
       "112     dummy 2024-11-18 2024-11-13  0.094269  0.376426\n",
       "113     dummy 2024-11-19 2024-11-13  0.136482 -1.099401\n",
       "114     dummy 2024-11-20 2024-11-13  0.592972  0.298238\n",
       "115     dummy 2024-11-21 2024-11-13 -0.018118  1.326386\n",
       "116     dummy 2024-11-22 2024-11-13 -0.719848 -0.694568\n",
       "117     dummy 2024-11-25 2024-11-13 -0.480090 -0.149635\n",
       "118     dummy 2024-11-26 2024-11-13 -0.148230 -0.435154\n",
       "119     dummy 2024-11-27 2024-11-13 -0.136535  1.849264\n",
       "120     dummy 2024-11-28 2024-11-27 -0.883585  0.672295\n",
       "121     dummy 2024-11-29 2024-11-27 -0.048088  0.407462\n",
       "122     dummy 2024-12-02 2024-11-27 -0.830955 -0.769916\n",
       "123     dummy 2024-12-03 2024-11-27  0.294737  0.539249\n",
       "124     dummy 2024-12-04 2024-11-27 -0.174545 -0.674333\n",
       "125     dummy 2024-12-05 2024-11-27 -0.749087  0.031831\n",
       "126     dummy 2024-12-06 2024-11-27 -0.146768 -0.635846\n",
       "127     dummy 2024-12-09 2024-11-27 -0.235947  0.676433\n",
       "128     dummy 2024-12-10 2024-11-27  0.043284  0.576591\n",
       "129     dummy 2024-12-11 2024-11-27 -0.371907 -0.208299\n",
       "130     dummy 2024-12-12 2024-12-11  0.174127  0.396007\n",
       "131     dummy 2024-12-13 2024-12-11 -0.292962 -1.093062\n",
       "132     dummy 2024-12-16 2024-12-11 -0.228637 -1.491258\n",
       "133     dummy 2024-12-17 2024-12-11 -0.348516  0.439392\n",
       "134     dummy 2024-12-18 2024-12-11  0.242107  0.166673\n",
       "135     dummy 2024-12-19 2024-12-11  0.002349  0.635031\n",
       "136     dummy 2024-12-20 2024-12-11 -0.447927  2.383145\n",
       "137     dummy 2024-12-23 2024-12-11 -0.295886  0.944479\n",
       "138     dummy 2024-12-24 2024-12-11 -0.064169 -0.912822\n",
       "139     dummy 2024-12-25 2024-12-11 -0.640903  1.117016\n",
       "140     dummy 2024-12-26 2024-12-25  0.303509 -1.315907\n",
       "141     dummy 2024-12-27 2024-12-25 -0.151154 -0.461585\n",
       "142     dummy 2024-12-30 2024-12-25  0.272808 -0.068242\n",
       "143     dummy 2024-12-31 2024-12-25  0.572505  1.713343\n",
       "144     dummy 2025-01-01 2024-12-25 -0.131418 -0.744755\n",
       "145     dummy 2025-01-02 2024-12-25  0.122959 -0.826439\n",
       "146     dummy 2025-01-03 2024-12-25 -0.436232 -0.098453\n",
       "147     dummy 2025-01-06 2024-12-25 -0.328049 -0.663478\n",
       "148     dummy 2025-01-07 2024-12-25 -0.234485  1.126636\n",
       "149     dummy 2025-01-08 2024-12-25 -0.342668 -1.079931\n",
       "150     dummy 2025-01-09 2025-01-08  0.249417 -1.147469\n",
       "151     dummy 2025-01-10 2025-01-08 -0.120453 -0.437820\n",
       "152     dummy 2025-01-13 2025-01-08  0.334209 -0.498032\n",
       "153     dummy 2025-01-14 2025-01-08 -0.506405  1.929532\n",
       "154     dummy 2025-01-15 2025-01-08  0.137579  0.949421\n",
       "155     dummy 2025-01-16 2025-01-08  0.242107  0.087551\n",
       "156     dummy 2025-01-17 2025-01-08 -0.412841 -1.225435\n",
       "157     dummy 2025-01-20 2025-01-08  0.128807  0.844363\n",
       "158     dummy 2025-01-21 2025-01-08 -0.103641 -1.000215\n",
       "159     dummy 2025-01-22 2025-01-08 -0.048088 -1.544771\n",
       "160     dummy 2025-01-23 2025-01-22       NaN  1.188030\n",
       "161     dummy 2025-01-24 2025-01-22       NaN  0.316943\n",
       "162     dummy 2025-01-27 2025-01-22       NaN  0.920859\n",
       "163     dummy 2025-01-28 2025-01-22       NaN  0.318728\n",
       "164     dummy 2025-01-29 2025-01-22       NaN  0.856831\n",
       "165     dummy 2025-01-30 2025-01-22       NaN -0.651026\n",
       "166     dummy 2025-01-31 2025-01-22       NaN -1.034243\n",
       "167     dummy 2025-02-03 2025-01-22       NaN  0.681594\n",
       "168     dummy 2025-02-04 2025-01-22       NaN -0.803410\n",
       "169     dummy 2025-02-05 2025-01-22       NaN -0.689550\n",
       "170     dummy 2025-02-06 2025-02-05       NaN -0.455532\n",
       "171     dummy 2025-02-07 2025-02-05       NaN  0.017479\n",
       "172     dummy 2025-02-10 2025-02-05       NaN -0.353994\n",
       "173     dummy 2025-02-11 2025-02-05       NaN -1.374951\n",
       "174     dummy 2025-02-12 2025-02-05       NaN -0.643618\n",
       "175     dummy 2025-02-13 2025-02-05       NaN -2.223403\n",
       "176     dummy 2025-02-14 2025-02-05       NaN  0.625231\n",
       "177     dummy 2025-02-17 2025-02-05       NaN -1.602058\n",
       "178     dummy 2025-02-18 2025-02-05       NaN -1.104383\n",
       "179     dummy 2025-02-19 2025-02-05       NaN  0.052165"
      ]
     },
     "execution_count": 27,
     "metadata": {},
     "output_type": "execute_result"
    }
   ],
   "source": [
    "pd.set_option(\"display.max_rows\", None)\n",
    "pd.set_option(\"display.max_columns\", None)\n",
    "Y_hat_insample"
   ]
  },
  {
   "cell_type": "markdown",
   "metadata": {},
   "source": [
    "# Horizon & Frequency"
   ]
  },
  {
   "cell_type": "code",
   "execution_count": null,
   "metadata": {},
   "outputs": [
    {
     "name": "stderr",
     "output_type": "stream",
     "text": [
      "Seed set to 0\n"
     ]
    },
    {
     "name": "stderr",
     "output_type": "stream",
     "text": [
      "GPU available: False, used: False\n",
      "TPU available: False, using: 0 TPU cores\n",
      "HPU available: False, using: 0 HPUs\n"
     ]
    },
    {
     "data": {
      "application/vnd.jupyter.widget-view+json": {
       "model_id": "a5979edbe4eb4a1fb810cde0efef17e1",
       "version_major": 2,
       "version_minor": 0
      },
      "text/plain": [
       "Sanity Checking: |          | 0/? [00:00<?, ?it/s]"
      ]
     },
     "metadata": {},
     "output_type": "display_data"
    },
    {
     "data": {
      "application/vnd.jupyter.widget-view+json": {
       "model_id": "c128981261c34928bb99602a115865dd",
       "version_major": 2,
       "version_minor": 0
      },
      "text/plain": [
       "Training: |          | 0/? [00:00<?, ?it/s]"
      ]
     },
     "metadata": {},
     "output_type": "display_data"
    },
    {
     "data": {
      "application/vnd.jupyter.widget-view+json": {
       "model_id": "4b729020c0cf4b13993f2debebfca1fa",
       "version_major": 2,
       "version_minor": 0
      },
      "text/plain": [
       "Validation: |          | 0/? [00:00<?, ?it/s]"
      ]
     },
     "metadata": {},
     "output_type": "display_data"
    },
    {
     "name": "stderr",
     "output_type": "stream",
     "text": [
      "`Trainer.fit` stopped: `max_steps=100` reached.\n",
      "GPU available: False, used: False\n",
      "TPU available: False, using: 0 TPU cores\n",
      "HPU available: False, using: 0 HPUs\n"
     ]
    },
    {
     "data": {
      "application/vnd.jupyter.widget-view+json": {
       "model_id": "c102e57f8d8f4add804837c0adf0d088",
       "version_major": 2,
       "version_minor": 0
      },
      "text/plain": [
       "Predicting: |          | 0/? [00:00<?, ?it/s]"
      ]
     },
     "metadata": {},
     "output_type": "display_data"
    }
   ],
   "source": [
    "import pandas as pd\n",
    "import numpy as np\n",
    "import logging\n",
    "import torch\n",
    "from neuralforecast.core import NeuralForecast\n",
    "from neuralforecast.models import TSMixerx\n",
    "\n",
    "# Prep dummy data\n",
    "start_date = \"2024-01-01\"\n",
    "end_date = \"2025-02-14\"\n",
    "date_range = pd.date_range(start=start_date, end=end_date, freq=\"B\")\n",
    "np.random.seed(0)\n",
    "df = pd.DataFrame(\n",
    "    {\n",
    "        \"unique_id\": \"dummy\",\n",
    "        \"ds\": date_range,\n",
    "        \"y\": np.random.randn(len(date_range)),\n",
    "        \"val1\": np.random.randn(len(date_range)),\n",
    "        \"val2\": np.random.rand(len(date_range)),\n",
    "    }\n",
    ")\n",
    "\n",
    "logging.getLogger(\"pytorch_lightning\").setLevel(logging.ERROR)\n",
    "\n",
    "horizon = 10\n",
    "input_size = 20\n",
    "models = [\n",
    "    TSMixerx(\n",
    "        h=horizon,\n",
    "        input_size=input_size,\n",
    "        n_series=1,\n",
    "        revin=False,\n",
    "        max_steps=100,\n",
    "        enable_lr_find=True,\n",
    "        random_seed=0,\n",
    "        hist_exog_list=[\"val1\", \"val2\"],\n",
    "    ),\n",
    "]\n",
    "\n",
    "nf = NeuralForecast(\n",
    "    models=models,\n",
    "    freq=\"B\",\n",
    "    local_scaler_type=\"robust\",\n",
    ")\n",
    "nf.fit(df=df, val_size=30)\n",
    "\n",
    "fcst = nf.predict(df)"
   ]
  },
  {
   "cell_type": "code",
   "execution_count": 3,
   "metadata": {},
   "outputs": [
    {
     "data": {
      "text/html": [
       "<div>\n",
       "<style scoped>\n",
       "    .dataframe tbody tr th:only-of-type {\n",
       "        vertical-align: middle;\n",
       "    }\n",
       "\n",
       "    .dataframe tbody tr th {\n",
       "        vertical-align: top;\n",
       "    }\n",
       "\n",
       "    .dataframe thead th {\n",
       "        text-align: right;\n",
       "    }\n",
       "</style>\n",
       "<table border=\"1\" class=\"dataframe\">\n",
       "  <thead>\n",
       "    <tr style=\"text-align: right;\">\n",
       "      <th></th>\n",
       "      <th>unique_id</th>\n",
       "      <th>ds</th>\n",
       "      <th>TSMixerx</th>\n",
       "    </tr>\n",
       "  </thead>\n",
       "  <tbody>\n",
       "    <tr>\n",
       "      <th>0</th>\n",
       "      <td>dummy</td>\n",
       "      <td>2025-02-17</td>\n",
       "      <td>0.210615</td>\n",
       "    </tr>\n",
       "    <tr>\n",
       "      <th>1</th>\n",
       "      <td>dummy</td>\n",
       "      <td>2025-02-18</td>\n",
       "      <td>0.011913</td>\n",
       "    </tr>\n",
       "    <tr>\n",
       "      <th>2</th>\n",
       "      <td>dummy</td>\n",
       "      <td>2025-02-19</td>\n",
       "      <td>0.398663</td>\n",
       "    </tr>\n",
       "    <tr>\n",
       "      <th>3</th>\n",
       "      <td>dummy</td>\n",
       "      <td>2025-02-20</td>\n",
       "      <td>0.141983</td>\n",
       "    </tr>\n",
       "    <tr>\n",
       "      <th>4</th>\n",
       "      <td>dummy</td>\n",
       "      <td>2025-02-21</td>\n",
       "      <td>-0.315118</td>\n",
       "    </tr>\n",
       "    <tr>\n",
       "      <th>5</th>\n",
       "      <td>dummy</td>\n",
       "      <td>2025-02-24</td>\n",
       "      <td>-0.155608</td>\n",
       "    </tr>\n",
       "    <tr>\n",
       "      <th>6</th>\n",
       "      <td>dummy</td>\n",
       "      <td>2025-02-25</td>\n",
       "      <td>-0.129873</td>\n",
       "    </tr>\n",
       "    <tr>\n",
       "      <th>7</th>\n",
       "      <td>dummy</td>\n",
       "      <td>2025-02-26</td>\n",
       "      <td>-0.833803</td>\n",
       "    </tr>\n",
       "    <tr>\n",
       "      <th>8</th>\n",
       "      <td>dummy</td>\n",
       "      <td>2025-02-27</td>\n",
       "      <td>0.140163</td>\n",
       "    </tr>\n",
       "    <tr>\n",
       "      <th>9</th>\n",
       "      <td>dummy</td>\n",
       "      <td>2025-02-28</td>\n",
       "      <td>-0.139173</td>\n",
       "    </tr>\n",
       "  </tbody>\n",
       "</table>\n",
       "</div>"
      ],
      "text/plain": [
       "  unique_id         ds  TSMixerx\n",
       "0     dummy 2025-02-17  0.210615\n",
       "1     dummy 2025-02-18  0.011913\n",
       "2     dummy 2025-02-19  0.398663\n",
       "3     dummy 2025-02-20  0.141983\n",
       "4     dummy 2025-02-21 -0.315118\n",
       "5     dummy 2025-02-24 -0.155608\n",
       "6     dummy 2025-02-25 -0.129873\n",
       "7     dummy 2025-02-26 -0.833803\n",
       "8     dummy 2025-02-27  0.140163\n",
       "9     dummy 2025-02-28 -0.139173"
      ]
     },
     "execution_count": 3,
     "metadata": {},
     "output_type": "execute_result"
    }
   ],
   "source": [
    "fcst\n"
   ]
  }
 ],
 "metadata": {
  "kernelspec": {
   "display_name": "3.12.7",
   "language": "python",
   "name": "python3"
  },
  "language_info": {
   "codemirror_mode": {
    "name": "ipython",
    "version": 3
   },
   "file_extension": ".py",
   "mimetype": "text/x-python",
   "name": "python",
   "nbconvert_exporter": "python",
   "pygments_lexer": "ipython3",
   "version": "3.12.7"
  }
 },
 "nbformat": 4,
 "nbformat_minor": 2
}
