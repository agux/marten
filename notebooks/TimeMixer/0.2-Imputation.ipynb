{
 "cells": [
  {
   "cell_type": "code",
   "execution_count": 10,
   "metadata": {},
   "outputs": [],
   "source": [
    "from neuralprophet.event_utils import get_all_holidays\n",
    "\n",
    "holidays = get_all_holidays(years=[2024], country=\"CN\")"
   ]
  },
  {
   "cell_type": "code",
   "execution_count": 7,
   "metadata": {},
   "outputs": [
    {
     "name": "stdout",
     "output_type": "stream",
     "text": [
      "          ds     value\n",
      "0 2020-01-01  1.120995\n",
      "1 2020-01-02 -1.219561\n",
      "2 2020-01-03 -0.823929\n",
      "3 2020-01-04 -1.654199\n",
      "4 2020-01-05 -0.236872\n",
      "[2020 2021 2022]\n"
     ]
    }
   ],
   "source": [
    "# mock a dataframe with \"ds\" column of dates in more than 1 year\n",
    "import pandas as pd\n",
    "import numpy as np\n",
    "\n",
    "dates = pd.date_range(start='2020-01-01', end='2022-12-31', freq='D')\n",
    "data = {'ds': dates}\n",
    "df = pd.DataFrame(data)\n",
    "df['value'] = np.random.randn(len(df))  # Adding a random column for demonstration\n",
    "print(df.head())\n",
    "\n",
    "# get the unique \"years\" from \"ds\" column\n",
    "unique_years = df['ds'].dt.year.unique()\n",
    "print(unique_years)"
   ]
  },
  {
   "cell_type": "code",
   "execution_count": 8,
   "metadata": {},
   "outputs": [
    {
     "data": {
      "text/plain": [
       "dtype('int32')"
      ]
     },
     "execution_count": 8,
     "metadata": {},
     "output_type": "execute_result"
    }
   ],
   "source": [
    "unique_years.dtype"
   ]
  },
  {
   "cell_type": "code",
   "execution_count": 9,
   "metadata": {},
   "outputs": [
    {
     "data": {
      "text/plain": [
       "3"
      ]
     },
     "execution_count": 9,
     "metadata": {},
     "output_type": "execute_result"
    }
   ],
   "source": [
    "len(unique_years)"
   ]
  },
  {
   "cell_type": "code",
   "execution_count": 11,
   "metadata": {},
   "outputs": [
    {
     "ename": "AttributeError",
     "evalue": "'collections.defaultdict' object has no attribute 'dtype'",
     "output_type": "error",
     "traceback": [
      "\u001b[0;31m---------------------------------------------------------------------------\u001b[0m",
      "\u001b[0;31mAttributeError\u001b[0m                            Traceback (most recent call last)",
      "Cell \u001b[0;32mIn[11], line 1\u001b[0m\n\u001b[0;32m----> 1\u001b[0m \u001b[43mholidays\u001b[49m\u001b[38;5;241;43m.\u001b[39;49m\u001b[43mdtype\u001b[49m\n",
      "\u001b[0;31mAttributeError\u001b[0m: 'collections.defaultdict' object has no attribute 'dtype'"
     ]
    }
   ],
   "source": [
    "holidays.dtype"
   ]
  },
  {
   "cell_type": "code",
   "execution_count": 13,
   "metadata": {},
   "outputs": [
    {
     "data": {
      "text/plain": [
       "[Timestamp('2024-01-01 00:00:00')]"
      ]
     },
     "execution_count": 13,
     "metadata": {},
     "output_type": "execute_result"
    }
   ],
   "source": [
    "holidays[\"元旦\"]"
   ]
  },
  {
   "cell_type": "code",
   "execution_count": 14,
   "metadata": {},
   "outputs": [
    {
     "data": {
      "text/plain": [
       "defaultdict(list,\n",
       "            {'元旦': [Timestamp('2024-01-01 00:00:00')],\n",
       "             '春节': [Timestamp('2024-02-10 00:00:00'),\n",
       "              Timestamp('2024-02-11 00:00:00'),\n",
       "              Timestamp('2024-02-12 00:00:00')],\n",
       "             '劳动节': [Timestamp('2024-05-01 00:00:00')],\n",
       "             '国庆节': [Timestamp('2024-10-01 00:00:00'),\n",
       "              Timestamp('2024-10-02 00:00:00'),\n",
       "              Timestamp('2024-10-03 00:00:00')],\n",
       "             '清明节': [Timestamp('2024-04-04 00:00:00')],\n",
       "             '端午节': [Timestamp('2024-06-10 00:00:00')],\n",
       "             '中秋节': [Timestamp('2024-09-17 00:00:00')],\n",
       "             '休息日（2024-02-04日起取代）': [Timestamp('2024-02-15 00:00:00')],\n",
       "             '休息日（2024-02-18日起取代）': [Timestamp('2024-02-16 00:00:00')],\n",
       "             '休息日（2024-04-07日起取代）': [Timestamp('2024-04-05 00:00:00')],\n",
       "             '休息日（2024-04-28日起取代）': [Timestamp('2024-05-02 00:00:00')],\n",
       "             '休息日（2024-05-11日起取代）': [Timestamp('2024-05-03 00:00:00')],\n",
       "             '休息日（2024-09-14日起取代）': [Timestamp('2024-09-16 00:00:00')],\n",
       "             '休息日（2024-09-29日起取代）': [Timestamp('2024-10-04 00:00:00')],\n",
       "             '休息日（2024-10-12日起取代）': [Timestamp('2024-10-07 00:00:00')]})"
      ]
     },
     "execution_count": 14,
     "metadata": {},
     "output_type": "execute_result"
    }
   ],
   "source": [
    "holidays"
   ]
  },
  {
   "cell_type": "code",
   "execution_count": 17,
   "metadata": {},
   "outputs": [],
   "source": [
    "def find_holiday_name(holidays, date_to_match):\n",
    "    for holiday_name, dates in holidays.items():\n",
    "        if date_to_match in dates:\n",
    "            return holiday_name\n",
    "    return None"
   ]
  },
  {
   "cell_type": "code",
   "execution_count": 18,
   "metadata": {},
   "outputs": [],
   "source": [
    "date_to_match = pd.Timestamp(\"2024-02-10 00:00:00\")\n",
    "holiday_name = find_holiday_name(holidays, date_to_match)\n",
    "holiday_name"
   ]
  },
  {
   "cell_type": "code",
   "execution_count": 19,
   "metadata": {},
   "outputs": [
    {
     "data": {
      "text/plain": [
       "'春节'"
      ]
     },
     "execution_count": 19,
     "metadata": {},
     "output_type": "execute_result"
    }
   ],
   "source": [
    "holiday_name"
   ]
  },
  {
   "cell_type": "code",
   "execution_count": 3,
   "metadata": {},
   "outputs": [
    {
     "data": {
      "text/plain": [
       "{'input_size': range(5, 1001),\n",
       " 'd_model': [32, 64, 128, 256, 512, 1024],\n",
       " 'd_ff': [32, 64, 128, 256, 512, 1024],\n",
       " 'dropout': <scipy.stats._distn_infrastructure.rv_continuous_frozen at 0x124f73e30>,\n",
       " 'e_layers': range(4, 17),\n",
       " 'top_k': range(2, 10),\n",
       " 'decomp_method': ['moving_avg', 'dft_decomp'],\n",
       " 'moving_avg': range(3, 60),\n",
       " 'channel_independence': [0, 1],\n",
       " 'down_sampling_layers': range(1, 8),\n",
       " 'down_sampling_window': range(2, 21),\n",
       " 'down_sampling_method': ['avg', 'max', 'conv'],\n",
       " 'use_norm': [True, False],\n",
       " 'learning_rate': <scipy.stats._distn_infrastructure.rv_continuous_frozen at 0x115fc88f0>,\n",
       " 'early_stop_patience_steps': range(5, 17),\n",
       " 'batch_size': [32, 64, 128, 256],\n",
       " 'local_scaler_type': [None,\n",
       "  'standard',\n",
       "  'robust',\n",
       "  'robust-iqr',\n",
       "  'minmax',\n",
       "  'boxcox'],\n",
       " 'topk_covar': [0,\n",
       "  1,\n",
       "  2,\n",
       "  3,\n",
       "  4,\n",
       "  5,\n",
       "  6,\n",
       "  7,\n",
       "  8,\n",
       "  9,\n",
       "  10,\n",
       "  11,\n",
       "  12,\n",
       "  13,\n",
       "  14,\n",
       "  15,\n",
       "  16,\n",
       "  17,\n",
       "  18,\n",
       "  19,\n",
       "  20,\n",
       "  21,\n",
       "  22,\n",
       "  23,\n",
       "  24,\n",
       "  25,\n",
       "  26,\n",
       "  27,\n",
       "  28,\n",
       "  29,\n",
       "  30,\n",
       "  31,\n",
       "  32,\n",
       "  33,\n",
       "  34,\n",
       "  35,\n",
       "  36,\n",
       "  37,\n",
       "  38,\n",
       "  39,\n",
       "  40,\n",
       "  41,\n",
       "  42,\n",
       "  43,\n",
       "  44,\n",
       "  45,\n",
       "  46,\n",
       "  47,\n",
       "  48,\n",
       "  49,\n",
       "  50,\n",
       "  51,\n",
       "  52,\n",
       "  53,\n",
       "  54,\n",
       "  55,\n",
       "  56,\n",
       "  57,\n",
       "  58,\n",
       "  59,\n",
       "  60,\n",
       "  61,\n",
       "  62,\n",
       "  63,\n",
       "  64,\n",
       "  65,\n",
       "  66,\n",
       "  67,\n",
       "  68,\n",
       "  69,\n",
       "  70,\n",
       "  71,\n",
       "  72,\n",
       "  73,\n",
       "  74,\n",
       "  75,\n",
       "  76,\n",
       "  77,\n",
       "  78,\n",
       "  79,\n",
       "  80,\n",
       "  81,\n",
       "  82,\n",
       "  83,\n",
       "  84,\n",
       "  85,\n",
       "  86,\n",
       "  87,\n",
       "  88,\n",
       "  89,\n",
       "  90,\n",
       "  91,\n",
       "  92,\n",
       "  93,\n",
       "  94,\n",
       "  95,\n",
       "  96,\n",
       "  97,\n",
       "  98,\n",
       "  99,\n",
       "  100],\n",
       " 'covar_dist': <scipy.stats._multivariate.dirichlet_frozen at 0x124f884a0>,\n",
       " 'optimizer': ['Adam', 'AdamW', 'SGD']}"
      ]
     },
     "execution_count": 3,
     "metadata": {},
     "output_type": "execute_result"
    }
   ],
   "source": [
    "from scipy.stats import uniform, loguniform, dirichlet\n",
    "\n",
    "kwargs = {\"max_covars\": 100}\n",
    "eval(\n",
    "    f\"\"\"dict(\n",
    "            input_size=range(5, 1000+1),\n",
    "            d_model=[2**w for w in range(5, 10+1)],\n",
    "            d_ff=[2**w for w in range(5, 10+1)],\n",
    "            dropout=uniform(0, 0.5),\n",
    "            e_layers=range(4, 16+1),\n",
    "            top_k=range(2, 10),\n",
    "            decomp_method=[\"moving_avg\", \"dft_decomp\"],\n",
    "            moving_avg=range(3, 60),\n",
    "            channel_independence=[0, 1],\n",
    "            down_sampling_layers=range(1, 8),\n",
    "            down_sampling_window=range(2, 20+1),\n",
    "            down_sampling_method=[\"avg\", \"max\", \"conv\"],\n",
    "            use_norm=[True, False],\n",
    "            learning_rate=loguniform(0.0001, 0.002),\n",
    "            early_stop_patience_steps=range(5, 16+1),\n",
    "            batch_size=[2**w for w in range(5, 8+1)],\n",
    "            local_scaler_type=[None, \"standard\", \"robust\", \"robust-iqr\", \"minmax\", \"boxcox\"],\n",
    "            topk_covar=list(range(0, {kwargs[\"max_covars\"]}+1)),\n",
    "            covar_dist=dirichlet([1.0]*{kwargs[\"max_covars\"]}),\n",
    "            optimizer=[\"Adam\", \"AdamW\", \"SGD\"],\n",
    "        )\"\"\",\n",
    "    {\"uniform\": uniform, \"loguniform\": loguniform, \"dirichlet\": dirichlet},\n",
    ")"
   ]
  }
 ],
 "metadata": {
  "kernelspec": {
   "display_name": "venv_3.12.2",
   "language": "python",
   "name": "python3"
  },
  "language_info": {
   "codemirror_mode": {
    "name": "ipython",
    "version": 3
   },
   "file_extension": ".py",
   "mimetype": "text/x-python",
   "name": "python",
   "nbconvert_exporter": "python",
   "pygments_lexer": "ipython3",
   "version": "3.12.2"
  }
 },
 "nbformat": 4,
 "nbformat_minor": 2
}
