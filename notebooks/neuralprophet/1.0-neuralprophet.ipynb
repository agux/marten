{
 "cells": [
  {
   "cell_type": "markdown",
   "metadata": {},
   "source": [
    "# Analytics"
   ]
  },
  {
   "cell_type": "markdown",
   "metadata": {},
   "source": [
    "## Import"
   ]
  },
  {
   "cell_type": "code",
   "execution_count": 1,
   "metadata": {},
   "outputs": [
    {
     "name": "stderr",
     "output_type": "stream",
     "text": [
      "Importing plotly failed. Interactive plots will not work.\n",
      "Importing plotly failed. Interactive plots will not work.\n"
     ]
    }
   ],
   "source": [
    "import os\n",
    "import sys\n",
    "import logging\n",
    "import multiprocessing\n",
    "import pandas as pd\n",
    "import numpy as np\n",
    "import sqlalchemy\n",
    "import exchange_calendars as xcals\n",
    "from dotenv import load_dotenv\n",
    "\n",
    "# import exchange_calendars as xcals\n",
    "from datetime import datetime, timedelta\n",
    "\n",
    "# import pytz\n",
    "# import pandas as pd\n",
    "# from IPython.display import display, HTML\n",
    "from sqlalchemy import create_engine\n",
    "from sqlalchemy.dialects.postgresql import insert, TEXT\n",
    "from concurrent.futures import ThreadPoolExecutor\n",
    "from functools import lru_cache\n",
    "\n",
    "from neuralprophet import NeuralProphet, set_log_level\n",
    "\n",
    "# Disable logging messages unless there is an error\n",
    "set_log_level(\"ERROR\")\n",
    "\n",
    "# from prophet.plot import (\n",
    "#     plot_plotly,\n",
    "#     plot_components_plotly,\n",
    "#     add_changepoints_to_plot,\n",
    "#     plot_yearly,\n",
    "#     plot_seasonality_plotly,\n",
    "# )"
   ]
  },
  {
   "cell_type": "markdown",
   "metadata": {},
   "source": [
    "## Init"
   ]
  },
  {
   "cell_type": "code",
   "execution_count": 2,
   "metadata": {},
   "outputs": [
    {
     "name": "stdout",
     "output_type": "stream",
     "text": [
      "1.12.93\n"
     ]
    }
   ],
   "source": [
    "load_dotenv()  # take environment variables from .env.\n",
    "\n",
    "module_path = os.getenv(\"LOCAL_AKSHARE_DEV_MODULE\")\n",
    "if module_path is not None and module_path not in sys.path:\n",
    "    sys.path.insert(0, module_path)\n",
    "import akshare as ak  # noqa: E402\n",
    "\n",
    "print(ak.__version__)\n",
    "\n",
    "DB_USER = os.getenv(\"DB_USER\")\n",
    "DB_PASSWORD = os.getenv(\"DB_PASSWORD\")\n",
    "DB_HOST = os.getenv(\"DB_HOST\")\n",
    "DB_PORT = os.getenv(\"DB_PORT\")\n",
    "DB_NAME = os.getenv(\"DB_NAME\")\n",
    "\n",
    "# Create an engine instance\n",
    "alchemyEngine = create_engine(\n",
    "    f\"postgresql+psycopg2://{DB_USER}:{DB_PASSWORD}@{DB_HOST}:{DB_PORT}/{DB_NAME}\",\n",
    "    pool_recycle=3600,\n",
    ")\n",
    "\n",
    "logger = logging.getLogger(__name__)\n",
    "logger.setLevel(logging.ERROR)\n",
    "\n",
    "file_handler = logging.FileHandler(\"etl.log\")\n",
    "console_handler = logging.StreamHandler()\n",
    "\n",
    "# Step 4: Create a formatter\n",
    "formatter = logging.Formatter(\"%(name)s - %(levelname)s - %(message)s\")\n",
    "\n",
    "# Step 5: Attach the formatter to the handlers\n",
    "file_handler.setFormatter(formatter)\n",
    "console_handler.setFormatter(formatter)\n",
    "\n",
    "# Step 6: Add the handlers to the logger\n",
    "logger.addHandler(file_handler)\n",
    "logger.addHandler(console_handler)\n",
    "\n",
    "xshg = xcals.get_calendar(\"XSHG\")"
   ]
  },
  {
   "cell_type": "markdown",
   "metadata": {},
   "source": [
    "## Helper Functions"
   ]
  },
  {
   "cell_type": "code",
   "execution_count": 3,
   "metadata": {},
   "outputs": [],
   "source": [
    "def predict(\n",
    "    symbol, y_column, country=None, fourier_terms=\"auto\", show_uncertainty=False\n",
    ") -> (NeuralProphet, pd.DataFrame, pd.DataFrame):  # type: ignore\n",
    "    return predict_generic(\n",
    "        \"fund_etf_daily_em\", symbol, y_column, country, fourier_terms, show_uncertainty\n",
    "    )\n",
    "\n",
    "\n",
    "def predict_generic(\n",
    "    table,\n",
    "    symbol,\n",
    "    y_column,\n",
    "    country=None,\n",
    "    fourier_terms=\"auto\",\n",
    "    show_uncertainty=False,\n",
    ") -> (NeuralProphet, pd.DataFrame, pd.DataFrame):  # type: ignore\n",
    "    query = f\"SELECT * FROM {table} where symbol = '{symbol}' order by date\"\n",
    "    df = pd.read_sql(query, alchemyEngine, parse_dates=[\"date\"])\n",
    "\n",
    "    df = df.rename(\n",
    "        columns={\n",
    "            \"date\": \"ds\",\n",
    "            y_column: \"y\",\n",
    "        }\n",
    "    )\n",
    "\n",
    "    m = NeuralProphet(\n",
    "        mcmc_samples=300 if show_uncertainty else 0,\n",
    "        daily_seasonality=False,\n",
    "        weekly_seasonality=False,\n",
    "        yearly_seasonality=fourier_terms,\n",
    "    )  # Prophet object can only be fit once. Instantiate a new object.\n",
    "    if country is not None:\n",
    "        m.add_country_holidays(country_name=country)\n",
    "    m.fit(df)\n",
    "\n",
    "    future = m.make_future_dataframe(periods=60)\n",
    "    forecast = m.predict(future)\n",
    "\n",
    "    return (m, df, forecast)"
   ]
  },
  {
   "cell_type": "markdown",
   "metadata": {},
   "source": [
    "## Asset 1: Bond"
   ]
  },
  {
   "cell_type": "markdown",
   "metadata": {},
   "source": [
    "### Trial 1 - Bond IR Spread"
   ]
  },
  {
   "cell_type": "markdown",
   "metadata": {},
   "source": [
    "#### load data from table"
   ]
  },
  {
   "cell_type": "code",
   "execution_count": null,
   "metadata": {},
   "outputs": [],
   "source": [
    "# load all records from `bond_metrics_em` table into dataframe\n",
    "query = \"SELECT * FROM bond_metrics_em where china_yield_2y <> 'NaN'\"\n",
    "df = pd.read_sql(query, alchemyEngine, parse_dates=[\"date\"])\n",
    "\n",
    "# Display the first few rows of the dataframe\n",
    "df.head()"
   ]
  },
  {
   "cell_type": "code",
   "execution_count": null,
   "metadata": {},
   "outputs": [],
   "source": [
    "df.describe()"
   ]
  },
  {
   "cell_type": "markdown",
   "metadata": {},
   "source": [
    "#### transform DF to Prophet schema"
   ]
  },
  {
   "cell_type": "code",
   "execution_count": null,
   "metadata": {},
   "outputs": [],
   "source": [
    "df = df.rename(\n",
    "    columns={\n",
    "        \"date\": \"ds\",\n",
    "        \"china_yield_spread_10y_2y\": \"y\",\n",
    "        \"us_yield_spread_10y_2y\": \"cov\",\n",
    "    }\n",
    ")\n",
    "# df = df[[\"ds\", \"y\", \"cov\"]]\n",
    "# fig = df.plot(x=\"ds\", y=[\"y\", \"cov\"], figsize=(10, 6))\n",
    "df = df[[\"ds\", \"y\"]]\n",
    "fig = df.plot(x=\"ds\", y=[\"y\"], figsize=(10, 6))"
   ]
  },
  {
   "cell_type": "markdown",
   "metadata": {},
   "source": [
    "#### fitting"
   ]
  },
  {
   "cell_type": "code",
   "execution_count": null,
   "metadata": {},
   "outputs": [],
   "source": [
    "confidence_level = 0.9\n",
    "\n",
    "boundaries = round((1 - confidence_level) / 2, 2)\n",
    "# NeuralProphet only accepts quantiles value in between 0 and 1\n",
    "quantiles = [boundaries, confidence_level + boundaries]\n",
    "\n",
    "m = NeuralProphet(\n",
    "    quantiles=quantiles,\n",
    "    # Disable change trendpoints\n",
    "    n_changepoints=50,\n",
    "    # Disable seasonality components\n",
    "    yearly_seasonality=True,\n",
    "    weekly_seasonality=False,\n",
    "    daily_seasonality=False,\n",
    "    ar_layers=[32, 32, 32, 32],\n",
    "    n_lags=10,\n",
    ")\n",
    "\n",
    "# m.add_lagged_regressor(\"cov\", n_lags=3)\n",
    "# m = m.add_country_holidays(\"CN\")\n",
    "\n",
    "train_df, test_df = m.split_df(df, freq=\"D\", valid_p=1.0 / 16)\n",
    "train_df, cal_df = m.split_df(train_df, freq=\"D\", valid_p=1.0 / 16)\n",
    "\n",
    "train_df.shape, cal_df.shape, test_df.shape"
   ]
  },
  {
   "cell_type": "code",
   "execution_count": null,
   "metadata": {},
   "outputs": [],
   "source": [
    "metrics = m.fit(train_df, freq=\"D\")\n",
    "metrics"
   ]
  },
  {
   "cell_type": "code",
   "execution_count": null,
   "metadata": {},
   "outputs": [],
   "source": [
    "test_metrics = m.test(test_df)\n",
    "test_metrics"
   ]
  },
  {
   "cell_type": "markdown",
   "metadata": {},
   "source": [
    "#### predicting"
   ]
  },
  {
   "cell_type": "code",
   "execution_count": null,
   "metadata": {},
   "outputs": [],
   "source": [
    "future = m.make_future_dataframe(test_df, n_historic_predictions=True, periods=365)\n",
    "forecast = m.predict(future)"
   ]
  },
  {
   "cell_type": "markdown",
   "metadata": {},
   "source": [
    "#### plotting"
   ]
  },
  {
   "cell_type": "code",
   "execution_count": null,
   "metadata": {},
   "outputs": [],
   "source": [
    "m.set_plotting_backend(\"plotly\")\n",
    "m.highlight_nth_step_ahead_of_each_forecast(1)\n",
    "m.plot(forecast)"
   ]
  },
  {
   "cell_type": "code",
   "execution_count": null,
   "metadata": {},
   "outputs": [],
   "source": [
    "m.plot_components(\n",
    "    forecast,\n",
    "    components=[\n",
    "        \"trend\",\n",
    "        \"seasonality\",\n",
    "        \"autoregression\",\n",
    "        \"uncertainty\",\n",
    "        #   \"lagged_regressors\"\n",
    "    ],\n",
    ")"
   ]
  },
  {
   "cell_type": "code",
   "execution_count": null,
   "metadata": {},
   "outputs": [],
   "source": [
    "m.plot_parameters(\n",
    "    components=[\"trend\", \"seasonality\", \"autoregression\", \n",
    "                # \"lagged_regressors\"\n",
    "                ]\n",
    ")"
   ]
  },
  {
   "cell_type": "markdown",
   "metadata": {},
   "source": [
    "#### Conformal Predict"
   ]
  },
  {
   "cell_type": "code",
   "execution_count": null,
   "metadata": {},
   "outputs": [],
   "source": [
    "method = \"cqr\"  # naive / cqr. ref: https://neuralprophet.com/how-to-guides/feature-guides/uncertainty_quantification.html\n",
    "alpha = 1 - confidence_level\n",
    "\n",
    "cfm_forecast = m.conformal_predict(\n",
    "    test_df,\n",
    "    calibration_df=cal_df,\n",
    "    alpha=alpha,\n",
    "    method=method,\n",
    "    plotting_backend=\"plotly-static\",\n",
    "    show_all_PI=True,\n",
    ")"
   ]
  },
  {
   "cell_type": "code",
   "execution_count": null,
   "metadata": {},
   "outputs": [],
   "source": [
    "cfm_forecast"
   ]
  },
  {
   "cell_type": "code",
   "execution_count": null,
   "metadata": {},
   "outputs": [],
   "source": [
    "# naive_qhat =   naive_forecast.iloc[-1][\"yhat1\"] - naive_forecast.iloc[-1][\"yhat1 - qhat1\"]\n",
    "# naive_qhat"
   ]
  },
  {
   "cell_type": "code",
   "execution_count": null,
   "metadata": {},
   "outputs": [],
   "source": [
    "m.highlight_nth_step_ahead_of_each_forecast(1).plot(\n",
    "    cfm_forecast, plotting_backend=\"plotly\"\n",
    ")"
   ]
  },
  {
   "cell_type": "markdown",
   "metadata": {},
   "source": [
    "### 城投债ETF 511220"
   ]
  },
  {
   "cell_type": "code",
   "execution_count": null,
   "metadata": {},
   "outputs": [],
   "source": [
    "symbol = \"511220\"\n",
    "m, df, forecast = predict(symbol, \"close\")\n",
    "df.describe()"
   ]
  },
  {
   "cell_type": "code",
   "execution_count": null,
   "metadata": {},
   "outputs": [],
   "source": [
    "plot_plotly(m, forecast)"
   ]
  },
  {
   "cell_type": "code",
   "execution_count": null,
   "metadata": {},
   "outputs": [],
   "source": [
    "symbol = \"511220\"\n",
    "m, df, forecast = predict(symbol, \"change_rate\")\n",
    "plot_components_plotly(m, forecast)"
   ]
  },
  {
   "cell_type": "markdown",
   "metadata": {},
   "source": [
    "### 30年国债ETF 511090"
   ]
  },
  {
   "cell_type": "code",
   "execution_count": null,
   "metadata": {},
   "outputs": [],
   "source": [
    "symbol = \"511090\"\n",
    "m, df, forecast = predict(symbol, 'close')"
   ]
  },
  {
   "cell_type": "code",
   "execution_count": null,
   "metadata": {},
   "outputs": [],
   "source": [
    "fig1 = m.plot(forecast)"
   ]
  },
  {
   "cell_type": "code",
   "execution_count": null,
   "metadata": {},
   "outputs": [],
   "source": [
    "fig2 = m.plot_components(forecast)"
   ]
  },
  {
   "cell_type": "markdown",
   "metadata": {},
   "source": [
    "## Asset 2: Domestic Stock"
   ]
  },
  {
   "cell_type": "markdown",
   "metadata": {},
   "source": [
    "### 创业板50ETF 159949"
   ]
  },
  {
   "cell_type": "code",
   "execution_count": null,
   "metadata": {},
   "outputs": [],
   "source": [
    "symbol = \"159949\"\n",
    "m, df, forecast = predict(symbol, \"close\")\n",
    "df.describe()"
   ]
  },
  {
   "cell_type": "code",
   "execution_count": null,
   "metadata": {},
   "outputs": [],
   "source": [
    "plot_plotly(m, forecast)"
   ]
  },
  {
   "cell_type": "code",
   "execution_count": null,
   "metadata": {},
   "outputs": [],
   "source": [
    "symbol = \"159949\"\n",
    "m, df, forecast = predict(symbol, \"change_rate\")\n",
    "plot_components_plotly(m, forecast)"
   ]
  },
  {
   "cell_type": "markdown",
   "metadata": {},
   "source": [
    "### 红利低波50ETF 515450"
   ]
  },
  {
   "cell_type": "code",
   "execution_count": null,
   "metadata": {},
   "outputs": [],
   "source": [
    "symbol = \"515450\"\n",
    "m, df, forecast = predict(symbol, \"close\")\n",
    "df.describe()"
   ]
  },
  {
   "cell_type": "code",
   "execution_count": null,
   "metadata": {},
   "outputs": [],
   "source": [
    "plot_plotly(m, forecast)"
   ]
  },
  {
   "cell_type": "code",
   "execution_count": null,
   "metadata": {},
   "outputs": [],
   "source": [
    "m, df, forecast = predict(symbol, \"change_rate\")\n",
    "plot_seasonality_plotly(m=m, name=\"yearly\", figsize=(1200, 400))"
   ]
  },
  {
   "cell_type": "code",
   "execution_count": null,
   "metadata": {},
   "outputs": [],
   "source": [
    "# plot_components_plotly(m, forecast)\n",
    "m, df, forecast = predict(symbol, \"change_rate\", country=\"China\")\n",
    "plot_components_plotly(m, forecast)\n",
    "# plot_seasonality_plotly(m=m, name=\"yearly\", figsize=(1200, 400))"
   ]
  },
  {
   "cell_type": "markdown",
   "metadata": {},
   "source": [
    "### 红利低波100ETF 515100"
   ]
  },
  {
   "cell_type": "code",
   "execution_count": null,
   "metadata": {},
   "outputs": [],
   "source": [
    "symbol = \"515100\"\n",
    "m, df, forecast = predict(symbol, \"close\")\n",
    "df.describe()"
   ]
  },
  {
   "cell_type": "code",
   "execution_count": null,
   "metadata": {},
   "outputs": [],
   "source": [
    "plot_plotly(m, forecast)"
   ]
  },
  {
   "cell_type": "code",
   "execution_count": null,
   "metadata": {},
   "outputs": [],
   "source": [
    "m, df, forecast = predict(symbol, \"change_rate\")\n",
    "# plot_components_plotly(m, forecast)\n",
    "plot_seasonality_plotly(m=m, name=\"yearly\", figsize=(1200, 400))"
   ]
  },
  {
   "cell_type": "code",
   "execution_count": null,
   "metadata": {},
   "outputs": [],
   "source": [
    "m.predictive_samples(forecast)"
   ]
  },
  {
   "cell_type": "markdown",
   "metadata": {},
   "source": [
    "## Asset 3: Commodities"
   ]
  },
  {
   "cell_type": "markdown",
   "metadata": {},
   "source": [
    "### 黄金ETF 518880"
   ]
  },
  {
   "cell_type": "code",
   "execution_count": null,
   "metadata": {},
   "outputs": [],
   "source": [
    "symbol = \"518880\"\n",
    "m, df, forecast = predict(symbol, \"close\")\n",
    "df.describe()"
   ]
  },
  {
   "cell_type": "code",
   "execution_count": null,
   "metadata": {},
   "outputs": [],
   "source": [
    "plot_plotly(m, forecast)"
   ]
  },
  {
   "cell_type": "code",
   "execution_count": null,
   "metadata": {},
   "outputs": [],
   "source": [
    "m, df, forecast = predict(symbol, \"change_rate\")\n",
    "plot_components_plotly(m, forecast)"
   ]
  },
  {
   "cell_type": "markdown",
   "metadata": {},
   "source": [
    "### 大宗商品ETF 510170"
   ]
  },
  {
   "cell_type": "code",
   "execution_count": null,
   "metadata": {},
   "outputs": [],
   "source": [
    "symbol = \"510170\"\n",
    "m, df, forecast = predict(symbol, \"close\")\n",
    "df.describe()"
   ]
  },
  {
   "cell_type": "code",
   "execution_count": null,
   "metadata": {},
   "outputs": [],
   "source": [
    "plot_plotly(m, forecast)"
   ]
  },
  {
   "cell_type": "code",
   "execution_count": null,
   "metadata": {},
   "outputs": [],
   "source": [
    "symbol = \"510170\"\n",
    "m, df, forecast = predict(symbol, \"change_rate\")\n",
    "plot_components_plotly(m, forecast)"
   ]
  },
  {
   "cell_type": "markdown",
   "metadata": {},
   "source": [
    "### 能源ETF 159930"
   ]
  },
  {
   "cell_type": "code",
   "execution_count": null,
   "metadata": {},
   "outputs": [],
   "source": [
    "symbol = \"159930\"\n",
    "m, df, forecast = predict(symbol, \"close\")\n",
    "df.describe()"
   ]
  },
  {
   "cell_type": "code",
   "execution_count": null,
   "metadata": {},
   "outputs": [],
   "source": [
    "plot_plotly(m, forecast)"
   ]
  },
  {
   "cell_type": "code",
   "execution_count": null,
   "metadata": {},
   "outputs": [],
   "source": [
    "m, df, forecast = predict(symbol, \"change_rate\")\n",
    "plot_components_plotly(m, forecast)"
   ]
  },
  {
   "cell_type": "markdown",
   "metadata": {},
   "source": [
    "### 能源化工ETF 159981"
   ]
  },
  {
   "cell_type": "code",
   "execution_count": null,
   "metadata": {},
   "outputs": [],
   "source": [
    "symbol = \"159981\"\n",
    "m, df, forecast = predict(symbol, \"close\")\n",
    "df.describe()"
   ]
  },
  {
   "cell_type": "code",
   "execution_count": null,
   "metadata": {},
   "outputs": [],
   "source": [
    "plot_plotly(m, forecast)"
   ]
  },
  {
   "cell_type": "code",
   "execution_count": null,
   "metadata": {},
   "outputs": [],
   "source": [
    "m, df, forecast = predict(symbol, \"change_rate\")\n",
    "plot_components_plotly(m, forecast)"
   ]
  },
  {
   "cell_type": "markdown",
   "metadata": {},
   "source": [
    "### 豆粕 159985"
   ]
  },
  {
   "cell_type": "code",
   "execution_count": null,
   "metadata": {},
   "outputs": [],
   "source": [
    "symbol = \"159985\"\n",
    "m, df, forecast = predict(symbol, \"close\")\n",
    "df.describe()"
   ]
  },
  {
   "cell_type": "code",
   "execution_count": null,
   "metadata": {},
   "outputs": [],
   "source": [
    "plot_plotly(m, forecast)"
   ]
  },
  {
   "cell_type": "code",
   "execution_count": null,
   "metadata": {},
   "outputs": [],
   "source": [
    "m, df, forecast = predict(symbol, \"change_rate\")\n",
    "plot_components_plotly(m, forecast)"
   ]
  },
  {
   "cell_type": "markdown",
   "metadata": {},
   "source": [
    "## Asset 4: Overseas"
   ]
  },
  {
   "cell_type": "markdown",
   "metadata": {},
   "source": [
    "### 纳斯达克100 513110"
   ]
  },
  {
   "cell_type": "code",
   "execution_count": null,
   "metadata": {},
   "outputs": [],
   "source": [
    "symbol = \".IXIC\"\n",
    "table = \"us_index_daily_sina_view\"\n",
    "# we need to use the US index instead of ETF daily historical data per se, due to insufficient ETF market data\n",
    "m, df, forecast = predict_generic(table, symbol, \"close\", \"US\")\n",
    "df.describe()"
   ]
  },
  {
   "cell_type": "code",
   "execution_count": null,
   "metadata": {},
   "outputs": [],
   "source": [
    "plot_plotly(m, forecast)"
   ]
  },
  {
   "cell_type": "code",
   "execution_count": null,
   "metadata": {},
   "outputs": [],
   "source": [
    "m, df, forecast = predict_generic(table, symbol, \"change_rate\", \"US\")\n",
    "plot_components_plotly(m, forecast)"
   ]
  },
  {
   "cell_type": "markdown",
   "metadata": {},
   "source": [
    "### 标普500ETF 513500"
   ]
  },
  {
   "cell_type": "code",
   "execution_count": null,
   "metadata": {},
   "outputs": [],
   "source": [
    "symbol = \"513500\"\n",
    "m, df, forecast = predict(symbol, \"close\", \"US\")\n",
    "df.describe()"
   ]
  },
  {
   "cell_type": "code",
   "execution_count": null,
   "metadata": {},
   "outputs": [],
   "source": [
    "plot_plotly(m, forecast)"
   ]
  },
  {
   "cell_type": "code",
   "execution_count": null,
   "metadata": {},
   "outputs": [],
   "source": [
    "symbol = \"513500\"\n",
    "m, df, forecast = predict(symbol, \"change_rate\", \"US\")\n",
    "plot_components_plotly(m, forecast)"
   ]
  },
  {
   "cell_type": "markdown",
   "metadata": {},
   "source": [
    "### 日本东证指数ETF 513800"
   ]
  },
  {
   "cell_type": "code",
   "execution_count": null,
   "metadata": {},
   "outputs": [],
   "source": [
    "symbol = \"513800\"\n",
    "m, df, forecast = predict(symbol, \"close\", \"JP\")\n",
    "df.describe()"
   ]
  },
  {
   "cell_type": "code",
   "execution_count": null,
   "metadata": {},
   "outputs": [],
   "source": [
    "plot_plotly(m, forecast)"
   ]
  },
  {
   "cell_type": "code",
   "execution_count": null,
   "metadata": {},
   "outputs": [],
   "source": [
    "m, df, forecast = predict(symbol, \"change_rate\", \"JP\")\n",
    "plot_components_plotly(m, forecast)"
   ]
  },
  {
   "cell_type": "markdown",
   "metadata": {},
   "source": [
    "# Output top-N TS component graph with highest Sortino Ratio"
   ]
  },
  {
   "cell_type": "code",
   "execution_count": null,
   "metadata": {},
   "outputs": [],
   "source": [
    "top_n = 100\n",
    "since_inception = \"6 months\"\n",
    "query = f\"\"\"\n",
    "    SELECT fundcode, fundname, sortinoratio sortino \n",
    "    FROM fund_etf_perf_em \n",
    "    where \n",
    "        sortinoratio is not null \n",
    "        and sortinoratio <> 'nan'\n",
    "        and inceptiondate <= CURRENT_DATE - interval '{since_inception}'\n",
    "    order by sortinoratio desc limit {top_n}\n",
    "\"\"\"\n",
    "df = pd.read_sql(query, alchemyEngine)\n",
    "\n",
    "# Ensure the directory for saving images exists\n",
    "output_dir = '/Users/jx/Downloads/ETF_forecast'\n",
    "os.makedirs(output_dir, exist_ok=True)\n",
    "\n",
    "for index, row in df.iterrows():\n",
    "    fundcode = row['fundcode']\n",
    "    fundname = row['fundname'].replace(' ', '_')  # Replace spaces with underscores for filename\n",
    "    sortino = row['sortino']\n",
    "    timestamp = datetime.now().strftime('%Y%m%d%H%M%S')\n",
    "\n",
    "    # Predict and forecast 'close'\n",
    "    m, df, forecast = predict(fundcode, 'close')\n",
    "    fig1 = m.plot(forecast)\n",
    "    fig1.savefig(f'{output_dir}/{fundcode}_{fundname}_{sortino}_forecast_{timestamp}.png')\n",
    "\n",
    "    # Predict and forecast 'change_rate'\n",
    "    m, df, forecast = predict(fundcode, 'change_rate')\n",
    "    fig2 = m.plot_components(forecast)\n",
    "    fig2.savefig(f'{output_dir}/{fundcode}_{fundname}_{sortino}_components_{timestamp}.png')"
   ]
  }
 ],
 "metadata": {
  "kernelspec": {
   "display_name": "venv_3.12.2",
   "language": "python",
   "name": "python3"
  },
  "language_info": {
   "codemirror_mode": {
    "name": "ipython",
    "version": 3
   },
   "file_extension": ".py",
   "mimetype": "text/x-python",
   "name": "python",
   "nbconvert_exporter": "python",
   "pygments_lexer": "ipython3",
   "version": "3.12.2"
  }
 },
 "nbformat": 4,
 "nbformat_minor": 2
}
