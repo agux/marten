{
 "cells": [
  {
   "cell_type": "markdown",
   "metadata": {},
   "source": [
    "# Import"
   ]
  },
  {
   "cell_type": "code",
   "execution_count": 1,
   "metadata": {
    "execution": {
     "iopub.execute_input": "2024-03-26T11:34:11.114727Z",
     "iopub.status.busy": "2024-03-26T11:34:11.114388Z",
     "iopub.status.idle": "2024-03-26T11:34:12.828050Z",
     "shell.execute_reply": "2024-03-26T11:34:12.827018Z"
    }
   },
   "outputs": [],
   "source": [
    "import os\n",
    "import sys\n",
    "import logging\n",
    "import time\n",
    "import math\n",
    "import multiprocessing\n",
    "import pandas as pd\n",
    "import numpy as np\n",
    "import sqlalchemy\n",
    "import exchange_calendars as xcals\n",
    "from dotenv import load_dotenv\n",
    "\n",
    "# import exchange_calendars as xcals\n",
    "from datetime import datetime, timedelta\n",
    "\n",
    "# import pytz\n",
    "# import pandas as pd\n",
    "# from IPython.display import display, HTML\n",
    "from sqlalchemy import create_engine, text\n",
    "from sqlalchemy.dialects.postgresql import insert\n",
    "from concurrent.futures import ThreadPoolExecutor\n",
    "from functools import lru_cache"
   ]
  },
  {
   "cell_type": "markdown",
   "metadata": {},
   "source": [
    "# Init"
   ]
  },
  {
   "cell_type": "code",
   "execution_count": 2,
   "metadata": {
    "execution": {
     "iopub.execute_input": "2024-03-26T11:34:12.833255Z",
     "iopub.status.busy": "2024-03-26T11:34:12.832808Z",
     "iopub.status.idle": "2024-03-26T11:34:14.387807Z",
     "shell.execute_reply": "2024-03-26T11:34:14.386981Z"
    }
   },
   "outputs": [
    {
     "name": "stdout",
     "output_type": "stream",
     "text": [
      "1.12.93\n"
     ]
    }
   ],
   "source": [
    "t_start = time.time()\n",
    "\n",
    "load_dotenv()  # take environment variables from .env.\n",
    "\n",
    "module_path = os.getenv(\"LOCAL_AKSHARE_DEV_MODULE\")\n",
    "if module_path is not None and module_path not in sys.path:\n",
    "    sys.path.insert(0, module_path)\n",
    "import akshare as ak  # noqa: E402\n",
    "\n",
    "print(ak.__version__)\n",
    "\n",
    "DB_USER = os.getenv(\"DB_USER\")\n",
    "DB_PASSWORD = os.getenv(\"DB_PASSWORD\")\n",
    "DB_HOST = os.getenv(\"DB_HOST\")\n",
    "DB_PORT = os.getenv(\"DB_PORT\")\n",
    "DB_NAME = os.getenv(\"DB_NAME\")\n",
    "\n",
    "# Create an engine instance\n",
    "alchemyEngine = create_engine(\n",
    "    f\"postgresql+psycopg2://{DB_USER}:{DB_PASSWORD}@{DB_HOST}:{DB_PORT}/{DB_NAME}\",\n",
    "    pool_recycle=3600,\n",
    ")\n",
    "\n",
    "logger = logging.getLogger(__name__)\n",
    "logger.setLevel(logging.ERROR)\n",
    "\n",
    "file_handler = logging.FileHandler(\"etl.log\")\n",
    "console_handler = logging.StreamHandler()\n",
    "\n",
    "# Step 4: Create a formatter\n",
    "formatter = logging.Formatter(\"%(name)s - %(levelname)s - %(message)s\")\n",
    "\n",
    "# Step 5: Attach the formatter to the handlers\n",
    "file_handler.setFormatter(formatter)\n",
    "console_handler.setFormatter(formatter)\n",
    "\n",
    "# Step 6: Add the handlers to the logger\n",
    "logger.addHandler(file_handler)\n",
    "logger.addHandler(console_handler)\n",
    "\n",
    "xshg = xcals.get_calendar(\"XSHG\")"
   ]
  },
  {
   "cell_type": "markdown",
   "metadata": {},
   "source": [
    "# Helper functions"
   ]
  },
  {
   "cell_type": "code",
   "execution_count": 3,
   "metadata": {
    "execution": {
     "iopub.execute_input": "2024-03-26T11:34:14.392771Z",
     "iopub.status.busy": "2024-03-26T11:34:14.392191Z",
     "iopub.status.idle": "2024-03-26T11:34:14.401231Z",
     "shell.execute_reply": "2024-03-26T11:34:14.400333Z"
    }
   },
   "outputs": [],
   "source": [
    "def update_on_conflict(table, conn, df: pd.DataFrame, primary_keys):\n",
    "    \"\"\"\n",
    "    Insert new records, update existing records without nullifying columns not included in the dataframe\n",
    "    \"\"\"\n",
    "    # Load the table metadata\n",
    "    table = sqlalchemy.Table(table, sqlalchemy.MetaData(), autoload_with=conn)\n",
    "    # Create an insert statement from the DataFrame records\n",
    "    insert_stmt = insert(table).values(df.to_dict(orient=\"records\"))\n",
    "    # Build a dictionary of column values to be updated, excluding primary keys and non-existent columns\n",
    "    update_dict = {\n",
    "        c.name: insert_stmt.excluded[c.name]\n",
    "        for c in table.columns\n",
    "        if c.name in df.columns and c.name not in primary_keys\n",
    "    }\n",
    "    # Construct the on_conflict_do_update statement\n",
    "    on_conflict_stmt = insert_stmt.on_conflict_do_update(\n",
    "        index_elements=primary_keys, set_=update_dict\n",
    "    )\n",
    "    # Execute the on_conflict_do_update statement\n",
    "    conn.execute(on_conflict_stmt)\n",
    "\n",
    "\n",
    "def ignore_on_conflict(table, conn, df, primary_keys):\n",
    "    \"\"\"\n",
    "    Insert new records, ignore existing records\n",
    "    \"\"\"\n",
    "    table = sqlalchemy.Table(table, sqlalchemy.MetaData(), autoload_with=conn)\n",
    "    insert_stmt = insert(table).values(df.to_dict(orient=\"records\"))\n",
    "    on_conflict_stmt = insert_stmt.on_conflict_do_nothing(index_elements=primary_keys)\n",
    "    conn.execute(on_conflict_stmt)\n",
    "\n",
    "\n",
    "def saveAsCsv(file_name_main: str, df):\n",
    "    \"\"\"\n",
    "    Save dataframe to CSV file\n",
    "    \"\"\"\n",
    "    # save to file\n",
    "    # Get the current timestamp to append to the filename\n",
    "    current_time = datetime.now().strftime(\"%Y%m%d_%H%M%S\")\n",
    "    # Save the dataframe to a csv file with timestamp as suffix. Need to properly encode and display Chinese characters.\n",
    "    df.to_csv(f\"{file_name_main}_{current_time}.csv\", encoding=\"utf_8_sig\", index=False)\n",
    "\n",
    "\n",
    "@lru_cache()\n",
    "def last_trade_date():\n",
    "    current_date = datetime.now().date()\n",
    "    # Iterate backwards from current_date until a valid session is found\n",
    "    last_session = current_date\n",
    "    while not xshg.is_session(last_session):\n",
    "        last_session -= timedelta(days=1)\n",
    "    return last_session"
   ]
  },
  {
   "cell_type": "markdown",
   "metadata": {},
   "source": [
    "# fund_etf_spot_em "
   ]
  },
  {
   "cell_type": "code",
   "execution_count": 4,
   "metadata": {
    "execution": {
     "iopub.execute_input": "2024-03-26T11:34:14.405412Z",
     "iopub.status.busy": "2024-03-26T11:34:14.405055Z",
     "iopub.status.idle": "2024-03-26T11:34:17.299103Z",
     "shell.execute_reply": "2024-03-26T11:34:17.298079Z"
    }
   },
   "outputs": [],
   "source": [
    "# Get laste fund / ETF data set for today (or latest trading date), and persists into database.\n",
    "\n",
    "df = ak.fund_etf_spot_em()\n",
    "df = df[\n",
    "    [\n",
    "        \"代码\",\n",
    "        \"名称\",\n",
    "        \"最新价\",\n",
    "        \"IOPV实时估值\",\n",
    "        \"基金折价率\",\n",
    "        \"涨跌额\",\n",
    "        \"涨跌幅\",\n",
    "        \"成交量\",\n",
    "        \"成交额\",\n",
    "        \"开盘价\",\n",
    "        \"最高价\",\n",
    "        \"最低价\",\n",
    "        \"昨收\",\n",
    "        \"换手率\",\n",
    "        \"量比\",\n",
    "        \"委比\",\n",
    "        \"外盘\",\n",
    "        \"内盘\",\n",
    "        \"主力净流入-净额\",\n",
    "        \"主力净流入-净占比\",\n",
    "        \"超大单净流入-净额\",\n",
    "        \"超大单净流入-净占比\",\n",
    "        \"大单净流入-净额\",\n",
    "        \"大单净流入-净占比\",\n",
    "        \"中单净流入-净额\",\n",
    "        \"中单净流入-净占比\",\n",
    "        \"小单净流入-净额\",\n",
    "        \"小单净流入-净占比\",\n",
    "        \"流通市值\",\n",
    "        \"总市值\",\n",
    "        \"最新份额\",\n",
    "        \"数据日期\",\n",
    "        \"更新时间\",\n",
    "    ]\n",
    "]\n",
    "\n",
    "saveAsCsv(\"fund_etf_spot_em\", df)\n",
    "\n",
    "# Rename the columns of df to match the table's column names\n",
    "df = df.rename(\n",
    "    columns={\n",
    "        \"数据日期\": \"date\",\n",
    "        \"更新时间\": \"update_time\",\n",
    "        \"代码\": \"code\",\n",
    "        \"名称\": \"name\",\n",
    "        \"最新价\": \"latest_price\",\n",
    "        \"IOPV实时估值\": \"iopv\",\n",
    "        \"基金折价率\": \"fund_discount_rate\",\n",
    "        \"涨跌额\": \"change_amount\",\n",
    "        \"涨跌幅\": \"change_rate\",\n",
    "        \"成交量\": \"volume\",\n",
    "        \"成交额\": \"turnover\",\n",
    "        \"开盘价\": \"opening_price\",\n",
    "        \"最高价\": \"highest_price\",\n",
    "        \"最低价\": \"lowest_price\",\n",
    "        \"昨收\": \"previous_close\",\n",
    "        \"换手率\": \"turnover_rate\",\n",
    "        \"量比\": \"volume_ratio\",\n",
    "        \"委比\": \"order_ratio\",\n",
    "        \"外盘\": \"external_disc\",\n",
    "        \"内盘\": \"internal_disc\",\n",
    "        \"主力净流入-净额\": \"main_force_net_inflow_amount\",\n",
    "        \"主力净流入-净占比\": \"main_force_net_inflow_ratio\",\n",
    "        \"超大单净流入-净额\": \"super_large_net_inflow_amount\",\n",
    "        \"超大单净流入-净占比\": \"super_large_net_inflow_ratio\",\n",
    "        \"大单净流入-净额\": \"large_net_inflow_amount\",\n",
    "        \"大单净流入-净占比\": \"large_net_inflow_ratio\",\n",
    "        \"中单净流入-净额\": \"medium_net_inflow_amount\",\n",
    "        \"中单净流入-净占比\": \"medium_net_inflow_ratio\",\n",
    "        \"小单净流入-净额\": \"small_net_inflow_amount\",\n",
    "        \"小单净流入-净占比\": \"small_net_inflow_ratio\",\n",
    "        \"流通市值\": \"circulating_market_value\",\n",
    "        \"总市值\": \"total_market_value\",\n",
    "        \"最新份额\": \"latest_shares\",\n",
    "    }\n",
    ")\n",
    "\n",
    "with alchemyEngine.begin() as conn:\n",
    "    update_on_conflict(\"fund_etf_spot_em\", conn, df, [\"code\", \"date\"])"
   ]
  },
  {
   "cell_type": "markdown",
   "metadata": {},
   "source": [
    "# fund_etf_perf_em"
   ]
  },
  {
   "cell_type": "code",
   "execution_count": 5,
   "metadata": {
    "execution": {
     "iopub.execute_input": "2024-03-26T11:34:17.304449Z",
     "iopub.status.busy": "2024-03-26T11:34:17.304044Z",
     "iopub.status.idle": "2024-03-26T11:34:21.013351Z",
     "shell.execute_reply": "2024-03-26T11:34:21.012217Z"
    }
   },
   "outputs": [],
   "source": [
    "fund_exchange_rank_em_df = ak.fund_exchange_rank_em()\n",
    "\n",
    "saveAsCsv(\"fund_exchange_rank_em\", fund_exchange_rank_em_df)\n",
    "\n",
    "column_mapping = {\n",
    "    \"序号\": \"id\",\n",
    "    \"基金代码\": \"fundcode\",\n",
    "    \"基金简称\": \"fundname\",\n",
    "    \"类型\": \"type\",\n",
    "    \"日期\": \"date\",\n",
    "    \"单位净值\": \"unitnav\",\n",
    "    \"累计净值\": \"accumulatednav\",\n",
    "    \"近1周\": \"pastweek\",\n",
    "    \"近1月\": \"pastmonth\",\n",
    "    \"近3月\": \"past3months\",\n",
    "    \"近6月\": \"past6months\",\n",
    "    \"近1年\": \"pastyear\",\n",
    "    \"近2年\": \"past2years\",\n",
    "    \"近3年\": \"past3years\",\n",
    "    \"今年来\": \"ytd\",\n",
    "    \"成立来\": \"sinceinception\",\n",
    "    \"成立日期\": \"inceptiondate\",\n",
    "}\n",
    "fund_exchange_rank_em_df.rename(columns=column_mapping, inplace=True)\n",
    "\n",
    "with alchemyEngine.begin() as conn:\n",
    "    update_on_conflict(\"fund_etf_perf_em\", conn, fund_exchange_rank_em_df, [\"fundcode\"])"
   ]
  },
  {
   "cell_type": "markdown",
   "metadata": {},
   "source": [
    "# Get a full list of ETF fund"
   ]
  },
  {
   "cell_type": "code",
   "execution_count": 6,
   "metadata": {
    "execution": {
     "iopub.execute_input": "2024-03-26T11:34:21.019247Z",
     "iopub.status.busy": "2024-03-26T11:34:21.018838Z",
     "iopub.status.idle": "2024-03-26T11:34:25.479131Z",
     "shell.execute_reply": "2024-03-26T11:34:25.478230Z"
    }
   },
   "outputs": [],
   "source": [
    "# retrieve list from Sina\n",
    "fund_etf_category_sina_df = ak.fund_etf_category_sina(symbol=\"ETF基金\")\n",
    "\n",
    "# keep only 2 columns from `fund_etf_category_sina_df`: 代码, 名称.\n",
    "# split `代码` values by `exchange code` and `symbol` and store into 2 columns. No need to keep the `代码` column.\n",
    "# for example: 代码=sz159998, split into `exch=sz`, `symbol=159998`.\n",
    "df = fund_etf_category_sina_df[[\"代码\", \"名称\"]].copy()\n",
    "df.columns = [\"code\", \"name\"]\n",
    "df[[\"exch\", \"symbol\"]] = df[\"code\"].str.extract(r\"([a-z]+)(\\d+)\")\n",
    "df.drop(columns=[\"code\"], inplace=True)\n",
    "\n",
    "# Now, use the update_on_conflict function to insert or update the data\n",
    "with alchemyEngine.begin() as conn:\n",
    "    update_on_conflict(\"fund_etf_list_sina\", conn, df, [\"exch\", \"symbol\"])"
   ]
  },
  {
   "cell_type": "markdown",
   "metadata": {},
   "source": [
    "# Get historical trades"
   ]
  },
  {
   "cell_type": "code",
   "execution_count": 7,
   "metadata": {
    "execution": {
     "iopub.execute_input": "2024-03-26T11:34:25.483517Z",
     "iopub.status.busy": "2024-03-26T11:34:25.483156Z",
     "iopub.status.idle": "2024-03-26T11:35:17.455426Z",
     "shell.execute_reply": "2024-03-26T11:35:17.454486Z"
    }
   },
   "outputs": [],
   "source": [
    "end_date = datetime.now().strftime(\"%Y%m%d\")\n",
    "start_date = (datetime.now() - timedelta(days=20)).strftime(\"%Y%m%d\")\n",
    "# start_date = '19700101' # For entire history.\n",
    "\n",
    "\n",
    "# Function to fetch and process ETF data\n",
    "def fetch_and_process_etf(symbol):\n",
    "    try:\n",
    "        df = ak.fund_etf_hist_em(\n",
    "            symbol=symbol,\n",
    "            period=\"daily\",\n",
    "            start_date=start_date,\n",
    "            end_date=end_date,\n",
    "            adjust=\"qfq\",\n",
    "        )\n",
    "\n",
    "        # if df contains no row at all, return immediately\n",
    "        if df.empty:\n",
    "            return None\n",
    "        \n",
    "        df[\"symbol\"] = symbol\n",
    "        df = df.rename(\n",
    "            columns={\n",
    "                \"日期\": \"date\",\n",
    "                \"开盘\": \"open\",\n",
    "                \"收盘\": \"close\",\n",
    "                \"最高\": \"high\",\n",
    "                \"最低\": \"low\",\n",
    "                \"成交量\": \"volume\",\n",
    "                \"成交额\": \"turnover\",\n",
    "                \"振幅\": \"amplitude\",\n",
    "                \"涨跌幅\": \"change_rate\",\n",
    "                \"涨跌额\": \"change_amount\",\n",
    "                \"换手率\": \"turnover_rate\",\n",
    "            }\n",
    "        )\n",
    "        df = df[\n",
    "            [\n",
    "                \"symbol\",\n",
    "                \"date\",\n",
    "                \"open\",\n",
    "                \"close\",\n",
    "                \"high\",\n",
    "                \"low\",\n",
    "                \"volume\",\n",
    "                \"turnover\",\n",
    "                \"amplitude\",\n",
    "                \"change_rate\",\n",
    "                \"change_amount\",\n",
    "                \"turnover_rate\",\n",
    "            ]\n",
    "        ]\n",
    "        with alchemyEngine.begin() as conn:\n",
    "            ignore_on_conflict(\"fund_etf_daily_em\", conn, df, [\"symbol\", \"date\"])\n",
    "    except Exception:\n",
    "        logging.error(\n",
    "            f\"failed to get daily trade history data for {symbol}\", exc_info=True\n",
    "        )\n",
    "        return None\n",
    "    return df\n",
    "\n",
    "\n",
    "# Fetch the ETF list\n",
    "etf_list_df = pd.read_sql(\"SELECT symbol FROM fund_etf_list_sina\", alchemyEngine)\n",
    "\n",
    "# get the number of CPU cores\n",
    "num_cores = multiprocessing.cpu_count()\n",
    "\n",
    "# Use ThreadPoolExecutor to fetch data in parallel\n",
    "with ThreadPoolExecutor(max_workers=num_cores) as executor:\n",
    "    futures = [\n",
    "        executor.submit(fetch_and_process_etf, symbol)\n",
    "        for symbol in etf_list_df[\"symbol\"]\n",
    "    ]\n",
    "    results = [future.result() for future in futures]"
   ]
  },
  {
   "cell_type": "markdown",
   "metadata": {},
   "source": [
    "# Calculate ETF Performance Metrics"
   ]
  },
  {
   "cell_type": "markdown",
   "metadata": {},
   "source": [
    "## Get historical bond rate (risk-free interest rate)"
   ]
  },
  {
   "cell_type": "code",
   "execution_count": 8,
   "metadata": {
    "execution": {
     "iopub.execute_input": "2024-03-26T11:35:17.460961Z",
     "iopub.status.busy": "2024-03-26T11:35:17.460565Z",
     "iopub.status.idle": "2024-03-26T11:35:43.926586Z",
     "shell.execute_reply": "2024-03-26T11:35:43.925462Z"
    }
   },
   "outputs": [
    {
     "name": "stderr",
     "output_type": "stream",
     "text": [
      "\r",
      "  0%|                                                                                                                                                                                       | 0/18 [00:00<?, ?it/s]"
     ]
    },
    {
     "name": "stderr",
     "output_type": "stream",
     "text": [
      "\r",
      "  6%|█████████▋                                                                                                                                                                     | 1/18 [00:01<00:19,  1.12s/it]"
     ]
    },
    {
     "name": "stderr",
     "output_type": "stream",
     "text": [
      "\r",
      " 11%|███████████████████▍                                                                                                                                                           | 2/18 [00:02<00:20,  1.30s/it]"
     ]
    },
    {
     "name": "stderr",
     "output_type": "stream",
     "text": [
      "\r",
      " 17%|█████████████████████████████▏                                                                                                                                                 | 3/18 [00:03<00:17,  1.19s/it]"
     ]
    },
    {
     "name": "stderr",
     "output_type": "stream",
     "text": [
      "\r",
      " 22%|██████████████████████████████████████▉                                                                                                                                        | 4/18 [00:04<00:17,  1.22s/it]"
     ]
    },
    {
     "name": "stderr",
     "output_type": "stream",
     "text": [
      "\r",
      " 28%|████████████████████████████████████████████████▌                                                                                                                              | 5/18 [00:06<00:15,  1.20s/it]"
     ]
    },
    {
     "name": "stderr",
     "output_type": "stream",
     "text": [
      "\r",
      " 33%|██████████████████████████████████████████████████████████▎                                                                                                                    | 6/18 [00:07<00:14,  1.17s/it]"
     ]
    },
    {
     "name": "stderr",
     "output_type": "stream",
     "text": [
      "\r",
      " 39%|████████████████████████████████████████████████████████████████████                                                                                                           | 7/18 [00:08<00:13,  1.19s/it]"
     ]
    },
    {
     "name": "stderr",
     "output_type": "stream",
     "text": [
      "\r",
      " 44%|█████████████████████████████████████████████████████████████████████████████▊                                                                                                 | 8/18 [00:09<00:11,  1.17s/it]"
     ]
    },
    {
     "name": "stderr",
     "output_type": "stream",
     "text": [
      "\r",
      " 50%|███████████████████████████████████████████████████████████████████████████████████████▌                                                                                       | 9/18 [00:10<00:10,  1.14s/it]"
     ]
    },
    {
     "name": "stderr",
     "output_type": "stream",
     "text": [
      "\r",
      " 56%|████████████████████████████████████████████████████████████████████████████████████████████████▋                                                                             | 10/18 [00:11<00:08,  1.12s/it]"
     ]
    },
    {
     "name": "stderr",
     "output_type": "stream",
     "text": [
      "\r",
      " 61%|██████████████████████████████████████████████████████████████████████████████████████████████████████████▎                                                                   | 11/18 [00:12<00:07,  1.09s/it]"
     ]
    },
    {
     "name": "stderr",
     "output_type": "stream",
     "text": [
      "\r",
      " 67%|████████████████████████████████████████████████████████████████████████████████████████████████████████████████████                                                          | 12/18 [00:13<00:06,  1.08s/it]"
     ]
    },
    {
     "name": "stderr",
     "output_type": "stream",
     "text": [
      "\r",
      " 72%|█████████████████████████████████████████████████████████████████████████████████████████████████████████████████████████████▋                                                | 13/18 [00:14<00:05,  1.06s/it]"
     ]
    },
    {
     "name": "stderr",
     "output_type": "stream",
     "text": [
      "\r",
      " 78%|███████████████████████████████████████████████████████████████████████████████████████████████████████████████████████████████████████▎                                      | 14/18 [00:15<00:04,  1.09s/it]"
     ]
    },
    {
     "name": "stderr",
     "output_type": "stream",
     "text": [
      "\r",
      " 83%|█████████████████████████████████████████████████████████████████████████████████████████████████████████████████████████████████████████████████                             | 15/18 [00:16<00:03,  1.07s/it]"
     ]
    },
    {
     "name": "stderr",
     "output_type": "stream",
     "text": [
      "\r",
      " 89%|██████████████████████████████████████████████████████████████████████████████████████████████████████████████████████████████████████████████████████████▋                   | 16/18 [00:17<00:02,  1.04s/it]"
     ]
    },
    {
     "name": "stderr",
     "output_type": "stream",
     "text": [
      "\r",
      " 94%|████████████████████████████████████████████████████████████████████████████████████████████████████████████████████████████████████████████████████████████████████▎         | 17/18 [00:19<00:01,  1.07s/it]"
     ]
    },
    {
     "name": "stderr",
     "output_type": "stream",
     "text": [
      "\r",
      "100%|██████████████████████████████████████████████████████████████████████████████████████████████████████████████████████████████████████████████████████████████████████████████| 18/18 [00:20<00:00,  1.07s/it]"
     ]
    },
    {
     "name": "stderr",
     "output_type": "stream",
     "text": [
      "\r",
      "                                                                                                                                                                                                                   "
     ]
    },
    {
     "name": "stderr",
     "output_type": "stream",
     "text": [
      "\r"
     ]
    }
   ],
   "source": [
    "# start_date = (datetime.now() - timedelta(days=20)).strftime('%Y%m%d')\n",
    "start_date = None  # For entire history.\n",
    "\n",
    "bzur = ak.bond_zh_us_rate(start_date)\n",
    "bzur = bzur.rename(\n",
    "    columns={\n",
    "        \"日期\": \"date\",\n",
    "        \"中国国债收益率2年\": \"china_yield_2y\",\n",
    "        \"中国国债收益率5年\": \"china_yield_5y\",\n",
    "        \"中国国债收益率10年\": \"china_yield_10y\",\n",
    "        \"中国国债收益率30年\": \"china_yield_30y\",\n",
    "        \"中国国债收益率10年-2年\": \"china_yield_spread_10y_2y\",\n",
    "        \"中国GDP年增率\": \"china_gdp_growth\",\n",
    "        \"美国国债收益率2年\": \"us_yield_2y\",\n",
    "        \"美国国债收益率5年\": \"us_yield_5y\",\n",
    "        \"美国国债收益率10年\": \"us_yield_10y\",\n",
    "        \"美国国债收益率30年\": \"us_yield_30y\",\n",
    "        \"美国国债收益率10年-2年\": \"us_yield_spread_10y_2y\",\n",
    "        \"美国GDP年增率\": \"us_gdp_growth\",\n",
    "    }\n",
    ")\n",
    "with alchemyEngine.begin() as conn:\n",
    "    ignore_on_conflict(\"bond_metrics_em\", conn, bzur, [\"date\"])"
   ]
  },
  {
   "cell_type": "markdown",
   "metadata": {},
   "source": [
    "## Calc / Update metrics in fund_etf_perf_em table"
   ]
  },
  {
   "cell_type": "code",
   "execution_count": 9,
   "metadata": {
    "execution": {
     "iopub.execute_input": "2024-03-26T11:35:43.932241Z",
     "iopub.status.busy": "2024-03-26T11:35:43.931780Z",
     "iopub.status.idle": "2024-03-26T11:36:57.225343Z",
     "shell.execute_reply": "2024-03-26T11:36:57.224286Z"
    }
   },
   "outputs": [],
   "source": [
    "interval = 250  # assume 250 trading days annualy\n",
    "end_date = last_trade_date()\n",
    "# start_date = (end_date - timedelta(days=interval)).strftime('%Y%m%d')\n",
    "# start_date = '19700101' # For entire history.\n",
    "\n",
    "# load historical data from daily table and calc metrics, then update perf table\n",
    "def update_etf_metrics(symbol):\n",
    "    try:\n",
    "        with alchemyEngine.begin() as conn:\n",
    "            # load the latest (top) `interval` records of historical market data records from `fund_etf_daily_em` table for `symbol`, order by `date`.\n",
    "            # select columns: date, change_rate\n",
    "            query = \"\"\"SELECT date, change_rate FROM fund_etf_daily_em WHERE symbol = '{}' ORDER BY date DESC LIMIT {}\"\"\".format(\n",
    "                symbol, interval\n",
    "            )\n",
    "            df = pd.read_sql(query, conn, parse_dates=[\"date\"])\n",
    "    \n",
    "            # get oldest df['date'] as state_date\n",
    "            start_date = df['date'].iloc[-1]\n",
    "            # get 2-years CN bond IR as risk-free IR from bond_metrics_em table. 1-year series (natural dates).\n",
    "            # select date, china_yield_2y from table `bond_metrics_em`, where date is between start_date and end_date (inclusive). Load into a dataframe.\n",
    "            query = \"\"\"SELECT date, china_yield_2y FROM bond_metrics_em WHERE date BETWEEN '{}' AND '{}' and china_yield_2y <> 'nan'\"\"\".format(\n",
    "                start_date, end_date\n",
    "            )\n",
    "            bme_df = pd.read_sql(query, conn, parse_dates=[\"date\"])\n",
    "            # Convert annualized rate to a daily rate\n",
    "            bme_df[\"china_yield_2y_daily\"] = bme_df[\"china_yield_2y\"] / 365.25\n",
    "\n",
    "            # merge df with bme_df by matching dates.\n",
    "            df = pd.merge_asof(\n",
    "                df.sort_values(\"date\"),\n",
    "                bme_df.sort_values(\"date\"),\n",
    "                on=\"date\",\n",
    "                direction=\"backward\",\n",
    "            ).dropna(subset=[\"change_rate\"])\n",
    "\n",
    "            # calculate the Sharpe ratio, Sortino ratio, and max drawdown with the time series data inside df.\n",
    "            df[\"excess_return\"] = df[\"change_rate\"] - df[\"china_yield_2y_daily\"]\n",
    "            # Annualize the excess return\n",
    "            annualized_excess_return = np.mean(df[\"excess_return\"])\n",
    "\n",
    "            # Calculate the standard deviation of the excess returns\n",
    "            std_dev = df[\"excess_return\"].std()\n",
    "\n",
    "            # Sharpe ratio\n",
    "            sharpe_ratio = annualized_excess_return / std_dev\n",
    "\n",
    "            # Calculate the downside deviation (Sortino ratio denominator)\n",
    "            downside_dev = df[df[\"excess_return\"] < 0][\"excess_return\"].std()\n",
    "\n",
    "            # Sortino ratio\n",
    "            sortino_ratio = (\n",
    "                annualized_excess_return / downside_dev if downside_dev > 0 else None\n",
    "            )\n",
    "\n",
    "            # To calculate max drawdown, get the cummulative_returns\n",
    "            df[\"cumulative_returns\"] = np.cumprod(1 + df[\"change_rate\"]/100.) - 1\n",
    "            # Calculate the maximum cumulative return up to each point\n",
    "            peak = np.maximum.accumulate(df[\"cumulative_returns\"])\n",
    "            # Calculate drawdown as the difference between the current value and the peak\n",
    "            drawdown = (df[\"cumulative_returns\"] - peak) / (1 + peak) * 100\n",
    "            # Calculate max drawdown\n",
    "            max_drawdown = np.min(drawdown)  # This is a negative number\n",
    "\n",
    "            # update the `sharperatio, sortinoratio, maxdrawdown` columns for `symbol` in the table `fund_etf_perf_em` using the calculated metrics.\n",
    "            update_query = text(\n",
    "                \"UPDATE fund_etf_perf_em SET sharperatio = :sharperatio, sortinoratio = :sortinoratio, maxdrawdown = :maxdrawdown WHERE fundcode = :fundcode\"\n",
    "            )\n",
    "            params = {\n",
    "                \"sharperatio\": round(sharpe_ratio, 2)\n",
    "                if sharpe_ratio is not None and math.isfinite(sharpe_ratio)\n",
    "                else None,\n",
    "                \"sortinoratio\": round(sortino_ratio, 2)\n",
    "                if sortino_ratio is not None and math.isfinite(sortino_ratio)\n",
    "                else None,\n",
    "                \"maxdrawdown\": round(max_drawdown, 2)\n",
    "                if math.isfinite(max_drawdown)\n",
    "                else None,\n",
    "                \"fundcode\": symbol,\n",
    "            }\n",
    "            conn.execute(update_query, params)\n",
    "\n",
    "    except Exception:\n",
    "        logging.error(f\"failed to update ETF metrics for {symbol}\", exc_info=True)\n",
    "        return None\n",
    "    return df\n",
    "\n",
    "\n",
    "# Fetch the ETF list\n",
    "etf_list_df = pd.read_sql(\"SELECT symbol FROM fund_etf_list_sina\", alchemyEngine)\n",
    "\n",
    "# get the number of CPU cores\n",
    "num_proc = int((multiprocessing.cpu_count() + 1) / 2.0)\n",
    "\n",
    "# Use ThreadPoolExecutor to calculate metrics in parallel\n",
    "with ThreadPoolExecutor(max_workers=num_proc) as executor:\n",
    "    futures = [\n",
    "        executor.submit(update_etf_metrics, symbol) for symbol in etf_list_df[\"symbol\"]\n",
    "    ]\n",
    "    results = [future.result() for future in futures]"
   ]
  },
  {
   "cell_type": "markdown",
   "metadata": {},
   "source": [
    "# China Market Indices"
   ]
  },
  {
   "cell_type": "code",
   "execution_count": 10,
   "metadata": {
    "execution": {
     "iopub.execute_input": "2024-03-26T11:36:57.231682Z",
     "iopub.status.busy": "2024-03-26T11:36:57.231290Z",
     "iopub.status.idle": "2024-03-26T11:36:58.900073Z",
     "shell.execute_reply": "2024-03-26T11:36:58.899067Z"
    }
   },
   "outputs": [],
   "source": [
    "cn_index_list = [\n",
    "    (\"上证系列指数\", \"sh\"),\n",
    "    (\"深证系列指数\", \"sz\"),\n",
    "    # (\"指数成份\", \"\"),\n",
    "    (\"中证系列指数\", \"csi\"),\n",
    "]\n",
    "\n",
    "def update_cn_indices_em(symbol, src):\n",
    "    try:\n",
    "        szise = ak.stock_zh_index_spot_em(symbol)\n",
    "        szise = szise.rename(\n",
    "            columns={\n",
    "                \"序号\": \"seq\",\n",
    "                \"代码\": \"symbol\",\n",
    "                \"名称\": \"name\",\n",
    "                \"最新价\": \"close\",\n",
    "                \"涨跌幅\": \"change_rate\",\n",
    "                \"涨跌额\": \"change_amount\",\n",
    "                \"成交量\": \"volume\",\n",
    "                \"成交额\": \"amount\",\n",
    "                \"振幅\": \"amplitude\",\n",
    "                \"最高\": \"high\",\n",
    "                \"最低\": \"low\",\n",
    "                \"今开\": \"open\",\n",
    "                \"昨收\": \"prev_close\",\n",
    "                \"量比\": \"volume_ratio\",\n",
    "            }\n",
    "        )\n",
    "        szise[\"src\"] = src\n",
    "        with alchemyEngine.begin() as conn:\n",
    "            update_on_conflict(\"index_spot_em\", conn, szise, [\"symbol\"])\n",
    "\n",
    "    except Exception:\n",
    "        logging.error(f\"failed to update index_spot_em for {symbol}\", exc_info=True)\n",
    "        return None\n",
    "    return szise\n",
    "\n",
    "\n",
    "# get the number of CPU cores\n",
    "num_proc = int((multiprocessing.cpu_count() + 1) / 2.0)\n",
    "\n",
    "# Use ThreadPoolExecutor to calculate metrics in parallel\n",
    "with ThreadPoolExecutor(max_workers=num_proc) as executor:\n",
    "    futures = [\n",
    "        executor.submit(update_cn_indices_em, symbol, src) for symbol, src in cn_index_list\n",
    "    ]\n",
    "    results = [future.result() for future in futures]"
   ]
  },
  {
   "cell_type": "code",
   "execution_count": 11,
   "metadata": {
    "execution": {
     "iopub.execute_input": "2024-03-26T11:36:58.904977Z",
     "iopub.status.busy": "2024-03-26T11:36:58.904618Z",
     "iopub.status.idle": "2024-03-26T12:00:57.406812Z",
     "shell.execute_reply": "2024-03-26T12:00:57.404671Z"
    }
   },
   "outputs": [
    {
     "name": "stderr",
     "output_type": "stream",
     "text": [
      "ERROR:root:failed to update index_daily_em for 395033\n",
      "Traceback (most recent call last):\n",
      "  File \"/var/folders/fb/phz99gmn7cld34rh4f6ppmlw0000gn/T/ipykernel_16333/5112864.py\", line 4, in update_cn_indices\n",
      "    szide = ak.stock_zh_index_daily_em(f\"{src}{symbol}\")\n",
      "            ^^^^^^^^^^^^^^^^^^^^^^^^^^^^^^^^^^^^^^^^^^^^\n",
      "  File \"/Users/jx/ProgramData/python/akshare/akshare/index/index_stock_zh.py\", line 361, in stock_zh_index_daily_em\n",
      "    temp_df.columns = [\"date\", \"open\", \"close\", \"high\", \"low\", \"volume\", \"amount\", \"_\"]\n",
      "    ^^^^^^^^^^^^^^^\n",
      "  File \"/Users/jx/.pyenv/versions/3.12.2/envs/venv_3.12.2/lib/python3.12/site-packages/pandas/core/generic.py\", line 6218, in __setattr__\n",
      "    return object.__setattr__(self, name, value)\n",
      "           ^^^^^^^^^^^^^^^^^^^^^^^^^^^^^^^^^^^^^\n",
      "  File \"properties.pyx\", line 69, in pandas._libs.properties.AxisProperty.__set__\n",
      "  File \"/Users/jx/.pyenv/versions/3.12.2/envs/venv_3.12.2/lib/python3.12/site-packages/pandas/core/generic.py\", line 767, in _set_axis\n",
      "    self._mgr.set_axis(axis, labels)\n",
      "  File \"/Users/jx/.pyenv/versions/3.12.2/envs/venv_3.12.2/lib/python3.12/site-packages/pandas/core/internals/managers.py\", line 227, in set_axis\n",
      "    self._validate_set_axis(axis, new_labels)\n",
      "  File \"/Users/jx/.pyenv/versions/3.12.2/envs/venv_3.12.2/lib/python3.12/site-packages/pandas/core/internals/base.py\", line 85, in _validate_set_axis\n",
      "    raise ValueError(\n",
      "ValueError: Length mismatch: Expected axis has 0 elements, new values have 8 elements\n"
     ]
    },
    {
     "name": "stderr",
     "output_type": "stream",
     "text": [
      "ERROR:root:failed to update index_daily_em for 395032\n",
      "Traceback (most recent call last):\n",
      "  File \"/var/folders/fb/phz99gmn7cld34rh4f6ppmlw0000gn/T/ipykernel_16333/5112864.py\", line 4, in update_cn_indices\n",
      "    szide = ak.stock_zh_index_daily_em(f\"{src}{symbol}\")\n",
      "            ^^^^^^^^^^^^^^^^^^^^^^^^^^^^^^^^^^^^^^^^^^^^\n",
      "  File \"/Users/jx/ProgramData/python/akshare/akshare/index/index_stock_zh.py\", line 361, in stock_zh_index_daily_em\n",
      "    temp_df.columns = [\"date\", \"open\", \"close\", \"high\", \"low\", \"volume\", \"amount\", \"_\"]\n",
      "    ^^^^^^^^^^^^^^^\n",
      "  File \"/Users/jx/.pyenv/versions/3.12.2/envs/venv_3.12.2/lib/python3.12/site-packages/pandas/core/generic.py\", line 6218, in __setattr__\n",
      "    return object.__setattr__(self, name, value)\n",
      "           ^^^^^^^^^^^^^^^^^^^^^^^^^^^^^^^^^^^^^\n",
      "  File \"properties.pyx\", line 69, in pandas._libs.properties.AxisProperty.__set__\n",
      "  File \"/Users/jx/.pyenv/versions/3.12.2/envs/venv_3.12.2/lib/python3.12/site-packages/pandas/core/generic.py\", line 767, in _set_axis\n",
      "    self._mgr.set_axis(axis, labels)\n",
      "  File \"/Users/jx/.pyenv/versions/3.12.2/envs/venv_3.12.2/lib/python3.12/site-packages/pandas/core/internals/managers.py\", line 227, in set_axis\n",
      "    self._validate_set_axis(axis, new_labels)\n",
      "  File \"/Users/jx/.pyenv/versions/3.12.2/envs/venv_3.12.2/lib/python3.12/site-packages/pandas/core/internals/base.py\", line 85, in _validate_set_axis\n",
      "    raise ValueError(\n",
      "ValueError: Length mismatch: Expected axis has 0 elements, new values have 8 elements\n"
     ]
    },
    {
     "name": "stderr",
     "output_type": "stream",
     "text": [
      "ERROR:root:failed to update index_daily_em for 395006\n",
      "Traceback (most recent call last):\n",
      "  File \"/var/folders/fb/phz99gmn7cld34rh4f6ppmlw0000gn/T/ipykernel_16333/5112864.py\", line 4, in update_cn_indices\n",
      "    szide = ak.stock_zh_index_daily_em(f\"{src}{symbol}\")\n",
      "            ^^^^^^^^^^^^^^^^^^^^^^^^^^^^^^^^^^^^^^^^^^^^\n",
      "  File \"/Users/jx/ProgramData/python/akshare/akshare/index/index_stock_zh.py\", line 361, in stock_zh_index_daily_em\n",
      "    temp_df.columns = [\"date\", \"open\", \"close\", \"high\", \"low\", \"volume\", \"amount\", \"_\"]\n",
      "    ^^^^^^^^^^^^^^^\n",
      "  File \"/Users/jx/.pyenv/versions/3.12.2/envs/venv_3.12.2/lib/python3.12/site-packages/pandas/core/generic.py\", line 6218, in __setattr__\n",
      "    return object.__setattr__(self, name, value)\n",
      "           ^^^^^^^^^^^^^^^^^^^^^^^^^^^^^^^^^^^^^\n",
      "  File \"properties.pyx\", line 69, in pandas._libs.properties.AxisProperty.__set__\n",
      "  File \"/Users/jx/.pyenv/versions/3.12.2/envs/venv_3.12.2/lib/python3.12/site-packages/pandas/core/generic.py\", line 767, in _set_axis\n",
      "    self._mgr.set_axis(axis, labels)\n",
      "  File \"/Users/jx/.pyenv/versions/3.12.2/envs/venv_3.12.2/lib/python3.12/site-packages/pandas/core/internals/managers.py\", line 227, in set_axis\n",
      "    self._validate_set_axis(axis, new_labels)\n",
      "  File \"/Users/jx/.pyenv/versions/3.12.2/envs/venv_3.12.2/lib/python3.12/site-packages/pandas/core/internals/base.py\", line 85, in _validate_set_axis\n",
      "    raise ValueError(\n",
      "ValueError: Length mismatch: Expected axis has 0 elements, new values have 8 elements\n"
     ]
    },
    {
     "name": "stderr",
     "output_type": "stream",
     "text": [
      "ERROR:root:failed to update index_daily_em for 395005\n",
      "Traceback (most recent call last):\n",
      "  File \"/var/folders/fb/phz99gmn7cld34rh4f6ppmlw0000gn/T/ipykernel_16333/5112864.py\", line 4, in update_cn_indices\n",
      "    szide = ak.stock_zh_index_daily_em(f\"{src}{symbol}\")\n",
      "            ^^^^^^^^^^^^^^^^^^^^^^^^^^^^^^^^^^^^^^^^^^^^\n",
      "  File \"/Users/jx/ProgramData/python/akshare/akshare/index/index_stock_zh.py\", line 361, in stock_zh_index_daily_em\n",
      "    temp_df.columns = [\"date\", \"open\", \"close\", \"high\", \"low\", \"volume\", \"amount\", \"_\"]\n",
      "    ^^^^^^^^^^^^^^^\n",
      "  File \"/Users/jx/.pyenv/versions/3.12.2/envs/venv_3.12.2/lib/python3.12/site-packages/pandas/core/generic.py\", line 6218, in __setattr__\n",
      "    return object.__setattr__(self, name, value)\n",
      "           ^^^^^^^^^^^^^^^^^^^^^^^^^^^^^^^^^^^^^\n",
      "  File \"properties.pyx\", line 69, in pandas._libs.properties.AxisProperty.__set__\n",
      "  File \"/Users/jx/.pyenv/versions/3.12.2/envs/venv_3.12.2/lib/python3.12/site-packages/pandas/core/generic.py\", line 767, in _set_axis\n",
      "    self._mgr.set_axis(axis, labels)\n",
      "  File \"/Users/jx/.pyenv/versions/3.12.2/envs/venv_3.12.2/lib/python3.12/site-packages/pandas/core/internals/managers.py\", line 227, in set_axis\n",
      "    self._validate_set_axis(axis, new_labels)\n",
      "  File \"/Users/jx/.pyenv/versions/3.12.2/envs/venv_3.12.2/lib/python3.12/site-packages/pandas/core/internals/base.py\", line 85, in _validate_set_axis\n",
      "    raise ValueError(\n",
      "ValueError: Length mismatch: Expected axis has 0 elements, new values have 8 elements\n"
     ]
    },
    {
     "name": "stderr",
     "output_type": "stream",
     "text": [
      "ERROR:root:failed to update index_daily_em for 395004\n",
      "Traceback (most recent call last):\n",
      "  File \"/var/folders/fb/phz99gmn7cld34rh4f6ppmlw0000gn/T/ipykernel_16333/5112864.py\", line 4, in update_cn_indices\n",
      "    szide = ak.stock_zh_index_daily_em(f\"{src}{symbol}\")\n",
      "            ^^^^^^^^^^^^^^^^^^^^^^^^^^^^^^^^^^^^^^^^^^^^\n",
      "  File \"/Users/jx/ProgramData/python/akshare/akshare/index/index_stock_zh.py\", line 361, in stock_zh_index_daily_em\n",
      "    temp_df.columns = [\"date\", \"open\", \"close\", \"high\", \"low\", \"volume\", \"amount\", \"_\"]\n",
      "    ^^^^^^^^^^^^^^^\n",
      "  File \"/Users/jx/.pyenv/versions/3.12.2/envs/venv_3.12.2/lib/python3.12/site-packages/pandas/core/generic.py\", line 6218, in __setattr__\n",
      "    return object.__setattr__(self, name, value)\n",
      "           ^^^^^^^^^^^^^^^^^^^^^^^^^^^^^^^^^^^^^\n",
      "  File \"properties.pyx\", line 69, in pandas._libs.properties.AxisProperty.__set__\n",
      "  File \"/Users/jx/.pyenv/versions/3.12.2/envs/venv_3.12.2/lib/python3.12/site-packages/pandas/core/generic.py\", line 767, in _set_axis\n",
      "    self._mgr.set_axis(axis, labels)\n",
      "  File \"/Users/jx/.pyenv/versions/3.12.2/envs/venv_3.12.2/lib/python3.12/site-packages/pandas/core/internals/managers.py\", line 227, in set_axis\n",
      "    self._validate_set_axis(axis, new_labels)\n",
      "  File \"/Users/jx/.pyenv/versions/3.12.2/envs/venv_3.12.2/lib/python3.12/site-packages/pandas/core/internals/base.py\", line 85, in _validate_set_axis\n",
      "    raise ValueError(\n",
      "ValueError: Length mismatch: Expected axis has 0 elements, new values have 8 elements\n"
     ]
    },
    {
     "name": "stderr",
     "output_type": "stream",
     "text": [
      "ERROR:root:failed to update index_daily_em for 988201\n",
      "Traceback (most recent call last):\n",
      "  File \"/var/folders/fb/phz99gmn7cld34rh4f6ppmlw0000gn/T/ipykernel_16333/5112864.py\", line 4, in update_cn_indices\n",
      "    szide = ak.stock_zh_index_daily_em(f\"{src}{symbol}\")\n",
      "            ^^^^^^^^^^^^^^^^^^^^^^^^^^^^^^^^^^^^^^^^^^^^\n",
      "  File \"/Users/jx/ProgramData/python/akshare/akshare/index/index_stock_zh.py\", line 361, in stock_zh_index_daily_em\n",
      "    temp_df.columns = [\"date\", \"open\", \"close\", \"high\", \"low\", \"volume\", \"amount\", \"_\"]\n",
      "    ^^^^^^^^^^^^^^^\n",
      "  File \"/Users/jx/.pyenv/versions/3.12.2/envs/venv_3.12.2/lib/python3.12/site-packages/pandas/core/generic.py\", line 6218, in __setattr__\n",
      "    return object.__setattr__(self, name, value)\n",
      "           ^^^^^^^^^^^^^^^^^^^^^^^^^^^^^^^^^^^^^\n",
      "  File \"properties.pyx\", line 69, in pandas._libs.properties.AxisProperty.__set__\n",
      "  File \"/Users/jx/.pyenv/versions/3.12.2/envs/venv_3.12.2/lib/python3.12/site-packages/pandas/core/generic.py\", line 767, in _set_axis\n",
      "    self._mgr.set_axis(axis, labels)\n",
      "  File \"/Users/jx/.pyenv/versions/3.12.2/envs/venv_3.12.2/lib/python3.12/site-packages/pandas/core/internals/managers.py\", line 227, in set_axis\n",
      "    self._validate_set_axis(axis, new_labels)\n",
      "  File \"/Users/jx/.pyenv/versions/3.12.2/envs/venv_3.12.2/lib/python3.12/site-packages/pandas/core/internals/base.py\", line 85, in _validate_set_axis\n",
      "    raise ValueError(\n",
      "ValueError: Length mismatch: Expected axis has 0 elements, new values have 8 elements\n"
     ]
    },
    {
     "name": "stderr",
     "output_type": "stream",
     "text": [
      "ERROR:root:failed to update index_daily_em for 988107\n",
      "Traceback (most recent call last):\n",
      "  File \"/var/folders/fb/phz99gmn7cld34rh4f6ppmlw0000gn/T/ipykernel_16333/5112864.py\", line 4, in update_cn_indices\n",
      "    szide = ak.stock_zh_index_daily_em(f\"{src}{symbol}\")\n",
      "            ^^^^^^^^^^^^^^^^^^^^^^^^^^^^^^^^^^^^^^^^^^^^\n",
      "  File \"/Users/jx/ProgramData/python/akshare/akshare/index/index_stock_zh.py\", line 361, in stock_zh_index_daily_em\n",
      "    temp_df.columns = [\"date\", \"open\", \"close\", \"high\", \"low\", \"volume\", \"amount\", \"_\"]\n",
      "    ^^^^^^^^^^^^^^^\n",
      "  File \"/Users/jx/.pyenv/versions/3.12.2/envs/venv_3.12.2/lib/python3.12/site-packages/pandas/core/generic.py\", line 6218, in __setattr__\n",
      "    return object.__setattr__(self, name, value)\n",
      "           ^^^^^^^^^^^^^^^^^^^^^^^^^^^^^^^^^^^^^\n",
      "  File \"properties.pyx\", line 69, in pandas._libs.properties.AxisProperty.__set__\n",
      "  File \"/Users/jx/.pyenv/versions/3.12.2/envs/venv_3.12.2/lib/python3.12/site-packages/pandas/core/generic.py\", line 767, in _set_axis\n",
      "    self._mgr.set_axis(axis, labels)\n",
      "  File \"/Users/jx/.pyenv/versions/3.12.2/envs/venv_3.12.2/lib/python3.12/site-packages/pandas/core/internals/managers.py\", line 227, in set_axis\n",
      "    self._validate_set_axis(axis, new_labels)\n",
      "  File \"/Users/jx/.pyenv/versions/3.12.2/envs/venv_3.12.2/lib/python3.12/site-packages/pandas/core/internals/base.py\", line 85, in _validate_set_axis\n",
      "    raise ValueError(\n",
      "ValueError: Length mismatch: Expected axis has 0 elements, new values have 8 elements\n"
     ]
    },
    {
     "name": "stderr",
     "output_type": "stream",
     "text": [
      "ERROR:root:failed to update index_daily_em for 988106\n",
      "Traceback (most recent call last):\n",
      "  File \"/var/folders/fb/phz99gmn7cld34rh4f6ppmlw0000gn/T/ipykernel_16333/5112864.py\", line 4, in update_cn_indices\n",
      "    szide = ak.stock_zh_index_daily_em(f\"{src}{symbol}\")\n",
      "            ^^^^^^^^^^^^^^^^^^^^^^^^^^^^^^^^^^^^^^^^^^^^\n",
      "  File \"/Users/jx/ProgramData/python/akshare/akshare/index/index_stock_zh.py\", line 361, in stock_zh_index_daily_em\n",
      "    temp_df.columns = [\"date\", \"open\", \"close\", \"high\", \"low\", \"volume\", \"amount\", \"_\"]\n",
      "    ^^^^^^^^^^^^^^^\n",
      "  File \"/Users/jx/.pyenv/versions/3.12.2/envs/venv_3.12.2/lib/python3.12/site-packages/pandas/core/generic.py\", line 6218, in __setattr__\n",
      "    return object.__setattr__(self, name, value)\n",
      "           ^^^^^^^^^^^^^^^^^^^^^^^^^^^^^^^^^^^^^\n",
      "  File \"properties.pyx\", line 69, in pandas._libs.properties.AxisProperty.__set__\n",
      "  File \"/Users/jx/.pyenv/versions/3.12.2/envs/venv_3.12.2/lib/python3.12/site-packages/pandas/core/generic.py\", line 767, in _set_axis\n",
      "    self._mgr.set_axis(axis, labels)\n",
      "  File \"/Users/jx/.pyenv/versions/3.12.2/envs/venv_3.12.2/lib/python3.12/site-packages/pandas/core/internals/managers.py\", line 227, in set_axis\n",
      "    self._validate_set_axis(axis, new_labels)\n",
      "  File \"/Users/jx/.pyenv/versions/3.12.2/envs/venv_3.12.2/lib/python3.12/site-packages/pandas/core/internals/base.py\", line 85, in _validate_set_axis\n",
      "    raise ValueError(\n",
      "ValueError: Length mismatch: Expected axis has 0 elements, new values have 8 elements\n"
     ]
    },
    {
     "name": "stderr",
     "output_type": "stream",
     "text": [
      "ERROR:root:failed to update index_daily_em for 988007\n",
      "Traceback (most recent call last):\n",
      "  File \"/var/folders/fb/phz99gmn7cld34rh4f6ppmlw0000gn/T/ipykernel_16333/5112864.py\", line 4, in update_cn_indices\n",
      "    szide = ak.stock_zh_index_daily_em(f\"{src}{symbol}\")\n",
      "            ^^^^^^^^^^^^^^^^^^^^^^^^^^^^^^^^^^^^^^^^^^^^\n",
      "  File \"/Users/jx/ProgramData/python/akshare/akshare/index/index_stock_zh.py\", line 361, in stock_zh_index_daily_em\n",
      "    temp_df.columns = [\"date\", \"open\", \"close\", \"high\", \"low\", \"volume\", \"amount\", \"_\"]\n",
      "    ^^^^^^^^^^^^^^^\n",
      "  File \"/Users/jx/.pyenv/versions/3.12.2/envs/venv_3.12.2/lib/python3.12/site-packages/pandas/core/generic.py\", line 6218, in __setattr__\n",
      "    return object.__setattr__(self, name, value)\n",
      "           ^^^^^^^^^^^^^^^^^^^^^^^^^^^^^^^^^^^^^\n",
      "  File \"properties.pyx\", line 69, in pandas._libs.properties.AxisProperty.__set__\n",
      "  File \"/Users/jx/.pyenv/versions/3.12.2/envs/venv_3.12.2/lib/python3.12/site-packages/pandas/core/generic.py\", line 767, in _set_axis\n",
      "    self._mgr.set_axis(axis, labels)\n",
      "  File \"/Users/jx/.pyenv/versions/3.12.2/envs/venv_3.12.2/lib/python3.12/site-packages/pandas/core/internals/managers.py\", line 227, in set_axis\n",
      "    self._validate_set_axis(axis, new_labels)\n",
      "  File \"/Users/jx/.pyenv/versions/3.12.2/envs/venv_3.12.2/lib/python3.12/site-packages/pandas/core/internals/base.py\", line 85, in _validate_set_axis\n",
      "    raise ValueError(\n",
      "ValueError: Length mismatch: Expected axis has 0 elements, new values have 8 elements\n"
     ]
    },
    {
     "name": "stderr",
     "output_type": "stream",
     "text": [
      "ERROR:root:failed to update index_daily_em for 988006\n",
      "Traceback (most recent call last):\n",
      "  File \"/var/folders/fb/phz99gmn7cld34rh4f6ppmlw0000gn/T/ipykernel_16333/5112864.py\", line 4, in update_cn_indices\n",
      "    szide = ak.stock_zh_index_daily_em(f\"{src}{symbol}\")\n",
      "            ^^^^^^^^^^^^^^^^^^^^^^^^^^^^^^^^^^^^^^^^^^^^\n",
      "  File \"/Users/jx/ProgramData/python/akshare/akshare/index/index_stock_zh.py\", line 361, in stock_zh_index_daily_em\n",
      "    temp_df.columns = [\"date\", \"open\", \"close\", \"high\", \"low\", \"volume\", \"amount\", \"_\"]\n",
      "    ^^^^^^^^^^^^^^^\n",
      "  File \"/Users/jx/.pyenv/versions/3.12.2/envs/venv_3.12.2/lib/python3.12/site-packages/pandas/core/generic.py\", line 6218, in __setattr__\n",
      "    return object.__setattr__(self, name, value)\n",
      "           ^^^^^^^^^^^^^^^^^^^^^^^^^^^^^^^^^^^^^\n",
      "  File \"properties.pyx\", line 69, in pandas._libs.properties.AxisProperty.__set__\n",
      "  File \"/Users/jx/.pyenv/versions/3.12.2/envs/venv_3.12.2/lib/python3.12/site-packages/pandas/core/generic.py\", line 767, in _set_axis\n",
      "    self._mgr.set_axis(axis, labels)\n",
      "  File \"/Users/jx/.pyenv/versions/3.12.2/envs/venv_3.12.2/lib/python3.12/site-packages/pandas/core/internals/managers.py\", line 227, in set_axis\n",
      "    self._validate_set_axis(axis, new_labels)\n",
      "  File \"/Users/jx/.pyenv/versions/3.12.2/envs/venv_3.12.2/lib/python3.12/site-packages/pandas/core/internals/base.py\", line 85, in _validate_set_axis\n",
      "    raise ValueError(\n",
      "ValueError: Length mismatch: Expected axis has 0 elements, new values have 8 elements\n"
     ]
    },
    {
     "name": "stderr",
     "output_type": "stream",
     "text": [
      "ERROR:root:failed to update index_daily_em for 395034\n",
      "Traceback (most recent call last):\n",
      "  File \"/var/folders/fb/phz99gmn7cld34rh4f6ppmlw0000gn/T/ipykernel_16333/5112864.py\", line 4, in update_cn_indices\n",
      "    szide = ak.stock_zh_index_daily_em(f\"{src}{symbol}\")\n",
      "            ^^^^^^^^^^^^^^^^^^^^^^^^^^^^^^^^^^^^^^^^^^^^\n",
      "  File \"/Users/jx/ProgramData/python/akshare/akshare/index/index_stock_zh.py\", line 361, in stock_zh_index_daily_em\n",
      "    temp_df.columns = [\"date\", \"open\", \"close\", \"high\", \"low\", \"volume\", \"amount\", \"_\"]\n",
      "    ^^^^^^^^^^^^^^^\n",
      "  File \"/Users/jx/.pyenv/versions/3.12.2/envs/venv_3.12.2/lib/python3.12/site-packages/pandas/core/generic.py\", line 6218, in __setattr__\n",
      "    return object.__setattr__(self, name, value)\n",
      "           ^^^^^^^^^^^^^^^^^^^^^^^^^^^^^^^^^^^^^\n",
      "  File \"properties.pyx\", line 69, in pandas._libs.properties.AxisProperty.__set__\n",
      "  File \"/Users/jx/.pyenv/versions/3.12.2/envs/venv_3.12.2/lib/python3.12/site-packages/pandas/core/generic.py\", line 767, in _set_axis\n",
      "    self._mgr.set_axis(axis, labels)\n",
      "  File \"/Users/jx/.pyenv/versions/3.12.2/envs/venv_3.12.2/lib/python3.12/site-packages/pandas/core/internals/managers.py\", line 227, in set_axis\n",
      "    self._validate_set_axis(axis, new_labels)\n",
      "  File \"/Users/jx/.pyenv/versions/3.12.2/envs/venv_3.12.2/lib/python3.12/site-packages/pandas/core/internals/base.py\", line 85, in _validate_set_axis\n",
      "    raise ValueError(\n",
      "ValueError: Length mismatch: Expected axis has 0 elements, new values have 8 elements\n"
     ]
    },
    {
     "name": "stderr",
     "output_type": "stream",
     "text": [
      "ERROR:root:failed to update index_daily_em for 395015\n",
      "Traceback (most recent call last):\n",
      "  File \"/var/folders/fb/phz99gmn7cld34rh4f6ppmlw0000gn/T/ipykernel_16333/5112864.py\", line 4, in update_cn_indices\n",
      "    szide = ak.stock_zh_index_daily_em(f\"{src}{symbol}\")\n",
      "            ^^^^^^^^^^^^^^^^^^^^^^^^^^^^^^^^^^^^^^^^^^^^\n",
      "  File \"/Users/jx/ProgramData/python/akshare/akshare/index/index_stock_zh.py\", line 361, in stock_zh_index_daily_em\n",
      "    temp_df.columns = [\"date\", \"open\", \"close\", \"high\", \"low\", \"volume\", \"amount\", \"_\"]\n",
      "    ^^^^^^^^^^^^^^^\n",
      "  File \"/Users/jx/.pyenv/versions/3.12.2/envs/venv_3.12.2/lib/python3.12/site-packages/pandas/core/generic.py\", line 6218, in __setattr__\n",
      "    return object.__setattr__(self, name, value)\n",
      "           ^^^^^^^^^^^^^^^^^^^^^^^^^^^^^^^^^^^^^\n",
      "  File \"properties.pyx\", line 69, in pandas._libs.properties.AxisProperty.__set__\n",
      "  File \"/Users/jx/.pyenv/versions/3.12.2/envs/venv_3.12.2/lib/python3.12/site-packages/pandas/core/generic.py\", line 767, in _set_axis\n",
      "    self._mgr.set_axis(axis, labels)\n",
      "  File \"/Users/jx/.pyenv/versions/3.12.2/envs/venv_3.12.2/lib/python3.12/site-packages/pandas/core/internals/managers.py\", line 227, in set_axis\n",
      "    self._validate_set_axis(axis, new_labels)\n",
      "  File \"/Users/jx/.pyenv/versions/3.12.2/envs/venv_3.12.2/lib/python3.12/site-packages/pandas/core/internals/base.py\", line 85, in _validate_set_axis\n",
      "    raise ValueError(\n",
      "ValueError: Length mismatch: Expected axis has 0 elements, new values have 8 elements\n"
     ]
    }
   ],
   "source": [
    "# get daily historical data\n",
    "def update_cn_indices(symbol, src):\n",
    "    try:\n",
    "        szide = ak.stock_zh_index_daily_em(f\"{src}{symbol}\")\n",
    "\n",
    "        # if shide is empty, return immediately\n",
    "        if szide.empty:\n",
    "            return None\n",
    "\n",
    "        szide[\"symbol\"] = symbol\n",
    "        with alchemyEngine.begin() as conn:\n",
    "            ignore_on_conflict(\"index_daily_em\", conn, szide, [\"symbol\", \"date\"])\n",
    "\n",
    "    except Exception:\n",
    "        logging.error(f\"failed to update index_daily_em for {symbol}\", exc_info=True)\n",
    "        return None\n",
    "    return szide\n",
    "\n",
    "\n",
    "conn = alchemyEngine.connect()\n",
    "cn_index_fulllist = pd.read_sql(\"SELECT src, symbol FROM index_spot_em\", conn)\n",
    "conn.close()\n",
    "\n",
    "# get the number of CPU cores\n",
    "num_proc = int((multiprocessing.cpu_count() + 1) / 2.0)\n",
    "\n",
    "# Use ThreadPoolExecutor to calculate metrics in parallel\n",
    "with ThreadPoolExecutor(max_workers=num_proc) as executor:\n",
    "    futures = [\n",
    "        executor.submit(update_cn_indices, symbol, src)\n",
    "        for symbol, src in zip(cn_index_fulllist[\"symbol\"], cn_index_fulllist[\"src\"])\n",
    "    ]\n",
    "    results = [future.result() for future in futures]"
   ]
  },
  {
   "cell_type": "markdown",
   "metadata": {},
   "source": [
    "# Get HK Market Indices"
   ]
  },
  {
   "cell_type": "code",
   "execution_count": 12,
   "metadata": {
    "execution": {
     "iopub.execute_input": "2024-03-26T12:00:57.492717Z",
     "iopub.status.busy": "2024-03-26T12:00:57.491390Z",
     "iopub.status.idle": "2024-03-26T12:00:58.497139Z",
     "shell.execute_reply": "2024-03-26T12:00:58.495799Z"
    }
   },
   "outputs": [],
   "source": [
    "# refresh the list\n",
    "\n",
    "hk_index_list_df = ak.stock_hk_index_spot_em()\n",
    "hk_index_list_df = hk_index_list_df.rename(\n",
    "    columns={\n",
    "        \"序号\": \"seq\",\n",
    "        \"内部编号\": \"internal_code\",\n",
    "        \"代码\": \"symbol\",\n",
    "        \"名称\": \"name\",\n",
    "        \"最新价\": \"close\",\n",
    "        \"涨跌额\": \"change_amount\",\n",
    "        \"涨跌幅\": \"change_rate\",\n",
    "        \"今开\": \"open\",\n",
    "        \"最高\": \"high\",\n",
    "        \"最低\": \"low\",\n",
    "        \"昨收\": \"prev_close\",\n",
    "        \"成交量\": \"volume\",\n",
    "        \"成交额\": \"amount\",\n",
    "    }\n",
    ")\n",
    "\n",
    "# saveAsCsv(\"hk_index_spot_em\", df)\n",
    "\n",
    "with alchemyEngine.begin() as conn:\n",
    "    update_on_conflict(\"hk_index_spot_em\", conn, hk_index_list_df, [\"symbol\"])"
   ]
  },
  {
   "cell_type": "code",
   "execution_count": 13,
   "metadata": {
    "execution": {
     "iopub.execute_input": "2024-03-26T12:00:58.505926Z",
     "iopub.status.busy": "2024-03-26T12:00:58.505350Z",
     "iopub.status.idle": "2024-03-26T12:03:37.731012Z",
     "shell.execute_reply": "2024-03-26T12:03:37.728090Z"
    }
   },
   "outputs": [],
   "source": [
    "# get daily historical data\n",
    "def update_hk_indices(symbol):\n",
    "    try:\n",
    "        shide = ak.stock_hk_index_daily_em(symbol=symbol)\n",
    "\n",
    "        # if shide is empty, return immediately\n",
    "        if shide.empty:\n",
    "            return None\n",
    "        \n",
    "        shide[\"symbol\"] = symbol\n",
    "        shide = shide.rename(\n",
    "            columns={\n",
    "                \"latest\":\"close\",\n",
    "            }\n",
    "        )\n",
    "        with alchemyEngine.begin() as conn:\n",
    "            ignore_on_conflict(\"hk_index_daily_em\", conn, shide, [\"symbol\", \"date\"])\n",
    "\n",
    "    except Exception:\n",
    "        logging.error(f\"failed to update hk_index_daily_em for {symbol}\", exc_info=True)\n",
    "        return None\n",
    "    return shide\n",
    "\n",
    "# get the number of CPU cores\n",
    "num_proc = int((multiprocessing.cpu_count() + 1) / 2.0)\n",
    "\n",
    "# Use ThreadPoolExecutor to calculate metrics in parallel\n",
    "with ThreadPoolExecutor(max_workers=num_proc) as executor:\n",
    "    futures = [\n",
    "        executor.submit(update_hk_indices, symbol) for symbol in hk_index_list_df[\"symbol\"]\n",
    "    ]\n",
    "    results = [future.result() for future in futures]"
   ]
  },
  {
   "cell_type": "markdown",
   "metadata": {},
   "source": [
    "# Get US market indices"
   ]
  },
  {
   "cell_type": "code",
   "execution_count": 14,
   "metadata": {
    "execution": {
     "iopub.execute_input": "2024-03-26T12:03:37.754687Z",
     "iopub.status.busy": "2024-03-26T12:03:37.754073Z",
     "iopub.status.idle": "2024-03-26T12:03:45.619747Z",
     "shell.execute_reply": "2024-03-26T12:03:45.618708Z"
    }
   },
   "outputs": [],
   "source": [
    "idx_symbol_list = [\".IXIC\", \".DJI\", \".INX\", \".NDX\"]\n",
    "\n",
    "\n",
    "def update_us_indices(symbol):\n",
    "    try:\n",
    "        iuss = ak.index_us_stock_sina(symbol=symbol)\n",
    "        iuss['symbol'] = symbol\n",
    "        with alchemyEngine.begin() as conn:\n",
    "            update_on_conflict(\"us_index_daily_sina\", conn, iuss, [\"symbol\", \"date\"])\n",
    "\n",
    "    except Exception:\n",
    "        logging.error(\n",
    "            f\"failed to update us_index_daily_sina for {symbol}\", exc_info=True\n",
    "        )\n",
    "        return None\n",
    "    return iuss\n",
    "\n",
    "\n",
    "# get the number of CPU cores\n",
    "num_proc = int((multiprocessing.cpu_count() + 1) / 2.0)\n",
    "\n",
    "# Use ThreadPoolExecutor to calculate metrics in parallel\n",
    "with ThreadPoolExecutor(max_workers=num_proc) as executor:\n",
    "    futures = [executor.submit(update_us_indices, symbol) for symbol in idx_symbol_list]\n",
    "    results = [future.result() for future in futures]"
   ]
  },
  {
   "cell_type": "markdown",
   "metadata": {},
   "source": [
    "# Finally"
   ]
  },
  {
   "cell_type": "code",
   "execution_count": 15,
   "metadata": {
    "execution": {
     "iopub.execute_input": "2024-03-26T12:03:45.628888Z",
     "iopub.status.busy": "2024-03-26T12:03:45.628516Z",
     "iopub.status.idle": "2024-03-26T12:03:45.635076Z",
     "shell.execute_reply": "2024-03-26T12:03:45.634289Z"
    }
   },
   "outputs": [
    {
     "name": "stdout",
     "output_type": "stream",
     "text": [
      "Time taken: 1772.7928791046143 seconds\n"
     ]
    }
   ],
   "source": [
    "# calculate and print outthe time taken to execute all the codes above\n",
    "print(f\"Time taken: {time.time() - t_start} seconds\")"
   ]
  }
 ],
 "metadata": {
  "kernelspec": {
   "display_name": "venv_3.12.2",
   "language": "python",
   "name": "python3"
  },
  "language_info": {
   "codemirror_mode": {
    "name": "ipython",
    "version": 3
   },
   "file_extension": ".py",
   "mimetype": "text/x-python",
   "name": "python",
   "nbconvert_exporter": "python",
   "pygments_lexer": "ipython3",
   "version": "3.12.2"
  }
 },
 "nbformat": 4,
 "nbformat_minor": 2
}
